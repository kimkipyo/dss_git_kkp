{
 "cells": [
  {
   "cell_type": "markdown",
   "metadata": {},
   "source": [
    "## 문제 1"
   ]
  },
  {
   "cell_type": "markdown",
   "metadata": {},
   "source": [
    "### Labeled Faces in Wild 얼굴 이미지 사진에 대해 다음 코드와 같이 데이터를 설정한 뒤, 다음 조건을 만족하는 분류 모형을 만들고 평가하세요."
   ]
  },
  {
   "cell_type": "code",
   "execution_count": 1,
   "metadata": {
    "collapsed": false
   },
   "outputs": [
    {
     "name": "stdout",
     "output_type": "stream",
     "text": [
      "(62, 47)\n"
     ]
    }
   ],
   "source": [
    "from sklearn.datasets import fetch_lfw_people\n",
    "from sklearn.cross_validation import train_test_split\n",
    "\n",
    "lfw_people = fetch_lfw_people(min_faces_per_person=50, resize=0.5)\n",
    "X = lfw_people.data\n",
    "y = lfw_people.target\n",
    "\n",
    "print(lfw_people.images[0].shape)\n",
    "\n",
    "X_train, X_test, y_train, y_test = train_test_split(X, y, test_size=0.2, random_state=1)"
   ]
  },
  {
   "cell_type": "markdown",
   "metadata": {},
   "source": [
    "#### 1. 컴포넌트가 100개인 PCA와 slack variable weight C=1000인 서포트 벡터 머신을 파이프라인으로 연결하여 분류 모형을 만드세요.\n",
    "#### 2. X_train, y_train 데이터로 분류 모형을 fitting 하고 X_test, y_test 데이터로 성능을 평가하세요.(classification_report사용)"
   ]
  },
  {
   "cell_type": "code",
   "execution_count": 2,
   "metadata": {
    "collapsed": true
   },
   "outputs": [],
   "source": [
    "from sklearn.decomposition import PCA\n",
    "from sklearn.svm import SVC\n",
    "from sklearn.pipeline import Pipeline\n",
    "from sklearn.metrics import classification_report, confusion_matrix"
   ]
  },
  {
   "cell_type": "code",
   "execution_count": 3,
   "metadata": {
    "collapsed": false
   },
   "outputs": [
    {
     "name": "stdout",
     "output_type": "stream",
     "text": [
      "                   precision    recall  f1-score   support\n",
      "\n",
      "     Ariel Sharon       0.62      0.77      0.69        13\n",
      "     Colin Powell       0.83      0.80      0.82        50\n",
      "  Donald Rumsfeld       0.61      0.85      0.71        20\n",
      "    George W Bush       0.87      0.84      0.85       118\n",
      "Gerhard Schroeder       0.59      0.53      0.56        19\n",
      "      Hugo Chavez       0.77      0.77      0.77        13\n",
      "   Jacques Chirac       0.25      0.17      0.20         6\n",
      "    Jean Chretien       0.80      0.67      0.73        12\n",
      "    John Ashcroft       1.00      0.75      0.86         8\n",
      "Junichiro Koizumi       1.00      0.93      0.97        15\n",
      "  Serena Williams       0.82      0.90      0.86        10\n",
      "       Tony Blair       0.55      0.61      0.58        28\n",
      "\n",
      "      avg / total       0.78      0.77      0.77       312\n",
      "\n",
      "[[10  0  0  1  0  0  0  1  0  0  1  0]\n",
      " [ 3 40  1  3  0  0  1  0  0  0  1  1]\n",
      " [ 1  0 17  1  0  0  0  0  0  0  0  1]\n",
      " [ 0  5  4 99  2  1  1  0  0  0  0  6]\n",
      " [ 0  0  2  1 10  2  0  0  0  0  0  4]\n",
      " [ 1  0  0  2  0 10  0  0  0  0  0  0]\n",
      " [ 0  1  1  2  0  0  1  1  0  0  0  0]\n",
      " [ 1  0  2  1  0  0  0  8  0  0  0  0]\n",
      " [ 0  0  0  0  0  0  0  0  6  0  0  2]\n",
      " [ 0  1  0  0  0  0  0  0  0 14  0  0]\n",
      " [ 0  0  1  0  0  0  0  0  0  0  9  0]\n",
      " [ 0  1  0  4  5  0  1  0  0  0  0 17]]\n"
     ]
    }
   ],
   "source": [
    "model = Pipeline([('pca', PCA(n_components=100)), ('svc', SVC(kernel='linear', C=1000))])\n",
    "model.fit(X_train, y_train)\n",
    "y_pred = model.predict(X_test)\n",
    "print(classification_report(y_test, y_pred, target_names=lfw_people.target_names))\n",
    "print(confusion_matrix(y_test, y_pred))"
   ]
  },
  {
   "cell_type": "markdown",
   "metadata": {},
   "source": [
    "#### 3. RBF커널을 사용한 경우에 최적의 gamma 값을 찾아보세요."
   ]
  },
  {
   "cell_type": "code",
   "execution_count": 4,
   "metadata": {
    "collapsed": false
   },
   "outputs": [
    {
     "name": "stdout",
     "output_type": "stream",
     "text": [
      "                   precision    recall  f1-score   support\n",
      "\n",
      "     Ariel Sharon       0.65      0.85      0.73        13\n",
      "     Colin Powell       0.88      0.84      0.86        50\n",
      "  Donald Rumsfeld       0.74      0.85      0.79        20\n",
      "    George W Bush       0.87      0.89      0.88       118\n",
      "Gerhard Schroeder       0.74      0.74      0.74        19\n",
      "      Hugo Chavez       0.75      0.69      0.72        13\n",
      "   Jacques Chirac       0.00      0.00      0.00         6\n",
      "    Jean Chretien       0.80      0.67      0.73        12\n",
      "    John Ashcroft       1.00      0.75      0.86         8\n",
      "Junichiro Koizumi       0.93      0.93      0.93        15\n",
      "  Serena Williams       0.90      0.90      0.90        10\n",
      "       Tony Blair       0.69      0.71      0.70        28\n",
      "\n",
      "      avg / total       0.81      0.82      0.81       312\n",
      "\n",
      "[[ 11   0   0   0   0   0   0   1   0   0   1   0]\n",
      " [  3  42   0   3   0   1   0   0   0   0   0   1]\n",
      " [  1   0  17   1   0   0   0   0   0   0   0   1]\n",
      " [  0   3   3 105   2   1   1   0   0   0   0   3]\n",
      " [  0   0   1   1  14   1   0   0   0   0   0   2]\n",
      " [  0   1   0   2   0   9   0   0   0   0   0   1]\n",
      " [  0   1   1   2   1   0   0   1   0   0   0   0]\n",
      " [  2   0   1   0   0   0   0   8   0   0   0   1]\n",
      " [  0   0   0   2   0   0   0   0   6   0   0   0]\n",
      " [  0   0   0   0   0   0   1   0   0  14   0   0]\n",
      " [  0   0   0   1   0   0   0   0   0   0   9   0]\n",
      " [  0   1   0   4   2   0   0   0   0   1   0  20]]\n"
     ]
    }
   ],
   "source": [
    "model = Pipeline([('pca', PCA(n_components=100)),   #PCA는 성능이 더 좋아지기 힘들다.\n",
    "                 ('svc', SVC(kernel='rbf', C=1000, gamma=0.00000009))]) #C가 너무 커서 엄청나게 오버피팅이 일어난 상태. 그래서 1/10씩 줄이기\n",
    "model.fit(X_train, y_train)\n",
    "y_pred = model.predict(X_test)\n",
    "print(classification_report(y_test, y_pred, target_names=lfw_people.target_names))\n",
    "print(confusion_matrix(y_test, y_pred))"
   ]
  },
  {
   "cell_type": "markdown",
   "metadata": {},
   "source": [
    "번외로 PCA가 없을 때 성능이 더 올라가는 경우 증명"
   ]
  },
  {
   "cell_type": "code",
   "execution_count": 5,
   "metadata": {
    "collapsed": false
   },
   "outputs": [
    {
     "name": "stdout",
     "output_type": "stream",
     "text": [
      "                   precision    recall  f1-score   support\n",
      "\n",
      "     Ariel Sharon       0.77      0.77      0.77        13\n",
      "     Colin Powell       0.88      0.90      0.89        50\n",
      "  Donald Rumsfeld       0.71      0.85      0.77        20\n",
      "    George W Bush       0.88      0.92      0.90       118\n",
      "Gerhard Schroeder       0.94      0.84      0.89        19\n",
      "      Hugo Chavez       0.90      0.69      0.78        13\n",
      "   Jacques Chirac       0.33      0.17      0.22         6\n",
      "    Jean Chretien       0.80      0.67      0.73        12\n",
      "    John Ashcroft       1.00      0.75      0.86         8\n",
      "Junichiro Koizumi       0.93      0.93      0.93        15\n",
      "  Serena Williams       0.90      0.90      0.90        10\n",
      "       Tony Blair       0.73      0.79      0.76        28\n",
      "\n",
      "      avg / total       0.85      0.85      0.85       312\n",
      "\n",
      "[[ 10   0   0   1   0   0   0   1   0   0   1   0]\n",
      " [  0  45   0   3   0   0   1   0   0   0   0   1]\n",
      " [  1   0  17   1   0   0   0   0   0   0   0   1]\n",
      " [  0   3   2 108   0   1   1   0   0   0   0   3]\n",
      " [  0   0   1   0  16   0   0   0   0   0   0   2]\n",
      " [  0   1   0   2   0   9   0   0   0   0   0   1]\n",
      " [  0   1   2   2   0   0   1   0   0   0   0   0]\n",
      " [  2   0   1   1   0   0   0   8   0   0   0   0]\n",
      " [  0   0   0   2   0   0   0   0   6   0   0   0]\n",
      " [  0   0   0   1   0   0   0   0   0  14   0   0]\n",
      " [  0   0   1   0   0   0   0   0   0   0   9   0]\n",
      " [  0   1   0   2   1   0   0   1   0   1   0  22]]\n"
     ]
    }
   ],
   "source": [
    "model = SVC(kernel='rbf', C=1000, gamma=0.00000009)\n",
    "model.fit(X_train, y_train)\n",
    "y_pred = model.predict(X_test)\n",
    "print(classification_report(y_test, y_pred, target_names=lfw_people.target_names))\n",
    "print(confusion_matrix(y_test, y_pred))"
   ]
  },
  {
   "cell_type": "markdown",
   "metadata": {},
   "source": [
    "## 문제 2"
   ]
  },
  {
   "cell_type": "markdown",
   "metadata": {},
   "source": [
    "### 문제 1과 같은 데이터에 대해 랜덤 포레스트 모형을 사용하여 분류 작업을 실행하고 다음 그림과 같이 가장 영향력이 큰 픽셀 10개의 위치를 표시하세요."
   ]
  },
  {
   "cell_type": "code",
   "execution_count": 1,
   "metadata": {
    "collapsed": true
   },
   "outputs": [],
   "source": [
    "from sklearn.ensemble import RandomForestClassifier"
   ]
  },
  {
   "cell_type": "code",
   "execution_count": 2,
   "metadata": {
    "collapsed": false
   },
   "outputs": [
    {
     "ename": "NameError",
     "evalue": "name 'X_train' is not defined",
     "output_type": "error",
     "traceback": [
      "\u001b[1;31m---------------------------------------------------------------------------\u001b[0m",
      "\u001b[1;31mNameError\u001b[0m                                 Traceback (most recent call last)",
      "\u001b[1;32m<ipython-input-2-b4598348d91e>\u001b[0m in \u001b[0;36m<module>\u001b[1;34m()\u001b[0m\n\u001b[0;32m      1\u001b[0m \u001b[0mmodel\u001b[0m \u001b[1;33m=\u001b[0m \u001b[0mRandomForestClassifier\u001b[0m\u001b[1;33m(\u001b[0m\u001b[0mn_estimators\u001b[0m\u001b[1;33m=\u001b[0m\u001b[1;36m50\u001b[0m\u001b[1;33m)\u001b[0m\u001b[1;33m\u001b[0m\u001b[0m\n\u001b[1;32m----> 2\u001b[1;33m \u001b[0mmodel\u001b[0m\u001b[1;33m.\u001b[0m\u001b[0mfit\u001b[0m\u001b[1;33m(\u001b[0m\u001b[0mX_train\u001b[0m\u001b[1;33m,\u001b[0m \u001b[0my_train\u001b[0m\u001b[1;33m)\u001b[0m\u001b[1;33m\u001b[0m\u001b[0m\n\u001b[0m\u001b[0;32m      3\u001b[0m \u001b[0my_pred\u001b[0m \u001b[1;33m=\u001b[0m \u001b[0mmodel\u001b[0m\u001b[1;33m.\u001b[0m\u001b[0mpredict\u001b[0m\u001b[1;33m(\u001b[0m\u001b[0mX_test\u001b[0m\u001b[1;33m)\u001b[0m\u001b[1;33m\u001b[0m\u001b[0m\n\u001b[0;32m      4\u001b[0m \u001b[0mprint\u001b[0m\u001b[1;33m(\u001b[0m\u001b[0mclassification_report\u001b[0m\u001b[1;33m(\u001b[0m\u001b[0my_test\u001b[0m\u001b[1;33m,\u001b[0m \u001b[0my_pred\u001b[0m\u001b[1;33m,\u001b[0m \u001b[0mtarget_names\u001b[0m\u001b[1;33m=\u001b[0m\u001b[0mlfw_people\u001b[0m\u001b[1;33m.\u001b[0m\u001b[0mtarget_names\u001b[0m\u001b[1;33m)\u001b[0m\u001b[1;33m)\u001b[0m\u001b[1;33m\u001b[0m\u001b[0m\n\u001b[0;32m      5\u001b[0m \u001b[0mprint\u001b[0m\u001b[1;33m(\u001b[0m\u001b[0mconfusion_matrix\u001b[0m\u001b[1;33m(\u001b[0m\u001b[0my_test\u001b[0m\u001b[1;33m,\u001b[0m \u001b[0my_pred\u001b[0m\u001b[1;33m)\u001b[0m\u001b[1;33m)\u001b[0m\u001b[1;33m\u001b[0m\u001b[0m\n",
      "\u001b[1;31mNameError\u001b[0m: name 'X_train' is not defined"
     ]
    }
   ],
   "source": [
    "model = RandomForestClassifier(n_estimators=50)\n",
    "model.fit(X_train, y_train)\n",
    "y_pred = model.predict(X_test)\n",
    "print(classification_report(y_test, y_pred, target_names=lfw_people.target_names))\n",
    "print(confusion_matrix(y_test, y_pred))\n",
    "#0.63이어도 0.5 이상이기만 하면 RF의 성능은 쓸만한 것으로 평가된다."
   ]
  },
  {
   "cell_type": "code",
   "execution_count": 8,
   "metadata": {
    "collapsed": true
   },
   "outputs": [],
   "source": [
    "a = [1,2,3,4,5,6,7]"
   ]
  },
  {
   "cell_type": "code",
   "execution_count": 9,
   "metadata": {
    "collapsed": false
   },
   "outputs": [
    {
     "data": {
      "text/plain": [
       "array([0, 1, 2, 3, 4, 5, 6], dtype=int64)"
      ]
     },
     "execution_count": 9,
     "metadata": {},
     "output_type": "execute_result"
    }
   ],
   "source": [
    "np.argsort(a)"
   ]
  },
  {
   "cell_type": "code",
   "execution_count": 10,
   "metadata": {
    "collapsed": false
   },
   "outputs": [
    {
     "data": {
      "text/plain": [
       "array([6, 5, 4, 3, 2], dtype=int64)"
      ]
     },
     "execution_count": 10,
     "metadata": {},
     "output_type": "execute_result"
    }
   ],
   "source": [
    "np.argsort(a)[::-1][:5]"
   ]
  },
  {
   "cell_type": "code",
   "execution_count": 11,
   "metadata": {
    "collapsed": false,
    "scrolled": true
   },
   "outputs": [
    {
     "data": {
      "text/plain": [
       "<zip at 0xb301f88>"
      ]
     },
     "execution_count": 11,
     "metadata": {},
     "output_type": "execute_result"
    }
   ],
   "source": [
    "ids = np.argsort(model.feature_importances_)[::-1][:10]   #argsort는 가장 작은 것부터 큰 것 순서대로 나오게 된다.\n",
    "zip(ids % 47, ids // 47)   # %는 나머지 이고, //는 몫이다."
   ]
  },
  {
   "cell_type": "code",
   "execution_count": 12,
   "metadata": {
    "collapsed": false
   },
   "outputs": [
    {
     "data": {
      "text/plain": [
       "array([ 92,  45,  48,  94, 329,  47, 470,  46,  91, 972], dtype=int64)"
      ]
     },
     "execution_count": 12,
     "metadata": {},
     "output_type": "execute_result"
    }
   ],
   "source": [
    "ids"
   ]
  },
  {
   "cell_type": "code",
   "execution_count": 13,
   "metadata": {
    "collapsed": false
   },
   "outputs": [
    {
     "data": {
      "image/png": "[encoded data removed]",
      "text/plain": [
       "<matplotlib.figure.Figure at 0xb2bfdd8>"
      ]
     },
     "metadata": {},
     "output_type": "display_data"
    }
   ],
   "source": [
    "importances = model.feature_importances_.reshape((62, 47))\n",
    "plt.imshow(importances, interpolation=\"nearest\", cmap=plt.cm.bone)\n",
    "plt.scatter(ids % 47, ids // 47, facecolors='none', edgecolors='w', linewidths=2, s=300, alpha=0.5)\n",
    "plt.grid(False)\n",
    "plt.show()"
   ]
  }
 ],
 "metadata": {
  "anaconda-cloud": {},
  "kernelspec": {
   "display_name": "Python [Root]",
   "language": "python",
   "name": "Python [Root]"
  },
  "language_info": {
   "codemirror_mode": {
    "name": "ipython",
    "version": 3
   },
   "file_extension": ".py",
   "mimetype": "text/x-python",
   "name": "python",
   "nbconvert_exporter": "python",
   "pygments_lexer": "ipython3",
   "version": "3.5.1"
  }
 },
 "nbformat": 4,
 "nbformat_minor": 0
}
