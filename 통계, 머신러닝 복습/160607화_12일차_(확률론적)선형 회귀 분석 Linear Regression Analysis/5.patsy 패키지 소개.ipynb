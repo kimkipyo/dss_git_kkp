{
 "cells": [
  {
   "cell_type": "markdown",
   "metadata": {},
   "source": [
    "# patsy 패키지 소개"
   ]
  },
  {
   "cell_type": "markdown",
   "metadata": {
    "collapsed": true
   },
   "source": [
    "* 회귀 분석 전처리 패키지\n",
    "* encoding/transform/design matrix 기능\n",
    "* R-style formula 문자열 지원"
   ]
  },
  {
   "cell_type": "markdown",
   "metadata": {},
   "source": [
    "## design matrix\n",
    "\n",
    "* `dmatrix(fomula[, data])`\n",
    " * R-style formula 문자열을 받아서 X matrix 생성\n",
    " * 자동으로 intercept (bias) column 생성\n",
    " * local namespace에서 변수를 찾음\n",
    " * `data` parameter에 pandas DataFrame을 주면 column lable에서 변수를 찾음"
   ]
  },
  {
   "cell_type": "code",
   "execution_count": 1,
   "metadata": {
    "collapsed": true
   },
   "outputs": [],
   "source": [
    "from patsy import dmatrix, dmatrices"
   ]
  },
  {
   "cell_type": "code",
   "execution_count": 3,
   "metadata": {
    "collapsed": false
   },
   "outputs": [
    {
     "data": {
      "text/plain": [
       "array([ 0.79172504,  0.52889492,  0.56804456,  0.92559664,  0.07103606])"
      ]
     },
     "execution_count": 3,
     "metadata": {},
     "output_type": "execute_result"
    }
   ],
   "source": [
    "np.random.rand(5)"
   ]
  },
  {
   "cell_type": "code",
   "execution_count": 2,
   "metadata": {
    "collapsed": false
   },
   "outputs": [
    {
     "data": {
      "text/plain": [
       "(array([ 10.5488135 ,  10.71518937,  10.60276338,  10.54488318,  10.4236548 ]),\n",
       " array([ 6.45894113,  4.37587211,  8.91773001,  9.63662761,  3.83441519]))"
      ]
     },
     "execution_count": 2,
     "metadata": {},
     "output_type": "execute_result"
    }
   ],
   "source": [
    "np.random.seed(0)\n",
    "x1 = np.random.rand(5) + 10\n",
    "x2 = np.random.rand(5) * 10\n",
    "x1, x2"
   ]
  },
  {
   "cell_type": "code",
   "execution_count": 4,
   "metadata": {
    "collapsed": false
   },
   "outputs": [
    {
     "data": {
      "text/plain": [
       "DesignMatrix with shape (5, 2)\n",
       "  Intercept        x1\n",
       "          1  10.54881\n",
       "          1  10.71519\n",
       "          1  10.60276\n",
       "          1  10.54488\n",
       "          1  10.42365\n",
       "  Terms:\n",
       "    'Intercept' (column 0)\n",
       "    'x1' (column 1)"
      ]
     },
     "execution_count": 4,
     "metadata": {},
     "output_type": "execute_result"
    }
   ],
   "source": [
    "dmatrix(\"x1\")"
   ]
  },
  {
   "cell_type": "markdown",
   "metadata": {},
   "source": [
    "## R-style formula\n",
    "\n",
    "| 기호 | 설명 |\n",
    "|-|-|\n",
    "|`+`| 설명 변수 추가 |\n",
    "|`-`| 설명 변수 제거 |\n",
    "|1, 0| intercept. (제거시 사용) |\n",
    "|`:`| interaction (곱) |\n",
    "|`*`| `a*b = a + b + a:b` |\n",
    "|`/`| `a/b = a + a:b` |\n",
    "|`~`| 종속 - 독립 관계 |"
   ]
  },
  {
   "cell_type": "code",
   "execution_count": 6,
   "metadata": {
    "collapsed": false
   },
   "outputs": [
    {
     "data": {
      "text/plain": [
       "DesignMatrix with shape (5, 1)\n",
       "        x1\n",
       "  10.54881\n",
       "  10.71519\n",
       "  10.60276\n",
       "  10.54488\n",
       "  10.42365\n",
       "  Terms:\n",
       "    'x1' (column 0)"
      ]
     },
     "execution_count": 6,
     "metadata": {},
     "output_type": "execute_result"
    }
   ],
   "source": [
    "dmatrix(\"x1 - 1\")"
   ]
  },
  {
   "cell_type": "code",
   "execution_count": 9,
   "metadata": {
    "collapsed": false
   },
   "outputs": [
    {
     "data": {
      "text/plain": [
       "DesignMatrix with shape (5, 1)\n",
       "        x1\n",
       "  10.54881\n",
       "  10.71519\n",
       "  10.60276\n",
       "  10.54488\n",
       "  10.42365\n",
       "  Terms:\n",
       "    'x1' (column 0)"
      ]
     },
     "execution_count": 9,
     "metadata": {},
     "output_type": "execute_result"
    }
   ],
   "source": [
    "dmatrix(\"x1 + 0\")"
   ]
  },
  {
   "cell_type": "code",
   "execution_count": 10,
   "metadata": {
    "collapsed": false
   },
   "outputs": [
    {
     "data": {
      "text/plain": [
       "DesignMatrix with shape (5, 3)\n",
       "  Intercept        x1       x2\n",
       "          1  10.54881  6.45894\n",
       "          1  10.71519  4.37587\n",
       "          1  10.60276  8.91773\n",
       "          1  10.54488  9.63663\n",
       "          1  10.42365  3.83442\n",
       "  Terms:\n",
       "    'Intercept' (column 0)\n",
       "    'x1' (column 1)\n",
       "    'x2' (column 2)"
      ]
     },
     "execution_count": 10,
     "metadata": {},
     "output_type": "execute_result"
    }
   ],
   "source": [
    "dmatrix(\"x1 + x2\")"
   ]
  },
  {
   "cell_type": "code",
   "execution_count": 11,
   "metadata": {
    "collapsed": false
   },
   "outputs": [
    {
     "data": {
      "text/plain": [
       "DesignMatrix with shape (5, 2)\n",
       "        x1       x2\n",
       "  10.54881  6.45894\n",
       "  10.71519  4.37587\n",
       "  10.60276  8.91773\n",
       "  10.54488  9.63663\n",
       "  10.42365  3.83442\n",
       "  Terms:\n",
       "    'x1' (column 0)\n",
       "    'x2' (column 1)"
      ]
     },
     "execution_count": 11,
     "metadata": {},
     "output_type": "execute_result"
    }
   ],
   "source": [
    "dmatrix(\"x1 + x2 - 1\")"
   ]
  },
  {
   "cell_type": "code",
   "execution_count": 13,
   "metadata": {
    "collapsed": false
   },
   "outputs": [
    {
     "data": {
      "text/html": [
       "<div>\n",
       "<table border=\"1\" class=\"dataframe\">\n",
       "  <thead>\n",
       "    <tr style=\"text-align: right;\">\n",
       "      <th></th>\n",
       "      <th>x1</th>\n",
       "      <th>x2</th>\n",
       "    </tr>\n",
       "  </thead>\n",
       "  <tbody>\n",
       "    <tr>\n",
       "      <th>0</th>\n",
       "      <td>10.548814</td>\n",
       "      <td>6.458941</td>\n",
       "    </tr>\n",
       "    <tr>\n",
       "      <th>1</th>\n",
       "      <td>10.715189</td>\n",
       "      <td>4.375872</td>\n",
       "    </tr>\n",
       "    <tr>\n",
       "      <th>2</th>\n",
       "      <td>10.602763</td>\n",
       "      <td>8.917730</td>\n",
       "    </tr>\n",
       "    <tr>\n",
       "      <th>3</th>\n",
       "      <td>10.544883</td>\n",
       "      <td>9.636628</td>\n",
       "    </tr>\n",
       "    <tr>\n",
       "      <th>4</th>\n",
       "      <td>10.423655</td>\n",
       "      <td>3.834415</td>\n",
       "    </tr>\n",
       "  </tbody>\n",
       "</table>\n",
       "</div>"
      ],
      "text/plain": [
       "          x1        x2\n",
       "0  10.548814  6.458941\n",
       "1  10.715189  4.375872\n",
       "2  10.602763  8.917730\n",
       "3  10.544883  9.636628\n",
       "4  10.423655  3.834415"
      ]
     },
     "execution_count": 13,
     "metadata": {},
     "output_type": "execute_result"
    }
   ],
   "source": [
    "df = pd.DataFrame(np.array([x1, x2]).T, columns=[\"x1\", \"x2\"])\n",
    "df"
   ]
  },
  {
   "cell_type": "code",
   "execution_count": 14,
   "metadata": {
    "collapsed": false
   },
   "outputs": [
    {
     "data": {
      "text/plain": [
       "DesignMatrix with shape (5, 2)\n",
       "        x1       x2\n",
       "  10.54881  6.45894\n",
       "  10.71519  4.37587\n",
       "  10.60276  8.91773\n",
       "  10.54488  9.63663\n",
       "  10.42365  3.83442\n",
       "  Terms:\n",
       "    'x1' (column 0)\n",
       "    'x2' (column 1)"
      ]
     },
     "execution_count": 14,
     "metadata": {},
     "output_type": "execute_result"
    }
   ],
   "source": [
    "dmatrix(\"x1 + x2 - 1\", data=df)"
   ]
  },
  {
   "cell_type": "markdown",
   "metadata": {},
   "source": [
    "## 변환(Transform)\n",
    "\n",
    "* numpy 함수 이름 사용 가능\n",
    "* 사용자 정의 함수 사용 가능\n",
    "* patsy 전용 함수 이름 사용 가능\n",
    "   * `center(x)`\n",
    "   * `standardize(x)`\n",
    "   * `scale(x)`\n"
   ]
  },
  {
   "cell_type": "code",
   "execution_count": 15,
   "metadata": {
    "collapsed": false
   },
   "outputs": [
    {
     "data": {
      "text/plain": [
       "DesignMatrix with shape (5, 3)\n",
       "  Intercept        x1  np.log(np.abs(x2))\n",
       "          1  10.54881             1.86547\n",
       "          1  10.71519             1.47611\n",
       "          1  10.60276             2.18804\n",
       "          1  10.54488             2.26557\n",
       "          1  10.42365             1.34402\n",
       "  Terms:\n",
       "    'Intercept' (column 0)\n",
       "    'x1' (column 1)\n",
       "    'np.log(np.abs(x2))' (column 2)"
      ]
     },
     "execution_count": 15,
     "metadata": {},
     "output_type": "execute_result"
    }
   ],
   "source": [
    "dmatrix(\"x1 + np.log(np.abs(x2))\", data=df)"
   ]
  },
  {
   "cell_type": "code",
   "execution_count": 16,
   "metadata": {
    "collapsed": false
   },
   "outputs": [
    {
     "data": {
      "text/plain": [
       "DesignMatrix with shape (5, 2)\n",
       "  Intercept  doubleit(x1)\n",
       "          1      21.09763\n",
       "          1      21.43038\n",
       "          1      21.20553\n",
       "          1      21.08977\n",
       "          1      20.84731\n",
       "  Terms:\n",
       "    'Intercept' (column 0)\n",
       "    'doubleit(x1)' (column 1)"
      ]
     },
     "execution_count": 16,
     "metadata": {},
     "output_type": "execute_result"
    }
   ],
   "source": [
    "def doubleit(x):\n",
    "    return 2 * x\n",
    "\n",
    "dmatrix(\"doubleit(x1)\", data=df)"
   ]
  },
  {
   "cell_type": "code",
   "execution_count": 17,
   "metadata": {
    "collapsed": false
   },
   "outputs": [
    {
     "data": {
      "text/plain": [
       "DesignMatrix with shape (5, 3)\n",
       "  Intercept  center(x1)  standardize(x2)\n",
       "          1    -0.01825         -0.07965\n",
       "          1     0.14813         -0.97279\n",
       "          1     0.03570          0.97458\n",
       "          1    -0.02218          1.28282\n",
       "          1    -0.14341         -1.20495\n",
       "  Terms:\n",
       "    'Intercept' (column 0)\n",
       "    'center(x1)' (column 1)\n",
       "    'standardize(x2)' (column 2)"
      ]
     },
     "execution_count": 17,
     "metadata": {},
     "output_type": "execute_result"
    }
   ],
   "source": [
    "dmatrix(\"center(x1) + standardize(x2)\", data=df)"
   ]
  },
  {
   "cell_type": "markdown",
   "metadata": {},
   "source": [
    "## 변수 보호 `I()`\n",
    " \n",
    "* 다른 formula 기호로부터 보호 \n",
    " "
   ]
  },
  {
   "cell_type": "code",
   "execution_count": 18,
   "metadata": {
    "collapsed": false
   },
   "outputs": [
    {
     "data": {
      "text/plain": [
       "DesignMatrix with shape (5, 3)\n",
       "  Intercept        x1       x2\n",
       "          1  10.54881  6.45894\n",
       "          1  10.71519  4.37587\n",
       "          1  10.60276  8.91773\n",
       "          1  10.54488  9.63663\n",
       "          1  10.42365  3.83442\n",
       "  Terms:\n",
       "    'Intercept' (column 0)\n",
       "    'x1' (column 1)\n",
       "    'x2' (column 2)"
      ]
     },
     "execution_count": 18,
     "metadata": {},
     "output_type": "execute_result"
    }
   ],
   "source": [
    "dmatrix(\"x1 + x2\", data=df)"
   ]
  },
  {
   "cell_type": "code",
   "execution_count": 20,
   "metadata": {
    "collapsed": false,
    "scrolled": false
   },
   "outputs": [
    {
     "data": {
      "text/plain": [
       "DesignMatrix with shape (5, 2)\n",
       "  Intercept  I(x1 + x2)\n",
       "          1    17.00775\n",
       "          1    15.09106\n",
       "          1    19.52049\n",
       "          1    20.18151\n",
       "          1    14.25807\n",
       "  Terms:\n",
       "    'Intercept' (column 0)\n",
       "    'I(x1 + x2)' (column 1)"
      ]
     },
     "execution_count": 20,
     "metadata": {},
     "output_type": "execute_result"
    }
   ],
   "source": [
    "dmatrix(\"I(x1 + x2)\", data=df)"
   ]
  },
  {
   "cell_type": "markdown",
   "metadata": {},
   "source": [
    "## 다항 선형 회귀 "
   ]
  },
  {
   "cell_type": "code",
   "execution_count": 21,
   "metadata": {
    "collapsed": false
   },
   "outputs": [
    {
     "data": {
      "text/plain": [
       "DesignMatrix with shape (5, 5)\n",
       "  Intercept        x1  I(x1 ** 2)  I(x1 ** 3)   I(x1 ** 4)\n",
       "          1  10.54881   111.27747  1173.84524  12382.67452\n",
       "          1  10.71519   114.81528  1230.26750  13182.54925\n",
       "          1  10.60276   112.41859  1191.94772  12637.93965\n",
       "          1  10.54488   111.19456  1172.53366  12364.23047\n",
       "          1  10.42365   108.65258  1132.55698  11805.38301\n",
       "  Terms:\n",
       "    'Intercept' (column 0)\n",
       "    'x1' (column 1)\n",
       "    'I(x1 ** 2)' (column 2)\n",
       "    'I(x1 ** 3)' (column 3)\n",
       "    'I(x1 ** 4)' (column 4)"
      ]
     },
     "execution_count": 21,
     "metadata": {},
     "output_type": "execute_result"
    }
   ],
   "source": [
    "dmatrix(\"x1 + I(x1**2) + I(x1**3) + I(x1**4)\", data=df)"
   ]
  },
  {
   "cell_type": "markdown",
   "metadata": {},
   "source": [
    "## 카테고리 변수"
   ]
  },
  {
   "cell_type": "code",
   "execution_count": 22,
   "metadata": {
    "collapsed": false
   },
   "outputs": [
    {
     "data": {
      "text/html": [
       "<div>\n",
       "<table border=\"1\" class=\"dataframe\">\n",
       "  <thead>\n",
       "    <tr style=\"text-align: right;\">\n",
       "      <th></th>\n",
       "      <th>x1</th>\n",
       "      <th>x2</th>\n",
       "      <th>a1</th>\n",
       "      <th>a2</th>\n",
       "    </tr>\n",
       "  </thead>\n",
       "  <tbody>\n",
       "    <tr>\n",
       "      <th>0</th>\n",
       "      <td>10.548814</td>\n",
       "      <td>6.458941</td>\n",
       "      <td>a1</td>\n",
       "      <td>1</td>\n",
       "    </tr>\n",
       "    <tr>\n",
       "      <th>1</th>\n",
       "      <td>10.715189</td>\n",
       "      <td>4.375872</td>\n",
       "      <td>a1</td>\n",
       "      <td>4</td>\n",
       "    </tr>\n",
       "    <tr>\n",
       "      <th>2</th>\n",
       "      <td>10.602763</td>\n",
       "      <td>8.917730</td>\n",
       "      <td>a2</td>\n",
       "      <td>5</td>\n",
       "    </tr>\n",
       "    <tr>\n",
       "      <th>3</th>\n",
       "      <td>10.544883</td>\n",
       "      <td>9.636628</td>\n",
       "      <td>a2</td>\n",
       "      <td>6</td>\n",
       "    </tr>\n",
       "    <tr>\n",
       "      <th>4</th>\n",
       "      <td>10.423655</td>\n",
       "      <td>3.834415</td>\n",
       "      <td>a3</td>\n",
       "      <td>8</td>\n",
       "    </tr>\n",
       "  </tbody>\n",
       "</table>\n",
       "</div>"
      ],
      "text/plain": [
       "          x1        x2  a1  a2\n",
       "0  10.548814  6.458941  a1   1\n",
       "1  10.715189  4.375872  a1   4\n",
       "2  10.602763  8.917730  a2   5\n",
       "3  10.544883  9.636628  a2   6\n",
       "4  10.423655  3.834415  a3   8"
      ]
     },
     "execution_count": 22,
     "metadata": {},
     "output_type": "execute_result"
    }
   ],
   "source": [
    "df[\"a1\"] = pd.Series([\"a1\", \"a1\", \"a2\", \"a2\", \"a3\", \"a5\"])\n",
    "df[\"a2\"] = pd.Series([1, 4, 5, 6, 8, 9])\n",
    "df"
   ]
  },
  {
   "cell_type": "code",
   "execution_count": 23,
   "metadata": {
    "collapsed": false
   },
   "outputs": [
    {
     "data": {
      "text/plain": [
       "DesignMatrix with shape (5, 3)\n",
       "  Intercept  a1[T.a2]  a1[T.a3]\n",
       "          1         0         0\n",
       "          1         0         0\n",
       "          1         1         0\n",
       "          1         1         0\n",
       "          1         0         1\n",
       "  Terms:\n",
       "    'Intercept' (column 0)\n",
       "    'a1' (columns 1:3)"
      ]
     },
     "execution_count": 23,
     "metadata": {},
     "output_type": "execute_result"
    }
   ],
   "source": [
    "dmatrix(\"a1\", data=df)"
   ]
  },
  {
   "cell_type": "code",
   "execution_count": 24,
   "metadata": {
    "collapsed": false
   },
   "outputs": [
    {
     "data": {
      "text/plain": [
       "DesignMatrix with shape (5, 2)\n",
       "  Intercept  a2\n",
       "          1   1\n",
       "          1   4\n",
       "          1   5\n",
       "          1   6\n",
       "          1   8\n",
       "  Terms:\n",
       "    'Intercept' (column 0)\n",
       "    'a2' (column 1)"
      ]
     },
     "execution_count": 24,
     "metadata": {},
     "output_type": "execute_result"
    }
   ],
   "source": [
    "dmatrix(\"a2\", data=df)"
   ]
  },
  {
   "cell_type": "code",
   "execution_count": 25,
   "metadata": {
    "collapsed": false
   },
   "outputs": [
    {
     "data": {
      "text/plain": [
       "DesignMatrix with shape (5, 5)\n",
       "  Intercept  C(a2)[T.4]  C(a2)[T.5]  C(a2)[T.6]  C(a2)[T.8]\n",
       "          1           0           0           0           0\n",
       "          1           1           0           0           0\n",
       "          1           0           1           0           0\n",
       "          1           0           0           1           0\n",
       "          1           0           0           0           1\n",
       "  Terms:\n",
       "    'Intercept' (column 0)\n",
       "    'C(a2)' (columns 1:5)"
      ]
     },
     "execution_count": 25,
     "metadata": {},
     "output_type": "execute_result"
    }
   ],
   "source": [
    "dmatrix(\"C(a2)\", data=df)"
   ]
  }
 ],
 "metadata": {
  "kernelspec": {
   "display_name": "Python [Root]",
   "language": "python",
   "name": "Python [Root]"
  },
  "language_info": {
   "codemirror_mode": {
    "name": "ipython",
    "version": 3
   },
   "file_extension": ".py",
   "mimetype": "text/x-python",
   "name": "python",
   "nbconvert_exporter": "python",
   "pygments_lexer": "ipython3",
   "version": "3.5.1"
  }
 },
 "nbformat": 4,
 "nbformat_minor": 0
}
