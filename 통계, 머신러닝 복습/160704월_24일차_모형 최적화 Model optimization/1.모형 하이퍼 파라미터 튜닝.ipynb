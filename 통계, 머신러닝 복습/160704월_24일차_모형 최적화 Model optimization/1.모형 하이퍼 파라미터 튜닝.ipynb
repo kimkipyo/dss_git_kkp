{
 "cells": [
  {
   "cell_type": "markdown",
   "metadata": {},
   "source": [
    "# 모형 하이퍼 파라미터 튜닝"
   ]
  },
  {
   "cell_type": "markdown",
   "metadata": {},
   "source": [
    "머신 러닝 모형이 완성된 후에는 성능을 향상시키기 위한 하이퍼 파라미터 최적화 등의 모형 최적화 과정을 통해 예측 성능을 향상시킨다."
   ]
  },
  {
   "cell_type": "markdown",
   "metadata": {},
   "source": [
    "## Scikit-Learn 의 모형 하이퍼 파라미터 튜닝 도구"
   ]
  },
  {
   "cell_type": "markdown",
   "metadata": {},
   "source": [
    "Scikit-Learn에서는 다음과 같은 모형 최적화 도구를 지원한다.\n",
    "\n",
    "* [`validation_curve`](http://scikit-learn.org/stable/modules/generated/sklearn.learning_curve.validation_curve.html)\n",
    "  * 단일 하이퍼 파라미터 최적화\n",
    "* [`GridSearchCV`](http://scikit-learn.org/stable/modules/generated/sklearn.grid_search.GridSearchCV.html)\n",
    "  * 그리드를 사용한 복수 하이퍼 파라미터 최적화\n",
    "* [`ParameterGrid`](http://scikit-learn.org/stable/modules/generated/sklearn.grid_search.ParameterGrid.html)  \n",
    " * 복수 파라미터 최적화용 그리드\n"
   ]
  },
  {
   "cell_type": "markdown",
   "metadata": {},
   "source": [
    "## `validation_curve` 사용 예 "
   ]
  },
  {
   "cell_type": "markdown",
   "metadata": {},
   "source": [
    "`validation_curve` 함수는 최적화할 파라미터 이름과 범위, 그리고 성능 기준을 `param_name`, `param_range`, `scoring` 인수를 받아 파라미터 범위의 모든 경우에 대해 성능 기준을 계산한다."
   ]
  },
  {
   "cell_type": "code",
   "execution_count": 1,
   "metadata": {
    "collapsed": true
   },
   "outputs": [],
   "source": [
    "from sklearn.datasets import load_digits\n",
    "from sklearn.svm import SVC\n",
    "from sklearn.learning_curve import validation_curve"
   ]
  },
  {
   "cell_type": "code",
   "execution_count": 2,
   "metadata": {
    "collapsed": true
   },
   "outputs": [],
   "source": [
    "digits = load_digits()\n",
    "X, y = digits.data, digits.target\n",
    "\n",
    "param_range = np.logspace(-6, -1, 10)"
   ]
  },
  {
   "cell_type": "code",
   "execution_count": 3,
   "metadata": {
    "collapsed": false
   },
   "outputs": [
    {
     "name": "stdout",
     "output_type": "stream",
     "text": [
      "Wall time: 15.9 s\n"
     ]
    }
   ],
   "source": [
    "%%time\n",
    "train_scores, test_scores = \\\n",
    "    validation_curve(SVC(), X, y,\n",
    "                    param_name=\"gamma\", param_range=param_range,\n",
    "                    cv=10, scoring=\"accuracy\", n_jobs=4)   #n_jobs 동시에 코어를 몇 개 쓸 것인지"
   ]
  },
  {
   "cell_type": "code",
   "execution_count": 4,
   "metadata": {
    "collapsed": false
   },
   "outputs": [
    {
     "data": {
      "image/png": "[encoded data removed]",
      "text/plain": [
       "<matplotlib.figure.Figure at 0xb37e898>"
      ]
     },
     "metadata": {},
     "output_type": "display_data"
    }
   ],
   "source": [
    "train_scores_mean = np.mean(train_scores, axis=1)\n",
    "train_scores_std = np.std(train_scores, axis=1)\n",
    "test_scores_mean = np.mean(test_scores, axis=1)\n",
    "test_scores_std = np.std(test_scores, axis=1)\n",
    "\n",
    "plt.title(\"Validation Curve with SVM\")\n",
    "plt.xlabel(\"$\\gamma$\")\n",
    "plt.ylabel(\"Score\")\n",
    "plt.ylim(0.0, 1.1)\n",
    "plt.semilogx(param_range, train_scores_mean, label=\"Training score\", color=\"r\")\n",
    "plt.fill_between(param_range, train_scores_mean - train_scores_std,\n",
    "                 train_scores_mean + train_scores_std, alpha=0.2, color=\"r\")\n",
    "plt.semilogx(param_range, test_scores_mean, label=\"Cross-validation score\", color=\"g\")\n",
    "plt.fill_between(param_range, test_scores_mean - test_scores_std,\n",
    "                 test_scores_mean + test_scores_std, alpha=0.2, color=\"g\")\n",
    "plt.legend(loc=\"best\")\n",
    "plt.show()"
   ]
  },
  {
   "cell_type": "markdown",
   "metadata": {},
   "source": [
    "## `GridSearchCV` 사용예"
   ]
  },
  {
   "cell_type": "markdown",
   "metadata": {},
   "source": [
    "`GridSearchCV`  클래스는 `validation_curve` 함수와 달리 모형 래퍼(Wrapper) 성격의 클래스이다.  클래스 객체에 `fit` 메서드를 호출하면 grid search를 사용하여 자동으로 복수개의 내부 모형을 생성하고 이를 모두 실행시켜서 최적 파라미터를 찾아준다. 생성된 복수개의 내부 모형과 실행 결과는 다음 속성에 저장된다.\n",
    "\n",
    "* `grid_scores_ `\n",
    " * param_grid 의 모든 파리미터 조합에 대한 성능 결과. 각각의 원소는 다음 요소로 이루어진 튜플이다.\n",
    "  * parameters: 사용된 파라미터\n",
    "  * mean_validation_score: 교차 검증(cross-validation) 결과의 평균값\n",
    "  * cv_validation_scores: 모든 교차 검증(cross-validation) 결과\n",
    "* `best_score_` \n",
    " * 최고 점수 \n",
    "* `best_params_`\n",
    " * 최고 점수를 낸 파라미터\n",
    "* `best_estimator_`\n",
    " * 최고 점수를 낸 파라미터를 가진 모형"
   ]
  },
  {
   "cell_type": "code",
   "execution_count": 6,
   "metadata": {
    "collapsed": false
   },
   "outputs": [],
   "source": [
    "from sklearn.grid_search import GridSearchCV\n",
    "from sklearn.pipeline import Pipeline\n",
    "from sklearn.preprocessing import StandardScaler\n",
    "from sklearn.svm import SVC"
   ]
  },
  {
   "cell_type": "code",
   "execution_count": 7,
   "metadata": {
    "collapsed": false
   },
   "outputs": [
    {
     "name": "stdout",
     "output_type": "stream",
     "text": [
      "Wall time: 5min 51s\n"
     ]
    }
   ],
   "source": [
    "pipe_svc = Pipeline([('svl', StandardScaler()), ('clf', SVC(random_state=1))])\n",
    "\n",
    "param_range = [0.0001, 0.001, 0.01, 0.1, 1.0, 10.0, 100.0, 1000.0]\n",
    "param_grid = [\n",
    "    {'clf__C':param_range, 'clf__kernel': ['linear']},\n",
    "    {'clf__C':param_range, 'clf__gamma': param_range, 'clf__kernel': ['rbf']}]   #param_name=\"svc__name\" __언더바 2개 표시해야 한다.\n",
    "\n",
    "gs = GridSearchCV(estimator=pipe_svc, param_grid=param_grid, scoring='accuracy', cv=10, n_jobs=1)\n",
    "%time gs = gs.fit(X, y)"
   ]
  },
  {
   "cell_type": "code",
   "execution_count": 8,
   "metadata": {
    "collapsed": false
   },
   "outputs": [
    {
     "name": "stdout",
     "output_type": "stream",
     "text": [
      "0.971619365609\n",
      "{'clf__kernel': 'rbf', 'clf__C': 10.0, 'clf__gamma': 0.01}\n"
     ]
    }
   ],
   "source": [
    "print(gs.best_score_)\n",
    "print(gs.best_params_)"
   ]
  },
  {
   "cell_type": "code",
   "execution_count": 9,
   "metadata": {
    "collapsed": false
   },
   "outputs": [
    {
     "data": {
      "text/plain": [
       "[mean: 0.20868, std: 0.05108, params: {'clf__C': 0.0001, 'clf__kernel': 'linear'},\n",
       " mean: 0.91820, std: 0.03912, params: {'clf__C': 0.001, 'clf__kernel': 'linear'},\n",
       " mean: 0.95270, std: 0.02861, params: {'clf__C': 0.01, 'clf__kernel': 'linear'},\n",
       " mean: 0.95826, std: 0.02465, params: {'clf__C': 0.1, 'clf__kernel': 'linear'},\n",
       " mean: 0.95826, std: 0.02417, params: {'clf__C': 1.0, 'clf__kernel': 'linear'},\n",
       " mean: 0.95826, std: 0.02417, params: {'clf__C': 10.0, 'clf__kernel': 'linear'},\n",
       " mean: 0.95826, std: 0.02417, params: {'clf__C': 100.0, 'clf__kernel': 'linear'},\n",
       " mean: 0.95826, std: 0.02417, params: {'clf__C': 1000.0, 'clf__kernel': 'linear'},\n",
       " mean: 0.11909, std: 0.05244, params: {'clf__kernel': 'rbf', 'clf__C': 0.0001, 'clf__gamma': 0.0001},\n",
       " mean: 0.12020, std: 0.05576, params: {'clf__kernel': 'rbf', 'clf__C': 0.0001, 'clf__gamma': 0.001},\n",
       " mean: 0.12131, std: 0.05907, params: {'clf__kernel': 'rbf', 'clf__C': 0.0001, 'clf__gamma': 0.01},\n",
       " mean: 0.10351, std: 0.00612, params: {'clf__kernel': 'rbf', 'clf__C': 0.0001, 'clf__gamma': 0.1},\n",
       " mean: 0.10128, std: 0.00127, params: {'clf__kernel': 'rbf', 'clf__C': 0.0001, 'clf__gamma': 1.0},\n",
       " mean: 0.11185, std: 0.03090, params: {'clf__kernel': 'rbf', 'clf__C': 0.0001, 'clf__gamma': 10.0},\n",
       " mean: 0.10184, std: 0.00153, params: {'clf__kernel': 'rbf', 'clf__C': 0.0001, 'clf__gamma': 100.0},\n",
       " mean: 0.10128, std: 0.00127, params: {'clf__kernel': 'rbf', 'clf__C': 0.0001, 'clf__gamma': 1000.0},\n",
       " mean: 0.11909, std: 0.05244, params: {'clf__kernel': 'rbf', 'clf__C': 0.001, 'clf__gamma': 0.0001},\n",
       " mean: 0.12020, std: 0.05576, params: {'clf__kernel': 'rbf', 'clf__C': 0.001, 'clf__gamma': 0.001},\n",
       " mean: 0.12131, std: 0.05907, params: {'clf__kernel': 'rbf', 'clf__C': 0.001, 'clf__gamma': 0.01},\n",
       " mean: 0.10351, std: 0.00612, params: {'clf__kernel': 'rbf', 'clf__C': 0.001, 'clf__gamma': 0.1},\n",
       " mean: 0.10128, std: 0.00127, params: {'clf__kernel': 'rbf', 'clf__C': 0.001, 'clf__gamma': 1.0},\n",
       " mean: 0.11185, std: 0.03090, params: {'clf__kernel': 'rbf', 'clf__C': 0.001, 'clf__gamma': 10.0},\n",
       " mean: 0.10184, std: 0.00153, params: {'clf__kernel': 'rbf', 'clf__C': 0.001, 'clf__gamma': 100.0},\n",
       " mean: 0.10128, std: 0.00127, params: {'clf__kernel': 'rbf', 'clf__C': 0.001, 'clf__gamma': 1000.0},\n",
       " mean: 0.11909, std: 0.05244, params: {'clf__kernel': 'rbf', 'clf__C': 0.01, 'clf__gamma': 0.0001},\n",
       " mean: 0.12020, std: 0.05576, params: {'clf__kernel': 'rbf', 'clf__C': 0.01, 'clf__gamma': 0.001},\n",
       " mean: 0.13968, std: 0.07481, params: {'clf__kernel': 'rbf', 'clf__C': 0.01, 'clf__gamma': 0.01},\n",
       " mean: 0.10351, std: 0.00612, params: {'clf__kernel': 'rbf', 'clf__C': 0.01, 'clf__gamma': 0.1},\n",
       " mean: 0.10128, std: 0.00127, params: {'clf__kernel': 'rbf', 'clf__C': 0.01, 'clf__gamma': 1.0},\n",
       " mean: 0.11185, std: 0.03090, params: {'clf__kernel': 'rbf', 'clf__C': 0.01, 'clf__gamma': 10.0},\n",
       " mean: 0.10184, std: 0.00153, params: {'clf__kernel': 'rbf', 'clf__C': 0.01, 'clf__gamma': 100.0},\n",
       " mean: 0.10128, std: 0.00127, params: {'clf__kernel': 'rbf', 'clf__C': 0.01, 'clf__gamma': 1000.0},\n",
       " mean: 0.11909, std: 0.05244, params: {'clf__kernel': 'rbf', 'clf__C': 0.1, 'clf__gamma': 0.0001},\n",
       " mean: 0.68614, std: 0.02693, params: {'clf__kernel': 'rbf', 'clf__C': 0.1, 'clf__gamma': 0.001},\n",
       " mean: 0.91208, std: 0.03810, params: {'clf__kernel': 'rbf', 'clf__C': 0.1, 'clf__gamma': 0.01},\n",
       " mean: 0.40568, std: 0.07059, params: {'clf__kernel': 'rbf', 'clf__C': 0.1, 'clf__gamma': 0.1},\n",
       " mean: 0.10128, std: 0.00127, params: {'clf__kernel': 'rbf', 'clf__C': 0.1, 'clf__gamma': 1.0},\n",
       " mean: 0.11185, std: 0.03090, params: {'clf__kernel': 'rbf', 'clf__C': 0.1, 'clf__gamma': 10.0},\n",
       " mean: 0.10184, std: 0.00153, params: {'clf__kernel': 'rbf', 'clf__C': 0.1, 'clf__gamma': 100.0},\n",
       " mean: 0.10128, std: 0.00127, params: {'clf__kernel': 'rbf', 'clf__C': 0.1, 'clf__gamma': 1000.0},\n",
       " mean: 0.70339, std: 0.03071, params: {'clf__kernel': 'rbf', 'clf__C': 1.0, 'clf__gamma': 0.0001},\n",
       " mean: 0.93267, std: 0.03678, params: {'clf__kernel': 'rbf', 'clf__C': 1.0, 'clf__gamma': 0.001},\n",
       " mean: 0.96383, std: 0.01341, params: {'clf__kernel': 'rbf', 'clf__C': 1.0, 'clf__gamma': 0.01},\n",
       " mean: 0.90985, std: 0.02568, params: {'clf__kernel': 'rbf', 'clf__C': 1.0, 'clf__gamma': 0.1},\n",
       " mean: 0.11909, std: 0.01420, params: {'clf__kernel': 'rbf', 'clf__C': 1.0, 'clf__gamma': 1.0},\n",
       " mean: 0.10128, std: 0.00127, params: {'clf__kernel': 'rbf', 'clf__C': 1.0, 'clf__gamma': 10.0},\n",
       " mean: 0.10128, std: 0.00127, params: {'clf__kernel': 'rbf', 'clf__C': 1.0, 'clf__gamma': 100.0},\n",
       " mean: 0.10128, std: 0.00127, params: {'clf__kernel': 'rbf', 'clf__C': 1.0, 'clf__gamma': 1000.0},\n",
       " mean: 0.93434, std: 0.04081, params: {'clf__kernel': 'rbf', 'clf__C': 10.0, 'clf__gamma': 0.0001},\n",
       " mean: 0.95659, std: 0.02621, params: {'clf__kernel': 'rbf', 'clf__C': 10.0, 'clf__gamma': 0.001},\n",
       " mean: 0.97162, std: 0.01498, params: {'clf__kernel': 'rbf', 'clf__C': 10.0, 'clf__gamma': 0.01},\n",
       " mean: 0.91152, std: 0.02507, params: {'clf__kernel': 'rbf', 'clf__C': 10.0, 'clf__gamma': 0.1},\n",
       " mean: 0.12966, std: 0.01600, params: {'clf__kernel': 'rbf', 'clf__C': 10.0, 'clf__gamma': 1.0},\n",
       " mean: 0.10128, std: 0.00127, params: {'clf__kernel': 'rbf', 'clf__C': 10.0, 'clf__gamma': 10.0},\n",
       " mean: 0.10128, std: 0.00127, params: {'clf__kernel': 'rbf', 'clf__C': 10.0, 'clf__gamma': 100.0},\n",
       " mean: 0.10128, std: 0.00127, params: {'clf__kernel': 'rbf', 'clf__C': 10.0, 'clf__gamma': 1000.0},\n",
       " mean: 0.95548, std: 0.02592, params: {'clf__kernel': 'rbf', 'clf__C': 100.0, 'clf__gamma': 0.0001},\n",
       " mean: 0.96160, std: 0.02044, params: {'clf__kernel': 'rbf', 'clf__C': 100.0, 'clf__gamma': 0.001},\n",
       " mean: 0.97162, std: 0.01498, params: {'clf__kernel': 'rbf', 'clf__C': 100.0, 'clf__gamma': 0.01},\n",
       " mean: 0.91152, std: 0.02507, params: {'clf__kernel': 'rbf', 'clf__C': 100.0, 'clf__gamma': 0.1},\n",
       " mean: 0.12966, std: 0.01600, params: {'clf__kernel': 'rbf', 'clf__C': 100.0, 'clf__gamma': 1.0},\n",
       " mean: 0.10128, std: 0.00127, params: {'clf__kernel': 'rbf', 'clf__C': 100.0, 'clf__gamma': 10.0},\n",
       " mean: 0.10128, std: 0.00127, params: {'clf__kernel': 'rbf', 'clf__C': 100.0, 'clf__gamma': 100.0},\n",
       " mean: 0.10128, std: 0.00127, params: {'clf__kernel': 'rbf', 'clf__C': 100.0, 'clf__gamma': 1000.0},\n",
       " mean: 0.95993, std: 0.02377, params: {'clf__kernel': 'rbf', 'clf__C': 1000.0, 'clf__gamma': 0.0001},\n",
       " mean: 0.96216, std: 0.02039, params: {'clf__kernel': 'rbf', 'clf__C': 1000.0, 'clf__gamma': 0.001},\n",
       " mean: 0.97162, std: 0.01498, params: {'clf__kernel': 'rbf', 'clf__C': 1000.0, 'clf__gamma': 0.01},\n",
       " mean: 0.91152, std: 0.02507, params: {'clf__kernel': 'rbf', 'clf__C': 1000.0, 'clf__gamma': 0.1},\n",
       " mean: 0.12966, std: 0.01600, params: {'clf__kernel': 'rbf', 'clf__C': 1000.0, 'clf__gamma': 1.0},\n",
       " mean: 0.10128, std: 0.00127, params: {'clf__kernel': 'rbf', 'clf__C': 1000.0, 'clf__gamma': 10.0},\n",
       " mean: 0.10128, std: 0.00127, params: {'clf__kernel': 'rbf', 'clf__C': 1000.0, 'clf__gamma': 100.0},\n",
       " mean: 0.10128, std: 0.00127, params: {'clf__kernel': 'rbf', 'clf__C': 1000.0, 'clf__gamma': 1000.0}]"
      ]
     },
     "execution_count": 9,
     "metadata": {},
     "output_type": "execute_result"
    }
   ],
   "source": [
    "gs.grid_scores_"
   ]
  },
  {
   "cell_type": "markdown",
   "metadata": {},
   "source": [
    "## `ParameterGrid` 사용예"
   ]
  },
  {
   "cell_type": "markdown",
   "metadata": {
    "collapsed": true
   },
   "source": [
    "때로는 scikit-learn 이 제공하는 GridSearchCV 이외의 방법으로 그리드 탐색을 해야하는 경우도 있다. 이 경우 파라미터를 조합하여 탐색 그리드를 생성해 주는 명령어가 `ParameterGrid` 이다. `ParameterGrid` 는 탐색을 위한 iterator 역할을 한다. 리스트로 결과값이 나온다."
   ]
  },
  {
   "cell_type": "code",
   "execution_count": 7,
   "metadata": {
    "collapsed": false
   },
   "outputs": [],
   "source": [
    "from sklearn.grid_search import ParameterGrid"
   ]
  },
  {
   "cell_type": "code",
   "execution_count": 8,
   "metadata": {
    "collapsed": false
   },
   "outputs": [
    {
     "data": {
      "text/plain": [
       "[{'a': 1, 'b': True},\n",
       " {'a': 1, 'b': False},\n",
       " {'a': 2, 'b': True},\n",
       " {'a': 2, 'b': False}]"
      ]
     },
     "execution_count": 8,
     "metadata": {},
     "output_type": "execute_result"
    }
   ],
   "source": [
    "param_grid = {'a': [1, 2], 'b': [True, False]}\n",
    "list(ParameterGrid(param_grid))"
   ]
  },
  {
   "cell_type": "code",
   "execution_count": 9,
   "metadata": {
    "collapsed": false
   },
   "outputs": [
    {
     "data": {
      "text/plain": [
       "[{'kernel': 'linear'},\n",
       " {'gamma': 1, 'kernel': 'rbf'},\n",
       " {'gamma': 10, 'kernel': 'rbf'}]"
      ]
     },
     "execution_count": 9,
     "metadata": {},
     "output_type": "execute_result"
    }
   ],
   "source": [
    "param_grid = [{'kernel': ['linear']}, {'kernel': ['rbf'], 'gamma': [1, 10]}]\n",
    "list(ParameterGrid(param_grid))"
   ]
  }
 ],
 "metadata": {
  "anaconda-cloud": {},
  "kernelspec": {
   "display_name": "Python 3",
   "language": "python",
   "name": "python3"
  },
  "language_info": {
   "codemirror_mode": {
    "name": "ipython",
    "version": 3
   },
   "file_extension": ".py",
   "mimetype": "text/x-python",
   "name": "python",
   "nbconvert_exporter": "python",
   "pygments_lexer": "ipython3",
   "version": "3.5.1"
  }
 },
 "nbformat": 4,
 "nbformat_minor": 0
}
