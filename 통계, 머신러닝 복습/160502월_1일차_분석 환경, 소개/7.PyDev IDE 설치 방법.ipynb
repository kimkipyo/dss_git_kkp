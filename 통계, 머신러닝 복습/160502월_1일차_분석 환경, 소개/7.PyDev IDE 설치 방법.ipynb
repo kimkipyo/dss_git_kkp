{
 "cells": [
  {
   "cell_type": "markdown",
   "metadata": {},
   "source": [
    "# PyDev IDE 설치 방법"
   ]
  },
  {
   "cell_type": "markdown",
   "metadata": {},
   "source": [
    "## Python IDE 종류"
   ]
  },
  {
   "cell_type": "markdown",
   "metadata": {},
   "source": [
    "* Eclipse with PyDev\n",
    " * http://www.pydev.org/\n",
    "* MSVS with PTVS\n",
    " * http://microsoft.github.io/PTVS/\n",
    "* PyCharm\n",
    " * https://www.jetbrains.com/pycharm/"
   ]
  },
  {
   "cell_type": "markdown",
   "metadata": {},
   "source": [
    "## Eclipse 설치"
   ]
  },
  {
   "cell_type": "markdown",
   "metadata": {},
   "source": [
    "* Java SE Development Kit (JDK) 설치\n",
    " * http://www.oracle.com/technetwork/java/javase/downloads/jdk8-downloads-2133151.html\n",
    "\n",
    "\n",
    "* Eclipse 설치\n",
    " * https://eclipse.org/downloads/\n",
    " * Eclipse Installer 또는 Eclipse for Java Developer 설치\n"
   ]
  },
  {
   "cell_type": "markdown",
   "metadata": {},
   "source": [
    "## PyDev 설치"
   ]
  },
  {
   "cell_type": "markdown",
   "metadata": {},
   "source": [
    " * http://www.pydev.org/manual_101_install.html\n",
    "  * Eclipse 시작\n",
    "  * 메뉴 > Help > Install New Software > \"http://pydev.org/updates\" 주소 입력\n",
    "  \n",
    "  \n",
    "<img src=\"https://datascienceschool.net/upfiles/8870a1ebd4cc49b6a2dd9a7516e4609b.png\" style=\"width: 100%;\">"
   ]
  },
  {
   "cell_type": "markdown",
   "metadata": {},
   "source": [
    "## PyDev 설정"
   ]
  },
  {
   "cell_type": "markdown",
   "metadata": {},
   "source": [
    "* Run > Preference\n",
    "* PyDev > Interpreters > Python Interpreters\n",
    "* Advanced Auto Configuration \n",
    "* Select Python Binary\n",
    "* Apply > OK\n",
    "* Window > Prespect > Open Prespect > PyDev"
   ]
  },
  {
   "cell_type": "markdown",
   "metadata": {},
   "source": [
    "### PyDev 사용"
   ]
  },
  {
   "cell_type": "markdown",
   "metadata": {},
   "source": [
    "* Project \n",
    " * File > New > PyDev Project\n",
    " * Project Name: test\n",
    " * Finish\n",
    "* Module\n",
    " * File > New > PyDev Module\n",
    " * Name: module1\n",
    " * Finish\n",
    "* Edit\n",
    "```\n",
    "x = 1\n",
    "y = 2\n",
    "z = x + y\n",
    "print x, y, z \n",
    "```"
   ]
  },
  {
   "cell_type": "markdown",
   "metadata": {},
   "source": [
    "### PyDev 디버깅"
   ]
  },
  {
   "cell_type": "markdown",
   "metadata": {},
   "source": [
    "* breakpoint\n",
    "* stack\n",
    "* variable\n",
    "* watch"
   ]
  }
 ],
 "metadata": {
  "kernelspec": {
   "display_name": "Python 2",
   "language": "python",
   "name": "python2"
  },
  "language_info": {
   "codemirror_mode": {
    "name": "ipython",
    "version": 2
   },
   "file_extension": ".py",
   "mimetype": "text/x-python",
   "name": "python",
   "nbconvert_exporter": "python",
   "pygments_lexer": "ipython2",
   "version": "2.7.11"
  }
 },
 "nbformat": 4,
 "nbformat_minor": 0
}