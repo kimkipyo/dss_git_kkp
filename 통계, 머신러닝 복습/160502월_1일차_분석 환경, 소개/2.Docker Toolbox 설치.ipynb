{
 "cells": [
  {
   "cell_type": "markdown",
   "metadata": {},
   "source": [
    "# Docker Toolbox 설치"
   ]
  },
  {
   "cell_type": "markdown",
   "metadata": {},
   "source": [
    "Docker는 원래 리눅스 기반의 가상화 컨테이너이다. 따라서 윈도우즈나 맥 OS를 사용하는 경우에는 VirtualBox 등의 저수준 가상화 소프트웨어가 필요하다. Docker Toolbox는 윈도우즈나 맥 OS에서 VirtualBox와 부팅용 OS, 도커 서비스 등을 한꺼번에 설치하여 도커를 쉽게 사용할 수 있도록 해주는 도구 모음이다. Docker Toolbox의 설치 방법은 다음과 같다."
   ]
  },
  {
   "cell_type": "markdown",
   "metadata": {},
   "source": [
    "## 하드웨어 사양"
   ]
  },
  {
   "cell_type": "markdown",
   "metadata": {},
   "source": [
    "Docker Toolbox를 설치하고 `datascienceschool_rpython` 이미지를 실행하려면 다음과 같은 하드웨어 사양이 필요하다.\n",
    "\n",
    "* 64 bit Windows 또는 OS X 운영체제\n",
    "* 4GB 이상의 메모리\n",
    "* 20GB 이상의 저장 공간 (홈 디렉토리가 있는 드라이브)"
   ]
  },
  {
   "cell_type": "markdown",
   "metadata": {},
   "source": [
    "## 하드웨어 가상화를 위한 BIOS 설정"
   ]
  },
  {
   "cell_type": "markdown",
   "metadata": {},
   "source": [
    "Docker Toolbox의 VirtualBox를 사용하려면 하드웨어가 가상화를 지원하도록 BIOS를 설정하여야 한다. 만약 설치 후 다음과 비슷한 메세지가 출력된다면 BIOS 설정이 제대로 되지 않은 것이다."
   ]
  },
  {
   "cell_type": "markdown",
   "metadata": {},
   "source": [
    "<div class=\"well well-sm\">\n",
    "VT-x/AMD-V 하드웨어 가속 기능이 활성화되었지만, 현재 작동하지 않습니다. 64비트 게스트 운영 체제에서 64비트 CPU를 인식할 수 없어서 부팅할 수 없습니다. 컴퓨터 바이오스에서 VT-x/AMD-V를 활성화했는지 확인해 보십시오.\n",
    "</div>"
   ]
  },
  {
   "cell_type": "markdown",
   "metadata": {},
   "source": [
    "이 때는 컴퓨터를 재부팅하여 BISO 설정 화면으로 들어간 뒤, CPU 등의 항목에서 다음 항목들을 Enable 시킨다. BIOS에 따라 세부적인 항목 이름은 다를 수 있다.\n",
    "\n",
    "* Vituralization\n",
    "* Secure Vituralization\n",
    "* Vt-d"
   ]
  },
  {
   "cell_type": "markdown",
   "metadata": {},
   "source": [
    "다음 웹사이트들을 참조할 수 있다.\n",
    "\n",
    "* http://amiduos.com/support/knowledge-base/article/enabling-virtualization-in-lenovo-systems\n",
    "* http://amiduos.com/support/knowledge-base/article/enabling-virtualization-in-bios\n",
    "* https://software.intel.com/en-us/blogs/2009/02/24/step-by-step-guide-on-how-to-enable-vt-d-and-perform-direct-device-assignment/\n"
   ]
  },
  {
   "cell_type": "markdown",
   "metadata": {},
   "source": [
    "## Docker Toolbox 다운로드"
   ]
  },
  {
   "cell_type": "markdown",
   "metadata": {},
   "source": [
    "우선 인터넷에서 Docker Toolbox를 다운로드 받는다. 웹사이트 주소는 아래와 같다.\n",
    "\n",
    "* https://www.docker.com/products/docker-toolbox\n",
    "\n",
    "윈도우즈 버전과 애플 맥 버전이 별도로 있으므로 구분하여 다운로드 받는다. "
   ]
  },
  {
   "cell_type": "markdown",
   "metadata": {
    "bootstrap": {
     "panel": {
      "class": "panel-success",
      "heading": "그림: Docker Toolbox 웹사이트"
     }
    }
   },
   "source": [
    "<img src=\"https://datascienceschool.net/upfiles/f5c1650d95e3445a98cd2604c320184a.png\" style=\"width: 100%;\"/>"
   ]
  },
  {
   "cell_type": "markdown",
   "metadata": {},
   "source": [
    "## Docker Toolbox 설치"
   ]
  },
  {
   "cell_type": "markdown",
   "metadata": {},
   "source": [
    "다운로드가 완료되면 설치파일을 실행하여 Docker Toolbox을 설치한다. 설치 과정에서 나오는 설정에 대해서는 모두 기본 설정으로 진행해도 무방하다."
   ]
  },
  {
   "cell_type": "markdown",
   "metadata": {
    "bootstrap": {
     "panel": {
      "class": "panel-success",
      "heading": "그림: Docker Toolbox 설치 과정"
     }
    }
   },
   "source": [
    "<img src=\"https://datascienceschool.net/upfiles/b97b656cd2f34ceb8d867c2bdac1307b.png\" style=\"width: 50%;\"/>"
   ]
  },
  {
   "cell_type": "markdown",
   "metadata": {
    "bootstrap": {
     "panel": {
      "class": "panel-success",
      "heading": "그림: Docker Toolbox 설치 과정"
     }
    }
   },
   "source": [
    "<img src=\"https://datascienceschool.net/upfiles/bdaf533fde9f4958a2ae2c4756c95e76.png\" style=\"width: 50%;\"/>"
   ]
  },
  {
   "cell_type": "markdown",
   "metadata": {
    "bootstrap": {
     "panel": {
      "class": "panel-success",
      "heading": "그림: Docker Toolbox 설치 과정"
     }
    }
   },
   "source": [
    "<img src=\"https://datascienceschool.net/upfiles/16747076b4c34661ba1d39433e0369e6.png\" style=\"width: 50%;\"/>"
   ]
  },
  {
   "cell_type": "markdown",
   "metadata": {
    "bootstrap": {
     "panel": {
      "class": "panel-success",
      "heading": "그림: Docker Toolbox 설치 과정"
     }
    }
   },
   "source": [
    "<img src=\"https://datascienceschool.net/upfiles/8919294c414c4a66a2f13393d0355085.png\" style=\"width: 50%;\"/>"
   ]
  },
  {
   "cell_type": "markdown",
   "metadata": {},
   "source": [
    "## Docker Toolbox 설치 확인"
   ]
  },
  {
   "cell_type": "markdown",
   "metadata": {},
   "source": [
    "설치가 완료되면 \"시작 메뉴 > 프로그램 > Docker \"에 다음과 같은 두 개의 바로가기가 나타난다\n",
    "\n",
    "* Docker Quickstart Terminal\n",
    "* Kitematic (Alpha)\n"
   ]
  },
  {
   "cell_type": "markdown",
   "metadata": {
    "bootstrap": {
     "panel": {
      "class": "panel-success",
      "heading": "그림: Docker Toolbox 설치 확인"
     }
    }
   },
   "source": [
    "<img src=\"https://datascienceschool.net/upfiles/4586aafcc51f4ba99f61ec593f293fb9.png\" style=\"width: 100%;\"/>"
   ]
  },
  {
   "cell_type": "markdown",
   "metadata": {},
   "source": [
    "여기에는 나타나지 않지만 Oracle VirtualBox도 설치된다. 윈도우즈의 \"시작 > 모든 프로그램 > Oracle VM VirtualBox\" 에서 이를 확인 할 수 있다."
   ]
  },
  {
   "cell_type": "markdown",
   "metadata": {
    "bootstrap": {
     "panel": {
      "class": "panel-success",
      "heading": "그림: Docker Toolbox 설치 확인"
     }
    }
   },
   "source": [
    "<img src=\"https://datascienceschool.net/upfiles/9e19fb260bc84190b12b03e18a437b58.png\" style=\"width: 50%;\"/>"
   ]
  },
  {
   "cell_type": "markdown",
   "metadata": {},
   "source": [
    "## 가상 머신 생성"
   ]
  },
  {
   "cell_type": "markdown",
   "metadata": {},
   "source": [
    "Docker Toolbox를 설치했지만 아직 도커를 사용할 수 있는 단계는 아니다. 도커는 리눅스에서만 실행할 수 있는 컨테이너 서비스이므로 리눅스 가상 머신이 필요한데 아직 가상머신이 설치되지 않았기 때문이다.\n",
    "\n",
    "시작메뉴에서 \"Docker Quickstart Terminal\"을 선택하여 실행하면 다음과 같이 가상 머신을 생성해 준다. 가상 머신을 생성하는 작업은 최초 한 번만 실행되며 컴퓨터의 성능에 따라 몇 분 가량 걸릴 수 있다. 일단 가상 머신이 생성된 다음에는 \"Docker Quickstart Terminal\"을 실행해도 기존의 가상 머신을 가동시키기만 하고 생성하지는 않으므로 생성시보다는 빠르게 실행된다. \n",
    "\n",
    "가상 머신이 생성되면 다음과 같이 도커를 뜻하는 고래 모양의 그림과 함께 도커 터미널이 실행된다."
   ]
  },
  {
   "cell_type": "markdown",
   "metadata": {
    "bootstrap": {
     "panel": {
      "class": "panel-success",
      "heading": "그림: Docker Termial 첫 실행"
     }
    }
   },
   "source": [
    "<img src=\"https://datascienceschool.net/upfiles/77dc542e32b54ddc81a2f4ec3f8d30b7.png\" style=\"width: 100%;\"/>"
   ]
  },
  {
   "cell_type": "markdown",
   "metadata": {},
   "source": [
    "이 화면에서 IP 주소를 기억해 놓아야 한다. Oracle VirtualBox는 NAT(Network Address Translation)와 사설 IP 주소를 사용하여 호스트 컴퓨터(윈도우즈)와 게스트 가상 머신(리눅스)를 연결하는데 \"Docker Quickstart Terminal\" 실행시 나타나는 `192.168.99.100`이라는 사설 IP 주소가 게스트 가상 머신의 주소가 된다. 가상 머신을 두 대 이상 생성하지 않았다면 기본적으로 사설 IP 주소는 `192.168.99.100`이 된다.\n",
    "\n",
    "\"Docker Quickstart Terminal\"을 사용할 때에는 이 주소를 환경변수로 저장해 놓았기 때문에 신경쓰지 않고 사용할 수 있지만 putty 등의 다른 방법으로 가상 머신을 연결하거나 가상 머신에서 작동하는 Jupyter Notebook을 웹 브라우저에서 실행할 대는 이 사설 IP 주소를 사용해야 하므로 주의하자."
   ]
  },
  {
   "cell_type": "markdown",
   "metadata": {},
   "source": [
    "## 설치 확인"
   ]
  },
  {
   "cell_type": "markdown",
   "metadata": {},
   "source": [
    "이 상태에서 도커가 정상적으로 설치되었는지 확인하기 위해서는 `docker` 라는 명령어를 입력한다. 다음과 같은 출력이 나온다면 정상적으로 설치된 것이다."
   ]
  },
  {
   "cell_type": "markdown",
   "metadata": {},
   "source": [
    "<img src=\"https://datascienceschool.net/upfiles/31969ef18e254a2aa92a12bac0fea000.png\" style=\"width: 100%;\"/>"
   ]
  },
  {
   "cell_type": "markdown",
   "metadata": {},
   "source": [
    "## Oracle VirtualBox 확인"
   ]
  },
  {
   "cell_type": "markdown",
   "metadata": {},
   "source": [
    "\"Docker Quickstart Terminal\"을 실행하면 가상머신이 생성되고 가동된다고 하였는데, Oracle VirtualBox에서 실제로 이를 확인할 수 있다.\n",
    "\n",
    "\"시작 > 모든 프로그램 > Oracle VM VirtualBox > Oracle VM VirtualBox\" 를 실행하면 다음과 같이 `default`라는 이름의 가상 머신이 동작하고 있음을 확인 할 수 있다."
   ]
  },
  {
   "cell_type": "markdown",
   "metadata": {
    "bootstrap": {
     "panel": {
      "class": "panel-success",
      "heading": "그림: 가상 머신의 동작 확인"
     }
    }
   },
   "source": [
    "<img src=\"https://datascienceschool.net/upfiles/0db5da35242a486f8915c05c4fe3bf51.png\" style=\"width: 100%;\"/>"
   ]
  },
  {
   "cell_type": "markdown",
   "metadata": {},
   "source": [
    "## 설치 문제 해결"
   ]
  },
  {
   "cell_type": "markdown",
   "metadata": {},
   "source": [
    "도커를 설치하고 Docker Quickstart Terminal을 실행 시킨 후, 오류 메세지가 나타나거나 `docker` 명령을 인식하지 못하는 경우에는  다음과 같은 사항을 순서대로 조치해 본다. \n",
    "\n",
    "1. Docker Quickstart Terminal 윈도우를 닫고 다시 Docker Quickstart Terminal 을 실행해 본다.\n",
    "2. 컴퓨터에 설치된 백신/Malware 탐지 프로그램 혹은 방화벽을 끄고 다시 Docker Quickstart Terminal 을 실행해 본다.\n",
    "3. Oracle VirtualBox에서 `default` 가상 머신을 \"모든 파일 완전 삭제\"한 후에 다시 Docker Quickstart Terminal 을 실행해 본다.\n",
    "4. 도커 툴박스를 완전 삭제한 후 다시 리부팅하여 Docker Quickstart Terminal 을 실행해 본다."
   ]
  }
 ],
 "metadata": {
  "kernelspec": {
   "display_name": "Python [py27]",
   "language": "python",
   "name": "Python [py27]"
  },
  "language_info": {
   "codemirror_mode": {
    "name": "ipython",
    "version": 2
   },
   "file_extension": ".py",
   "mimetype": "text/x-python",
   "name": "python",
   "nbconvert_exporter": "python",
   "pygments_lexer": "ipython2",
   "version": "2.7.12"
  }
 },
 "nbformat": 4,
 "nbformat_minor": 0
}
