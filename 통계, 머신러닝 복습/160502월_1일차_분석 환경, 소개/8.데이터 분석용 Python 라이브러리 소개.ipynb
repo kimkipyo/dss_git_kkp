{
 "cells": [
  {
   "cell_type": "markdown",
   "metadata": {},
   "source": [
    "# 데이터 분석용 Python 라이브러리 소개"
   ]
  },
  {
   "cell_type": "markdown",
   "metadata": {},
   "source": [
    "* NumPy\n",
    "\n",
    "  * 수치해석 라이브러리\n",
    "  * http://www.numpy.org/\n",
    "  * 2006, Travis Oliphant"
   ]
  },
  {
   "cell_type": "markdown",
   "metadata": {},
   "source": [
    "* SciPy\n",
    "\n",
    "  * 과학기술 함수 라이브러리\n",
    "  * http://www.scipy.org/\n",
    "  * 2001, Travis Oliphant, Pearu Peterson"
   ]
  },
  {
   "cell_type": "markdown",
   "metadata": {},
   "source": [
    "* SymPy\n",
    "\n",
    "  * 심볼릭 연산 라이브러리\n",
    "  * http://www.sympy.org/\n",
    "  * 2006, Ondřej Čertík"
   ]
  },
  {
   "cell_type": "markdown",
   "metadata": {},
   "source": [
    "* Matplotlib\n",
    "\n",
    "  * 시각화 라이브러리, matlab 플롯 기능 구현\n",
    "  * matplotlib.org/\n",
    "  * 2002, John D. Hunter"
   ]
  },
  {
   "cell_type": "markdown",
   "metadata": {},
   "source": [
    "* seaborn\n",
    "\n",
    "  * 시각화 라이브러리. 통계용 차트 및 컬러맵 추가\n",
    "  * https://stanford.edu/~mwaskom/software/seaborn/\n",
    "  * 2012, Michael Waskom"
   ]
  },
  {
   "cell_type": "markdown",
   "metadata": {},
   "source": [
    "* bokeh\n",
    "\n",
    "  * 시각화 라이브러리. 웹상에서 인터액티브 플롯 구현\n",
    "  * http://bokeh.pydata.org\n",
    "  * 2012, Peter Wang"
   ]
  },
  {
   "cell_type": "markdown",
   "metadata": {},
   "source": [
    "* pandas\n",
    "\n",
    "  * 데이터 분석 라이브러리. R의 data.frame 자료구조 구현\n",
    "  * http://pandas.pydata.org/\n",
    "  * 2008, Wes McKinney (AQR Capital Management)"
   ]
  },
  {
   "cell_type": "markdown",
   "metadata": {},
   "source": [
    "* statsmodels\n",
    "\n",
    "  * 다변량 회귀 분석 및 시계열 분석 라이브러리\n",
    "  * http://statsmodels.sourceforge.net/stable/\n",
    "  * 2009, Skipper Seabold"
   ]
  },
  {
   "cell_type": "markdown",
   "metadata": {},
   "source": [
    "* scikit-learn\n",
    "\n",
    "  * 머신러닝 라이브러리\n",
    "  * http://scikit-learn.org\n",
    "  * 2007, David Cournapeau"
   ]
  }
 ],
 "metadata": {
  "kernelspec": {
   "display_name": "Python 2",
   "language": "python",
   "name": "python2"
  },
  "language_info": {
   "codemirror_mode": {
    "name": "ipython",
    "version": 2
   },
   "file_extension": ".py",
   "mimetype": "text/x-python",
   "name": "python",
   "nbconvert_exporter": "python",
   "pygments_lexer": "ipython2",
   "version": "2.7.11"
  }
 },
 "nbformat": 4,
 "nbformat_minor": 0
}