{
 "cells": [
  {
   "cell_type": "markdown",
   "metadata": {},
   "source": [
    "# Python 설치"
   ]
  },
  {
   "cell_type": "markdown",
   "metadata": {},
   "source": [
    "## Python 정보"
   ]
  },
  {
   "cell_type": "markdown",
   "metadata": {
    "bootstrap": {
     "panel": {
      "class": "panel-danger",
      "heading": ""
     }
    },
    "collapsed": true
   },
   "source": [
    "## Python의 종류\n",
    "\n",
    "* CPython\n",
    " * C 구현\n",
    "* jython\n",
    " * Java 구현\n",
    "* IronPython\n",
    " * .NET 구현\n",
    "* PyPy\n",
    " * python JIT \n",
    "* Pyston\n",
    " * LLVM"
   ]
  },
  {
   "cell_type": "markdown",
   "metadata": {
    "bootstrap": {
     "panel": {
      "class": "panel-danger",
      "heading": ""
     }
    },
    "collapsed": true
   },
   "source": [
    "## Python의 버전\n",
    "\n",
    "* 버전 표기법\n",
    " * major.minor.micro\n",
    "* Major 버전\n",
    " * version 2\n",
    "   * 현재 최신 버전 2.7.11\n",
    "   * 더 이상의 신규 마이너 버전 없음\n",
    " * version 3\n",
    "   * 현재 최신 버전 3.5.1\n",
    "   * version 2와 하위 호환 없음\n",
    "* 버전간 차이\n",
    "  * 문자열 저장\n",
    "    * version 2는 문자열을 바이너리 형태로 저장, version 3는 유니코드 포인트로 변환하여 저장\n",
    "  * 문법 차이\n",
    "    * print 명령, 나누기 연산자(division operator) 등"
   ]
  },
  {
   "cell_type": "markdown",
   "metadata": {},
   "source": [
    "## 기본 Python 설치"
   ]
  },
  {
   "cell_type": "markdown",
   "metadata": {
    "bootstrap": {
     "panel": {
      "class": "panel-danger",
      "heading": ""
     }
    }
   },
   "source": [
    "* Python을 사용할 수 있는 최소의 설치\n",
    "* 기본적으로 인터프리터(interpreter)만 설치\n",
    "* https://www.python.org/downloads/\n",
    "* 실제로는 사용하지 않는다."
   ]
  },
  {
   "cell_type": "markdown",
   "metadata": {},
   "source": [
    "## Python 배포판(Distrubutions)"
   ]
  },
  {
   "cell_type": "markdown",
   "metadata": {
    "bootstrap": {
     "panel": {
      "class": "panel-danger",
      "heading": ""
     }
    },
    "collapsed": true
   },
   "source": [
    "* 인터프리터 및 패키지(라이브러리), 패키지 관리 시스템, 콘솔(console), 강화된 인터프리터(enhanced interpreter) 등을 포함\n",
    "\n",
    "* 배포판의 종류\n",
    " * ActiveState ActivePython (commercial and community versions, including scientific computing modules)\n",
    " * pythonxy (Scientific-oriented Python Distribution based on Qt and Spyder)\n",
    " * winpython (WinPython is a portable scientific Python distribution for Windows)\n",
    " * Conceptive Python SDK (targets business, desktop and database applications)\n",
    " * Enthought Canopy (a commercial distribution for scientific computing)\n",
    " * PyIMSL Studio (a commercial distribution for numerical analysis – free for non-commercial use)\n",
    " * eGenix PyRun (a portable Python runtime, complete with stdlib, frozen into a single 3.5MB - 13MB executable file)\n",
    " * Anaconda Python (a full Python distribution for data management, analysis and visualization of large data sets)"
   ]
  },
  {
   "cell_type": "markdown",
   "metadata": {
    "bootstrap": {
     "panel": {
      "class": "panel-danger",
      "heading": ""
     }
    },
    "collapsed": true
   },
   "source": [
    "## Continuum Anaconda \n",
    "\n",
    "* 가장 후발 주자 (Travis Oliphant 2012년 설립)\n",
    "* 2015년 현재 사실상의 표준(de facto standard)\n",
    "* 모든 플랫폼(Windows/Linux/Mac 32/64bit)에 대해 완벽한 패키지 제공\n",
    "* 모든 플랫폼에 대해 오픈 소스, 무료\n",
    "* 기업용 유지 보수 서비스 동시 제공\n",
    "* 기업 빅데이터용 특수 패키지 개발 및 판매"
   ]
  },
  {
   "cell_type": "markdown",
   "metadata": {
    "bootstrap": {
     "panel": {
      "class": "panel-danger",
      "heading": ""
     }
    },
    "collapsed": true
   },
   "source": [
    "## Anaconda 배포판 다운로드 및 설치\n",
    "* https://www.continuum.io/downloads\n",
    "* Python 2.7, 64bit 선택\n",
    "* 원클릭 설치\n",
    "* http://conda.pydata.org/docs/get-started.html"
   ]
  },
  {
   "cell_type": "markdown",
   "metadata": {
    "bootstrap": {
     "panel": {
      "class": "panel-danger",
      "heading": ""
     }
    },
    "collapsed": true
   },
   "source": [
    "## 설치 완료 \n",
    "* Windows 시스템의 경우\n",
    "<img src=\"https://datascienceschool.net/upfiles/1d8672490a8845f6a44af3c2a9036979.png\" style=\"width: 50%;\">"
   ]
  },
  {
   "cell_type": "markdown",
   "metadata": {},
   "source": [
    "## 설치 확인"
   ]
  },
  {
   "cell_type": "markdown",
   "metadata": {},
   "source": [
    "### conda 패키지 관리자"
   ]
  },
  {
   "cell_type": "code",
   "execution_count": 1,
   "metadata": {
    "collapsed": false
   },
   "outputs": [
    {
     "ename": "NameError",
     "evalue": "name 'conda' is not defined",
     "output_type": "error",
     "traceback": [
      "\u001b[1;31m---------------------------------------------------------------------------\u001b[0m",
      "\u001b[1;31mNameError\u001b[0m                                 Traceback (most recent call last)",
      "\u001b[1;32m<ipython-input-1-8c896c088bed>\u001b[0m in \u001b[0;36m<module>\u001b[1;34m()\u001b[0m\n\u001b[1;32m----> 1\u001b[1;33m \u001b[0mconda\u001b[0m \u001b[1;33m-\u001b[0m\u001b[1;33m-\u001b[0m\u001b[0mversion\u001b[0m\u001b[1;33m\u001b[0m\u001b[0m\n\u001b[0m",
      "\u001b[1;31mNameError\u001b[0m: name 'conda' is not defined"
     ]
    }
   ],
   "source": [
    "conda --version"
   ]
  },
  {
   "cell_type": "code",
   "execution_count": 2,
   "metadata": {
    "collapsed": false
   },
   "outputs": [
    {
     "ename": "SyntaxError",
     "evalue": "invalid syntax (<ipython-input-2-ac60f2205884>, line 1)",
     "output_type": "error",
     "traceback": [
      "\u001b[1;36m  File \u001b[1;32m\"<ipython-input-2-ac60f2205884>\"\u001b[1;36m, line \u001b[1;32m1\u001b[0m\n\u001b[1;33m    conda list\u001b[0m\n\u001b[1;37m             ^\u001b[0m\n\u001b[1;31mSyntaxError\u001b[0m\u001b[1;31m:\u001b[0m invalid syntax\n"
     ]
    }
   ],
   "source": [
    "conda list"
   ]
  },
  {
   "cell_type": "code",
   "execution_count": 3,
   "metadata": {
    "collapsed": false
   },
   "outputs": [
    {
     "name": "stdout",
     "output_type": "stream",
     "text": [
      "Using Anaconda Cloud api site https://api.anaconda.org\r\n",
      "Fetching package metadata: ....\r\n",
      "python                       1.0.1                         0  defaults        \r\n",
      "                             2.6.8                         1  defaults        \r\n",
      "                             2.6.8                         2  defaults        \r\n",
      "                             2.6.8                         3  defaults        \r\n",
      "                             2.6.8                         4  defaults        \r\n",
      "                             2.6.8                         5  defaults        \r\n",
      "                             2.6.8                         6  defaults        \r\n",
      "                             2.6.8                         7  defaults        \r\n",
      "                             2.6.9                         0  defaults        \r\n",
      "                             2.6.9                         1  defaults        \r\n",
      "                             2.7.3                         2  defaults        \r\n",
      "                             2.7.3                         3  defaults        \r\n",
      "                             2.7.3                         4  defaults        \r\n",
      "                             2.7.3                         5  defaults        \r\n",
      "                             2.7.3                         6  defaults        \r\n",
      "                             2.7.3                         7  defaults        \r\n",
      "                             2.7.4                         0  defaults        \r\n",
      "                             2.7.5                         0  defaults        \r\n",
      "                             2.7.5                         1  defaults        \r\n",
      "                             2.7.5                         2  defaults        \r\n",
      "                             2.7.5                         3  defaults        \r\n",
      "                             2.7.6                         0  defaults        \r\n",
      "                             2.7.6                         1  defaults        \r\n",
      "                             2.7.6                         2  defaults        \r\n",
      "                             2.7.7                         0  defaults        \r\n",
      "                             2.7.7                         2  defaults        \r\n",
      "                             2.7.8                         0  defaults        \r\n",
      "                             2.7.8                         1  defaults        \r\n",
      "                             2.7.9                         0  defaults        \r\n",
      "                             2.7.9                         1  defaults        \r\n",
      "                             2.7.9                        d1  defaults        [debug]\r\n",
      "                             2.7.9                         2  defaults        \r\n",
      "                             2.7.9                        d2  defaults        [debug]\r\n",
      "                             2.7.9                         3  defaults        \r\n",
      "                             2.7.10                        0  defaults        \r\n",
      "                             2.7.10                       d0  defaults        [debug]\r\n",
      "                             2.7.10                        1  defaults        \r\n",
      "                             2.7.10                        2  defaults        \r\n",
      "                          *  2.7.11                        0  defaults        \r\n",
      "                             2.7.11                       d0  defaults        [debug]\r\n",
      "                             3.3.0                      pro0  defaults        \r\n",
      "                             3.3.0                      pro1  defaults        \r\n",
      "                             3.3.0                         2  defaults        \r\n",
      "                             3.3.0                         3  defaults        \r\n",
      "                             3.3.0                         4  defaults        \r\n",
      "                             3.3.1                         0  defaults        \r\n",
      "                             3.3.2                         0  defaults        \r\n",
      "                             3.3.2                         1  defaults        \r\n",
      "                             3.3.3                         0  defaults        \r\n",
      "                             3.3.4                         0  defaults        \r\n",
      "                             3.3.5                         0  defaults        \r\n",
      "                             3.3.5                         1  defaults        \r\n",
      "                             3.3.5                         2  defaults        \r\n",
      "                             3.3.5                         3  defaults        \r\n",
      "                             3.3.5                         4  defaults        \r\n",
      "                             3.4.0                         0  defaults        \r\n",
      "                             3.4.1                         0  defaults        \r\n",
      "                             3.4.1                         1  defaults        \r\n",
      "                             3.4.1                         2  defaults        \r\n",
      "                             3.4.1                         3  defaults        \r\n",
      "                             3.4.1                         4  defaults        \r\n",
      "                             3.4.2                         0  defaults        \r\n",
      "                             3.4.3                         0  defaults        \r\n",
      "                             3.4.3                         1  defaults        \r\n",
      "                             3.4.3                         2  defaults        \r\n",
      "                             3.4.4                         0  defaults        \r\n",
      "                             3.5.0rc4                      0  defaults        \r\n",
      "                             3.5.0                         0  defaults        \r\n",
      "                             3.5.0                         1  defaults        \r\n",
      "                             3.5.1                         0  defaults        \r\n"
     ]
    }
   ],
   "source": [
    "conda search --full-name python"
   ]
  },
  {
   "cell_type": "markdown",
   "metadata": {},
   "source": [
    "### Python 인터프리터 동작 확인"
   ]
  },
  {
   "cell_type": "markdown",
   "metadata": {},
   "source": [
    "```\n",
    "$ python\n",
    "Python 2.7.11 |Anaconda custom (64-bit)| (default, Dec  6 2015, 18:08:32)\n",
    "[GCC 4.4.7 20120313 (Red Hat 4.4.7-1)] on linux2\n",
    "Type \"help\", \"copyright\", \"credits\" or \"license\" for more information.\n",
    "Anaconda is brought to you by Continuum Analytics.\n",
    "Please check out: http://continuum.io/thanks and https://anaconda.org\n",
    ">>>\n",
    ">>> exit()\n",
    "```"
   ]
  },
  {
   "cell_type": "markdown",
   "metadata": {},
   "source": [
    "### IPython 콘솔 동작 확인"
   ]
  },
  {
   "cell_type": "markdown",
   "metadata": {},
   "source": [
    "```\n",
    "$ ipython\n",
    "Python 2.7.11 |Anaconda custom (64-bit)| (default, Dec  6 2015, 18:08:32)\n",
    "Type \"copyright\", \"credits\" or \"license\" for more information.\n",
    "\n",
    "IPython 4.1.2 -- An enhanced Interactive Python.\n",
    "?         -> Introduction and overview of IPython's features.\n",
    "%quickref -> Quick reference.\n",
    "help      -> Python's own help system.\n",
    "object?   -> Details about 'object', use 'object??' for extra details.\n",
    "\n",
    "In [1]:\n",
    "\n",
    "In [1]: exit\n",
    "\n",
    "```"
   ]
  },
  {
   "cell_type": "markdown",
   "metadata": {},
   "source": [
    "### Jupyter Qt 콘솔  동작 확인"
   ]
  },
  {
   "cell_type": "markdown",
   "metadata": {},
   "source": [
    "* X-window가 없는 리눅스 환경에서는 실행되지 않음\n",
    "\n",
    "```\n",
    "$ jupyter qtconsole &\n",
    "```\n",
    "또는\n",
    "* 모든 프로그램 > Anaconda2 > Jupyter QtConsole  (windows)\n",
    "\n",
    "\n",
    "<img src=\"https://datascienceschool.net/upfiles/1d150e89cfd54b4d9352d0c3bd849ce9.png\" style=\"width:100%;\">"
   ]
  }
 ],
 "metadata": {
  "anaconda-cloud": {},
  "kernelspec": {
   "display_name": "Python [Root]",
   "language": "python",
   "name": "Python [Root]"
  },
  "language_info": {
   "codemirror_mode": {
    "name": "ipython",
    "version": 3
   },
   "file_extension": ".py",
   "mimetype": "text/x-python",
   "name": "python",
   "nbconvert_exporter": "python",
   "pygments_lexer": "ipython3",
   "version": "3.5.1"
  }
 },
 "nbformat": 4,
 "nbformat_minor": 0
}
