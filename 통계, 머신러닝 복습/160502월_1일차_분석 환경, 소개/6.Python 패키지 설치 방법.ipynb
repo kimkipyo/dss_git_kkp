{
 "cells": [
  {
   "cell_type": "markdown",
   "metadata": {},
   "source": [
    "# 파이썬 패키지 설치 방법"
   ]
  },
  {
   "cell_type": "markdown",
   "metadata": {},
   "source": [
    "## 패키지 관리자\n",
    "\n",
    "* conda: Ananconda 에서 제공하는 패키지 관리자\n",
    "* pip: Python 기본 패키지 관리자"
   ]
  },
  {
   "cell_type": "markdown",
   "metadata": {},
   "source": [
    "### conda를 이용한 패키지 설치"
   ]
  },
  {
   "cell_type": "markdown",
   "metadata": {},
   "source": [
    "\n",
    "```\n",
    "$ conda install seaborn\n",
    "Fetching package metadata: ....\n",
    "Solving package specifications: ...................................\n",
    "Package plan for installation in environment C:\\Anaconda:\n",
    "\n",
    "The following packages will be downloaded:\n",
    "\n",
    "    package                    |            build\n",
    "    ---------------------------|-----------------\n",
    "    seaborn-0.6.0              |      np110py27_0         248 KB\n",
    "\n",
    "The following NEW packages will be INSTALLED:\n",
    "\n",
    "    seaborn: 0.6.0-np110py27_0\n",
    "\n",
    "Proceed ([y]/n)?\n",
    "\n",
    "Fetching packages ...\n",
    "seaborn-0.6.0- 100% |###############################| Time: 0:00:01 155.53 kB/s\n",
    "Extracting packages ...\n",
    "[      COMPLETE      ]|##################################################| 100%\n",
    "Linking packages ...\n",
    "[      COMPLETE      ]|##################################################| 100%\n",
    "\n",
    "```"
   ]
  },
  {
   "cell_type": "markdown",
   "metadata": {},
   "source": [
    "### pip를 이용한 패키지 설치"
   ]
  },
  {
   "cell_type": "markdown",
   "metadata": {},
   "source": [
    "```\n",
    "$ pip install quandl\n",
    "Collecting quandl\n",
    "  Downloading Quandl-3.0.0-py2.py3-none-any.whl\n",
    "Requirement already satisfied (use --upgrade to upgrade): pyOpenSSL in ./anaconda2/lib/python2.7/site-packages (from quandl)\n",
    "Requirement already satisfied (use --upgrade to upgrade): pyasn1 in ./anaconda2/lib/python2.7/site-packages (from quandl)\n",
    "Collecting more-itertools (from quandl)\n",
    "  Downloading more-itertools-2.2.tar.gz\n",
    "Requirement already satisfied (use --upgrade to upgrade): six in ./anaconda2/lib/python2.7/site-packages (from quandl)\n",
    "Collecting ndg-httpsclient (from quandl)\n",
    "  Downloading ndg_httpsclient-0.4.0.tar.gz\n",
    "Requirement already satisfied (use --upgrade to upgrade): numpy>=1.8 in ./anaconda2/lib/python2.7/site-packages (from quandl)\n",
    "Requirement already satisfied (use --upgrade to upgrade): python-dateutil in ./anaconda2/lib/python2.7/site-packages (from quandl)\n",
    "Requirement already satisfied (use --upgrade to upgrade): pandas>=0.14 in ./anaconda2/lib/python2.7/site-packages (from quandl)\n",
    "Requirement already satisfied (use --upgrade to upgrade): requests>=2.7.0 in ./anaconda2/lib/python2.7/site-packages (from quandl)\n",
    "Collecting inflection>=0.3.1 (from quandl)\n",
    "  Downloading inflection-0.3.1.tar.gz\n",
    "Requirement already satisfied (use --upgrade to upgrade): cryptography>=0.7 in ./anaconda2/lib/python2.7/site-packages (from pyOpenSSL->quandl)\n",
    "Requirement already satisfied (use --upgrade to upgrade): pytz>=2011k in ./anaconda2/lib/python2.7/site-packages (from pandas>=0.14->quandl)\n",
    "Requirement already satisfied (use --upgrade to upgrade): idna>=2.0 in ./anaconda2/lib/python2.7/site-packages (from cryptography>=0.7->pyOpenSSL->quandl)\n",
    "Requirement already satisfied (use --upgrade to upgrade): setuptools>=11.3 in ./anaconda2/lib/python2.7/site-packages/setuptools-20.6.7-py2.7.egg (from cryptography>=0.7->pyOpenSSL->quandl)\n",
    "Requirement already satisfied (use --upgrade to upgrade): enum34 in ./anaconda2/lib/python2.7/site-packages (from cryptography>=0.7->pyOpenSSL->quandl)\n",
    "Requirement already satisfied (use --upgrade to upgrade): ipaddress in ./anaconda2/lib/python2.7/site-packages (from cryptography>=0.7->pyOpenSSL->quandl)\n",
    "Requirement already satisfied (use --upgrade to upgrade): cffi>=1.4.1 in ./anaconda2/lib/python2.7/site-packages (from cryptography>=0.7->pyOpenSSL->quandl)\n",
    "Requirement already satisfied (use --upgrade to upgrade): pycparser in ./anaconda2/lib/python2.7/site-packages (from cffi>=1.4.1->cryptography>=0.7->pyOpenSSL->quandl)\n",
    "Building wheels for collected packages: more-itertools, ndg-httpsclient, inflection\n",
    "  Running setup.py bdist_wheel for more-itertools ... done\n",
    "  Stored in directory: /home/joel/.cache/pip/wheels/1e/74/ea/935c038db0e8a7077c66d5da0d9b6981daee2bebb991fa1794\n",
    "  Running setup.py bdist_wheel for ndg-httpsclient ... done\n",
    "  Stored in directory: /home/joel/.cache/pip/wheels/c9/88/f1/348d5ec506bef5a2a8351243028289a7bb9513b8dd8bbf1c14\n",
    "  Running setup.py bdist_wheel for inflection ... done\n",
    "  Stored in directory: /home/joel/.cache/pip/wheels/41/fa/e9/2995f4ab121e9f30f342fa2d43f0b27f851a0cb9f0d98d3b45\n",
    "Successfully built more-itertools ndg-httpsclient inflection\n",
    "Installing collected packages: more-itertools, ndg-httpsclient, inflection, quandl\n",
    "Successfully installed inflection-0.3.1 more-itertools-2.2 ndg-httpsclient-0.4.0 quandl-3.0.0\n",
    "```"
   ]
  }
 ],
 "metadata": {
  "kernelspec": {
   "display_name": "Bash",
   "language": "bash",
   "name": "bash"
  },
  "language_info": {
   "codemirror_mode": "shell",
   "file_extension": ".sh",
   "mimetype": "text/x-sh",
   "name": "bash"
  }
 },
 "nbformat": 4,
 "nbformat_minor": 0
}