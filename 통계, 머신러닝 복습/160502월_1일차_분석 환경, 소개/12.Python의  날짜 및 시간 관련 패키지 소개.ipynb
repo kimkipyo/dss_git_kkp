{
 "cells": [
  {
   "cell_type": "markdown",
   "metadata": {},
   "source": [
    "# Python의  날짜 및 시간 관련 패키지 소개\n"
   ]
  },
  {
   "cell_type": "markdown",
   "metadata": {},
   "source": [
    "* 날짜/시간 관련 패키지\n",
    "\n",
    "  * `datetime` \n",
    "    * https://docs.python.org/2/library/datetime.html\n",
    "    \n",
    "  * `time`\n",
    "    * https://docs.python.org/2/library/time.html\n",
    "    \n",
    "  * `pytz`\n",
    "    * http://pythonhosted.org/pytz/\n",
    "    \n",
    "  * `dateutil`\n",
    "    * http://dateutil.readthedocs.org/en/latest/index.html\n",
    "    "
   ]
  },
  {
   "cell_type": "markdown",
   "metadata": {},
   "source": [
    "## datetime 패키지\n",
    "\n",
    "* 서브 패키지\n",
    " * datetime 클래스 : 날짜+시간 복합 정보\n",
    " * date 클래스: 날짜 정보\n",
    " * time 클래스: 시간 정보\n",
    " * timedelta 클래스: 시간 차이 정보\n",
    " * tzinfo 클래스: 시간대 정보"
   ]
  },
  {
   "cell_type": "code",
   "execution_count": 1,
   "metadata": {
    "collapsed": true
   },
   "outputs": [],
   "source": [
    "import datetime"
   ]
  },
  {
   "cell_type": "markdown",
   "metadata": {},
   "source": [
    "### datetime.datetime 클래스\n",
    "\n",
    "* 날짜와 시간 정보를 가지는 객체\n",
    "* Class Methods\n",
    " * `now([tz])`: 현재 시각\n",
    " * `strptime(date_string, format)`: 문자열 -> datetime \n",
    " * `fromtimestamp()`: timestamp -> datetime\n",
    " * `fromordinal(ordinal)`: proleptic Gregorian ordinal (엑셀 날짜) -> datetime\n",
    " * `combine(date, time)`: date + time -> datetime"
   ]
  },
  {
   "cell_type": "markdown",
   "metadata": {},
   "source": [
    "### 현재시각"
   ]
  },
  {
   "cell_type": "code",
   "execution_count": 2,
   "metadata": {
    "collapsed": false
   },
   "outputs": [
    {
     "data": {
      "text/plain": [
       "datetime.datetime(2016, 8, 23, 7, 13, 28, 664000)"
      ]
     },
     "execution_count": 2,
     "metadata": {},
     "output_type": "execute_result"
    }
   ],
   "source": [
    "dt = datetime.datetime.now()\n",
    "dt"
   ]
  },
  {
   "cell_type": "code",
   "execution_count": 3,
   "metadata": {
    "collapsed": false
   },
   "outputs": [
    {
     "data": {
      "text/plain": [
       "datetime.datetime"
      ]
     },
     "execution_count": 3,
     "metadata": {},
     "output_type": "execute_result"
    }
   ],
   "source": [
    "type(dt)"
   ]
  },
  {
   "cell_type": "markdown",
   "metadata": {},
   "source": [
    "* Instance Attributes 속성\n",
    " * `year`, `month`, `day`, `hour`, `minute`, `second`, `microsecond`\n",
    " * `tzinfo`\n",
    "* Instance Methods 메소드\n",
    " * `weekday()`: 요일 {0:월, 1:화, 2:수, 3:목, 4:금, 5:토, 6:일}\n",
    " * `strftime(format)`: datetime -> 문자열\n",
    " * `toordinal()`: datetime -> proleptic Gregorian ordinal (엑셀 날짜)\n",
    " * `date()`: datetime -> date\n",
    " * `time()`: datetime -> time "
   ]
  },
  {
   "cell_type": "code",
   "execution_count": 4,
   "metadata": {
    "collapsed": false,
    "scrolled": true
   },
   "outputs": [
    {
     "data": {
      "text/plain": [
       "(2016, 8, 23, 7, 13, 28, 664000, None)"
      ]
     },
     "execution_count": 4,
     "metadata": {},
     "output_type": "execute_result"
    }
   ],
   "source": [
    "dt.year, dt.month, dt.day, dt.hour, dt.minute, dt.second, dt.microsecond, dt.tzinfo"
   ]
  },
  {
   "cell_type": "code",
   "execution_count": 5,
   "metadata": {
    "collapsed": false
   },
   "outputs": [
    {
     "data": {
      "text/plain": [
       "1"
      ]
     },
     "execution_count": 5,
     "metadata": {},
     "output_type": "execute_result"
    }
   ],
   "source": [
    "dt.weekday() #  {0:월, 1:화, 2:수, 3:목, 4:금, 5:토, 6:일}"
   ]
  },
  {
   "cell_type": "markdown",
   "metadata": {},
   "source": [
    "### 문자열 변환\n",
    "\n",
    "* Parsing\n",
    " * 문자열 -> datetime \n",
    " * `strptime(date_string, format)`\n",
    "* Formatting\n",
    " * datetime -> 문자열\n",
    " * `strftime(format)` "
   ]
  },
  {
   "cell_type": "code",
   "execution_count": 7,
   "metadata": {
    "collapsed": false
   },
   "outputs": [
    {
     "data": {
      "text/plain": [
       "datetime.datetime(2016, 8, 23, 7, 20)"
      ]
     },
     "execution_count": 7,
     "metadata": {},
     "output_type": "execute_result"
    }
   ],
   "source": [
    "dt1 = datetime.datetime.strptime(\"2016-08-23 07:20\", \"%Y-%m-%d %H:%M\")\n",
    "dt1"
   ]
  },
  {
   "cell_type": "code",
   "execution_count": 8,
   "metadata": {
    "collapsed": false
   },
   "outputs": [
    {
     "data": {
      "text/plain": [
       "'23/08/16'"
      ]
     },
     "execution_count": 8,
     "metadata": {},
     "output_type": "execute_result"
    }
   ],
   "source": [
    "dt1.strftime(\"%d/%m/%y\")"
   ]
  },
  {
   "cell_type": "code",
   "execution_count": 11,
   "metadata": {
    "collapsed": false
   },
   "outputs": [
    {
     "data": {
      "text/plain": [
       "'Tuesday 23. August 2016'"
      ]
     },
     "execution_count": 11,
     "metadata": {},
     "output_type": "execute_result"
    }
   ],
   "source": [
    "dt1.strftime(\"%A %d. %B %Y\")"
   ]
  },
  {
   "cell_type": "markdown",
   "metadata": {},
   "source": [
    "* format 기호\n",
    " * https://docs.python.org/2/library/datetime.html#strftime-and-strptime-behavior\n",
    " * `%Y`: 년, zero-padded decimal\n",
    " * `%m`: 월, zero-padded decimal\n",
    " * `%d`: 일, zero-padded decimal\n",
    " * `%H`: 시, zero-padded decimal\n",
    " * `%M`: 분, zero-padded decimal\n",
    " * `%S`: 초, zero-padded decimal"
   ]
  },
  {
   "cell_type": "code",
   "execution_count": 12,
   "metadata": {
    "collapsed": false
   },
   "outputs": [
    {
     "name": "stdout",
     "output_type": "stream",
     "text": [
      "2016년 08월 23일 07시 20분 00초\n"
     ]
    }
   ],
   "source": [
    "s = dt1.strftime(\"%Y년 %m월 %d일 %H시 %M분 %S초\")\n",
    "print(s)"
   ]
  },
  {
   "cell_type": "code",
   "execution_count": 13,
   "metadata": {
    "collapsed": false
   },
   "outputs": [
    {
     "name": "stdout",
     "output_type": "stream",
     "text": [
      "2016년 08월 23일 07시 20분 00초\n"
     ]
    }
   ],
   "source": [
    "s = dt1.strftime(u\"%Y년 %m월 %d일 %H시 %M분 %S초\".encode(\"utf-8\"))\n",
    "print(s)"
   ]
  },
  {
   "cell_type": "markdown",
   "metadata": {},
   "source": [
    "### datetime, date, time 변환\n",
    "\n",
    "* datetime -> date 또는 time \n",
    " * `date()` 메소드 또는 `time()` 메소드\n",
    "* date + time -> datetime\n",
    " * `combine()` 메소드"
   ]
  },
  {
   "cell_type": "code",
   "execution_count": 14,
   "metadata": {
    "collapsed": false
   },
   "outputs": [
    {
     "data": {
      "text/plain": [
       "datetime.datetime(2016, 8, 23, 7, 25, 59, 443000)"
      ]
     },
     "execution_count": 14,
     "metadata": {},
     "output_type": "execute_result"
    }
   ],
   "source": [
    "dt = datetime.datetime.now()\n",
    "dt"
   ]
  },
  {
   "cell_type": "code",
   "execution_count": 15,
   "metadata": {
    "collapsed": false
   },
   "outputs": [
    {
     "data": {
      "text/plain": [
       "(datetime.date(2016, 8, 23), datetime.time(7, 25, 59, 443000))"
      ]
     },
     "execution_count": 15,
     "metadata": {},
     "output_type": "execute_result"
    }
   ],
   "source": [
    "dt.date(), dt.time()"
   ]
  },
  {
   "cell_type": "code",
   "execution_count": 16,
   "metadata": {
    "collapsed": false
   },
   "outputs": [
    {
     "data": {
      "text/plain": [
       "datetime.date(2015, 12, 31)"
      ]
     },
     "execution_count": 16,
     "metadata": {},
     "output_type": "execute_result"
    }
   ],
   "source": [
    "d = datetime.date(2015, 12, 31)\n",
    "d"
   ]
  },
  {
   "cell_type": "code",
   "execution_count": 19,
   "metadata": {
    "collapsed": false
   },
   "outputs": [
    {
     "data": {
      "text/plain": [
       "datetime.time(7, 27, 30)"
      ]
     },
     "execution_count": 19,
     "metadata": {},
     "output_type": "execute_result"
    }
   ],
   "source": [
    "t = datetime.time(7, 27, 30)\n",
    "t"
   ]
  },
  {
   "cell_type": "code",
   "execution_count": 20,
   "metadata": {
    "collapsed": false
   },
   "outputs": [
    {
     "data": {
      "text/plain": [
       "datetime.datetime(2015, 12, 31, 7, 27, 30)"
      ]
     },
     "execution_count": 20,
     "metadata": {},
     "output_type": "execute_result"
    }
   ],
   "source": [
    "datetime.datetime.combine(d, t)"
   ]
  },
  {
   "cell_type": "markdown",
   "metadata": {},
   "source": [
    "### timedelta와 날짜시간 연산\n",
    "\n",
    "* 빼기\n",
    " * datetime - datetime => timedelta\n",
    "\n",
    "* 더하기 \n",
    " * datetime + timedelta => datetime"
   ]
  },
  {
   "cell_type": "code",
   "execution_count": 21,
   "metadata": {
    "collapsed": false
   },
   "outputs": [
    {
     "data": {
      "text/plain": [
       "datetime.timedelta(144, 43200)"
      ]
     },
     "execution_count": 21,
     "metadata": {},
     "output_type": "execute_result"
    }
   ],
   "source": [
    "dt1 = datetime.datetime(2016, 8, 23, 16)\n",
    "dt2 = datetime.datetime(2016, 4, 1, 4)\n",
    "td = dt1- dt2\n",
    "td"
   ]
  },
  {
   "cell_type": "markdown",
   "metadata": {},
   "source": [
    "### timedelta 클래스\n",
    "\n",
    "* 속성\n",
    " * `days`: 일수\n",
    " * `seconds`: 초. (0 ~ 86399)\n",
    " * `microseconds`: 마이크로초 (0 and 999999)\n",
    "\n",
    "* 메소드\n",
    " * `total_seconds()`: 모든 속성을 초단위로 모아서 변환"
   ]
  },
  {
   "cell_type": "code",
   "execution_count": 22,
   "metadata": {
    "collapsed": false
   },
   "outputs": [
    {
     "data": {
      "text/plain": [
       "(144, 43200, 0)"
      ]
     },
     "execution_count": 22,
     "metadata": {},
     "output_type": "execute_result"
    }
   ],
   "source": [
    "td.days, td.seconds, td.microseconds"
   ]
  },
  {
   "cell_type": "code",
   "execution_count": 23,
   "metadata": {
    "collapsed": false,
    "scrolled": true
   },
   "outputs": [
    {
     "data": {
      "text/plain": [
       "12484800.0"
      ]
     },
     "execution_count": 23,
     "metadata": {},
     "output_type": "execute_result"
    }
   ],
   "source": [
    "td.total_seconds()"
   ]
  },
  {
   "cell_type": "markdown",
   "metadata": {},
   "source": [
    "## time 패키지\n",
    "\n",
    "* platform C library 기반의 low 레벨 시간처리\n",
    "* https://docs.python.org/2/library/time.html"
   ]
  },
  {
   "cell_type": "markdown",
   "metadata": {},
   "source": [
    "### sleep 함수\n",
    "\n",
    "* 일정 시간 동안 프로세스 정지"
   ]
  },
  {
   "cell_type": "code",
   "execution_count": 24,
   "metadata": {
    "collapsed": false
   },
   "outputs": [
    {
     "name": "stdout",
     "output_type": "stream",
     "text": [
      "start...\n",
      "1\n",
      "2\n",
      "3\n",
      "4\n",
      "finish!\n"
     ]
    }
   ],
   "source": [
    "import time\n",
    "print(\"start...\")\n",
    "time.sleep(1)\n",
    "print(1)\n",
    "time.sleep(2)\n",
    "print(2)\n",
    "time.sleep(3)\n",
    "print(3)\n",
    "time.sleep(4)\n",
    "print(4)\n",
    "time.sleep(1)\n",
    "print(\"finish!\")"
   ]
  },
  {
   "cell_type": "markdown",
   "metadata": {},
   "source": [
    "### time 패키지의 시간 표시\n",
    "\n",
    "* time_struct\n",
    " * 9-tuple 내부 구조체\n",
    "* 단일 부동소수점 숫자 \n",
    " * 시간을 하나의 숫자로 표시 가능\n",
    " * time 패키지의 모든 시각은 epoch로부터 흐른 초단위 숫자로 표시\n",
    " * epoch\n",
    "  * 1970년 1월 1일 0시 기준\n"
   ]
  },
  {
   "cell_type": "markdown",
   "metadata": {},
   "source": [
    "### time package 명령어\n",
    "* `time()`: 현재 시각을 단일 부동소수점 숫자로 반환\n",
    "* `localtime()`: 현재 시각을 time_struct로 반환\n",
    "* `mktime(ts)`: time_struct -> 단일 부동소수점 숫자 변환"
   ]
  },
  {
   "cell_type": "code",
   "execution_count": 25,
   "metadata": {
    "collapsed": false
   },
   "outputs": [
    {
     "data": {
      "text/plain": [
       "1471905279.816"
      ]
     },
     "execution_count": 25,
     "metadata": {},
     "output_type": "execute_result"
    }
   ],
   "source": [
    "time.time()"
   ]
  },
  {
   "cell_type": "code",
   "execution_count": 26,
   "metadata": {
    "collapsed": false
   },
   "outputs": [
    {
     "data": {
      "text/plain": [
       "time.struct_time(tm_year=2016, tm_mon=8, tm_mday=23, tm_hour=7, tm_min=34, tm_sec=48, tm_wday=1, tm_yday=236, tm_isdst=0)"
      ]
     },
     "execution_count": 26,
     "metadata": {},
     "output_type": "execute_result"
    }
   ],
   "source": [
    "ts = time.localtime()\n",
    "ts"
   ]
  },
  {
   "cell_type": "code",
   "execution_count": 27,
   "metadata": {
    "collapsed": false
   },
   "outputs": [
    {
     "data": {
      "text/plain": [
       "1471905288.0"
      ]
     },
     "execution_count": 27,
     "metadata": {},
     "output_type": "execute_result"
    }
   ],
   "source": [
    "time.mktime(ts)"
   ]
  },
  {
   "cell_type": "markdown",
   "metadata": {},
   "source": [
    "## pytz 패키지\n",
    "* 세계 시간대 변환"
   ]
  },
  {
   "cell_type": "code",
   "execution_count": 28,
   "metadata": {
    "collapsed": true
   },
   "outputs": [],
   "source": [
    "import pytz"
   ]
  },
  {
   "cell_type": "code",
   "execution_count": 30,
   "metadata": {
    "collapsed": false
   },
   "outputs": [
    {
     "data": {
      "text/plain": [
       "<DstTzInfo 'Asia/Seoul' LMT+8:28:00 STD>"
      ]
     },
     "execution_count": 30,
     "metadata": {},
     "output_type": "execute_result"
    }
   ],
   "source": [
    "seoul = pytz.timezone(\"Asia/Seoul\")\n",
    "seoul"
   ]
  },
  {
   "cell_type": "markdown",
   "metadata": {},
   "source": [
    "### datetime 객체에 시간대 정보 넣기\n",
    "* localize 메소드"
   ]
  },
  {
   "cell_type": "code",
   "execution_count": 31,
   "metadata": {
    "collapsed": false
   },
   "outputs": [
    {
     "data": {
      "text/plain": [
       "datetime.datetime(2016, 8, 23, 7, 37, 1, 325000)"
      ]
     },
     "execution_count": 31,
     "metadata": {},
     "output_type": "execute_result"
    }
   ],
   "source": [
    "t1 = datetime.datetime.now()\n",
    "t1"
   ]
  },
  {
   "cell_type": "code",
   "execution_count": 32,
   "metadata": {
    "collapsed": false
   },
   "outputs": [
    {
     "data": {
      "text/plain": [
       "datetime.datetime(2016, 8, 23, 7, 37, 1, 325000, tzinfo=<DstTzInfo 'Asia/Seoul' KST+9:00:00 STD>)"
      ]
     },
     "execution_count": 32,
     "metadata": {},
     "output_type": "execute_result"
    }
   ],
   "source": [
    "lt1 = seoul.localize(t1)\n",
    "lt1"
   ]
  },
  {
   "cell_type": "code",
   "execution_count": 33,
   "metadata": {
    "collapsed": false
   },
   "outputs": [
    {
     "data": {
      "text/plain": [
       "datetime.datetime(2016, 8, 22, 22, 37, 58, 854000)"
      ]
     },
     "execution_count": 33,
     "metadata": {},
     "output_type": "execute_result"
    }
   ],
   "source": [
    "t2 = datetime.datetime.utcnow()\n",
    "t2"
   ]
  },
  {
   "cell_type": "code",
   "execution_count": 34,
   "metadata": {
    "collapsed": false
   },
   "outputs": [
    {
     "data": {
      "text/plain": [
       "datetime.datetime(2016, 8, 22, 22, 37, 58, 854000, tzinfo=<UTC>)"
      ]
     },
     "execution_count": 34,
     "metadata": {},
     "output_type": "execute_result"
    }
   ],
   "source": [
    "lt2 = pytz.utc.localize(t2)\n",
    "lt2"
   ]
  },
  {
   "cell_type": "code",
   "execution_count": 35,
   "metadata": {
    "collapsed": false
   },
   "outputs": [
    {
     "data": {
      "text/plain": [
       "datetime.datetime(2016, 8, 22, 22, 37, 58, 854000, tzinfo=<UTC>)"
      ]
     },
     "execution_count": 35,
     "metadata": {},
     "output_type": "execute_result"
    }
   ],
   "source": [
    "lt3 = t2.replace(tzinfo=pytz.utc)\n",
    "lt3"
   ]
  },
  {
   "cell_type": "markdown",
   "metadata": {},
   "source": [
    "### 타시간대로 변환\n",
    "* astimezone 메소드"
   ]
  },
  {
   "cell_type": "code",
   "execution_count": 36,
   "metadata": {
    "collapsed": false
   },
   "outputs": [
    {
     "data": {
      "text/plain": [
       "datetime.datetime(2016, 8, 22, 18, 39, 39, 124000, tzinfo=<DstTzInfo 'US/Eastern' EDT-1 day, 20:00:00 DST>)"
      ]
     },
     "execution_count": 36,
     "metadata": {},
     "output_type": "execute_result"
    }
   ],
   "source": [
    "t1 = datetime.datetime.now()\n",
    "lt1 = seoul.localize(t1)\n",
    "lt4 = lt1.astimezone(pytz.timezone(\"US/Eastern\"))\n",
    "lt4"
   ]
  },
  {
   "cell_type": "markdown",
   "metadata": {},
   "source": [
    "* http://www.timeanddate.com/worldclock/usa/new-york"
   ]
  },
  {
   "cell_type": "markdown",
   "metadata": {},
   "source": [
    "## dateutil\n",
    "\n",
    "* parse 함수\n",
    "* relativedelta 클래스"
   ]
  },
  {
   "cell_type": "markdown",
   "metadata": {},
   "source": [
    "### `parse()` 함수\n",
    "\n",
    "* 많이 사용되는 날짜 시간 관련 문자열 형식을 스스로 판단"
   ]
  },
  {
   "cell_type": "code",
   "execution_count": 37,
   "metadata": {
    "collapsed": true
   },
   "outputs": [],
   "source": [
    "from dateutil.parser import parse"
   ]
  },
  {
   "cell_type": "code",
   "execution_count": 38,
   "metadata": {
    "collapsed": false
   },
   "outputs": [
    {
     "data": {
      "text/plain": [
       "datetime.datetime(2016, 8, 23, 0, 0)"
      ]
     },
     "execution_count": 38,
     "metadata": {},
     "output_type": "execute_result"
    }
   ],
   "source": [
    "parse('2016-08-23')"
   ]
  },
  {
   "cell_type": "code",
   "execution_count": 39,
   "metadata": {
    "collapsed": false
   },
   "outputs": [
    {
     "data": {
      "text/plain": [
       "datetime.datetime(2016, 8, 23, 7, 40, 33)"
      ]
     },
     "execution_count": 39,
     "metadata": {},
     "output_type": "execute_result"
    }
   ],
   "source": [
    "parse(\"Aug 23, 2016 07:40:33 AM\")"
   ]
  },
  {
   "cell_type": "code",
   "execution_count": 41,
   "metadata": {
    "collapsed": false
   },
   "outputs": [
    {
     "data": {
      "text/plain": [
       "datetime.datetime(2009, 7, 7, 0, 0)"
      ]
     },
     "execution_count": 41,
     "metadata": {},
     "output_type": "execute_result"
    }
   ],
   "source": [
    "parse('7/7/2009')"
   ]
  }
 ],
 "metadata": {
  "kernelspec": {
   "display_name": "Python [py27]",
   "language": "python",
   "name": "Python [py27]"
  },
  "language_info": {
   "codemirror_mode": {
    "name": "ipython",
    "version": 2
   },
   "file_extension": ".py",
   "mimetype": "text/x-python",
   "name": "python",
   "nbconvert_exporter": "python",
   "pygments_lexer": "ipython2",
   "version": "2.7.12"
  }
 },
 "nbformat": 4,
 "nbformat_minor": 0
}
