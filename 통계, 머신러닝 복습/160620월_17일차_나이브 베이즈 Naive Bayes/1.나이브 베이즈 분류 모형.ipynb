{
 "cells": [
  {
   "cell_type": "markdown",
   "metadata": {},
   "source": [
    "# 나이브 베이즈 분류 모형"
   ]
  },
  {
   "cell_type": "markdown",
   "metadata": {},
   "source": [
    "나이브 베이즈 분류 모형(Naive Bayes classification model)은 대표적인 확률적 생성 모형이다. \n",
    "\n",
    "타겟 변수 $y$의 각 클래스 $\\{C_1,\\cdots,C_K\\}$ 에 대한 독립 변수 $x$의 조건부 확률 분포 정보 $p(x \\mid y = C_k)$ 를 사용하여 주어진 새로운 독립 변수 값 $x_{\\text{new}}$에 대한 타켓 변수의 각 클래스의 조건부 확률 $p(y = C_k \\mid x_{\\text{new}})$ 를 추정한 후 가장 조건부 확률이 큰 클래스 $k$를 선택하는 방법이다.\n",
    "\n"
   ]
  },
  {
   "cell_type": "markdown",
   "metadata": {},
   "source": [
    "## 조건부 확률의 계산"
   ]
  },
  {
   "cell_type": "markdown",
   "metadata": {},
   "source": [
    "다음과 같이 베이즈 규칙을 사용하여 조건부 확률 $p(y = C_k \\mid x_{\\text{new}})$ 을 계산한다.\n",
    "\n",
    "$$\n",
    "P(y = C_k \\mid x_{\\text{new}}) = \\dfrac{P(x_{\\text{new}} \\mid y = C_k)\\; P(y = C_k)}{P(x_{\\text{new}})}\n",
    "$$\n",
    "\n",
    "최종적으로는 각 클래스 $k$에 대한 확률을 비교하여 최고값을 계산하기만 하면 되므로 분모에 있는 주변 확률(marginal probability) ${P(x_{\\text{new}})}$은 계산하지 않는다.\n",
    "\n",
    "$$\n",
    "P(y = C_k \\mid x_{\\text{new}}) \\;\\; \\propto \\;\\; P(x_{\\text{new}} \\mid y = C_k) \\; P(y = C_k)\n",
    "$$\n"
   ]
  },
  {
   "cell_type": "markdown",
   "metadata": {},
   "source": [
    "여기에서 사전 확률(prior) $P(y = C_k)$는 다음과 같이 쉽게 구할 수 있다.\n",
    "\n",
    "$$\n",
    "P(y = C_k) \\approx \\frac{\\text{number of samples with }y = C_k}{\\text{number of all samples}}\n",
    "$$"
   ]
  },
  {
   "cell_type": "markdown",
   "metadata": {},
   "source": [
    "$y$에 대한 $x$의 조건부 확률인 우도(likelihood)의 경우에는 일반적으로 정규 분포나 베르누이 분포와 같은 특정한 모형을 가정하여 다음과 같이 계산한다.\n",
    "\n",
    "1. $P(x \\mid y = C_k)$ 가 특정한 확률 분포 모형을 따른다고 가정한다.\n",
    "2. 트레이닝 데이터 $\\{x_1, \\cdots, x_N\\}$을 사용하여 이 모형의 모수(parameter)를 구한다.\n",
    "3. 모수를 알고 있으므로 새로운 독립 변수 값 $x_{\\text{new}}$이 어떤 값이 되더라도 $P(x_{\\text{new}} \\mid y = C_k)$ 를 계산할 수 있다."
   ]
  },
  {
   "cell_type": "markdown",
   "metadata": {},
   "source": [
    "## 우도 모형"
   ]
  },
  {
   "cell_type": "markdown",
   "metadata": {},
   "source": [
    "우도의 모형으로 많이 사용하는 것은 다음과 같다.\n",
    "\n",
    "* 베르누이 분포\n",
    "  * $x$가 0 또는 1 값만을 가질 수 있다.\n",
    "  * $x$가 1 이 될 확률은 고정되어 있다.\n",
    "  * 예: 동전을 던진 결과로 어느 동전을 던졌는지를 찾아내는 모형\n",
    "  \n",
    "$$ P(x_i \\mid y = C_k) = \\theta_k^x (1-\\theta_k)^{(1-x_i)} $$\n",
    "\n",
    "\n",
    "* 다항 분포 \n",
    "  * $(x_1, \\ldots, x_n)$ 이 0 또는 양의 정수\n",
    "  * 예: 주사위를 던진 결과로 어느 주사위를 던졌는지를 찾아내는 모형\n",
    "\n",
    "$$ P(x_1, \\ldots, x_n \\mid y = C_k) = \\prod_i \\theta_k^{x_i}$$\n",
    "\n",
    "\n",
    "* 가우시안 정규 분포\n",
    "  * $x$가 실수로 특정한 값 근처\n",
    "  * 예: 시험 점수로 학생이 누구인지를 찾아내는 모형\n",
    "  \n",
    "  $$ P(x_i \\mid y = C_k) = \\dfrac{1}{\\sqrt{2\\pi\\sigma_k^2}} \\exp \\left(-\\dfrac{(x_i-\\mu_k)^2}{2\\sigma_k^2}\\right) $$\n",
    "  "
   ]
  },
  {
   "cell_type": "markdown",
   "metadata": {},
   "source": [
    "* i가 의미하는 것은 보통 동전이 여러 개(클래스가 여러 개) 있다고 가정\n",
    "* 다항 분포는 하나하나가 서로 관련이 있다는 의미. 다항 분포에서 하나의 카테고리들 안의 x들은 완전히 독립은 아니다. 왜냐하면 모두 더하면 1이 되기 때문이다. 완벽한 독립은 아니지만 가우시안과 결과값은 비슷하다(거의 같다?)\n",
    "* 가우시안 정규 분포는 베르누이처럼 0,1 값만 가지는 것이 아니라 모든 실수가 서로 관련이 없다. 독립적이다."
   ]
  },
  {
   "cell_type": "markdown",
   "metadata": {},
   "source": [
    "## 나이브 가정"
   ]
  },
  {
   "cell_type": "markdown",
   "metadata": {},
   "source": [
    "독립 변수 $x$가 다차원(multi-dimensional) $x = (x_1, \\ldots, x_n)$ 이면 위에서 사용한 우도 $P(x \\mid y = C_k)$  는 원래 모든 $x_i$에 대한 결합 확률(joint probability) $P(x_1, \\ldots, x_n \\mid y = C_k)$ 을 사용해야 한다. 그러나 이러한 결합 확률은 실제로 입수하기 어렵기 때문에 모든 차원의 개별 독립 변수 요소들이 서로 독립(independent)이라는 가정을 흔히 사용한다. 이러한 가정을 나이브 가정(Naive assumption)이라고 한다.\n",
    "\n",
    "나이브 가정하에서는 결합 확률이 개별 확률의 곱으로 나타난다.\n",
    "\n",
    "$$\n",
    "P(x_1, \\ldots, x_n \\mid y = C_k) = \\prod_{i=1}^n P(x_i \\mid y = C_k)\n",
    "$$\n",
    "\n",
    "\n",
    "\n",
    "$$\n",
    "P(y = C_k \\mid x_{\\text{new}}) \\;\\; \\propto \\;\\; \\prod_{i=1}^n P(x_{\\text{new},i} \\mid y = C_k)\\; P(y = C_k)\n",
    "$$\n"
   ]
  },
  {
   "cell_type": "markdown",
   "metadata": {},
   "source": [
    "* feature의 개수만큼 동전을 가지고 있다고 가정 \n",
    "* 가우시안의 경우에는 임의의 실수가 나올 수 있다. \n",
    "* 다항 분포는 상대적인 것 까지 나오게 된다.\n",
    "* ovr이나 ovo 방식으로 전환할 필요가 없다. 멀티클래스의 경우 각각의 모형에서 모형을 더 만들면 되기 때문에. 그냥 1번 더 계산을 더하면 된다. \n",
    "* 차원이 아무리 늘어나도 알고리즘을 바꿀 필요가 없다. 자동적으로 멀티클래스가 된다. "
   ]
  },
  {
   "cell_type": "markdown",
   "metadata": {},
   "source": [
    "## Scikit-Learn에서 제공하는 나이브 베이즈 모형"
   ]
  },
  {
   "cell_type": "markdown",
   "metadata": {},
   "source": [
    "Scikit-Learn의 naive_bayes 서브패키지에서는 다음과 같은 세가지 나이브 베이즈 모형 클래스를 제공한다.\n",
    "\n",
    "* [`BernoulliNB`](http://scikit-learn.org/stable/modules/generated/sklearn.naive_bayes.BernoulliNB.html): 베르누이 분포 나이브 베이즈\n",
    "* [`MultinomialNB`](http://scikit-learn.org/stable/modules/generated/sklearn.naive_bayes.MultinomialNB.html): 다항 분포 나이브 베이즈\n",
    "* [`GaussianNB`](http://scikit-learn.org/stable/modules/generated/sklearn.naive_bayes.GaussianNB.html):\t가우시안 정규 분포 나이브 베이즈\n",
    "\n",
    "이 클래스들은 다음과 같은 속성값 및 메서드를 가진다."
   ]
  },
  {
   "cell_type": "markdown",
   "metadata": {},
   "source": [
    "* `classes_`: 공통\n",
    "\n",
    " * 타겟 Y의 클래스(라벨)\n",
    "\n",
    "\n",
    "* `class_count_`: 공통\n",
    "\n",
    " * 타겟 Y의 값이 특정한 클래스인 표본 데이터의 수\n",
    "\n",
    "\n",
    "* `feature_count_`: 베르누이 분포나 다항 분포 \n",
    "\n",
    " * 타겟 Y의 값이 특정한 클래스이면서 독립 변수 X의 값이 1인 표본 데이터의 수 (베르누이 분포).\n",
    " * 타겟 Y의 값이 특정한 클래스인 독립 변수 X의 값의 합 (다항 분포). 독립 변수 값이 1또는 0만 가지는 경우에는 표본 데이터의 수가 된다. \n",
    " \n",
    "\n",
    "* `class_prior_`: 가우시안 정규 분포\n",
    "\n",
    " * 타겟 Y의 무조건부 확률 분포 $ P(Y) $\n",
    " \n",
    "\n",
    "* `class_log_prior_`: 베르누이 분포나 다항 분포 \n",
    "\n",
    " * 타겟 Y의 무조건부 확률 분포의 로그 $ \\log P(Y) $\n",
    " \n",
    "\n",
    "* `theta_ `, `sigma_` : 가우시안 정규 분포\n",
    "\n",
    " * 가우시안 정규 분포의 기댓값 $\\mu$ 과 분산 $\\sigma^2$\n",
    " \n",
    "\n",
    "* `feature_log_prob_ `: 베르누이 분포나 다항 분포 \n",
    "\n",
    " * 베르누이 분포 혹은 다항 분포의 모수 벡터의 로그\n",
    " $$ \\log \\theta = (\\log \\theta_1, \\ldots, \\log \\theta_n) = \\left( \\log \\dfrac{N_i}{N}, \\ldots, \\log \\dfrac{N_n}{N} \\right)$$\n",
    " \n",
    " * 스무딩(smoothing)\n",
    " $$ \\hat{\\theta} = \\frac{ N_{i} + \\alpha}{N + \\alpha n} $$ \n",
    " \n",
    "* `predict_proba(x_new)` : 공통\n",
    "\n",
    " * 조건부 확률 분포 $ P(Y \\mid X_{\\text{new}}) $"
   ]
  },
  {
   "cell_type": "markdown",
   "metadata": {},
   "source": [
    "디폴트 파라미터는 알파가 1이다. 원래 1/6이라면 2/12라고 하는 것이다. 기본점수를 주는 것이다. 보통은 알파를 1로 주는 것"
   ]
  },
  {
   "cell_type": "markdown",
   "metadata": {},
   "source": [
    "## 가우시안 정규 분포 나이브 베이즈 모형"
   ]
  },
  {
   "cell_type": "code",
   "execution_count": 4,
   "metadata": {
    "collapsed": true
   },
   "outputs": [],
   "source": [
    "np.random.seed(0)\n",
    "X0 = sp.stats.norm(-2, 1).rvs(40)\n",
    "X1 = sp.stats.norm(2, 1).rvs(60)\n",
    "X = np.hstack([X0, X1])[:, np.newaxis]\n",
    "y0 = np.zeros(40)\n",
    "y1 = np.ones(60)\n",
    "y = np.hstack([y0, y1])"
   ]
  },
  {
   "cell_type": "code",
   "execution_count": 5,
   "metadata": {
    "collapsed": false
   },
   "outputs": [
    {
     "data": {
      "image/png": "[encoded data removed]",
      "text/plain": [
       "<matplotlib.figure.Figure at 0xb59e390>"
      ]
     },
     "metadata": {},
     "output_type": "display_data"
    }
   ],
   "source": [
    "sns.distplot(X0, rug=True, kde=False, norm_hist=True, label=\"class 0\")\n",
    "sns.distplot(X1, rug=True, kde=False, norm_hist=True, label=\"class 1\")\n",
    "plt.legend()\n",
    "plt.xlim(-6, 6)\n",
    "plt.show()"
   ]
  },
  {
   "cell_type": "code",
   "execution_count": 6,
   "metadata": {
    "collapsed": false
   },
   "outputs": [
    {
     "data": {
      "text/plain": [
       "(-1.6874575267838261, 1.0643338564384415)"
      ]
     },
     "execution_count": 6,
     "metadata": {},
     "output_type": "execute_result"
    }
   ],
   "source": [
    "X0.mean(), X0.std()"
   ]
  },
  {
   "cell_type": "code",
   "execution_count": 7,
   "metadata": {
    "collapsed": false
   },
   "outputs": [
    {
     "data": {
      "text/plain": [
       "(1.8913183770800257, 0.93105751579472784)"
      ]
     },
     "execution_count": 7,
     "metadata": {},
     "output_type": "execute_result"
    }
   ],
   "source": [
    "X1.mean(), X1.std()"
   ]
  },
  {
   "cell_type": "code",
   "execution_count": 8,
   "metadata": {
    "collapsed": true
   },
   "outputs": [],
   "source": [
    "from sklearn.naive_bayes import GaussianNB\n",
    "clf_norm = GaussianNB().fit(X, y)"
   ]
  },
  {
   "cell_type": "code",
   "execution_count": 10,
   "metadata": {
    "collapsed": false
   },
   "outputs": [
    {
     "data": {
      "text/plain": [
       "array([ 0.,  1.])"
      ]
     },
     "execution_count": 10,
     "metadata": {},
     "output_type": "execute_result"
    }
   ],
   "source": [
    "clf_norm.classes_   # y값이 가질 수 있는 클래스들"
   ]
  },
  {
   "cell_type": "code",
   "execution_count": 12,
   "metadata": {
    "collapsed": false
   },
   "outputs": [
    {
     "data": {
      "text/plain": [
       "array([ 40.,  60.])"
      ]
     },
     "execution_count": 12,
     "metadata": {},
     "output_type": "execute_result"
    }
   ],
   "source": [
    "clf_norm.class_count_   # 각각 y 값의 갯수"
   ]
  },
  {
   "cell_type": "code",
   "execution_count": 14,
   "metadata": {
    "collapsed": false
   },
   "outputs": [
    {
     "data": {
      "text/plain": [
       "array([ 0.4,  0.6])"
      ]
     },
     "execution_count": 14,
     "metadata": {},
     "output_type": "execute_result"
    }
   ],
   "source": [
    "clf_norm.class_prior_   # 각각 y의 확률(사전)"
   ]
  },
  {
   "cell_type": "code",
   "execution_count": 15,
   "metadata": {
    "collapsed": false
   },
   "outputs": [
    {
     "data": {
      "text/plain": [
       "(array([[-1.68745753],\n",
       "        [ 1.89131838]]), array([[ 1.13280656],\n",
       "        [ 0.8668681 ]]))"
      ]
     },
     "execution_count": 15,
     "metadata": {},
     "output_type": "execute_result"
    }
   ],
   "source": [
    "clf_norm.theta_, clf_norm.sigma_"
   ]
  },
  {
   "cell_type": "code",
   "execution_count": 16,
   "metadata": {
    "collapsed": false
   },
   "outputs": [
    {
     "data": {
      "image/png": "[encoded data removed]",
      "text/plain": [
       "<matplotlib.figure.Figure at 0xb7f62e8>"
      ]
     },
     "metadata": {},
     "output_type": "display_data"
    }
   ],
   "source": [
    "xx = np.linspace(-6, 6, 100)\n",
    "p0 = sp.stats.norm(clf_norm.theta_[0], clf_norm.sigma_[0]).pdf(xx)\n",
    "p1 = sp.stats.norm(clf_norm.theta_[1], clf_norm.sigma_[1]).pdf(xx)\n",
    "sns.distplot(X0, rug=True, kde=False, norm_hist=True, color='r', label='class 0 histogram')\n",
    "sns.distplot(X1, rug=True, kde=False, norm_hist=True, color='b', label='class 1 histogram')\n",
    "plt.plot(xx, p0, c='r', label='class 0 est. pdf')\n",
    "plt.plot(xx, p1, c='b', label='class 1 est. pdf')\n",
    "plt.legend()\n",
    "plt.show()"
   ]
  },
  {
   "cell_type": "code",
   "execution_count": 18,
   "metadata": {
    "collapsed": false
   },
   "outputs": [
    {
     "data": {
      "text/plain": [
       "array([[ 0.98327446,  0.01672554]])"
      ]
     },
     "execution_count": 18,
     "metadata": {},
     "output_type": "execute_result"
    }
   ],
   "source": [
    "x_new = -1\n",
    "clf_norm.predict_proba([[x_new]])  # predict_proba(x_new) : 조건부 확률 분포"
   ]
  },
  {
   "cell_type": "code",
   "execution_count": 19,
   "metadata": {
    "collapsed": false
   },
   "outputs": [
    {
     "data": {
      "text/plain": [
       "array([[ 0.30425666],\n",
       "       [ 0.00345028]])"
      ]
     },
     "execution_count": 19,
     "metadata": {},
     "output_type": "execute_result"
    }
   ],
   "source": [
    "px = sp.stats.norm(clf_norm.theta_, np.sqrt(clf_norm.sigma_)).pdf(x_new)\n",
    "px"
   ]
  },
  {
   "cell_type": "code",
   "execution_count": 24,
   "metadata": {
    "collapsed": false
   },
   "outputs": [
    {
     "data": {
      "text/plain": [
       "array([ 0.4,  0.6])"
      ]
     },
     "execution_count": 24,
     "metadata": {},
     "output_type": "execute_result"
    }
   ],
   "source": [
    "clf_norm.class_prior_"
   ]
  },
  {
   "cell_type": "code",
   "execution_count": 20,
   "metadata": {
    "collapsed": false
   },
   "outputs": [
    {
     "data": {
      "text/plain": [
       "array([ 0.12170266,  0.00207017])"
      ]
     },
     "execution_count": 20,
     "metadata": {},
     "output_type": "execute_result"
    }
   ],
   "source": [
    "p = px.flatten() * clf_norm.class_prior_\n",
    "p"
   ]
  },
  {
   "cell_type": "code",
   "execution_count": 23,
   "metadata": {
    "collapsed": false,
    "scrolled": true
   },
   "outputs": [
    {
     "data": {
      "text/plain": [
       "array([ 0.98327446,  0.01672554])"
      ]
     },
     "execution_count": 23,
     "metadata": {},
     "output_type": "execute_result"
    }
   ],
   "source": [
    "p / p.sum()   # nomalize해서 합치면 1이 되는 확률값으로 변환"
   ]
  },
  {
   "cell_type": "markdown",
   "metadata": {},
   "source": [
    "### 실습. 2과목에 학생 3명의 경우 위와 같은 결과 도출해보기"
   ]
  },
  {
   "cell_type": "code",
   "execution_count": 25,
   "metadata": {
    "collapsed": true
   },
   "outputs": [],
   "source": [
    "X00 = sp.stats.norm(-3, 1).rvs(64)\n",
    "X01 = sp.stats.norm(-4, 1).rvs(64)\n",
    "\n",
    "X10 = sp.stats.norm(-1, 1).rvs(66)\n",
    "X11 = sp.stats.norm(0, 1).rvs(66)\n",
    "\n",
    "X20 = sp.stats.norm(3, 1).rvs(70)\n",
    "X21 = sp.stats.norm(4, 1).rvs(70)\n",
    "\n",
    "X1 = np.hstack([X00, X10, X20])[:, np.newaxis]\n",
    "X2 = np.hstack([X01, X11, X21])[:, np.newaxis]\n",
    "X = np.hstack([X1, X2])\n",
    "\n",
    "y0 = np.zeros(64)\n",
    "y1 = np.ones(66)\n",
    "y2 = np.ones(70)*2\n",
    "y = np.hstack([y0, y1, y2])"
   ]
  },
  {
   "cell_type": "code",
   "execution_count": 26,
   "metadata": {
    "collapsed": false
   },
   "outputs": [
    {
     "data": {
      "text/plain": [
       "((200, 2), (200,))"
      ]
     },
     "execution_count": 26,
     "metadata": {},
     "output_type": "execute_result"
    }
   ],
   "source": [
    "X.shape, y.shape"
   ]
  },
  {
   "cell_type": "code",
   "execution_count": 27,
   "metadata": {
    "collapsed": false
   },
   "outputs": [
    {
     "data": {
      "text/html": [
       "<div>\n",
       "<table border=\"1\" class=\"dataframe\">\n",
       "  <thead>\n",
       "    <tr style=\"text-align: right;\">\n",
       "      <th></th>\n",
       "      <th>0</th>\n",
       "      <th>1</th>\n",
       "    </tr>\n",
       "  </thead>\n",
       "  <tbody>\n",
       "    <tr>\n",
       "      <th>198</th>\n",
       "      <td>2.430688</td>\n",
       "      <td>2.981958</td>\n",
       "    </tr>\n",
       "    <tr>\n",
       "      <th>199</th>\n",
       "      <td>3.269904</td>\n",
       "      <td>3.922145</td>\n",
       "    </tr>\n",
       "  </tbody>\n",
       "</table>\n",
       "</div>"
      ],
      "text/plain": [
       "            0         1\n",
       "198  2.430688  2.981958\n",
       "199  3.269904  3.922145"
      ]
     },
     "execution_count": 27,
     "metadata": {},
     "output_type": "execute_result"
    }
   ],
   "source": [
    "dfX = pd.DataFrame(X)\n",
    "dfy = pd.DataFrame(y)\n",
    "dfX.tail(2)"
   ]
  },
  {
   "cell_type": "code",
   "execution_count": 28,
   "metadata": {
    "collapsed": false
   },
   "outputs": [
    {
     "data": {
      "text/html": [
       "<div>\n",
       "<table border=\"1\" class=\"dataframe\">\n",
       "  <thead>\n",
       "    <tr style=\"text-align: right;\">\n",
       "      <th></th>\n",
       "      <th>0</th>\n",
       "    </tr>\n",
       "  </thead>\n",
       "  <tbody>\n",
       "    <tr>\n",
       "      <th>197</th>\n",
       "      <td>2.0</td>\n",
       "    </tr>\n",
       "    <tr>\n",
       "      <th>198</th>\n",
       "      <td>2.0</td>\n",
       "    </tr>\n",
       "    <tr>\n",
       "      <th>199</th>\n",
       "      <td>2.0</td>\n",
       "    </tr>\n",
       "  </tbody>\n",
       "</table>\n",
       "</div>"
      ],
      "text/plain": [
       "       0\n",
       "197  2.0\n",
       "198  2.0\n",
       "199  2.0"
      ]
     },
     "execution_count": 28,
     "metadata": {},
     "output_type": "execute_result"
    }
   ],
   "source": [
    "dfy.tail(3)"
   ]
  },
  {
   "cell_type": "code",
   "execution_count": 29,
   "metadata": {
    "collapsed": true
   },
   "outputs": [],
   "source": [
    "df = pd.concat([dfX, dfy], axis=1)"
   ]
  },
  {
   "cell_type": "code",
   "execution_count": 30,
   "metadata": {
    "collapsed": false
   },
   "outputs": [
    {
     "data": {
      "text/html": [
       "<div>\n",
       "<table border=\"1\" class=\"dataframe\">\n",
       "  <thead>\n",
       "    <tr style=\"text-align: right;\">\n",
       "      <th></th>\n",
       "      <th>0</th>\n",
       "      <th>1</th>\n",
       "      <th>0</th>\n",
       "    </tr>\n",
       "  </thead>\n",
       "  <tbody>\n",
       "    <tr>\n",
       "      <th>198</th>\n",
       "      <td>2.430688</td>\n",
       "      <td>2.981958</td>\n",
       "      <td>2.0</td>\n",
       "    </tr>\n",
       "    <tr>\n",
       "      <th>199</th>\n",
       "      <td>3.269904</td>\n",
       "      <td>3.922145</td>\n",
       "      <td>2.0</td>\n",
       "    </tr>\n",
       "  </tbody>\n",
       "</table>\n",
       "</div>"
      ],
      "text/plain": [
       "            0         1    0\n",
       "198  2.430688  2.981958  2.0\n",
       "199  3.269904  3.922145  2.0"
      ]
     },
     "execution_count": 30,
     "metadata": {},
     "output_type": "execute_result"
    }
   ],
   "source": [
    "df.tail(2)"
   ]
  },
  {
   "cell_type": "code",
   "execution_count": 31,
   "metadata": {
    "collapsed": false
   },
   "outputs": [],
   "source": [
    "df.columns = [\"X1\", \"X2\", \"y\"]"
   ]
  },
  {
   "cell_type": "code",
   "execution_count": 32,
   "metadata": {
    "collapsed": false
   },
   "outputs": [
    {
     "data": {
      "text/html": [
       "<div>\n",
       "<table border=\"1\" class=\"dataframe\">\n",
       "  <thead>\n",
       "    <tr style=\"text-align: right;\">\n",
       "      <th></th>\n",
       "      <th>X1</th>\n",
       "      <th>X2</th>\n",
       "      <th>y</th>\n",
       "    </tr>\n",
       "  </thead>\n",
       "  <tbody>\n",
       "    <tr>\n",
       "      <th>0</th>\n",
       "      <td>-1.116849</td>\n",
       "      <td>-5.225436</td>\n",
       "      <td>0.0</td>\n",
       "    </tr>\n",
       "    <tr>\n",
       "      <th>1</th>\n",
       "      <td>-4.347759</td>\n",
       "      <td>-3.155637</td>\n",
       "      <td>0.0</td>\n",
       "    </tr>\n",
       "  </tbody>\n",
       "</table>\n",
       "</div>"
      ],
      "text/plain": [
       "         X1        X2    y\n",
       "0 -1.116849 -5.225436  0.0\n",
       "1 -4.347759 -3.155637  0.0"
      ]
     },
     "execution_count": 32,
     "metadata": {},
     "output_type": "execute_result"
    }
   ],
   "source": [
    "df.head(2)"
   ]
  },
  {
   "cell_type": "code",
   "execution_count": 33,
   "metadata": {
    "collapsed": false
   },
   "outputs": [
    {
     "data": {
      "text/plain": [
       "<seaborn.axisgrid.PairGrid at 0xb9f2518>"
      ]
     },
     "execution_count": 33,
     "metadata": {},
     "output_type": "execute_result"
    },
    {
     "data": {
      "image/png": "[encoded data removed]",
      "text/plain": [
       "<matplotlib.figure.Figure at 0xb9f2630>"
      ]
     },
     "metadata": {},
     "output_type": "display_data"
    }
   ],
   "source": [
    "sns.pairplot(df, hue=\"y\")"
   ]
  },
  {
   "cell_type": "code",
   "execution_count": 34,
   "metadata": {
    "collapsed": false
   },
   "outputs": [
    {
     "data": {
      "text/plain": [
       "<matplotlib.collections.PathCollection at 0xb511f60>"
      ]
     },
     "execution_count": 34,
     "metadata": {},
     "output_type": "execute_result"
    },
    {
     "data": {
      "image/png": "[encoded data removed]",
      "text/plain": [
       "<matplotlib.figure.Figure at 0xa9ce358>"
      ]
     },
     "metadata": {},
     "output_type": "display_data"
    }
   ],
   "source": [
    "cmap = mpl.colors.ListedColormap(sns.color_palette(\"Set3\"))\n",
    "plt.scatter(X[:, 0], X[:, 1], c=y, s=50, cmap=cmap)"
   ]
  },
  {
   "cell_type": "code",
   "execution_count": 35,
   "metadata": {
    "collapsed": false
   },
   "outputs": [
    {
     "data": {
      "text/plain": [
       "(-8, 6)"
      ]
     },
     "execution_count": 35,
     "metadata": {},
     "output_type": "execute_result"
    },
    {
     "data": {
      "image/png": "[encoded data removed]",
      "text/plain": [
       "<matplotlib.figure.Figure at 0xadc4f28>"
      ]
     },
     "metadata": {},
     "output_type": "display_data"
    }
   ],
   "source": [
    "xmin, xmax = -8, 6\n",
    "ymin, ymax = -8, 6\n",
    "XX, YY = np.meshgrid(np.arange(xmin, xmax, (xmax-xmin)/1000), np.arange(ymin, ymax, (ymax-ymin)/1000))\n",
    "ZZ = np.reshape(clf_norm.predict(np.array([XX.ravel(), YY.ravel()]).T), XX.shape)\n",
    "\n",
    "cmap = mpl.colors.ListedColormap(sns.color_palette(\"Set3\"))\n",
    "plt.contourf(XX, YY, ZZ, cmap=cmap, alpha=0.5)\n",
    "plt.scatter(X[:,0], X[:,1], c=y, s=50, cmap=cmap)\n",
    "plt.xlim(xmin, xmax)\n",
    "plt.ylim(ymin, ymax)"
   ]
  },
  {
   "cell_type": "code",
   "execution_count": 36,
   "metadata": {
    "collapsed": true
   },
   "outputs": [],
   "source": [
    "clf_norm = GaussianNB().fit(X, y)"
   ]
  },
  {
   "cell_type": "code",
   "execution_count": 37,
   "metadata": {
    "collapsed": false
   },
   "outputs": [
    {
     "data": {
      "text/plain": [
       "array([ 0.,  1.,  2.])"
      ]
     },
     "execution_count": 37,
     "metadata": {},
     "output_type": "execute_result"
    }
   ],
   "source": [
    "clf_norm.classes_"
   ]
  },
  {
   "cell_type": "code",
   "execution_count": 38,
   "metadata": {
    "collapsed": false
   },
   "outputs": [
    {
     "data": {
      "text/plain": [
       "array([ 64.,  66.,  70.])"
      ]
     },
     "execution_count": 38,
     "metadata": {},
     "output_type": "execute_result"
    }
   ],
   "source": [
    "clf_norm.class_count_"
   ]
  },
  {
   "cell_type": "code",
   "execution_count": 39,
   "metadata": {
    "collapsed": false
   },
   "outputs": [
    {
     "data": {
      "text/plain": [
       "array([ 0.32,  0.33,  0.35])"
      ]
     },
     "execution_count": 39,
     "metadata": {},
     "output_type": "execute_result"
    }
   ],
   "source": [
    "clf_norm.class_prior_"
   ]
  },
  {
   "cell_type": "code",
   "execution_count": 40,
   "metadata": {
    "collapsed": false
   },
   "outputs": [
    {
     "data": {
      "text/plain": [
       "(array([[-2.79580303, -4.07623828],\n",
       "        [-1.11459868, -0.19881582],\n",
       "        [ 2.93371462,  3.9782565 ]]), array([[ 1.05219949,  0.85698059],\n",
       "        [ 1.07054849,  0.82261871],\n",
       "        [ 0.9731283 ,  1.06324558]]))"
      ]
     },
     "execution_count": 40,
     "metadata": {},
     "output_type": "execute_result"
    }
   ],
   "source": [
    "clf_norm.theta_, clf_norm.sigma_"
   ]
  },
  {
   "cell_type": "code",
   "execution_count": 41,
   "metadata": {
    "collapsed": true
   },
   "outputs": [],
   "source": [
    "clf_norm = GaussianNB().fit(df.ix[:, :2], df.ix[:, -1])"
   ]
  },
  {
   "cell_type": "code",
   "execution_count": 42,
   "metadata": {
    "collapsed": false
   },
   "outputs": [
    {
     "data": {
      "text/plain": [
       "array([ 0.,  1.,  2.])"
      ]
     },
     "execution_count": 42,
     "metadata": {},
     "output_type": "execute_result"
    }
   ],
   "source": [
    "clf_norm.classes_"
   ]
  },
  {
   "cell_type": "code",
   "execution_count": 43,
   "metadata": {
    "collapsed": false
   },
   "outputs": [
    {
     "data": {
      "text/plain": [
       "array([ 64.,  66.,  70.])"
      ]
     },
     "execution_count": 43,
     "metadata": {},
     "output_type": "execute_result"
    }
   ],
   "source": [
    "clf_norm.class_count_"
   ]
  },
  {
   "cell_type": "code",
   "execution_count": 44,
   "metadata": {
    "collapsed": false
   },
   "outputs": [
    {
     "data": {
      "text/plain": [
       "(array([[-2.79580303, -4.07623828],\n",
       "        [-1.11459868, -0.19881582],\n",
       "        [ 2.93371462,  3.9782565 ]]), array([[ 1.05219949,  0.85698059],\n",
       "        [ 1.07054849,  0.82261871],\n",
       "        [ 0.9731283 ,  1.06324558]]))"
      ]
     },
     "execution_count": 44,
     "metadata": {},
     "output_type": "execute_result"
    }
   ],
   "source": [
    "clf_norm.theta_, clf_norm.sigma_"
   ]
  },
  {
   "cell_type": "code",
   "execution_count": 45,
   "metadata": {
    "collapsed": false
   },
   "outputs": [
    {
     "name": "stdout",
     "output_type": "stream",
     "text": [
      "[[-2.79580303 -4.07623828]\n",
      " [-1.11459868 -0.19881582]\n",
      " [ 2.93371462  3.9782565 ]] \n",
      " [[ 1.05219949  0.85698059]\n",
      " [ 1.07054849  0.82261871]\n",
      " [ 0.9731283   1.06324558]]\n"
     ]
    }
   ],
   "source": [
    "print(clf_norm.theta_, \"\\n\", clf_norm.sigma_)"
   ]
  },
  {
   "cell_type": "code",
   "execution_count": 46,
   "metadata": {
    "collapsed": false
   },
   "outputs": [
    {
     "data": {
      "image/png": "[encoded data removed]",
      "text/plain": [
       "<matplotlib.figure.Figure at 0xb8470f0>"
      ]
     },
     "metadata": {},
     "output_type": "display_data"
    },
    {
     "data": {
      "image/png": "[encoded data removed]",
      "text/plain": [
       "<matplotlib.figure.Figure at 0xc0686d8>"
      ]
     },
     "metadata": {},
     "output_type": "display_data"
    }
   ],
   "source": [
    "xx = np.linspace(-6, 7, 100)\n",
    "p0 = sp.stats.norm(clf_norm.theta_[0][0], clf_norm.sigma_[0][0]).pdf(xx)\n",
    "p1 = sp.stats.norm(clf_norm.theta_[1][0], clf_norm.sigma_[1][0]).pdf(xx)                                                               \n",
    "p2 = sp.stats.norm(clf_norm.theta_[2][0], clf_norm.sigma_[1][0]).pdf(xx)                                                               \n",
    "sns.distplot(X00, rug=True, kde=False, norm_hist=True, color=\"r\", label=\"class 00 histogram\")\n",
    "sns.distplot(X10, rug=True, kde=False, norm_hist=True, color=\"b\", label=\"class 10 histogram\")\n",
    "sns.distplot(X20, rug=True, kde=False, norm_hist=True, color=\"y\", label=\"class 20 histogram\")\n",
    "plt.plot(xx, p0, c=\"r\", label=\"class 00 est. pdf\")\n",
    "plt.plot(xx, p1, c=\"b\", label=\"class 10 est. pdf\")\n",
    "plt.plot(xx, p2, c=\"y\", label=\"class 20 est. pdf\")\n",
    "plt.legend()\n",
    "plt.show()\n",
    "\n",
    "xx = np.linspace(-7, 6, 100)\n",
    "p0 = sp.stats.norm(clf_norm.theta_[0][1], clf_norm.sigma_[0][1]).pdf(xx)\n",
    "p1 = sp.stats.norm(clf_norm.theta_[1][1], clf_norm.sigma_[1][1]).pdf(xx)                                                               \n",
    "p2 = sp.stats.norm(clf_norm.theta_[2][1], clf_norm.sigma_[1][1]).pdf(xx)                                                               \n",
    "sns.distplot(X01, rug=True, kde=False, norm_hist=True, color=\"r\", label=\"class 01 histogram\")\n",
    "sns.distplot(X11, rug=True, kde=False, norm_hist=True, color=\"b\", label=\"class 11 histogram\")\n",
    "sns.distplot(X21, rug=True, kde=False, norm_hist=True, color=\"y\", label=\"class 21 histogram\")\n",
    "plt.plot(xx, p0, c=\"r\", label=\"class 01 est. pdf\")\n",
    "plt.plot(xx, p1, c=\"b\", label=\"class 11 est. pdf\")\n",
    "plt.plot(xx, p2, c=\"y\", label=\"class 21 est. pdf\")\n",
    "plt.legend()\n",
    "plt.show()"
   ]
  },
  {
   "cell_type": "code",
   "execution_count": 47,
   "metadata": {
    "collapsed": false
   },
   "outputs": [
    {
     "data": {
      "text/plain": [
       "array([[  2.17441229e-12,   1.00961851e-02,   9.89903815e-01]])"
      ]
     },
     "execution_count": 47,
     "metadata": {},
     "output_type": "execute_result"
    }
   ],
   "source": [
    "x_new = [3, 1]\n",
    "clf_norm.predict_proba([x_new])"
   ]
  },
  {
   "cell_type": "code",
   "execution_count": 48,
   "metadata": {
    "collapsed": true
   },
   "outputs": [],
   "source": [
    "px = sp.stats.norm(clf_norm.theta_, np.sqrt(clf_norm.sigma_)).pdf(x_new)"
   ]
  },
  {
   "cell_type": "code",
   "execution_count": 49,
   "metadata": {
    "collapsed": true
   },
   "outputs": [],
   "source": [
    "p_x0 = px[:, 0] * clf_norm.class_prior_\n",
    "p_x1 = px[:, 1] * clf_norm.class_prior_"
   ]
  },
  {
   "cell_type": "code",
   "execution_count": 50,
   "metadata": {
    "collapsed": false
   },
   "outputs": [
    {
     "data": {
      "text/plain": [
       "array([  1.02933490e-07,   3.31545575e-04,   9.99668351e-01])"
      ]
     },
     "execution_count": 50,
     "metadata": {},
     "output_type": "execute_result"
    }
   ],
   "source": [
    "p_x0 / p_x0.sum()"
   ]
  },
  {
   "cell_type": "code",
   "execution_count": 51,
   "metadata": {
    "collapsed": false
   },
   "outputs": [
    {
     "data": {
      "text/plain": [
       "array([  6.50251140e-07,   9.66660466e-01,   3.33388833e-02])"
      ]
     },
     "execution_count": 51,
     "metadata": {},
     "output_type": "execute_result"
    }
   ],
   "source": [
    "p_x1 / p_x1.sum()"
   ]
  },
  {
   "cell_type": "code",
   "execution_count": 52,
   "metadata": {
    "collapsed": true
   },
   "outputs": [],
   "source": [
    "from sklearn.metrics import confusion_matrix\n",
    "from sklearn.metrics import classification_report\n",
    "from sklearn.linear_model import LogisticRegression\n",
    "from sklearn.datasets import make_classification"
   ]
  },
  {
   "cell_type": "code",
   "execution_count": 53,
   "metadata": {
    "collapsed": false
   },
   "outputs": [
    {
     "data": {
      "text/plain": [
       "array([[62,  2,  0],\n",
       "       [ 4, 59,  3],\n",
       "       [ 0,  0, 70]])"
      ]
     },
     "execution_count": 53,
     "metadata": {},
     "output_type": "execute_result"
    }
   ],
   "source": [
    "model = LogisticRegression().fit(X, y)\n",
    "confusion_matrix(y, model.predict(X))"
   ]
  },
  {
   "cell_type": "code",
   "execution_count": 54,
   "metadata": {
    "collapsed": false
   },
   "outputs": [
    {
     "name": "stdout",
     "output_type": "stream",
     "text": [
      "             precision    recall  f1-score   support\n",
      "\n",
      "        0.0       0.94      0.97      0.95        64\n",
      "        1.0       0.97      0.89      0.93        66\n",
      "        2.0       0.96      1.00      0.98        70\n",
      "\n",
      "avg / total       0.96      0.95      0.95       200\n",
      "\n"
     ]
    }
   ],
   "source": [
    "print(classification_report(y, model.predict(X)))"
   ]
  },
  {
   "cell_type": "code",
   "execution_count": 55,
   "metadata": {
    "collapsed": true
   },
   "outputs": [],
   "source": [
    "y_pred = clf_norm.predict(X)"
   ]
  },
  {
   "cell_type": "code",
   "execution_count": 56,
   "metadata": {
    "collapsed": false
   },
   "outputs": [
    {
     "data": {
      "text/plain": [
       "array([[64,  0,  0],\n",
       "       [ 1, 65,  0],\n",
       "       [ 0,  0, 70]])"
      ]
     },
     "execution_count": 56,
     "metadata": {},
     "output_type": "execute_result"
    }
   ],
   "source": [
    "confusion_matrix(y, y_pred)"
   ]
  },
  {
   "cell_type": "code",
   "execution_count": 57,
   "metadata": {
    "collapsed": false
   },
   "outputs": [
    {
     "name": "stdout",
     "output_type": "stream",
     "text": [
      "             precision    recall  f1-score   support\n",
      "\n",
      "         X0       0.98      1.00      0.99        64\n",
      "         X1       1.00      0.98      0.99        66\n",
      "         X2       1.00      1.00      1.00        70\n",
      "\n",
      "avg / total       1.00      0.99      1.00       200\n",
      "\n"
     ]
    }
   ],
   "source": [
    "print(classification_report(y, y_pred, target_names=[\"X0\", \"X1\", \"X2\"]))"
   ]
  },
  {
   "cell_type": "code",
   "execution_count": 58,
   "metadata": {
    "collapsed": false
   },
   "outputs": [
    {
     "data": {
      "text/plain": [
       "(-8, 6)"
      ]
     },
     "execution_count": 58,
     "metadata": {},
     "output_type": "execute_result"
    },
    {
     "data": {
      "image/png": "[encoded data removed]",
      "text/plain": [
       "<matplotlib.figure.Figure at 0xd34d7b8>"
      ]
     },
     "metadata": {},
     "output_type": "display_data"
    }
   ],
   "source": [
    "xmin, xmax = -8, 6\n",
    "ymin, ymax = -8, 6\n",
    "XX, YY = np.meshgrid(np.arange(xmin, xmax, (xmax-xmin)/1000), np.arange(ymin, ymax, (ymax-ymin)/1000))\n",
    "ZZ = np.reshape(clf_norm.predict(np.array([XX.ravel(), YY.ravel()]).T), XX.shape)\n",
    "\n",
    "cmap = mpl.colors.ListedColormap(sns.color_palette(\"Set1\"))\n",
    "plt.contourf(XX, YY, ZZ, cmap=cmap, alpha=0.5)\n",
    "plt.scatter(X[:,0], X[:,1], c=y, s=50, cmap=cmap)\n",
    "plt.xlim(xmin, xmax)\n",
    "plt.ylim(ymin, ymax)"
   ]
  },
  {
   "cell_type": "markdown",
   "metadata": {},
   "source": [
    "## 베르누이 분포 나이브 베이즈 모형"
   ]
  },
  {
   "cell_type": "markdown",
   "metadata": {},
   "source": [
    "베르누이 나이브 베이즈 모형에서는 타겟 변수뿐 아니라 독립 변수도 0 또는 1의 값을 가져야 한다. 예를 들어 전자우편과 같은 문서 내에 특정한 단어가 포함되어 있는지의 여부는 베르누이 확률 변수로 모형화할 수 있으므로 스팸 필터링에 사용할 수 있다."
   ]
  },
  {
   "cell_type": "code",
   "execution_count": 59,
   "metadata": {
    "collapsed": false
   },
   "outputs": [
    {
     "name": "stdout",
     "output_type": "stream",
     "text": [
      "[[0 1 1 0]\n",
      " [1 1 1 1]\n",
      " [1 1 1 0]\n",
      " [0 1 0 0]\n",
      " [0 0 0 1]\n",
      " [0 1 1 0]\n",
      " [0 1 1 1]\n",
      " [1 0 1 0]\n",
      " [1 0 1 1]\n",
      " [0 1 1 0]]\n",
      "[0 0 0 0 1 1 1 1 1 1]\n"
     ]
    }
   ],
   "source": [
    "np.random.seed(0)\n",
    "X = np.random.randint(2, size=(10, 4))\n",
    "y = np.array([0,0,0,0,1,1,1,1,1,1])\n",
    "print(X)\n",
    "print(y)"
   ]
  },
  {
   "cell_type": "code",
   "execution_count": 60,
   "metadata": {
    "collapsed": false
   },
   "outputs": [],
   "source": [
    "from sklearn.naive_bayes import BernoulliNB\n",
    "clf_bern = BernoulliNB().fit(X, y)"
   ]
  },
  {
   "cell_type": "code",
   "execution_count": 61,
   "metadata": {
    "collapsed": false
   },
   "outputs": [
    {
     "data": {
      "text/plain": [
       "array([0, 1])"
      ]
     },
     "execution_count": 61,
     "metadata": {},
     "output_type": "execute_result"
    }
   ],
   "source": [
    "clf_bern.classes_"
   ]
  },
  {
   "cell_type": "code",
   "execution_count": 62,
   "metadata": {
    "collapsed": false
   },
   "outputs": [
    {
     "data": {
      "text/plain": [
       "array([ 4.,  6.])"
      ]
     },
     "execution_count": 62,
     "metadata": {},
     "output_type": "execute_result"
    }
   ],
   "source": [
    "clf_bern.class_count_"
   ]
  },
  {
   "cell_type": "code",
   "execution_count": 63,
   "metadata": {
    "collapsed": false
   },
   "outputs": [
    {
     "data": {
      "text/plain": [
       "array([ 0.4,  0.6])"
      ]
     },
     "execution_count": 63,
     "metadata": {},
     "output_type": "execute_result"
    }
   ],
   "source": [
    "np.exp(clf_bern.class_log_prior_)"
   ]
  },
  {
   "cell_type": "code",
   "execution_count": 64,
   "metadata": {
    "collapsed": false
   },
   "outputs": [
    {
     "data": {
      "text/plain": [
       "array([[ 2.,  4.,  3.,  1.],\n",
       "       [ 2.,  3.,  5.,  3.]])"
      ]
     },
     "execution_count": 64,
     "metadata": {},
     "output_type": "execute_result"
    }
   ],
   "source": [
    "fc = clf_bern.feature_count_\n",
    "fc"
   ]
  },
  {
   "cell_type": "code",
   "execution_count": 65,
   "metadata": {
    "collapsed": false
   },
   "outputs": [
    {
     "data": {
      "text/plain": [
       "array([[ 0.5       ,  1.        ,  0.75      ,  0.25      ],\n",
       "       [ 0.33333333,  0.5       ,  0.83333333,  0.5       ]])"
      ]
     },
     "execution_count": 65,
     "metadata": {},
     "output_type": "execute_result"
    }
   ],
   "source": [
    "fc / np.repeat(clf_bern.class_count_[:, np.newaxis], 4, axis=1)"
   ]
  },
  {
   "cell_type": "code",
   "execution_count": 66,
   "metadata": {
    "collapsed": false
   },
   "outputs": [
    {
     "data": {
      "text/plain": [
       "array([[ 0.5       ,  0.83333333,  0.66666667,  0.33333333],\n",
       "       [ 0.375     ,  0.5       ,  0.75      ,  0.5       ]])"
      ]
     },
     "execution_count": 66,
     "metadata": {},
     "output_type": "execute_result"
    }
   ],
   "source": [
    "theta = np.exp(clf_bern.feature_log_prob_)\n",
    "theta"
   ]
  },
  {
   "cell_type": "code",
   "execution_count": 67,
   "metadata": {
    "collapsed": false
   },
   "outputs": [],
   "source": [
    "x_new = np.array([1, 1, 0, 0])"
   ]
  },
  {
   "cell_type": "code",
   "execution_count": 68,
   "metadata": {
    "collapsed": false
   },
   "outputs": [
    {
     "data": {
      "text/plain": [
       "array([[ 0.72480181,  0.27519819]])"
      ]
     },
     "execution_count": 68,
     "metadata": {},
     "output_type": "execute_result"
    }
   ],
   "source": [
    "clf_bern.predict_proba([x_new])"
   ]
  },
  {
   "cell_type": "code",
   "execution_count": 69,
   "metadata": {
    "collapsed": false
   },
   "outputs": [
    {
     "data": {
      "text/plain": [
       "array([ 0.72480181,  0.27519819])"
      ]
     },
     "execution_count": 69,
     "metadata": {},
     "output_type": "execute_result"
    }
   ],
   "source": [
    "p = ((theta**x_new)*(1-theta)**(1-x_new)).prod(axis=1)*np.exp(clf_bern.class_log_prior_)\n",
    "p / p.sum()"
   ]
  },
  {
   "cell_type": "code",
   "execution_count": 70,
   "metadata": {
    "collapsed": false
   },
   "outputs": [],
   "source": [
    "x_new = np.array([0, 0, 1, 1])"
   ]
  },
  {
   "cell_type": "code",
   "execution_count": 71,
   "metadata": {
    "collapsed": false
   },
   "outputs": [
    {
     "data": {
      "text/plain": [
       "array([[ 0.09530901,  0.90469099]])"
      ]
     },
     "execution_count": 71,
     "metadata": {},
     "output_type": "execute_result"
    }
   ],
   "source": [
    "clf_bern.predict_proba([x_new])"
   ]
  },
  {
   "cell_type": "code",
   "execution_count": 72,
   "metadata": {
    "collapsed": false
   },
   "outputs": [
    {
     "data": {
      "text/plain": [
       "array([ 0.09530901,  0.90469099])"
      ]
     },
     "execution_count": 72,
     "metadata": {},
     "output_type": "execute_result"
    }
   ],
   "source": [
    "p = ((theta**x_new)*(1-theta)**(1-x_new)).prod(axis=1)*np.exp(clf_bern.class_log_prior_)\n",
    "p / p.sum()"
   ]
  },
  {
   "cell_type": "markdown",
   "metadata": {},
   "source": [
    "## 다항 분포 나이브 베이즈 모형"
   ]
  },
  {
   "cell_type": "code",
   "execution_count": 73,
   "metadata": {
    "collapsed": false
   },
   "outputs": [],
   "source": [
    "from sklearn.naive_bayes import MultinomialNB\n",
    "clf_mult = MultinomialNB().fit(X, y)"
   ]
  },
  {
   "cell_type": "code",
   "execution_count": 74,
   "metadata": {
    "collapsed": false
   },
   "outputs": [
    {
     "data": {
      "text/plain": [
       "array([0, 1])"
      ]
     },
     "execution_count": 74,
     "metadata": {},
     "output_type": "execute_result"
    }
   ],
   "source": [
    "clf_mult.classes_"
   ]
  },
  {
   "cell_type": "code",
   "execution_count": 75,
   "metadata": {
    "collapsed": false
   },
   "outputs": [
    {
     "data": {
      "text/plain": [
       "array([ 4.,  6.])"
      ]
     },
     "execution_count": 75,
     "metadata": {},
     "output_type": "execute_result"
    }
   ],
   "source": [
    "clf_mult.class_count_"
   ]
  },
  {
   "cell_type": "code",
   "execution_count": 76,
   "metadata": {
    "collapsed": false
   },
   "outputs": [
    {
     "data": {
      "text/plain": [
       "array([[ 2.,  4.,  3.,  1.],\n",
       "       [ 2.,  3.,  5.,  3.]])"
      ]
     },
     "execution_count": 76,
     "metadata": {},
     "output_type": "execute_result"
    }
   ],
   "source": [
    "fc = clf_mult.feature_count_\n",
    "fc"
   ]
  },
  {
   "cell_type": "code",
   "execution_count": 77,
   "metadata": {
    "collapsed": false
   },
   "outputs": [
    {
     "data": {
      "text/plain": [
       "array([[ 0.2       ,  0.4       ,  0.3       ,  0.1       ],\n",
       "       [ 0.15384615,  0.23076923,  0.38461538,  0.23076923]])"
      ]
     },
     "execution_count": 77,
     "metadata": {},
     "output_type": "execute_result"
    }
   ],
   "source": [
    "fc / np.repeat(fc.sum(axis=1)[:, np.newaxis], 4, axis=1)"
   ]
  },
  {
   "cell_type": "code",
   "execution_count": 78,
   "metadata": {
    "collapsed": false
   },
   "outputs": [
    {
     "data": {
      "text/plain": [
       "1.0"
      ]
     },
     "execution_count": 78,
     "metadata": {},
     "output_type": "execute_result"
    }
   ],
   "source": [
    "clf_mult.alpha"
   ]
  },
  {
   "cell_type": "code",
   "execution_count": 79,
   "metadata": {
    "collapsed": false
   },
   "outputs": [
    {
     "data": {
      "text/plain": [
       "array([[ 0.21428571,  0.35714286,  0.28571429,  0.14285714],\n",
       "       [ 0.17647059,  0.23529412,  0.35294118,  0.23529412]])"
      ]
     },
     "execution_count": 79,
     "metadata": {},
     "output_type": "execute_result"
    }
   ],
   "source": [
    "(fc + clf_mult.alpha) / (np.repeat(fc.sum(axis=1)[:, np.newaxis], 4, axis=1) + clf_mult.alpha * X.shape[1])"
   ]
  },
  {
   "cell_type": "code",
   "execution_count": 80,
   "metadata": {
    "collapsed": false
   },
   "outputs": [
    {
     "data": {
      "text/plain": [
       "array([[ 0.21428571,  0.35714286,  0.28571429,  0.14285714],\n",
       "       [ 0.17647059,  0.23529412,  0.35294118,  0.23529412]])"
      ]
     },
     "execution_count": 80,
     "metadata": {},
     "output_type": "execute_result"
    }
   ],
   "source": [
    "theta = np.exp(clf_mult.feature_log_prob_)\n",
    "theta"
   ]
  },
  {
   "cell_type": "code",
   "execution_count": 81,
   "metadata": {
    "collapsed": false
   },
   "outputs": [
    {
     "data": {
      "text/plain": [
       "array([[ 0.99431066,  0.00568934]])"
      ]
     },
     "execution_count": 81,
     "metadata": {},
     "output_type": "execute_result"
    }
   ],
   "source": [
    "x_new = np.array([21, 35, 29, 14])\n",
    "clf_mult.predict_proba([x_new])"
   ]
  },
  {
   "cell_type": "code",
   "execution_count": 82,
   "metadata": {
    "collapsed": false
   },
   "outputs": [
    {
     "data": {
      "text/plain": [
       "array([ 0.99431066,  0.00568934])"
      ]
     },
     "execution_count": 82,
     "metadata": {},
     "output_type": "execute_result"
    }
   ],
   "source": [
    "p = (theta**x_new).prod(axis=1)*np.exp(clf_bern.class_log_prior_)\n",
    "p / p.sum()"
   ]
  },
  {
   "cell_type": "code",
   "execution_count": 83,
   "metadata": {
    "collapsed": false
   },
   "outputs": [
    {
     "data": {
      "text/plain": [
       "array([[ 0.00189418,  0.99810582]])"
      ]
     },
     "execution_count": 83,
     "metadata": {},
     "output_type": "execute_result"
    }
   ],
   "source": [
    "x_new = np.array([18, 24, 35, 24])\n",
    "clf_mult.predict_proba([x_new])"
   ]
  },
  {
   "cell_type": "code",
   "execution_count": 84,
   "metadata": {
    "collapsed": false
   },
   "outputs": [
    {
     "data": {
      "text/plain": [
       "array([[ 0.26655873,  0.73344127]])"
      ]
     },
     "execution_count": 84,
     "metadata": {},
     "output_type": "execute_result"
    }
   ],
   "source": [
    "x_new = np.array([4, 4, 5, 4])\n",
    "clf_mult.predict_proba([x_new])"
   ]
  },
  {
   "cell_type": "markdown",
   "metadata": {},
   "source": [
    "## 예 1: 뉴스 그룹"
   ]
  },
  {
   "cell_type": "code",
   "execution_count": 85,
   "metadata": {
    "collapsed": false
   },
   "outputs": [],
   "source": [
    "from sklearn.datasets import fetch_20newsgroups\n",
    "from sklearn.cross_validation import train_test_split\n",
    "news = fetch_20newsgroups(subset=\"all\")\n",
    "X_train, X_test, y_train, y_test = train_test_split(news.data, news.target, test_size=0.1, random_state=1)"
   ]
  },
  {
   "cell_type": "code",
   "execution_count": 86,
   "metadata": {
    "collapsed": false
   },
   "outputs": [],
   "source": [
    "from sklearn.feature_extraction.text import TfidfVectorizer, HashingVectorizer, CountVectorizer\n",
    "from sklearn.naive_bayes import MultinomialNB\n",
    "from sklearn.pipeline import Pipeline\n",
    "\n",
    "clf_1 = Pipeline([\n",
    "            ('vect', CountVectorizer()), \n",
    "            ('clf', MultinomialNB()),\n",
    "        ])\n",
    "clf_2 = Pipeline([\n",
    "            ('vect', TfidfVectorizer()),\n",
    "            ('clf', MultinomialNB()),\n",
    "        ])\n",
    "clf_3 = Pipeline([\n",
    "            ('vect', TfidfVectorizer(token_pattern=r\"\\b[a-z0-9_\\-\\.]+[a-z][a-z0-9_\\-\\.]+\\b\")),\n",
    "            ('clf', MultinomialNB()),\n",
    "        ])\n",
    "clf_4 = Pipeline([\n",
    "            ('vect', TfidfVectorizer(stop_words=\"english\", \n",
    "                                     token_pattern=r\"\\b[a-z0-9_\\-\\.]+[a-z][a-z0-9_\\-\\.]+\\b\")),\n",
    "            ('clf', MultinomialNB()),\n",
    "        ])\n",
    "clf_5 = Pipeline([\n",
    "            ('vect', TfidfVectorizer(stop_words=\"english\", \n",
    "                                     token_pattern=r\"\\b[a-z0-9_\\-\\.]+[a-z][a-z0-9_\\-\\.]+\\b\")),\n",
    "            ('clf', MultinomialNB(alpha=0.01)),\n",
    "        ])"
   ]
  },
  {
   "cell_type": "code",
   "execution_count": 87,
   "metadata": {
    "collapsed": false,
    "scrolled": true
   },
   "outputs": [
    {
     "name": "stdout",
     "output_type": "stream",
     "text": [
      "Model 0: Mean score: 0.607 (+/-0.005)\n",
      "Model 1: Mean score: 0.548 (+/-0.013)\n",
      "Model 2: Mean score: 0.614 (+/-0.008)\n",
      "Model 3: Mean score: 0.741 (+/-0.004)\n",
      "Model 4: Mean score: 0.808 (+/-0.008)\n"
     ]
    }
   ],
   "source": [
    "from sklearn.cross_validation import cross_val_score, KFold\n",
    "from scipy.stats import sem\n",
    "\n",
    "for i, clf in enumerate([clf_1, clf_2, clf_3, clf_4, clf_5]):\n",
    "    scores = cross_val_score(clf, X_test, y_test, cv=5)\n",
    "    print((\"Model {0:d}: Mean score: {1:.3f} (+/-{2:.3f})\").format(i, np.mean(scores), sem(scores)))"
   ]
  },
  {
   "cell_type": "code",
   "execution_count": 88,
   "metadata": {
    "collapsed": true
   },
   "outputs": [],
   "source": [
    "from sklearn.datasets import fetch_20newsgroups\n",
    "from sklearn.cross_validation import train_test_split\n",
    "from sklearn.linear_model import LogisticRegression\n",
    "from sklearn.feature_extraction.text import TfidfVectorizer, HashingVectorizer, CountVectorizer\n",
    "from sklearn.naive_bayes import MultinomialNB\n",
    "from sklearn.pipeline import Pipeline\n",
    "from sklearn.metrics import confusion_matrix\n",
    "from sklearn.metrics import classification_report\n",
    "\n",
    "news = fetch_20newsgroups(subset=\"all\")\n",
    "X_train, X_test, y_train, y_test = train_test_split(news.data, news.target, test_size=0.1, random_state=1)"
   ]
  },
  {
   "cell_type": "code",
   "execution_count": 89,
   "metadata": {
    "collapsed": true
   },
   "outputs": [],
   "source": [
    "clf_0 = Pipeline([\n",
    "        (\"vect\", CountVectorizer()),\n",
    "        (\"clf\", LogisticRegression())\n",
    "    ])"
   ]
  },
  {
   "cell_type": "code",
   "execution_count": 90,
   "metadata": {
    "collapsed": false
   },
   "outputs": [
    {
     "data": {
      "text/plain": [
       "Pipeline(steps=[('vect', CountVectorizer(analyzer='word', binary=False, decode_error='strict',\n",
       "        dtype=<class 'numpy.int64'>, encoding='utf-8', input='content',\n",
       "        lowercase=True, max_df=1.0, max_features=None, min_df=1,\n",
       "        ngram_range=(1, 1), preprocessor=None, stop_words=None,\n",
       "        strip...ty='l2', random_state=None, solver='liblinear', tol=0.0001,\n",
       "          verbose=0, warm_start=False))])"
      ]
     },
     "execution_count": 90,
     "metadata": {},
     "output_type": "execute_result"
    }
   ],
   "source": [
    "clf_0.fit(X_train, y_train)"
   ]
  },
  {
   "cell_type": "code",
   "execution_count": 91,
   "metadata": {
    "collapsed": true
   },
   "outputs": [],
   "source": [
    "y_pred = clf_0.predict(X_train)"
   ]
  },
  {
   "cell_type": "code",
   "execution_count": 92,
   "metadata": {
    "collapsed": false
   },
   "outputs": [
    {
     "data": {
      "text/plain": [
       "array([[721,   0,   0,   0,   0,   0,   0,   0,   0,   0,   0,   0,   0,\n",
       "          0,   0,   0,   0,   0,   0,   0],\n",
       "       [  0, 872,   0,   0,   0,   0,   0,   0,   0,   0,   0,   0,   0,\n",
       "          0,   0,   0,   0,   0,   0,   0],\n",
       "       [  0,   0, 889,   0,   0,   0,   0,   0,   0,   0,   0,   0,   0,\n",
       "          0,   0,   0,   0,   0,   0,   0],\n",
       "       [  0,   0,   0, 872,   0,   0,   0,   0,   0,   0,   0,   0,   0,\n",
       "          0,   0,   0,   0,   0,   0,   0],\n",
       "       [  0,   0,   0,   0, 862,   0,   0,   0,   0,   0,   0,   0,   0,\n",
       "          0,   0,   0,   0,   0,   0,   0],\n",
       "       [  0,   0,   0,   0,   0, 887,   0,   0,   0,   0,   0,   0,   0,\n",
       "          0,   0,   0,   0,   0,   0,   0],\n",
       "       [  0,   0,   0,   0,   0,   0, 881,   0,   0,   0,   0,   0,   1,\n",
       "          0,   0,   0,   0,   0,   0,   0],\n",
       "       [  0,   0,   0,   0,   0,   0,   0, 881,   0,   0,   0,   0,   0,\n",
       "          0,   0,   0,   0,   0,   0,   0],\n",
       "       [  0,   0,   0,   0,   0,   0,   0,   1, 892,   0,   0,   0,   0,\n",
       "          0,   0,   0,   0,   0,   0,   0],\n",
       "       [  0,   0,   0,   0,   0,   0,   0,   0,   0, 893,   0,   0,   0,\n",
       "          0,   0,   0,   0,   0,   0,   0],\n",
       "       [  0,   0,   0,   0,   0,   0,   0,   0,   0,   0, 889,   0,   0,\n",
       "          0,   0,   0,   0,   0,   0,   0],\n",
       "       [  0,   0,   0,   0,   0,   0,   0,   0,   0,   0,   0, 887,   0,\n",
       "          0,   0,   0,   0,   0,   0,   0],\n",
       "       [  0,   0,   0,   0,   0,   0,   1,   0,   0,   0,   0,   0, 904,\n",
       "          0,   0,   0,   0,   0,   0,   0],\n",
       "       [  0,   0,   0,   0,   0,   0,   0,   0,   0,   0,   0,   0,   0,\n",
       "        900,   0,   0,   0,   0,   0,   0],\n",
       "       [  0,   0,   0,   0,   0,   0,   0,   0,   0,   0,   0,   0,   0,\n",
       "          0, 886,   0,   0,   0,   0,   0],\n",
       "       [  0,   0,   0,   0,   0,   0,   0,   0,   0,   0,   0,   0,   0,\n",
       "          0,   0, 887,   0,   0,   0,   0],\n",
       "       [  0,   0,   0,   0,   0,   0,   0,   0,   0,   0,   0,   0,   0,\n",
       "          0,   0,   0, 812,   0,   0,   0],\n",
       "       [  0,   0,   0,   0,   0,   0,   0,   0,   0,   0,   0,   0,   0,\n",
       "          0,   0,   0,   0, 863,   0,   0],\n",
       "       [  0,   0,   0,   0,   0,   0,   0,   0,   0,   0,   0,   0,   0,\n",
       "          0,   0,   0,   0,   0, 697,   0],\n",
       "       [  0,   0,   0,   0,   0,   0,   0,   0,   0,   0,   0,   0,   0,\n",
       "          0,   0,   0,   0,   0,   0, 583]])"
      ]
     },
     "execution_count": 92,
     "metadata": {},
     "output_type": "execute_result"
    }
   ],
   "source": [
    "confusion_matrix(y_train, y_pred)"
   ]
  },
  {
   "cell_type": "code",
   "execution_count": 93,
   "metadata": {
    "collapsed": false
   },
   "outputs": [
    {
     "name": "stdout",
     "output_type": "stream",
     "text": [
      "             precision    recall  f1-score   support\n",
      "\n",
      "          0       1.00      1.00      1.00       721\n",
      "          1       1.00      1.00      1.00       872\n",
      "          2       1.00      1.00      1.00       889\n",
      "          3       1.00      1.00      1.00       872\n",
      "          4       1.00      1.00      1.00       862\n",
      "          5       1.00      1.00      1.00       887\n",
      "          6       1.00      1.00      1.00       882\n",
      "          7       1.00      1.00      1.00       881\n",
      "          8       1.00      1.00      1.00       893\n",
      "          9       1.00      1.00      1.00       893\n",
      "         10       1.00      1.00      1.00       889\n",
      "         11       1.00      1.00      1.00       887\n",
      "         12       1.00      1.00      1.00       905\n",
      "         13       1.00      1.00      1.00       900\n",
      "         14       1.00      1.00      1.00       886\n",
      "         15       1.00      1.00      1.00       887\n",
      "         16       1.00      1.00      1.00       812\n",
      "         17       1.00      1.00      1.00       863\n",
      "         18       1.00      1.00      1.00       697\n",
      "         19       1.00      1.00      1.00       583\n",
      "\n",
      "avg / total       1.00      1.00      1.00     16961\n",
      "\n"
     ]
    }
   ],
   "source": [
    "print(classification_report(y_train, y_pred))"
   ]
  },
  {
   "cell_type": "code",
   "execution_count": 94,
   "metadata": {
    "collapsed": true
   },
   "outputs": [],
   "source": [
    "y_pred = clf_0.predict(X_test)"
   ]
  },
  {
   "cell_type": "code",
   "execution_count": 95,
   "metadata": {
    "collapsed": false
   },
   "outputs": [
    {
     "data": {
      "text/plain": [
       "array([[ 71,   0,   0,   1,   0,   0,   0,   0,   0,   0,   0,   0,   0,\n",
       "          1,   0,   1,   0,   0,   0,   4],\n",
       "       [  0,  87,   2,   3,   0,   4,   1,   1,   0,   0,   0,   0,   1,\n",
       "          2,   0,   0,   0,   0,   0,   0],\n",
       "       [  0,   3,  88,   2,   0,   1,   1,   0,   0,   0,   0,   0,   0,\n",
       "          1,   0,   0,   0,   0,   0,   0],\n",
       "       [  0,   0,   3,  98,   6,   0,   0,   0,   1,   0,   0,   0,   2,\n",
       "          0,   0,   0,   0,   0,   0,   0],\n",
       "       [  0,   1,   0,   3,  90,   0,   5,   0,   0,   0,   0,   0,   2,\n",
       "          0,   0,   0,   0,   0,   0,   0],\n",
       "       [  0,   7,   4,   0,   0,  87,   0,   0,   0,   0,   0,   1,   1,\n",
       "          0,   0,   0,   0,   1,   0,   0],\n",
       "       [  0,   0,   0,   0,   0,   0,  87,   4,   0,   1,   0,   0,   1,\n",
       "          0,   0,   0,   0,   0,   0,   0],\n",
       "       [  0,   0,   0,   1,   1,   0,   2,  98,   1,   1,   0,   0,   5,\n",
       "          0,   0,   0,   0,   0,   0,   0],\n",
       "       [  0,   0,   0,   1,   0,   0,   0,   0, 101,   0,   0,   0,   1,\n",
       "          0,   0,   0,   0,   0,   0,   0],\n",
       "       [  0,   1,   0,   1,   0,   0,   0,   0,   0,  95,   1,   0,   0,\n",
       "          1,   1,   1,   0,   0,   0,   0],\n",
       "       [  0,   0,   0,   0,   0,   0,   0,   0,   0,   1, 109,   0,   0,\n",
       "          0,   0,   0,   0,   0,   0,   0],\n",
       "       [  0,   1,   0,   0,   1,   0,   0,   0,   1,   0,   0, 100,   0,\n",
       "          0,   0,   0,   0,   0,   1,   0],\n",
       "       [  0,   2,   0,   3,   2,   0,   0,   1,   0,   0,   0,   2,  69,\n",
       "          0,   0,   0,   0,   0,   0,   0],\n",
       "       [  0,   0,   1,   0,   1,   0,   0,   0,   0,   0,   0,   1,   1,\n",
       "         86,   0,   0,   0,   0,   0,   0],\n",
       "       [  0,   2,   0,   1,   0,   0,   0,   0,   0,   0,   0,   0,   1,\n",
       "          0,  97,   0,   0,   0,   0,   0],\n",
       "       [  1,   0,   0,   0,   0,   0,   0,   0,   0,   0,   0,   0,   1,\n",
       "          0,   0, 107,   1,   0,   0,   0],\n",
       "       [  0,   0,   0,   0,   0,   0,   0,   0,   1,   0,   0,   0,   2,\n",
       "          0,   0,   0,  91,   0,   2,   2],\n",
       "       [  0,   0,   0,   1,   0,   0,   0,   0,   0,   0,   0,   0,   0,\n",
       "          0,   0,   0,   0,  76,   0,   0],\n",
       "       [  0,   0,   0,   0,   0,   0,   0,   1,   0,   0,   0,   1,   0,\n",
       "          0,   0,   2,   3,   0,  71,   0],\n",
       "       [  2,   0,   0,   1,   0,   0,   0,   1,   0,   0,   0,   1,   0,\n",
       "          1,   0,   3,   1,   0,   1,  34]])"
      ]
     },
     "execution_count": 95,
     "metadata": {},
     "output_type": "execute_result"
    }
   ],
   "source": [
    "confusion_matrix(y_test, y_pred)"
   ]
  },
  {
   "cell_type": "code",
   "execution_count": 96,
   "metadata": {
    "collapsed": false
   },
   "outputs": [
    {
     "name": "stdout",
     "output_type": "stream",
     "text": [
      "             precision    recall  f1-score   support\n",
      "\n",
      "          0       0.96      0.91      0.93        78\n",
      "          1       0.84      0.86      0.85       101\n",
      "          2       0.90      0.92      0.91        96\n",
      "          3       0.84      0.89      0.87       110\n",
      "          4       0.89      0.89      0.89       101\n",
      "          5       0.95      0.86      0.90       101\n",
      "          6       0.91      0.94      0.92        93\n",
      "          7       0.92      0.90      0.91       109\n",
      "          8       0.96      0.98      0.97       103\n",
      "          9       0.97      0.94      0.95       101\n",
      "         10       0.99      0.99      0.99       110\n",
      "         11       0.94      0.96      0.95       104\n",
      "         12       0.79      0.87      0.83        79\n",
      "         13       0.93      0.96      0.95        90\n",
      "         14       0.99      0.96      0.97       101\n",
      "         15       0.94      0.97      0.96       110\n",
      "         16       0.95      0.93      0.94        98\n",
      "         17       0.99      0.99      0.99        77\n",
      "         18       0.95      0.91      0.93        78\n",
      "         19       0.85      0.76      0.80        45\n",
      "\n",
      "avg / total       0.93      0.92      0.92      1885\n",
      "\n"
     ]
    }
   ],
   "source": [
    "print(classification_report(y_test, y_pred))"
   ]
  },
  {
   "cell_type": "markdown",
   "metadata": {},
   "source": [
    "## 감성 분석 Sentiment Analysis"
   ]
  },
  {
   "cell_type": "markdown",
   "metadata": {
    "collapsed": true
   },
   "source": [
    "* 서울대 박은정님의 네이버 영화 감상평에 대한 감성 분석 예제\n",
    " * https://github.com/e9t/nsmc\n",
    " * https://www.lucypark.kr/slides/2015-pyconkr/"
   ]
  },
  {
   "cell_type": "markdown",
   "metadata": {},
   "source": [
    "### 데이터 전처리"
   ]
  },
  {
   "cell_type": "markdown",
   "metadata": {},
   "source": [
    "* nsmc gitub에서 열어보면 있다. 다하는 것은 무리라서 만 개만 뽑아서 테스트해보겠다. "
   ]
  },
  {
   "cell_type": "code",
   "execution_count": 97,
   "metadata": {
    "collapsed": false
   },
   "outputs": [],
   "source": [
    "import codecs\n",
    "def read_data(filename):\n",
    "    with codecs.open(filename, encoding='utf-8', mode='r') as f:\n",
    "        data = [line.split('\\t') for line in f.read().splitlines()]\n",
    "        data = data[1:]   # header 제외\n",
    "    return data\n",
    "train_data = read_data('ratings_train.txt')\n",
    "test_data = read_data('ratings_test.txt')"
   ]
  },
  {
   "cell_type": "code",
   "execution_count": 101,
   "metadata": {
    "collapsed": false
   },
   "outputs": [],
   "source": [
    "X = list(zip(*train_data))[1]   # 같이 있던 애들을 쪼개\n",
    "y = list(zip(*train_data))[2]   # zip()은 묶어주는 것, zip(*)은 unzip. 풀어주는 것\n",
    "y = np.array(y, dtype=int)"
   ]
  },
  {
   "cell_type": "code",
   "execution_count": 99,
   "metadata": {
    "collapsed": false
   },
   "outputs": [
    {
     "data": {
      "text/plain": [
       "(150000, 150000)"
      ]
     },
     "execution_count": 99,
     "metadata": {},
     "output_type": "execute_result"
    }
   ],
   "source": [
    "len(X), len(y)"
   ]
  },
  {
   "cell_type": "code",
   "execution_count": 100,
   "metadata": {
    "collapsed": false
   },
   "outputs": [
    {
     "data": {
      "text/plain": [
       "(10000, 10000)"
      ]
     },
     "execution_count": 100,
     "metadata": {},
     "output_type": "execute_result"
    }
   ],
   "source": [
    "from sklearn.cross_validation import train_test_split\n",
    "X_train, X_test, y_train, y_test = train_test_split(X, y, train_size=10000, test_size=10000)\n",
    "len(X_train), len(X_test)"
   ]
  },
  {
   "cell_type": "code",
   "execution_count": 102,
   "metadata": {
    "collapsed": false
   },
   "outputs": [
    {
     "name": "stdout",
     "output_type": "stream",
     "text": [
      "('아 더빙.. 진짜 짜증나네요 목소리', 0)\n"
     ]
    }
   ],
   "source": [
    "from konlpy.utils import pprint\n",
    "pprint((X[0], y[0]))"
   ]
  },
  {
   "cell_type": "code",
   "execution_count": 103,
   "metadata": {
    "collapsed": true
   },
   "outputs": [],
   "source": [
    "import jpype"
   ]
  },
  {
   "cell_type": "code",
   "execution_count": 105,
   "metadata": {
    "collapsed": false
   },
   "outputs": [],
   "source": [
    "from konlpy.tag import Twitter\n",
    "pos_tagger = Twitter()"
   ]
  },
  {
   "cell_type": "code",
   "execution_count": 106,
   "metadata": {
    "collapsed": false
   },
   "outputs": [
    {
     "name": "stderr",
     "output_type": "stream",
     "text": [
      "C:\\Anaconda3\\lib\\site-packages\\matplotlib\\font_manager.py:1288: UserWarning: findfont: Font family ['NanumGothic'] not found. Falling back to Bitstream Vera Sans\n",
      "  (prop.get_family(), self.defaultFamily[fontext]))\n"
     ]
    },
    {
     "data": {
      "image/png": "[encoded data removed]",
      "text/plain": [
       "<matplotlib.figure.Figure at 0x5a3b908>"
      ]
     },
     "metadata": {},
     "output_type": "display_data"
    },
    {
     "name": "stdout",
     "output_type": "stream",
     "text": [
      "Wall time: 1min 2s\n"
     ]
    }
   ],
   "source": [
    "%%time\n",
    "from konlpy.tag import Twitter\n",
    "pos_tagger = Twitter()\n",
    "\n",
    "def tokenize(doc):\n",
    "    return ['/'.join(t) for t in pos_tagger.pos(doc, norm=True, stem=True)]\n",
    "\n",
    "train_docs = [(tokenize(row[1]), row[2]) for row in train_data[:10000]]\n",
    "tokens = [t for d in train_docs for t in d[0]]\n",
    "import nltk\n",
    "text = nltk.Text(tokens, name='NMSC')\n",
    "mpl.rcParams[\"font.family\"] = \"NanumGothic\"\n",
    "plt.figure(figsize=(12,10))\n",
    "text.plot(50)\n",
    "plt.show()"
   ]
  },
  {
   "cell_type": "markdown",
   "metadata": {},
   "source": [
    "### CountVectorize 사용"
   ]
  },
  {
   "cell_type": "code",
   "execution_count": 107,
   "metadata": {
    "collapsed": true
   },
   "outputs": [],
   "source": [
    "from sklearn.feature_extraction.text import CountVectorizer\n",
    "from sklearn.naive_bayes import MultinomialNB\n",
    "from sklearn.pipeline import Pipeline\n",
    "from sklearn.metrics import classification_report\n",
    "\n",
    "clf_1 = Pipeline([\n",
    "            ('vect', CountVectorizer()), \n",
    "            ('clf', MultinomialNB()),\n",
    "        ])"
   ]
  },
  {
   "cell_type": "code",
   "execution_count": 108,
   "metadata": {
    "collapsed": false
   },
   "outputs": [
    {
     "name": "stdout",
     "output_type": "stream",
     "text": [
      "Wall time: 8.85 s\n"
     ]
    },
    {
     "data": {
      "text/plain": [
       "Pipeline(steps=[('vect', CountVectorizer(analyzer='word', binary=False, decode_error='strict',\n",
       "        dtype=<class 'numpy.int64'>, encoding='utf-8', input='content',\n",
       "        lowercase=True, max_df=1.0, max_features=None, min_df=1,\n",
       "        ngram_range=(1, 1), preprocessor=None, stop_words=None,\n",
       "        strip_accents=None, token_pattern='(?u)\\\\b\\\\w\\\\w+\\\\b',\n",
       "        tokenizer=None, vocabulary=None)), ('clf', MultinomialNB(alpha=1.0, class_prior=None, fit_prior=True))])"
      ]
     },
     "execution_count": 108,
     "metadata": {},
     "output_type": "execute_result"
    }
   ],
   "source": [
    "%%time \n",
    "clf_1.fit(X_train, y_train)"
   ]
  },
  {
   "cell_type": "code",
   "execution_count": 109,
   "metadata": {
    "collapsed": false,
    "scrolled": false
   },
   "outputs": [
    {
     "name": "stdout",
     "output_type": "stream",
     "text": [
      "['sf영화로', '그중에', '쏟아', '잘됬어요', '황당함과', '엔딩곡을', '비쥬얼', '웬만한', '최하', '철드는']\n"
     ]
    }
   ],
   "source": [
    "pprint(list(clf_1.named_steps[\"vect\"].vocabulary_)[:10])"
   ]
  },
  {
   "cell_type": "code",
   "execution_count": 110,
   "metadata": {
    "collapsed": false
   },
   "outputs": [
    {
     "name": "stdout",
     "output_type": "stream",
     "text": [
      "             precision    recall  f1-score   support\n",
      "\n",
      "          0       0.76      0.79      0.77      5018\n",
      "          1       0.78      0.75      0.76      4982\n",
      "\n",
      "avg / total       0.77      0.77      0.77     10000\n",
      "\n",
      "Wall time: 658 ms\n"
     ]
    }
   ],
   "source": [
    "%%time \n",
    "print(classification_report(y_test, clf_1.predict(X_test)))"
   ]
  },
  {
   "cell_type": "markdown",
   "metadata": {},
   "source": [
    "### TfidfVectorizer 사용"
   ]
  },
  {
   "cell_type": "code",
   "execution_count": 111,
   "metadata": {
    "collapsed": false
   },
   "outputs": [],
   "source": [
    "from sklearn.feature_extraction.text import TfidfVectorizer\n",
    "\n",
    "clf_2 = Pipeline([\n",
    "            ('vect', TfidfVectorizer()), \n",
    "            ('clf', MultinomialNB()),\n",
    "        ])"
   ]
  },
  {
   "cell_type": "code",
   "execution_count": 112,
   "metadata": {
    "collapsed": false
   },
   "outputs": [
    {
     "name": "stdout",
     "output_type": "stream",
     "text": [
      "Wall time: 524 ms\n"
     ]
    },
    {
     "data": {
      "text/plain": [
       "Pipeline(steps=[('vect', TfidfVectorizer(analyzer='word', binary=False, decode_error='strict',\n",
       "        dtype=<class 'numpy.int64'>, encoding='utf-8', input='content',\n",
       "        lowercase=True, max_df=1.0, max_features=None, min_df=1,\n",
       "        ngram_range=(1, 1), norm='l2', preprocessor=None, smooth_idf=True,\n",
       "  ...rue,\n",
       "        vocabulary=None)), ('clf', MultinomialNB(alpha=1.0, class_prior=None, fit_prior=True))])"
      ]
     },
     "execution_count": 112,
     "metadata": {},
     "output_type": "execute_result"
    }
   ],
   "source": [
    "%%time \n",
    "clf_2.fit(X_train, y_train)"
   ]
  },
  {
   "cell_type": "code",
   "execution_count": 113,
   "metadata": {
    "collapsed": false
   },
   "outputs": [
    {
     "name": "stdout",
     "output_type": "stream",
     "text": [
      "             precision    recall  f1-score   support\n",
      "\n",
      "          0       0.75      0.80      0.78      5018\n",
      "          1       0.79      0.74      0.76      4982\n",
      "\n",
      "avg / total       0.77      0.77      0.77     10000\n",
      "\n",
      "Wall time: 308 ms\n"
     ]
    }
   ],
   "source": [
    "%%time \n",
    "print(classification_report(y_test, clf_2.predict(X_test)))"
   ]
  },
  {
   "cell_type": "markdown",
   "metadata": {},
   "source": [
    "### 형태소 분석기 사용"
   ]
  },
  {
   "cell_type": "code",
   "execution_count": 114,
   "metadata": {
    "collapsed": false
   },
   "outputs": [],
   "source": [
    "from konlpy.tag import Twitter\n",
    "pos_tagger = Twitter()\n",
    "\n",
    "def tokenize_pos(doc):\n",
    "    return ['/'.join(t) for t in pos_tagger.pos(doc, norm=True, stem=True)]\n",
    "\n",
    "clf_3 = Pipeline([\n",
    "            ('vect', CountVectorizer(tokenizer=tokenize_pos)), \n",
    "            ('clf', MultinomialNB()),\n",
    "        ])"
   ]
  },
  {
   "cell_type": "code",
   "execution_count": 115,
   "metadata": {
    "collapsed": false,
    "scrolled": true
   },
   "outputs": [
    {
     "name": "stdout",
     "output_type": "stream",
     "text": [
      "Wall time: 23.6 s\n"
     ]
    },
    {
     "data": {
      "text/plain": [
       "Pipeline(steps=[('vect', CountVectorizer(analyzer='word', binary=False, decode_error='strict',\n",
       "        dtype=<class 'numpy.int64'>, encoding='utf-8', input='content',\n",
       "        lowercase=True, max_df=1.0, max_features=None, min_df=1,\n",
       "        ngram_range=(1, 1), preprocessor=None, stop_words=None,\n",
       "        strip...70>,\n",
       "        vocabulary=None)), ('clf', MultinomialNB(alpha=1.0, class_prior=None, fit_prior=True))])"
      ]
     },
     "execution_count": 115,
     "metadata": {},
     "output_type": "execute_result"
    }
   ],
   "source": [
    "%%time \n",
    "clf_3.fit(X_train, y_train)"
   ]
  },
  {
   "cell_type": "code",
   "execution_count": 116,
   "metadata": {
    "collapsed": false,
    "scrolled": false
   },
   "outputs": [
    {
     "name": "stdout",
     "output_type": "stream",
     "text": [
      "['남우/Noun',\n",
      " '휘성/Noun',\n",
      " '그리고/Conjunction',\n",
      " '서기/Noun',\n",
      " '윌리스/Noun',\n",
      " '드루/Noun',\n",
      " '이대호/Noun',\n",
      " '귀여윰/Noun',\n",
      " '판타지영화/Noun',\n",
      " '속상하다/Adjective']\n"
     ]
    }
   ],
   "source": [
    "pprint(list(clf_3.named_steps[\"vect\"].vocabulary_)[:10])"
   ]
  },
  {
   "cell_type": "code",
   "execution_count": 117,
   "metadata": {
    "collapsed": false
   },
   "outputs": [
    {
     "name": "stdout",
     "output_type": "stream",
     "text": [
      "             precision    recall  f1-score   support\n",
      "\n",
      "          0     0.8150    0.8340    0.8244      5018\n",
      "          1     0.8288    0.8093    0.8189      4982\n",
      "\n",
      "avg / total     0.8219    0.8217    0.8217     10000\n",
      "\n",
      "Wall time: 26.1 s\n"
     ]
    }
   ],
   "source": [
    "%%time \n",
    "print(classification_report(y_test, clf_3.predict(X_test), digits=4))"
   ]
  },
  {
   "cell_type": "code",
   "execution_count": 118,
   "metadata": {
    "collapsed": false
   },
   "outputs": [
    {
     "name": "stdout",
     "output_type": "stream",
     "text": [
      "['되다/Verb',\n",
      " '있다/Adjective',\n",
      " '를/Josa',\n",
      " '없다/Adjective',\n",
      " ',/Punctuation',\n",
      " '는/Josa',\n",
      " '들/Suffix',\n",
      " '은/Josa',\n",
      " '.../Punctuation',\n",
      " '을/Josa',\n",
      " '도/Josa',\n",
      " '가/Josa',\n",
      " '에/Josa',\n",
      " '../Punctuation',\n",
      " '의/Josa',\n",
      " '보다/Verb',\n",
      " '이/Josa',\n",
      " '하다/Verb',\n",
      " '영화/Noun',\n",
      " './Punctuation']\n"
     ]
    }
   ],
   "source": [
    "vect3 = clf_3.named_steps[\"vect\"]\n",
    "idx3 = np.array(np.argsort(vect3.transform(X_train).sum(axis=0)))[0]\n",
    "voca3 = np.array(vect3.get_feature_names()).flatten()\n",
    "pprint(voca3[idx3[-20:]].tolist())"
   ]
  },
  {
   "cell_type": "markdown",
   "metadata": {},
   "source": [
    "### 최적화"
   ]
  },
  {
   "cell_type": "code",
   "execution_count": 119,
   "metadata": {
    "collapsed": false
   },
   "outputs": [],
   "source": [
    "clf_4 = Pipeline([\n",
    "            ('vect', TfidfVectorizer(tokenizer=tokenize_pos, ngram_range=(1,2))), \n",
    "            ('clf', MultinomialNB()),\n",
    "        ])"
   ]
  },
  {
   "cell_type": "code",
   "execution_count": 120,
   "metadata": {
    "collapsed": false,
    "scrolled": true
   },
   "outputs": [
    {
     "name": "stdout",
     "output_type": "stream",
     "text": [
      "Wall time: 25.1 s\n"
     ]
    },
    {
     "data": {
      "text/plain": [
       "Pipeline(steps=[('vect', TfidfVectorizer(analyzer='word', binary=False, decode_error='strict',\n",
       "        dtype=<class 'numpy.int64'>, encoding='utf-8', input='content',\n",
       "        lowercase=True, max_df=1.0, max_features=None, min_df=1,\n",
       "        ngram_range=(1, 2), norm='l2', preprocessor=None, smooth_idf=True,\n",
       "  ...se_idf=True, vocabulary=None)), ('clf', MultinomialNB(alpha=1.0, class_prior=None, fit_prior=True))])"
      ]
     },
     "execution_count": 120,
     "metadata": {},
     "output_type": "execute_result"
    }
   ],
   "source": [
    "%%time \n",
    "clf_4.fit(X_train, y_train)"
   ]
  },
  {
   "cell_type": "code",
   "execution_count": 121,
   "metadata": {
    "collapsed": false
   },
   "outputs": [
    {
     "name": "stdout",
     "output_type": "stream",
     "text": [
      "             precision    recall  f1-score   support\n",
      "\n",
      "          0     0.8191    0.8593    0.8387      5018\n",
      "          1     0.8509    0.8089    0.8294      4982\n",
      "\n",
      "avg / total     0.8350    0.8342    0.8341     10000\n",
      "\n",
      "Wall time: 29 s\n"
     ]
    }
   ],
   "source": [
    "%%time \n",
    "print(classification_report(y_test, clf_4.predict(X_test), digits=4))"
   ]
  }
 ],
 "metadata": {
  "kernelspec": {
   "display_name": "Python [Root]",
   "language": "python",
   "name": "Python [Root]"
  },
  "language_info": {
   "codemirror_mode": {
    "name": "ipython",
    "version": 3
   },
   "file_extension": ".py",
   "mimetype": "text/x-python",
   "name": "python",
   "nbconvert_exporter": "python",
   "pygments_lexer": "ipython3",
   "version": "3.5.1"
  }
 },
 "nbformat": 4,
 "nbformat_minor": 0
}
