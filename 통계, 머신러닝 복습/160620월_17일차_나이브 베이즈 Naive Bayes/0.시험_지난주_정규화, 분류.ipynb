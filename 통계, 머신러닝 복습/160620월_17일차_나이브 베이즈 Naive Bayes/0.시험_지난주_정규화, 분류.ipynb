{
 "cells": [
  {
   "cell_type": "markdown",
   "metadata": {},
   "source": [
    "## 문제1\n",
    "### 다음 코드는 다항 회귀 분석(polynomial regession)을 위한 것이다. 코드에서 빠진 부분을 완성하세요."
   ]
  },
  {
   "cell_type": "code",
   "execution_count": 1,
   "metadata": {
    "collapsed": false
   },
   "outputs": [
    {
     "data": {
      "text/plain": [
       "Pipeline(steps=[('polynomial_features', PolynomialFeatures(degree=4, include_bias=True, interaction_only=False)), ('linear_regression', LinearRegression(copy_X=True, fit_intercept=True, n_jobs=1, normalize=False))])"
      ]
     },
     "execution_count": 1,
     "metadata": {},
     "output_type": "execute_result"
    }
   ],
   "source": [
    "from sklearn.preprocessing import PolynomialFeatures\n",
    "from sklearn.linear_model import LinearRegression\n",
    "from sklearn.pipeline import Pipeline\n",
    "\n",
    "X = np.sort(np.random.rand(100))\n",
    "y = np.cos(1.5 * np.pi * X) + np.random.randn(100) * 0.1\n",
    "X = X[:, np.newaxis]\n",
    "\n",
    "polynomial_features = PolynomialFeatures(degree=4);\n",
    "linear_regression = LinearRegression();\n",
    "\n",
    "#빠진 부분\n",
    "model = Pipeline([(\"polynomial_features\", polynomial_features), (\"linear_regression\", linear_regression)])\n",
    "\n",
    "model.fit(X, y)"
   ]
  },
  {
   "cell_type": "code",
   "execution_count": 5,
   "metadata": {
    "collapsed": false
   },
   "outputs": [
    {
     "data": {
      "text/plain": [
       "Pipeline(steps=[('polynomial_feafures', PolynomialFeatures(degree=4, include_bias=True, interaction_only=False))])"
      ]
     },
     "execution_count": 5,
     "metadata": {},
     "output_type": "execute_result"
    }
   ],
   "source": [
    "Pipeline([(\"polynomial_feafures\", polynomial_features)])"
   ]
  },
  {
   "cell_type": "markdown",
   "metadata": {},
   "source": [
    "## 문제2\n",
    "### 과최적화(overfitting)에 관한 사항 중 틀린 것은?\n",
    "* 모형 파라미터의 차수가 감소할수록 발생하기 쉬워진다. => 증가할수록 발생하기 쉬워짐"
   ]
  },
  {
   "cell_type": "markdown",
   "metadata": {},
   "source": [
    "### 이건 전부 맞는 말\n",
    "* 다중공선성(multicollinearity)는 과최적화와 유사한 이유로 발생한다.\n",
    "* 동일한 표본 데이터에 대해 유사한 오차를 가지는 가중치가 복수개 존재하기 때문에 발생한다.\n",
    "* 과최적화된 모형에서는 샘플이 조금만 변화해도 결과가 크게 달라진다."
   ]
  }
 ],
 "metadata": {
  "anaconda-cloud": {},
  "kernelspec": {
   "display_name": "Python [Root]",
   "language": "python",
   "name": "Python [Root]"
  },
  "language_info": {
   "codemirror_mode": {
    "name": "ipython",
    "version": 3
   },
   "file_extension": ".py",
   "mimetype": "text/x-python",
   "name": "python",
   "nbconvert_exporter": "python",
   "pygments_lexer": "ipython3",
   "version": "3.5.1"
  }
 },
 "nbformat": 4,
 "nbformat_minor": 0
}
