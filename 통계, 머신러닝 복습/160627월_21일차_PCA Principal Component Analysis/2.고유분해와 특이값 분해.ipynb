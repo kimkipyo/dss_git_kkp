{
 "cells": [
  {
   "cell_type": "markdown",
   "metadata": {},
   "source": [
    "# 고유분해와 특이값 분해"
   ]
  },
  {
   "cell_type": "markdown",
   "metadata": {},
   "source": [
    "정방 행렬 $A$에 대해 다음 식을 만족하는 단위 벡터 $v$, 스칼라 $\\lambda$을 여러 개 찾을 수 있다.\n",
    "\n",
    "$$ Av = \\lambda v $$\n",
    "\n",
    "\n",
    "* $ A \\in \\mathbf{R}^{M \\times M} $   정방행렬\n",
    "\n",
    "* $ \\lambda \\in \\mathbf{R} $\n",
    "\n",
    "* $ v \\in \\mathbf{R}^{M} $\n",
    "\n",
    "\n",
    "이러한 실수 $\\lambda$를 고유값(eigenvalue), 단위 벡터 $v$ 를 고유벡터(eigenvector) 라고 하며 고유값과 고유벡터를 찾는 작업을 고유분해(eigen-decomposition)라고 한다.\n",
    "\n",
    "\n",
    "$ A \\in \\mathbf{R}^{M \\times M} $ 에 대해 최대 $M$개의 고유값-고유벡터 쌍이 존재할 수 있다."
   ]
  },
  {
   "cell_type": "markdown",
   "metadata": {},
   "source": [
    "예를 들어 다음 행렬 $A$\n",
    "\n",
    "$$\n",
    "A=\n",
    "\\begin{bmatrix}\n",
    "1 & -2 \\\\\n",
    "2 & -3\n",
    "\\end{bmatrix}\n",
    "$$\n",
    "에 대해 다음 단위 벡터와 스칼라 값은 고유벡터-고유값이 된다."
   ]
  },
  {
   "cell_type": "markdown",
   "metadata": {},
   "source": [
    "$$\\lambda = -1$$\n",
    "\n",
    "$$\n",
    "v=\n",
    "\\begin{bmatrix}\n",
    "\\dfrac{1}{\\sqrt{2}}  \\\\\n",
    "\\dfrac{1}{\\sqrt{2}}\n",
    "\\end{bmatrix}\n",
    "$$"
   ]
  },
  {
   "cell_type": "markdown",
   "metadata": {},
   "source": [
    "복수 개의 고유 벡터가 존재하는 경우에는 다음과 같이 고유벡터 행렬 $V$와 고유값 행렬 $\\Lambda$로 표기할 수 있다.\n",
    "\n",
    "\n",
    "$$ \n",
    "A \\left[ v_1 \\cdots v_M \\right] =\n",
    "\\left[ \\lambda_1 v_1 \\cdots \\lambda_M v_M \\right] =\n",
    "\\left[ v_1 \\cdots v_M \\right] \n",
    "\\begin{bmatrix}\n",
    "\\lambda_{1} & 0 & \\cdots & 0 \\\\\n",
    "0 & \\lambda_{2} & \\cdots & 0 \\\\\n",
    "\\vdots & \\vdots & \\ddots & \\vdots \\\\\n",
    "0 & 0 & \\cdots & \\lambda_{M} \\\\\n",
    "\\end{bmatrix}\n",
    "$$\n",
    "\n",
    "$$ AV = V\\Lambda $$\n",
    "\n",
    "\n",
    "여기에서 \n",
    "\n",
    "$$\n",
    "V = \\left[ v_1 \\cdots v_M \\right]\n",
    "$$\n",
    "\n",
    "$$\n",
    "\\Lambda =\n",
    "\\begin{bmatrix}\n",
    "\\lambda_{1} & 0 & \\cdots & 0 \\\\\n",
    "0 & \\lambda_{2} & \\cdots & 0 \\\\\n",
    "\\vdots & \\vdots & \\ddots & \\vdots \\\\\n",
    "0 & 0 & \\cdots & \\lambda_{M} \\\\\n",
    "\\end{bmatrix}\n",
    "$$"
   ]
  },
  {
   "cell_type": "markdown",
   "metadata": {},
   "source": [
    "numpy linalg 서브패키지에서는 고유값과 고유벡터를 구할 수 있는 `eig` 명령을 제공한다. (eigen-decomposition)\n",
    "정수로 치면 일종의 소인수분해라고 할 수 있다."
   ]
  },
  {
   "cell_type": "code",
   "execution_count": 1,
   "metadata": {
    "collapsed": true
   },
   "outputs": [],
   "source": [
    "w, V = np.linalg.eig(np.array([[1, -2], [2, -3]]))"
   ]
  },
  {
   "cell_type": "code",
   "execution_count": 2,
   "metadata": {
    "collapsed": false
   },
   "outputs": [
    {
     "data": {
      "text/plain": [
       "array([-0.99999998, -1.00000002])"
      ]
     },
     "execution_count": 2,
     "metadata": {},
     "output_type": "execute_result"
    }
   ],
   "source": [
    "w"
   ]
  },
  {
   "cell_type": "code",
   "execution_count": 3,
   "metadata": {
    "collapsed": false
   },
   "outputs": [
    {
     "data": {
      "text/plain": [
       "array([[ 0.70710678,  0.70710678],\n",
       "       [ 0.70710678,  0.70710678]])"
      ]
     },
     "execution_count": 3,
     "metadata": {},
     "output_type": "execute_result"
    }
   ],
   "source": [
    "V"
   ]
  },
  {
   "cell_type": "markdown",
   "metadata": {},
   "source": [
    "## 대칭 행렬의 고유 분해"
   ]
  },
  {
   "cell_type": "markdown",
   "metadata": {},
   "source": [
    "행렬 $A$가 대칭(symmetric) 행렬이면 고유값 벡터 행렬 $V$는 다음과 같이 전치 행렬이 역행렬과 같아진다.\n",
    "\n",
    "$$ V^T V = V V^T = I$$\n",
    "\n",
    "이 때는 고유 분해가 다음과 같이 표시된다.\n",
    "\n",
    "\n",
    "$$ A = V\\Lambda V^T = \\sum_{i=1}^{M} {\\lambda_i} v_i v_i^T$$\n",
    "\n",
    "$$ A^{-1} = V \\Lambda^{-1} V^T = \\sum_{i=1}^{M} \\dfrac{1}{\\lambda_i} v_i v_i^T$$\n",
    "\n",
    "* m개의 matrix의 합을 의미한다. 람다는 각각의 값들이 다르지만 v와 v전치의 곱의 값은 거의 유사하다.\n",
    "* ||v||=1 이거 무슨 의미? V는 방향만 나타내는 아이이기 때문에 방향만. 크기 상관 없어. 그래서 1이라고 정의한 것이다. 앞에 단위 벡터라고 한 말이 그 말이다.\n",
    "* 중요한 것들만 남기고 람다는 다 구하는데 큰 람다만 구해서 A랑 거의 비슷한 애들을 구한다. 이게 PCA에서 쓰이는 개념이다. 중요성분이 따로 있다. Principal component라고 한다."
   ]
  },
  {
   "cell_type": "markdown",
   "metadata": {},
   "source": [
    "* 공분산 개념. 컴퓨터는 사람 얼굴 사진을 하나의 점으로 본다. 옆에 흐려진 그림은 그 그림 자체가 v1이다. 그렇게 v1부터 vn까지 찾았을 때 서로의 조합으로 x의 특징이 잡혀서 찾을 수 있다. 2개의 조합만으로도 찾을 수 있다. 서로 독립이다.\n",
    "* http://scikit-learn.org/stable/modules/decomposition.html   // 이 그림에서 사람 얼굴 나온 거"
   ]
  },
  {
   "cell_type": "markdown",
   "metadata": {},
   "source": [
    "## 확률 변수의 좌표 변환"
   ]
  },
  {
   "cell_type": "markdown",
   "metadata": {},
   "source": [
    "확률 변수의 공분산 행렬 $\\Sigma$ 은 대칭 행렬이므로 위의 관계식이 성립한다. \n",
    "\n",
    "따라서 다변수 가우시안 정규 분포의 확률 밀도 함수는 다음과 같이 표시할 수 있다.\n",
    "\n",
    "$$\n",
    "\\begin{eqnarray}\n",
    "\\mathcal{N}(x \\mid \\mu, \\Sigma) \n",
    "&=& \\dfrac{1}{(2\\pi)^{D/2} |\\Sigma|^{1/2}} \\exp \\left( -\\dfrac{1}{2} (x-\\mu)^T \\Sigma^{-1} (x-\\mu) \\right) \\\\\n",
    "&=& \\dfrac{1}{(2\\pi)^{D/2} |\\Sigma|^{1/2}} \\exp \\left( -\\dfrac{1}{2} (x-\\mu)^T V \\Lambda^{-1} V^T (x-\\mu) \\right) \\\\\n",
    "&=& \\dfrac{1}{(2\\pi)^{D/2} |\\Sigma|^{1/2}} \\exp \\left( -\\dfrac{1}{2} (V^T(x-\\mu))^T  \\Lambda^{-1} (V^T (x-\\mu)) \\right) \\\\\n",
    "\\end{eqnarray}\n",
    "$$"
   ]
  },
  {
   "cell_type": "markdown",
   "metadata": {},
   "source": [
    "즉 변환 행렬 $V^T$로 좌표 변환하면 서로 독립인 성분들로 나누어진다."
   ]
  },
  {
   "cell_type": "code",
   "execution_count": 4,
   "metadata": {
    "collapsed": false
   },
   "outputs": [
    {
     "data": {
      "image/png": "[encoded data removed]",
      "text/plain": [
       "<matplotlib.figure.Figure at 0xa77d9e8>"
      ]
     },
     "metadata": {},
     "output_type": "display_data"
    }
   ],
   "source": [
    "mu = [2, 3]\n",
    "cov = [[2, 3],[3, 7]]\n",
    "rv = sp.stats.multivariate_normal(mu, cov)\n",
    "xx = np.linspace(0, 4, 120)\n",
    "yy = np.linspace(1, 5, 150)\n",
    "XX, YY = np.meshgrid(xx, yy)\n",
    "plt.grid(False)\n",
    "plt.contourf(XX, YY, rv.pdf(np.dstack([XX, YY])))\n",
    "\n",
    "x1 = np.array([0, 2])\n",
    "x1_mu = x1 - mu\n",
    "x2 = np.array([3, 4])\n",
    "x2_mu = x2 - mu\n",
    "plt.plot(x1_mu[0] + mu[0], x1_mu[1] + mu[1], 'bo', ms=20)\n",
    "plt.plot(x2_mu[0] + mu[0], x2_mu[1] + mu[1], 'ro', ms=20)\n",
    "\n",
    "plt.axis(\"equal\")\n",
    "plt.show()"
   ]
  },
  {
   "cell_type": "code",
   "execution_count": 5,
   "metadata": {
    "collapsed": false
   },
   "outputs": [],
   "source": [
    "w, V = np.linalg.eig(cov)"
   ]
  },
  {
   "cell_type": "code",
   "execution_count": 6,
   "metadata": {
    "collapsed": false
   },
   "outputs": [
    {
     "data": {
      "text/plain": [
       "array([ 0.59487516,  8.40512484])"
      ]
     },
     "execution_count": 6,
     "metadata": {},
     "output_type": "execute_result"
    }
   ],
   "source": [
    "w"
   ]
  },
  {
   "cell_type": "code",
   "execution_count": 7,
   "metadata": {
    "collapsed": false
   },
   "outputs": [
    {
     "data": {
      "text/plain": [
       "array([[-0.90558942, -0.4241554 ],\n",
       "       [ 0.4241554 , -0.90558942]])"
      ]
     },
     "execution_count": 7,
     "metadata": {},
     "output_type": "execute_result"
    }
   ],
   "source": [
    "V"
   ]
  },
  {
   "cell_type": "code",
   "execution_count": 8,
   "metadata": {
    "collapsed": false,
    "scrolled": true
   },
   "outputs": [
    {
     "data": {
      "image/png": "[encoded data removed]",
      "text/plain": [
       "<matplotlib.figure.Figure at 0xa77d978>"
      ]
     },
     "metadata": {},
     "output_type": "display_data"
    }
   ],
   "source": [
    "rv = sp.stats.multivariate_normal(mu, w)\n",
    "xx = np.linspace(0, 4, 120)\n",
    "yy = np.linspace(1, 5, 150)\n",
    "XX, YY = np.meshgrid(xx, yy)\n",
    "plt.grid(False)\n",
    "plt.contourf(XX, YY, rv.pdf(np.dstack([XX, YY])))\n",
    "\n",
    "x1 = np.array([0, 2])\n",
    "x1_mu = x1 - mu\n",
    "x2 = np.array([3, 4])\n",
    "x2_mu = x2 - mu\n",
    "\n",
    "x1t_mu = V.T.dot(x1_mu)  # 좌표 변환\n",
    "x2t_mu = V.T.dot(x2_mu)  # 좌표 변환\n",
    "\n",
    "plt.plot(x1t_mu[0] + mu[0], x1t_mu[1] + mu[1], 'bo', ms=20)\n",
    "plt.plot(x2t_mu[0] + mu[0], x2t_mu[1] + mu[1], 'ro', ms=20)\n",
    "\n",
    "plt.axis(\"equal\")\n",
    "plt.show()"
   ]
  },
  {
   "cell_type": "markdown",
   "metadata": {},
   "source": [
    "* 독립이냐 아니냐? 잘라서 위 아래가 같을 경우에 독립이었다. 두 함수의 곱으로 나타낼 수 있으면 독립이다. 그래서 지금까지 한 고유벡터(eigenvector)를 통해서 독립인 것으로 만들어 준 작업이다."
   ]
  },
  {
   "cell_type": "markdown",
   "metadata": {},
   "source": [
    "* 지금까지 한 개념들은 정방행렬일때만 가능했다. 그러면 정방행렬이 아닐 경우에는? 이럴 때에는 특이값분해에서 적용해 볼 수 있다. 이거는 그냥 있다고만 알아둬라."
   ]
  },
  {
   "cell_type": "markdown",
   "metadata": {},
   "source": [
    "## 특이값 분해\n",
    "\n",
    "정방 행렬이 아닌 행렬 $M$에 대해서도 고유 분해와 유사한 분해가 가능하다. 이를 특이값 분해(singular value decomposition)이라고 한다.\n",
    "\n",
    "\n",
    "* $M \\in \\mathbf{R}^{m \\times n}$ \n",
    "\n",
    "$$M = U \\Sigma V^T$$ \n",
    "\n",
    "여기에서 \n",
    "* $U \\in \\mathbf{R}^{m \\times m}$ \n",
    "* $\\Sigma  \\in \\mathbf{R}^{m \\times n}$  \n",
    "* $V \\in \\mathbf{R}^{n \\times n}$ \n",
    "\n",
    "이고 행렬 $U$와 $V$는 다음 관계를 만족한다.\n",
    "\n",
    "$$ U^T U = UU^T = I $$\n",
    "$$ V^T V = VV^T = I $$"
   ]
  },
  {
   "cell_type": "markdown",
   "metadata": {},
   "source": [
    "예를 들어\n",
    "\n",
    "$$\\mathbf{M} = \\begin{bmatrix}\n",
    "                      1 & 0 & 0 & 0 & 2 \\\\\n",
    "                      0 & 0 & 3 & 0 & 0 \\\\\n",
    "                      0 & 0 & 0 & 0 & 0 \\\\\n",
    "                      0 & 2 & 0 & 0 & 0\n",
    "                    \\end{bmatrix}\n",
    "$$\n",
    "에 대한 특이값 분해 결과는 다음과 같다.\n",
    "\n",
    "$$\n",
    "\\begin{align}\n",
    "\\mathbf{U} &= \\begin{bmatrix}\n",
    "               0 & 0 & 1 &  0 \\\\\n",
    "               1 & 0 & 0 &  0 \\\\\n",
    "               0 & 0 & 0 & -1 \\\\\n",
    "               0 & 1 & 0 &  0 \\\\\n",
    "             \\end{bmatrix} \\\\\n",
    "\\boldsymbol{\\Sigma} &= \\begin{bmatrix}\n",
    "                        \\sqrt{5} & 0 & 0 & 0 & 0 \\\\\n",
    "                        0 & 2 & 0 & 0 & 0 \\\\\n",
    "                        0 & 0 & 1 & 0 & 0 \\\\\n",
    "                        0 & 0 & 0 & 0 & 0\n",
    "                      \\end{bmatrix} \\\\\n",
    "\\mathbf{V}^T &= \\begin{bmatrix}\n",
    "                           0 & 0 & \\sqrt{0.2} & 0 & \\sqrt{0.8} \\\\\n",
    "                           0 & 1 & 0 & 0 & 0 \\\\\n",
    "                           1 & 0 & 0 & 0 & 0 \\\\\n",
    "                           0 & 0 & -\\sqrt{0.8} & 0 & \\sqrt{0.2} \\\\\n",
    "                           0 & 0 & 0 & 1 & 0 \\\\\n",
    "               \\end{bmatrix}\n",
    "\\end{align}$$"
   ]
  },
  {
   "cell_type": "markdown",
   "metadata": {},
   "source": [
    "이는 다음과 같이 확인 할 수 있다.\n",
    "\n",
    "$$\\begin{align}\n",
    "\\mathbf{U} \\mathbf{U^T} &=\n",
    "   \\begin{bmatrix}\n",
    "               0 & 0 & 1 &  0 \\\\\n",
    "               1 & 0 & 0 &  0 \\\\\n",
    "               0 & 0 & 0 & -1 \\\\\n",
    "               0 & 1 & 0 &  0 \\\\\n",
    "             \\end{bmatrix}\n",
    "\\cdot\n",
    "  \\begin{bmatrix}\n",
    "               0 & 1 & 0 & 0 \\\\\n",
    "               0 & 0 & 0 & 1 \\\\\n",
    "               1 & 0 & 0 & 0 \\\\\n",
    "               0 & 0 & -1 & 0 \\\\\n",
    "             \\end{bmatrix}\n",
    "   = \n",
    "  \\begin{bmatrix}\n",
    "    1 & 0 & 0 & 0 \\\\\n",
    "    0 & 1 & 0 & 0 \\\\\n",
    "    0 & 0 & 1 & 0 \\\\\n",
    "    0 & 0 & 0 & 1\n",
    "  \\end{bmatrix} \n",
    "   = \\mathbf{I}_4 \\\\\n",
    "\\mathbf{V} \\mathbf{V^T} &=\n",
    "  \\begin{bmatrix}\n",
    "                           0 & 0 & \\sqrt{0.2} & 0 & \\sqrt{0.8} \\\\\n",
    "                           0 & 1 & 0 & 0 & 0 \\\\\n",
    "                           1 & 0 & 0 & 0 & 0 \\\\\n",
    "                           0 & 0 & -\\sqrt{0.8} & 0 & \\sqrt{0.2} \\\\\n",
    "                           0 & 0 & 0 & 1 & 0 \\\\\n",
    "               \\end{bmatrix}\n",
    "  \\cdot\n",
    "  \\begin{bmatrix}\n",
    "              0 & 0 & 1 & 0 &          0 \\\\\n",
    "              0 & 1 & 0 & 0 &          0 \\\\\n",
    "     \\sqrt{0.2} & 0 & 0 & -\\sqrt{0.8} & 0\\\\\n",
    "              0 & 0 & 0 & 0 &          1 \\\\\n",
    "     \\sqrt{0.8} & 0 & 0 & \\sqrt{0.2} & 0 \\\\\n",
    "  \\end{bmatrix} \n",
    "  =\n",
    "  \\begin{bmatrix}\n",
    "    1 & 0 & 0 & 0 & 0 \\\\\n",
    "    0 & 1 & 0 & 0 & 0 \\\\\n",
    "    0 & 0 & 1 & 0 & 0 \\\\\n",
    "    0 & 0 & 0 & 1 & 0 \\\\\n",
    "    0 & 0 & 0 & 0 & 1\n",
    "  \\end{bmatrix} \n",
    "   = \\mathbf{I}_5\n",
    "\\end{align}$$\n"
   ]
  },
  {
   "cell_type": "code",
   "execution_count": 9,
   "metadata": {
    "collapsed": false
   },
   "outputs": [
    {
     "name": "stdout",
     "output_type": "stream",
     "text": [
      "\n",
      "M:\n",
      "array([[1, 0, 0, 0, 0],\n",
      "       [0, 0, 2, 0, 3],\n",
      "       [0, 0, 0, 0, 0],\n",
      "       [0, 2, 0, 0, 0]])\n",
      "\n",
      "U:\n",
      "array([[ 0.,  0.,  1.,  0.],\n",
      "       [ 1.,  0.,  0.,  0.],\n",
      "       [ 0.,  0.,  0., -1.],\n",
      "       [ 0.,  1.,  0.,  0.]])\n",
      "\n",
      "S:\n",
      "array([[ 3.60555128,  0.        ,  0.        ,  0.        ,  0.        ],\n",
      "       [ 0.        ,  2.        ,  0.        ,  0.        ,  0.        ],\n",
      "       [ 0.        ,  0.        ,  1.        ,  0.        ,  0.        ],\n",
      "       [ 0.        ,  0.        ,  0.        ,  0.        ,  0.        ]])\n",
      "\n",
      "V:\n",
      "array([[-0.90558942, -0.4241554 ],\n",
      "       [ 0.4241554 , -0.90558942]])\n",
      "\n",
      "U.dot(U.T):\n",
      "array([[ 1.,  0.,  0.,  0.],\n",
      "       [ 0.,  1.,  0.,  0.],\n",
      "       [ 0.,  0.,  1.,  0.],\n",
      "       [ 0.,  0.,  0.,  1.]])\n",
      "\n",
      "V.dot(V.T):\n",
      "array([[ 1.,  0.,  0.,  0.,  0.],\n",
      "       [ 0.,  1.,  0.,  0.,  0.],\n",
      "       [ 0.,  0.,  1.,  0.,  0.],\n",
      "       [ 0.,  0.,  0.,  1.,  0.],\n",
      "       [ 0.,  0.,  0.,  0.,  1.]])\n",
      "\n",
      "U.dot(S).dot(V.T):\n",
      "array([[ 1.,  0.,  0.,  0.,  0.],\n",
      "       [ 0.,  0.,  2.,  0.,  3.],\n",
      "       [ 0.,  0.,  0.,  0.,  0.],\n",
      "       [ 0.,  2.,  0.,  0.,  0.]])\n"
     ]
    }
   ],
   "source": [
    "from pprint import pprint\n",
    "M = np.array([[1,0,0,0,0],[0,0,2,0,3],[0,0,0,0,0],[0,2,0,0,0]])\n",
    "print(\"\\nM:\"); pprint(M)\n",
    "U, S0, V0 = np.linalg.svd(M, full_matrices=True)\n",
    "print(\"\\nU:\"); pprint(U)\n",
    "S = np.hstack([np.diag(S0), np.zeros(M.shape[0])[:, np.newaxis]])\n",
    "print(\"\\nS:\"); pprint(S)\n",
    "print(\"\\nV:\"); pprint(V)\n",
    "V = V0.T\n",
    "print(\"\\nU.dot(U.T):\"); pprint(U.dot(U.T))\n",
    "print(\"\\nV.dot(V.T):\"); pprint(V.dot(V.T))\n",
    "print(\"\\nU.dot(S).dot(V.T):\"); pprint(U.dot(S).dot(V.T))"
   ]
  },
  {
   "cell_type": "markdown",
   "metadata": {},
   "source": [
    "# 실습"
   ]
  },
  {
   "cell_type": "code",
   "execution_count": 10,
   "metadata": {
    "collapsed": true
   },
   "outputs": [],
   "source": [
    "A = np.array([[0.8, 0.3], [0.2, 0.7]])"
   ]
  },
  {
   "cell_type": "code",
   "execution_count": 11,
   "metadata": {
    "collapsed": true
   },
   "outputs": [],
   "source": [
    "L, V = np.linalg.eig(A)"
   ]
  },
  {
   "cell_type": "code",
   "execution_count": 12,
   "metadata": {
    "collapsed": false
   },
   "outputs": [
    {
     "data": {
      "text/plain": [
       "array([ 1. ,  0.5])"
      ]
     },
     "execution_count": 12,
     "metadata": {},
     "output_type": "execute_result"
    }
   ],
   "source": [
    "L"
   ]
  },
  {
   "cell_type": "code",
   "execution_count": 13,
   "metadata": {
    "collapsed": false
   },
   "outputs": [
    {
     "data": {
      "text/plain": [
       "array([[ 0.83205029, -0.70710678],\n",
       "       [ 0.5547002 ,  0.70710678]])"
      ]
     },
     "execution_count": 13,
     "metadata": {},
     "output_type": "execute_result"
    }
   ],
   "source": [
    "V"
   ]
  },
  {
   "cell_type": "code",
   "execution_count": 14,
   "metadata": {
    "collapsed": true
   },
   "outputs": [],
   "source": [
    "l1 = L[0]\n",
    "l2 = L[1]\n",
    "v1 = V[:, 0]\n",
    "v2 = V[:, 1]"
   ]
  },
  {
   "cell_type": "code",
   "execution_count": 15,
   "metadata": {
    "collapsed": false
   },
   "outputs": [
    {
     "data": {
      "text/plain": [
       "array([ 0.83205029,  0.5547002 ])"
      ]
     },
     "execution_count": 15,
     "metadata": {},
     "output_type": "execute_result"
    }
   ],
   "source": [
    "v1"
   ]
  },
  {
   "cell_type": "code",
   "execution_count": 16,
   "metadata": {
    "collapsed": false
   },
   "outputs": [
    {
     "data": {
      "text/plain": [
       "array([ 0.83205029,  0.5547002 ])"
      ]
     },
     "execution_count": 16,
     "metadata": {},
     "output_type": "execute_result"
    }
   ],
   "source": [
    "A.dot(v1)"
   ]
  },
  {
   "cell_type": "code",
   "execution_count": 17,
   "metadata": {
    "collapsed": false
   },
   "outputs": [
    {
     "data": {
      "text/plain": [
       "array([ 0.83205029,  0.5547002 ])"
      ]
     },
     "execution_count": 17,
     "metadata": {},
     "output_type": "execute_result"
    }
   ],
   "source": [
    "l1 * v1"
   ]
  },
  {
   "cell_type": "code",
   "execution_count": 18,
   "metadata": {
    "collapsed": false
   },
   "outputs": [
    {
     "data": {
      "text/plain": [
       "array([-0.35355339,  0.35355339])"
      ]
     },
     "execution_count": 18,
     "metadata": {},
     "output_type": "execute_result"
    }
   ],
   "source": [
    "A.dot(v2)"
   ]
  },
  {
   "cell_type": "code",
   "execution_count": 19,
   "metadata": {
    "collapsed": false
   },
   "outputs": [
    {
     "data": {
      "text/plain": [
       "array([-0.35355339,  0.35355339])"
      ]
     },
     "execution_count": 19,
     "metadata": {},
     "output_type": "execute_result"
    }
   ],
   "source": [
    "l2 * v2"
   ]
  },
  {
   "cell_type": "markdown",
   "metadata": {},
   "source": [
    "### 이번에는 대칭행렬(시메트릭 메트릭스)로 해보겠다."
   ]
  },
  {
   "cell_type": "code",
   "execution_count": 20,
   "metadata": {
    "collapsed": true
   },
   "outputs": [],
   "source": [
    "A = np.array([[2, -1], [-1,2]])"
   ]
  },
  {
   "cell_type": "code",
   "execution_count": 21,
   "metadata": {
    "collapsed": true
   },
   "outputs": [],
   "source": [
    "L, V = np.linalg.eig(A)"
   ]
  },
  {
   "cell_type": "code",
   "execution_count": 22,
   "metadata": {
    "collapsed": false
   },
   "outputs": [
    {
     "data": {
      "text/plain": [
       "array([ 3.,  1.])"
      ]
     },
     "execution_count": 22,
     "metadata": {},
     "output_type": "execute_result"
    }
   ],
   "source": [
    "L"
   ]
  },
  {
   "cell_type": "code",
   "execution_count": 23,
   "metadata": {
    "collapsed": false
   },
   "outputs": [
    {
     "data": {
      "text/plain": [
       "array([[ 0.70710678,  0.70710678],\n",
       "       [-0.70710678,  0.70710678]])"
      ]
     },
     "execution_count": 23,
     "metadata": {},
     "output_type": "execute_result"
    }
   ],
   "source": [
    "V"
   ]
  },
  {
   "cell_type": "code",
   "execution_count": 24,
   "metadata": {
    "collapsed": true
   },
   "outputs": [],
   "source": [
    "l1 = L[0]\n",
    "l2 = L[1]\n",
    "v1 = V[:, 0]\n",
    "v2 = V[:, 1]"
   ]
  },
  {
   "cell_type": "code",
   "execution_count": 25,
   "metadata": {
    "collapsed": false
   },
   "outputs": [
    {
     "data": {
      "text/plain": [
       "array([ 2.12132034, -2.12132034])"
      ]
     },
     "execution_count": 25,
     "metadata": {},
     "output_type": "execute_result"
    }
   ],
   "source": [
    "A.dot(v1)"
   ]
  },
  {
   "cell_type": "code",
   "execution_count": 26,
   "metadata": {
    "collapsed": false
   },
   "outputs": [
    {
     "data": {
      "text/plain": [
       "array([ 2.12132034, -2.12132034])"
      ]
     },
     "execution_count": 26,
     "metadata": {},
     "output_type": "execute_result"
    }
   ],
   "source": [
    "l1* v1"
   ]
  },
  {
   "cell_type": "code",
   "execution_count": 27,
   "metadata": {
    "collapsed": false
   },
   "outputs": [
    {
     "data": {
      "text/plain": [
       "array([ 0.70710678,  0.70710678])"
      ]
     },
     "execution_count": 27,
     "metadata": {},
     "output_type": "execute_result"
    }
   ],
   "source": [
    "A.dot(v2)"
   ]
  },
  {
   "cell_type": "code",
   "execution_count": 28,
   "metadata": {
    "collapsed": false
   },
   "outputs": [
    {
     "data": {
      "text/plain": [
       "array([ 0.70710678,  0.70710678])"
      ]
     },
     "execution_count": 28,
     "metadata": {},
     "output_type": "execute_result"
    }
   ],
   "source": [
    "l2 * v2"
   ]
  },
  {
   "cell_type": "code",
   "execution_count": 29,
   "metadata": {
    "collapsed": false
   },
   "outputs": [
    {
     "data": {
      "text/plain": [
       "array([[ 1.,  0.],\n",
       "       [ 0.,  1.]])"
      ]
     },
     "execution_count": 29,
     "metadata": {},
     "output_type": "execute_result"
    }
   ],
   "source": [
    "V.dot(V.T)"
   ]
  },
  {
   "cell_type": "markdown",
   "metadata": {},
   "source": [
    "### 이번에도 시메트릭 메트릭스로"
   ]
  },
  {
   "cell_type": "code",
   "execution_count": 30,
   "metadata": {
    "collapsed": false
   },
   "outputs": [
    {
     "data": {
      "text/plain": [
       "array([[ 3,  1, -1],\n",
       "       [ 1,  3, -1],\n",
       "       [-1, -1,  5]])"
      ]
     },
     "execution_count": 30,
     "metadata": {},
     "output_type": "execute_result"
    }
   ],
   "source": [
    "A = np.array([[3,1,-1], [1,3,-1], [-1,-1,5]])\n",
    "A"
   ]
  },
  {
   "cell_type": "code",
   "execution_count": 31,
   "metadata": {
    "collapsed": false
   },
   "outputs": [
    {
     "data": {
      "text/plain": [
       "array([ 6.,  2.,  3.])"
      ]
     },
     "execution_count": 31,
     "metadata": {},
     "output_type": "execute_result"
    }
   ],
   "source": [
    "L, V = np.linalg.eig(A)\n",
    "L"
   ]
  },
  {
   "cell_type": "code",
   "execution_count": 32,
   "metadata": {
    "collapsed": false
   },
   "outputs": [
    {
     "data": {
      "text/plain": [
       "array([[ -4.08248290e-01,  -7.07106781e-01,   5.77350269e-01],\n",
       "       [ -4.08248290e-01,   7.07106781e-01,   5.77350269e-01],\n",
       "       [  8.16496581e-01,  -1.07392045e-17,   5.77350269e-01]])"
      ]
     },
     "execution_count": 32,
     "metadata": {},
     "output_type": "execute_result"
    }
   ],
   "source": [
    "V"
   ]
  },
  {
   "cell_type": "code",
   "execution_count": 33,
   "metadata": {
    "collapsed": true
   },
   "outputs": [],
   "source": [
    "l1 = L[0]\n",
    "l2 = L[1]\n",
    "l3 = L[2]\n",
    "v1 = V[:, 0]\n",
    "v2 = V[:, 1]\n",
    "v3 = V[:, 2]"
   ]
  },
  {
   "cell_type": "code",
   "execution_count": 34,
   "metadata": {
    "collapsed": false
   },
   "outputs": [
    {
     "data": {
      "text/plain": [
       "array([-2.44948974, -2.44948974,  4.89897949])"
      ]
     },
     "execution_count": 34,
     "metadata": {},
     "output_type": "execute_result"
    }
   ],
   "source": [
    "A.dot(v1)"
   ]
  },
  {
   "cell_type": "code",
   "execution_count": 35,
   "metadata": {
    "collapsed": false
   },
   "outputs": [
    {
     "data": {
      "text/plain": [
       "array([-2.44948974, -2.44948974,  4.89897949])"
      ]
     },
     "execution_count": 35,
     "metadata": {},
     "output_type": "execute_result"
    }
   ],
   "source": [
    "l1 * v1"
   ]
  },
  {
   "cell_type": "code",
   "execution_count": 36,
   "metadata": {
    "collapsed": false
   },
   "outputs": [
    {
     "data": {
      "text/plain": [
       "array([ -1.41421356e+00,   1.41421356e+00,  -7.77156117e-16])"
      ]
     },
     "execution_count": 36,
     "metadata": {},
     "output_type": "execute_result"
    }
   ],
   "source": [
    "A.dot(v2)"
   ]
  },
  {
   "cell_type": "code",
   "execution_count": 37,
   "metadata": {
    "collapsed": false
   },
   "outputs": [
    {
     "data": {
      "text/plain": [
       "array([ -1.41421356e+00,   1.41421356e+00,  -2.14784090e-17])"
      ]
     },
     "execution_count": 37,
     "metadata": {},
     "output_type": "execute_result"
    }
   ],
   "source": [
    "l2 * v2"
   ]
  },
  {
   "cell_type": "code",
   "execution_count": 38,
   "metadata": {
    "collapsed": false
   },
   "outputs": [
    {
     "data": {
      "text/plain": [
       "array([ 1.73205081,  1.73205081,  1.73205081])"
      ]
     },
     "execution_count": 38,
     "metadata": {},
     "output_type": "execute_result"
    }
   ],
   "source": [
    "A.dot(v3)"
   ]
  },
  {
   "cell_type": "code",
   "execution_count": 39,
   "metadata": {
    "collapsed": false
   },
   "outputs": [
    {
     "data": {
      "text/plain": [
       "array([ 1.73205081,  1.73205081,  1.73205081])"
      ]
     },
     "execution_count": 39,
     "metadata": {},
     "output_type": "execute_result"
    }
   ],
   "source": [
    "l3 * v3"
   ]
  },
  {
   "cell_type": "code",
   "execution_count": 40,
   "metadata": {
    "collapsed": false
   },
   "outputs": [
    {
     "data": {
      "text/plain": [
       "array([[  1.00000000e+00,  -5.55111512e-17,   3.33066907e-16],\n",
       "       [ -5.55111512e-17,   1.00000000e+00,  -5.55111512e-17],\n",
       "       [  3.33066907e-16,  -5.55111512e-17,   1.00000000e+00]])"
      ]
     },
     "execution_count": 40,
     "metadata": {},
     "output_type": "execute_result"
    }
   ],
   "source": [
    "V.dot(V.T)"
   ]
  },
  {
   "cell_type": "markdown",
   "metadata": {},
   "source": [
    "* 레귤러라이제이션을 해줘야 한다. 다중공선성이 생기기 때문에. 여러가지 방법이 있는데 변수를 버리는 방법. 아니면 옵티미제이션 할 때 억지로 라쏘나 릿지를 달아줘서 코에피션스가 안 변하게끔. 안 그러면 데이터 샘플이 조금만 변해도 w값이 훅훅 바뀐다. 그런데 버리는 값을 생각하면 너무 아깝다. 겹치지 않는 성분이 있는데 버리기가 아까워. 그래서 만들어진 것이 PCA개념이다. 버리긴 버리는데 이걸 잘 좌표변환을 해서 최대한 별로 필요 없는 것을 버리자는 개념.\n",
    "* 람다가 가장 큰 v가 화살표 방향이다. 고유분해(아이덴디콤포지션)을 이용해서 풀어낼 수 있다. "
   ]
  },
  {
   "cell_type": "markdown",
   "metadata": {},
   "source": [
    "### 하다가 질문이나 확인할 내용들\n",
    "\n",
    "* 놈의 개념에서는 스칼라값이라고 할 수 있다. 맞는가? 맞다\n",
    "* 여기서 이게 선형모델과 같다고 하고. 이것은 경계선을 나타내는 수식\n",
    "$$f(x) = w^Tx - w_0 = 0$$\n",
    "* decision function이라는 것이 무슨 의미? 가중합에서 상수를 뺀 것이고 상수는 벡터의 길이라고 하는데\n",
    "$$ w^Tx - \\| w \\|^2$$\n",
    "* 기저벡터에서 오타 아닌가? 그 벡터 집합의 선형 조합으로 나타내지 못한다면 기저 벡터가 되는 것 아닌가? 네. 선형 조합으로 나타낼 수 있을 때 기저벡터가 될 수 없다. 나타낼 수 없을 때, 독립적일 때 기저 벡터가 되는 것이다.\n",
    "* 노트에서 고유성분해 첫 부분에 크기 달라도 되니 방향만 같게끔. 최대 M개 까지만 찾아진다. 이게 무슨 의미일까? 우리가 찾고자 하는 것은 가장 큰 영향력을 미치는 것을 찾는 것이기 때문\n",
    "* 상관계수가 0일 때 무상관일 때 독립인지 아닌지와 관련이 없다는 것은 데이터가 무수하기 때문에? 전부다 독립이면 독립인데 관계가 있는 것도 있고 없는 것도 있기 때문에. 맞는 것 같다. 현실 데이터에서 완벽한 독립은 있을 수 없기 때문에"
   ]
  }
 ],
 "metadata": {
  "kernelspec": {
   "display_name": "Python 3",
   "language": "python",
   "name": "python3"
  },
  "language_info": {
   "codemirror_mode": {
    "name": "ipython",
    "version": 3
   },
   "file_extension": ".py",
   "mimetype": "text/x-python",
   "name": "python",
   "nbconvert_exporter": "python",
   "pygments_lexer": "ipython3",
   "version": "3.5.1"
  }
 },
 "nbformat": 4,
 "nbformat_minor": 0
}
