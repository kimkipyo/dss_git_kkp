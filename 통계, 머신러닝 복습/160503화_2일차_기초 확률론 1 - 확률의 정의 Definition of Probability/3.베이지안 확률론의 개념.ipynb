{
 "cells": [
  {
   "cell_type": "code",
   "execution_count": 1,
   "metadata": {
    "collapsed": false,
    "hidden": "all"
   },
   "outputs": [
    {
     "name": "stderr",
     "output_type": "stream",
     "text": [
      "C:\\Anaconda3\\envs\\py27\\lib\\site-packages\\IPython\\core\\magics\\extension.py:47: UserWarning: %install_ext` is deprecated, please distribute your extension as a python package.\n",
      "  \"as a python package.\", UserWarning)\n"
     ]
    },
    {
     "name": "stdout",
     "output_type": "stream",
     "text": [
      "Installed tikzmagic.py. To use it, type:\n",
      "  %load_ext tikzmagic\n"
     ]
    }
   ],
   "source": [
    "%install_ext https://raw.githubusercontent.com/joelkim/ipython-tikzmagic/master/tikzmagic.py"
   ]
  },
  {
   "cell_type": "code",
   "execution_count": 2,
   "metadata": {
    "collapsed": true,
    "hidden": "all"
   },
   "outputs": [],
   "source": [
    " %load_ext tikzmagic"
   ]
  },
  {
   "cell_type": "markdown",
   "metadata": {},
   "source": [
    "# 베이지안 확률론의 개념"
   ]
  },
  {
   "cell_type": "markdown",
   "metadata": {},
   "source": [
    "확률이라는 숫자가 가지는 의미에 대해서는 여러가지 해석이 있을 수 있다. 그중 가장 대표적인 것이 빈도주의적(frequentist) 의미와 베이지안 의미(Bayesian) 의미이다."
   ]
  },
  {
   "cell_type": "markdown",
   "metadata": {
    "bootstrap": {
     "panel": {
      "class": "panel-danger",
      "heading": "확률을 보는 두 가지 관점: Frequentist vs. Bayesian"
     }
    }
   },
   "source": [
    "* 빈도주의(Frequentist)\n",
    " * 확률은 표본을 여러번 뽑았을 때 계산되는 각 이벤트의 **발생 빈도**\n",
    " * 아직 **발생하지 않은 미래**의 일을 이야기한다.\n",
    "\n",
    "\n",
    "* 베이지안(Bayesian)\n",
    " * 확률은 발생한 샘플이 각 이벤트에 속한다는 사실의 **정확성 혹은 신뢰도**\n",
    " * **이미 발생한 사건**의 진실에 대해 파헤친다."
   ]
  },
  {
   "cell_type": "markdown",
   "metadata": {},
   "source": [
    "## 확률의 빈도주의 의미"
   ]
  },
  {
   "cell_type": "markdown",
   "metadata": {},
   "source": [
    "빈도주의(Frequentist) 에서 말하는 확률은 미래에 발생할 많은 샘플의 상대적 발생 빈도를 뜻한다. 주사위의 눈금 1이 나올 확률이 $1/6$ 이라는 의미는 앞으로 주사위를 $6,000$ 번을 던지면 그 중 약 $6,000 \\times 1/6 = 1,000$번 정도 눈금 1이 나온다는 말이다."
   ]
  },
  {
   "cell_type": "markdown",
   "metadata": {},
   "source": [
    "## 확률의 베이지안 의미"
   ]
  },
  {
   "cell_type": "markdown",
   "metadata": {},
   "source": [
    "베이지안 관점에서 확률은 이미 발생한 사건의 진실에 대해 알고자 하는 노력이다. "
   ]
  },
  {
   "cell_type": "markdown",
   "metadata": {},
   "source": [
    "<img src=\"https://datascienceschool.net/upfiles/3f05b33c92764031a705cf7febfe957e.png\" style=\"width:50%\">"
   ]
  },
  {
   "cell_type": "markdown",
   "metadata": {},
   "source": [
    "예를 들어 컵 속에 주사위를 넣고 굴리게 되면 이미 주사위는 어떤 면이 나와 있는 상태이다. 하지만 컵 안에 주사위가 있기 때문에 그 값은 알 수가 없다. 베이지안 관점에서 눈금이 1이 나왔을 확률이 $1/6$ 이라는 것은 그 경우의 가능성 또는 신뢰도가 $1/6$ 라는 뜻이다.\n",
    "\n",
    "$$P\\{⚀\\} = 1/6$$\n",
    "\n",
    "또한 \"컵 안의 주사위 눈금이 홀수일 확률이 $1/2$ 이다\"라는 말의 의미는 $\\{ ⚀,⚂,⚄ \\}$ 라는 샘플 집합 안에 진실이(정답이) 포함되어 있을 가능성이 $1/2$ 이라는 뜻이다.\n",
    "\n",
    "$$P\\{ ⚀,⚂,⚄ \\} = 1/2$$"
   ]
  },
  {
   "cell_type": "markdown",
   "metadata": {
    "bootstrap": {
     "panel": {
      "class": "panel-danger",
      "heading": ""
     }
    }
   },
   "source": [
    "* $P\\{⚀\\} = 1/6$\n",
    " * 주사위 눈금이 ⚀일 확률\n",
    " * \"주사위 눈금이 ⚀이라는 사실에 대한 신뢰도가 $1/6$이다\"라는 주장\n",
    " \n",
    "\n",
    "* $P\\{ ⚀,⚂,⚄ \\} = 1/2$\n",
    " * 주사위 눈금이 집합 $\\{ ⚀,⚂,⚄ \\}$의 원소일 확률\n",
    " * \"컵 안의 주사위 눈금이 홀수라는 사실에 대한 신뢰도가 $1/2$이다\"라는 주장"
   ]
  },
  {
   "cell_type": "markdown",
   "metadata": {},
   "source": [
    "이번에는 시계 바늘 문제를 예로 들어 보자. 시계의 바늘이 다음 그림과 같은 위치에 있다고 하자."
   ]
  },
  {
   "cell_type": "code",
   "execution_count": 7,
   "metadata": {
    "collapsed": false,
    "hidden": "input"
   },
   "outputs": [
    {
     "data": {
      "image/png": "[encoded data removed]"
     },
     "metadata": {},
     "output_type": "display_data"
    }
   ],
   "source": [
    "%%tikz \n",
    "\\filldraw [fill=white] (0,0) circle [radius=1cm];\n",
    "\\foreach \\angle in {60,30,...,-270}\n",
    "{\n",
    "  \\draw[line width=1pt] (\\angle:0.9cm) -- (\\angle:1cm);\n",
    "}\n",
    "\\draw (0,0) -- (82.3567:0.8cm);"
   ]
  },
  {
   "cell_type": "markdown",
   "metadata": {},
   "source": [
    "\"시계 바늘의 각도는 0도 이상  30도 이하이다\"라는 말은 진실임을 알 수 있다. 따라서 이 말의 신뢰도는 100%이고 확률로 나타내면 1이다.\n",
    "\n",
    "$$ P(\\{  0^{\\circ} \\leq \\theta < 30^{\\circ} \\}) = 1$$"
   ]
  },
  {
   "cell_type": "markdown",
   "metadata": {},
   "source": [
    "\"시계 바늘의 각도는 30도 이상  36도 이하이다\"라는 말은 거짓이다. 따라서 이 말의 신뢰도는 0%이고 확률로 나타내면 0이다.\n",
    "\n",
    "$$ P(\\{  30^{\\circ} \\leq \\theta < 60^{\\circ} \\}) = 0 $$"
   ]
  },
  {
   "cell_type": "markdown",
   "metadata": {},
   "source": [
    "따라서 베이지안 확률론의 관점에서 **사건(event)이란 \"진짜 표본이 포함되어 있을 가능성이 있는 후보의 집합\"**, 다시 말해 **\"진실에 대한 어떤 가설\"**로 볼 수 있고 사건의 **확률이란 \"진짜 표본이 그 후보 집합에 있을 가능성\"** 또는 **\"어떤 가설이 진실일 가능성\"**이라고 볼 수 있다."
   ]
  },
  {
   "cell_type": "markdown",
   "metadata": {},
   "source": [
    "그렇다면 다음 사건의 확률은 어떻게 서술할 수 있을까?\n",
    "\n",
    "$$ P(\\{  2^{\\circ} \\leq \\theta < 8^{\\circ} \\}) = ?$$\n",
    "\n",
    "\n",
    "만약 우리가 가지고 있는 정보가 $ P(\\{  0^{\\circ} \\leq \\theta < 30^{\\circ} \\}) = 1$ 뿐이라면 위의 확률은 다음과 같다고 말할 수 있다.\n",
    "\n",
    "$$ P(\\{  2^{\\circ} \\leq \\theta < 8^{\\circ} \\}) = \\dfrac{8-2}{30} = 0.2 $$"
   ]
  }
 ],
 "metadata": {
  "kernelspec": {
   "display_name": "Python [py27]",
   "language": "python",
   "name": "Python [py27]"
  },
  "language_info": {
   "codemirror_mode": {
    "name": "ipython",
    "version": 2
   },
   "file_extension": ".py",
   "mimetype": "text/x-python",
   "name": "python",
   "nbconvert_exporter": "python",
   "pygments_lexer": "ipython2",
   "version": "2.7.12"
  }
 },
 "nbformat": 4,
 "nbformat_minor": 0
}
