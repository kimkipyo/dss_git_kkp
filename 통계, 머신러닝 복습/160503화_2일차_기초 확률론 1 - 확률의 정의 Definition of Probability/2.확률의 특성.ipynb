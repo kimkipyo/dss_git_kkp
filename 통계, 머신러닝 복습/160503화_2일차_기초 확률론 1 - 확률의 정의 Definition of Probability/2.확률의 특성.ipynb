{
 "cells": [
  {
   "cell_type": "markdown",
   "metadata": {},
   "source": [
    "# 확률의 특성"
   ]
  },
  {
   "cell_type": "markdown",
   "metadata": {},
   "source": [
    "확률은 다음과 같은 특성을 가진다. 이 성질들은 확률의 정의가 아니라 정의로부터 유도되었다."
   ]
  },
  {
   "cell_type": "markdown",
   "metadata": {
    "bootstrap": {
     "panel": {
      "class": "panel-danger"
     }
    }
   },
   "source": [
    "* 공집합\n",
    "\n",
    "$$ P\\{\\emptyset\\} = 0 $$\n",
    "\n",
    "\n",
    "* 여집합 \n",
    "\n",
    "$$ P\\{A^C\\} = 1 - P\\{A\\} $$\n",
    "\n",
    "\n",
    "* 포함-배제 원리\n",
    "\n",
    "$$ P(A \\cap B) = P(A) + P(B) – P(A \\cup B) $$\n",
    "\n"
   ]
  },
  {
   "cell_type": "markdown",
   "metadata": {},
   "source": [
    "### 공집합의 확률"
   ]
  },
  {
   "cell_type": "markdown",
   "metadata": {},
   "source": [
    "공집합의 확률은 0이다."
   ]
  },
  {
   "cell_type": "markdown",
   "metadata": {},
   "source": [
    "(증명)\n",
    "\n",
    "확률의 정의로부터 사건 $A$와 사건 $B$가 공통원소가 없다면 $P(A \\cup B) = P(A) + P(B)$이 된다. \n",
    "\n",
    "$B = \\emptyset$인 경우 $A$와 $B$의 공통원소는 없으며 $A \\cup B = A$\n",
    "\n",
    "\n",
    "$$P(A \\cup B) = P(A) = P(A) + P(B)$$\n",
    "\n",
    "\n",
    "$$ \\therefore P(B) = 0 $$"
   ]
  },
  {
   "cell_type": "markdown",
   "metadata": {},
   "source": [
    "### 여집합의 확률"
   ]
  },
  {
   "cell_type": "markdown",
   "metadata": {},
   "source": [
    "여집합의 확률은 1 - 원래 집합의 확률이다.\n",
    "\n",
    "\n",
    "$$ P\\{A^C\\} = 1 - P\\{A\\} $$"
   ]
  },
  {
   "cell_type": "markdown",
   "metadata": {},
   "source": [
    "(증명)\n",
    "\n",
    "\n",
    "확률의 정의로부터 사건 $A$와 사건 $B$가 공통원소가 없다면 $P(A \\cup B) = P(A) + P(B)$이 된다. \n",
    "\n",
    "$B = A^C$인 경우 $A$와 $B$의 공통원소는 없다.\n",
    "\n",
    "\n",
    "$$P(A \\cup A^C) = P(\\Omega) = 1 = P(A) + P(A^C)$$\n",
    "\n",
    "$$ \\therefore P(A^C) = 1 - P(A) $$"
   ]
  },
  {
   "cell_type": "markdown",
   "metadata": {},
   "source": [
    "## 포함-배제 원리  inclusion–exclusion principle"
   ]
  },
  {
   "cell_type": "markdown",
   "metadata": {},
   "source": [
    "$$ P(A \\cap B) = P(A) + P(B) – P(A \\cup B) $$"
   ]
  },
  {
   "cell_type": "markdown",
   "metadata": {},
   "source": [
    "(증명)\n",
    "\n",
    "$$\n",
    "\\begin{eqnarray*}\n",
    "P(A \\cup B) \n",
    "&=& P(A \\cup (B\\cap A^C)) \\\\\n",
    "&=& P(A) + P(B\\cap A^C) \\\\\n",
    "&=& P(A) + P(B\\cap A^C) + P(A ∩ B) – P(A ∩ B) \\\\\n",
    "&=& P(A) + P((A^C\\cap B) ∪ (A ∩ B)) – P(A ∩ B) \\\\\n",
    "&=& P(A) + P(B) – P(A ∩ B) \n",
    "\\end{eqnarray*} \n",
    "$$"
   ]
  },
  {
   "cell_type": "markdown",
   "metadata": {},
   "source": [
    "## 전체 확률의 법칙 law of total probability"
   ]
  },
  {
   "cell_type": "markdown",
   "metadata": {},
   "source": [
    " \n",
    "\n",
    "$B_i$가 다음을 만족하는 사건들인 경우,\n",
    "\n",
    "* 서로 교집합이 없고\n",
    "  $$ B_i \\cap B_j = \\emptyset $$\n",
    "  \n",
    "  \n",
    "* 모두 합쳤을 때 (합집합) 전체 표본 공간이면\n",
    "  $$ B_1 \\cup B_2 \\cup \\cdots  = \\Omega $$\n",
    "\n",
    "모든 사건 A에 대해 다음 등식이 성립한다.\n",
    "\n",
    "$$ P(A) = \\sum_i P(A, B_i) $$"
   ]
  },
  {
   "cell_type": "markdown",
   "metadata": {},
   "source": [
    "<img src=\"https://datascienceschool.net/upfiles/009c7facaf68412ea7809c5f321dc1f2.png\" style=\"width:60%\">"
   ]
  },
  {
   "cell_type": "markdown",
   "metadata": {},
   "source": [
    "(증명)\n",
    "$$\n",
    "\\begin{eqnarray}\n",
    "A \n",
    "&=& A \\cap \\Omega \\\\\n",
    "&=& A \\cap (B_1 \\cup B_2 \\cup \\cdots ) \\\\\n",
    "&=& (A \\cap B_1) \\cup (A \\cap B_2) \\cup \\cdots  \\\\\n",
    "\\end{eqnarray}\n",
    "$$\n",
    "\n",
    "$A \\cap B_i$ 는 모두 서로 공통 원소가 없다. 따라서 확률의 정의에 따라 다음 등식이 성립.\n",
    "\n",
    "$$ P(A) = P(A \\cap B_1) \\cup P(A \\cap B_2) \\cup \\cdots = \\sum_i P(A, B_i) $$"
   ]
  }
 ],
 "metadata": {
  "kernelspec": {
   "display_name": "Python [py27]",
   "language": "python",
   "name": "Python [py27]"
  },
  "language_info": {
   "codemirror_mode": {
    "name": "ipython",
    "version": 2
   },
   "file_extension": ".py",
   "mimetype": "text/x-python",
   "name": "python",
   "nbconvert_exporter": "python",
   "pygments_lexer": "ipython2",
   "version": "2.7.12"
  }
 },
 "nbformat": 4,
 "nbformat_minor": 0
}
