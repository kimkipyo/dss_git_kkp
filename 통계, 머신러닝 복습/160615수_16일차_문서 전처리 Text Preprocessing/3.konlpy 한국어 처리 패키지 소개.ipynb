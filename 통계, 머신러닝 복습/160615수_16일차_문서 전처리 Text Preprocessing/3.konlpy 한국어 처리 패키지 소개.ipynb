{
 "cells": [
  {
   "cell_type": "markdown",
   "metadata": {},
   "source": [
    "# konlpy 한국어 처리 패키지 소개"
   ]
  },
  {
   "cell_type": "markdown",
   "metadata": {},
   "source": [
    "앞의 내용은 영어. 지금은 한국어"
   ]
  },
  {
   "cell_type": "markdown",
   "metadata": {},
   "source": [
    "konlpy는 한국어 정보처리를 위한 파이썬 패키지이다. \n",
    "\n",
    "* http://konlpy.org/ko/v0.4.4/\n",
    "* https://github.com/konlpy/konlpy"
   ]
  },
  {
   "cell_type": "markdown",
   "metadata": {},
   "source": [
    "konlpy는 다음과 같은 다양한 형태소 분석, 태깅 라이브러리를 파이썬에서 쉽게 사용할 수 있도록 모아놓았다.\n",
    "\n",
    "* Kkma\n",
    " * http://kkma.snu.ac.kr/\n",
    "* Hannanum\n",
    " * http://semanticweb.kaist.ac.kr/hannanum/\n",
    "* Twitter\n",
    " * https://github.com/twitter/twitter-korean-text/\n",
    "* Komoran\n",
    " * http://www.shineware.co.kr/?page_id=835\n",
    "* Mecab\n",
    " * https://bitbucket.org/eunjeon/mecab-ko-dic"
   ]
  },
  {
   "cell_type": "markdown",
   "metadata": {},
   "source": [
    "konlpy 는 다음과 같은 기능을 제공한다.\n",
    "\n",
    "* 한국어 corpus\n",
    "* 한국어 처리 유틸리티\n",
    "* 형태소 분석 및 품사 태깅"
   ]
  },
  {
   "cell_type": "markdown",
   "metadata": {},
   "source": [
    "## 한국어 corpus"
   ]
  },
  {
   "cell_type": "code",
   "execution_count": 1,
   "metadata": {
    "collapsed": false
   },
   "outputs": [
    {
     "data": {
      "text/plain": [
       "['constitution.txt']"
      ]
     },
     "execution_count": 1,
     "metadata": {},
     "output_type": "execute_result"
    }
   ],
   "source": [
    "from konlpy.corpus import kolaw\n",
    "kolaw.fileids()"
   ]
  },
  {
   "cell_type": "code",
   "execution_count": 2,
   "metadata": {
    "collapsed": false
   },
   "outputs": [
    {
     "name": "stdout",
     "output_type": "stream",
     "text": [
      "대한민국헌법\n",
      "\n",
      "유구한 역사와 전통에 빛나는 우리 대한국민은 3·1운동으로 건립된 대한민국임시정부의 법통과 불의에 항거한 4·19민주이념을 계승하고, 조국의 민주개혁과 평화적 통일의\n"
     ]
    }
   ],
   "source": [
    "c = kolaw.open('constitution.txt').read()\n",
    "print(c[:100])"
   ]
  },
  {
   "cell_type": "code",
   "execution_count": 3,
   "metadata": {
    "collapsed": false
   },
   "outputs": [
    {
     "data": {
      "text/plain": [
       "['1809890.txt',\n",
       " '1809891.txt',\n",
       " '1809892.txt',\n",
       " '1809893.txt',\n",
       " '1809894.txt',\n",
       " '1809895.txt',\n",
       " '1809896.txt',\n",
       " '1809897.txt',\n",
       " '1809898.txt',\n",
       " '1809899.txt']"
      ]
     },
     "execution_count": 3,
     "metadata": {},
     "output_type": "execute_result"
    }
   ],
   "source": [
    "from konlpy.corpus import kobill\n",
    "kobill.fileids()"
   ]
  },
  {
   "cell_type": "code",
   "execution_count": 4,
   "metadata": {
    "collapsed": false
   },
   "outputs": [
    {
     "name": "stdout",
     "output_type": "stream",
     "text": [
      "지방공무원법 일부개정법률안\n",
      "\n",
      "(정의화의원 대표발의 )\n",
      "\n",
      " 의 안\n",
      " 번 호\n",
      "\n",
      "9890\n",
      "\n",
      "발의연월일 : 2010.  11.  12.  \n",
      "\n",
      "발  의  자 : 정의화․이명수․김을동 \n",
      "\n",
      "이\n"
     ]
    }
   ],
   "source": [
    "d = kobill.open('1809890.txt').read()\n",
    "print(d[:100])"
   ]
  },
  {
   "cell_type": "markdown",
   "metadata": {},
   "source": [
    "## 한국어 처리 유틸리티"
   ]
  },
  {
   "cell_type": "markdown",
   "metadata": {},
   "source": [
    "아주 유용하다"
   ]
  },
  {
   "cell_type": "code",
   "execution_count": 8,
   "metadata": {
    "collapsed": false
   },
   "outputs": [
    {
     "name": "stdout",
     "output_type": "stream",
     "text": [
      "[u'\\ud55c\\uae00', {u'\\ud55c\\uae00 \\ud0a4': [u'\\ud55c\\uae00 \\ubc38\\ub9581', u'\\ud55c\\uae00 \\ubc38\\ub9582']}]\n"
     ]
    }
   ],
   "source": [
    "x = [u\"한글\", {u\"한글 키\": [u\"한글 밸류1\", u\"한글 밸류2\"]}]\n",
    "print(x)   #python3라서 한글 제대로 인식하는겁니다."
   ]
  },
  {
   "cell_type": "code",
   "execution_count": 6,
   "metadata": {
    "collapsed": true
   },
   "outputs": [],
   "source": [
    "x = [u\"한글\", {u\"한글 키\": [u\"한글 밸류1\", u\"한글 밸류2\"]}]"
   ]
  },
  {
   "cell_type": "code",
   "execution_count": 7,
   "metadata": {
    "collapsed": false
   },
   "outputs": [
    {
     "name": "stdout",
     "output_type": "stream",
     "text": [
      "['한글', {'한글 키': ['한글 밸류1', '한글 밸류2']}]\n"
     ]
    }
   ],
   "source": [
    "from konlpy.utils import pprint\n",
    "pprint(x)"
   ]
  },
  {
   "cell_type": "code",
   "execution_count": 10,
   "metadata": {
    "collapsed": false
   },
   "outputs": [
    {
     "name": "stdout",
     "output_type": "stream",
     "text": [
      "0\t대한민국헌법 유구한 역사와\n",
      "9\t대한국민은 3·1운동으로 건립된 대한민국임시정부의 법통과 불의에\n",
      "98\t총강 제1조 ① 대한민국은 민주공화국이다. ②대한민국의\n",
      "100\t① 대한민국은 민주공화국이다. ②대한민국의 주권은 국민에게\n",
      "110\t나온다. 제2조 ① 대한민국의 국민이 되는\n",
      "126\t의무를 진다. 제3조 대한민국의 영토는 한반도와\n",
      "133\t부속도서로 한다. 제4조 대한민국은 통일을 지향하며,\n",
      "147\t추진한다. 제5조 ① 대한민국은 국제평화의 유지에\n",
      "787\t군무원이 아닌 국민은 대한민국의 영역안에서는 중대한\n",
      "1836\t파견 또는 외국군대의 대한민국 영역안에서의 주류에\n",
      "3620\t경제 제119조 ① 대한민국의 경제질서는 개인과\n"
     ]
    }
   ],
   "source": [
    "from konlpy.utils import concordance\n",
    "idx = concordance(u'대한민국', c, show=True)"
   ]
  },
  {
   "cell_type": "code",
   "execution_count": 12,
   "metadata": {
    "collapsed": false
   },
   "outputs": [
    {
     "data": {
      "text/plain": [
       "[0, 9, 98, 100, 110, 126, 133, 147, 787, 1836, 3620]"
      ]
     },
     "execution_count": 12,
     "metadata": {},
     "output_type": "execute_result"
    }
   ],
   "source": [
    "idx"
   ]
  },
  {
   "cell_type": "markdown",
   "metadata": {},
   "source": [
    "## 형태소 분석"
   ]
  },
  {
   "cell_type": "markdown",
   "metadata": {},
   "source": [
    "konlpy는 tag 서브패키지에서 형태소 분석을 위한 5개의 클래스를 제공한다.\n",
    "\n",
    "* `Kkma`\n",
    "* `Hannanum`\n",
    "* `Twitter`\n",
    "* `Komoran`\n",
    "* `Mecab`\n",
    "\n",
    "이 클래스는 다음과 같은 메서드를 대부분 제공한다.\n",
    "\n",
    "* `morphs` : 형태소 추출\n",
    "* `nouns` : 명사 추출\n",
    "* `pos` : pos 태깅"
   ]
  },
  {
   "cell_type": "code",
   "execution_count": 15,
   "metadata": {
    "collapsed": false,
    "scrolled": false
   },
   "outputs": [],
   "source": [
    "from konlpy.tag import *\n",
    "hannanum = Hannanum()\n",
    "kkma = Kkma()\n",
    "twitter = Twitter()"
   ]
  },
  {
   "cell_type": "markdown",
   "metadata": {},
   "source": [
    "### 명사 추출"
   ]
  },
  {
   "cell_type": "code",
   "execution_count": 27,
   "metadata": {
    "collapsed": false
   },
   "outputs": [
    {
     "name": "stdout",
     "output_type": "stream",
     "text": [
      "[대한민국헌법,\n",
      " 유구,\n",
      " 역사,\n",
      " 전통,\n",
      " 빛,\n",
      " 우리,\n",
      " 대한국민,\n",
      " 3·1운동,\n",
      " 건립,\n",
      " 대한민국임시정부,\n",
      " 법통,\n",
      " 불의,\n",
      " 항거]\n"
     ]
    }
   ],
   "source": [
    "pprint(hannanum.nouns(c[:65]))"
   ]
  },
  {
   "cell_type": "code",
   "execution_count": 33,
   "metadata": {
    "collapsed": false
   },
   "outputs": [
    {
     "name": "stdout",
     "output_type": "stream",
     "text": [
      "[대한,\n",
      " 대한민국,\n",
      " 대한민국헌법,\n",
      " 민국,\n",
      " 헌법,\n",
      " 유구,\n",
      " 역사,\n",
      " 전통,\n",
      " 우리,\n",
      " 국민,\n",
      " 3,\n",
      " 1,\n",
      " 1운동,\n",
      " 운동,\n",
      " 건립,\n",
      " 대한민국임시정부,\n",
      " 임시,\n",
      " 정부,\n",
      " 법통,\n",
      " 불의,\n",
      " 항거]\n"
     ]
    }
   ],
   "source": [
    "pprint(kkma.nouns(c[:65]))"
   ]
  },
  {
   "cell_type": "code",
   "execution_count": 38,
   "metadata": {
    "collapsed": false
   },
   "outputs": [
    {
     "name": "stdout",
     "output_type": "stream",
     "text": [
      "[대한민국,\n",
      " 헌법,\n",
      " 유구,\n",
      " 역사,\n",
      " 전통,\n",
      " 우리,\n",
      " 대한,\n",
      " 국민,\n",
      " 운동,\n",
      " 건립,\n",
      " 대한민국,\n",
      " 임시정부,\n",
      " 법,\n",
      " 통과,\n",
      " 불의,\n",
      " 항거]\n"
     ]
    }
   ],
   "source": [
    "pprint(twitter.nouns(c[:65]))"
   ]
  },
  {
   "cell_type": "markdown",
   "metadata": {},
   "source": [
    "### 형태소 추출"
   ]
  },
  {
   "cell_type": "code",
   "execution_count": 29,
   "metadata": {
    "collapsed": false
   },
   "outputs": [
    {
     "name": "stdout",
     "output_type": "stream",
     "text": [
      "[대한민국헌법,\n",
      " 유구,\n",
      " 하,\n",
      " ㄴ,\n",
      " 역사,\n",
      " 와,\n",
      " 전통,\n",
      " 에,\n",
      " 빛,\n",
      " 나는,\n",
      " 우리,\n",
      " 대한국민,\n",
      " 은,\n",
      " 3·1운동,\n",
      " 으로,\n",
      " 건립,\n",
      " 되,\n",
      " ㄴ,\n",
      " 대한민국임시정부,\n",
      " 의,\n",
      " 법통,\n",
      " 과,\n",
      " 불의,\n",
      " 에,\n",
      " 항거]\n"
     ]
    }
   ],
   "source": [
    "pprint(hannanum.morphs(c[:65]))"
   ]
  },
  {
   "cell_type": "code",
   "execution_count": 39,
   "metadata": {
    "collapsed": false
   },
   "outputs": [
    {
     "name": "stdout",
     "output_type": "stream",
     "text": [
      "[대한민국,\n",
      " 헌법,\n",
      " 유구,\n",
      " 하,\n",
      " ㄴ,\n",
      " 역사,\n",
      " 와,\n",
      " 전통,\n",
      " 에,\n",
      " 빛나,\n",
      " 는,\n",
      " 우리,\n",
      " 대하,\n",
      " ㄴ,\n",
      " 국민,\n",
      " 은,\n",
      " 3,\n",
      " ·,\n",
      " 1,\n",
      " 운동,\n",
      " 으로,\n",
      " 건립,\n",
      " 되,\n",
      " ㄴ,\n",
      " 대한민국,\n",
      " 임시,\n",
      " 정부,\n",
      " 의,\n",
      " 법통,\n",
      " 과,\n",
      " 불의,\n",
      " 에,\n",
      " 항거]\n"
     ]
    }
   ],
   "source": [
    "pprint(kkma.morphs(c[:65]))"
   ]
  },
  {
   "cell_type": "code",
   "execution_count": 42,
   "metadata": {
    "collapsed": false
   },
   "outputs": [
    {
     "name": "stdout",
     "output_type": "stream",
     "text": [
      "[대한민국,\n",
      " 헌법,\n",
      " 유구,\n",
      " 한,\n",
      " 역사,\n",
      " 와,\n",
      " 전통,\n",
      " 에,\n",
      " 빛나는,\n",
      " 우리,\n",
      " 대한,\n",
      " 국민,\n",
      " 은,\n",
      " 3,\n",
      " ·,\n",
      " 1,\n",
      " 운동,\n",
      " 으로,\n",
      " 건립,\n",
      " 된,\n",
      " 대한민국,\n",
      " 임시정부,\n",
      " 의,\n",
      " 법,\n",
      " 통과,\n",
      " 불의,\n",
      " 에,\n",
      " 항거]\n"
     ]
    }
   ],
   "source": [
    "pprint(twitter.morphs(c[:65]))"
   ]
  },
  {
   "cell_type": "markdown",
   "metadata": {},
   "source": [
    "### 품사 태깅"
   ]
  },
  {
   "cell_type": "markdown",
   "metadata": {},
   "source": [
    "품사 태그표\n",
    "\n",
    "* https://docs.google.com/spreadsheets/d/1OGAjUvalBuX-oZvZ_-9tEfYD2gQe7hTGsgUpiiBSXI8/edit#gid=0"
   ]
  },
  {
   "cell_type": "code",
   "execution_count": 28,
   "metadata": {
    "collapsed": false
   },
   "outputs": [
    {
     "name": "stdout",
     "output_type": "stream",
     "text": [
      "[(대한민국헌법, N),\n",
      " (유구, N),\n",
      " (하, X),\n",
      " (ㄴ, E),\n",
      " (역사, N),\n",
      " (와, J),\n",
      " (전통, N),\n",
      " (에, J),\n",
      " (빛, N),\n",
      " (나는, J),\n",
      " (우리, N),\n",
      " (대한국민, N),\n",
      " (은, J),\n",
      " (3·1운동, N),\n",
      " (으로, J),\n",
      " (건립, N),\n",
      " (되, X),\n",
      " (ㄴ, E),\n",
      " (대한민국임시정부, N),\n",
      " (의, J),\n",
      " (법통, N),\n",
      " (과, J),\n",
      " (불의, N),\n",
      " (에, J),\n",
      " (항거, N)]\n"
     ]
    }
   ],
   "source": [
    "pprint(hannanum.pos(c[:65]))"
   ]
  },
  {
   "cell_type": "code",
   "execution_count": 43,
   "metadata": {
    "collapsed": false
   },
   "outputs": [
    {
     "name": "stdout",
     "output_type": "stream",
     "text": [
      "[(대한민국, NNG),\n",
      " (헌법, NNG),\n",
      " (유구, NNG),\n",
      " (하, XSV),\n",
      " (ㄴ, ETD),\n",
      " (역사, NNG),\n",
      " (와, JC),\n",
      " (전통, NNG),\n",
      " (에, JKM),\n",
      " (빛나, VV),\n",
      " (는, ETD),\n",
      " (우리, NNM),\n",
      " (대하, VV),\n",
      " (ㄴ, ETD),\n",
      " (국민, NNG),\n",
      " (은, JX),\n",
      " (3, NR),\n",
      " (·, SP),\n",
      " (1, NR),\n",
      " (운동, NNG),\n",
      " (으로, JKM),\n",
      " (건립, NNG),\n",
      " (되, XSV),\n",
      " (ㄴ, ETD),\n",
      " (대한민국, NNG),\n",
      " (임시, NNG),\n",
      " (정부, NNG),\n",
      " (의, JKG),\n",
      " (법통, NNG),\n",
      " (과, JC),\n",
      " (불의, NNG),\n",
      " (에, JKM),\n",
      " (항거, NNG)]\n"
     ]
    }
   ],
   "source": [
    "pprint(kkma.pos(c[:65]))"
   ]
  },
  {
   "cell_type": "code",
   "execution_count": 44,
   "metadata": {
    "collapsed": false
   },
   "outputs": [
    {
     "name": "stdout",
     "output_type": "stream",
     "text": [
      "[(대한민국, Noun),\n",
      " (헌법, Noun),\n",
      " (유구, Noun),\n",
      " (한, Josa),\n",
      " (역사, Noun),\n",
      " (와, Josa),\n",
      " (전통, Noun),\n",
      " (에, Josa),\n",
      " (빛나는, Verb),\n",
      " (우리, Noun),\n",
      " (대한, Noun),\n",
      " (국민, Noun),\n",
      " (은, Josa),\n",
      " (3, Number),\n",
      " (·, Foreign),\n",
      " (1, Number),\n",
      " (운동, Noun),\n",
      " (으로, Josa),\n",
      " (건립, Noun),\n",
      " (된, Verb),\n",
      " (대한민국, Noun),\n",
      " (임시정부, Noun),\n",
      " (의, Josa),\n",
      " (법, Noun),\n",
      " (통과, Noun),\n",
      " (불의, Noun),\n",
      " (에, Josa),\n",
      " (항거, Noun)]\n"
     ]
    }
   ],
   "source": [
    "pprint(twitter.pos(c[:65]))"
   ]
  }
 ],
 "metadata": {
  "anaconda-cloud": {},
  "kernelspec": {
   "display_name": "Python [Root]",
   "language": "python",
   "name": "Python [Root]"
  },
  "language_info": {
   "codemirror_mode": {
    "name": "ipython",
    "version": 3
   },
   "file_extension": ".py",
   "mimetype": "text/x-python",
   "name": "python",
   "nbconvert_exporter": "python",
   "pygments_lexer": "ipython3",
   "version": "3.5.1"
  }
 },
 "nbformat": 4,
 "nbformat_minor": 0
}
