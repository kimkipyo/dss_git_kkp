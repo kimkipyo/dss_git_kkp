{
 "cells": [
  {
   "cell_type": "markdown",
   "metadata": {},
   "source": [
    "# 정규화 선형 회귀 "
   ]
  },
  {
   "cell_type": "markdown",
   "metadata": {},
   "source": [
    "정규화는 regularization, penalized라고 함. 분산을 감소시키고 weight를 줄이고자 하는 노력이다."
   ]
  },
  {
   "cell_type": "markdown",
   "metadata": {
    "collapsed": true
   },
   "source": [
    "정규화(regularized) 선형 회귀 방법은 선형 회귀 계수(weight)에 대한 제약 조건을 추가함으로써 계수의 분산을 감소시키는 방법이다. Regularized Method, Penalized Method, Contrained Least Squares 이라고도 불리운다.\n",
    "\n",
    "일반적으로 세가지 정규화 선형 회귀 모형이 사용된다.\n",
    "\n",
    "* Ridge 회귀 모형 \n",
    "* LASSO 회귀 모형 \n",
    "* Elastic Net 회귀 모형"
   ]
  },
  {
   "cell_type": "markdown",
   "metadata": {},
   "source": [
    "## Ridge 회귀 모형"
   ]
  },
  {
   "cell_type": "markdown",
   "metadata": {},
   "source": [
    "Ridge 회귀 모형에서는 가중치들의 제곱합(squared sum of weights)을 최소화하는 것을 추가적인 제약 조건으로 한다.\n",
    "\n",
    "$$\n",
    "\\begin{eqnarray}\n",
    "\\text{cost} \n",
    "&=& \\sum e_i^2 + \\lambda \\sum w_i^2\n",
    "\\end{eqnarray}\n",
    "$$\n",
    "\n",
    "$\\lambda$는 기존의 잔차 제곱합과 추가적 제약 조건의 비중을 조절하기 위한 하이퍼 모수(hyper parameter)이다. $\\lambda$가 크면 정규화 정도가 커지고 가중치의 값들이 작아진다. $\\lambda$가 작아지면 정규화 정도가 작아지며 $\\lambda$ 가 0이 되면 일반적인 선형 회귀 모형이 된다."
   ]
  },
  {
   "cell_type": "markdown",
   "metadata": {},
   "source": [
    "여기서 람다와 알파를 섞어서 사용하겠다."
   ]
  },
  {
   "cell_type": "markdown",
   "metadata": {},
   "source": [
    "* weight를 줄여야 한다. 그렇다고 weight의 합을 얼마라고 규정하는 것은 너무 심한 제한이다.\n",
    "* 우리의 목표는 원래 에러(residual, 잔차)를 줄이는 것이다. 목표를 추가한다? 에러의 목표를 어떻게 추가해? 람다로. 가중치를 줘서\n",
    "\n",
    "* 가중치 자체를 줄여야 하는 것인데 알파가 커지면 본말이 전도가 된다. 알파가 엄청 커지면 weight는 모두 0이 된다. 람다를 얼마를 줘야 적정한가?"
   ]
  },
  {
   "cell_type": "markdown",
   "metadata": {},
   "source": [
    "## LASSO 회귀 모형\n",
    "\n",
    "LASSO(Least Absolute Shrinkage and Selection Operator) 회귀 모형은 가중치의 절대값의 합을 최소화하는 것을 추가적인 제약 조건으로 한다.\n",
    "\n",
    "$$\n",
    "\\begin{eqnarray}\n",
    "\\text{cost} \n",
    "&=& \\sum e_i^2 + \\lambda \\sum | w_i |\n",
    "\\end{eqnarray}\n",
    "$$"
   ]
  },
  {
   "cell_type": "markdown",
   "metadata": {},
   "source": [
    "## Elastic Net 회귀 모형"
   ]
  },
  {
   "cell_type": "markdown",
   "metadata": {},
   "source": [
    "Elastic Net 회귀 모형은 가중치의 절대값의 합과 제곱합을 동시에 제약 조건으로 가지는 모형이다.\n",
    "\n",
    "\n",
    "$$\n",
    "\\begin{eqnarray}\n",
    "\\text{cost} \n",
    "&=& \\sum e_i^2 + \\lambda_1 \\sum | w_i | + \\lambda_2 \\sum w_i^2\n",
    "\\end{eqnarray}\n",
    "$$\n",
    "\n",
    "$\\lambda_1$, $\\lambda_2$ 두 개의 하이퍼 모수를 가진다."
   ]
  },
  {
   "cell_type": "markdown",
   "metadata": {},
   "source": [
    "## statsmodels의 정규화 회귀 모형"
   ]
  },
  {
   "cell_type": "markdown",
   "metadata": {},
   "source": [
    "statsmodels 패키지는 OLS 선형 회귀 모형 클래스의 `fit_regularized` 메서드를 사용하여 Elastic Net 모형 계수를 구할 수 있다.(Elastic Net만 지원. Ridge, LASSO는 지원 X)\n",
    "\n",
    "* http://www.statsmodels.org/dev/generated/statsmodels.regression.linear_model.OLS.fit_regularized.html\n",
    "\n",
    "하이퍼 모수는 다음과 같이 모수 $\\text{alpha} $ 와 $\\text{L1_wt}$ 로  정의된다.\n",
    "\n",
    "$$\n",
    "0.5 \\times \\text{RSS}/N + \\text{alpha} \\times \\big( 0.5 \\times (1-\\text{L1_wt})\\sum w_i^2 + \\text{L1_wt} \\sum |w_i| \\big)\n",
    "$$"
   ]
  },
  {
   "cell_type": "markdown",
   "metadata": {},
   "source": [
    "* Ridge, LASSO보다 중요한 것은 알파. 알파는 얼마나 정규화 하는 것인지?\n",
    "* 알파가 커지면 정규화가 더 잘되고 더 과적합이 안 생긴다.\n",
    "* 하지만 더 잘 안 맞게 된다.(스코어가 낮아지는 것을 볼 수 있다.) \n",
    "* weight 줄이는 일을 하게 되기 때문에"
   ]
  },
  {
   "cell_type": "code",
   "execution_count": 1,
   "metadata": {
    "collapsed": true
   },
   "outputs": [],
   "source": [
    "np.random.seed(0)\n",
    "n_samples = 30\n",
    "X = np.sort(np.random.rand(n_samples))\n",
    "y = np.cos(1.5 * np.pi * X) + np.random.randn(n_samples) * 0.1"
   ]
  },
  {
   "cell_type": "code",
   "execution_count": 2,
   "metadata": {
    "collapsed": true
   },
   "outputs": [],
   "source": [
    "dfX = pd.DataFrame(X, columns=[\"x\"])\n",
    "dfX = sm.add_constant(dfX)\n",
    "dfy = pd.DataFrame(y, columns=[\"y\"])\n",
    "df = pd.concat([dfX, dfy], axis=1)"
   ]
  },
  {
   "cell_type": "code",
   "execution_count": 3,
   "metadata": {
    "collapsed": false
   },
   "outputs": [
    {
     "data": {
      "text/plain": [
       "Intercept     1.126872\n",
       "x            -2.178934\n",
       "I(x ** 2)     0.831280\n",
       "I(x ** 3)   -26.179823\n",
       "I(x ** 4)    48.667360\n",
       "I(x ** 5)   -22.317003\n",
       "dtype: float64"
      ]
     },
     "execution_count": 3,
     "metadata": {},
     "output_type": "execute_result"
    }
   ],
   "source": [
    "model = sm.OLS.from_formula(\"y ~ x + I(x**2) + I(x**3) + I(x**4) + I(x**5)\", data=df)\n",
    "result1 = model.fit()\n",
    "result1.params"
   ]
  },
  {
   "cell_type": "code",
   "execution_count": 4,
   "metadata": {
    "collapsed": false
   },
   "outputs": [
    {
     "data": {
      "image/png": "[encoded data removed]",
      "text/plain": [
       "<matplotlib.figure.Figure at 0xabf0f98>"
      ]
     },
     "metadata": {},
     "output_type": "display_data"
    }
   ],
   "source": [
    "def plot_statsmodels(result):\n",
    "    plt.scatter(X, y)\n",
    "    xx = np.linspace(0, 1, 1000)\n",
    "    dfxx = pd.DataFrame(xx, columns=[\"x\"])\n",
    "    dfxx = sm.add_constant(dfxx)\n",
    "    plt.plot(xx, result.predict(dfxx))\n",
    "    plt.show()\n",
    "    \n",
    "plot_statsmodels(result1)"
   ]
  },
  {
   "cell_type": "code",
   "execution_count": 5,
   "metadata": {
    "collapsed": false
   },
   "outputs": [
    {
     "name": "stdout",
     "output_type": "stream",
     "text": [
      "Intercept    0.707154\n",
      "x           -2.229501\n",
      "I(x ** 2)   -0.842831\n",
      "I(x ** 3)    0.197524\n",
      "I(x ** 4)    0.813785\n",
      "I(x ** 5)    1.160351\n",
      "dtype: float64\n"
     ]
    },
    {
     "data": {
      "image/png": "[encoded data removed]",
      "text/plain": [
       "<matplotlib.figure.Figure at 0xabf09e8>"
      ]
     },
     "metadata": {},
     "output_type": "display_data"
    }
   ],
   "source": [
    "result2 = model.fit_regularized(alpha=0.01, L1_wt=0)\n",
    "print(result2.params)\n",
    "plot_statsmodels(result2)"
   ]
  },
  {
   "cell_type": "code",
   "execution_count": 6,
   "metadata": {
    "collapsed": false
   },
   "outputs": [
    {
     "name": "stdout",
     "output_type": "stream",
     "text": [
      "Intercept    0.781925\n",
      "x           -2.655537\n",
      "I(x ** 2)   -0.253033\n",
      "I(x ** 3)    0.000000\n",
      "I(x ** 4)    0.671228\n",
      "I(x ** 5)    1.280714\n",
      "dtype: float64\n"
     ]
    },
    {
     "data": {
      "image/png": "[encoded data removed]",
      "text/plain": [
       "<matplotlib.figure.Figure at 0xac944e0>"
      ]
     },
     "metadata": {},
     "output_type": "display_data"
    }
   ],
   "source": [
    "result3 = model.fit_regularized(alpha=0.01, L1_wt=0.5)\n",
    "print(result3.params)\n",
    "plot_statsmodels(result3) "
   ]
  },
  {
   "cell_type": "code",
   "execution_count": 7,
   "metadata": {
    "collapsed": false
   },
   "outputs": [
    {
     "name": "stdout",
     "output_type": "stream",
     "text": [
      "Intercept    0.914843\n",
      "x           -3.073134\n",
      "I(x ** 2)    0.000000\n",
      "I(x ** 3)    0.000000\n",
      "I(x ** 4)    0.000000\n",
      "I(x ** 5)    2.092835\n",
      "dtype: float64\n"
     ]
    },
    {
     "data": {
      "image/png": "[encoded data removed]",
      "text/plain": [
       "<matplotlib.figure.Figure at 0xac94ef0>"
      ]
     },
     "metadata": {},
     "output_type": "display_data"
    }
   ],
   "source": [
    "result4 = model.fit_regularized(alpha=0.01, L1_wt=1)\n",
    "print(result4.params)\n",
    "plot_statsmodels(result4) "
   ]
  },
  {
   "cell_type": "markdown",
   "metadata": {},
   "source": [
    "## Scikit-Learn의 정규화 회귀 모형"
   ]
  },
  {
   "cell_type": "markdown",
   "metadata": {},
   "source": [
    "Scikit-Learn 패키지에서는 정규화 회귀 모형을 위한 `Ridge`, `Lasso`, `ElasticNet` 이라는 별도의 클래스를 제공한다. 각 모형에 대한 최적화 목적 함수는 다음과 같다.\n",
    "\n",
    "* http://scikit-learn.org/stable/modules/generated/sklearn.linear_model.Ridge.html\n",
    "\n",
    "$$\n",
    "\\text{RSS} + \\text{alpha} \\sum w_i^2\n",
    "$$\n",
    "\n",
    "* http://scikit-learn.org/stable/modules/generated/sklearn.linear_model.Lasso.html\n",
    "\n",
    "$$\n",
    "0.5 \\times \\text{RSS}/N + \\text{alpha} \\sum |w_i|\n",
    "$$\n",
    "\n",
    "* http://scikit-learn.org/stable/modules/generated/sklearn.linear_model.ElasticNet.html\n",
    "\n",
    "$$\n",
    "0.5 \\times \\text{RSS}/N + 0.5 \\times \\text{alpha} \\times \\big(0.5 \\times  (1-\\text{l1_ratio})\\sum w_i^2 + \\text{l1_ratio} \\sum |w_i| \\big)\n",
    "$$\n"
   ]
  },
  {
   "cell_type": "code",
   "execution_count": 8,
   "metadata": {
    "collapsed": true
   },
   "outputs": [],
   "source": [
    "def plot_sklearn(model):\n",
    "    plt.scatter(X, y)\n",
    "    xx = np.linspace(0, 1, 1000)\n",
    "    plt.plot(xx, model.predict(xx[:, np.newaxis]))\n",
    "    plt.show()"
   ]
  },
  {
   "cell_type": "code",
   "execution_count": 9,
   "metadata": {
    "collapsed": false
   },
   "outputs": [],
   "source": [
    "from sklearn.preprocessing import PolynomialFeatures\n",
    "from sklearn.pipeline import make_pipeline\n",
    "from sklearn.linear_model import LinearRegression, Ridge, Lasso, ElasticNet"
   ]
  },
  {
   "cell_type": "code",
   "execution_count": 10,
   "metadata": {
    "collapsed": true
   },
   "outputs": [],
   "source": [
    "poly = PolynomialFeatures(3)"
   ]
  },
  {
   "cell_type": "markdown",
   "metadata": {},
   "source": [
    "pipeline() 안에는 리스트 넣고 그 안에 튜플을 만들어야 한다. 이런 방식은 named 방식이라고 한다. 왜 이런 방식을 만드냐면 튜플 안에 들어간 것은 객체다."
   ]
  },
  {
   "cell_type": "code",
   "execution_count": 11,
   "metadata": {
    "collapsed": false
   },
   "outputs": [
    {
     "data": {
      "image/png": "[encoded data removed]",
      "text/plain": [
       "<matplotlib.figure.Figure at 0xb6491d0>"
      ]
     },
     "metadata": {},
     "output_type": "display_data"
    }
   ],
   "source": [
    "model = make_pipeline(poly, Ridge(alpha=0.01)).fit(X[:, np.newaxis], y)\n",
    "plot_sklearn(model)"
   ]
  },
  {
   "cell_type": "code",
   "execution_count": 12,
   "metadata": {
    "collapsed": false
   },
   "outputs": [
    {
     "data": {
      "image/png": "[encoded data removed]",
      "text/plain": [
       "<matplotlib.figure.Figure at 0xb673048>"
      ]
     },
     "metadata": {},
     "output_type": "display_data"
    }
   ],
   "source": [
    "model = make_pipeline(poly, Lasso(alpha=0.01)).fit(X[:, np.newaxis], y)\n",
    "plot_sklearn(model)"
   ]
  },
  {
   "cell_type": "code",
   "execution_count": 13,
   "metadata": {
    "collapsed": false
   },
   "outputs": [
    {
     "data": {
      "image/png": "[encoded data removed]",
      "text/plain": [
       "<matplotlib.figure.Figure at 0xb673080>"
      ]
     },
     "metadata": {},
     "output_type": "display_data"
    }
   ],
   "source": [
    "model = make_pipeline(poly, ElasticNet(alpha=0.01, l1_ratio=0.5)).fit(X[:, np.newaxis], y)\n",
    "plot_sklearn(model)"
   ]
  },
  {
   "cell_type": "markdown",
   "metadata": {},
   "source": [
    "## 정규화 모형의 장점"
   ]
  },
  {
   "cell_type": "markdown",
   "metadata": {},
   "source": [
    "정규화 모형은 오차-분산 트레이드오프(bias-variance trade-off) 원리에 따라 분산을 감소시키는 효과를 가진다."
   ]
  },
  {
   "cell_type": "markdown",
   "metadata": {},
   "source": [
    "* 에러는 수량화로 RSS로 하면 된다? Ridge는 크고 LinearRegression은 작다. \n",
    "* 흔들리는 정도를 수량화로? 교차검증(CV)\n",
    "* score의 표준편차(standard deviation)가 Ridge는 작고 LinearRegression은 크다."
   ]
  },
  {
   "cell_type": "code",
   "execution_count": 14,
   "metadata": {
    "collapsed": false
   },
   "outputs": [
    {
     "data": {
      "image/png": "[encoded data removed]",
      "text/plain": [
       "<matplotlib.figure.Figure at 0xb6df080>"
      ]
     },
     "metadata": {},
     "output_type": "display_data"
    }
   ],
   "source": [
    "X_train = np.c_[.5, 1].T\n",
    "y_train = [.5, 1]\n",
    "X_test = np.c_[-1, 3].T\n",
    "np.random.seed(0)\n",
    "\n",
    "models = {\"LinearRegression\": LinearRegression(), \n",
    "          \"Ridge\": Ridge(alpha=0.1)}\n",
    "\n",
    "for i, (name, model) in enumerate(models.items()):\n",
    "    ax = plt.subplot(1, 2, i+1)\n",
    "    for _ in range(10):\n",
    "        this_X = .1 * np.random.normal(size=(2, 1)) + X_train\n",
    "        model.fit(this_X, y_train)\n",
    "        ax.plot(X_test, model.predict(X_test), color='.5')\n",
    "        ax.scatter(this_X, y_train, s=100, c='.5', marker='o', zorder=10)\n",
    "        model.fit(X_train, y_train)\n",
    "        ax.plot(X_test, model.predict(X_test), linewidth=3, color='blue', alpha=0.5)\n",
    "        ax.scatter(X_train, y_train, s=100, c='r', marker='D', zorder=10)\n",
    "        plt.title(name)\n",
    "        ax.set_xlim(-0.5, 2)\n",
    "        ax.set_ylim(0, 1.6)"
   ]
  },
  {
   "cell_type": "markdown",
   "metadata": {},
   "source": [
    "## Ridge 모형과 Lasso 모형의 차이"
   ]
  },
  {
   "cell_type": "markdown",
   "metadata": {},
   "source": [
    "- 우리가 줄이려는 것은 RSS와 같은 것\n",
    "- (오타)가로 세로축은 베타가 아니고 w(weight)\n",
    "- 똑같은 성능=똑같은 에러값을 나타낸다. 성격은 크게 변하지 않는다.\n",
    "- LASSO를 쓰게 되면 다중공선성을 줄일 수 있다.\n",
    "- 0이 나온 경우에는 없어도 되기 때문에. 피쳐를 없앤다면 애들부터 없애도 되는 경우\n",
    "- 정리하면 줄이는 방법 4가지가 있다. 싱글~, 어노바 테이블. 섬오브 스퀘어 보고. 조정결정계수 보고. 마지막으로 라쏘나 일레스틱 쓰는 방법"
   ]
  },
  {
   "cell_type": "markdown",
   "metadata": {},
   "source": [
    "Ridge 모형은 가중치 계수를 한꺼번에 축소시키는데 반해 Lasso 모형은 일부 가중치 계수가 먼저 0으로 수렴하는 특성이 있다.\n",
    "\n",
    "<img src=\"https://datascienceschool.net/upfiles/10a19727037b4898984a4330c1285486.png\">"
   ]
  },
  {
   "cell_type": "markdown",
   "metadata": {},
   "source": [
    "Lasso가 왜 0이 떨어지느냐? 원은 보통 꼭지점에 맞는 경우가 대다수다."
   ]
  },
  {
   "cell_type": "code",
   "execution_count": 15,
   "metadata": {
    "collapsed": true
   },
   "outputs": [],
   "source": [
    "from sklearn.datasets import load_diabetes\n",
    "diabetes = load_diabetes()\n",
    "X = diabetes.data\n",
    "y = diabetes.target"
   ]
  },
  {
   "cell_type": "code",
   "execution_count": 16,
   "metadata": {
    "collapsed": false,
    "scrolled": true
   },
   "outputs": [
    {
     "data": {
      "text/html": [
       "<div>\n",
       "<table border=\"1\" class=\"dataframe\">\n",
       "  <thead>\n",
       "    <tr style=\"text-align: right;\">\n",
       "      <th></th>\n",
       "      <th>0</th>\n",
       "      <th>1</th>\n",
       "      <th>2</th>\n",
       "    </tr>\n",
       "  </thead>\n",
       "  <tbody>\n",
       "    <tr>\n",
       "      <th>0</th>\n",
       "      <td>152.133484</td>\n",
       "      <td>152.133484</td>\n",
       "      <td>152.133484</td>\n",
       "    </tr>\n",
       "    <tr>\n",
       "      <th>1</th>\n",
       "      <td>-10.012198</td>\n",
       "      <td>29.465746</td>\n",
       "      <td>33.684368</td>\n",
       "    </tr>\n",
       "    <tr>\n",
       "      <th>2</th>\n",
       "      <td>-239.819089</td>\n",
       "      <td>-83.154885</td>\n",
       "      <td>-41.040187</td>\n",
       "    </tr>\n",
       "    <tr>\n",
       "      <th>3</th>\n",
       "      <td>519.839787</td>\n",
       "      <td>306.351627</td>\n",
       "      <td>223.029964</td>\n",
       "    </tr>\n",
       "    <tr>\n",
       "      <th>4</th>\n",
       "      <td>324.390428</td>\n",
       "      <td>201.629434</td>\n",
       "      <td>152.203371</td>\n",
       "    </tr>\n",
       "    <tr>\n",
       "      <th>5</th>\n",
       "      <td>-792.184162</td>\n",
       "      <td>5.909369</td>\n",
       "      <td>20.941211</td>\n",
       "    </tr>\n",
       "    <tr>\n",
       "      <th>6</th>\n",
       "      <td>476.745838</td>\n",
       "      <td>-29.515927</td>\n",
       "      <td>-2.749722</td>\n",
       "    </tr>\n",
       "    <tr>\n",
       "      <th>7</th>\n",
       "      <td>101.044570</td>\n",
       "      <td>-152.040465</td>\n",
       "      <td>-121.063689</td>\n",
       "    </tr>\n",
       "    <tr>\n",
       "      <th>8</th>\n",
       "      <td>177.064176</td>\n",
       "      <td>117.311715</td>\n",
       "      <td>103.717329</td>\n",
       "    </tr>\n",
       "    <tr>\n",
       "      <th>9</th>\n",
       "      <td>751.279321</td>\n",
       "      <td>262.944995</td>\n",
       "      <td>195.099906</td>\n",
       "    </tr>\n",
       "    <tr>\n",
       "      <th>10</th>\n",
       "      <td>67.625386</td>\n",
       "      <td>111.878718</td>\n",
       "      <td>99.467716</td>\n",
       "    </tr>\n",
       "  </tbody>\n",
       "</table>\n",
       "</div>"
      ],
      "text/plain": [
       "             0           1           2\n",
       "0   152.133484  152.133484  152.133484\n",
       "1   -10.012198   29.465746   33.684368\n",
       "2  -239.819089  -83.154885  -41.040187\n",
       "3   519.839787  306.351627  223.029964\n",
       "4   324.390428  201.629434  152.203371\n",
       "5  -792.184162    5.909369   20.941211\n",
       "6   476.745838  -29.515927   -2.749722\n",
       "7   101.044570 -152.040465 -121.063689\n",
       "8   177.064176  117.311715  103.717329\n",
       "9   751.279321  262.944995  195.099906\n",
       "10   67.625386  111.878718   99.467716"
      ]
     },
     "execution_count": 16,
     "metadata": {},
     "output_type": "execute_result"
    }
   ],
   "source": [
    "ridge0 = Ridge(alpha=0).fit(X, y)\n",
    "p0 = pd.Series(np.hstack([ridge0.intercept_, ridge0.coef_]))\n",
    "ridge1 = Ridge(alpha=1).fit(X, y)\n",
    "p1 = pd.Series(np.hstack([ridge1.intercept_, ridge1.coef_]))\n",
    "ridge2 = Ridge(alpha=2).fit(X, y)\n",
    "p2 = pd.Series(np.hstack([ridge2.intercept_, ridge2.coef_]))\n",
    "pd.DataFrame([p0, p1, p2]).T"
   ]
  },
  {
   "cell_type": "code",
   "execution_count": 20,
   "metadata": {
    "collapsed": false
   },
   "outputs": [
    {
     "data": {
      "text/html": [
       "<div>\n",
       "<table border=\"1\" class=\"dataframe\">\n",
       "  <thead>\n",
       "    <tr style=\"text-align: right;\">\n",
       "      <th></th>\n",
       "      <th>alpha0</th>\n",
       "      <th>alpha1</th>\n",
       "      <th>alpha2</th>\n",
       "      <th>alpha100</th>\n",
       "      <th>alpha500</th>\n",
       "      <th>alpha1000</th>\n",
       "    </tr>\n",
       "  </thead>\n",
       "  <tbody>\n",
       "    <tr>\n",
       "      <th>0</th>\n",
       "      <td>152.133484</td>\n",
       "      <td>152.133484</td>\n",
       "      <td>152.133484</td>\n",
       "      <td>152.133484</td>\n",
       "      <td>152.133484</td>\n",
       "      <td>152.133484</td>\n",
       "    </tr>\n",
       "    <tr>\n",
       "      <th>1</th>\n",
       "      <td>-10.012198</td>\n",
       "      <td>29.465746</td>\n",
       "      <td>33.684368</td>\n",
       "      <td>2.897090</td>\n",
       "      <td>0.602385</td>\n",
       "      <td>0.302682</td>\n",
       "    </tr>\n",
       "    <tr>\n",
       "      <th>2</th>\n",
       "      <td>-239.819089</td>\n",
       "      <td>-83.154885</td>\n",
       "      <td>-41.040187</td>\n",
       "      <td>0.585254</td>\n",
       "      <td>0.134790</td>\n",
       "      <td>0.068550</td>\n",
       "    </tr>\n",
       "    <tr>\n",
       "      <th>3</th>\n",
       "      <td>519.839787</td>\n",
       "      <td>306.351627</td>\n",
       "      <td>223.029964</td>\n",
       "      <td>9.240719</td>\n",
       "      <td>1.888440</td>\n",
       "      <td>0.946818</td>\n",
       "    </tr>\n",
       "    <tr>\n",
       "      <th>4</th>\n",
       "      <td>324.390428</td>\n",
       "      <td>201.629434</td>\n",
       "      <td>152.203371</td>\n",
       "      <td>6.931321</td>\n",
       "      <td>1.420587</td>\n",
       "      <td>0.712509</td>\n",
       "    </tr>\n",
       "    <tr>\n",
       "      <th>5</th>\n",
       "      <td>-792.184162</td>\n",
       "      <td>5.909369</td>\n",
       "      <td>20.941211</td>\n",
       "      <td>3.230957</td>\n",
       "      <td>0.678157</td>\n",
       "      <td>0.341157</td>\n",
       "    </tr>\n",
       "    <tr>\n",
       "      <th>6</th>\n",
       "      <td>476.745838</td>\n",
       "      <td>-29.515927</td>\n",
       "      <td>-2.749722</td>\n",
       "      <td>2.616766</td>\n",
       "      <td>0.555231</td>\n",
       "      <td>0.279690</td>\n",
       "    </tr>\n",
       "    <tr>\n",
       "      <th>7</th>\n",
       "      <td>101.044570</td>\n",
       "      <td>-152.040465</td>\n",
       "      <td>-121.063689</td>\n",
       "      <td>-6.174550</td>\n",
       "      <td>-1.269353</td>\n",
       "      <td>-0.636902</td>\n",
       "    </tr>\n",
       "    <tr>\n",
       "      <th>8</th>\n",
       "      <td>177.064176</td>\n",
       "      <td>117.311715</td>\n",
       "      <td>103.717329</td>\n",
       "      <td>6.678027</td>\n",
       "      <td>1.381755</td>\n",
       "      <td>0.693868</td>\n",
       "    </tr>\n",
       "    <tr>\n",
       "      <th>9</th>\n",
       "      <td>751.279321</td>\n",
       "      <td>262.944995</td>\n",
       "      <td>195.099906</td>\n",
       "      <td>8.876864</td>\n",
       "      <td>1.820553</td>\n",
       "      <td>0.913196</td>\n",
       "    </tr>\n",
       "    <tr>\n",
       "      <th>10</th>\n",
       "      <td>67.625386</td>\n",
       "      <td>111.878718</td>\n",
       "      <td>99.467716</td>\n",
       "      <td>5.955597</td>\n",
       "      <td>1.228687</td>\n",
       "      <td>0.616774</td>\n",
       "    </tr>\n",
       "  </tbody>\n",
       "</table>\n",
       "</div>"
      ],
      "text/plain": [
       "        alpha0      alpha1      alpha2    alpha100    alpha500   alpha1000\n",
       "0   152.133484  152.133484  152.133484  152.133484  152.133484  152.133484\n",
       "1   -10.012198   29.465746   33.684368    2.897090    0.602385    0.302682\n",
       "2  -239.819089  -83.154885  -41.040187    0.585254    0.134790    0.068550\n",
       "3   519.839787  306.351627  223.029964    9.240719    1.888440    0.946818\n",
       "4   324.390428  201.629434  152.203371    6.931321    1.420587    0.712509\n",
       "5  -792.184162    5.909369   20.941211    3.230957    0.678157    0.341157\n",
       "6   476.745838  -29.515927   -2.749722    2.616766    0.555231    0.279690\n",
       "7   101.044570 -152.040465 -121.063689   -6.174550   -1.269353   -0.636902\n",
       "8   177.064176  117.311715  103.717329    6.678027    1.381755    0.693868\n",
       "9   751.279321  262.944995  195.099906    8.876864    1.820553    0.913196\n",
       "10   67.625386  111.878718   99.467716    5.955597    1.228687    0.616774"
      ]
     },
     "execution_count": 20,
     "metadata": {},
     "output_type": "execute_result"
    }
   ],
   "source": [
    "ridge0 = Ridge(alpha=0).fit(X, y)\n",
    "p0 = pd.Series(np.hstack([ridge0.intercept_, ridge0.coef_]))\n",
    "ridge1 = Ridge(alpha=1).fit(X, y)\n",
    "p1 = pd.Series(np.hstack([ridge1.intercept_, ridge1.coef_]))\n",
    "ridge2 = Ridge(alpha=2).fit(X, y)\n",
    "p2 = pd.Series(np.hstack([ridge2.intercept_, ridge2.coef_]))\n",
    "ridge3 = Ridge(alpha=100).fit(X, y)\n",
    "p3 = pd.Series(np.hstack([ridge3.intercept_, ridge3.coef_]))\n",
    "ridge4 = Ridge(alpha=500).fit(X, y)\n",
    "p4 = pd.Series(np.hstack([ridge4.intercept_, ridge4.coef_]))\n",
    "ridge5 = Ridge(alpha=1000).fit(X, y)\n",
    "p5 = pd.Series(np.hstack([ridge5.intercept_, ridge5.coef_]))\n",
    "df = pd.DataFrame([p0, p1, p2, p3, p4, p5]).T\n",
    "df.columns=[\"alpha0\", \"alpha1\", \"alpha2\", \"alpha100\", \"alpha500\", \"alpha1000\"]\n",
    "df"
   ]
  },
  {
   "cell_type": "code",
   "execution_count": 17,
   "metadata": {
    "collapsed": false
   },
   "outputs": [
    {
     "data": {
      "text/html": [
       "<div>\n",
       "<table border=\"1\" class=\"dataframe\">\n",
       "  <thead>\n",
       "    <tr style=\"text-align: right;\">\n",
       "      <th></th>\n",
       "      <th>0</th>\n",
       "      <th>1</th>\n",
       "      <th>2</th>\n",
       "    </tr>\n",
       "  </thead>\n",
       "  <tbody>\n",
       "    <tr>\n",
       "      <th>0</th>\n",
       "      <td>152.133484</td>\n",
       "      <td>152.133484</td>\n",
       "      <td>152.133484</td>\n",
       "    </tr>\n",
       "    <tr>\n",
       "      <th>1</th>\n",
       "      <td>-9.910816</td>\n",
       "      <td>-0.000000</td>\n",
       "      <td>0.000000</td>\n",
       "    </tr>\n",
       "    <tr>\n",
       "      <th>2</th>\n",
       "      <td>-239.727144</td>\n",
       "      <td>-155.362882</td>\n",
       "      <td>0.000000</td>\n",
       "    </tr>\n",
       "    <tr>\n",
       "      <th>3</th>\n",
       "      <td>519.881966</td>\n",
       "      <td>517.182017</td>\n",
       "      <td>0.000000</td>\n",
       "    </tr>\n",
       "    <tr>\n",
       "      <th>4</th>\n",
       "      <td>324.294322</td>\n",
       "      <td>275.082351</td>\n",
       "      <td>0.000000</td>\n",
       "    </tr>\n",
       "    <tr>\n",
       "      <th>5</th>\n",
       "      <td>-784.988701</td>\n",
       "      <td>-52.540269</td>\n",
       "      <td>0.000000</td>\n",
       "    </tr>\n",
       "    <tr>\n",
       "      <th>6</th>\n",
       "      <td>471.210031</td>\n",
       "      <td>-0.000000</td>\n",
       "      <td>0.000000</td>\n",
       "    </tr>\n",
       "    <tr>\n",
       "      <th>7</th>\n",
       "      <td>97.612539</td>\n",
       "      <td>-210.159753</td>\n",
       "      <td>-0.000000</td>\n",
       "    </tr>\n",
       "    <tr>\n",
       "      <th>8</th>\n",
       "      <td>175.802361</td>\n",
       "      <td>0.000000</td>\n",
       "      <td>0.000000</td>\n",
       "    </tr>\n",
       "    <tr>\n",
       "      <th>9</th>\n",
       "      <td>748.684614</td>\n",
       "      <td>483.914409</td>\n",
       "      <td>0.000000</td>\n",
       "    </tr>\n",
       "    <tr>\n",
       "      <th>10</th>\n",
       "      <td>67.610404</td>\n",
       "      <td>33.672821</td>\n",
       "      <td>0.000000</td>\n",
       "    </tr>\n",
       "  </tbody>\n",
       "</table>\n",
       "</div>"
      ],
      "text/plain": [
       "             0           1           2\n",
       "0   152.133484  152.133484  152.133484\n",
       "1    -9.910816   -0.000000    0.000000\n",
       "2  -239.727144 -155.362882    0.000000\n",
       "3   519.881966  517.182017    0.000000\n",
       "4   324.294322  275.082351    0.000000\n",
       "5  -784.988701  -52.540269    0.000000\n",
       "6   471.210031   -0.000000    0.000000\n",
       "7    97.612539 -210.159753   -0.000000\n",
       "8   175.802361    0.000000    0.000000\n",
       "9   748.684614  483.914409    0.000000\n",
       "10   67.610404   33.672821    0.000000"
      ]
     },
     "execution_count": 17,
     "metadata": {},
     "output_type": "execute_result"
    }
   ],
   "source": [
    "lasso0 = Lasso(alpha=0.0001).fit(X, y)\n",
    "p0 = pd.Series(np.hstack([lasso0.intercept_, lasso0.coef_]))\n",
    "lasso1 = Lasso(alpha=0.1).fit(X, y)\n",
    "p1 = pd.Series(np.hstack([lasso1.intercept_, lasso1.coef_]))\n",
    "lasso2 = Lasso(alpha=10).fit(X, y)\n",
    "p2 = pd.Series(np.hstack([lasso2.intercept_, lasso2.coef_]))\n",
    "pd.DataFrame([p0, p1, p2]).T"
   ]
  },
  {
   "cell_type": "markdown",
   "metadata": {},
   "source": [
    "## path 메서드"
   ]
  },
  {
   "cell_type": "markdown",
   "metadata": {},
   "source": [
    "`Lasso` 와 `ElasticNet`  클래스는 하이퍼 모수 `alpha` 값의 변화에 따른 계수의 변화를 자동으로 계산하는 `path` 메서드를 제공한다.\n",
    "`lasso_path()`, `enet_path()` 명령어도 `path` 메서드와 동일한 기능을 수행한다."
   ]
  },
  {
   "cell_type": "code",
   "execution_count": 18,
   "metadata": {
    "collapsed": false
   },
   "outputs": [
    {
     "data": {
      "text/html": [
       "<div>\n",
       "<table border=\"1\" class=\"dataframe\">\n",
       "  <thead>\n",
       "    <tr style=\"text-align: right;\">\n",
       "      <th></th>\n",
       "      <th>10.0</th>\n",
       "      <th>1.0</th>\n",
       "      <th>0.1</th>\n",
       "      <th>0.01</th>\n",
       "      <th>0.001</th>\n",
       "      <th>0.0001</th>\n",
       "      <th>1e-05</th>\n",
       "      <th>1e-06</th>\n",
       "    </tr>\n",
       "  </thead>\n",
       "  <tbody>\n",
       "    <tr>\n",
       "      <th>0</th>\n",
       "      <td>0.0</td>\n",
       "      <td>0.359018</td>\n",
       "      <td>10.286331</td>\n",
       "      <td>33.147694</td>\n",
       "      <td>8.705495</td>\n",
       "      <td>-5.452332</td>\n",
       "      <td>-9.080737</td>\n",
       "      <td>-9.902637</td>\n",
       "    </tr>\n",
       "    <tr>\n",
       "      <th>1</th>\n",
       "      <td>0.0</td>\n",
       "      <td>0.000000</td>\n",
       "      <td>0.285976</td>\n",
       "      <td>-35.245064</td>\n",
       "      <td>-178.075235</td>\n",
       "      <td>-230.060677</td>\n",
       "      <td>-238.307326</td>\n",
       "      <td>-239.649466</td>\n",
       "    </tr>\n",
       "    <tr>\n",
       "      <th>2</th>\n",
       "      <td>0.0</td>\n",
       "      <td>3.259767</td>\n",
       "      <td>37.464643</td>\n",
       "      <td>211.024640</td>\n",
       "      <td>450.882945</td>\n",
       "      <td>517.356795</td>\n",
       "      <td>520.767952</td>\n",
       "      <td>519.973879</td>\n",
       "    </tr>\n",
       "    <tr>\n",
       "      <th>3</th>\n",
       "      <td>0.0</td>\n",
       "      <td>2.204356</td>\n",
       "      <td>27.544898</td>\n",
       "      <td>144.560242</td>\n",
       "      <td>281.073242</td>\n",
       "      <td>317.436537</td>\n",
       "      <td>323.234112</td>\n",
       "      <td>324.258708</td>\n",
       "    </tr>\n",
       "    <tr>\n",
       "      <th>4</th>\n",
       "      <td>0.0</td>\n",
       "      <td>0.528646</td>\n",
       "      <td>11.108848</td>\n",
       "      <td>21.931303</td>\n",
       "      <td>-44.061899</td>\n",
       "      <td>-240.402810</td>\n",
       "      <td>-635.231952</td>\n",
       "      <td>-772.936350</td>\n",
       "    </tr>\n",
       "    <tr>\n",
       "      <th>5</th>\n",
       "      <td>0.0</td>\n",
       "      <td>0.250935</td>\n",
       "      <td>8.355882</td>\n",
       "      <td>0.000000</td>\n",
       "      <td>-77.939017</td>\n",
       "      <td>40.281395</td>\n",
       "      <td>352.230141</td>\n",
       "      <td>461.473758</td>\n",
       "    </tr>\n",
       "    <tr>\n",
       "      <th>6</th>\n",
       "      <td>-0.0</td>\n",
       "      <td>-1.861363</td>\n",
       "      <td>-24.120806</td>\n",
       "      <td>-115.619846</td>\n",
       "      <td>-188.950843</td>\n",
       "      <td>-136.775239</td>\n",
       "      <td>31.891364</td>\n",
       "      <td>92.542411</td>\n",
       "    </tr>\n",
       "    <tr>\n",
       "      <th>7</th>\n",
       "      <td>0.0</td>\n",
       "      <td>2.114454</td>\n",
       "      <td>25.505488</td>\n",
       "      <td>100.658528</td>\n",
       "      <td>119.797535</td>\n",
       "      <td>117.921788</td>\n",
       "      <td>158.412929</td>\n",
       "      <td>174.749027</td>\n",
       "    </tr>\n",
       "    <tr>\n",
       "      <th>8</th>\n",
       "      <td>0.0</td>\n",
       "      <td>3.105841</td>\n",
       "      <td>35.465757</td>\n",
       "      <td>185.326164</td>\n",
       "      <td>393.706827</td>\n",
       "      <td>533.930194</td>\n",
       "      <td>691.527537</td>\n",
       "      <td>743.979234</td>\n",
       "    </tr>\n",
       "    <tr>\n",
       "      <th>9</th>\n",
       "      <td>0.0</td>\n",
       "      <td>1.769851</td>\n",
       "      <td>22.894981</td>\n",
       "      <td>96.257133</td>\n",
       "      <td>98.943979</td>\n",
       "      <td>73.934816</td>\n",
       "      <td>68.648179</td>\n",
       "      <td>67.740903</td>\n",
       "    </tr>\n",
       "  </tbody>\n",
       "</table>\n",
       "</div>"
      ],
      "text/plain": [
       "   10.000000  1.000000   0.100000    0.010000    0.001000    0.000100   \\\n",
       "0        0.0   0.359018  10.286331   33.147694    8.705495   -5.452332   \n",
       "1        0.0   0.000000   0.285976  -35.245064 -178.075235 -230.060677   \n",
       "2        0.0   3.259767  37.464643  211.024640  450.882945  517.356795   \n",
       "3        0.0   2.204356  27.544898  144.560242  281.073242  317.436537   \n",
       "4        0.0   0.528646  11.108848   21.931303  -44.061899 -240.402810   \n",
       "5        0.0   0.250935   8.355882    0.000000  -77.939017   40.281395   \n",
       "6       -0.0  -1.861363 -24.120806 -115.619846 -188.950843 -136.775239   \n",
       "7        0.0   2.114454  25.505488  100.658528  119.797535  117.921788   \n",
       "8        0.0   3.105841  35.465757  185.326164  393.706827  533.930194   \n",
       "9        0.0   1.769851  22.894981   96.257133   98.943979   73.934816   \n",
       "\n",
       "    0.000010    0.000001   \n",
       "0   -9.080737   -9.902637  \n",
       "1 -238.307326 -239.649466  \n",
       "2  520.767952  519.973879  \n",
       "3  323.234112  324.258708  \n",
       "4 -635.231952 -772.936350  \n",
       "5  352.230141  461.473758  \n",
       "6   31.891364   92.542411  \n",
       "7  158.412929  174.749027  \n",
       "8  691.527537  743.979234  \n",
       "9   68.648179   67.740903  "
      ]
     },
     "execution_count": 18,
     "metadata": {},
     "output_type": "execute_result"
    }
   ],
   "source": [
    "lasso = Lasso()\n",
    "alphas, coefs, _ = lasso.path(X, y, alphas=np.logspace(-6, 1, 8))\n",
    "df = pd.DataFrame(coefs, columns=alphas)\n",
    "df"
   ]
  },
  {
   "cell_type": "code",
   "execution_count": 21,
   "metadata": {
    "collapsed": false,
    "scrolled": true
   },
   "outputs": [
    {
     "data": {
      "text/html": [
       "<div>\n",
       "<table border=\"1\" class=\"dataframe\">\n",
       "  <thead>\n",
       "    <tr style=\"text-align: right;\">\n",
       "      <th></th>\n",
       "      <th>10.0</th>\n",
       "      <th>7.74263682681</th>\n",
       "      <th>5.99484250319</th>\n",
       "      <th>4.64158883361</th>\n",
       "      <th>3.5938136638</th>\n",
       "      <th>2.78255940221</th>\n",
       "      <th>2.15443469003</th>\n",
       "      <th>1.6681005372</th>\n",
       "      <th>1.29154966501</th>\n",
       "      <th>1.0</th>\n",
       "    </tr>\n",
       "  </thead>\n",
       "  <tbody>\n",
       "    <tr>\n",
       "      <th>0</th>\n",
       "      <td>0.0</td>\n",
       "      <td>0.0</td>\n",
       "      <td>0.0</td>\n",
       "      <td>0.0</td>\n",
       "      <td>0.000000</td>\n",
       "      <td>0.000000</td>\n",
       "      <td>0.000000</td>\n",
       "      <td>0.000000</td>\n",
       "      <td>0.057438</td>\n",
       "      <td>0.359018</td>\n",
       "    </tr>\n",
       "    <tr>\n",
       "      <th>1</th>\n",
       "      <td>0.0</td>\n",
       "      <td>0.0</td>\n",
       "      <td>0.0</td>\n",
       "      <td>0.0</td>\n",
       "      <td>0.000000</td>\n",
       "      <td>0.000000</td>\n",
       "      <td>0.000000</td>\n",
       "      <td>0.000000</td>\n",
       "      <td>0.000000</td>\n",
       "      <td>0.000000</td>\n",
       "    </tr>\n",
       "    <tr>\n",
       "      <th>2</th>\n",
       "      <td>0.0</td>\n",
       "      <td>0.0</td>\n",
       "      <td>0.0</td>\n",
       "      <td>0.0</td>\n",
       "      <td>0.195080</td>\n",
       "      <td>0.542478</td>\n",
       "      <td>0.989810</td>\n",
       "      <td>1.565985</td>\n",
       "      <td>2.307328</td>\n",
       "      <td>3.259767</td>\n",
       "    </tr>\n",
       "    <tr>\n",
       "      <th>3</th>\n",
       "      <td>0.0</td>\n",
       "      <td>0.0</td>\n",
       "      <td>0.0</td>\n",
       "      <td>0.0</td>\n",
       "      <td>0.000000</td>\n",
       "      <td>0.161290</td>\n",
       "      <td>0.497900</td>\n",
       "      <td>0.931347</td>\n",
       "      <td>1.488779</td>\n",
       "      <td>2.204355</td>\n",
       "    </tr>\n",
       "    <tr>\n",
       "      <th>4</th>\n",
       "      <td>0.0</td>\n",
       "      <td>0.0</td>\n",
       "      <td>0.0</td>\n",
       "      <td>0.0</td>\n",
       "      <td>0.000000</td>\n",
       "      <td>0.000000</td>\n",
       "      <td>0.000000</td>\n",
       "      <td>0.000000</td>\n",
       "      <td>0.190822</td>\n",
       "      <td>0.528645</td>\n",
       "    </tr>\n",
       "    <tr>\n",
       "      <th>5</th>\n",
       "      <td>0.0</td>\n",
       "      <td>0.0</td>\n",
       "      <td>0.0</td>\n",
       "      <td>0.0</td>\n",
       "      <td>0.000000</td>\n",
       "      <td>0.000000</td>\n",
       "      <td>0.000000</td>\n",
       "      <td>0.000000</td>\n",
       "      <td>0.000000</td>\n",
       "      <td>0.250935</td>\n",
       "    </tr>\n",
       "    <tr>\n",
       "      <th>6</th>\n",
       "      <td>-0.0</td>\n",
       "      <td>-0.0</td>\n",
       "      <td>-0.0</td>\n",
       "      <td>-0.0</td>\n",
       "      <td>-0.000000</td>\n",
       "      <td>-0.038442</td>\n",
       "      <td>-0.339060</td>\n",
       "      <td>-0.725907</td>\n",
       "      <td>-1.223212</td>\n",
       "      <td>-1.861363</td>\n",
       "    </tr>\n",
       "    <tr>\n",
       "      <th>7</th>\n",
       "      <td>0.0</td>\n",
       "      <td>0.0</td>\n",
       "      <td>0.0</td>\n",
       "      <td>0.0</td>\n",
       "      <td>0.000000</td>\n",
       "      <td>0.132055</td>\n",
       "      <td>0.459565</td>\n",
       "      <td>0.880879</td>\n",
       "      <td>1.421836</td>\n",
       "      <td>2.114454</td>\n",
       "    </tr>\n",
       "    <tr>\n",
       "      <th>8</th>\n",
       "      <td>0.0</td>\n",
       "      <td>0.0</td>\n",
       "      <td>0.0</td>\n",
       "      <td>0.0</td>\n",
       "      <td>0.153186</td>\n",
       "      <td>0.488335</td>\n",
       "      <td>0.919695</td>\n",
       "      <td>1.475118</td>\n",
       "      <td>2.189260</td>\n",
       "      <td>3.105841</td>\n",
       "    </tr>\n",
       "    <tr>\n",
       "      <th>9</th>\n",
       "      <td>0.0</td>\n",
       "      <td>0.0</td>\n",
       "      <td>0.0</td>\n",
       "      <td>0.0</td>\n",
       "      <td>0.000000</td>\n",
       "      <td>0.006025</td>\n",
       "      <td>0.297197</td>\n",
       "      <td>0.671848</td>\n",
       "      <td>1.153108</td>\n",
       "      <td>1.769851</td>\n",
       "    </tr>\n",
       "  </tbody>\n",
       "</table>\n",
       "</div>"
      ],
      "text/plain": [
       "   10.000000  7.742637   5.994843   4.641589   3.593814   2.782559   \\\n",
       "0        0.0        0.0        0.0        0.0   0.000000   0.000000   \n",
       "1        0.0        0.0        0.0        0.0   0.000000   0.000000   \n",
       "2        0.0        0.0        0.0        0.0   0.195080   0.542478   \n",
       "3        0.0        0.0        0.0        0.0   0.000000   0.161290   \n",
       "4        0.0        0.0        0.0        0.0   0.000000   0.000000   \n",
       "5        0.0        0.0        0.0        0.0   0.000000   0.000000   \n",
       "6       -0.0       -0.0       -0.0       -0.0  -0.000000  -0.038442   \n",
       "7        0.0        0.0        0.0        0.0   0.000000   0.132055   \n",
       "8        0.0        0.0        0.0        0.0   0.153186   0.488335   \n",
       "9        0.0        0.0        0.0        0.0   0.000000   0.006025   \n",
       "\n",
       "   2.154435   1.668101   1.291550   1.000000   \n",
       "0   0.000000   0.000000   0.057438   0.359018  \n",
       "1   0.000000   0.000000   0.000000   0.000000  \n",
       "2   0.989810   1.565985   2.307328   3.259767  \n",
       "3   0.497900   0.931347   1.488779   2.204355  \n",
       "4   0.000000   0.000000   0.190822   0.528645  \n",
       "5   0.000000   0.000000   0.000000   0.250935  \n",
       "6  -0.339060  -0.725907  -1.223212  -1.861363  \n",
       "7   0.459565   0.880879   1.421836   2.114454  \n",
       "8   0.919695   1.475118   2.189260   3.105841  \n",
       "9   0.297197   0.671848   1.153108   1.769851  "
      ]
     },
     "execution_count": 21,
     "metadata": {},
     "output_type": "execute_result"
    }
   ],
   "source": [
    "lasso = Lasso()\n",
    "alphas, coefs, _ = lasso.path(X, y, alphas=np.logspace(0, 1, 10))\n",
    "df = pd.DataFrame(coefs, columns=alphas)\n",
    "df\n",
    "#0이 나온 경우에는 영향력이 없는 것들이 먼저 떨어져 나간다."
   ]
  },
  {
   "cell_type": "code",
   "execution_count": 19,
   "metadata": {
    "collapsed": false,
    "scrolled": true
   },
   "outputs": [
    {
     "data": {
      "image/png": "[encoded data removed]",
      "text/plain": [
       "<matplotlib.figure.Figure at 0xca44ba8>"
      ]
     },
     "metadata": {},
     "output_type": "display_data"
    }
   ],
   "source": [
    "df.T.plot(logx=True)\n",
    "plt.show()"
   ]
  },
  {
   "cell_type": "code",
   "execution_count": 23,
   "metadata": {
    "collapsed": false
   },
   "outputs": [
    {
     "name": "stdout",
     "output_type": "stream",
     "text": [
      "0.00372759372031\n"
     ]
    },
    {
     "data": {
      "image/png": "[encoded data removed]",
      "text/plain": [
       "<matplotlib.figure.Figure at 0xb3b2320>"
      ]
     },
     "metadata": {},
     "output_type": "display_data"
    }
   ],
   "source": [
    "from sklearn.linear_model import LassoCV\n",
    "\n",
    "alphas = np.logspace(-4, -.5, 50)\n",
    "lasso_cv = LassoCV(alphas=alphas, cv=5)\n",
    "lasso_cv.fit(X, y)\n",
    "\n",
    "print(lasso_cv.alpha_ )\n",
    "\n",
    "scores = -lasso_cv.mse_path_.mean(axis=1)\n",
    "plt.semilogx(lasso_cv.alphas_, scores)\n",
    "plt.axhline(np.max(scores), linestyle=':')    \n",
    "plt.axvline(lasso_cv.alpha_ , linestyle=':')   \n",
    "plt.ylabel('CV score')\n",
    "plt.xlabel('alpha')\n",
    "plt.show()"
   ]
  }
 ],
 "metadata": {
  "anaconda-cloud": {},
  "kernelspec": {
   "display_name": "Python [Root]",
   "language": "python",
   "name": "Python [Root]"
  },
  "language_info": {
   "codemirror_mode": {
    "name": "ipython",
    "version": 3
   },
   "file_extension": ".py",
   "mimetype": "text/x-python",
   "name": "python",
   "nbconvert_exporter": "python",
   "pygments_lexer": "ipython3",
   "version": "3.5.1"
  }
 },
 "nbformat": 4,
 "nbformat_minor": 0
}
