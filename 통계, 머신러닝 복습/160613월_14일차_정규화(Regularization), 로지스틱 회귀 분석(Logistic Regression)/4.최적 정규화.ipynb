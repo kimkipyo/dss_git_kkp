{
 "cells": [
  {
   "cell_type": "markdown",
   "metadata": {},
   "source": [
    "# 최적 정규화\n",
    "- 알파 최적화 문제"
   ]
  },
  {
   "cell_type": "markdown",
   "metadata": {},
   "source": [
    "## 오차-분산 트레이드오프"
   ]
  },
  {
   "cell_type": "markdown",
   "metadata": {},
   "source": [
    "모형 최적화 뒤의 편향 오차(bias)와 오차 분산(variance)는 다음과 같은 트레이드-오프(trade-off) 관계를 가진다. 즉, 어느 하나가 작아지면 다른 하나는 커지게 된다.\n",
    "* 이 방식 잘 안 쓴다. 안 쓰는 이유는 분산과 바이어스를 또 얼만큼 맞춰야 하는지 기준을 정해야 하기 때문"
   ]
  },
  {
   "cell_type": "markdown",
   "metadata": {},
   "source": [
    "\n",
    "함수 $f$를 다른 함수 $\\hat{f}$로 모사(approximation)할 때 오차를 $\\epsilon$이라고 하면\n",
    "\n",
    "$$\n",
    "y = f + \\epsilon \\approx \\hat{f}\n",
    "$$\n",
    "\n",
    "이다. 이때 \n",
    "\n",
    "$$\\text{E}[y] = \\text{E}[f + \\epsilon] = \\text{E}[f] = f$$\n",
    "\n",
    "\n",
    "편향 오차(bias)는 다음과 같이 정의한다.\n",
    "$$\n",
    "\\begin{align}\n",
    " \\text{Bias}[\\hat{f}] =  f - \\text{E}[\\hat{f}] \n",
    "\\end{align}\n",
    "$$\n",
    "\n",
    "\n",
    "오차의 분산(Variance)은 다음과 같이 정의한다.\n",
    "$$\n",
    "\\begin{align}\n",
    "\\text{Var}[\\hat{f}] = \\text{E}[ ( \\hat{f} - \\text{E}[\\hat{f}])^2 ] \n",
    "\\end{align}\n",
    "$$\n",
    "\n",
    "이 때 편향 오차와 오차 분산은 다음과 같은 관계가 성립하므로 동시에 줄일 수 없다.\n",
    "\n",
    "$$\n",
    "\\begin{align}\n",
    "\\text{E}[(y - \\hat{f})^2]\n",
    " & = (\\text{Bias}[\\hat{f}(x)])^2 + \\text{Var}[\\hat{f}(x)] + \\text{Var}[\\epsilon] \\\\\n",
    "\\end{align}\n",
    "$$\n"
   ]
  },
  {
   "cell_type": "markdown",
   "metadata": {},
   "source": [
    "<img src=\"https://datascienceschool.net/upfiles/c1d938635778456d9ccc94d9fbf59e22.png\">"
   ]
  },
  {
   "cell_type": "markdown",
   "metadata": {},
   "source": [
    "(증명)\n",
    "\n",
    "\n",
    "\n",
    "\n",
    "\n",
    "\n",
    "$$\n",
    "\\begin{align}\n",
    "\\text{Var}[y] \n",
    "&= \\text{E}[(y - \\text{E}[y])^2] \\\\\n",
    "&= \\text{E}[(y - f)^2] \\\\\n",
    "&= \\text{E}[(f + \\epsilon - f)^2] \\\\\n",
    "&= \\text{E}[\\epsilon^2] \\\\\n",
    "&= \\text{Var}[\\epsilon] \n",
    "\\end{align}\n",
    "$$\n",
    "\n",
    "\n",
    "$$\n",
    "\\begin{align}\n",
    "\\text{E}\\big[(y - \\hat{f})^2\\big]\n",
    " & = \\text{E}[y^2] + \\text{E}[\\hat{f}^2] - \\text{E}[2y\\hat{f}] \\\\\n",
    " & = \\text{Var}[y] + \\text{E}[y]^2 + \\text{Var}[\\hat{f}] + \\text{E}[\\hat{f}]^2 - 2\\text{E}[y\\hat{f}] \\\\\n",
    " & = \\text{Var}[y] + f^2 + \\text{Var}[\\hat{f}] + \\text{E}[\\hat{f}]^2 - 2f\\text{E}[\\hat{f}] \\\\\n",
    " & = \\text{Var}[y] + \\text{Var}[\\hat{f}] + f^2 - 2f\\text{E}[\\hat{f}]  + \\text{E}[\\hat{f}]^2 \\\\\n",
    " & = \\text{Var}[y] + \\text{Var}[\\hat{f}] + (f - \\text{E}[\\hat{f}])^2 \\\\\n",
    " & = \\text{Var}[y] + \\text{Var}[\\hat{f}] + (\\text{Bias}[\\hat{f}])^2 \\\\\n",
    "\\end{align}\n",
    "$$\n"
   ]
  },
  {
   "cell_type": "markdown",
   "metadata": {},
   "source": [
    "다항회귀에서 차수를 바꾸어가면서 오차와 분산을 측정하면 다음과 같다."
   ]
  },
  {
   "cell_type": "code",
   "execution_count": 1,
   "metadata": {
    "collapsed": true
   },
   "outputs": [],
   "source": [
    "from sklearn.preprocessing import PolynomialFeatures\n",
    "from sklearn.linear_model import LinearRegression\n",
    "from sklearn.pipeline import Pipeline\n",
    "from sklearn.cross_validation import cross_val_score"
   ]
  },
  {
   "cell_type": "code",
   "execution_count": 2,
   "metadata": {
    "collapsed": true
   },
   "outputs": [],
   "source": [
    "n_samples = 1000\n",
    "np.random.seed(0)\n",
    "X = np.sort(np.random.rand(n_samples))\n",
    "y = np.cos(1.5 * np.pi * X) + np.random.randn(n_samples) * 0.1\n",
    "X = X[:, np.newaxis]\n",
    "K = 100"
   ]
  },
  {
   "cell_type": "code",
   "execution_count": 3,
   "metadata": {
    "collapsed": true
   },
   "outputs": [],
   "source": [
    "def cv_mse(degree):\n",
    "    polynomial_features = PolynomialFeatures(degree=degree)\n",
    "    linear_regression = LinearRegression()\n",
    "    model = Pipeline([(\"polynomial_features\", polynomial_features),\n",
    "                      (\"linear_regression\", linear_regression)])\n",
    "    scores = -cross_val_score(model, X, y, \"mean_squared_error\", cv=K)\n",
    "    return scores"
   ]
  },
  {
   "cell_type": "code",
   "execution_count": 4,
   "metadata": {
    "collapsed": false
   },
   "outputs": [
    {
     "name": "stderr",
     "output_type": "stream",
     "text": [
      "C:\\Anaconda3\\lib\\site-packages\\statsmodels\\nonparametric\\kdetools.py:20: VisibleDeprecationWarning: using a non-integer number instead of an integer will result in an error in the future\n",
      "  y = X[:m/2+1] + np.r_[0,X[m/2+1:],0]*1j\n"
     ]
    },
    {
     "name": "stdout",
     "output_type": "stream",
     "text": [
      "0.0130824469849 0.00760649444156\n"
     ]
    },
    {
     "data": {
      "image/png": "[encoded data removed]",
      "text/plain": [
       "<matplotlib.figure.Figure at 0xa9f0d68>"
      ]
     },
     "metadata": {},
     "output_type": "display_data"
    }
   ],
   "source": [
    "scores1 = cv_mse(3)\n",
    "sns.distplot(scores1)\n",
    "print(scores1.mean(), scores1.std())"
   ]
  },
  {
   "cell_type": "code",
   "execution_count": 5,
   "metadata": {
    "collapsed": false
   },
   "outputs": [
    {
     "data": {
      "text/html": [
       "<div>\n",
       "<table border=\"1\" class=\"dataframe\">\n",
       "  <thead>\n",
       "    <tr style=\"text-align: right;\">\n",
       "      <th></th>\n",
       "      <th>1</th>\n",
       "      <th>2</th>\n",
       "      <th>4</th>\n",
       "      <th>8</th>\n",
       "      <th>16</th>\n",
       "      <th>32</th>\n",
       "      <th>64</th>\n",
       "      <th>128</th>\n",
       "      <th>256</th>\n",
       "    </tr>\n",
       "  </thead>\n",
       "  <tbody>\n",
       "    <tr>\n",
       "      <th>count</th>\n",
       "      <td>100.000000</td>\n",
       "      <td>100.000000</td>\n",
       "      <td>100.000000</td>\n",
       "      <td>100.000000</td>\n",
       "      <td>100.000000</td>\n",
       "      <td>100.000000</td>\n",
       "      <td>100.000000</td>\n",
       "      <td>100.000000</td>\n",
       "      <td>100.000000</td>\n",
       "    </tr>\n",
       "    <tr>\n",
       "      <th>mean</th>\n",
       "      <td>2.152711</td>\n",
       "      <td>3.431163</td>\n",
       "      <td>4.735579</td>\n",
       "      <td>4.757005</td>\n",
       "      <td>4.746504</td>\n",
       "      <td>4.659983</td>\n",
       "      <td>4.559175</td>\n",
       "      <td>4.512594</td>\n",
       "      <td>4.441795</td>\n",
       "    </tr>\n",
       "    <tr>\n",
       "      <th>std</th>\n",
       "      <td>1.197341</td>\n",
       "      <td>0.801431</td>\n",
       "      <td>0.470647</td>\n",
       "      <td>0.464274</td>\n",
       "      <td>0.481903</td>\n",
       "      <td>0.739348</td>\n",
       "      <td>1.275756</td>\n",
       "      <td>1.808795</td>\n",
       "      <td>2.606745</td>\n",
       "    </tr>\n",
       "    <tr>\n",
       "      <th>min</th>\n",
       "      <td>-0.143751</td>\n",
       "      <td>1.023711</td>\n",
       "      <td>3.757597</td>\n",
       "      <td>3.746899</td>\n",
       "      <td>3.703365</td>\n",
       "      <td>-0.856708</td>\n",
       "      <td>-6.671090</td>\n",
       "      <td>-12.437759</td>\n",
       "      <td>-20.867744</td>\n",
       "    </tr>\n",
       "    <tr>\n",
       "      <th>25%</th>\n",
       "      <td>1.283354</td>\n",
       "      <td>2.877161</td>\n",
       "      <td>4.449526</td>\n",
       "      <td>4.447033</td>\n",
       "      <td>4.426598</td>\n",
       "      <td>4.391713</td>\n",
       "      <td>4.295227</td>\n",
       "      <td>4.302228</td>\n",
       "      <td>4.337584</td>\n",
       "    </tr>\n",
       "    <tr>\n",
       "      <th>50%</th>\n",
       "      <td>1.912740</td>\n",
       "      <td>3.341536</td>\n",
       "      <td>4.659961</td>\n",
       "      <td>4.698884</td>\n",
       "      <td>4.686886</td>\n",
       "      <td>4.666861</td>\n",
       "      <td>4.680540</td>\n",
       "      <td>4.677861</td>\n",
       "      <td>4.668288</td>\n",
       "    </tr>\n",
       "    <tr>\n",
       "      <th>75%</th>\n",
       "      <td>2.922163</td>\n",
       "      <td>3.963974</td>\n",
       "      <td>5.023880</td>\n",
       "      <td>5.012029</td>\n",
       "      <td>5.031434</td>\n",
       "      <td>5.038455</td>\n",
       "      <td>5.018691</td>\n",
       "      <td>5.033968</td>\n",
       "      <td>5.017724</td>\n",
       "    </tr>\n",
       "    <tr>\n",
       "      <th>max</th>\n",
       "      <td>5.195028</td>\n",
       "      <td>5.061568</td>\n",
       "      <td>6.386555</td>\n",
       "      <td>6.284238</td>\n",
       "      <td>6.139298</td>\n",
       "      <td>6.341243</td>\n",
       "      <td>5.910423</td>\n",
       "      <td>6.526446</td>\n",
       "      <td>6.390526</td>\n",
       "    </tr>\n",
       "  </tbody>\n",
       "</table>\n",
       "</div>"
      ],
      "text/plain": [
       "              1           2           4           8           16          32   \\\n",
       "count  100.000000  100.000000  100.000000  100.000000  100.000000  100.000000   \n",
       "mean     2.152711    3.431163    4.735579    4.757005    4.746504    4.659983   \n",
       "std      1.197341    0.801431    0.470647    0.464274    0.481903    0.739348   \n",
       "min     -0.143751    1.023711    3.757597    3.746899    3.703365   -0.856708   \n",
       "25%      1.283354    2.877161    4.449526    4.447033    4.426598    4.391713   \n",
       "50%      1.912740    3.341536    4.659961    4.698884    4.686886    4.666861   \n",
       "75%      2.922163    3.963974    5.023880    5.012029    5.031434    5.038455   \n",
       "max      5.195028    5.061568    6.386555    6.284238    6.139298    6.341243   \n",
       "\n",
       "              64          128         256  \n",
       "count  100.000000  100.000000  100.000000  \n",
       "mean     4.559175    4.512594    4.441795  \n",
       "std      1.275756    1.808795    2.606745  \n",
       "min     -6.671090  -12.437759  -20.867744  \n",
       "25%      4.295227    4.302228    4.337584  \n",
       "50%      4.680540    4.677861    4.668288  \n",
       "75%      5.018691    5.033968    5.017724  \n",
       "max      5.910423    6.526446    6.390526  "
      ]
     },
     "execution_count": 5,
     "metadata": {},
     "output_type": "execute_result"
    }
   ],
   "source": [
    "D = 9\n",
    "degrees = 2**np.arange(D)\n",
    "all_scores = np.zeros((K, D))\n",
    "for i, d in enumerate(degrees):\n",
    "    scores = cv_mse(d)\n",
    "    all_scores[:, i] = scores\n",
    "df = pd.DataFrame(-np.log(all_scores), columns=degrees)\n",
    "df.describe()"
   ]
  },
  {
   "cell_type": "code",
   "execution_count": 6,
   "metadata": {
    "collapsed": false
   },
   "outputs": [
    {
     "data": {
      "image/png": "[encoded data removed]",
      "text/plain": [
       "<matplotlib.figure.Figure at 0xb268198>"
      ]
     },
     "metadata": {},
     "output_type": "display_data"
    }
   ],
   "source": [
    "df.mean().plot(kind=\"bar\", rot=0, yerr=df.std())\n",
    "plt.show()"
   ]
  },
  {
   "cell_type": "markdown",
   "metadata": {},
   "source": [
    "- 막대그래프에서...다항식의 경우\n",
    " * 스코어가 높을수록 좋은 것이다. 밑에 차수는 회귀분석 차수. 막대 높이는 평균 점수\n",
    " * 흔들림은 검은 선. 웨이트. 바이오스라고 함. 점점 커지는 것을 오버피팅이라고 한다. 일반적으로 일어나는 현상.\n",
    " * r스퀘어의 경우에는 계속해서 평균값이 올라간다. 그러나 조정하면 내려가게 된다. 제한조건을 주면 내려가게 되는 것이다."
   ]
  },
  {
   "cell_type": "markdown",
   "metadata": {},
   "source": [
    "## 하이퍼 모수 최적화"
   ]
  },
  {
   "cell_type": "markdown",
   "metadata": {},
   "source": [
    "하이퍼 모수가 바뀌는 경우에도 마찬가지로 오차-분산 트레이드오프가 성립하므로 최적의 하이퍼 모수를 찾는 작업이 필요하다."
   ]
  },
  {
   "cell_type": "code",
   "execution_count": 7,
   "metadata": {
    "collapsed": true
   },
   "outputs": [],
   "source": [
    "from sklearn.datasets import load_diabetes\n",
    "from sklearn.linear_model import Lasso\n",
    "from sklearn.cross_validation import cross_val_score"
   ]
  },
  {
   "cell_type": "code",
   "execution_count": 10,
   "metadata": {
    "collapsed": false,
    "scrolled": true
   },
   "outputs": [
    {
     "data": {
      "image/png": "[encoded data removed]",
      "text/plain": [
       "<matplotlib.figure.Figure at 0xc0a44a8>"
      ]
     },
     "metadata": {},
     "output_type": "display_data"
    }
   ],
   "source": [
    "data = load_diabetes()\n",
    "X = data.data[:200]\n",
    "y = data.target[:200]\n",
    "#Lasso로 해보겠다.\n",
    "model = Lasso()\n",
    "alphas = np.logspace(-4, -.5, 50)\n",
    "\n",
    "scores = list()\n",
    "\n",
    "for alpha in alphas:\n",
    "    model.alpha = alpha\n",
    "    this_scores = cross_val_score(model, X, y, \"mean_squared_error\", cv=5)\n",
    "    scores.append(np.mean(this_scores))\n",
    "\n",
    "plt.semilogx(alphas, scores)\n",
    "plt.ylabel('CV score')\n",
    "plt.xlabel('alpha')\n",
    "plt.axhline(np.max(scores), linestyle=':')\n",
    "plt.show()"
   ]
  },
  {
   "cell_type": "markdown",
   "metadata": {},
   "source": [
    "그래프가 저렇게 내려오지 않는 경우는? 오버피팅이 일어나지 않는 경우다. 그래서 굳이 정규화하지 않아도 된다."
   ]
  },
  {
   "cell_type": "code",
   "execution_count": 11,
   "metadata": {
    "collapsed": false
   },
   "outputs": [
    {
     "name": "stdout",
     "output_type": "stream",
     "text": [
      "0.0439397056076\n"
     ]
    },
    {
     "data": {
      "image/png": "[encoded data removed]",
      "text/plain": [
       "<matplotlib.figure.Figure at 0xafa1978>"
      ]
     },
     "metadata": {},
     "output_type": "display_data"
    }
   ],
   "source": [
    "from sklearn.linear_model import LassoCV\n",
    "\n",
    "alphas = np.logspace(-4, -.5, 50)\n",
    "lasso_cv = LassoCV(alphas=alphas, cv=5)\n",
    "lasso_cv.fit(X, y)\n",
    "\n",
    "print(lasso_cv.alpha_ )\n",
    "\n",
    "scores = -lasso_cv.mse_path_.mean(axis=1)\n",
    "plt.semilogx(lasso_cv.alphas_, scores)\n",
    "plt.axhline(np.max(scores), linestyle=':')    \n",
    "plt.axvline(lasso_cv.alpha_ , linestyle=':')   \n",
    "plt.ylabel('CV score')\n",
    "plt.xlabel('alpha')\n",
    "plt.show()"
   ]
  },
  {
   "cell_type": "markdown",
   "metadata": {},
   "source": [
    "## One Standard Error Rule"
   ]
  },
  {
   "cell_type": "markdown",
   "metadata": {},
   "source": [
    "실제로 하이퍼 모수 값을 변경해가면서 최적 값은 오차가 존재하는 부정확한 값이다. 이러한 오차를 고려해서 표준 편차(1 standard deviation)  정도의 오차는 감수하더라도 더 단순한(정규화 모형에서는 더 제약 조건이 강한) 모형을 선택하는 것이 실용적이다.\n"
   ]
  },
  {
   "cell_type": "markdown",
   "metadata": {},
   "source": [
    "- 기존의 방법은 CV했을 때 오차가 있는데 그 오차가 크기 때문에 진짜로 optimal이라는 보장이 없다. \n",
    "- 이왕이면 오차가 있더라도 정규화 된 것을 원한다. 똑같은 값이면 정규화 된 것을 선호한다. 그래서 오른쪽 값을 보는데 너무 떨어졌다. 원래의 값과 비슷해야 고를 수 있는데. 아까 정한 최적화 점에서 원 스탠다드 디비제이션 움직인만큼 이동한 것을 고르자. 그래서 사실은 0.04가 아니라 좀 더 큰 숫자를 고르자.\n",
    "- 그런데 이 방법 또한 현업에서 쓰는 하나의 방법일 뿐이다. 하지만 실제로는 분산이 너무 크다. 그래서 원 스탠다드로 쓰기에 적합하지가 않은 경우가 나올 수도 있다."
   ]
  },
  {
   "cell_type": "code",
   "execution_count": 12,
   "metadata": {
    "collapsed": false
   },
   "outputs": [
    {
     "name": "stdout",
     "output_type": "stream",
     "text": [
      "0.117876863479\n"
     ]
    },
    {
     "data": {
      "image/png": "[encoded data removed]",
      "text/plain": [
       "<matplotlib.figure.Figure at 0xafbdf98>"
      ]
     },
     "metadata": {},
     "output_type": "display_data"
    }
   ],
   "source": [
    "from sklearn.linear_model import LassoCV\n",
    "\n",
    "alphas = np.logspace(-4, -.5, 50)\n",
    "lasso_cv = LassoCV(alphas=alphas, cv=5)\n",
    "lasso_cv.fit(X, y)\n",
    "\n",
    "scores = -lasso_cv.mse_path_.mean(axis=1)\n",
    "scores_std = lasso_cv.mse_path_.std(axis=1)\n",
    "scores_std1 = scores + scores_std / np.sqrt(len(lasso_cv.mse_path_))\n",
    "scores_std2 = scores - scores_std / np.sqrt(len(lasso_cv.mse_path_))\n",
    "\n",
    "alpha_1se = lasso_cv.alphas_[np.argmax(scores_std1 > np.max(scores))]\n",
    "print(alpha_1se)\n",
    "\n",
    "plt.semilogx(lasso_cv.alphas_, scores)\n",
    "plt.semilogx(lasso_cv.alphas_, scores_std1, 'o-')\n",
    "plt.semilogx(lasso_cv.alphas_, scores_std2, 'o-')\n",
    "plt.axhline(np.max(scores), linestyle=':')    \n",
    "plt.axvline(lasso_cv.alpha_ , linestyle=':')   \n",
    "plt.axvline(alpha_1se, linestyle=':')   \n",
    "plt.ylabel('CV score')\n",
    "plt.xlabel('alpha')\n",
    "plt.show()"
   ]
  }
 ],
 "metadata": {
  "kernelspec": {
   "display_name": "Python [Root]",
   "language": "python",
   "name": "Python [Root]"
  },
  "language_info": {
   "codemirror_mode": {
    "name": "ipython",
    "version": 3
   },
   "file_extension": ".py",
   "mimetype": "text/x-python",
   "name": "python",
   "nbconvert_exporter": "python",
   "pygments_lexer": "ipython3",
   "version": "3.5.1"
  }
 },
 "nbformat": 4,
 "nbformat_minor": 0
}
