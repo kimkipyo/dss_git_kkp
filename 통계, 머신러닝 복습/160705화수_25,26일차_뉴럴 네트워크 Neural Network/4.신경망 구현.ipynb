{
 "cells": [
  {
   "cell_type": "markdown",
   "metadata": {},
   "source": [
    "# 신경망 구현"
   ]
  },
  {
   "cell_type": "markdown",
   "metadata": {},
   "source": [
    "* https://github.com/mnielsen/neural-networks-and-deep-learning/tree/master/src\n",
    "* 링크 읽어보면 도움이 된다."
   ]
  },
  {
   "cell_type": "code",
   "execution_count": 3,
   "metadata": {
    "collapsed": false
   },
   "outputs": [],
   "source": [
    "import random\n",
    "\n",
    "class Network(object):\n",
    "\n",
    "    def __init__(self, sizes):   #size에 number of neurons가 들어간다.\n",
    "        \"\"\"The list ``sizes`` contains the number of neurons in the\n",
    "        respective layers of the network.  For example, if the list\n",
    "        was [2, 3, 1] then it would be a three-layer network, with the\n",
    "        first layer containing 2 neurons, the second layer 3 neurons,\n",
    "        and the third layer 1 neuron.  The biases and weights for the   #random하게 뿌려 주는 것이 좋다.\n",
    "        network are initialized randomly, using a Gaussian\n",
    "        distribution with mean 0, and variance 1.  Note that the first  \n",
    "        layer is assumed to be an input layer, and by convention we\n",
    "        won't set any biases for those neurons, since biases are only\n",
    "        ever used in computing the outputs from later layers.\"\"\"\n",
    "        self.num_layers = len(sizes)   #이렇게 하면 3이 들어간다.\n",
    "        self.sizes = sizes              \n",
    "        self.biases = [np.random.randn(y, 1) for y in sizes[1:]]   #1번째에 bias 안 걸고. 그 다음 값부터 쓰겠다. y랜덤하게 list에 넣는다.\n",
    "        self.weights = [np.random.randn(y, x)                      #biases는 배열의 리스트만 된다. weights도 마찬가지. 앞단과 그 다음단 사이즈를 봐야 metrix가 된다. \n",
    "                        for x, y in zip(sizes[:-1], sizes[1:])]    #첫 번째꺼는 3X2행렬, 그 다음에는 바이어스 빼고 2X1행렬이 하나에 들어간다.\n",
    "\n",
    "    def feedforward(self, a):\n",
    "        \"\"\"Return the output of the network if ``a`` is input.\"\"\"\n",
    "        for b, w in zip(self.biases, self.weights):\n",
    "            a = sigmoid(np.dot(w, a)+b)\n",
    "        return a\n",
    "\n",
    "    def SGD(self, training_data, epochs, mini_batch_size, eta,   #실제로 콜 할 것은 SGD다.\n",
    "            test_data=None):\n",
    "        \"\"\"Train the neural network using mini-batch stochastic\n",
    "        gradient descent.  The ``training_data`` is a list of tuples\n",
    "        ``(x, y)`` representing the training inputs and the desired\n",
    "        outputs.  The other non-optional parameters are\n",
    "        self-explanatory.  If ``test_data`` is provided then the\n",
    "        network will be evaluated against the test data after each\n",
    "        epoch, and partial progress printed out.  This is useful for\n",
    "        tracking progress, but slows things down substantially.\"\"\"\n",
    "        if test_data: n_test = len(test_data)    #만약에 test_data가 있으면 \n",
    "        n = len(training_data)\n",
    "        for j in xrange(epochs):   #미니배치 하나 돌면 하나의 epoch가 끝난다. 예를 들어 100개 데이터, 미니배치 20개면 웨이트는 업데이트 한다.\n",
    "            # 미니배치 이터레이션 다 끝나면 epoch 1번 끝난거. 데이터 만개고 미니배치 100개면 1000번 돌고 1번의 epoch가 끝난 것.\n",
    "            random.shuffle(training_data)   #랜덤셔플 하는 이유는 batch를 뽑기 위해 랜덤하게 뽑으려고\n",
    "            mini_batches = [\n",
    "                training_data[k:k+mini_batch_size]\n",
    "                for k in xrange(0, n, mini_batch_size)]\n",
    "            for mini_batch in mini_batches:\n",
    "                self.update_mini_batch(mini_batch, eta)   #업데이트 하는 거면 weight가 업데이트 된다.\n",
    "            if test_data:\n",
    "                print(\"Epoch {0}: {1} / {2}\".format(j, self.evaluate(test_data), n_test))   #이밸류에이트로 이터레이터를 돈다.\n",
    "            else:\n",
    "                print(\"Epoch {0} complete\".format(j))\n",
    "\n",
    "    def update_mini_batch(self, mini_batch, eta):   #이게 실제로 하는 부분\n",
    "        \"\"\"Update the network's weights and biases by applying\n",
    "        gradient descent using backpropagation to a single mini batch.\n",
    "        The ``mini_batch`` is a list of tuples ``(x, y)``, and ``eta``\n",
    "        is the learning rate.\"\"\"\n",
    "        nabla_b = [np.zeros(b.shape) for b in self.biases]  \n",
    "        nabla_w = [np.zeros(w.shape) for w in self.weights]\n",
    "        for x, y in mini_batch:\n",
    "            delta_nabla_b, delta_nabla_w = self.backprop(x, y)   #델타 값이 그레디언트 값이다. 백프로프는 실제 계산해주는 함수. 한 포인트에 대해서. xi, yi에 대해서\n",
    "            nabla_b = [nb+dnb for nb, dnb in zip(nabla_b, delta_nabla_b)] \n",
    "            nabla_w = [nw+dnw for nw, dnw in zip(nabla_w, delta_nabla_w)]\n",
    "        self.weights = [w-(eta/len(mini_batch))*nw   #nw가 그레디언트 값이다.\n",
    "                        for w, nw in zip(self.weights, nabla_w)]\n",
    "        self.biases = [b-(eta/len(mini_batch))*nb\n",
    "                       for b, nb in zip(self.biases, nabla_b)]\n",
    "\n",
    "    def backprop(self, x, y):   #이게 실제 계산하는 것\n",
    "        \"\"\"Return a tuple ``(nabla_b, nabla_w)`` representing the\n",
    "        gradient for the cost function C_x.  ``nabla_b`` and\n",
    "        ``nabla_w`` are layer-by-layer lists of numpy arrays, similar\n",
    "        to ``self.biases`` and ``self.weights``.\"\"\"\n",
    "        nabla_b = [np.zeros(b.shape) for b in self.biases]   #공란을 만들어 놓는다.\n",
    "        nabla_w = [np.zeros(w.shape) for w in self.weights]\n",
    "        # feedforward\n",
    "        activation = x    #여기서. 닐슨은 비샵이랑 기호 반대로. a가 z, z를 a로. 그래서 여기서 말하는 액티베이션은 z. x는 a값이다.\n",
    "        activations = [x] # list to store all the activations, layer by layer\n",
    "        zs = [] # list to store all the z vectors, layer by layer\n",
    "        for b, w in zip(self.biases, self.weights):   #foward 과정이다.\n",
    "            z = np.dot(w, activation)+b\n",
    "            zs.append(z)\n",
    "            activation = sigmoid(z)\n",
    "            activations.append(activation)\n",
    "        # backward pass   #이건 최종 델타다. 이건 오차다. cost_derivative. MSE를 썼는데\n",
    "        delta = self.cost_derivative(activations[-1], y) * \\\n",
    "            sigmoid_prime(zs[-1])   #항상 미분값을 곱해줘야 한다. 이러면 최초단의 델타값이 된다.\n",
    "        nabla_b[-1] = delta   #내일 증명식을 보여주면서 다시. 여기서 dot은 메트릭스 결과값이 나오게끔\n",
    "        nabla_w[-1] = np.dot(delta, activations[-2].transpose())\n",
    "        # Note that the variable l in the loop below is used a little\n",
    "        # differently to the notation in Chapter 2 of the book.  Here,\n",
    "        # l = 1 means the last layer of neurons, l = 2 is the\n",
    "        # second-last layer, and so on.  It's a renumbering of the\n",
    "        # scheme in the book, used here to take advantage of the fact\n",
    "        # that Python can use negative indices in lists.\n",
    "        for l in xrange(2, self.num_layers):\n",
    "            z = zs[-l]\n",
    "            sp = sigmoid_prime(z)\n",
    "            delta = np.dot(self.weights[-l+1].transpose(), delta) * sp\n",
    "            nabla_b[-l] = delta\n",
    "            nabla_w[-l] = np.dot(delta, activations[-l-1].transpose())   \n",
    "        return (nabla_b, nabla_w)   #그래서업데이트로 돌아간다.\n",
    "\n",
    "    def evaluate(self, test_data):\n",
    "        \"\"\"Return the number of test inputs for which the neural\n",
    "        network outputs the correct result. Note that the neural\n",
    "        network's output is assumed to be the index of whichever\n",
    "        neuron in the final layer has the highest activation.\"\"\"\n",
    "        test_results = [(np.argmax(self.feedforward(x)), y)   #셀프 포워드 하면 마지막 나온 y값. 제일 큰 번호를 뽑는다. 그리고 y값과 비교\n",
    "                        for (x, y) in test_data]       \n",
    "        return sum(int(x == y) for (x, y) in test_results)   #여기서의 x는 y햇 값이다. true, 1의 값을 sum해준다. 이게 accuracy가 된다.\n",
    "\n",
    "    def cost_derivative(self, output_activations, y):\n",
    "        \"\"\"Return the vector of partial derivatives \\partial C_x /\n",
    "        \\partial a for the output activations.\"\"\"\n",
    "        return (output_activations-y)\n",
    "\n",
    "#### Miscellaneous functions\n",
    "def sigmoid(z):\n",
    "    \"\"\"The sigmoid function.\"\"\"\n",
    "    return 1.0/(1.0+np.exp(-z))\n",
    "\n",
    "def sigmoid_prime(z):   #시그모이드를 실제로 손으로 계산한 값이다.\n",
    "    \"\"\"Derivative of the sigmoid function.\"\"\"\n",
    "    return sigmoid(z)*(1-sigmoid(z))"
   ]
  },
  {
   "cell_type": "markdown",
   "metadata": {},
   "source": [
    "## MNIST Digit Image Test"
   ]
  },
  {
   "cell_type": "code",
   "execution_count": 4,
   "metadata": {
    "collapsed": true
   },
   "outputs": [],
   "source": [
    "from sklearn.datasets import fetch_mldata\n",
    "from sklearn.preprocessing import OneHotEncoder\n",
    "from sklearn.cross_validation import train_test_split\n",
    "\n",
    "mnist = fetch_mldata('MNIST original')\n",
    "X_train, X_test, y_train, y_test = train_test_split(mnist.data, mnist.target)\n",
    "X_train_new = [np.reshape(x, (784, 1)) for x in X_train]\n",
    "y_train_new = [y[:, np.newaxis] for y in OneHotEncoder().fit_transform(y_train[:, np.newaxis]).toarray()]\n",
    "X_test_new = [np.reshape(x, (784, 1)) for x in X_test]\n",
    "training_data = zip(X_train_new, y_train_new)\n",
    "test_data = zip(X_test_new, y_test)"
   ]
  },
  {
   "cell_type": "markdown",
   "metadata": {},
   "source": [
    "## 패키지 사용방법"
   ]
  },
  {
   "cell_type": "code",
   "execution_count": 5,
   "metadata": {
    "collapsed": false,
    "scrolled": true
   },
   "outputs": [
    {
     "name": "stdout",
     "output_type": "stream",
     "text": [
      "/home/dockeruser/neural-networks-and-deep-learning/src\n",
      "conv.py                    mnist_loader.py   network2.py   network.py\n",
      "expand_mnist.py            mnist_loader.pyc  network2.pyc  network.pyc\n",
      "mnist_average_darkness.py  mnist_svm.py      network3.py   \u001b[0m\u001b[01;34mold\u001b[0m/\n"
     ]
    }
   ],
   "source": [
    "%cd /home/dockeruser/neural-networks-and-deep-learning/src\n",
    "%ls"
   ]
  },
  {
   "cell_type": "code",
   "execution_count": 6,
   "metadata": {
    "collapsed": false
   },
   "outputs": [],
   "source": [
    "import mnist_loader\n",
    "\n",
    "training_data, validation_data, test_data = mnist_loader.load_data_wrapper()"
   ]
  },
  {
   "cell_type": "code",
   "execution_count": 7,
   "metadata": {
    "collapsed": false,
    "scrolled": true
   },
   "outputs": [
    {
     "name": "stdout",
     "output_type": "stream",
     "text": [
      "Epoch 0: 4291 / 10000\n",
      "Epoch 1: 6391 / 10000\n",
      "Epoch 2: 7183 / 10000\n",
      "Epoch 3: 7581 / 10000\n",
      "Epoch 4: 7800 / 10000\n",
      "Epoch 5: 7905 / 10000\n",
      "Epoch 6: 8031 / 10000\n",
      "Epoch 7: 8570 / 10000\n",
      "Epoch 8: 8728 / 10000\n",
      "Epoch 9: 8797 / 10000\n",
      "Epoch 10: 8874 / 10000\n",
      "Epoch 11: 8936 / 10000\n",
      "Epoch 12: 8963 / 10000\n",
      "Epoch 13: 9000 / 10000\n",
      "Epoch 14: 9018 / 10000\n",
      "Epoch 15: 9061 / 10000\n",
      "Epoch 16: 9070 / 10000\n",
      "Epoch 17: 9095 / 10000\n",
      "Epoch 18: 9106 / 10000\n",
      "Epoch 19: 9122 / 10000\n",
      "Epoch 20: 9125 / 10000\n",
      "Epoch 21: 9147 / 10000\n",
      "Epoch 22: 9166 / 10000\n",
      "Epoch 23: 9169 / 10000\n",
      "Epoch 24: 9183 / 10000\n",
      "Epoch 25: 9192 / 10000\n",
      "Epoch 26: 9203 / 10000\n",
      "Epoch 27: 9205 / 10000\n",
      "Epoch 28: 9227 / 10000\n",
      "Epoch 29: 9228 / 10000\n",
      "CPU times: user 10min 47s, sys: 250 ms, total: 10min 47s\n",
      "Wall time: 10min 57s\n"
     ]
    }
   ],
   "source": [
    "import network\n",
    "\n",
    "net = network.Network([784, 30, 10])\n",
    "%time net.SGD(training_data, 30, 10, 0.1, test_data=test_data)   #30번 이터레이션 돈다. 러닝에잇는 에타. 0.1. 스텝 사이즈."
   ]
  },
  {
   "cell_type": "markdown",
   "metadata": {},
   "source": [
    "xrange는 속도 때문에 쓴다. range는 진짜로 변수를 만들어서 채워 넣는다. range 100만이면 진짜 만들어서 이터레이션 돌린다. xrange는 만들지 않고 이터레이터만 돌리기 때문에 빠르다. 그냥 이터레이터다."
   ]
  }
 ],
 "metadata": {
  "kernelspec": {
   "display_name": "Python 2",
   "language": "python",
   "name": "python2"
  },
  "language_info": {
   "codemirror_mode": {
    "name": "ipython",
    "version": 2
   },
   "file_extension": ".py",
   "mimetype": "text/x-python",
   "name": "python",
   "nbconvert_exporter": "python",
   "pygments_lexer": "ipython2",
   "version": "2.7.11"
  }
 },
 "nbformat": 4,
 "nbformat_minor": 0
}
