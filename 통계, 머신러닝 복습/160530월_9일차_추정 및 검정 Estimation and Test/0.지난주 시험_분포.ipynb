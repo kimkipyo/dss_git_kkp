{
 "cells": [
  {
   "cell_type": "markdown",
   "metadata": {},
   "source": [
    "## 문제2.\n",
    "### NumPy, SciPy등을 사용하여 베르누이 시도를 9번 하면 파라미터 9인 이항 분포와 같아짐을 시각적으로 보이기 위한 코드입니다. 빠진 부분을 쓰세요."
   ]
  },
  {
   "cell_type": "code",
   "execution_count": 1,
   "metadata": {
    "collapsed": false
   },
   "outputs": [
    {
     "data": {
      "image/png": "[encoded data removed]",
      "text/plain": [
       "<matplotlib.figure.Figure at 0xa811828>"
      ]
     },
     "metadata": {},
     "output_type": "display_data"
    }
   ],
   "source": [
    "theta = 0.1\n",
    "N = 9\n",
    "xx = np.arange(0, N+1)\n",
    "\n",
    "#빠진 부분1: 베르누이 시도를 9번 한 결과의 합을 1000번 시뮬레이션하여 s라는 변수에 넣는다.\n",
    "x = sp.stats.bernoulli(theta).rvs(size=(1000, N))\n",
    "s = x.sum(axis=1)\n",
    "\n",
    "f1 = np.bincount(s, minlength=N+1)\n",
    "\n",
    "#빠진 부분2: f1를 정규화(normalize)하고 N과 theta를 파라미터로 가지는 이항 분포의 pmf값 f2를 생성한다.\n",
    "f1 = f1/f1.sum()\n",
    "f2 = sp.stats.binom(N, theta).pmf(xx)\n",
    "\n",
    "plt.bar(xx-0.3, f1, 0.3, alpha=0.6, color='b', label='Bernoulli Histogram')\n",
    "plt.bar(xx, f2, 0.3, alpha=0.6, color='r', label='Binomial')\n",
    "plt.legend();"
   ]
  },
  {
   "cell_type": "markdown",
   "metadata": {},
   "source": [
    "## 문제10.\n",
    "### 상관도(correlation)에 대한 설명으로 틀린 것\n",
    "상관관계가 없으면 서로 독립이다.\n",
    "=> 비선형 상관 관계는 상관도로 측정할 수 없다.(이건 맞는 말)\n",
    "\n",
    "* 두 변수가 독립이면 상관계수가 0이지만, 상관계수가 0이라고 해서 독립은 아니다."
   ]
  }
 ],
 "metadata": {
  "anaconda-cloud": {},
  "kernelspec": {
   "display_name": "Python [Root]",
   "language": "python",
   "name": "Python [Root]"
  },
  "language_info": {
   "codemirror_mode": {
    "name": "ipython",
    "version": 3
   },
   "file_extension": ".py",
   "mimetype": "text/x-python",
   "name": "python",
   "nbconvert_exporter": "python",
   "pygments_lexer": "ipython3",
   "version": "3.5.1"
  }
 },
 "nbformat": 4,
 "nbformat_minor": 0
}
