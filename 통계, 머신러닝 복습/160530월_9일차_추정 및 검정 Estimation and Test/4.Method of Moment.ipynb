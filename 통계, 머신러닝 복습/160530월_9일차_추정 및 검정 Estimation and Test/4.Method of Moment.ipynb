{
 "cells": [
  {
   "cell_type": "markdown",
   "metadata": {},
   "source": [
    "# Method of Moment"
   ]
  },
  {
   "cell_type": "markdown",
   "metadata": {},
   "source": [
    "- method에 4가지 이름이 있다.(노)\n",
    "- 이런 게 있다고만 알아둬라"
   ]
  },
  {
   "cell_type": "markdown",
   "metadata": {},
   "source": [
    "MM(Method of Moment) 추정법은 샘플자료에 대한 샘플 모멘트가 확률 변수의 이론적인 모멘트와 같다고 가정하고 모수를 구하는 방법이다."
   ]
  },
  {
   "cell_type": "markdown",
   "metadata": {},
   "source": [
    "1차 모멘트(기댓값, 평균)의 경우, 다음과 같은 식이 성립한다고 가정한다.\n",
    "\n",
    "* 이론적인 모형 평균 $\\mu = \\text{E}[X]$ = 샘플 평균 $\\bar{x}$\n",
    "\n",
    "$$ \\bar{x} = \\dfrac{1}{N} \\sum_{i=1}^N x_i $$\n"
   ]
  },
  {
   "cell_type": "markdown",
   "metadata": {},
   "source": [
    "2차 모멘트(분산)의 경우에는 다음과 같다.\n",
    "\n",
    "* 이론적인 모형 분산 $\\sigma^2 = \\text{E}[(X-\\mu)^2]$ = 샘플 분산 s^2 \n",
    " \n",
    "$$ \\bar{s}^2 = \\dfrac{1}{N} \\sum_{i=1}^N (x_i - \\bar{x})^2 $$\n"
   ]
  },
  {
   "cell_type": "markdown",
   "metadata": {},
   "source": [
    "## 베르누이 분포의 모수 측정"
   ]
  },
  {
   "cell_type": "markdown",
   "metadata": {},
   "source": [
    "MM 방법으로 베르누이 분포의 모수 $\\theta$를 구하면 다음과 같다.\n",
    "\n",
    "$$ \\text{E}[X] = \\theta = \\dfrac{1}{N} \\sum_{i=1}^N x_i  = \\dfrac{N1}{N} $$"
   ]
  },
  {
   "cell_type": "markdown",
   "metadata": {},
   "source": [
    "## 정규 분포의 모수 측정"
   ]
  },
  {
   "cell_type": "markdown",
   "metadata": {},
   "source": [
    "MM 방법으로 정규 분포의 모수 $\\mu$, $\\sigma^2$를 구하면 다음과 같다.\n",
    "\n",
    "\n",
    "$$ \\text{E}[X] = \\mu = \\dfrac{1}{N} \\sum_{i=1}^N x_i  = \\bar{x} $$\n",
    "\n",
    "$$ \\text{E}[(X-\\mu)^2] = \\sigma^2 = \\dfrac{1}{N} \\sum_{i=1}^N (x_i - \\mu)^2 = s^2 $$"
   ]
  },
  {
   "cell_type": "markdown",
   "metadata": {},
   "source": [
    "## 베타 분포의 모수 측정"
   ]
  },
  {
   "cell_type": "markdown",
   "metadata": {},
   "source": [
    "MM 방법으로 베타 분포의 모수 $a$, $b$를 구하면 다음과 같다.\n",
    "\n",
    "\n",
    "\n",
    "$$ \\text{E}[X] = \\dfrac{a}{a+b} = \\bar{x}  $$\n",
    "\n",
    "$$ \\text{E}[(X-\\mu)^2] = \\dfrac{ab}{(a+b)^2(a+b+1)} = s^2 $$\n"
   ]
  },
  {
   "cell_type": "markdown",
   "metadata": {},
   "source": [
    "이를 풀면 다음과 같다.\n",
    "\n",
    "$$ a = \\bar{x} \\left( \\frac{\\bar{x} (1 - \\bar{x})}{s^2} - 1 \\right) $$\n",
    "\n",
    "$$ b = (1 - \\bar{x}) \\left( \\frac{\\bar{x} (1 - \\bar{x})}{s^2} - 1 \\right) $$"
   ]
  },
  {
   "cell_type": "code",
   "execution_count": 1,
   "metadata": {
    "collapsed": false
   },
   "outputs": [
    {
     "name": "stdout",
     "output_type": "stream",
     "text": [
      "(15.455080715555846, 12.292335248133712)\n"
     ]
    }
   ],
   "source": [
    "np.random.seed(0)\n",
    "x = sp.stats.beta(15, 12).rvs(1000)\n",
    "\n",
    "def estimate_beta(x):\n",
    "    x_bar = x.mean()\n",
    "    s2 = x.var()\n",
    "    a = x_bar * (x_bar * (1 - x_bar) / s2 - 1)\n",
    "    b = (1 - x_bar) * (x_bar * (1 - x_bar) / s2 - 1)\n",
    "    return a, b\n",
    "\n",
    "print(estimate_beta(x))"
   ]
  }
 ],
 "metadata": {
  "anaconda-cloud": {},
  "kernelspec": {
   "display_name": "Python [Root]",
   "language": "python",
   "name": "Python [Root]"
  },
  "language_info": {
   "codemirror_mode": {
    "name": "ipython",
    "version": 3
   },
   "file_extension": ".py",
   "mimetype": "text/x-python",
   "name": "python",
   "nbconvert_exporter": "python",
   "pygments_lexer": "ipython3",
   "version": "3.5.1"
  }
 },
 "nbformat": 4,
 "nbformat_minor": 0
}
