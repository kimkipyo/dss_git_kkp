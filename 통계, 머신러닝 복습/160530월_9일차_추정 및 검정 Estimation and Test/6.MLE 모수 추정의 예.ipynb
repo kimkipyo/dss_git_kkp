{
 "cells": [
  {
   "cell_type": "markdown",
   "metadata": {},
   "source": [
    "# MLE 모수 추정의 예"
   ]
  },
  {
   "cell_type": "markdown",
   "metadata": {},
   "source": [
    "## 베르누이 분포의 모수 추정\n"
   ]
  },
  {
   "cell_type": "markdown",
   "metadata": {},
   "source": [
    "이 과정을 스스로 쓸 줄 알아야 돼"
   ]
  },
  {
   "cell_type": "markdown",
   "metadata": {},
   "source": [
    "\n",
    "* 각각의 시도 $x_i$에 대한 확률은 베르누이 분포\n",
    "\n",
    "$$ P(x | \\theta ) = \\text{Bern}(x | \\theta ) = \\theta^x (1 - \\theta)^{1-x}$$\n",
    "\n",
    "\n",
    "* 샘플이 $N$개 있는 경우, Likelihood\n",
    "$$ L = P(x_{1:N}|\\theta) = \\prod_{i=1}^N  \\theta^{x_i} (1 - \\theta)^{1-x_i} $$\n",
    "\n",
    "* Log-Likelihood\n",
    "$$ \n",
    "\\begin{eqnarray*}\n",
    "\\log L \n",
    "&=& \\log P(x_{1:N}|\\theta)  \\\\\n",
    "&=& \\sum_{i=1}^N \\big\\{ {x_i} \\log\\theta + (1-x_i)\\log(1 - \\theta) \\big\\} \\\\\n",
    "&=&  \\sum_{i=1}^N {x_i} \\log\\theta +  \\left( N-\\sum_{i=1}^N x_i \\right) \\log( 1 - \\theta ) \\\\\n",
    "\\end{eqnarray*}\n",
    "$$\n",
    "\n",
    "\n",
    "* $x = 1$(성공) 또는 $x= 0$ (실패) 이므로 \n",
    " * 전체 시도 횟수 $N$\n",
    " * 그 중 성공 횟수 $N_1 = \\sum_{i=1}^N {x_i}$\n",
    " \n",
    " \n",
    "* 따라서  Log-Likelihood는 \n",
    "$$ \n",
    "\\begin{eqnarray*}\n",
    "\\log L \n",
    "&=&  N_1 \\log\\theta  + (N-N_1) \\log(1 - \\theta) \\\\\n",
    "\\end{eqnarray*}\n",
    "$$\n",
    "\n",
    "* Log-Likelihood Derivative\n",
    "\n",
    "$$\n",
    "\\begin{eqnarray*}\n",
    "\\dfrac{\\partial \\log L}{\\partial \\theta} \n",
    "&=& \\dfrac{\\partial}{\\partial \\theta} \\big\\{ N_1 \\log\\theta  + (N-N_1) \\log(1 - \\theta)  \\big\\} = 0\\\\\n",
    "&=& \\dfrac{N_1}{\\theta}  - \\dfrac{N-N_1}{1-\\theta} = 0 \\\\\n",
    "\\end{eqnarray*}\n",
    "$$\n",
    "\n",
    "\n",
    "$$\n",
    "\\dfrac{N_1}{\\theta}  = \\dfrac{N-N_1}{1-\\theta}\n",
    "$$\n",
    "\n",
    "\n",
    "$$\n",
    "\\dfrac{1-\\theta}{\\theta} = \\dfrac{N-N_1}{N_1} \n",
    "$$\n",
    "\n",
    "\n",
    "$$\n",
    "\\dfrac{1}{\\theta} - 1 = \\dfrac{N}{N_1} - 1\n",
    "$$\n",
    "\n",
    "\n",
    "$$\n",
    "\\theta= \\dfrac{N_1}{N}\n",
    "$$"
   ]
  },
  {
   "cell_type": "code",
   "execution_count": 1,
   "metadata": {
    "collapsed": false
   },
   "outputs": [
    {
     "data": {
      "text/plain": [
       "0.60299999999999998"
      ]
     },
     "execution_count": 1,
     "metadata": {},
     "output_type": "execute_result"
    }
   ],
   "source": [
    "theta0 = 0.6\n",
    "x = sp.stats.bernoulli(theta0).rvs(1000)\n",
    "N0, N1 = np.bincount(x, minlength=2)\n",
    "N = N0 + N1\n",
    "theta = N1 / N\n",
    "theta"
   ]
  },
  {
   "cell_type": "markdown",
   "metadata": {},
   "source": [
    "## 카테고리 분포의 모수 추정"
   ]
  },
  {
   "cell_type": "markdown",
   "metadata": {},
   "source": [
    "- K가 4인 경우로 가정해서 일일이 더하기하면 좀 더 이해가 잘 될 것이다.\n",
    "- 여기까지는 이산 분포"
   ]
  },
  {
   "cell_type": "markdown",
   "metadata": {},
   "source": [
    "\n",
    "* 각각의 시도 $x_i$에 대한 확률은 카테고리 분포\n",
    "\n",
    "$$ P(x | \\theta ) = \\text{Cat}(x | \\theta) = \\prod_{k=1}^K \\theta_k^{x_k} $$\n",
    "\n",
    "$$ \\sum_{k=1}^K \\theta_k = 1 $$\n",
    "\n",
    "\n",
    "* 샘플이 $N$개 있는 경우, Likelihood\n",
    "$$ L = P(x_{1:N}|\\theta) = \\prod_{i=1}^N \\prod_{k=1}^K \\theta_k^{x_{i,k}} $$\n",
    "\n",
    "* Log-Likelihood\n",
    "$$ \n",
    "\\begin{eqnarray*}\n",
    "\\log L \n",
    "&=& \\log P(x_{1:N}|\\theta)  \\\\\n",
    "&=& \\sum_{i=1}^N \\sum_{k=1}^K  {x_{i,k}} \\log\\theta_k \\\\\n",
    "&=& \\sum_{k=1}^K \\log\\theta_k \\sum_{i=1}^N {x_{i,k}}  \n",
    "\\end{eqnarray*}\n",
    "$$\n",
    "\n",
    "\n",
    "* $x_k$가 나온 횟수 $N_k = \\sum_{i=1}^N {x_{i,k}}$이라고 표시\n",
    "\n",
    " \n",
    "* 따라서  Log-Likelihood는 \n",
    "$$ \n",
    "\\begin{eqnarray*}\n",
    "\\log L \n",
    "&=& \\sum_{k=1}^K \\log\\theta_k  N_k  \n",
    "\\end{eqnarray*}\n",
    "$$\n",
    "\n",
    "* 추가 조건\n",
    "$$ \\sum_{k=1}^K \\theta_k = 1 $$\n",
    "\n",
    "\n",
    "* Log-Likelihood Derivative with Lagrange multiplier\n",
    "\n",
    "$$\n",
    "\\begin{eqnarray*}\n",
    "\\dfrac{\\partial \\log L}{\\partial \\theta_k} \n",
    "&=& \\dfrac{\\partial}{\\partial \\theta_k} \\left\\{ \\sum_{k=1}^K \\log\\theta_k N_k  + \\lambda \\left(1- \\sum_{k=1}^K \\theta_k\\right)  \\right\\} = 0 \\\\\n",
    "\\dfrac{\\partial \\log L}{\\partial \\lambda} \n",
    "&=& \\dfrac{\\partial}{\\partial \\lambda} \\left\\{ \\sum_{k=1}^K \\log\\theta_k N_k  + \\lambda \\left(1- \\sum_{k=1}^K \\theta_k \\right)  \\right\\} = 0\\\\\n",
    "\\end{eqnarray*}\n",
    "$$\n",
    "\n",
    "\n",
    "$$\n",
    "\\dfrac{N_1}{\\theta_1}  = \\dfrac{N_2}{\\theta_2} = \\cdots = \\dfrac{N_K}{\\theta_K} = \\lambda\n",
    "$$\n",
    "\n",
    "\n",
    "$$\n",
    "\\sum_{k=1}^K N_k = N  \n",
    "$$\n",
    "\n",
    "\n",
    "$$\n",
    "\\lambda \\sum_{k=1}^K \\theta_k  = \\lambda = N\n",
    "$$\n",
    "\n",
    "$$\n",
    "\\theta_k = \\dfrac{N_k}{N}\n",
    "$$\n"
   ]
  },
  {
   "cell_type": "code",
   "execution_count": 3,
   "metadata": {
    "collapsed": false
   },
   "outputs": [
    {
     "data": {
      "text/plain": [
       "array([ 0.087,  0.289,  0.624])"
      ]
     },
     "execution_count": 3,
     "metadata": {},
     "output_type": "execute_result"
    }
   ],
   "source": [
    "theta0 = np.array([0.1, 0.3, 0.6])\n",
    "x = np.random.choice(np.arange(3), 1000, p=theta0)\n",
    "N0, N1, N2 = np.bincount(x, minlength=3)\n",
    "theta = np.array([N0, N1, N2]) / N\n",
    "theta"
   ]
  },
  {
   "cell_type": "markdown",
   "metadata": {},
   "source": [
    "## 정규 분포의 모수 추정"
   ]
  },
  {
   "cell_type": "markdown",
   "metadata": {},
   "source": [
    "- 여기서는 연속 분포. 정규만 할 거야"
   ]
  },
  {
   "cell_type": "markdown",
   "metadata": {},
   "source": [
    "\n",
    "* 각각의 시도 $x_i$에 대한 확률은 가우시안 정규 분포\n",
    "\n",
    "$$ P(x | \\theta ) = N(x | \\mu, \\sigma^2) = \\dfrac{1}{\\sqrt{2\\pi\\sigma^2}} \\exp \\left(-\\dfrac{(x-\\mu)^2}{2\\sigma^2}\\right) $$\n",
    "\n",
    "\n",
    "\n",
    "* 샘플이 $N$개 있는 경우, Likelihood\n",
    "$$ L = P(x_{1:N}|\\theta) = \\prod_{i=1}^N  \\dfrac{1}{\\sqrt{2\\pi\\sigma^2}} \\exp \\left(-\\dfrac{(x_i-\\mu)^2}{2\\sigma^2}\\right)$$\n",
    "\n",
    "* Log-Likelihood\n",
    "$$ \n",
    "\\begin{eqnarray*}\n",
    "\\log L \n",
    "&=& \\log P(x_{1:N}|\\theta)  \\\\\n",
    "&=& \\sum_{i=1}^N \\left\\{ -\\dfrac{1}{2}\\log(2\\pi\\sigma^2) - \\dfrac{(x_i-\\mu)^2}{2\\sigma^2} \\right\\} \\\\\n",
    "&=& -\\dfrac{N}{2} \\log(2\\pi\\sigma^2) - \\dfrac{1}{2\\sigma^2}\\sum_{i=1}^N (x_i-\\mu)^2\n",
    "\\end{eqnarray*}\n",
    "$$\n",
    "\n",
    "* Log-Likelihood Derivative\n",
    "\n",
    "$$\n",
    "\\begin{eqnarray*}\n",
    "\\dfrac{\\partial \\log L}{\\partial \\mu} \n",
    "&=& \\dfrac{\\partial}{\\partial \\mu} \\left\\{ \\dfrac{N}{2} \\log(2\\pi\\sigma^2) + \\dfrac{1}{2\\sigma^2}\\sum_{i=1}^N (x_i-\\mu)^2  \\right\\} = 0 \\\\\n",
    "\\dfrac{\\partial \\log L}{\\partial \\sigma^2} \n",
    "&=& \\dfrac{\\partial}{\\partial \\sigma^2} \\left\\{ \\dfrac{N}{2} \\log(2\\pi\\sigma^2) + \\dfrac{1}{2\\sigma^2}\\sum_{i=1}^N (x_i-\\mu)^2 \\right\\} = 0\\\\\n",
    "\\end{eqnarray*}\n",
    "$$\n",
    "\n",
    "\n",
    "$$\n",
    "\\dfrac{2}{2\\sigma^2}\\sum_{i=1}^N (x_i-\\mu) = 0\n",
    "$$\n",
    "\n",
    "$$\n",
    "N \\mu = \\sum_{i=1}^N x_i\n",
    "$$\n",
    "\n",
    "$$\n",
    "\\mu = \\dfrac{1}{N}\\sum_{i=1}^N x_i = \\bar{x}\n",
    "$$\n",
    "\n",
    "\n",
    "\n",
    "$$\n",
    "\\dfrac{N}{2\\sigma^2 } -  \\dfrac{1}{2(\\sigma^2)^2}\\sum_{i=1}^N (x_i-\\mu)^2  = 0\n",
    "$$\n",
    "\n",
    "\n",
    "$$\n",
    "\\sigma^2  =  \\dfrac{1}{N}\\sum_{i=1}^N (x_i-\\mu)^2 = \\dfrac{1}{N}\\sum_{i=1}^N (x_i-\\bar{x})^2 = s^2\n",
    "$$\n"
   ]
  },
  {
   "cell_type": "code",
   "execution_count": 4,
   "metadata": {
    "collapsed": false
   },
   "outputs": [
    {
     "data": {
      "text/plain": [
       "(1.0498367639522497, 1.9486935796476441)"
      ]
     },
     "execution_count": 4,
     "metadata": {},
     "output_type": "execute_result"
    }
   ],
   "source": [
    "mu0 = 1\n",
    "sigma0 = 2\n",
    "x = sp.stats.norm(mu0, sigma0).rvs(1000)\n",
    "xbar = x.mean()\n",
    "s2 = x.std(ddof=1)\n",
    "xbar, s2"
   ]
  },
  {
   "cell_type": "markdown",
   "metadata": {},
   "source": [
    "## 다변수 정규 분포의 모수 추정"
   ]
  },
  {
   "cell_type": "markdown",
   "metadata": {},
   "source": [
    "- 이건 저번에 한 거\n",
    "- 이건 외우지 마"
   ]
  },
  {
   "cell_type": "markdown",
   "metadata": {},
   "source": [
    "#### MLE for Multivariate Gaussian Normal Distribution\n",
    "\n",
    "* 각각의 시도 $x_i$에 대한 확률은 다변수 정규 분포\n",
    "\n",
    "$$ P(x | \\theta ) = N(x | \\mu, \\Sigma) = \\dfrac{1}{(2\\pi)^{D/2} |\\Sigma|^{1/2}} \\exp \\left( -\\dfrac{1}{2} (x-\\mu)^T \\Sigma^{-1} (x-\\mu) \\right) $$\n",
    "\n",
    "\n",
    "\n",
    "* 샘플이 $N$개 있는 경우, Likelihood\n",
    "$$ L = P(x_{1:N}|\\theta) = \\prod_{i=1}^N  \\dfrac{1}{(2\\pi)^{D/2} |\\Sigma|^{1/2}} \\exp \\left( -\\dfrac{1}{2} (x_i-\\mu)^T \\Sigma^{-1} (x_i-\\mu) \\right)$$\n",
    "\n",
    "* Log-Likelihood\n",
    "$$ \n",
    "\\begin{eqnarray*}\n",
    "\\log L \n",
    "&=& \\log P(x_{1:N}|\\theta)  \\\\\n",
    "&=& \\sum_{i=1}^N \\left\\{ -\\log((2\\pi)^{D/2} |\\Sigma|^{1/2}) - \\dfrac{1}{2} (x-\\mu)^T \\Sigma^{-1} (x-\\mu) \\right\\} \\\\\n",
    "&=& C -\\dfrac{N}{2} \\log|\\Sigma| - \\dfrac{1}{2} \\sum (x-\\mu)^T \\Sigma^{-1} (x-\\mu) \n",
    "\\end{eqnarray*}\n",
    "$$\n",
    "\n",
    "\n",
    "* precision matrix $\\Lambda = \\Sigma^{-1}$\n",
    "\n",
    "$$ \n",
    "\\begin{eqnarray*}\n",
    "\\log L \n",
    "&=& C + \\dfrac{N}{2} \\log|\\Lambda| - \\dfrac{1}{2} \\sum(x-\\mu)^T \\Lambda (x-\\mu) \n",
    "\\end{eqnarray*}\n",
    "$$\n",
    "\n",
    "\n",
    "$$ \\dfrac{\\partial L}{\\partial \\mu} = -  \\dfrac{\\partial}{\\partial \\mu}  \\sum_{i=1}^N (x_i-\\mu)^T \\Lambda (x_i-\\mu) =  \\sum_{i=1}^N 2\\Lambda (x_i - \\mu) = 0 $$\n",
    "$$ \\mu = \\dfrac{1}{N}\\sum_{i=1}^N x_i $$\n",
    "\n",
    "$$ \\dfrac{\\partial L}{\\partial \\Lambda} = \\dfrac{\\partial}{\\partial \\Lambda} \\dfrac{N}{2} \\log|\\Lambda| - \\dfrac{\\partial}{\\partial \\Lambda}  \\dfrac{1}{2} \\sum_{i=1}^N \\text{tr}( (x_i-\\mu)(x_i-\\mu)^T\\Lambda) =0  $$\n",
    "\n",
    "$$ \\dfrac{N}{2} \\Lambda^{-T} = \\dfrac{1}{2}\\sum_{i=1}^N (x_i-\\mu)(x_i-\\mu)^T $$ \n",
    "\n",
    "$$ \\Sigma = \\dfrac{1}{N}\\sum_{i=1}^N (x_i-\\mu)(x_i-\\mu)^T $$ "
   ]
  },
  {
   "cell_type": "code",
   "execution_count": 5,
   "metadata": {
    "collapsed": false
   },
   "outputs": [
    {
     "name": "stdout",
     "output_type": "stream",
     "text": [
      "[ 0.03436534  0.95740411]\n",
      "[[ 1.06318211  0.293147  ]\n",
      " [ 0.293147    3.92540226]]\n"
     ]
    }
   ],
   "source": [
    "mu0 = np.array([0, 1])\n",
    "sigma0 = np.array([[1, 0.2], [0.2, 4]])\n",
    "x = sp.stats.multivariate_normal(mu0, sigma0).rvs(1000)\n",
    "xbar = x.mean(axis=0)\n",
    "S2 = np.cov(x, rowvar=0)\n",
    "print(xbar)\n",
    "print(S2)"
   ]
  }
 ],
 "metadata": {
  "anaconda-cloud": {},
  "kernelspec": {
   "display_name": "Python [Root]",
   "language": "python",
   "name": "Python [Root]"
  },
  "language_info": {
   "codemirror_mode": {
    "name": "ipython",
    "version": 3
   },
   "file_extension": ".py",
   "mimetype": "text/x-python",
   "name": "python",
   "nbconvert_exporter": "python",
   "pygments_lexer": "ipython3",
   "version": "3.5.1"
  }
 },
 "nbformat": 4,
 "nbformat_minor": 0
}
