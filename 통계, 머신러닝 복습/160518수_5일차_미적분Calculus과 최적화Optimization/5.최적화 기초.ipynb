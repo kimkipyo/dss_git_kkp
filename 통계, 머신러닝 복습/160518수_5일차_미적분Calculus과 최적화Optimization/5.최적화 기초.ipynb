{
 "cells": [
  {
   "cell_type": "markdown",
   "metadata": {},
   "source": [
    "# 최적화 기초"
   ]
  },
  {
   "cell_type": "markdown",
   "metadata": {},
   "source": [
    "데이터 분석 문제 특히 예측 문제의 최종 목표는 실제 자료와 가장 유사한 값을 출력하는 예측기를 설계하는 것이다. 이 과정에서 예측 오차를 최소화하는 예측기 계수를 찾는 최적화(optimization) 문제를 풀어야 한다."
   ]
  },
  {
   "cell_type": "markdown",
   "metadata": {},
   "source": [
    "## 최적화 문제"
   ]
  },
  {
   "cell_type": "markdown",
   "metadata": {},
   "source": [
    "최적화 문제는 특정한 제한 조건(constraint)을 만족시키면서 함수 $f$의 값을 최소화하는 변수 $x$의 값 $x^{\\ast}$를 찾는 것이다. 최대화 문제는 $f(x)$ 를 $-f(x)$ 로 바꾸면 풀 수 있다.\n",
    "\n",
    "$$ x^{\\ast} = \\underset{x}{\\operatorname{arg\\,min}} \\; f(x) $$\n",
    "\n",
    "$$ \\text{subject to } g(x) \\geq 0, \\;\\;\\; h(x) = 0 $$\n",
    "\n",
    "이 때 제한 조건이 없으면 uncontrained optimzation, 제한 조건이 있으면 constrained optimization 이라고 한다. 또 최소화 혹은 최대화 하려는 함수를 목표 함수(objective function)이라고 한다."
   ]
  },
  {
   "cell_type": "markdown",
   "metadata": {},
   "source": [
    "## 기울기 필요 조건"
   ]
  },
  {
   "cell_type": "markdown",
   "metadata": {},
   "source": [
    "어떤 종속 변수 값 $x^{\\ast}$ 가 최소점이 되기 위해서는 일단 다음과 같이 값 $x^{\\ast}$에서 함수의 기울기(slope) $\\dfrac{df}{dx}$ 가 0이라는 조건을 만족해야 한다.\n",
    "\n",
    "\n",
    "* 단일 변수에 대한 함수인 경우, 미분값이 0\n",
    "\n",
    "$$ \\dfrac{df(x)}{dx} = 0 $$\n",
    "\n",
    "\n",
    "* 다변수 함수인 경우 모든 변수에 대한 편미분값이 0\n",
    "\n",
    "$$ \\dfrac{\\partial f(x_1, x_2, \\cdots , x_N)}{\\partial x_1} = 0 $$\n",
    "\n",
    "\n",
    "$$ \\dfrac{\\partial f(x_1, x_2, \\cdots , x_N)}{\\partial x_2} = 0 $$\n",
    "$$ \\vdots $$\n",
    "$$ \\dfrac{\\partial f(x_1, x_2, \\cdots , x_N)}{\\partial x_N} = 0 $$\n"
   ]
  },
  {
   "cell_type": "markdown",
   "metadata": {},
   "source": [
    "## 수치적 최적화"
   ]
  },
  {
   "cell_type": "markdown",
   "metadata": {},
   "source": [
    "반복적 시행 착오(trial and error)에 의해 최적화 필요조건을 만족하는 값 $x^{\\ast}$를 찾는 방법을 수치적 최적화(numerical optimization)이라고 한다. \n",
    "\n",
    "일반적인 수치적 최적화 알고리즘들은 다음과 같은 것들이 있다.\n",
    "\n",
    "* Steepest Gradient Descent\n",
    "* Conjuated Gradient \n",
    "* Quasi-Newton (BFGS: Broyden-Fletcher-Goldfarb-Shanno)\n",
    "\n",
    "\n",
    "이 방법들은 모두 임의의 해 $x_k$를 가정하고 이 위치에서의 1차 도함수(gradient) 값 $g(x_k)$ 및 2차 도함수(Hessian) 값 $H(x_k)$ 를 사용하여 다음 위치를 $x_{k+1}$ 를 추정하는 과정을 반복하여 최소점을 찾아낸다."
   ]
  },
  {
   "cell_type": "markdown",
   "metadata": {},
   "source": [
    "### Steepest Gradient Descent 방법"
   ]
  },
  {
   "cell_type": "markdown",
   "metadata": {},
   "source": [
    "Steepest Gradient Descent 방법은 다음과 같이 단순히 현재 위치에서의 기울기 값 $g(x_k)$ 만을 이용한다. \n",
    "\n",
    "$$ x_{k+1} = x_{k} - \\alpha_k g(x_k) $$\n",
    "\n",
    "이 방법은 곡면의 모양이 좋지 않을 경우에는 수렴하는데 시간이 오래 걸린다.\n",
    "\n",
    "<img src=\"https://datascienceschool.net/upfiles/8dc79df23e7e48729cb252f5a09d1a97.png\" style=\"width:80%; margin: 0 auto 0 auto;\" >"
   ]
  },
  {
   "cell_type": "markdown",
   "metadata": {},
   "source": [
    "## CG & BFGS"
   ]
  },
  {
   "cell_type": "markdown",
   "metadata": {},
   "source": [
    "CG(conjujated grdient) 방법이나 BFGS 방법은 모두 최적화하려는 영역을 2차 함수로 가정하고 2차 도함수인 헤시안 행렬 정보를 이용하여 더 빠르고 안정적으로 수렴하도록 한다. \n",
    "\n",
    "<img src=\"https://datascienceschool.net/upfiles/a5ba6251b6f144249cca6eb8cc523682.png\" style=\"width:50%; margin: 0 auto 0 auto;\" >"
   ]
  },
  {
   "cell_type": "markdown",
   "metadata": {},
   "source": [
    "SciPy의 optimize 서브 패키지는  최적화 명령 `minimize` 를 제공한다. 세부적인 알고리즘은 `method` 인수로 선택할 수 있다. 디폴트 알고리즘은 BFGS 방법이다."
   ]
  },
  {
   "cell_type": "markdown",
   "metadata": {},
   "source": [
    "2차 도함수까지 구해서 원샷으로 간다. 보통 3~4번 정도면 다 간다."
   ]
  },
  {
   "cell_type": "markdown",
   "metadata": {},
   "source": [
    "## 전역 최적화 문제"
   ]
  },
  {
   "cell_type": "markdown",
   "metadata": {},
   "source": [
    "만약 최적화 하려는 함수가 복수의 국소 최저점(local minima)을 가지고 있는 경우에는 수치적 최적화 방법으로 전역 최저점(global minimum)에 도달한다는 보장이 없다. 결과는 초기 추정값 및 알고리즘, 파라미터 등에 의존한다."
   ]
  },
  {
   "cell_type": "code",
   "execution_count": 1,
   "metadata": {
    "collapsed": false
   },
   "outputs": [
    {
     "data": {
      "image/png": "[encoded data removed]",
      "text/plain": [
       "<matplotlib.figure.Figure at 0xa9a4f98>"
      ]
     },
     "metadata": {},
     "output_type": "display_data"
    }
   ],
   "source": [
    "def f(x):\n",
    "    return x**2 + 10*np.sin(x)\n",
    "x = np.arange(-10, 10, 0.1)\n",
    "plt.plot(x, f(x));"
   ]
  },
  {
   "cell_type": "code",
   "execution_count": 2,
   "metadata": {
    "collapsed": false
   },
   "outputs": [
    {
     "name": "stdout",
     "output_type": "stream",
     "text": [
      "      fun: 8.315585579479809\n",
      " hess_inv: array([[ 0.1186092]])\n",
      "      jac: array([  6.43730164e-06])\n",
      "  message: 'Optimization terminated successfully.'\n",
      "     nfev: 15\n",
      "      nit: 3\n",
      "     njev: 5\n",
      "   status: 0\n",
      "  success: True\n",
      "        x: array([ 3.83746785])\n"
     ]
    },
    {
     "data": {
      "text/plain": [
       "array([ 3.83746785])"
      ]
     },
     "execution_count": 2,
     "metadata": {},
     "output_type": "execute_result"
    }
   ],
   "source": [
    "result = sp.optimize.minimize(f, 4)\n",
    "print(result)\n",
    "x0 = result['x']\n",
    "x0"
   ]
  },
  {
   "cell_type": "code",
   "execution_count": 3,
   "metadata": {
    "collapsed": false
   },
   "outputs": [
    {
     "data": {
      "image/png": "[encoded data removed]",
      "text/plain": [
       "<matplotlib.figure.Figure at 0xa9fb9b0>"
      ]
     },
     "metadata": {},
     "output_type": "display_data"
    }
   ],
   "source": [
    "plt.plot(x, f(x));\n",
    "plt.hold(True)\n",
    "plt.scatter(x0, f(x0), s=200);"
   ]
  },
  {
   "cell_type": "markdown",
   "metadata": {},
   "source": [
    "## 등식 제한 조건이 있는 최적화"
   ]
  },
  {
   "cell_type": "markdown",
   "metadata": {},
   "source": [
    "다음과 같이 $ g(x) = 0 $ 이라는 등식(equality) 제한 조건이 있는 최소화 문제를 생각하자\n",
    " \n",
    "$$ x^{\\ast} = \\text{arg} \\min_x f(x) ,\\,\\,\\,\\ \\text{subject to } \\;\\; g(x)=0$$\n",
    "\n",
    "이렇게 등식 제한 조건이 있는 최적화 문제는 **라그랑주 승수법(Lagrange multiplier)**을 사용하여 최적화 할 수 있다.\n",
    "\n",
    "라그랑주 승수 방법에서는 $f$가 아닌 $h = f + \\lambda g$를 최적화한다. $h$ 는 독립 변수 $\\lambda$가 추가된 함수 $h(x_1, x_2, \\cdots , x_N, \\lambda) $가 되므로 다음 조건을 만족해야 한다.\n",
    "\n",
    "$$ \\dfrac{\\partial (f + \\lambda g)}{\\partial x_1} = \\dfrac{\\partial f}{\\partial x_1} = 0 $$\n",
    "\n",
    "\n",
    "$$ \\dfrac{\\partial (f + \\lambda g)}{\\partial x_2} = \\dfrac{\\partial f}{\\partial x_2}= 0 $$\n",
    "$$ \\vdots $$\n",
    "$$ \\dfrac{\\partial (f + \\lambda g)}{\\partial x_N} = \\dfrac{\\partial f}{\\partial x_N}= 0 $$\n",
    "\n",
    "$$ \\dfrac{\\partial (f + \\lambda g)}{\\partial \\lambda} = g = 0 $$\n"
   ]
  },
  {
   "cell_type": "markdown",
   "metadata": {},
   "source": [
    "예를 들어 다음과 같은 함수 $f$를 최적화하는 문제를 라그랑주 승수법으로 풀어보자.\n",
    "\n",
    "$$ f(x_1, x_2) = \\log{x_1} + \\log{x_2} $$\n",
    "\n",
    "여기에서 $x_1$, $x_2$는? 단 $ x_1 + x_2 = 1 $ 을 만족해야 한다."
   ]
  },
  {
   "cell_type": "markdown",
   "metadata": {},
   "source": [
    "$$ h = f + \\lambda g = \\log{x_1} + \\log{x_2} + \\lambda ( x_1 + x_2 - 1 ) $$\n",
    "\n",
    "\n",
    "$$ \\dfrac{\\partial (f + \\lambda g)}{\\partial x_1} = \\dfrac{1}{x_1} + \\lambda = 0$$\n",
    "\n",
    "\n",
    "$$ \\dfrac{\\partial (f + \\lambda g)}{\\partial x_2} = \\dfrac{1}{x_2} + \\lambda = 0 $$\n",
    "\n",
    "\n",
    "$$ \\dfrac{\\partial (f + \\lambda g)}{\\partial \\lambda } = x_1 + x_2 - 1 = 0 $$\n",
    "\n",
    "\n",
    "$$ x_1 = x_2 = \\dfrac{1}{2}, \\;\\;\\; \\lambda = -2 $$"
   ]
  },
  {
   "cell_type": "markdown",
   "metadata": {},
   "source": [
    "## 부등식 제한 조건이 있는 최적화"
   ]
  },
  {
   "cell_type": "markdown",
   "metadata": {},
   "source": [
    "다음과 같이 $ g(x) \\geq 0 $ 이라는 등식(equality) 제한 조건이 있는 최소화 문제를 생각하자\n",
    " \n",
    "$$ x^{\\ast} = \\text{arg} \\min_x f(x) ,\\,\\,\\,\\ \\text{subject to } \\;\\; g(x) \\geq 0$$\n",
    "\n",
    "이렇게 부등식 제한 조건이 있는 최적화 문제는 최소점 위치에서의 조건을 변형한 KKT(Karush-Kuhn-Tucker) 방법으로 최적화 한다."
   ]
  },
  {
   "cell_type": "markdown",
   "metadata": {},
   "source": [
    "SciPy의 optimize 서브패키지에서는 제한 최적화 문제를 풀기위한 `fmin_slsqp` 명령을 제공한다."
   ]
  },
  {
   "cell_type": "markdown",
   "metadata": {},
   "source": [
    "<img src=\"https://datascienceschool.net/upfiles/eec248f4c5234a41a20d9baba492a696.png\" >"
   ]
  },
  {
   "cell_type": "code",
   "execution_count": 4,
   "metadata": {
    "collapsed": false
   },
   "outputs": [
    {
     "name": "stdout",
     "output_type": "stream",
     "text": [
      "Optimization terminated successfully.    (Exit mode 0)\n",
      "            Current function value: 2.47487373504\n",
      "            Iterations: 5\n",
      "            Function evaluations: 20\n",
      "            Gradient evaluations: 5\n"
     ]
    },
    {
     "data": {
      "text/plain": [
       "array([ 1.25004693,  0.24995307])"
      ]
     },
     "execution_count": 4,
     "metadata": {},
     "output_type": "execute_result"
    }
   ],
   "source": [
    "def f(x):\n",
    "    return np.sqrt((x[0] - 3)**2 + (x[1] - 2)**2)\n",
    "\n",
    "def constraint(x):\n",
    "    return np.atleast_1d(1.5 - np.sum(np.abs(x)))\n",
    "\n",
    "sp.optimize.fmin_slsqp(f, np.array([0, 0]), ieqcons=[constraint, ])"
   ]
  }
 ],
 "metadata": {
  "kernelspec": {
   "display_name": "Python [Root]",
   "language": "python",
   "name": "Python [Root]"
  },
  "language_info": {
   "codemirror_mode": {
    "name": "ipython",
    "version": 3
   },
   "file_extension": ".py",
   "mimetype": "text/x-python",
   "name": "python",
   "nbconvert_exporter": "python",
   "pygments_lexer": "ipython3",
   "version": "3.5.1"
  }
 },
 "nbformat": 4,
 "nbformat_minor": 0
}
