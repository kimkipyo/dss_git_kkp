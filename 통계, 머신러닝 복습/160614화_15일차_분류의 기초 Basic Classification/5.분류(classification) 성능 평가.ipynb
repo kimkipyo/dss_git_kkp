{
 "cells": [
  {
   "cell_type": "markdown",
   "metadata": {},
   "source": [
    "# 분류(classification) 성능 평가"
   ]
  },
  {
   "cell_type": "markdown",
   "metadata": {},
   "source": [
    "분류 문제는 회귀 분석과 달리 모수에 대한 t-검정, 신뢰 구간(confidence interval) 추정 등이 쉽지 않기 때문에 이를 보완하기 위해 다양한 성능 평가 기준이 필요하다."
   ]
  },
  {
   "cell_type": "markdown",
   "metadata": {},
   "source": [
    "## Scikit-Learn 에서 지원하는 분류 성능 평가 명령"
   ]
  },
  {
   "cell_type": "markdown",
   "metadata": {},
   "source": [
    "* `sklearn.metrics` 서브 패키지\n",
    " * `confusion_matrix()`\n",
    " * `classfication_report()`\n",
    " * `accuracy_score(y_true, y_pred)`\n",
    " * `precision_score(y_true, y_pred)`\n",
    " * `recall_score(y_true, y_pred)`\n",
    " * `fbeta_score(y_true, y_pred, beta)`\n",
    " * `f1_score(y_true, y_pred)`\n"
   ]
  },
  {
   "cell_type": "markdown",
   "metadata": {
    "collapsed": true
   },
   "source": [
    "## 분류 결과표 Confusion Matrix"
   ]
  },
  {
   "cell_type": "markdown",
   "metadata": {},
   "source": [
    "분류 결과표는 타겟의 원래 클래스와 모형이 예측한 클래스가 일치하는지는 갯수로 센 결과이다.\n",
    "\n",
    "원래 클래스는 행(row)으로 예측한 클래스는 열(column)로 나타낸다.\n",
    "\n",
    "\n",
    "\n",
    "| | 예측 클래스 0 | 예측 클래스 1 | 예측 클래스 2 | \n",
    "|-|-|-|-|\n",
    "| 원 클래스 0 | <small>원 클래스가 0, 예측 클래스가 0인 표본의 수</small> | <small>원 클래스가 0, 예측 클래스가 1인 표본의 수</small> | <small>원 클래스가 0, 예측 클래스가 2인 표본의 수</small> |\n",
    "| 원 클래스 1 | <small>원 클래스가 1, 예측 클래스가 0인 표본의 수</small> | <small>원 클래스가 1, 예측 클래스가 1인 표본의 수</small> | <small>원 클래스가 1, 예측 클래스가 2인 표본의 수</small> |\n",
    "| 원 클래스 2 | <small>원 클래스가 2, 예측 클래스가 0인 표본의 수</small> | <small>원 클래스가 2, 예측 클래스가 1인 표본의 수</small> | <small>원 클래스가 2, 예측 클래스가 2인 표본의 수</small> |\n"
   ]
  },
  {
   "cell_type": "code",
   "execution_count": 1,
   "metadata": {
    "collapsed": true
   },
   "outputs": [],
   "source": [
    "from sklearn.metrics import confusion_matrix"
   ]
  },
  {
   "cell_type": "code",
   "execution_count": 2,
   "metadata": {
    "collapsed": false
   },
   "outputs": [
    {
     "data": {
      "text/plain": [
       "array([[2, 0, 0],\n",
       "       [0, 0, 1],\n",
       "       [1, 0, 2]])"
      ]
     },
     "execution_count": 2,
     "metadata": {},
     "output_type": "execute_result"
    }
   ],
   "source": [
    "y_true = [2, 0, 2, 2, 0, 1]\n",
    "y_pred = [0, 0, 2, 2, 0, 2]\n",
    "confusion_matrix(y_true, y_pred)"
   ]
  },
  {
   "cell_type": "code",
   "execution_count": 3,
   "metadata": {
    "collapsed": false
   },
   "outputs": [
    {
     "data": {
      "text/plain": [
       "array([[2, 0, 0],\n",
       "       [0, 0, 1],\n",
       "       [1, 0, 2]])"
      ]
     },
     "execution_count": 3,
     "metadata": {},
     "output_type": "execute_result"
    }
   ],
   "source": [
    "y_true = [\"cat\", \"ant\", \"cat\", \"cat\", \"ant\", \"bird\"]\n",
    "y_pred = [\"ant\", \"ant\", \"cat\", \"cat\", \"ant\", \"cat\"]\n",
    "confusion_matrix(y_true, y_pred, labels=[\"ant\", \"bird\", \"cat\"])"
   ]
  },
  {
   "cell_type": "markdown",
   "metadata": {},
   "source": [
    "## 이진 분류 결과표 Binary Confusion Matrix"
   ]
  },
  {
   "cell_type": "markdown",
   "metadata": {},
   "source": [
    "클래스가 0과 1 두 종류 밖에 없는 경우에는 일반적으로 클래스 이름을 \"Positive\"와 \"Negative\"로 표시한다. \n",
    "\n",
    "또, 분류 모형의 예측 결과가 맞은 경우, 즉 Positive를 Positive라고 예측하거나 Negative를 Negative라고 예측한 경우에는 \"True\"라고 하고 예측 결과가 틀린 경우, 즉 Positive를 Negative라고 예측하거나 Negative를 Positive라고 예측한 경우에는 \"False\"라고 한다.\n",
    "\n",
    "이 경우의 이진 분류 결과의 명칭과 결과표는 다음과 같다. 이 표는 외우는 것이 좋다.\n",
    "\n",
    "| | Positive라고 예측  | Negative라고 예측 | \n",
    "|-|-|-|\n",
    "| 실제 Positive | True Positive   |  False Negative |             \n",
    "| 실제 Negative | False Positive  |  True Negative  |   "
   ]
  },
  {
   "cell_type": "markdown",
   "metadata": {},
   "source": [
    "### FDS(Fraud Detection System)의 예"
   ]
  },
  {
   "cell_type": "markdown",
   "metadata": {},
   "source": [
    "FDS(Fraud Detection System)는 금융 거래, 회계 장부 등에서 잘못된 거래, 사기 거래를 찾아내는 시스템을 말한다. FDS의 예측 결과가 Positive 이면  사기 거래라고 예측한 것이고 Negative 이면 정상 거래라고 예측한 것이다. 이 결과가 사실과 일치하는지 틀리는지에 따라 다음과 같이 말한다.\n",
    "\n",
    "* True Positive: 사기를 사기라고 정확하게 예측\n",
    "* True Negative: 정상을 정상이라고 정확하게 예측\n",
    "* False Positive: 정상을 사기라고 잘못 예측\n",
    "* False Negative: 사기를 정상이라고 잘못 예측\n",
    "\n",
    "|                     | 사기 거래라고 예측                | 정상 거래라고 예측                         | \n",
    "| --------------------| ------------------------ | --------------------------------- |\n",
    "| 실제로 사기 거래  | True Positive            |  False Negative                   |             \n",
    "| 실제로 정상 거래  | False Positive            |  True Negative                    |   "
   ]
  },
  {
   "cell_type": "markdown",
   "metadata": {
    "collapsed": true
   },
   "source": [
    "## 평가 스코어"
   ]
  },
  {
   "cell_type": "markdown",
   "metadata": {},
   "source": [
    "### Accuracy 정확도\n",
    "* 전체 샘플 중 맞게 출력한 샘플 수의 비율\n",
    "* 실제로는 잘 안 쓴다.\n",
    " \n",
    " $$\\text{accuracy} = \\dfrac{TP + TN}{TP + TN + FP + FN}$$"
   ]
  },
  {
   "cell_type": "markdown",
   "metadata": {},
   "source": [
    "### Precision 정밀도\n",
    "* 실제로는 정밀도와 재현율을 많이 쓴다.\n",
    "* 클래스에 속한다고 출력한 샘플 중 실제로 클래스에 속하는 샘플 수의 비율\n",
    "* FDS의 경우, 사기 거래라고 판단한 거래 중 실제 사기 거래의 비율. 유죄율\n",
    " \n",
    "$$\\text{precision} = \\dfrac{TP}{TP + FP}$$"
   ]
  },
  {
   "cell_type": "markdown",
   "metadata": {},
   "source": [
    "### Recall 재현율\n",
    "* TPR: true positive rate\n",
    "* 실제 클래스에 속한 샘플 중에 클래스에 속한다고 출력한 샘플의 수\n",
    "* FDS의 경우, 실제 사기 거래 중에서 실제 사기 거래라고 예측한 거래의 비율. 검거율\n",
    " \n",
    "$$\\text{recall} = \\dfrac{TP}{TP + FN}$$"
   ]
  },
  {
   "cell_type": "markdown",
   "metadata": {},
   "source": [
    "### Fall-Out\n",
    "* FPR: false positive rate\n",
    "* 실제 클래스에 속하지 않는 샘플 중에 클래스에 속한다고 출력한 샘플의 수\n",
    "* FDS의 경우, 실제 정상 거래 중에서 FDS가 사기 거래라고 예측한 거래의 비율\n",
    " \n",
    "$$\\text{fallout} = \\dfrac{FP}{FP + TN}$$"
   ]
  },
  {
   "cell_type": "markdown",
   "metadata": {},
   "source": [
    "### F (beta) score\n",
    "* 정밀도(Precision)과 재현율(Recall)의 가중 조화 평균\n",
    " \n",
    "$$\n",
    "F_\\beta = (1 + \\beta^2) \\, ({\\text{precision} \\times \\text{recall}}) \\, / \\, ({\\beta^2 \\, \\text{precision} + \\text{recall}})\n",
    "$$\n",
    "\n",
    "\n",
    "* F1 score\n",
    " * beta = 1 \n",
    "\n",
    "$$\n",
    "F_1 = 2 \\cdot \\text{precision} \\cdot \\text{recall} \\, / \\, (\\text{precision} + \\text{recall})\n",
    "$$"
   ]
  },
  {
   "cell_type": "code",
   "execution_count": 4,
   "metadata": {
    "collapsed": true
   },
   "outputs": [],
   "source": [
    "#F score\n",
    "from sklearn.metrics import classification_report"
   ]
  },
  {
   "cell_type": "code",
   "execution_count": 5,
   "metadata": {
    "collapsed": false
   },
   "outputs": [
    {
     "name": "stdout",
     "output_type": "stream",
     "text": [
      "             precision    recall  f1-score   support\n",
      "\n",
      "    class 0       0.50      1.00      0.67         1\n",
      "    class 1       0.00      0.00      0.00         1\n",
      "    class 2       1.00      0.67      0.80         3\n",
      "\n",
      "avg / total       0.70      0.60      0.61         5\n",
      "\n"
     ]
    }
   ],
   "source": [
    "y_true = [0, 1, 2, 2, 2]\n",
    "y_pred = [0, 0, 2, 2, 1]\n",
    "target_names = ['class 0', 'class 1', 'class 2']\n",
    "print(classification_report(y_true, y_pred, target_names=target_names))"
   ]
  },
  {
   "cell_type": "code",
   "execution_count": 6,
   "metadata": {
    "collapsed": false
   },
   "outputs": [
    {
     "name": "stdout",
     "output_type": "stream",
     "text": [
      "             precision    recall  f1-score   support\n",
      "\n",
      "        ant       0.67      1.00      0.80         2\n",
      "       bird       0.00      0.00      0.00         1\n",
      "        cat       0.67      0.67      0.67         3\n",
      "\n",
      "avg / total       0.56      0.67      0.60         6\n",
      "\n"
     ]
    },
    {
     "name": "stderr",
     "output_type": "stream",
     "text": [
      "C:\\Anaconda3\\lib\\site-packages\\sklearn\\metrics\\classification.py:1074: UndefinedMetricWarning: Precision and F-score are ill-defined and being set to 0.0 in labels with no predicted samples.\n",
      "  'precision', 'predicted', average, warn_for)\n"
     ]
    }
   ],
   "source": [
    "y_true = [\"cat\", \"ant\", \"cat\", \"cat\", \"ant\", \"bird\"]\n",
    "y_pred = [\"ant\", \"ant\", \"cat\", \"cat\", \"ant\", \"cat\"]\n",
    "print(classification_report(y_true, y_pred, target_names=[\"ant\", \"bird\", \"cat\"]))"
   ]
  },
  {
   "cell_type": "markdown",
   "metadata": {},
   "source": [
    "## ROC 커브"
   ]
  },
  {
   "cell_type": "markdown",
   "metadata": {},
   "source": [
    "ROC(Receiver Operator Characteristic) 커브는 클래스 판별 기준값의 변화에 따른 Fall-out과 Recall의 변화를 시각화한 것이다.\n",
    "\n",
    "모든 이진 분류 모형은 판별 평면으로부터의 거리에 해당하는 판별 함수(discriminant function)를 가지며 판별 함수 값이 음수이면 0인 클래스, 양수이면 1인 클래스에 해당한다고 판별한다. 즉 0 이 클래스 판별 기준값이 된다. ROC 커브는 이 클래스 판별 기준값이 달라진다면 판별 결과가 어떻게 달라지는지는 표현한 것이다.\n",
    "\n",
    "Scikit-Learn 의 Classification 클래스는 판별 함수 값을 계산하는 `decision_function` 메서드를 제공한다. ROC 커브는 이 판별 함수 값을 이용하여 다음과 같이 작성한다.\n",
    "\n",
    "1. 모든 표본 데이터에 대해 판별 함수 값을 계산한다.\n",
    "2. 계산된 판별 함수 값을 정렬한다.\n",
    "3. 만약 0이 아닌 가장 작은 판별 함수값을 클래스 구분 기준값으로 하면 모든 표본은 클래스 1(Positive)이 된다. \n",
    "   이 때의 Fall-out과 Recall을 계산하면 Recall과 Fall-out이 모두 1이된다.\n",
    "4. 두번째로 작은 판별 함수값을 클래스 구분 기준값으로 하면 판별 함수 값이 가장 작은 표본 1개를 제외하고 나머지 표본은 클래스 1(Positive)이 된다. 마찬가지로 이 때의 Fall-out과 Recall을 계산하여 기록한다.\n",
    "5. 가장 큰 판별 함수값이 클래스 구분 기준값이 될 때까지 이를 반복한다. 이 때는 모든 표본이 클래스 0(Negative)으로 판별되며 Recall과 Fall-out이 모두 0이된다."
   ]
  },
  {
   "cell_type": "markdown",
   "metadata": {},
   "source": [
    "일반적으로 클래스 판별 기준이 변화함에 따라 Recall과 Fall-out은 같이 증가하거나 감소한다. Recall이 크고 Fall-out이 작은 모형은 좋은 모형으로 생각할 수 있다."
   ]
  },
  {
   "cell_type": "code",
   "execution_count": 7,
   "metadata": {
    "collapsed": true
   },
   "outputs": [],
   "source": [
    "from sklearn.datasets import make_classification\n",
    "from sklearn.linear_model import LogisticRegression\n",
    "X, y = make_classification(n_features=1, n_redundant=0, n_informative=1, n_clusters_per_class=1, random_state=4)\n",
    "model = LogisticRegression().fit(X, y)"
   ]
  },
  {
   "cell_type": "code",
   "execution_count": 8,
   "metadata": {
    "collapsed": false
   },
   "outputs": [
    {
     "name": "stdout",
     "output_type": "stream",
     "text": [
      "[[47  2]\n",
      " [ 3 48]]\n"
     ]
    }
   ],
   "source": [
    "print(confusion_matrix(y, model.predict(X)))"
   ]
  },
  {
   "cell_type": "code",
   "execution_count": 9,
   "metadata": {
    "collapsed": false
   },
   "outputs": [
    {
     "name": "stdout",
     "output_type": "stream",
     "text": [
      "             precision    recall  f1-score   support\n",
      "\n",
      "          0       0.94      0.96      0.95        49\n",
      "          1       0.96      0.94      0.95        51\n",
      "\n",
      "avg / total       0.95      0.95      0.95       100\n",
      "\n"
     ]
    }
   ],
   "source": [
    "print(classification_report(y, model.predict(X)))"
   ]
  },
  {
   "cell_type": "code",
   "execution_count": 10,
   "metadata": {
    "collapsed": true
   },
   "outputs": [],
   "source": [
    "from sklearn.metrics import roc_curve\n",
    "fpr, tpr, thresholds = roc_curve(y, model.decision_function(X))\n",
    "#decision_function은 값이 크면 클수록 class 1쪽으로 더 많이 들어간 것이고\n",
    "#무한대로 간 것은 class0으로 더 많이 들어간 것."
   ]
  },
  {
   "cell_type": "code",
   "execution_count": 12,
   "metadata": {
    "collapsed": false
   },
   "outputs": [
    {
     "data": {
      "image/png": "[encoded data removed]",
      "text/plain": [
       "<matplotlib.figure.Figure at 0xaf73fd0>"
      ]
     },
     "metadata": {},
     "output_type": "display_data"
    }
   ],
   "source": [
    "plt.plot(fpr, tpr)\n",
    "plt.plot([0, 1], [0, 1], 'k--', label=\"random guess\")\n",
    "#random guess 점선은 무능한 경찰의 기준. 일을 열심히 하면 위에, 아니면 아래의 곡선상의 위치\n",
    "plt.xlabel('False Positive Rate (Fall-Out)')\n",
    "plt.ylabel('True Positive Rate (Recall)')\n",
    "plt.title('Receiver operating characteristic example')\n",
    "plt.show()"
   ]
  },
  {
   "cell_type": "code",
   "execution_count": 14,
   "metadata": {
    "collapsed": false
   },
   "outputs": [
    {
     "data": {
      "text/plain": [
       "array([ 0.01960784,  0.90196078,  0.90196078,  0.94117647,  0.94117647,\n",
       "        0.96078431,  0.96078431,  0.98039216,  0.98039216,  1.        ,  1.        ])"
      ]
     },
     "execution_count": 14,
     "metadata": {},
     "output_type": "execute_result"
    }
   ],
   "source": [
    "tpr"
   ]
  },
  {
   "cell_type": "code",
   "execution_count": 15,
   "metadata": {
    "collapsed": false
   },
   "outputs": [
    {
     "data": {
      "text/plain": [
       "array([ 0.        ,  0.        ,  0.02040816,  0.02040816,  0.04081633,\n",
       "        0.04081633,  0.12244898,  0.12244898,  0.7755102 ,  0.7755102 ,  1.        ])"
      ]
     },
     "execution_count": 15,
     "metadata": {},
     "output_type": "execute_result"
    }
   ],
   "source": [
    "fpr"
   ]
  },
  {
   "cell_type": "markdown",
   "metadata": {},
   "source": [
    "### Multi-Class 예제"
   ]
  },
  {
   "cell_type": "code",
   "execution_count": 17,
   "metadata": {
    "collapsed": true
   },
   "outputs": [],
   "source": [
    "from sklearn.datasets import load_iris\n",
    "from sklearn.linear_model import LogisticRegression\n",
    "iris = load_iris()\n",
    "model = LogisticRegression().fit(iris.data, iris.target)"
   ]
  },
  {
   "cell_type": "code",
   "execution_count": 18,
   "metadata": {
    "collapsed": false
   },
   "outputs": [],
   "source": [
    "from sklearn.metrics import roc_curve\n",
    "fpr0, tpr0, thresholds0 = roc_curve(iris.target, model.decision_function(iris.data)[:, 0], pos_label=0)\n",
    "fpr1, tpr1, thresholds1 = roc_curve(iris.target, model.decision_function(iris.data)[:, 1], pos_label=1)\n",
    "fpr2, tpr2, thresholds2 = roc_curve(iris.target, model.decision_function(iris.data)[:, 2], pos_label=2)"
   ]
  },
  {
   "cell_type": "code",
   "execution_count": 19,
   "metadata": {
    "collapsed": false,
    "scrolled": true
   },
   "outputs": [
    {
     "data": {
      "text/plain": [
       "(array([ 0.  ,  0.  ,  0.  ,  0.  ,  0.67,  0.69,  1.  ]),\n",
       " array([ 0.02,  0.66,  0.72,  1.  ,  1.  ,  1.  ,  1.  ]),\n",
       " array([  5.59733959,   3.37153515,   3.33294961,   2.24452558,\n",
       "         -6.84259428,  -6.87415927, -10.71530334]))"
      ]
     },
     "execution_count": 19,
     "metadata": {},
     "output_type": "execute_result"
    }
   ],
   "source": [
    "fpr0, tpr0, thresholds0"
   ]
  },
  {
   "cell_type": "markdown",
   "metadata": {},
   "source": [
    "thresholds를 줄이면 아래로 늘리면 오른쪽으로"
   ]
  },
  {
   "cell_type": "code",
   "execution_count": 20,
   "metadata": {
    "collapsed": false,
    "scrolled": true
   },
   "outputs": [
    {
     "data": {
      "image/png": "[encoded data removed]",
      "text/plain": [
       "<matplotlib.figure.Figure at 0xb885dd8>"
      ]
     },
     "metadata": {},
     "output_type": "display_data"
    }
   ],
   "source": [
    "plt.plot(fpr0, tpr0, \"r-\", label=\"class 0 \") #빨간선이 가장 좋은선\n",
    "plt.plot(fpr1, tpr1, \"g-\", label=\"class 1\")\n",
    "plt.plot(fpr2, tpr2, \"b-\", label=\"class 2\")\n",
    "plt.plot([0, 1], [0, 1], 'k--', label=\"random guess\")\n",
    "plt.xlim(-0.05, 1.0)\n",
    "plt.ylim(0, 1.05)\n",
    "plt.xlabel('False Positive Rate (Fall-Out)')\n",
    "plt.ylabel('True Positive Rate (Recall)')\n",
    "plt.title('Receiver operating characteristic example')\n",
    "plt.legend(loc=\"lower right\")\n",
    "plt.show()"
   ]
  },
  {
   "cell_type": "code",
   "execution_count": 21,
   "metadata": {
    "collapsed": false
   },
   "outputs": [
    {
     "name": "stdout",
     "output_type": "stream",
     "text": [
      "[[50  0  0]\n",
      " [ 0 45  5]\n",
      " [ 0  1 49]]\n"
     ]
    }
   ],
   "source": [
    "print(confusion_matrix(iris.target, model.predict(iris.data)))"
   ]
  },
  {
   "cell_type": "code",
   "execution_count": 23,
   "metadata": {
    "collapsed": false
   },
   "outputs": [
    {
     "name": "stdout",
     "output_type": "stream",
     "text": [
      "             precision    recall  f1-score   support\n",
      "\n",
      "          0       1.00      1.00      1.00        50\n",
      "          1       0.98      0.90      0.94        50\n",
      "          2       0.91      0.98      0.94        50\n",
      "\n",
      "avg / total       0.96      0.96      0.96       150\n",
      "\n"
     ]
    }
   ],
   "source": [
    "print(classification_report(iris.target, model.predict(iris.data)))"
   ]
  },
  {
   "cell_type": "code",
   "execution_count": 24,
   "metadata": {
    "collapsed": false
   },
   "outputs": [],
   "source": [
    "from sklearn.preprocessing import label_binarize\n",
    "yb0 = label_binarize(iris.target, classes=[0, 1, 2])\n",
    "yb1 = label_binarize(model.predict(iris.data), classes=[0, 1, 2])"
   ]
  },
  {
   "cell_type": "code",
   "execution_count": 25,
   "metadata": {
    "collapsed": false
   },
   "outputs": [
    {
     "name": "stdout",
     "output_type": "stream",
     "text": [
      "50 50\n"
     ]
    },
    {
     "data": {
      "image/png": "[encoded data removed]",
      "text/plain": [
       "<matplotlib.figure.Figure at 0xb89c3c8>"
      ]
     },
     "metadata": {},
     "output_type": "display_data"
    }
   ],
   "source": [
    "print(yb0[:, 0].sum(), yb1[:, 0].sum())\n",
    "plt.plot(yb0[:, 0], 'ro-', markersize=10, alpha=0.4, label=\"actual class 0\")\n",
    "plt.plot(yb1[:, 0], 'bs-', markersize=10, alpha=0.4, label=\"predicted class 0\")\n",
    "plt.legend()\n",
    "plt.xlim(0, len(iris.target)-1);\n",
    "plt.ylim(-0.1, 1.1);"
   ]
  },
  {
   "cell_type": "code",
   "execution_count": 26,
   "metadata": {
    "collapsed": false
   },
   "outputs": [
    {
     "name": "stdout",
     "output_type": "stream",
     "text": [
      "50 46\n"
     ]
    },
    {
     "data": {
      "image/png": "[encoded data removed]",
      "text/plain": [
       "<matplotlib.figure.Figure at 0xb68e048>"
      ]
     },
     "metadata": {},
     "output_type": "display_data"
    }
   ],
   "source": [
    "print(yb0[:, 1].sum(), yb1[:, 1].sum())\n",
    "plt.plot(yb0[:, 1], 'ro-', markersize=10, alpha=0.6, label=\"actual class 1\")\n",
    "plt.plot(yb1[:, 1], 'bs-', markersize=10, alpha=0.6, label=\"predicted class 1\")\n",
    "plt.legend()\n",
    "plt.xlim(45, 145);\n",
    "plt.ylim(-0.1, 1.1);"
   ]
  },
  {
   "cell_type": "markdown",
   "metadata": {},
   "source": [
    "## AUC (Area Under the Curve)\n",
    "\n",
    "* AUC는 ROC curve의 면적(밑의 면적)을 뜻한다.\n",
    "* 그래서 판단 수치를 볼 수 있음.\n",
    "* Fall-Out 대비 Recall 값이 클 수록 AUC가 1에 가까운 값이며 우수한 모형이다."
   ]
  },
  {
   "cell_type": "code",
   "execution_count": 27,
   "metadata": {
    "collapsed": false
   },
   "outputs": [
    {
     "data": {
      "text/plain": [
       "(1.0, 0.81180000000000008, 0.99740000000000006)"
      ]
     },
     "execution_count": 27,
     "metadata": {},
     "output_type": "execute_result"
    }
   ],
   "source": [
    "from sklearn.metrics import auc\n",
    "auc(fpr0, tpr0), auc(fpr1, tpr1), auc(fpr2, tpr2)"
   ]
  },
  {
   "cell_type": "markdown",
   "metadata": {},
   "source": [
    "## Precision-Recall 커브"
   ]
  },
  {
   "cell_type": "markdown",
   "metadata": {},
   "source": [
    "Precision-Recall 커브는 ROC를 계산하는 것과 동일한 방법으로 판별 기준값의 변화에 따른 Precision과 Recall 의 변화를 살펴보는 것이다.\n",
    "\n",
    "판별 기준값이 증가하면 Recall은 무조건적으로 증가(또는 동일)하지만 Precision은 감소할 수 있다."
   ]
  },
  {
   "cell_type": "markdown",
   "metadata": {},
   "source": [
    "* 보통 precision과 accuracy가 있다. 여기에는 속으면 안 되는 부분이 있다.\n",
    "* precision 성능이 65%가 나왔을 때, 좋다 안좋다를 말할 수 없다.\n",
    "* 90%라고 해도 좋다 안좋다의 평가가 불가능하다. 보통은 많이 얘기한다고 한다."
   ]
  },
  {
   "cell_type": "code",
   "execution_count": 28,
   "metadata": {
    "collapsed": true
   },
   "outputs": [],
   "source": [
    "from sklearn.datasets import make_classification\n",
    "from sklearn.linear_model import LogisticRegression\n",
    "X, y = make_classification(n_features=1, n_redundant=0, n_informative=1, n_clusters_per_class=1, weights=[0.9, 0.1], random_state=4)\n",
    "model = LogisticRegression().fit(X, y)"
   ]
  },
  {
   "cell_type": "code",
   "execution_count": 29,
   "metadata": {
    "collapsed": false
   },
   "outputs": [],
   "source": [
    "from sklearn.metrics import precision_recall_curve\n",
    "pre, rec, thresholds = precision_recall_curve(y, model.decision_function(X))"
   ]
  },
  {
   "cell_type": "code",
   "execution_count": 30,
   "metadata": {
    "collapsed": false
   },
   "outputs": [
    {
     "data": {
      "image/png": "[encoded data removed]",
      "text/plain": [
       "<matplotlib.figure.Figure at 0xb885c18>"
      ]
     },
     "metadata": {},
     "output_type": "display_data"
    }
   ],
   "source": [
    "plt.plot(rec, pre)\n",
    "plt.xlim([0.0, 1.0])\n",
    "plt.ylim([0.0, 1.05])\n",
    "plt.xlabel('Recall')\n",
    "plt.ylabel('Precision')\n",
    "plt.title('Precision-Recall Curve')\n",
    "plt.show()"
   ]
  },
  {
   "cell_type": "code",
   "execution_count": 31,
   "metadata": {
    "collapsed": false,
    "scrolled": true
   },
   "outputs": [
    {
     "data": {
      "text/plain": [
       "(11, 100)"
      ]
     },
     "execution_count": 31,
     "metadata": {},
     "output_type": "execute_result"
    }
   ],
   "source": [
    "y.sum(), len(y)"
   ]
  },
  {
   "cell_type": "markdown",
   "metadata": {},
   "source": [
    "# 실습"
   ]
  },
  {
   "cell_type": "code",
   "execution_count": 2,
   "metadata": {
    "collapsed": false
   },
   "outputs": [],
   "source": [
    "from sklearn.metrics import confusion_matrix\n",
    "from sklearn.datasets import make_classification\n",
    "from sklearn.linear_model import LogisticRegression\n",
    "X, y = make_classification(n_features=1, n_redundant=0, n_informative=1, n_clusters_per_class=1, random_state=4)\n",
    "model = LogisticRegression().fit(X, y)"
   ]
  },
  {
   "cell_type": "code",
   "execution_count": 3,
   "metadata": {
    "collapsed": true
   },
   "outputs": [],
   "source": [
    "from sklearn.metrics import roc_curve\n",
    "fpr, tpr, thresholds = roc_curve(y, model.decision_function(X))"
   ]
  },
  {
   "cell_type": "code",
   "execution_count": 4,
   "metadata": {
    "collapsed": false
   },
   "outputs": [
    {
     "data": {
      "image/png": "[encoded data removed]",
      "text/plain": [
       "<matplotlib.figure.Figure at 0xae99fd0>"
      ]
     },
     "metadata": {},
     "output_type": "display_data"
    }
   ],
   "source": [
    "plt.plot(fpr, tpr)\n",
    "plt.plot([0, 1], [0, 1], 'k--', label=\"random guess\")\n",
    "plt.xlabel('False Positive Rate (Fall-Out)')\n",
    "plt.ylabel('True Positive Rate (Recall)')\n",
    "plt.title('Receiver operating characteristic example')\n",
    "plt.show()"
   ]
  },
  {
   "cell_type": "code",
   "execution_count": 5,
   "metadata": {
    "collapsed": false
   },
   "outputs": [
    {
     "name": "stdout",
     "output_type": "stream",
     "text": [
      "[[47  2]\n",
      " [ 3 48]]\n"
     ]
    }
   ],
   "source": [
    "print(confusion_matrix(y, model.predict(X)))"
   ]
  },
  {
   "cell_type": "code",
   "execution_count": 6,
   "metadata": {
    "collapsed": false
   },
   "outputs": [
    {
     "ename": "NameError",
     "evalue": "name 'classification_report' is not defined",
     "output_type": "error",
     "traceback": [
      "\u001b[1;31m---------------------------------------------------------------------------\u001b[0m",
      "\u001b[1;31mNameError\u001b[0m                                 Traceback (most recent call last)",
      "\u001b[1;32m<ipython-input-6-f8ece5b681f1>\u001b[0m in \u001b[0;36m<module>\u001b[1;34m()\u001b[0m\n\u001b[1;32m----> 1\u001b[1;33m \u001b[0mprint\u001b[0m\u001b[1;33m(\u001b[0m\u001b[0mclassification_report\u001b[0m\u001b[1;33m(\u001b[0m\u001b[0my\u001b[0m\u001b[1;33m,\u001b[0m \u001b[0mmodel\u001b[0m\u001b[1;33m.\u001b[0m\u001b[0mpredict\u001b[0m\u001b[1;33m(\u001b[0m\u001b[0mX\u001b[0m\u001b[1;33m)\u001b[0m\u001b[1;33m)\u001b[0m\u001b[1;33m)\u001b[0m\u001b[1;33m\u001b[0m\u001b[0m\n\u001b[0m",
      "\u001b[1;31mNameError\u001b[0m: name 'classification_report' is not defined"
     ]
    }
   ],
   "source": [
    "print(classification_report(y, model.predict(X)))"
   ]
  },
  {
   "cell_type": "code",
   "execution_count": 7,
   "metadata": {
    "collapsed": false
   },
   "outputs": [
    {
     "data": {
      "text/plain": [
       "array([ 0.01960784,  0.90196078,  0.90196078,  0.94117647,  0.94117647,\n",
       "        0.96078431,  0.96078431,  0.98039216,  0.98039216,  1.        ,  1.        ])"
      ]
     },
     "execution_count": 7,
     "metadata": {},
     "output_type": "execute_result"
    }
   ],
   "source": [
    "tpr"
   ]
  },
  {
   "cell_type": "code",
   "execution_count": 8,
   "metadata": {
    "collapsed": false
   },
   "outputs": [
    {
     "data": {
      "text/plain": [
       "array([ 0.        ,  0.        ,  0.02040816,  0.02040816,  0.04081633,\n",
       "        0.04081633,  0.12244898,  0.12244898,  0.7755102 ,  0.7755102 ,  1.        ])"
      ]
     },
     "execution_count": 8,
     "metadata": {},
     "output_type": "execute_result"
    }
   ],
   "source": [
    "fpr"
   ]
  },
  {
   "cell_type": "code",
   "execution_count": 32,
   "metadata": {
    "collapsed": true
   },
   "outputs": [],
   "source": [
    "v = model.decision_function(X)"
   ]
  },
  {
   "cell_type": "code",
   "execution_count": 33,
   "metadata": {
    "collapsed": false,
    "scrolled": true
   },
   "outputs": [
    {
     "data": {
      "text/plain": [
       "array([-2.58141413, -1.89541414, -4.46134977, -2.03221517, -1.68400284,\n",
       "       -3.57280129, -5.59424202, -3.19750285, -3.59621873, -2.12056645,\n",
       "       -2.76394526, -3.44114406, -3.75303154, -5.64694726, -4.35652761,\n",
       "       -4.4658031 , -3.55630154,  1.30417215, -2.63532692, -3.1957992 ,\n",
       "       -5.10562127, -1.50002837,  1.53489327, -4.17104039, -4.46127102,\n",
       "       -2.64625018, -2.16842088, -5.00245095, -4.31011053, -0.82805156,\n",
       "       -3.33460192, -5.97128987, -2.93784   , -6.62579697, -4.02508221,\n",
       "       -3.57770003, -5.08914755, -3.22122315, -3.58330125, -2.53964619,\n",
       "       -4.78750549,  0.98823603, -3.14270971, -2.63370969, -5.36396961,\n",
       "       -3.58093393, -4.41070109, -4.88564847, -6.65326011, -2.58306894,\n",
       "       -3.41464327,  0.696831  , -3.26147526, -4.90199512, -2.45889763,\n",
       "       -3.991217  , -2.88419606, -3.0971824 , -3.86341188, -3.22122709,\n",
       "       -5.04078756, -0.99951158, -3.59416936, -3.26565685,  1.50522265,\n",
       "       -2.62665496, -5.0300788 , -3.43934277, -1.08235771, -3.61752712,\n",
       "       -3.80709025, -5.17159351, -1.12326085, -2.48396579,  2.60499202,\n",
       "       -5.34687883, -4.40969324, -3.71072856,  1.98558723, -4.07967267,\n",
       "       -5.48364512, -2.72630575, -3.89066383, -5.04993464, -4.62717054,\n",
       "       -3.6535303 , -3.00900326,  0.52258316,  1.63761445, -2.99656666,\n",
       "       -4.56835674, -0.1213697 , -5.09380209, -0.50759992, -4.85880135,\n",
       "       -3.10376159, -2.99638831, -2.95522009, -2.85876671, -1.57166781])"
      ]
     },
     "execution_count": 33,
     "metadata": {},
     "output_type": "execute_result"
    }
   ],
   "source": [
    "v"
   ]
  },
  {
   "cell_type": "code",
   "execution_count": 34,
   "metadata": {
    "collapsed": false
   },
   "outputs": [
    {
     "data": {
      "text/plain": [
       "[<matplotlib.lines.Line2D at 0xca7c160>]"
      ]
     },
     "execution_count": 34,
     "metadata": {},
     "output_type": "execute_result"
    },
    {
     "data": {
      "image/png": "[encoded data removed]",
      "text/plain": [
       "<matplotlib.figure.Figure at 0xba1c8d0>"
      ]
     },
     "metadata": {},
     "output_type": "display_data"
    }
   ],
   "source": [
    "plt.plot(v)"
   ]
  },
  {
   "cell_type": "code",
   "execution_count": 35,
   "metadata": {
    "collapsed": true
   },
   "outputs": [],
   "source": [
    "v2 = sorted(v)"
   ]
  },
  {
   "cell_type": "code",
   "execution_count": 36,
   "metadata": {
    "collapsed": false
   },
   "outputs": [
    {
     "data": {
      "text/plain": [
       "[-6.6532601122085611,\n",
       " -6.6257969656451268,\n",
       " -5.97128986768623,\n",
       " -5.646947257190817,\n",
       " -5.5942420172113803,\n",
       " -5.4836451227073892,\n",
       " -5.3639696086565083,\n",
       " -5.3468788299310228,\n",
       " -5.1715935095694539,\n",
       " -5.1056212652223696,\n",
       " -5.0938020865630786,\n",
       " -5.089147547712658,\n",
       " -5.0499346356676584,\n",
       " -5.040787555708353,\n",
       " -5.0300788011035866,\n",
       " -5.0024509485214752,\n",
       " -4.9019951160862654,\n",
       " -4.8856484678877923,\n",
       " -4.8588013460898214,\n",
       " -4.7875054934641703,\n",
       " -4.6271705411768043,\n",
       " -4.5683567440378248,\n",
       " -4.4658031044822568,\n",
       " -4.4613497716147252,\n",
       " -4.4612710151044519,\n",
       " -4.4107010859595794,\n",
       " -4.4096932414161429,\n",
       " -4.3565276149984209,\n",
       " -4.3101105257865289,\n",
       " -4.1710403922218982,\n",
       " -4.0796726697695496,\n",
       " -4.0250822076265154,\n",
       " -3.991216997432173,\n",
       " -3.8906638280452555,\n",
       " -3.863411877795067,\n",
       " -3.807090250614011,\n",
       " -3.7530315396290197,\n",
       " -3.7107285550045139,\n",
       " -3.6535303039542448,\n",
       " -3.617527117001651,\n",
       " -3.5962187320492962,\n",
       " -3.59416935783808,\n",
       " -3.5833012525290151,\n",
       " -3.5809339311827966,\n",
       " -3.5777000295951229,\n",
       " -3.5728012889119078,\n",
       " -3.5563015370264797,\n",
       " -3.441144063653244,\n",
       " -3.4393427717273992,\n",
       " -3.414643273947906,\n",
       " -3.3346019186255482,\n",
       " -3.2656568508395392,\n",
       " -3.2614752604950956,\n",
       " -3.2212270893110118,\n",
       " -3.2212231501504052,\n",
       " -3.1975028503116256,\n",
       " -3.1957991965811821,\n",
       " -3.1427097121404852,\n",
       " -3.1037615858311747,\n",
       " -3.0971824009776761,\n",
       " -3.0090032577937809,\n",
       " -2.9965666564262974,\n",
       " -2.9963883133146751,\n",
       " -2.9552200877453609,\n",
       " -2.9378399961420052,\n",
       " -2.8841960602335486,\n",
       " -2.8587667107744661,\n",
       " -2.763945257059889,\n",
       " -2.7263057473097696,\n",
       " -2.6462501808251013,\n",
       " -2.6353269182242709,\n",
       " -2.6337096897119849,\n",
       " -2.6266549599501743,\n",
       " -2.5830689414766965,\n",
       " -2.581414125014196,\n",
       " -2.5396461856429182,\n",
       " -2.4839657926589158,\n",
       " -2.458897625634938,\n",
       " -2.1684208849199615,\n",
       " -2.120566453583876,\n",
       " -2.0322151718416781,\n",
       " -1.8954141444567227,\n",
       " -1.6840028425443396,\n",
       " -1.5716678149458152,\n",
       " -1.5000283710977613,\n",
       " -1.1232608451375565,\n",
       " -1.0823577076965747,\n",
       " -0.9995115805874526,\n",
       " -0.82805155858425539,\n",
       " -0.50759992499104034,\n",
       " -0.12136970307768991,\n",
       " 0.52258316436110652,\n",
       " 0.69683099874321308,\n",
       " 0.98823603161533025,\n",
       " 1.3041721534375135,\n",
       " 1.5052226539451483,\n",
       " 1.5348932708977132,\n",
       " 1.6376144476612182,\n",
       " 1.9855872308553948,\n",
       " 2.6049920181896598]"
      ]
     },
     "execution_count": 36,
     "metadata": {},
     "output_type": "execute_result"
    }
   ],
   "source": [
    "v2"
   ]
  },
  {
   "cell_type": "code",
   "execution_count": 37,
   "metadata": {
    "collapsed": false
   },
   "outputs": [
    {
     "data": {
      "text/plain": [
       "[<matplotlib.lines.Line2D at 0xcade668>]"
      ]
     },
     "execution_count": 37,
     "metadata": {},
     "output_type": "execute_result"
    },
    {
     "data": {
      "image/png": "[encoded data removed]",
      "text/plain": [
       "<matplotlib.figure.Figure at 0xba73a20>"
      ]
     },
     "metadata": {},
     "output_type": "display_data"
    }
   ],
   "source": [
    "plt.plot(v2)"
   ]
  },
  {
   "cell_type": "code",
   "execution_count": 38,
   "metadata": {
    "collapsed": false
   },
   "outputs": [
    {
     "data": {
      "text/plain": [
       "[<matplotlib.lines.Line2D at 0xcb3fcf8>]"
      ]
     },
     "execution_count": 38,
     "metadata": {},
     "output_type": "execute_result"
    },
    {
     "data": {
      "image/png": "[encoded data removed]",
      "text/plain": [
       "<matplotlib.figure.Figure at 0xcab3080>"
      ]
     },
     "metadata": {},
     "output_type": "display_data"
    }
   ],
   "source": [
    "v.sort()\n",
    "plt.plot(v)"
   ]
  },
  {
   "cell_type": "code",
   "execution_count": 39,
   "metadata": {
    "collapsed": false
   },
   "outputs": [
    {
     "data": {
      "text/plain": [
       "array([ True,  True,  True,  True,  True,  True,  True,  True,  True,\n",
       "        True,  True,  True,  True,  True,  True,  True,  True,  True,\n",
       "        True,  True,  True,  True,  True,  True,  True,  True,  True,\n",
       "        True,  True,  True,  True,  True,  True,  True,  True,  True,\n",
       "        True,  True,  True,  True,  True,  True,  True,  True,  True,\n",
       "        True,  True,  True,  True,  True,  True,  True,  True,  True,\n",
       "        True,  True,  True,  True,  True,  True,  True,  True,  True,\n",
       "        True,  True,  True,  True,  True,  True,  True,  True,  True,\n",
       "        True,  True,  True,  True,  True,  True,  True,  True,  True,\n",
       "        True,  True,  True,  True,  True,  True,  True,  True,  True,\n",
       "        True, False, False, False, False, False, False, False, False, False], dtype=bool)"
      ]
     },
     "execution_count": 39,
     "metadata": {},
     "output_type": "execute_result"
    }
   ],
   "source": [
    "v < 0"
   ]
  },
  {
   "cell_type": "code",
   "execution_count": 40,
   "metadata": {
    "collapsed": false
   },
   "outputs": [
    {
     "data": {
      "text/plain": [
       "91"
      ]
     },
     "execution_count": 40,
     "metadata": {},
     "output_type": "execute_result"
    }
   ],
   "source": [
    "(v < 0).sum()"
   ]
  },
  {
   "cell_type": "code",
   "execution_count": 41,
   "metadata": {
    "collapsed": false
   },
   "outputs": [
    {
     "data": {
      "text/plain": [
       "(-0.12136970307768991, 0.52258316436110652)"
      ]
     },
     "execution_count": 41,
     "metadata": {},
     "output_type": "execute_result"
    }
   ],
   "source": [
    "idx = (v < 0).sum()\n",
    "v[idx-1], v[idx]"
   ]
  },
  {
   "cell_type": "code",
   "execution_count": 42,
   "metadata": {
    "collapsed": false
   },
   "outputs": [
    {
     "data": {
      "text/plain": [
       "array([-4.88564847, -4.85880135, -4.78750549, -4.62717054, -4.56835674,\n",
       "       -4.4658031 , -4.46134977, -4.46127102, -4.41070109, -4.40969324,\n",
       "       -4.35652761, -4.31011053, -4.17104039, -4.07967267, -4.02508221,\n",
       "       -3.991217  , -3.89066383, -3.86341188, -3.80709025, -3.75303154,\n",
       "       -3.71072856, -3.6535303 , -3.61752712, -3.59621873, -3.59416936,\n",
       "       -3.58330125, -3.58093393, -3.57770003, -3.57280129, -3.55630154,\n",
       "       -3.44114406, -3.43934277, -3.41464327, -3.33460192, -3.26565685,\n",
       "       -3.26147526, -3.22122709, -3.22122315, -3.19750285, -3.1957992 ,\n",
       "       -3.14270971, -3.10376159, -3.0971824 , -3.00900326, -2.99656666,\n",
       "       -2.99638831, -2.95522009, -2.93784   , -2.88419606, -2.85876671,\n",
       "       -2.76394526, -2.72630575, -2.64625018, -2.63532692, -2.63370969,\n",
       "       -2.62665496, -2.58306894, -2.58141413, -2.53964619, -2.48396579,\n",
       "       -2.45889763, -2.16842088, -2.12056645, -2.03221517, -1.89541414,\n",
       "       -1.68400284, -1.57166781, -1.50002837, -1.12326085, -1.08235771,\n",
       "       -0.99951158, -0.82805156, -0.50759992, -0.1213697 ,  0.52258316,\n",
       "        0.696831  ,  0.98823603,  1.30417215,  1.50522265,  1.53489327,\n",
       "        1.63761445,  1.98558723,  2.60499202])"
      ]
     },
     "execution_count": 42,
     "metadata": {},
     "output_type": "execute_result"
    }
   ],
   "source": [
    "thresholds    # 값이 변하는 변곡점들을 출력한 결과"
   ]
  },
  {
   "cell_type": "code",
   "execution_count": 43,
   "metadata": {
    "collapsed": false
   },
   "outputs": [
    {
     "data": {
      "text/plain": [
       "9"
      ]
     },
     "execution_count": 43,
     "metadata": {},
     "output_type": "execute_result"
    }
   ],
   "source": [
    "idx = np.sum(thresholds > 0)\n",
    "idx"
   ]
  },
  {
   "cell_type": "code",
   "execution_count": 44,
   "metadata": {
    "collapsed": false
   },
   "outputs": [
    {
     "data": {
      "text/plain": [
       "(-4.4107010859595794, -4.4096932414161429)"
      ]
     },
     "execution_count": 44,
     "metadata": {},
     "output_type": "execute_result"
    }
   ],
   "source": [
    "thresholds[idx-1], thresholds[idx]"
   ]
  },
  {
   "cell_type": "code",
   "execution_count": 45,
   "metadata": {
    "collapsed": false
   },
   "outputs": [
    {
     "data": {
      "text/plain": [
       "(0.98039215686274506, 1.0)"
      ]
     },
     "execution_count": 45,
     "metadata": {},
     "output_type": "execute_result"
    }
   ],
   "source": [
    "tpr[idx-1], tpr[idx]"
   ]
  },
  {
   "cell_type": "code",
   "execution_count": 46,
   "metadata": {
    "collapsed": false
   },
   "outputs": [
    {
     "data": {
      "text/plain": [
       "(0.77551020408163263, 0.77551020408163263)"
      ]
     },
     "execution_count": 46,
     "metadata": {},
     "output_type": "execute_result"
    }
   ],
   "source": [
    "fpr[idx-1], fpr[idx]"
   ]
  },
  {
   "cell_type": "code",
   "execution_count": 47,
   "metadata": {
    "collapsed": true
   },
   "outputs": [],
   "source": [
    "idx = (thresholds > 0).sum()\n",
    "tpr0 = tpr[idx-1:idx+1].mean()\n",
    "fpr0 = fpr[idx-1:idx+1].mean()"
   ]
  },
  {
   "cell_type": "code",
   "execution_count": 48,
   "metadata": {
    "collapsed": false
   },
   "outputs": [
    {
     "data": {
      "image/png": "[encoded data removed]",
      "text/plain": [
       "<matplotlib.figure.Figure at 0xcb05eb8>"
      ]
     },
     "metadata": {},
     "output_type": "display_data"
    }
   ],
   "source": [
    "plt.plot(fpr, tpr)\n",
    "plt.plot([0, 1], [0, 1], 'k--', label=\"random guess\")\n",
    "plt.plot(fpr0, tpr0, \"ro\", ms=15, alpha=0.8)  #알파값??\n",
    "plt.xlabel('False Positive Rate (Fall-Out)')\n",
    "plt.ylabel('True Positive Rate (Recall)')\n",
    "plt.title('Receiver operating characteristic example')\n",
    "plt.show()"
   ]
  },
  {
   "cell_type": "code",
   "execution_count": 49,
   "metadata": {
    "collapsed": true
   },
   "outputs": [],
   "source": [
    "from sklearn.datasets import load_iris\n",
    "from sklearn.linear_model import LogisticRegression\n",
    "iris = load_iris()\n",
    "model = LogisticRegression().fit(iris.data, iris.target)"
   ]
  },
  {
   "cell_type": "code",
   "execution_count": 50,
   "metadata": {
    "collapsed": true
   },
   "outputs": [],
   "source": [
    "from sklearn.metrics import roc_curve\n",
    "fpr0, tpr0, thresholds0 = roc_curve(iris.target, model.decision_function(iris.data)[:, 0], pos_label=0)\n",
    "fpr1, tpr1, thresholds1 = roc_curve(iris.target, model.decision_function(iris.data)[:, 1], pos_label=1)\n",
    "fpr2, tpr2, thresholds2 = roc_curve(iris.target, model.decision_function(iris.data)[:, 2], pos_label=2)"
   ]
  },
  {
   "cell_type": "code",
   "execution_count": 51,
   "metadata": {
    "collapsed": false
   },
   "outputs": [
    {
     "data": {
      "text/plain": [
       "(array([ 0.  ,  0.  ,  0.  ,  0.  ,  0.67,  0.69,  1.  ]),\n",
       " array([ 0.02,  0.66,  0.72,  1.  ,  1.  ,  1.  ,  1.  ]),\n",
       " array([  5.59733959,   3.37153515,   3.33294961,   2.24452558,\n",
       "         -6.84259428,  -6.87415927, -10.71530334]))"
      ]
     },
     "execution_count": 51,
     "metadata": {},
     "output_type": "execute_result"
    }
   ],
   "source": [
    "fpr0, tpr0, thresholds0"
   ]
  },
  {
   "cell_type": "code",
   "execution_count": 52,
   "metadata": {
    "collapsed": false
   },
   "outputs": [
    {
     "name": "stderr",
     "output_type": "stream",
     "text": [
      "C:\\Anaconda3\\lib\\site-packages\\numpy\\core\\_methods.py:59: RuntimeWarning: Mean of empty slice.\n",
      "  warnings.warn(\"Mean of empty slice.\", RuntimeWarning)\n"
     ]
    }
   ],
   "source": [
    "idx0 = (thresholds0 > 0).sum()\n",
    "tpr01 = tpr[idx0-1:idx0+1].mean()\n",
    "fpr01 = fpr[idx0-1:idx0+1].mean()\n",
    "idx1 = (thresholds1 > 0).sum()\n",
    "tpr11 = tpr[idx1-1:idx1+1].mean()\n",
    "fpr11 = fpr[idx1-1:idx1+1].mean()\n",
    "idx2 = (thresholds2 > 0).sum()\n",
    "tpr21 = tpr[idx2-1:idx2+1].mean()\n",
    "fpr21 = fpr[idx2-1:idx2+1].mean()"
   ]
  },
  {
   "cell_type": "code",
   "execution_count": 53,
   "metadata": {
    "collapsed": false,
    "scrolled": true
   },
   "outputs": [
    {
     "data": {
      "image/png": "[encoded data removed]",
      "text/plain": [
       "<matplotlib.figure.Figure at 0xcb75160>"
      ]
     },
     "metadata": {},
     "output_type": "display_data"
    }
   ],
   "source": [
    "plt.plot(fpr01, tpr01, \"ro\", ms=12 , alpha=0.8)\n",
    "plt.plot(fpr11, tpr11, \"go\", ms=12)\n",
    "plt.plot(fpr21, tpr21, \"bo\", ms=12)\n",
    "plt.plot(fpr0, tpr0, \"r-\", label=\"class 0 \")\n",
    "plt.plot(fpr1, tpr1, \"g-\", label=\"class 1\")\n",
    "plt.plot(fpr2, tpr2, \"b-\", label=\"class 2\")\n",
    "plt.plot([0, 1], [0, 1], 'k--', label=\"random guess\")\n",
    "plt.xlim(-0.05, 1.0)\n",
    "plt.ylim(0, 1.05)\n",
    "plt.xlabel('False Positive Rate (Fall-Out)')\n",
    "plt.ylabel('True Positive Rate (Recall)')\n",
    "plt.title('Receiver operating characteristic example')\n",
    "plt.legend(loc=\"lower right\")\n",
    "plt.show()\n",
    "#이거 방법 다시 강구해보기"
   ]
  },
  {
   "cell_type": "markdown",
   "metadata": {},
   "source": [
    "class1이냐 아니냐의 문제는 잘 안 풀린 문제다. 녹색선"
   ]
  },
  {
   "cell_type": "code",
   "execution_count": null,
   "metadata": {
    "collapsed": true
   },
   "outputs": [],
   "source": []
  }
 ],
 "metadata": {
  "kernelspec": {
   "display_name": "Python [Root]",
   "language": "python",
   "name": "Python [Root]"
  },
  "language_info": {
   "codemirror_mode": {
    "name": "ipython",
    "version": 3
   },
   "file_extension": ".py",
   "mimetype": "text/x-python",
   "name": "python",
   "nbconvert_exporter": "python",
   "pygments_lexer": "ipython3",
   "version": "3.5.1"
  }
 },
 "nbformat": 4,
 "nbformat_minor": 0
}
