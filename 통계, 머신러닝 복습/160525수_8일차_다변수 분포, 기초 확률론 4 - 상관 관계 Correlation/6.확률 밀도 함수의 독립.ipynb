{
 "cells": [
  {
   "cell_type": "markdown",
   "metadata": {},
   "source": [
    "# 확률 밀도 함수의 독립"
   ]
  },
  {
   "cell_type": "markdown",
   "metadata": {},
   "source": [
    "* 독립인지 아닌지 판단하기 위해서는 짤라서 최고점의 위치가 변하지 않으면 독립이다."
   ]
  },
  {
   "cell_type": "markdown",
   "metadata": {},
   "source": [
    "만약 두 확률 변수 $X$, $Y$의 결합 확률 밀도 함수(joint pdf)가 주변 확률 밀도 함수(marginal pdf)의 곱으로 나타나면 두 확률 변수가 서로 독립(independent)이라고 한다.\n",
    "\n",
    "$$ f_{XY}(x, y) = f_X(x)f_Y(y) $$\n"
   ]
  },
  {
   "cell_type": "markdown",
   "metadata": {},
   "source": [
    "이 함수 식에서 볼 수 있듯이 독립인 경우에는 각각의 주변 확률 밀도 함수만으로 결합 확률 밀도 함수가 결정된다. 즉, $Y$가 어떤 값을 가지더라도 $X$의 주변 확률 밀도 함수는 변하지 않는다."
   ]
  },
  {
   "cell_type": "markdown",
   "metadata": {},
   "source": [
    "## 독립 확률 변수의 기댓값"
   ]
  },
  {
   "cell_type": "markdown",
   "metadata": {},
   "source": [
    "독립 확률 변수들의 기댓값은 다음 성질을 만족한다. \n",
    "\n",
    "$$ \\text{E}[XY] = \\text{E}[X]\\text{E}[Y] $$"
   ]
  },
  {
   "cell_type": "markdown",
   "metadata": {},
   "source": [
    "(증명)\n",
    "\n",
    "$$ \n",
    "\\begin{eqnarray}\n",
    "\\text{E}[XY] \n",
    "&=& \\int xy \\;f_{XY}(x, y) \\; dx dy  \\\\\n",
    "&=& \\int xy \\;f_{X}(x)f_{Y}(y) \\; dx dy \\\\\n",
    "&=& \\int x \\;f_{X}(x) \\; dx \\int y \\;f_{Y}(y) \\; dy  \\\\\n",
    "&=& \\text{E}[X] \\text{E}[Y] \\\\\n",
    "\\end{eqnarray}\n",
    "$$"
   ]
  },
  {
   "cell_type": "markdown",
   "metadata": {},
   "source": [
    "## 독립 확률 변수들의 분산"
   ]
  },
  {
   "cell_type": "markdown",
   "metadata": {},
   "source": [
    "또한 독립 확률 변수들의 분산은 다음 성질을 만족한다. \n",
    "\n",
    "$$ \\text{Var}[X+Y] = \\text{Var}[X] + \\text{Var}[Y] $$"
   ]
  },
  {
   "cell_type": "markdown",
   "metadata": {},
   "source": [
    "(증명)\n",
    "\n",
    "$$ \n",
    "\\begin{eqnarray}\n",
    "\\text{Var}[X + Y] \n",
    "&=& \\text{E}[((X + Y) - (\\mu_X + \\mu_Y))^2] \\\\\n",
    "&=& \\text{E}[(X+Y)^2 - 2(X+Y)(\\mu_X + \\mu_Y) + (\\mu_X + \\mu_Y)^2] \\\\\n",
    "&=& \\text{E}[X^2+2XY+Y^2] - 2(\\mu_X + \\mu_Y)\\text{E}[X+Y] + (\\mu_X + \\mu_Y)^2 \\\\\n",
    "&=& \\text{E}[X^2+2XY+Y^2] - 2(\\mu_X + \\mu_Y)^2 + (\\mu_X + \\mu_Y)^2 \\\\\n",
    "&=& \\text{E}[X^2]+2\\text{E}[XY]+\\text{E}[Y^2] - (\\mu_X + \\mu_Y)^2 \\\\\n",
    "&=& \\text{E}[X^2]+2\\text{E}[X]\\text{E}[Y]+\\text{E}[Y^2] - (\\mu_X^2 + 2\\mu_X\\mu_Y + \\mu_Y^2) \\\\\n",
    "&=& \\text{E}[X^2]-\\mu_X^2+\\text{E}[Y^2]-\\mu_Y^2+2\\text{E}[X]\\text{E}[Y] - 2\\mu_X\\mu_Y \\\\\n",
    "&=& \\text{Var}[X]+\\text{Var}[Y] \\\\\n",
    "\\end{eqnarray}\n",
    "$$"
   ]
  },
  {
   "cell_type": "markdown",
   "metadata": {},
   "source": [
    "## 조건부 확률 분포"
   ]
  },
  {
   "cell_type": "markdown",
   "metadata": {},
   "source": [
    "또한 조건부 확률 밀도 함수에는 다음과 같은 관계가 성립한다."
   ]
  },
  {
   "cell_type": "markdown",
   "metadata": {},
   "source": [
    "$$ f_{X \\mid Y} (x | y_0) = \\dfrac{f_{XY}(x, y=y_0)}{f_{Y}(y_0)} = \\dfrac{f_{X}(x) f_{Y}(y_0)}{f_{Y}(y_0)} = f_{X}(x) $$\n",
    "\n",
    "$$ f_{Y \\mid X} (y | x_0) = \\dfrac{f_{XY}(x=x_0, y)}{f_{X}(x_0)} = \\dfrac{f_{X}(x_0) f_{Y}(y)}{f_{X}(x_0)} = f_{Y}(y) $$"
   ]
  },
  {
   "cell_type": "markdown",
   "metadata": {},
   "source": [
    "확률 변수 $X$가 다른 확률 변수 $Y$에 독립이면 조건부 확률 분포가 조건이 되는 확률 변수의 값에 영향을 받지 않는다. 즉, $Y$ 값이 $y_1$일 때와 $y_2$일 때의 조건부 확률 분포 $f(x \\mid y_1)$과 $f(x \\mid y_2)$이 같다는 의미이다. "
   ]
  },
  {
   "cell_type": "markdown",
   "metadata": {},
   "source": [
    "예를 들어 다음과 같은 두 이산 확률 변수의 결합 확률 분포를 보자."
   ]
  },
  {
   "cell_type": "code",
   "execution_count": 1,
   "metadata": {
    "collapsed": false
   },
   "outputs": [
    {
     "data": {
      "text/plain": [
       "array([[ 0.    ,  0.0111,  0.0222,  0.0333,  0.0222,  0.0111],\n",
       "       [ 0.    ,  0.0222,  0.0444,  0.0667,  0.0444,  0.0222],\n",
       "       [ 0.    ,  0.0444,  0.0889,  0.1333,  0.0889,  0.0444],\n",
       "       [ 0.    ,  0.0222,  0.0444,  0.0667,  0.0444,  0.0222],\n",
       "       [ 0.    ,  0.0111,  0.0222,  0.0333,  0.0222,  0.0111]])"
      ]
     },
     "execution_count": 1,
     "metadata": {},
     "output_type": "execute_result"
    }
   ],
   "source": [
    "np.set_printoptions(precision=4)\n",
    "pmf1 = np.array([[0, 1, 2, 3, 2, 1],\n",
    "                 [0, 2, 4, 6, 4, 2],\n",
    "                 [0, 4, 8,12, 8, 4],\n",
    "                 [0, 2, 4, 6, 4, 2],\n",
    "                 [0, 1, 2, 3, 2, 1]])\n",
    "pmf1 = pmf1 / pmf1.sum()\n",
    "pmf1"
   ]
  },
  {
   "cell_type": "code",
   "execution_count": 2,
   "metadata": {
    "collapsed": false
   },
   "outputs": [
    {
     "data": {
      "image/png": "[encoded data removed]",
      "text/plain": [
       "<matplotlib.figure.Figure at 0xa9cc208>"
      ]
     },
     "metadata": {},
     "output_type": "display_data"
    }
   ],
   "source": [
    "sns.heatmap(pmf1)\n",
    "plt.xlabel(\"x\")\n",
    "plt.ylabel(\"y\")\n",
    "plt.title(\"Joint Probability (Independent)\")\n",
    "plt.show()"
   ]
  },
  {
   "cell_type": "markdown",
   "metadata": {},
   "source": [
    "이 확률 분포는 다음 식에서 보다시피 주변 확률 분포의 곱으로 표현된다."
   ]
  },
  {
   "cell_type": "code",
   "execution_count": 3,
   "metadata": {
    "collapsed": false
   },
   "outputs": [
    {
     "data": {
      "text/plain": [
       "array([[ 0.    ,  0.0111,  0.0222,  0.0333,  0.0222,  0.0111],\n",
       "       [ 0.    ,  0.0222,  0.0444,  0.0667,  0.0444,  0.0222],\n",
       "       [ 0.    ,  0.0444,  0.0889,  0.1333,  0.0889,  0.0444],\n",
       "       [ 0.    ,  0.0222,  0.0444,  0.0667,  0.0444,  0.0222],\n",
       "       [ 0.    ,  0.0111,  0.0222,  0.0333,  0.0222,  0.0111]])"
      ]
     },
     "execution_count": 3,
     "metadata": {},
     "output_type": "execute_result"
    }
   ],
   "source": [
    "pmf1_marginal_x = pmf1.sum(axis=0)\n",
    "pmf1_marginal_y = pmf1.sum(axis=1)\n",
    "pmf = pmf1_marginal_x * pmf1_marginal_y[:, np.newaxis]\n",
    "pmf / pmf.sum()"
   ]
  },
  {
   "cell_type": "markdown",
   "metadata": {},
   "source": [
    "여러 가지 Y값을 바꾸어도 조건부 확률은 변하지 않는 것을 확인할 수 있다.\n"
   ]
  },
  {
   "cell_type": "code",
   "execution_count": 4,
   "metadata": {
    "collapsed": false
   },
   "outputs": [
    {
     "data": {
      "text/plain": [
       "array([ 0.    ,  0.1111,  0.2222,  0.3333,  0.2222,  0.1111])"
      ]
     },
     "execution_count": 4,
     "metadata": {},
     "output_type": "execute_result"
    }
   ],
   "source": [
    "cond_x_y0 = pmf1[0, :] / pmf1_marginal_y[0]\n",
    "cond_x_y0"
   ]
  },
  {
   "cell_type": "code",
   "execution_count": 5,
   "metadata": {
    "collapsed": false
   },
   "outputs": [
    {
     "data": {
      "text/plain": [
       "array([ 0.    ,  0.1111,  0.2222,  0.3333,  0.2222,  0.1111])"
      ]
     },
     "execution_count": 5,
     "metadata": {},
     "output_type": "execute_result"
    }
   ],
   "source": [
    "cond_x_y1 = pmf1[1, :]/pmf1_marginal_y[1]\n",
    "cond_x_y1"
   ]
  },
  {
   "cell_type": "code",
   "execution_count": 6,
   "metadata": {
    "collapsed": false
   },
   "outputs": [
    {
     "data": {
      "text/plain": [
       "array([ 0.    ,  0.1111,  0.2222,  0.3333,  0.2222,  0.1111])"
      ]
     },
     "execution_count": 6,
     "metadata": {},
     "output_type": "execute_result"
    }
   ],
   "source": [
    "cond_x_y2 = pmf1[2, :]/pmf1_marginal_y[2]\n",
    "cond_x_y2"
   ]
  },
  {
   "cell_type": "markdown",
   "metadata": {},
   "source": [
    "이번에는 다음과 같은 결합 확률 분포를 보자. 이 경우에는 독립 조건이 성립하지 않는다."
   ]
  },
  {
   "cell_type": "code",
   "execution_count": 7,
   "metadata": {
    "collapsed": false
   },
   "outputs": [
    {
     "data": {
      "text/plain": [
       "array([[ 0.  ,  0.  ,  0.  ,  0.  ,  0.05,  0.05],\n",
       "       [ 0.  ,  0.  ,  0.05,  0.1 ,  0.05,  0.  ],\n",
       "       [ 0.  ,  0.05,  0.15,  0.15,  0.05,  0.  ],\n",
       "       [ 0.  ,  0.05,  0.1 ,  0.05,  0.  ,  0.  ],\n",
       "       [ 0.05,  0.05,  0.  ,  0.  ,  0.  ,  0.  ]])"
      ]
     },
     "execution_count": 7,
     "metadata": {},
     "output_type": "execute_result"
    }
   ],
   "source": [
    "pmf2 = np.array([[0, 0, 0, 0, 1, 1],\n",
    "                 [0, 0, 1, 2, 1, 0],\n",
    "                 [0, 1, 3, 3, 1, 0],\n",
    "                 [0, 1, 2, 1, 0, 0],\n",
    "                 [1, 1, 0, 0, 0, 0]])\n",
    "pmf2 = pmf2/pmf2.sum()\n",
    "pmf2"
   ]
  },
  {
   "cell_type": "code",
   "execution_count": 8,
   "metadata": {
    "collapsed": false
   },
   "outputs": [
    {
     "data": {
      "image/png": "[encoded data removed]",
      "text/plain": [
       "<matplotlib.figure.Figure at 0xab0cc50>"
      ]
     },
     "metadata": {},
     "output_type": "display_data"
    }
   ],
   "source": [
    "sns.heatmap(pmf2)\n",
    "plt.xlabel(\"x\")\n",
    "plt.ylabel(\"y\")\n",
    "plt.title(\"Joint Probability (Dependent)\")\n",
    "plt.show()"
   ]
  },
  {
   "cell_type": "markdown",
   "metadata": {},
   "source": [
    "이 경우에는 y값에 따라 x의 조건부 확률 분포가 달라지는 것을 확인할 수 있다."
   ]
  },
  {
   "cell_type": "code",
   "execution_count": 9,
   "metadata": {
    "collapsed": true
   },
   "outputs": [],
   "source": [
    "pmf2_marginal_x = pmf2.sum(axis=0)\n",
    "pmf2_marginal_y = pmf2.sum(axis=1)"
   ]
  },
  {
   "cell_type": "code",
   "execution_count": 10,
   "metadata": {
    "collapsed": false
   },
   "outputs": [
    {
     "data": {
      "text/plain": [
       "array([ 0. ,  0. ,  0. ,  0. ,  0.5,  0.5])"
      ]
     },
     "execution_count": 10,
     "metadata": {},
     "output_type": "execute_result"
    }
   ],
   "source": [
    "cond_x_y0 = pmf2[0, :]/pmf2_marginal_y[0]\n",
    "cond_x_y0"
   ]
  },
  {
   "cell_type": "code",
   "execution_count": 11,
   "metadata": {
    "collapsed": false
   },
   "outputs": [
    {
     "data": {
      "text/plain": [
       "array([ 0.  ,  0.  ,  0.25,  0.5 ,  0.25,  0.  ])"
      ]
     },
     "execution_count": 11,
     "metadata": {},
     "output_type": "execute_result"
    }
   ],
   "source": [
    "cond_x_y1 = pmf2[1, :]/pmf2_marginal_y[1]\n",
    "cond_x_y1"
   ]
  },
  {
   "cell_type": "code",
   "execution_count": 12,
   "metadata": {
    "collapsed": false
   },
   "outputs": [
    {
     "data": {
      "text/plain": [
       "array([ 0.   ,  0.125,  0.375,  0.375,  0.125,  0.   ])"
      ]
     },
     "execution_count": 12,
     "metadata": {},
     "output_type": "execute_result"
    }
   ],
   "source": [
    "cond_x_y2 = pmf2[2, :]/pmf2_marginal_y[2]\n",
    "cond_x_y2"
   ]
  },
  {
   "cell_type": "markdown",
   "metadata": {},
   "source": [
    "두 확률 변수가 독립이 아닌 경우, 즉 결합 확률 분포(확률 밀도 함수 또는 확률 질량 함수)가 두 개의 주변 분포의 곱으로 나누어지지 않는 경우에는 두 확률 변수가 서로 **의존(dependent)**한다고 한다. \n"
   ]
  },
  {
   "cell_type": "markdown",
   "metadata": {},
   "source": [
    "예를 들어 5명이 있는 어떤 반에서 한 명을 대표로 뽑아 시험을 보아야 한다고 하자. \n",
    "\n",
    "위 확률 분포 $X$, $Y$에서 $Y$가 학생의 번호가 되고 $X \\mid Y$는 반 대표가 된 학생의 시험 점수이다. \n",
    "\n",
    "첫번째(독립) 경우에는 어떤 학생이 대표가 된다고 하더라도 시험 점수의 분포가 동일하지만 두번째(의존) 경우에는 0번 학생이 뽑인다면 4점, 혹은 5점을 받고 4번 학생이 뽑이면 0점 또는 1점을 받게 되므로 조건부 시험 점수 $X \\mid Y$ 는 $Y$ 값에 의존한다고 말할 수 있다."
   ]
  }
 ],
 "metadata": {
  "kernelspec": {
   "display_name": "Python [Root]",
   "language": "python",
   "name": "Python [Root]"
  },
  "language_info": {
   "codemirror_mode": {
    "name": "ipython",
    "version": 3
   },
   "file_extension": ".py",
   "mimetype": "text/x-python",
   "name": "python",
   "nbconvert_exporter": "python",
   "pygments_lexer": "ipython3",
   "version": "3.5.1"
  }
 },
 "nbformat": 4,
 "nbformat_minor": 0
}
