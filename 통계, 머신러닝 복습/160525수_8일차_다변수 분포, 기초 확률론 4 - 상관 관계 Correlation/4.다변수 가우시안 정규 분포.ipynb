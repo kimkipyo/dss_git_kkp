{
 "cells": [
  {
   "cell_type": "markdown",
   "metadata": {},
   "source": [
    "# 다변수 가우시안 정규 분포"
   ]
  },
  {
   "cell_type": "markdown",
   "metadata": {},
   "source": [
    "* 지금까지는 이산분포. 이제는 연속확률변수의 경우\n",
    "* 벡터의 이차 형식(quadratic form) 하면 스칼라가 된다. \n",
    "* 가우시안 노말분포에서는 당연히 포지티브데피닛을 넣어야 한다. 그래서 행렬 I를 넣어야 한다?\n",
    "* 시그마함수는 무조건 대칭이 되어야 한다."
   ]
  },
  {
   "cell_type": "markdown",
   "metadata": {},
   "source": [
    "다변수 가우시안 정규 분포 혹은 간단히 다변수 정규 분포(MVN: Multivariate Normal)는 복수의 확률 변수를 모형화하는데 가장 많이 사용되는 분포이다. "
   ]
  },
  {
   "cell_type": "markdown",
   "metadata": {},
   "source": [
    "$D$차원 다변수 정규 분포의 확률 밀도 함수는 다음과 같다.\n",
    "\n",
    "$$ \\mathcal{N}(x \\mid \\mu, \\Sigma) = \\dfrac{1}{(2\\pi)^{D/2} |\\Sigma|^{1/2}} \\exp \\left( -\\dfrac{1}{2} (x-\\mu)^T \\Sigma^{-1} (x-\\mu) \\right) $$\n",
    "\n",
    "이 식에서 각 기호는 다음을 의미한다.\n",
    "\n",
    "* $x \\in \\mathbf{R}^D $ 확률 변수 벡터\n",
    "* $\\mu \\in \\mathbf{R}^D $ 평균 벡터\n",
    "* $\\Sigma \\in \\mathbf{R}^{D\\times D} $ 공분산 벡터\n",
    "* $\\Sigma^{-1} \\in \\mathbf{R}^{D\\times D} $ 공분산 벡터의 역행렬\n",
    "\n",
    "공분산 벡터의 역행렬 $\\Sigma^{-1}$는 precision matrix 혹은 concentration matrix 라고도 한다."
   ]
  },
  {
   "cell_type": "markdown",
   "metadata": {},
   "source": [
    "## SciPy의 다변수 정규 분포 지원"
   ]
  },
  {
   "cell_type": "markdown",
   "metadata": {},
   "source": [
    "SciPy의 stats 서브패키지에는 다변수 정규 분포를 위한 `multivariate_normal` 클래스가 있다. `mean` 인수로 평균 벡터를, `cov` 인수로 공분산 행렬을 받는다."
   ]
  },
  {
   "cell_type": "markdown",
   "metadata": {},
   "source": [
    "## 다변수 정규 분포의 예"
   ]
  },
  {
   "cell_type": "markdown",
   "metadata": {},
   "source": [
    "2차원($D=2$) 다변수 정규 분포의 예를 몇가지 살펴보자. \n",
    "\n",
    "우선 2차원이므로 확률 변수 벡터는 \n",
    "$$ \n",
    "x = \\begin{bmatrix}x_1 \\\\ x_2 \\end{bmatrix}\n",
    "$$\n",
    "이다."
   ]
  },
  {
   "cell_type": "markdown",
   "metadata": {},
   "source": [
    "### 경우 1"
   ]
  },
  {
   "cell_type": "markdown",
   "metadata": {},
   "source": [
    "\n",
    "만약\n",
    "\n",
    "$$ \n",
    "\\mu = \\begin{bmatrix}2 \\\\ 3 \\end{bmatrix}. \\;\\;\\;\n",
    "\\Sigma = \\begin{bmatrix}1 & 0 \\\\ 0 & 1 \\end{bmatrix} \n",
    "$$\n",
    "\n",
    "이면 \n",
    "\n",
    "$$ \n",
    "|\\Sigma|^{1/2} = 1. \\;\\;\\;\n",
    "\\Sigma^{-1} = \\begin{bmatrix}1 & 0 \\\\ 0 & 1 \\end{bmatrix}\n",
    "$$\n",
    "\n",
    "$$ \n",
    "(x-\\mu)^T \\Sigma^{-1} (x-\\mu) =  \n",
    "\\begin{bmatrix}x_1 - 2 & x_2 - 3 \\end{bmatrix}\n",
    "\\begin{bmatrix}1 & 0 \\\\ 0 & 1 \\end{bmatrix} \n",
    "\\begin{bmatrix}x_1 - 2 \\\\ x_2 - 3 \\end{bmatrix}\n",
    "=\n",
    "(x_1 - 2)^2 + (x_2 - 3)^2\n",
    "$$\n",
    "\n",
    "$$\n",
    "\\mathcal{N}(x_1, x_2) = \\dfrac{1}{\\sqrt{2\\pi}}\n",
    "\\exp \\left( -\\dfrac{1}{2} \\left( (x_1 - 2)^2 + (x_2 - 3)^2 \\right) \\right)\n",
    "$$\n",
    "\n",
    "이 확률 밀도 함수의 모양은 다음과 같다."
   ]
  },
  {
   "cell_type": "code",
   "execution_count": 16,
   "metadata": {
    "collapsed": false
   },
   "outputs": [
    {
     "data": {
      "image/png": "[encoded data removed]",
      "text/plain": [
       "<matplotlib.figure.Figure at 0xb686fd0>"
      ]
     },
     "metadata": {},
     "output_type": "display_data"
    }
   ],
   "source": [
    "mu = [2, 3]\n",
    "cov = [[1, 0], [0, 1]]\n",
    "rv = sp.stats.multivariate_normal(mu, cov)\n",
    "xx = np.linspace(0, 4, 120)\n",
    "yy = np.linspace(1, 5, 150)\n",
    "XX, YY = np.meshgrid(xx, yy)\n",
    "plt.grid(False)\n",
    "plt.contourf(XX, YY, rv.pdf(np.dstack([XX, YY])))\n",
    "plt.axis(\"equal\")\n",
    "plt.show()"
   ]
  },
  {
   "cell_type": "markdown",
   "metadata": {},
   "source": [
    "### 경우 2"
   ]
  },
  {
   "cell_type": "markdown",
   "metadata": {},
   "source": [
    "\n",
    "만약\n",
    "\n",
    "$$ \n",
    "\\mu = \\begin{bmatrix}2 \\\\ 3 \\end{bmatrix}. \\;\\;\\;\n",
    "\\Sigma = \\begin{bmatrix}2 & 3 \\\\ 3 & 7 \\end{bmatrix} \n",
    "$$\n",
    "\n",
    "이면 \n",
    "$$ \n",
    "|  \\Sigma | = 5,\\;\\;\\;\n",
    "\\Sigma^{-1} = \\begin{bmatrix}1.4 & -0.6 \\\\ -0.6 & 0.4 \\end{bmatrix}\n",
    "$$\n",
    "\n",
    "$$ \n",
    "(x-\\mu)^T \\Sigma^{-1} (x-\\mu) =  \n",
    "\\begin{bmatrix}x_1 - 2 & x_2 - 3 \\end{bmatrix}\n",
    "\\begin{bmatrix}1.4 & -0.6 \\\\ -0.6 & 0.4\\end{bmatrix}\n",
    "\\begin{bmatrix}x_1 - 2 \\\\ x_2 - 3 \\end{bmatrix}\n",
    "=\n",
    "\\dfrac{1}{10}\\left(14(x_1 - 2)^2 - 12(x_1 - 2)(x_2 - 3) + 4(x_2 - 3)^2\\right)\n",
    "$$\n",
    "\n",
    "$$\n",
    "\\mathcal{N}(x_1, x_2) = \\dfrac{1}{\\sqrt{20\\pi}}\n",
    "\\exp \\left( -\\dfrac{1}{10}\\left(7(x_1 - 2)^2 - 6(x_1 - 2)(x_2 - 3) + 2(x_2 - 3)^2\\right) \\right)\n",
    "$$\n",
    "\n",
    "이 확률 밀도 함수의 모양은 다음과 같다."
   ]
  },
  {
   "cell_type": "code",
   "execution_count": 2,
   "metadata": {
    "collapsed": false
   },
   "outputs": [
    {
     "data": {
      "image/png": "[encoded data removed]",
      "text/plain": [
       "<matplotlib.figure.Figure at 0xa9dba58>"
      ]
     },
     "metadata": {},
     "output_type": "display_data"
    }
   ],
   "source": [
    "mu = [2, 3]\n",
    "cov = [[2, 3], [3, 7]]\n",
    "rv = sp.stats.multivariate_normal(mu, cov)\n",
    "xx = np.linspace(0, 4, 120)\n",
    "yy = np.linspace(1, 5, 150)\n",
    "XX, YY = np.meshgrid(xx, yy)\n",
    "plt.grid(False)\n",
    "plt.contourf(XX, YY, rv.pdf(np.dstack([XX, YY])))\n",
    "plt.axis(\"equal\")\n",
    "plt.show()"
   ]
  },
  {
   "cell_type": "markdown",
   "metadata": {},
   "source": [
    "## 다변수 정규 분포의 최적화"
   ]
  },
  {
   "cell_type": "markdown",
   "metadata": {},
   "source": [
    "* mu만 변수. 시그마는 상수. mu 값을 찾는 문제\n",
    "* 크기는 찌그러들지만 높이는 변하지 않기 때문에 로그를 취한 함수를 최적화 하는 것이 일반적이다.\n",
    "* 독립적인 것은 그냥 2개의 pdf를 곱하면 된다."
   ]
  },
  {
   "cell_type": "markdown",
   "metadata": {},
   "source": [
    "다변수 정규 분포를 모수에 대해 최적화하는 문제를 풀어보자. 어떤 함수에 로그를 취해도 최고점이나 최저점의 위치는 변하지 않기 때문에 문제를 쉽게 하기 위해 로그를 취한 분포함수를 최적화를 한다. \n",
    "\n",
    "$$ \\log \\mathcal{N}(x|\\mu, \\Sigma) = -\\dfrac{1}{2} \\log|\\Sigma| - \\dfrac{1}{2} (x-\\mu)^T \\Sigma^{-1} (x-\\mu)  $$\n",
    "\n",
    "\n",
    "기호를 단순하게 하기 위해 precision matrix $\\Sigma ^{-1} $를 $ \\Lambda$ 로 표시한다.\n",
    "\n",
    "$$ \\dfrac{1}{2} f = \\log \\mathcal{N}(x|\\mu, \\Sigma) = \\dfrac{1}{2} \\log|\\Lambda| - \\dfrac{1}{2} (x-\\mu)^T \\Lambda (x-\\mu)  $$"
   ]
  },
  {
   "cell_type": "markdown",
   "metadata": {},
   "source": [
    "스칼라 함수 $f$ 를 평균 벡터 $\\mu$로 미분하면 다음과 같다.\n",
    "\n",
    "$$\n",
    "\\begin{eqnarray}\n",
    "\\dfrac{\\partial f}{\\partial \\mu} \n",
    "&=& \\dfrac{\\partial}{\\partial \\mu} \\big( \\log | \\Lambda | \\big) - \\dfrac{\\partial}{\\partial \\mu} \\big( (x-\\mu)^T \\Lambda (x-\\mu) \\big) \\\\\n",
    "&=& (\\Lambda + \\Lambda^T)(x-\\mu) \\\\\n",
    "&=& 0\n",
    "\\end{eqnarray}\n",
    "$$\n",
    "\n",
    "$$\n",
    "\\therefore  \\;\\; \\mu = x\n",
    "$$"
   ]
  },
  {
   "cell_type": "markdown",
   "metadata": {},
   "source": [
    "이번에는 두 개의 다변수 정규 분포 확률 변수 $X$, $Y$가 있을 경우를 생각해 보자. 두 확률 변수가 독립이며 모수 $\\mu$, $\\Lambda$가 같다고 가정하자.\n",
    "\n",
    "이 때 로그 정규 분포는 다음과 같다.\n",
    "\n",
    "\n",
    "$$ \n",
    "\\begin{eqnarray}\n",
    "\\dfrac{1}{2}f\n",
    "&=& \\log \\left( \\mathcal{N}(x|\\mu, \\Sigma)\\mathcal{N}(y|\\mu, \\Sigma)\\right)  \\\\\n",
    "&=& \\log \\mathcal{N}(x|\\mu, \\Sigma) + \\log \\mathcal{N}(y|\\mu, \\Sigma) \\\\\n",
    "&=& - \\log|\\Sigma| - \\dfrac{1}{2} (x-\\mu)^T \\Lambda (x-\\mu) - \\dfrac{1}{2} (y-\\mu)^T \\Lambda  (y-\\mu)  \n",
    "\\end{eqnarray}\n",
    "$$"
   ]
  },
  {
   "cell_type": "markdown",
   "metadata": {},
   "source": [
    "이 함수 $f$를 평균 벡터 $\\mu$와 precision matrix $\\Lambda$ 로 미분하면 다음과 같다.\n",
    "\n",
    "$$\n",
    "\\begin{eqnarray}\n",
    "\\dfrac{\\partial f}{\\partial \\mu} \n",
    "&=& \\dfrac{\\partial}{\\partial \\mu} \\big( 2\\log | \\Lambda | \\big) \n",
    "- \\dfrac{\\partial}{\\partial \\mu} \\big( (x-\\mu)^T \\Lambda (x-\\mu) \\big) \n",
    "- \\dfrac{\\partial}{\\partial \\mu} \\big( (y-\\mu)^T \\Lambda (y-\\mu) \\big) \\\\\n",
    "&=& (\\Lambda + \\Lambda^T)(x-\\mu) + (\\Lambda + \\Lambda^T)(y-\\mu) \\\\\n",
    "&=& 0\n",
    "\\end{eqnarray}\n",
    "$$\n",
    "\n",
    "$$\n",
    "\\therefore  \\;\\; \\mu = \\dfrac{x + y}{2}\n",
    "$$\n",
    "\n",
    "\n",
    "$$\n",
    "\\begin{eqnarray}\n",
    "\\dfrac{\\partial f}{\\partial \\Lambda} \n",
    "&=& \\dfrac{\\partial}{\\partial \\Lambda} \\big( 2\\log | \\Lambda | \\big) \n",
    "- \\dfrac{\\partial}{\\partial \\Lambda} \\big( (x-\\mu)^T \\Lambda (x-\\mu) \\big) \n",
    "- \\dfrac{\\partial}{\\partial \\Lambda} \\big( (y-\\mu)^T \\Lambda (y-\\mu) \\big) \\\\\n",
    "&=& (2\\Lambda^{-1})^T \n",
    "- \\dfrac{\\partial}{\\partial \\Lambda} \\left( \\text{tr} \\left( (x-\\mu)(x-\\mu)^T \\Lambda \\right) \\right) \n",
    "- \\dfrac{\\partial}{\\partial \\Lambda} \\left( \\text{tr} \\left( (y-\\mu)(y-\\mu)^T \\Lambda \\right) \\right) \\\\\n",
    "&=& 2\\Sigma^T - ((x-\\mu)(x-\\mu)^T)^T  - ((y-\\mu)(y-\\mu)^T)^T \\\\\n",
    "&=& 0\n",
    "\\end{eqnarray}\n",
    "$$\n",
    "\n",
    "$$\n",
    "\\therefore  \\;\\; \\Sigma = \\dfrac{1}{2} \\left( (x-\\mu)(x-\\mu)^T + (y-\\mu)(y-\\mu)^T \\right)\n",
    "$$"
   ]
  }
 ],
 "metadata": {
  "kernelspec": {
   "display_name": "Python [Root]",
   "language": "python",
   "name": "Python [Root]"
  },
  "language_info": {
   "codemirror_mode": {
    "name": "ipython",
    "version": 3
   },
   "file_extension": ".py",
   "mimetype": "text/x-python",
   "name": "python",
   "nbconvert_exporter": "python",
   "pygments_lexer": "ipython3",
   "version": "3.5.1"
  }
 },
 "nbformat": 4,
 "nbformat_minor": 0
}
