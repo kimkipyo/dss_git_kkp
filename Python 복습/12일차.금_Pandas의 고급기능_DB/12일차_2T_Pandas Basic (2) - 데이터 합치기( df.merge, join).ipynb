{
 "cells": [
  {
   "cell_type": "markdown",
   "metadata": {},
   "source": [
    "# 2T_Pandas Basic (2) - 데이터 합치기( df.merge, join)"
   ]
  },
  {
   "cell_type": "code",
   "execution_count": 1,
   "metadata": {
    "collapsed": true
   },
   "outputs": [],
   "source": [
    "users_df = pd.DataFrame(columns=[\"Name\", \"Age\", \"Signup Date\"])"
   ]
  },
  {
   "cell_type": "code",
   "execution_count": 2,
   "metadata": {
    "collapsed": false
   },
   "outputs": [
    {
     "data": {
      "text/html": [
       "<div>\n",
       "<table border=\"1\" class=\"dataframe\">\n",
       "  <thead>\n",
       "    <tr style=\"text-align: right;\">\n",
       "      <th></th>\n",
       "      <th>Name</th>\n",
       "      <th>Age</th>\n",
       "      <th>Signup Date</th>\n",
       "    </tr>\n",
       "  </thead>\n",
       "  <tbody>\n",
       "    <tr>\n",
       "      <th>0</th>\n",
       "      <td>김기표</td>\n",
       "      <td>29</td>\n",
       "      <td>2016-05-18</td>\n",
       "    </tr>\n",
       "    <tr>\n",
       "      <th>1</th>\n",
       "      <td>백인국</td>\n",
       "      <td>29</td>\n",
       "      <td>2016-04-03</td>\n",
       "    </tr>\n",
       "  </tbody>\n",
       "</table>\n",
       "</div>"
      ],
      "text/plain": [
       "  Name Age Signup Date\n",
       "0  김기표  29  2016-05-18\n",
       "1  백인국  29  2016-04-03"
      ]
     },
     "execution_count": 2,
     "metadata": {},
     "output_type": "execute_result"
    }
   ],
   "source": [
    "# 가입일의 경우에는 2016 - 05 - 01 이런 형태로\n",
    "users_df.loc[0] = [\"김기표\", \"29\", \"2016-05-18\"]\n",
    "users_df.loc[1] = [\"백인국\", \"29\", \"2016-04-03\"]\n",
    "users_df"
   ]
  },
  {
   "cell_type": "code",
   "execution_count": 3,
   "metadata": {
    "collapsed": false
   },
   "outputs": [
    {
     "data": {
      "text/html": [
       "<div>\n",
       "<table border=\"1\" class=\"dataframe\">\n",
       "  <thead>\n",
       "    <tr style=\"text-align: right;\">\n",
       "      <th></th>\n",
       "      <th>Amount</th>\n",
       "      <th>Purchase Date</th>\n",
       "    </tr>\n",
       "  </thead>\n",
       "  <tbody>\n",
       "  </tbody>\n",
       "</table>\n",
       "</div>"
      ],
      "text/plain": [
       "Empty DataFrame\n",
       "Columns: [Amount, Purchase Date]\n",
       "Index: []"
      ]
     },
     "execution_count": 3,
     "metadata": {},
     "output_type": "execute_result"
    }
   ],
   "source": [
    "purchase_df = pd.DataFrame(columns=[\"Amount\", \"Purchase Date\"])\n",
    "purchase_df"
   ]
  },
  {
   "cell_type": "code",
   "execution_count": 4,
   "metadata": {
    "collapsed": true
   },
   "outputs": [],
   "source": [
    "# 2개의 정보가 서로 연결되기 위해서 새로운 숫자를 부여해야 한다.\n",
    "users_df = pd.DataFrame(columns=[\"id\", \"Name\", \"Age\", \"Signup Date\"])\n",
    "users_df.loc[0] = [\"1\", \"김기표\", \"29\", \"2016-05-18\"]\n",
    "users_df.loc[1] = [\"2\", \"백인국\", \"29\", \"2016-04-03\"]"
   ]
  },
  {
   "cell_type": "code",
   "execution_count": 5,
   "metadata": {
    "collapsed": false
   },
   "outputs": [
    {
     "data": {
      "text/html": [
       "<div>\n",
       "<table border=\"1\" class=\"dataframe\">\n",
       "  <thead>\n",
       "    <tr style=\"text-align: right;\">\n",
       "      <th></th>\n",
       "      <th>User ID</th>\n",
       "      <th>Amount</th>\n",
       "      <th>Purchase Date</th>\n",
       "    </tr>\n",
       "  </thead>\n",
       "  <tbody>\n",
       "    <tr>\n",
       "      <th>0</th>\n",
       "      <td>1</td>\n",
       "      <td>4000</td>\n",
       "      <td>2016-05-18</td>\n",
       "    </tr>\n",
       "    <tr>\n",
       "      <th>1</th>\n",
       "      <td>1</td>\n",
       "      <td>8000</td>\n",
       "      <td>2016-05-25</td>\n",
       "    </tr>\n",
       "    <tr>\n",
       "      <th>2</th>\n",
       "      <td>2</td>\n",
       "      <td>12000</td>\n",
       "      <td>2016-06-18</td>\n",
       "    </tr>\n",
       "    <tr>\n",
       "      <th>3</th>\n",
       "      <td>2</td>\n",
       "      <td>15000</td>\n",
       "      <td>2016-08-18</td>\n",
       "    </tr>\n",
       "    <tr>\n",
       "      <th>4</th>\n",
       "      <td>2</td>\n",
       "      <td>18000</td>\n",
       "      <td>2016-09-18</td>\n",
       "    </tr>\n",
       "  </tbody>\n",
       "</table>\n",
       "</div>"
      ],
      "text/plain": [
       "  User ID Amount Purchase Date\n",
       "0       1   4000    2016-05-18\n",
       "1       1   8000    2016-05-25\n",
       "2       2  12000    2016-06-18\n",
       "3       2  15000    2016-08-18\n",
       "4       2  18000    2016-09-18"
      ]
     },
     "execution_count": 5,
     "metadata": {},
     "output_type": "execute_result"
    }
   ],
   "source": [
    "purchase_df = pd.DataFrame(columns=[\"User ID\", \"Amount\", \"Purchase Date\"])\n",
    "purchase_df.loc[0] = [\"1\", \"4000\", \"2016-05-18\"]\n",
    "purchase_df.loc[1] = [\"1\", \"8000\", \"2016-05-25\"]\n",
    "purchase_df.loc[2] = [\"2\", \"12000\", \"2016-06-18\"]\n",
    "purchase_df.loc[3] = [\"2\", \"15000\", \"2016-08-18\"]\n",
    "purchase_df.loc[4] = [\"2\", \"18000\", \"2016-09-18\"]\n",
    "purchase_df"
   ]
  },
  {
   "cell_type": "code",
   "execution_count": 6,
   "metadata": {
    "collapsed": true
   },
   "outputs": [],
   "source": [
    "# for 문을 돌리면서, Purchase => 언제 가입한 유저가 언제 구입을 했는지 알기 위해서 df를 합쳐보아라"
   ]
  },
  {
   "cell_type": "code",
   "execution_count": 10,
   "metadata": {
    "collapsed": false
   },
   "outputs": [],
   "source": [
    "purchase_df[\"Signup Date\"] = \"\"\n",
    "\n",
    "for index, row in purchase_df.iterrows():\n",
    "    user_id = row[\"User ID\"]\n",
    "    \n",
    "    is_user = users_df[\"id\"] == user_id  # Series\n",
    "    matched_user_df = users_df[is_user].reset_index(drop=True).loc[0] # DataFrame \n",
    "    # loc[0] 으로 찾을 수 있게 하기 위해서 reset_index(drop=True) 를 수행한다.\n",
    "    signup_date = matched_user_df[\"Signup Date\"]\n",
    "#     print(signup_date)\n",
    "    \n",
    "    purchase_df.loc[index][\"Signup Date\"] = signup_date"
   ]
  },
  {
   "cell_type": "code",
   "execution_count": 9,
   "metadata": {
    "collapsed": false
   },
   "outputs": [
    {
     "data": {
      "text/html": [
       "<div>\n",
       "<table border=\"1\" class=\"dataframe\">\n",
       "  <thead>\n",
       "    <tr style=\"text-align: right;\">\n",
       "      <th></th>\n",
       "      <th>User ID</th>\n",
       "      <th>Amount</th>\n",
       "      <th>Purchase Date</th>\n",
       "      <th>Signup Date</th>\n",
       "    </tr>\n",
       "  </thead>\n",
       "  <tbody>\n",
       "    <tr>\n",
       "      <th>0</th>\n",
       "      <td>1</td>\n",
       "      <td>4000</td>\n",
       "      <td>2016-05-18</td>\n",
       "      <td>2016-05-18</td>\n",
       "    </tr>\n",
       "    <tr>\n",
       "      <th>1</th>\n",
       "      <td>1</td>\n",
       "      <td>8000</td>\n",
       "      <td>2016-05-25</td>\n",
       "      <td>2016-05-18</td>\n",
       "    </tr>\n",
       "    <tr>\n",
       "      <th>2</th>\n",
       "      <td>2</td>\n",
       "      <td>12000</td>\n",
       "      <td>2016-06-18</td>\n",
       "      <td>2016-04-03</td>\n",
       "    </tr>\n",
       "    <tr>\n",
       "      <th>3</th>\n",
       "      <td>2</td>\n",
       "      <td>15000</td>\n",
       "      <td>2016-08-18</td>\n",
       "      <td>2016-04-03</td>\n",
       "    </tr>\n",
       "    <tr>\n",
       "      <th>4</th>\n",
       "      <td>2</td>\n",
       "      <td>18000</td>\n",
       "      <td>2016-09-18</td>\n",
       "      <td>2016-04-03</td>\n",
       "    </tr>\n",
       "  </tbody>\n",
       "</table>\n",
       "</div>"
      ],
      "text/plain": [
       "  User ID Amount Purchase Date Signup Date\n",
       "0       1   4000    2016-05-18  2016-05-18\n",
       "1       1   8000    2016-05-25  2016-05-18\n",
       "2       2  12000    2016-06-18  2016-04-03\n",
       "3       2  15000    2016-08-18  2016-04-03\n",
       "4       2  18000    2016-09-18  2016-04-03"
      ]
     },
     "execution_count": 9,
     "metadata": {},
     "output_type": "execute_result"
    }
   ],
   "source": [
    "purchase_df"
   ]
  },
  {
   "cell_type": "code",
   "execution_count": 11,
   "metadata": {
    "collapsed": true
   },
   "outputs": [],
   "source": [
    "# Pandas 스러운 방법으로 데이터를 합치기 ( merge )\n",
    "#   + 번외, 더 쉽게 merge 하기 위해서, Column 이름을 변경하는 방법"
   ]
  },
  {
   "cell_type": "code",
   "execution_count": 13,
   "metadata": {
    "collapsed": false
   },
   "outputs": [
    {
     "data": {
      "text/html": [
       "<div>\n",
       "<table border=\"1\" class=\"dataframe\">\n",
       "  <thead>\n",
       "    <tr style=\"text-align: right;\">\n",
       "      <th></th>\n",
       "      <th>User ID</th>\n",
       "      <th>Amount</th>\n",
       "      <th>Purchase Date</th>\n",
       "      <th>Signup Date_x</th>\n",
       "      <th>id</th>\n",
       "      <th>Name</th>\n",
       "      <th>Age</th>\n",
       "      <th>Signup Date_y</th>\n",
       "    </tr>\n",
       "  </thead>\n",
       "  <tbody>\n",
       "    <tr>\n",
       "      <th>0</th>\n",
       "      <td>1</td>\n",
       "      <td>4000</td>\n",
       "      <td>2016-05-18</td>\n",
       "      <td>2016-05-18</td>\n",
       "      <td>1</td>\n",
       "      <td>김기표</td>\n",
       "      <td>29</td>\n",
       "      <td>2016-05-18</td>\n",
       "    </tr>\n",
       "    <tr>\n",
       "      <th>1</th>\n",
       "      <td>1</td>\n",
       "      <td>8000</td>\n",
       "      <td>2016-05-25</td>\n",
       "      <td>2016-05-18</td>\n",
       "      <td>1</td>\n",
       "      <td>김기표</td>\n",
       "      <td>29</td>\n",
       "      <td>2016-05-18</td>\n",
       "    </tr>\n",
       "    <tr>\n",
       "      <th>2</th>\n",
       "      <td>2</td>\n",
       "      <td>12000</td>\n",
       "      <td>2016-06-18</td>\n",
       "      <td>2016-04-03</td>\n",
       "      <td>2</td>\n",
       "      <td>백인국</td>\n",
       "      <td>29</td>\n",
       "      <td>2016-04-03</td>\n",
       "    </tr>\n",
       "    <tr>\n",
       "      <th>3</th>\n",
       "      <td>2</td>\n",
       "      <td>15000</td>\n",
       "      <td>2016-08-18</td>\n",
       "      <td>2016-04-03</td>\n",
       "      <td>2</td>\n",
       "      <td>백인국</td>\n",
       "      <td>29</td>\n",
       "      <td>2016-04-03</td>\n",
       "    </tr>\n",
       "    <tr>\n",
       "      <th>4</th>\n",
       "      <td>2</td>\n",
       "      <td>18000</td>\n",
       "      <td>2016-09-18</td>\n",
       "      <td>2016-04-03</td>\n",
       "      <td>2</td>\n",
       "      <td>백인국</td>\n",
       "      <td>29</td>\n",
       "      <td>2016-04-03</td>\n",
       "    </tr>\n",
       "  </tbody>\n",
       "</table>\n",
       "</div>"
      ],
      "text/plain": [
       "  User ID Amount Purchase Date Signup Date_x id Name Age Signup Date_y\n",
       "0       1   4000    2016-05-18    2016-05-18  1  김기표  29    2016-05-18\n",
       "1       1   8000    2016-05-25    2016-05-18  1  김기표  29    2016-05-18\n",
       "2       2  12000    2016-06-18    2016-04-03  2  백인국  29    2016-04-03\n",
       "3       2  15000    2016-08-18    2016-04-03  2  백인국  29    2016-04-03\n",
       "4       2  18000    2016-09-18    2016-04-03  2  백인국  29    2016-04-03"
      ]
     },
     "execution_count": 13,
     "metadata": {},
     "output_type": "execute_result"
    }
   ],
   "source": [
    "purchase_df.merge(users_df, left_on=\"User ID\", right_on=\"id\")"
   ]
  },
  {
   "cell_type": "code",
   "execution_count": 14,
   "metadata": {
    "collapsed": false
   },
   "outputs": [
    {
     "data": {
      "text/html": [
       "<div>\n",
       "<table border=\"1\" class=\"dataframe\">\n",
       "  <thead>\n",
       "    <tr style=\"text-align: right;\">\n",
       "      <th></th>\n",
       "      <th>id</th>\n",
       "      <th>Name</th>\n",
       "      <th>Age</th>\n",
       "      <th>Signup Date</th>\n",
       "    </tr>\n",
       "  </thead>\n",
       "  <tbody>\n",
       "    <tr>\n",
       "      <th>0</th>\n",
       "      <td>1</td>\n",
       "      <td>김기표</td>\n",
       "      <td>29</td>\n",
       "      <td>2016-05-18</td>\n",
       "    </tr>\n",
       "    <tr>\n",
       "      <th>1</th>\n",
       "      <td>2</td>\n",
       "      <td>백인국</td>\n",
       "      <td>29</td>\n",
       "      <td>2016-04-03</td>\n",
       "    </tr>\n",
       "  </tbody>\n",
       "</table>\n",
       "</div>"
      ],
      "text/plain": [
       "  id Name Age Signup Date\n",
       "0  1  김기표  29  2016-05-18\n",
       "1  2  백인국  29  2016-04-03"
      ]
     },
     "execution_count": 14,
     "metadata": {},
     "output_type": "execute_result"
    }
   ],
   "source": [
    "# 번외로 기존 Column 이름을 변경하기\n",
    "users_df"
   ]
  },
  {
   "cell_type": "code",
   "execution_count": 15,
   "metadata": {
    "collapsed": false
   },
   "outputs": [
    {
     "data": {
      "text/html": [
       "<div>\n",
       "<table border=\"1\" class=\"dataframe\">\n",
       "  <thead>\n",
       "    <tr style=\"text-align: right;\">\n",
       "      <th></th>\n",
       "      <th>User ID</th>\n",
       "      <th>Amount</th>\n",
       "      <th>Purchase Date</th>\n",
       "      <th>Signup Date</th>\n",
       "    </tr>\n",
       "  </thead>\n",
       "  <tbody>\n",
       "    <tr>\n",
       "      <th>0</th>\n",
       "      <td>1</td>\n",
       "      <td>4000</td>\n",
       "      <td>2016-05-18</td>\n",
       "      <td>2016-05-18</td>\n",
       "    </tr>\n",
       "    <tr>\n",
       "      <th>1</th>\n",
       "      <td>1</td>\n",
       "      <td>8000</td>\n",
       "      <td>2016-05-25</td>\n",
       "      <td>2016-05-18</td>\n",
       "    </tr>\n",
       "    <tr>\n",
       "      <th>2</th>\n",
       "      <td>2</td>\n",
       "      <td>12000</td>\n",
       "      <td>2016-06-18</td>\n",
       "      <td>2016-04-03</td>\n",
       "    </tr>\n",
       "    <tr>\n",
       "      <th>3</th>\n",
       "      <td>2</td>\n",
       "      <td>15000</td>\n",
       "      <td>2016-08-18</td>\n",
       "      <td>2016-04-03</td>\n",
       "    </tr>\n",
       "    <tr>\n",
       "      <th>4</th>\n",
       "      <td>2</td>\n",
       "      <td>18000</td>\n",
       "      <td>2016-09-18</td>\n",
       "      <td>2016-04-03</td>\n",
       "    </tr>\n",
       "  </tbody>\n",
       "</table>\n",
       "</div>"
      ],
      "text/plain": [
       "  User ID Amount Purchase Date Signup Date\n",
       "0       1   4000    2016-05-18  2016-05-18\n",
       "1       1   8000    2016-05-25  2016-05-18\n",
       "2       2  12000    2016-06-18  2016-04-03\n",
       "3       2  15000    2016-08-18  2016-04-03\n",
       "4       2  18000    2016-09-18  2016-04-03"
      ]
     },
     "execution_count": 15,
     "metadata": {},
     "output_type": "execute_result"
    }
   ],
   "source": [
    "purchase_df"
   ]
  },
  {
   "cell_type": "code",
   "execution_count": 16,
   "metadata": {
    "collapsed": false
   },
   "outputs": [
    {
     "data": {
      "text/html": [
       "<div>\n",
       "<table border=\"1\" class=\"dataframe\">\n",
       "  <thead>\n",
       "    <tr style=\"text-align: right;\">\n",
       "      <th></th>\n",
       "      <th>User ID</th>\n",
       "      <th>Name</th>\n",
       "      <th>Age</th>\n",
       "      <th>Signup Date</th>\n",
       "    </tr>\n",
       "  </thead>\n",
       "  <tbody>\n",
       "    <tr>\n",
       "      <th>0</th>\n",
       "      <td>1</td>\n",
       "      <td>김기표</td>\n",
       "      <td>29</td>\n",
       "      <td>2016-05-18</td>\n",
       "    </tr>\n",
       "    <tr>\n",
       "      <th>1</th>\n",
       "      <td>2</td>\n",
       "      <td>백인국</td>\n",
       "      <td>29</td>\n",
       "      <td>2016-04-03</td>\n",
       "    </tr>\n",
       "  </tbody>\n",
       "</table>\n",
       "</div>"
      ],
      "text/plain": [
       "  User ID Name Age Signup Date\n",
       "0       1  김기표  29  2016-05-18\n",
       "1       2  백인국  29  2016-04-03"
      ]
     },
     "execution_count": 16,
     "metadata": {},
     "output_type": "execute_result"
    }
   ],
   "source": [
    "users_df.rename(columns={\"id\": \"User ID\"}, inplace=True)\n",
    "users_df"
   ]
  },
  {
   "cell_type": "code",
   "execution_count": 17,
   "metadata": {
    "collapsed": false
   },
   "outputs": [
    {
     "data": {
      "text/html": [
       "<div>\n",
       "<table border=\"1\" class=\"dataframe\">\n",
       "  <thead>\n",
       "    <tr style=\"text-align: right;\">\n",
       "      <th></th>\n",
       "      <th>User ID</th>\n",
       "      <th>Amount</th>\n",
       "      <th>Purchase Date</th>\n",
       "      <th>Signup Date</th>\n",
       "      <th>Name</th>\n",
       "      <th>Age</th>\n",
       "    </tr>\n",
       "  </thead>\n",
       "  <tbody>\n",
       "    <tr>\n",
       "      <th>0</th>\n",
       "      <td>1</td>\n",
       "      <td>4000</td>\n",
       "      <td>2016-05-18</td>\n",
       "      <td>2016-05-18</td>\n",
       "      <td>김기표</td>\n",
       "      <td>29</td>\n",
       "    </tr>\n",
       "    <tr>\n",
       "      <th>1</th>\n",
       "      <td>1</td>\n",
       "      <td>8000</td>\n",
       "      <td>2016-05-25</td>\n",
       "      <td>2016-05-18</td>\n",
       "      <td>김기표</td>\n",
       "      <td>29</td>\n",
       "    </tr>\n",
       "    <tr>\n",
       "      <th>2</th>\n",
       "      <td>2</td>\n",
       "      <td>12000</td>\n",
       "      <td>2016-06-18</td>\n",
       "      <td>2016-04-03</td>\n",
       "      <td>백인국</td>\n",
       "      <td>29</td>\n",
       "    </tr>\n",
       "    <tr>\n",
       "      <th>3</th>\n",
       "      <td>2</td>\n",
       "      <td>15000</td>\n",
       "      <td>2016-08-18</td>\n",
       "      <td>2016-04-03</td>\n",
       "      <td>백인국</td>\n",
       "      <td>29</td>\n",
       "    </tr>\n",
       "    <tr>\n",
       "      <th>4</th>\n",
       "      <td>2</td>\n",
       "      <td>18000</td>\n",
       "      <td>2016-09-18</td>\n",
       "      <td>2016-04-03</td>\n",
       "      <td>백인국</td>\n",
       "      <td>29</td>\n",
       "    </tr>\n",
       "  </tbody>\n",
       "</table>\n",
       "</div>"
      ],
      "text/plain": [
       "  User ID Amount Purchase Date Signup Date Name Age\n",
       "0       1   4000    2016-05-18  2016-05-18  김기표  29\n",
       "1       1   8000    2016-05-25  2016-05-18  김기표  29\n",
       "2       2  12000    2016-06-18  2016-04-03  백인국  29\n",
       "3       2  15000    2016-08-18  2016-04-03  백인국  29\n",
       "4       2  18000    2016-09-18  2016-04-03  백인국  29"
      ]
     },
     "execution_count": 17,
     "metadata": {},
     "output_type": "execute_result"
    }
   ],
   "source": [
    "purchase_df.merge(users_df)\n",
    "# purchase_df.merge(users_df, left_on=\"User ID\", right_on=\"User ID\")"
   ]
  },
  {
   "cell_type": "markdown",
   "metadata": {},
   "source": [
    "* 항상 데이터가 완결하다는 보장이 없기 때문에,\n",
    "* SQL에서는 조인, Pandas에서는 merge를 쓴다. 이 방법이 중요하다."
   ]
  },
  {
   "cell_type": "code",
   "execution_count": 18,
   "metadata": {
    "collapsed": true
   },
   "outputs": [],
   "source": [
    "users_df.merge?\n",
    "#inner, outer, ... 기본값으로 inner 조인이다."
   ]
  }
 ],
 "metadata": {
  "anaconda-cloud": {},
  "kernelspec": {
   "display_name": "Python [Root]",
   "language": "python",
   "name": "Python [Root]"
  },
  "language_info": {
   "codemirror_mode": {
    "name": "ipython",
    "version": 3
   },
   "file_extension": ".py",
   "mimetype": "text/x-python",
   "name": "python",
   "nbconvert_exporter": "python",
   "pygments_lexer": "ipython3",
   "version": "3.5.1"
  }
 },
 "nbformat": 4,
 "nbformat_minor": 0
}
