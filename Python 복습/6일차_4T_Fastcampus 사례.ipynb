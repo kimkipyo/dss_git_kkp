{
 "cells": [
  {
   "cell_type": "markdown",
   "metadata": {},
   "source": [
    "#### fastcampus 사례로 실습"
   ]
  },
  {
   "cell_type": "code",
   "execution_count": 1,
   "metadata": {
    "collapsed": false
   },
   "outputs": [],
   "source": [
    "class FastcampusPerson():  # 패스트캠퍼스에 있는 사람 한명 한명\n",
    "    # 학생과 매니저가 구분될 수 있어야 합니다.\n",
    "    # 대성님 => 1기 데사스, 2기 웹프스\n",
    "    # 재근님 => 1기 수강생 => 매니저에 의해서 매니저로 임명\n",
    "    \n",
    "    def __init__(self, name, is_manager=False):  #manager인 경우에 True로 바뀐다.\n",
    "        self.name = name\n",
    "        self.is_manager = is_manager\n",
    "        \n",
    "        # 만약 **kwargs 로 받았다면,\n",
    "        # self.is_manager = kwargs.get(\"is_manager\", False)\n",
    "    \n",
    "    def __str__(self):\n",
    "        return self.name"
   ]
  },
  {
   "cell_type": "code",
   "execution_count": 2,
   "metadata": {
    "collapsed": true
   },
   "outputs": [],
   "source": [
    "jypark = FastcampusPerson(\"박준영\", is_manager=True)\n",
    "donguk = FastcampusPerson(\"동욱님\")"
   ]
  },
  {
   "cell_type": "code",
   "execution_count": 3,
   "metadata": {
    "collapsed": false
   },
   "outputs": [
    {
     "data": {
      "text/plain": [
       "(True, False)"
      ]
     },
     "execution_count": 3,
     "metadata": {},
     "output_type": "execute_result"
    }
   ],
   "source": [
    "jypark.is_manager, donguk.is_manager"
   ]
  },
  {
   "cell_type": "code",
   "execution_count": 4,
   "metadata": {
    "collapsed": false
   },
   "outputs": [],
   "source": [
    "class FastcampusSchool():  # 패스트캠퍼스 스쿨 관리 클래스\n",
    "    \n",
    "    def __init__(self, name):\n",
    "        self.name = name\n",
    "        self.students = []\n",
    "        # manager_list = []\n",
    "    \n",
    "    def add_student(self, manager, student):\n",
    "        if manager.is_manager:\n",
    "            print(\"매니저 '{manager}' 이/가 학생 '{student}' 을/를 추가했습니다.\".format(\n",
    "                manager=manager.name,   # manager => FastcampusPerson object,\n",
    "                student=student.name,   # student => FastcampusPerson object,\n",
    "            ))\n",
    "            \n",
    "    # 단, 학생이 학생을 초대하면 ('add_student') => 에러가 발생해야 한다.\n",
    "    \n",
    "        else:\n",
    "            raise PermissionDeniedError(manager)\n",
    "    \n",
    "    def show_students(self, manager):\n",
    "        pass\n",
    "\n",
    "    \n",
    "    def show_revenue(self, manager):\n",
    "        pass\n",
    "        # 전체 매출을 구하는 애 ( 학생 수 * 360 )\n",
    "        # 학생이 전체 매출을 구하려고 하면, => 에러가 발생해야 합니다.\n",
    "\n",
    "    def __str__(self):\n",
    "        return self.name"
   ]
  },
  {
   "cell_type": "code",
   "execution_count": 36,
   "metadata": {
    "collapsed": false
   },
   "outputs": [
    {
     "name": "stdout",
     "output_type": "stream",
     "text": [
      "웹 프로그래밍 SCHOOL\n"
     ]
    }
   ],
   "source": [
    "wps = FastcampusSchool(\"웹 프로그래밍 SCHOOL\")\n",
    "print(wps)"
   ]
  },
  {
   "cell_type": "code",
   "execution_count": 37,
   "metadata": {
    "collapsed": true
   },
   "outputs": [],
   "source": [
    "kipoy = FastcampusPerson(\"김기표\")\n",
    "jkpark = FastcampusPerson(\"박재근\", is_manager=True)"
   ]
  },
  {
   "cell_type": "code",
   "execution_count": 38,
   "metadata": {
    "collapsed": false
   },
   "outputs": [
    {
     "name": "stdout",
     "output_type": "stream",
     "text": [
      "매니저 '박재근' 이/가 학생 '김기표' 을/를 추가했습니다.\n"
     ]
    }
   ],
   "source": [
    "wps.add_student(jkpark, kipoy)"
   ]
  },
  {
   "cell_type": "code",
   "execution_count": 39,
   "metadata": {
    "collapsed": false,
    "scrolled": false
   },
   "outputs": [
    {
     "ename": "PermissionDeniedError",
     "evalue": "김기표 는/은 매니저가 아니라서, 권한이 없습니다.",
     "output_type": "error",
     "traceback": [
      "\u001b[1;31m---------------------------------------------------------------------------\u001b[0m",
      "\u001b[1;31mPermissionDeniedError\u001b[0m                     Traceback (most recent call last)",
      "\u001b[1;32m<ipython-input-39-589270cc44a3>\u001b[0m in \u001b[0;36m<module>\u001b[1;34m()\u001b[0m\n\u001b[1;32m----> 1\u001b[1;33m \u001b[0mwps\u001b[0m\u001b[1;33m.\u001b[0m\u001b[0madd_student\u001b[0m\u001b[1;33m(\u001b[0m\u001b[0mkipoy\u001b[0m\u001b[1;33m,\u001b[0m \u001b[0mdonguk\u001b[0m\u001b[1;33m)\u001b[0m\u001b[1;33m\u001b[0m\u001b[0m\n\u001b[0m",
      "\u001b[1;32m<ipython-input-31-ccc486ee1c93>\u001b[0m in \u001b[0;36madd_student\u001b[1;34m(self, manager, student)\u001b[0m\n\u001b[0;32m      8\u001b[0m     \u001b[1;32mdef\u001b[0m \u001b[0madd_student\u001b[0m\u001b[1;33m(\u001b[0m\u001b[0mself\u001b[0m\u001b[1;33m,\u001b[0m \u001b[0mmanager\u001b[0m\u001b[1;33m,\u001b[0m \u001b[0mstudent\u001b[0m\u001b[1;33m)\u001b[0m\u001b[1;33m:\u001b[0m\u001b[1;33m\u001b[0m\u001b[0m\n\u001b[0;32m      9\u001b[0m         \u001b[1;32mif\u001b[0m \u001b[1;32mnot\u001b[0m \u001b[0mmanager\u001b[0m\u001b[1;33m.\u001b[0m\u001b[0mis_manager\u001b[0m\u001b[1;33m:\u001b[0m\u001b[1;33m\u001b[0m\u001b[0m\n\u001b[1;32m---> 10\u001b[1;33m             \u001b[1;32mraise\u001b[0m \u001b[0mPermissionDeniedError\u001b[0m\u001b[1;33m(\u001b[0m\u001b[0mmanager\u001b[0m\u001b[1;33m)\u001b[0m\u001b[1;33m\u001b[0m\u001b[0m\n\u001b[0m\u001b[0;32m     11\u001b[0m         print(\"매니저 '{manager}' 이/가 학생 '{student}' 을/를 추가했습니다.\".format(\n\u001b[0;32m     12\u001b[0m                 \u001b[0mmanager\u001b[0m\u001b[1;33m=\u001b[0m\u001b[0mmanager\u001b[0m\u001b[1;33m.\u001b[0m\u001b[0mname\u001b[0m\u001b[1;33m,\u001b[0m\u001b[1;33m\u001b[0m\u001b[0m\n",
      "\u001b[1;31mPermissionDeniedError\u001b[0m: 김기표 는/은 매니저가 아니라서, 권한이 없습니다."
     ]
    }
   ],
   "source": [
    "wps.add_student(kipoy, donguk)"
   ]
  },
  {
   "cell_type": "code",
   "execution_count": 9,
   "metadata": {
    "collapsed": true
   },
   "outputs": [],
   "source": [
    "class PermissionDeniedError(Exception):\n",
    "    \n",
    "    def __init__(self, person):\n",
    "        self.person = person\n",
    "    \n",
    "    def __str__(self):\n",
    "        return \"{name} 는/은 매니저가 아니라서, 권한이 없습니다.\".format(\n",
    "            name=self.person.name,\n",
    "        )"
   ]
  },
  {
   "cell_type": "code",
   "execution_count": 60,
   "metadata": {
    "collapsed": false
   },
   "outputs": [],
   "source": [
    "class FastcampusSchool():\n",
    "    \n",
    "    def __init__(self, name):\n",
    "        self.name = name\n",
    "        self.students = set()\n",
    "        # manager_list = []\n",
    "    \n",
    "    def add_student(self, manager, student):\n",
    "        if not manager.is_manager:\n",
    "            raise PermissionDeniedError(manager)\n",
    "        print(\"매니저 '{manager}' 이/가 학생 '{student}' 을/를 추가했습니다.\".format(\n",
    "                manager=manager.name,  \n",
    "                student=student.name, \n",
    "        ))\n",
    "        self.students.add(student)\n",
    "\n",
    "    def show_students(self, manager):\n",
    "        pass\n",
    "\n",
    "    \n",
    "    def show_revenue(self, manager):\n",
    "        pass\n",
    "        # 전체 매출을 구하는 애 ( 학생 수 * 360 )\n",
    "        # 학생이 전체 매출을 구하려고 하면, => 에러가 발생해야 합니다.\n",
    "\n",
    "    def __str__(self):\n",
    "        return self.name"
   ]
  },
  {
   "cell_type": "code",
   "execution_count": 48,
   "metadata": {
    "collapsed": true
   },
   "outputs": [],
   "source": [
    "# class StudentAlreadyInSchool(Exception):\n",
    "#     def __init__(self, person):\n",
    "#         self.person = person\n",
    "        \n",
    "#     def __str__(self):\n",
    "#         pass\n",
    "\n",
    "#이렇게 예외처리 하는 것이 올바른 구현일까?\n",
    "#그렇다고 해서 2개의 다른 오류를 하나로 묶을 수는 없다.\n",
    "#대신 우리가 배운 자료구조를 쓰면 된다. 그래서 이 부분 제거\n",
    "#어차피 student가 중복을 포함하지 않는 집합이니까 students는 list보다 set이 더 적합"
   ]
  },
  {
   "cell_type": "code",
   "execution_count": 14,
   "metadata": {
    "collapsed": true
   },
   "outputs": [],
   "source": [
    "animals = set()"
   ]
  },
  {
   "cell_type": "code",
   "execution_count": 15,
   "metadata": {
    "collapsed": true
   },
   "outputs": [],
   "source": [
    "animals.add(\"dog\")"
   ]
  },
  {
   "cell_type": "code",
   "execution_count": 16,
   "metadata": {
    "collapsed": false
   },
   "outputs": [
    {
     "data": {
      "text/plain": [
       "{'dog'}"
      ]
     },
     "execution_count": 16,
     "metadata": {},
     "output_type": "execute_result"
    }
   ],
   "source": [
    "animals"
   ]
  },
  {
   "cell_type": "code",
   "execution_count": 17,
   "metadata": {
    "collapsed": true
   },
   "outputs": [],
   "source": [
    "animals.add(\"dog\")"
   ]
  },
  {
   "cell_type": "code",
   "execution_count": 18,
   "metadata": {
    "collapsed": false
   },
   "outputs": [
    {
     "data": {
      "text/plain": [
       "{'dog'}"
      ]
     },
     "execution_count": 18,
     "metadata": {},
     "output_type": "execute_result"
    }
   ],
   "source": [
    "animals"
   ]
  },
  {
   "cell_type": "code",
   "execution_count": 19,
   "metadata": {
    "collapsed": true
   },
   "outputs": [],
   "source": [
    "animals = []\n",
    "animals.append(\"dog\")"
   ]
  },
  {
   "cell_type": "code",
   "execution_count": 20,
   "metadata": {
    "collapsed": true
   },
   "outputs": [],
   "source": [
    "animals.append(\"dog\")"
   ]
  },
  {
   "cell_type": "code",
   "execution_count": 21,
   "metadata": {
    "collapsed": false
   },
   "outputs": [
    {
     "data": {
      "text/plain": [
       "['dog', 'dog']"
      ]
     },
     "execution_count": 21,
     "metadata": {},
     "output_type": "execute_result"
    }
   ],
   "source": [
    "animals"
   ]
  },
  {
   "cell_type": "code",
   "execution_count": 65,
   "metadata": {
    "collapsed": true
   },
   "outputs": [],
   "source": [
    "class FastcampusSchool():\n",
    "    \n",
    "    def __init__(self, name, *args, **kwargs):\n",
    "        self.name = name\n",
    "        self.students = set()\n",
    "        self.tuition = kwargs.get(\"tuition\", 480) \n",
    "        # 수강료가 따로 입력되지 않으면, 기본으로 480만원\n",
    "        # manager_list = []\n",
    "    \n",
    "    def add_student(self, manager, student):\n",
    "        if not manager.is_manager:\n",
    "            raise PermissionDeniedError(manager)\n",
    "        print(\"매니저 '{manager}' 이/가 학생 '{student}' 을/를 추가했습니다.\".format(\n",
    "                manager=manager.name,  \n",
    "                student=student.name, \n",
    "        ))\n",
    "        self.students.add(student)\n",
    "\n",
    "    def show_students(self, manager):\n",
    "        if not manager.is_manager:\n",
    "            raise PermissionDeniedError(manager)\n",
    "        print(\"----------------------------\")\n",
    "        print(\"--- Student/Manager List ---\")\n",
    "        print(\"----------------------------\")\n",
    "        message = \"\\n\".join([\n",
    "            \"{name} ( {role} )\".format(\n",
    "                name=student.name,\n",
    "                role=\"Manager\" if student.is_manager else \"Student\"\n",
    "            )\n",
    "            for student \n",
    "            in self.students\n",
    "        ])\n",
    "        print(message)\n",
    "        print(\"----------------------------\")\n",
    "\n",
    "    def show_revenue(self, manager):\n",
    "        # 전체 매출을 구하는 애 ( 학생 수 * 360 )\n",
    "        # 학생이 전체 매출을 구하려고 하면, => 에러가 발생해야 합니다.\n",
    "        total_revenue = len(self.students) * self.tuition\n",
    "        print(\"----------------------------\")\n",
    "        print(\"{total_students} 명 * {tuition} 만원\".format(total_students=len(self.students), tuition=self.tuition))\n",
    "        print(\"=> {total_revenue} 만원\".format(total_revenue=total_revenue))\n",
    "        print(\"----------------------------\")\n",
    "\n",
    "    def __str__(self):\n",
    "        return self.name"
   ]
  },
  {
   "cell_type": "code",
   "execution_count": 67,
   "metadata": {
    "collapsed": false
   },
   "outputs": [
    {
     "name": "stdout",
     "output_type": "stream",
     "text": [
      "매니저 '박재근' 이/가 학생 '김기표' 을/를 추가했습니다.\n",
      "매니저 '박재근' 이/가 학생 '동욱님' 을/를 추가했습니다.\n"
     ]
    },
    {
     "data": {
      "text/plain": [
       "{<__main__.FastcampusPerson at 0x849da20>,\n",
       " <__main__.FastcampusPerson at 0xadb8160>}"
      ]
     },
     "execution_count": 67,
     "metadata": {},
     "output_type": "execute_result"
    }
   ],
   "source": [
    "wps = FastcampusSchool(\"웹 프로그래밍 SCHOOL\", tuition=360)\n",
    "kipoy = FastcampusPerson(\"김기표\")\n",
    "jkpark = FastcampusPerson(\"박재근\", is_manager=True)\n",
    "wps.add_student(jkpark, kipoy)\n",
    "wps.add_student(jkpark, donguk)\n",
    "wps.students"
   ]
  },
  {
   "cell_type": "code",
   "execution_count": 69,
   "metadata": {
    "collapsed": false,
    "scrolled": true
   },
   "outputs": [
    {
     "name": "stdout",
     "output_type": "stream",
     "text": [
      "----------------------------\n",
      "--- Student/Manager List ---\n",
      "----------------------------\n",
      "김기표 ( Student )\n",
      "동욱님 ( Student )\n",
      "----------------------------\n",
      "----------------------------\n",
      "2 명 * 360 만원\n",
      "=> 720 만원\n",
      "----------------------------\n"
     ]
    },
    {
     "data": {
      "text/plain": [
       "(None, None)"
      ]
     },
     "execution_count": 69,
     "metadata": {},
     "output_type": "execute_result"
    }
   ],
   "source": [
    "wps.show_students(jkpark), wps.show_revenue(jkpark)"
   ]
  },
  {
   "cell_type": "code",
   "execution_count": 70,
   "metadata": {
    "collapsed": true
   },
   "outputs": [],
   "source": [
    "import inspect\n",
    "\n",
    "class PermissionDeniedError(Exception):\n",
    "    \n",
    "    def __init__(self, person):\n",
    "        self.person = person\n",
    "    \n",
    "    def __str__(self):\n",
    "        return \"{name} 은 매니저가 아니라서, 권한이 없습니다.\".format(\n",
    "            name=self.person.name,\n",
    "        )\n",
    "\n",
    "\n",
    "# 일단은 Function Decorator를 만들자.\n",
    "def is_manager(function):\n",
    "    def wrapper(*args, **kwargs):\n",
    "        #school, manager, student = args   # 범용성을 위해서 이 부분이 수정이 되어야 합니다.\n",
    "                                          # args => manager 라고 되어있는 부분\n",
    "                                          # args => 변수가 뭐가 뭔지 전혀 모른다.\n",
    "                \n",
    "        new_kwargs = inspect.getcallargs(function, *args, **kwargs)\n",
    "        # args = {\"dobestan\", \"24\"}\n",
    "        # kwargs = {\"favorite\": \"python\", ...}\n",
    "        # => new_kwargs = {\"name\": \"dobestan\", \"age\": \"24\", \"favorite\": \"python\", ...}\n",
    "        print(new_kwargs)\n",
    "        \n",
    "        manager = new_kwargs.get(\"manager\")\n",
    "        \n",
    "        if not manager.is_manager:\n",
    "            raise PermissionDeniedError(manager)\n",
    "        return function(*args, **kwargs)\n",
    "    return wrapper\n",
    "\n",
    "\n",
    "class FastcampusSchool():  # 패스트캠퍼스 스쿨 관리 클래스\n",
    "    \n",
    "    def __init__(self, name, *args, **kwargs):\n",
    "        self.name = name\n",
    "        self.students = set()\n",
    "        self.tuition = kwargs.get(\"tuition\", 480)  # 수강료가 따로 입력되지 않으면, 기본으로 480만원\n",
    "    \n",
    "    @is_manager\n",
    "    def add_student(self, manager, student):\n",
    "        print(\"매니저 '{manager}' 이/가 학생 '{student}' 을/를 추가했습니다.\".format(\n",
    "            manager=manager.name,   # manager => FastcampusPerson object,\n",
    "            student=student.name,   # student => FastcampusPerson object,\n",
    "        ))\n",
    "        self.students.add(student)\n",
    "        \n",
    "        \n",
    "    @is_manager\n",
    "    def show_students(self, manager):\n",
    "        print(\"----------------------------\")\n",
    "        print(\"--- Student/Manager List ---\")\n",
    "        print(\"----------------------------\")\n",
    "        message = \"\\n\".join([\n",
    "            \"{name} ( {role} )\".format(\n",
    "                name=student.name,\n",
    "                role=\"Manager\" if student.is_manager else \"Student\"\n",
    "            )\n",
    "            for student \n",
    "            in self.students\n",
    "        ])\n",
    "        print(message)\n",
    "        print(\"----------------------------\")\n",
    "        \n",
    "        \n",
    "    @is_manager\n",
    "    def show_revenue(self, manager):\n",
    "        # 전체 매출을 구하는 애 ( 학생 수 * 360 )\n",
    "        # 학생이 전체 매출을 구하려고 하면, => 에러가 발생해야 합니다.\n",
    "        total_revenue = len(self.students) * self.tuition\n",
    "        print(\"----------------------------\")\n",
    "        print(\"{total_students} 명 * {tuition} 만원\".format(total_students=len(self.students), tuition=self.tuition))\n",
    "        print(\"=> {total_revenue} 만원\".format(total_revenue=total_revenue))\n",
    "        print(\"----------------------------\")\n",
    "\n",
    "    def __str__(self):\n",
    "        return self.name"
   ]
  },
  {
   "cell_type": "code",
   "execution_count": 71,
   "metadata": {
    "collapsed": false,
    "scrolled": true
   },
   "outputs": [
    {
     "name": "stdout",
     "output_type": "stream",
     "text": [
      "{'student': <__main__.FastcampusPerson object at 0x000000000849D1D0>, 'manager': <__main__.FastcampusPerson object at 0x000000000849D208>, 'self': <__main__.FastcampusSchool object at 0x000000000849D198>}\n",
      "매니저 '박재근' 이/가 학생 '김기표' 을/를 추가했습니다.\n",
      "{'student': <__main__.FastcampusPerson object at 0x000000000ADB8160>, 'manager': <__main__.FastcampusPerson object at 0x000000000849D208>, 'self': <__main__.FastcampusSchool object at 0x000000000849D198>}\n",
      "매니저 '박재근' 이/가 학생 '동욱님' 을/를 추가했습니다.\n"
     ]
    },
    {
     "data": {
      "text/plain": [
       "{<__main__.FastcampusPerson at 0x849d1d0>,\n",
       " <__main__.FastcampusPerson at 0xadb8160>}"
      ]
     },
     "execution_count": 71,
     "metadata": {},
     "output_type": "execute_result"
    }
   ],
   "source": [
    "wps = FastcampusSchool(\"웹 프로그래밍 SCHOOL\", tuition=360)\n",
    "kipoy = FastcampusPerson(\"김기표\")\n",
    "jkpark = FastcampusPerson(\"박재근\", is_manager=True)\n",
    "wps.add_student(jkpark, kipoy)\n",
    "wps.add_student(jkpark, donguk)\n",
    "wps.students"
   ]
  },
  {
   "cell_type": "code",
   "execution_count": 72,
   "metadata": {
    "collapsed": false
   },
   "outputs": [
    {
     "name": "stdout",
     "output_type": "stream",
     "text": [
      "{'manager': <__main__.FastcampusPerson object at 0x000000000849D208>, 'self': <__main__.FastcampusSchool object at 0x000000000849D198>}\n",
      "----------------------------\n",
      "--- Student/Manager List ---\n",
      "----------------------------\n",
      "김기표 ( Student )\n",
      "동욱님 ( Student )\n",
      "----------------------------\n",
      "{'manager': <__main__.FastcampusPerson object at 0x000000000849D208>, 'self': <__main__.FastcampusSchool object at 0x000000000849D198>}\n",
      "----------------------------\n",
      "2 명 * 360 만원\n",
      "=> 720 만원\n",
      "----------------------------\n"
     ]
    },
    {
     "data": {
      "text/plain": [
       "(None, None)"
      ]
     },
     "execution_count": 72,
     "metadata": {},
     "output_type": "execute_result"
    }
   ],
   "source": [
    "wps.show_students(jkpark), wps.show_revenue(jkpark)"
   ]
  },
  {
   "cell_type": "code",
   "execution_count": 73,
   "metadata": {
    "collapsed": true
   },
   "outputs": [],
   "source": [
    "# Role 이 2개 뿐이 없다. ( 학생, 매니저 )\n",
    "# 코스 => 캠프, 스쿨\n",
    "# \"강의장 사정\" => 스쿨 기본 최대 인원은 20명 \n",
    "\n",
    "# School 객체 => 매니저를 통해서 스쿨 과정이 생기는거다. \n",
    "# School_object.add_student ( X )\n",
    "# Manager_object.add_student(school_object, student_object) (O)"
   ]
  }
 ],
 "metadata": {
  "kernelspec": {
   "display_name": "Python [Root]",
   "language": "python",
   "name": "Python [Root]"
  },
  "language_info": {
   "codemirror_mode": {
    "name": "ipython",
    "version": 3
   },
   "file_extension": ".py",
   "mimetype": "text/x-python",
   "name": "python",
   "nbconvert_exporter": "python",
   "pygments_lexer": "ipython3",
   "version": "3.5.1"
  }
 },
 "nbformat": 4,
 "nbformat_minor": 0
}
