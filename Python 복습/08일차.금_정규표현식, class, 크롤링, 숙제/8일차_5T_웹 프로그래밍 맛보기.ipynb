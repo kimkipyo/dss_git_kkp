{
 "cells": [
  {
   "cell_type": "markdown",
   "metadata": {},
   "source": [
    "# 5T_웹 프로그래밍 ( Web Programming ) 맛보기 - flask"
   ]
  },
  {
   "cell_type": "markdown",
   "metadata": {},
   "source": [
    "* 웹서버는 계속 켜져 있어야 한다.\n",
    "* Cloud IDE => 같이 개발할 수 있는 곳. 클라우드 환경에서 파이썬으로 개발할 수 있는 곳\n",
    "* 국내에는 구름IDE, 해외에는 c9.io. 오늘은 c9.io로 실습\n",
    "* 비밀번호 까먹었음..."
   ]
  },
  {
   "cell_type": "markdown",
   "metadata": {
    "collapsed": true
   },
   "source": [
    "* 파이썬에는 여러 가지 Framework가 있다. Django와 Flask가 잘 나간다.\n",
    "* 오늘은 Flask를 써보겠다"
   ]
  },
  {
   "cell_type": "markdown",
   "metadata": {},
   "source": [
    "* app.py를 만들고 sudo pip3 install flask 라는 명령어를 입력 후 설치한다.\n",
    "---\n",
    "* 안에 있는 내용은\n",
    "* from flask import Flask  (Flask라는 class를 import하겠다.)\n",
    "* app = Flask(__name__)   #__name__ == \"__main__\"\n",
    "* if __name__ == \"__main__\":\n",
    "*        app.run()"
   ]
  },
  {
   "cell_type": "markdown",
   "metadata": {},
   "source": [
    "* 그리고 나서 python3 app.py를 실행한다.\n",
    "* 역할을 지정하고 다시 실행해보자. 데코레이터를 적극적으로 활용해보자."
   ]
  },
  {
   "cell_type": "code",
   "execution_count": null,
   "metadata": {
    "collapsed": true
   },
   "outputs": [],
   "source": [
    "# from flask import Flask \n",
    "\n",
    "# app = Flask(__name__)   #__name__ == \"__main__\"\n",
    "\n",
    "# @app.route(\"/\")\n",
    "# def home():\n",
    "#     return \"hello world\"\n",
    "\n",
    "# if __name__ == \"__main__\":\n",
    "#     app.run()"
   ]
  },
  {
   "cell_type": "markdown",
   "metadata": {},
   "source": [
    "* 그리고 나서 다시 python3.app.py\n",
    "* 새로운 터미널을 띄우고 나서\n",
    "* curl localhost:5000"
   ]
  },
  {
   "cell_type": "code",
   "execution_count": null,
   "metadata": {
    "collapsed": true
   },
   "outputs": [],
   "source": [
    "# from flask import Flask \n",
    "\n",
    "# app = Flask(__name__)   #__name__ == \"__main__\"\n",
    "\n",
    "# @app.route(\"/\")\n",
    "# def home():\n",
    "#     return \"hello world\"\n",
    "\n",
    "# if __name__ == \"__main__\":\n",
    "#     app.run(host=\"0.0.0.0\", port=\"8080\")"
   ]
  },
  {
   "cell_type": "markdown",
   "metadata": {},
   "source": [
    "* 우측 상단에 Preview에서 preview~application을 클릭 후 주소가 나온다.\n",
    "* 그거를 복붙해서 띄우면 자기만의 페이지가 뜬다."
   ]
  },
  {
   "cell_type": "code",
   "execution_count": null,
   "metadata": {
    "collapsed": true
   },
   "outputs": [],
   "source": [
    "from flask import Flask \n",
    "\n",
    "app = Flask(__name__)   #__name__ == \"__main__\"\n",
    "\n",
    "@app.route(\"/\")\n",
    "def home():\n",
    "    return \"hello world\"\n",
    "\n",
    "@app.route(\"/rooms/<room_id>\")\n",
    "def room(room_id):\n",
    "    return room_id\n",
    "\n",
    "if __name__ == \"__main__\":\n",
    "    app.run(host=\"0.0.0.0\", port=\"8080\")"
   ]
  },
  {
   "cell_type": "markdown",
   "metadata": {},
   "source": [
    "* 다시 python3 app.py로 실행해보면\n",
    "* 웹상에서 기존 주소로는 hello world가 뜨고\n",
    "* 뒤에 /rooms/123을 붙이면 123이 출력된다."
   ]
  },
  {
   "cell_type": "markdown",
   "metadata": {},
   "source": [
    "* 그리고 나서 pip3 install requests 로 설치 후에"
   ]
  },
  {
   "cell_type": "code",
   "execution_count": null,
   "metadata": {
    "collapsed": true
   },
   "outputs": [],
   "source": [
    "from flask import Flask \n",
    "import requests\n",
    "\n",
    "app = Flask(__name__)   #__name__ == \"__main__\"\n",
    "\n",
    "@app.route(\"/\")\n",
    "def home():\n",
    "    return \"hello world\"\n",
    "\n",
    "@app.route(\"/rooms/<room_id>\")\n",
    "def room(room_id):\n",
    "    response = requests.get(\"https://api.zigbang.com/v1/items?detail=true&item_ids=\" + str(room_id))\n",
    "    return response.text \n",
    "\n",
    "if __name__ == \"__main__\":\n",
    "    app.run(host=\"0.0.0.0\", port=\"8080\")"
   ]
  },
  {
   "cell_type": "markdown",
   "metadata": {},
   "source": [
    "* python3 app.py로 실행하면\n",
    "* 직방 데이터가 웹상에 뜬다."
   ]
  },
  {
   "cell_type": "code",
   "execution_count": null,
   "metadata": {
    "collapsed": true
   },
   "outputs": [],
   "source": [
    "from flask import Flask, render_template\n",
    "import requests\n",
    "\n",
    "app = Flask(__name__)   #__name__ == \"__main__\"\n",
    "\n",
    "@app.route(\"/\")\n",
    "def home():\n",
    "    return \"<h1>hello world</h1><p>This is home</p>\"\n",
    "\n",
    "@app.route(\"/rooms/<room_id>\")\n",
    "def room(room_id):\n",
    "    response = requests.get(\"https://api.zigbang.com/v1/items?detail=true&item_ids=\" + str(room_id))\n",
    "    return response.text \n",
    "\n",
    "if __name__ == \"__main__\":\n",
    "    app.run(host=\"0.0.0.0\", port=\"8080\")"
   ]
  },
  {
   "cell_type": "markdown",
   "metadata": {},
   "source": [
    "* 여기서부터는 그냥 실습으로 하자..."
   ]
  },
  {
   "cell_type": "code",
   "execution_count": null,
   "metadata": {
    "collapsed": true
   },
   "outputs": [],
   "source": []
  }
 ],
 "metadata": {
  "kernelspec": {
   "display_name": "Python [Root]",
   "language": "python",
   "name": "Python [Root]"
  },
  "language_info": {
   "codemirror_mode": {
    "name": "ipython",
    "version": 3
   },
   "file_extension": ".py",
   "mimetype": "text/x-python",
   "name": "python",
   "nbconvert_exporter": "python",
   "pygments_lexer": "ipython3",
   "version": "3.5.1"
  }
 },
 "nbformat": 4,
 "nbformat_minor": 0
}
