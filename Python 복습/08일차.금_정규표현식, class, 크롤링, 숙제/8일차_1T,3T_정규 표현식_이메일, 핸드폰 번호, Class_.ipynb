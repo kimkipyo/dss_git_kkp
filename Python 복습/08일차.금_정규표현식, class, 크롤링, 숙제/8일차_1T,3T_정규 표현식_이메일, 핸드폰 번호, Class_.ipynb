{
 "cells": [
  {
   "cell_type": "markdown",
   "metadata": {},
   "source": [
    "# 1T_정규 표현식 ( Regular Expression ) - 이메일, 핸드폰 번호"
   ]
  },
  {
   "cell_type": "markdown",
   "metadata": {},
   "source": [
    "##### 이메일, 핸드폰 번호 정규표현식"
   ]
  },
  {
   "cell_type": "code",
   "execution_count": 1,
   "metadata": {
    "collapsed": false,
    "scrolled": true
   },
   "outputs": [
    {
     "name": "stdout",
     "output_type": "stream",
     "text": [
      "중국 중앙은행인 인민은행은 16일 환율을 달러당 6.6305위안으로 고시했다. 지난 15일 고시환율 달러당kimkipoy@naver.com 6.6430위안에 비해 달러 대비 위안 가치가 0.19% 상승했다.\n",
      "A new material has been created that 공일공육이삼오삼삼일칠can self-assemble into a swarm, acting as a single-minded unit.\n",
      "\n",
      "The material, which is made up of a set up spheres, is able공일공-둘둘삼삼-사사오오 to automatically arrange into a pattern when exposed to an electric field.\n",
      "\n",
      "In the future, this could be used to create armies of robots that act as a relentle010-4567-9201ss, single-minded unit.\n",
      "한경닷컴 증권금융팀\n"
     ]
    }
   ],
   "source": [
    "with open(\"crawled.txt\", \"r\", encoding='utf8') as f:   #crawled.txt는 보기와 같이 임의로 텍스트 파일을 만들었습니다.\n",
    "    data = f.read()\n",
    "    print(data)"
   ]
  },
  {
   "cell_type": "code",
   "execution_count": 2,
   "metadata": {
    "collapsed": false
   },
   "outputs": [
    {
     "name": "stdout",
     "output_type": "stream",
     "text": [
      "['010']\n"
     ]
    }
   ],
   "source": [
    "import re\n",
    "\n",
    "with open(\"crawled.txt\", \"r\", encoding='utf8') as f:\n",
    "    data = f.read()\n",
    "    \n",
    "    phonenumber_regex = \"010\"                             # 1. 정규표현식 (regex)\n",
    "# phonenumber_regex = \"\\d{3}[-]?\\d{4}[-]?\\d{4}\"\n",
    "    # \\d => 숫자가 나온다. => [0-9]\n",
    "    # \\d{3} => 숫자가 3번 나온다.\n",
    "    # [-]? => \"-\"가 나올 수도 있고 안 나올 수도 있다.\n",
    "    phonenumber_pattern = re.compile(phonenumber_regex)   # 파이썬에서 정규표현식을 사용할 수 있도록 SRE_Pattern 객체로 변경\n",
    "    phonenumber_list = phonenumber_pattern.findall(data)  # 2. 파이썬에서 정규표현식 함수를 사용한다.\n",
    "\n",
    "print(phonenumber_list)"
   ]
  },
  {
   "cell_type": "code",
   "execution_count": 3,
   "metadata": {
    "collapsed": false
   },
   "outputs": [
    {
     "name": "stdout",
     "output_type": "stream",
     "text": [
      "['공일공육이삼오삼삼일칠', '공일공-둘둘삼삼-사사오오', '010-4567-9201']\n",
      "['kimkipoy@naver.com']\n"
     ]
    }
   ],
   "source": [
    "with open(\"crawled.txt\", \"r\", encoding='utf8') as f:\n",
    "    data = f.read()\n",
    "        \n",
    "    phonenumber_regex = \"[0-9영공빵일이둘삼사오육칠팔구]{3}[-]?[0-9영공빵일이둘삼사오육칠팔구]{3,4}[-]?[0-9영공빵일이둘삼사오육칠팔구]{4}\" \n",
    "    # * => 0~n\n",
    "    # ? => 0-1\n",
    "    # + => 1-n\n",
    "    \n",
    "    # 이런 데이터를 먼저 전처리를 하고 ( 공 => 0 )( 지금은 이게 더 바람직 )\n",
    "    \n",
    "    phonenumber_pattern = re.compile(phonenumber_regex)  \n",
    "    phonenumber_list = phonenumber_pattern.findall(data)\n",
    "    \n",
    "    # email_regex = \"[a-zA-Z0-9_]+[@][a-zA-Z0-9_]+[.][a-z]+[.]?[a-z]+$\"\n",
    "    email_regex = \"[a-zA-Z0-9_]+[@][a-zA-Z0-9.]+\"\n",
    "    # email_regex = \"\"\n",
    "    # 정규표현식\n",
    "    \n",
    "    # \"다섯\" 이라는 텍스트가 포함이 되는...\n",
    "    # \"12다섯456\"\n",
    "    # [a-zA-Z0-9_]*다섯[a-zA-Z0-9_]*\n",
    "    \n",
    "    # {} -> 자릿수가 정해저있는 상황 ( 핸드폰 번호 ... )\n",
    "    email_pattern = re.compile(email_regex)\n",
    "    email_list = email_pattern.findall(data)\n",
    "    \n",
    "    # .com\n",
    "    # .co.kr\n",
    "    \n",
    "print(phonenumber_list)\n",
    "print(email_list)"
   ]
  },
  {
   "cell_type": "code",
   "execution_count": 4,
   "metadata": {
    "collapsed": true
   },
   "outputs": [],
   "source": [
    "def preprocess(phonenumber):\n",
    "    preprocess_dict = {\n",
    "        \"영\": 0,\n",
    "        \"공\": 0,\n",
    "        \"일\": 1,\n",
    "        \"둘\": 2,\n",
    "        \"이\": 2,\n",
    "        \"삼\": 3,\n",
    "        \"사\": 4,\n",
    "        \"오\": 5,\n",
    "        \"육\": 6,\n",
    "        \"칠\": 7,\n",
    "        \"팔\": 8,\n",
    "        \"구\": 9,\n",
    "        \"-\": \"\",\n",
    "    }\n",
    "    \n",
    "    for key, value in preprocess_dict.items():\n",
    "        phonenumber = phonenumber.replace(key, str(value))\n",
    "    return phonenumber"
   ]
  },
  {
   "cell_type": "code",
   "execution_count": 5,
   "metadata": {
    "collapsed": false
   },
   "outputs": [
    {
     "data": {
      "text/plain": [
       "['01062353317', '01022334455', '01045679201']"
      ]
     },
     "execution_count": 5,
     "metadata": {},
     "output_type": "execute_result"
    }
   ],
   "source": [
    "[preprocess(phonenumber) for phonenumber in phonenumber_list]"
   ]
  },
  {
   "cell_type": "markdown",
   "metadata": {
    "collapsed": true
   },
   "source": [
    "# 3T_객체 지향 프로그래밍 - 클래스 메쏘드와 인스턴스 메쏘드"
   ]
  },
  {
   "cell_type": "markdown",
   "metadata": {},
   "source": [
    "* Class - 클래스는 매우 중요합니다.\n",
    "* Class => object ( 객체가 생성되는 클래스 ) 에 대해서만 배웠다."
   ]
  },
  {
   "cell_type": "markdown",
   "metadata": {},
   "source": [
    "##### 예제: 피보나치 수열"
   ]
  },
  {
   "cell_type": "code",
   "execution_count": 6,
   "metadata": {
    "collapsed": true
   },
   "outputs": [],
   "source": [
    "class Fibonacci():\n",
    "    \n",
    "    cache = {1: 0, 2: 1}\n",
    "    # n=1 => 0\n",
    "    # n=2 => 1\n",
    "    # f(n) = f(n-1) + f(n-2)\n",
    "    \n",
    "#     def __init__(self):\n",
    "#         self.cache = {}\n",
    "# 기존의 이런 형태가 아니라 다른 형태로 받기 위해서\n",
    "\n",
    "    # 클래스 => 클래스 메쏘드\n",
    "    # 객체 ( 인스턴스 ) => 인스턴스 메쏘드\n",
    "\n",
    "    @staticmethod  # 클래스 메쏘드 \n",
    "    def calc(n):  # self 가 없습니다. self.cache가 아니라 Fibonacci.cache로 바뀜\n",
    "        \n",
    "        if n in Fibonacci.cache:   \n",
    "            return Fibonacci.cache[n]\n",
    "        \n",
    "        if n <= 0:\n",
    "            return 0\n",
    "        \n",
    "#         if n == 1:\n",
    "#             Fibonacci.cache[n] = 0\n",
    "#             return Fibonacci.cache[n]\n",
    "        \n",
    "#         if n == 2:\n",
    "#             Fibonacci.cache[n] = 1\n",
    "#             return Fibonacci.cache[n]\n",
    "        \n",
    "        Fibonacci.cache[n] = Fibonacci.calc(n-1) + Fibonacci.calc(n-2)\n",
    "        return Fibonacci.cache[n]"
   ]
  },
  {
   "cell_type": "code",
   "execution_count": 7,
   "metadata": {
    "collapsed": false
   },
   "outputs": [
    {
     "data": {
      "text/plain": [
       "4181"
      ]
     },
     "execution_count": 7,
     "metadata": {},
     "output_type": "execute_result"
    }
   ],
   "source": [
    "Fibonacci.calc(20)"
   ]
  },
  {
   "cell_type": "code",
   "execution_count": 8,
   "metadata": {
    "collapsed": false
   },
   "outputs": [
    {
     "data": {
      "text/plain": [
       "{1: 0,\n",
       " 2: 1,\n",
       " 3: 1,\n",
       " 4: 2,\n",
       " 5: 3,\n",
       " 6: 5,\n",
       " 7: 8,\n",
       " 8: 13,\n",
       " 9: 21,\n",
       " 10: 34,\n",
       " 11: 55,\n",
       " 12: 89,\n",
       " 13: 144,\n",
       " 14: 233,\n",
       " 15: 377,\n",
       " 16: 610,\n",
       " 17: 987,\n",
       " 18: 1597,\n",
       " 19: 2584,\n",
       " 20: 4181}"
      ]
     },
     "execution_count": 8,
     "metadata": {},
     "output_type": "execute_result"
    }
   ],
   "source": [
    "Fibonacci.cache"
   ]
  },
  {
   "cell_type": "markdown",
   "metadata": {},
   "source": [
    "##### 예제: Factorial"
   ]
  },
  {
   "cell_type": "code",
   "execution_count": 9,
   "metadata": {
    "collapsed": true
   },
   "outputs": [],
   "source": [
    "class Factorial():\n",
    "    \n",
    "    cache = {\n",
    "        1: 1,\n",
    "    }\n",
    "    \n",
    "    @staticmethod\n",
    "    def run(n):\n",
    "        \n",
    "        if n in Factorial.cache:\n",
    "            return Factorial.cache[n]\n",
    "        \n",
    "        Factorial.cache[n] = n * Factorial.run(n-1)\n",
    "        return Factorial.cache[n]\n",
    "    \n",
    "    @staticmethod\n",
    "    def prettify():\n",
    "        print(\"\\n\".join([\n",
    "            \"{n}! == {result}\".format(n=key, result=value)\n",
    "            for key, value\n",
    "            in Factorial.cache.items()\n",
    "        ]))"
   ]
  },
  {
   "cell_type": "code",
   "execution_count": 10,
   "metadata": {
    "collapsed": false
   },
   "outputs": [
    {
     "data": {
      "text/plain": [
       "24"
      ]
     },
     "execution_count": 10,
     "metadata": {},
     "output_type": "execute_result"
    }
   ],
   "source": [
    "Factorial.run(4)"
   ]
  },
  {
   "cell_type": "code",
   "execution_count": 11,
   "metadata": {
    "collapsed": false
   },
   "outputs": [
    {
     "name": "stdout",
     "output_type": "stream",
     "text": [
      "1! == 1\n",
      "2! == 2\n",
      "3! == 6\n",
      "4! == 24\n"
     ]
    }
   ],
   "source": [
    "Factorial.prettify()"
   ]
  },
  {
   "cell_type": "markdown",
   "metadata": {},
   "source": [
    "##### 예제: 달력"
   ]
  },
  {
   "cell_type": "code",
   "execution_count": 12,
   "metadata": {
    "collapsed": true
   },
   "outputs": [],
   "source": [
    "import functools\n",
    "\n",
    "\n",
    "class Calendar():\n",
    "    \n",
    "    __days = {\n",
    "        1: 31,\n",
    "        2: 28,\n",
    "        3: 31,\n",
    "        4: 30,\n",
    "        5: 31,\n",
    "        6: 30,\n",
    "        7: 31,\n",
    "        8: 31,\n",
    "        9: 30,\n",
    "        10: 31,\n",
    "        11: 30,\n",
    "        12: 31,\n",
    "    }\n",
    "    \n",
    "    @staticmethod\n",
    "    def is_leap(year):\n",
    "        return\\\n",
    "            year % 4 == 0\\\n",
    "            and not year % 100 == 0\\\n",
    "            or year % 400 == 0\n",
    "        \n",
    "    @staticmethod\n",
    "    def days_in(year):\n",
    "        days = Calendar.__days.copy()\n",
    "        \n",
    "        # days 라는 새로운 변수 => Calendar.__days 를 가리키고 있는 애 \n",
    "        # 우리가 의도한 바 : 기존의 애를 복사하는 것\n",
    "        \n",
    "        days[2] += int(Calendar.is_leap(year))  # True => 1, \n",
    "                                                # False => 0\n",
    "        return days\n",
    "    \n",
    "    @staticmethod\n",
    "    def total_days_in(year):\n",
    "        return functools.reduce(\n",
    "            lambda x,y: x+y,\n",
    "            Calendar.days_in(year).values(),\n",
    "        )\n",
    "        \n",
    "    \n",
    "    @staticmethod\n",
    "    def total_days_until(year):\n",
    "#         total_days = 0\n",
    "#         for i in range(1900, year):\n",
    "#             total_days += Calendar.total_days_in(i)\n",
    "#         return total_days\n",
    "        return functools.reduce(\n",
    "            lambda x,y: x+y,\n",
    "            [\n",
    "                Calendar.total_days_in(i)\n",
    "                for i\n",
    "                in range(1900, year)  \n",
    "            ]\n",
    "        )\n",
    "        \n",
    "        \n",
    "    # 1년 1월 1일 부터 특정 년도 까지의 day 수 합계를 구하시오.\n",
    "    # 예, 1년 1월 1일 부터 2년 1월 1일 => 365\n",
    "    #     1년 1월 1일 부터 3년 1월 1일 => 365 * 2\n",
    "    # 하는 이유: day 수 합계 % 7 ==> 요일 ( 1년 1월 1일이 월요일 입니다 )"
   ]
  },
  {
   "cell_type": "code",
   "execution_count": 13,
   "metadata": {
    "collapsed": false
   },
   "outputs": [
    {
     "data": {
      "text/plain": [
       "1826"
      ]
     },
     "execution_count": 13,
     "metadata": {},
     "output_type": "execute_result"
    }
   ],
   "source": [
    "Calendar.total_days_until(1905)"
   ]
  },
  {
   "cell_type": "code",
   "execution_count": 14,
   "metadata": {
    "collapsed": false
   },
   "outputs": [
    {
     "data": {
      "text/plain": [
       "{1: 31,\n",
       " 2: 29,\n",
       " 3: 31,\n",
       " 4: 30,\n",
       " 5: 31,\n",
       " 6: 30,\n",
       " 7: 31,\n",
       " 8: 31,\n",
       " 9: 30,\n",
       " 10: 31,\n",
       " 11: 30,\n",
       " 12: 31}"
      ]
     },
     "execution_count": 14,
     "metadata": {},
     "output_type": "execute_result"
    }
   ],
   "source": [
    "Calendar.days_in(2016)"
   ]
  }
 ],
 "metadata": {
  "kernelspec": {
   "display_name": "Python [Root]",
   "language": "python",
   "name": "Python [Root]"
  },
  "language_info": {
   "codemirror_mode": {
    "name": "ipython",
    "version": 3
   },
   "file_extension": ".py",
   "mimetype": "text/x-python",
   "name": "python",
   "nbconvert_exporter": "python",
   "pygments_lexer": "ipython3",
   "version": "3.5.1"
  }
 },
 "nbformat": 4,
 "nbformat_minor": 0
}
