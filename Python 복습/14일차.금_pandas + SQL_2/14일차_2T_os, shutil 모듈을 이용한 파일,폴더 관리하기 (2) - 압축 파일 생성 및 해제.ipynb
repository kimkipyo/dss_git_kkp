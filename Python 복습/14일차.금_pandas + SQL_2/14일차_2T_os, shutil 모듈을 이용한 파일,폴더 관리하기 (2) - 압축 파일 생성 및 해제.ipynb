{
 "cells": [
  {
   "cell_type": "markdown",
   "metadata": {},
   "source": [
    "# 2T_os, shutil 모듈을 이용한 파일, 폴더 관리하기 (2) - 압축 파일 생성 및 해제"
   ]
  },
  {
   "cell_type": "markdown",
   "metadata": {},
   "source": [
    "### 데이터 관리를 위한 Tool\n",
    "* Dropbox\n",
    "* github\n",
    "* Amazon Web Service API -- S3 ( Simple Storage Service ) (*)\n",
    "* Cloud Storage Service -> 이게 큰 회사에서의 프로젝트에서 자주 사용되는 것이다."
   ]
  },
  {
   "cell_type": "code",
   "execution_count": 3,
   "metadata": {
    "collapsed": true
   },
   "outputs": [],
   "source": [
    "import shutil\n",
    "import os"
   ]
  },
  {
   "cell_type": "code",
   "execution_count": 4,
   "metadata": {
    "collapsed": false
   },
   "outputs": [
    {
     "data": {
      "text/plain": [
       "'.\\\\data\\\\world.zip'"
      ]
     },
     "execution_count": 4,
     "metadata": {},
     "output_type": "execute_result"
    }
   ],
   "source": [
    "shutil.make_archive(\n",
    "    os.path.join(os.curdir, \"data\", \"world\"),\n",
    "    \"zip\"   # 어떤 압축파일 형태로 저장할 것인가. (\".zip\" => \"zip\", \".tar.gz\" => \"gztar\")\n",
    ")"
   ]
  },
  {
   "cell_type": "code",
   "execution_count": 5,
   "metadata": {
    "collapsed": false
   },
   "outputs": [
    {
     "data": {
      "text/plain": [
       "'.\\\\data\\\\world.tar.gz'"
      ]
     },
     "execution_count": 5,
     "metadata": {},
     "output_type": "execute_result"
    }
   ],
   "source": [
    "shutil.make_archive(\n",
    "    os.path.join(os.curdir, \"data\", \"world\"),\n",
    "    \"gztar\"\n",
    ")"
   ]
  },
  {
   "cell_type": "markdown",
   "metadata": {},
   "source": [
    "### 실습)\n",
    "* 다시 실행해도 문제가 없이,\n",
    "* 대륙명 / 국가명.csv로 City에 대한 정보가 저장.\n",
    "* 대륙명.tar.gz (대륙명 별 압축파일로 저장)\n",
    "* /data/world/Asia/Korea.csv\n",
    "*                 /Japan.csv\n",
    "* ...\n",
    "* /data/world/Europe/France.csv"
   ]
  },
  {
   "cell_type": "code",
   "execution_count": null,
   "metadata": {
    "collapsed": true
   },
   "outputs": [],
   "source": [
    "for index, row in country_df.iterrows():\n",
    "    country_code = row[\"Code\"]\n",
    "    country_name = row[\"Name\"]\n",
    "    \n",
    "    if country_code in city_df[\"CountryCode\"].unique():\n",
    "        one_city_df = city_groups.get_group(country_code)\n",
    "        one_city_df.to_csv(os.path.join(os.curdir, \"data\", \"world\", \"{country_name}.csv\".format(country_name=country_name)))"
   ]
  },
  {
   "cell_type": "code",
   "execution_count": 6,
   "metadata": {
    "collapsed": true
   },
   "outputs": [],
   "source": [
    "import pymysql\n",
    "db = pymysql.connect(\n",
    "    \"db.fastcamp.us\",\n",
    "    \"root\",\n",
    "    \"dkstncks\",\n",
    "    \"world\",\n",
    "    charset='utf8',\n",
    ")\n",
    "city_df = pd.read_sql(\"SELECT * FROM City;\", db)\n",
    "country_df = pd.read_sql(\"SELECT * FROM Country;\", db)"
   ]
  },
  {
   "cell_type": "code",
   "execution_count": 24,
   "metadata": {
    "collapsed": false
   },
   "outputs": [
    {
     "name": "stdout",
     "output_type": "stream",
     "text": [
      "./data/폴더를 삭제합니다.\n",
      "./data/폴더를 생성합니다.\n"
     ]
    }
   ],
   "source": [
    "if \"data\" in os.listdir():\n",
    "    print(\"./data/폴더를 삭제합니다.\")\n",
    "    shutil.rmtree(os.path.join(os.curdir, \"data\"))\n",
    "\n",
    "print(\"./data/폴더를 생성합니다.\")\n",
    "os.makedirs(os.path.join(os.curdir, \"data\"))\n",
    "os.makedirs(os.path.join(os.curdir, \"data\", \"world\"))\n",
    "\n",
    "# country_df => group_by => continent\n",
    "# cotinent 폴더 ...\n",
    "# continent_df => group_by => ...\n",
    "\n",
    "continent_groups = country_df.groupby(\"Continent\")\n",
    "city_groups = city_df.groupby(\"CountryCode\")\n",
    "\n",
    "\n",
    "# \"ATA\" ... => 예외처리(city_df가 없는 경우)\n",
    "unique_country_code_in_city = city_df[\"CountryCode\"].unique()\n",
    "\n",
    "for continent_name in country_df[\"Continent\"].unique():\n",
    "    os.makedirs(os.path.join(os.curdir, \"data\", \"world\", continent_name))\n",
    "    continent_df = continent_groups.get_group(continent_name)\n",
    "    \n",
    "    #continent_df (대륙별 DataFrame)에서 \"Code\"를 가져와서 city_groups에서 찾은 다음에 폴더에 넣어주자\n",
    "    for index, row in continent_df.iterrows():\n",
    "        country_code = row[\"Code\"]\n",
    "        country_name = row[\"Name\"]\n",
    "        \n",
    "        if country_code in unique_country_code_in_city:\n",
    "#             print((continent_name, country_name))\n",
    "            df = city_groups.get_group(country_code)\n",
    "            df.to_csv(os.path.join(\n",
    "                os.curdir,\n",
    "                \"data\",\n",
    "                \"world\",\n",
    "                continent_name,\n",
    "                \"{country_name}.csv\".format(country_name=country_name)\n",
    "                ))\n",
    "    # 압축하기\n",
    "    shutil.make_archive(\n",
    "    os.path.join(os.curdir, \"data\", \"world\", continent_name),  # 압축파일명\n",
    "    \"gztar\",\n",
    "    os.path.join(os.curdir, \"data\", \"world\", continent_name),  # 압축할 위치\n",
    ")"
   ]
  },
  {
   "cell_type": "code",
   "execution_count": 15,
   "metadata": {
    "collapsed": false,
    "scrolled": true
   },
   "outputs": [
    {
     "name": "stdout",
     "output_type": "stream",
     "text": [
      "('North America', 37)\n",
      "('Asia', 51)\n",
      "('Africa', 57)\n",
      "('Europe', 46)\n",
      "('South America', 14)\n",
      "('Oceania', 27)\n",
      "('Antarctica', 0)\n"
     ]
    }
   ],
   "source": [
    "for continent_name in country_df[\"Continent\"].unique():\n",
    "    country_count = len(os.listdir(os.path.join(os.curdir, \"data\", \"world\", continent_name)))\n",
    "    print((continent_name, country_count))"
   ]
  },
  {
   "cell_type": "markdown",
   "metadata": {},
   "source": [
    "* 압축 푸는 방법"
   ]
  },
  {
   "cell_type": "code",
   "execution_count": 26,
   "metadata": {
    "collapsed": false
   },
   "outputs": [],
   "source": [
    "shutil.unpack_archive(\"./data/world/Asia.tar.gz\", \"./Asia\")"
   ]
  }
 ],
 "metadata": {
  "anaconda-cloud": {},
  "kernelspec": {
   "display_name": "Python [Root]",
   "language": "python",
   "name": "Python [Root]"
  },
  "language_info": {
   "codemirror_mode": {
    "name": "ipython",
    "version": 3
   },
   "file_extension": ".py",
   "mimetype": "text/x-python",
   "name": "python",
   "nbconvert_exporter": "python",
   "pygments_lexer": "ipython3",
   "version": "3.5.1"
  }
 },
 "nbformat": 4,
 "nbformat_minor": 0
}
