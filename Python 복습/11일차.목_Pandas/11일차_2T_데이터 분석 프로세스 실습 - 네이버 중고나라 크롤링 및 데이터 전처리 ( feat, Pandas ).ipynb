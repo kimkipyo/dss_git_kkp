{
 "cells": [
  {
   "cell_type": "markdown",
   "metadata": {},
   "source": [
    "# 2T_데이터 전처리 실습. 네이버 중고나라"
   ]
  },
  {
   "cell_type": "markdown",
   "metadata": {},
   "source": [
    "* 중고나라에서 한 페이지를 크롤링해서\n",
    "* http://m.cafe.naver.com/ArticleSearchList.nhn?search.query=%EB%A7%A5%EB%B6%81&search.menuid=&search.searchBy=0&search.sortBy=sim&search.clubid=10050146\n",
    "* 각각의 게시물로 접속 후 \"제목\", \"게시글 URL\", \"작성자\", \"방문자 수\", \"본문 내용\" => df\n",
    "* df 에서 본문에 apply 를 적용해서 (전처리) 핸드폰 번호를 뽑아내는 실습\n",
    "* 게시물 중 로그인 권한이 필요해서, 컨텐츠가 안보이는 게시물 => pass"
   ]
  },
  {
   "cell_type": "code",
   "execution_count": 1,
   "metadata": {
    "collapsed": true
   },
   "outputs": [],
   "source": [
    "import requests\n",
    "from bs4 import BeautifulSoup"
   ]
  },
  {
   "cell_type": "code",
   "execution_count": 2,
   "metadata": {
    "collapsed": true
   },
   "outputs": [],
   "source": [
    "response = requests.get(\"http://m.cafe.naver.com/ArticleSearchList.nhn?search.query=%EB%A7%A5%EB%B6%81&search.menuid=&search.searchBy=0&search.sortBy=sim&search.clubid=10050146\")"
   ]
  },
  {
   "cell_type": "code",
   "execution_count": 3,
   "metadata": {
    "collapsed": false
   },
   "outputs": [
    {
     "data": {
      "text/plain": [
       "200"
      ]
     },
     "execution_count": 3,
     "metadata": {},
     "output_type": "execute_result"
    }
   ],
   "source": [
    "response.status_code"
   ]
  },
  {
   "cell_type": "code",
   "execution_count": 4,
   "metadata": {
    "collapsed": true
   },
   "outputs": [],
   "source": [
    "dom = BeautifulSoup(response.text, \"html.parser\")"
   ]
  },
  {
   "cell_type": "markdown",
   "metadata": {},
   "source": [
    "* 게시물을 전부 가져와서 => 게시글 제목, 게시글 URL 이 담긴 df"
   ]
  },
  {
   "cell_type": "code",
   "execution_count": 6,
   "metadata": {
    "collapsed": true
   },
   "outputs": [],
   "source": [
    "post_elements = dom.select(\"#articleList ul.list_tit li\")"
   ]
  },
  {
   "cell_type": "code",
   "execution_count": 7,
   "metadata": {
    "collapsed": false
   },
   "outputs": [
    {
     "data": {
      "text/plain": [
       "20"
      ]
     },
     "execution_count": 7,
     "metadata": {},
     "output_type": "execute_result"
    }
   ],
   "source": [
    "len(post_elements)"
   ]
  },
  {
   "cell_type": "code",
   "execution_count": 8,
   "metadata": {
    "collapsed": false
   },
   "outputs": [
    {
     "name": "stdout",
     "output_type": "stream",
     "text": [
      "/ArticleRead.nhn?clubid=10050146&menuid=334&articleid=333500721&query=맥북\n"
     ]
    }
   ],
   "source": [
    "post_element = post_elements[0]\n",
    "\n",
    "url = post_element.select_one(\"a\").get(\"href\")\n",
    "print(url)"
   ]
  },
  {
   "cell_type": "code",
   "execution_count": 12,
   "metadata": {
    "collapsed": false
   },
   "outputs": [
    {
     "name": "stdout",
     "output_type": "stream",
     "text": [
      "[미개봉] 신형 맥북프로 레티나 15인치 MJLQ2kh/a 팝니다\n"
     ]
    }
   ],
   "source": [
    "title = post_element.select_one(\"a\").text.strip()\n",
    "print(title)"
   ]
  },
  {
   "cell_type": "code",
   "execution_count": 13,
   "metadata": {
    "collapsed": false
   },
   "outputs": [
    {
     "data": {
      "text/html": [
       "<div>\n",
       "<table border=\"1\" class=\"dataframe\">\n",
       "  <thead>\n",
       "    <tr style=\"text-align: right;\">\n",
       "      <th></th>\n",
       "      <th>Title</th>\n",
       "      <th>URL</th>\n",
       "    </tr>\n",
       "  </thead>\n",
       "  <tbody>\n",
       "  </tbody>\n",
       "</table>\n",
       "</div>"
      ],
      "text/plain": [
       "Empty DataFrame\n",
       "Columns: [Title, URL]\n",
       "Index: []"
      ]
     },
     "execution_count": 13,
     "metadata": {},
     "output_type": "execute_result"
    }
   ],
   "source": [
    "df = pd.DataFrame(columns=[\"Title\", \"URL\"])\n",
    "df"
   ]
  },
  {
   "cell_type": "code",
   "execution_count": 14,
   "metadata": {
    "collapsed": true
   },
   "outputs": [],
   "source": [
    "for post_element in post_elements:\n",
    "    url = post_element.select_one(\"a\").get(\"href\")\n",
    "    title = post_element.select_one(\"a\").text.strip()\n",
    "    \n",
    "    data = {\"URL\": url, \"Title\": title}\n",
    "    df.loc[len(df)] = data   # row 에다 추가하는 부분"
   ]
  },
  {
   "cell_type": "code",
   "execution_count": 15,
   "metadata": {
    "collapsed": false
   },
   "outputs": [
    {
     "data": {
      "text/html": [
       "<div>\n",
       "<table border=\"1\" class=\"dataframe\">\n",
       "  <thead>\n",
       "    <tr style=\"text-align: right;\">\n",
       "      <th></th>\n",
       "      <th>Title</th>\n",
       "      <th>URL</th>\n",
       "    </tr>\n",
       "  </thead>\n",
       "  <tbody>\n",
       "    <tr>\n",
       "      <th>0</th>\n",
       "      <td>[미개봉] 신형 맥북프로 레티나 15인치 MJLQ2kh/a 팝니다</td>\n",
       "      <td>/ArticleRead.nhn?clubid=10050146&amp;menuid=334&amp;ar...</td>\n",
       "    </tr>\n",
       "    <tr>\n",
       "      <th>1</th>\n",
       "      <td>21인치 아이맥과 13인치 맥북에어 애플 시네마30인치 판매교환합니다</td>\n",
       "      <td>/ArticleRead.nhn?clubid=10050146&amp;menuid=382&amp;ar...</td>\n",
       "    </tr>\n",
       "    <tr>\n",
       "      <th>2</th>\n",
       "      <td>맥북프로레티나 15인치 미개봉 팝니다(전라도 광주)</td>\n",
       "      <td>/ArticleRead.nhn?clubid=10050146&amp;menuid=334&amp;ar...</td>\n",
       "    </tr>\n",
       "    <tr>\n",
       "      <th>3</th>\n",
       "      <td>2011 Mid 맥북에어 13인치 기타 여러가지 +</td>\n",
       "      <td>/ArticleRead.nhn?clubid=10050146&amp;menuid=334&amp;ar...</td>\n",
       "    </tr>\n",
       "    <tr>\n",
       "      <th>4</th>\n",
       "      <td>[맥북교환가능] 맥프로 mac pro 12코어 팝니다! (3.33 12코어, 42G...</td>\n",
       "      <td>/ArticleRead.nhn?clubid=10050146&amp;menuid=382&amp;ar...</td>\n",
       "    </tr>\n",
       "    <tr>\n",
       "      <th>5</th>\n",
       "      <td>애플 맥북에어 (MJVG2KH/A) i5, 256ssd 제품 미개봉 팝니다.</td>\n",
       "      <td>/ArticleRead.nhn?clubid=10050146&amp;menuid=334&amp;ar...</td>\n",
       "    </tr>\n",
       "    <tr>\n",
       "      <th>6</th>\n",
       "      <td>MF840KH 맥북 프로 레티나 13인치 mid 2015 (사이클수2) 판매합니다.</td>\n",
       "      <td>/ArticleRead.nhn?clubid=10050146&amp;menuid=334&amp;ar...</td>\n",
       "    </tr>\n",
       "    <tr>\n",
       "      <th>7</th>\n",
       "      <td>노트북 2대 팝니다 (맥북 프로 13 2015 레티나 MF840KH/A, 소니 바이...</td>\n",
       "      <td>/ArticleRead.nhn?clubid=10050146&amp;menuid=334&amp;ar...</td>\n",
       "    </tr>\n",
       "    <tr>\n",
       "      <th>8</th>\n",
       "      <td>[공식앱] 13인치 맥북프로레티나 중급형 (애플정품) 매직마우스+ 판매합니다,</td>\n",
       "      <td>/ArticleRead.nhn?clubid=10050146&amp;menuid=736&amp;ar...</td>\n",
       "    </tr>\n",
       "    <tr>\n",
       "      <th>9</th>\n",
       "      <td>[판매완료] 맥북프로레티나 13인치(2013 late 중급형/ CPU i5 2.4G...</td>\n",
       "      <td>/ArticleRead.nhn?clubid=10050146&amp;menuid=334&amp;ar...</td>\n",
       "    </tr>\n",
       "    <tr>\n",
       "      <th>10</th>\n",
       "      <td>맥북 알루미늄 유니바디 13인치(2009) 팔아요</td>\n",
       "      <td>/ArticleRead.nhn?clubid=10050146&amp;menuid=334&amp;ar...</td>\n",
       "    </tr>\n",
       "    <tr>\n",
       "      <th>11</th>\n",
       "      <td>[판매] 맥북 에어 13인치 2011 Mid, A1369 모델, i7 CPU, 25...</td>\n",
       "      <td>/ArticleRead.nhn?clubid=10050146&amp;menuid=334&amp;ar...</td>\n",
       "    </tr>\n",
       "    <tr>\n",
       "      <th>12</th>\n",
       "      <td>맥북 프로 13인치 -박스풀셋+추가아답터+리모콘 35만원 a1278</td>\n",
       "      <td>/ArticleRead.nhn?clubid=10050146&amp;menuid=334&amp;ar...</td>\n",
       "    </tr>\n",
       "    <tr>\n",
       "      <th>13</th>\n",
       "      <td>(판매완료) [분당] 맥북 프로 레티나 15인치 early 2013, 최고급형(i7...</td>\n",
       "      <td>/ArticleRead.nhn?clubid=10050146&amp;menuid=334&amp;ar...</td>\n",
       "    </tr>\n",
       "    <tr>\n",
       "      <th>14</th>\n",
       "      <td>애플 맥북프로 2011 i5-2.3GHz 45만원 팝니다.</td>\n",
       "      <td>/ArticleRead.nhn?clubid=10050146&amp;menuid=334&amp;ar...</td>\n",
       "    </tr>\n",
       "    <tr>\n",
       "      <th>15</th>\n",
       "      <td>맥북프로 2015 15인치 고급형 MJLT2KH/A 팝니다.</td>\n",
       "      <td>/ArticleRead.nhn?clubid=10050146&amp;menuid=334&amp;ar...</td>\n",
       "    </tr>\n",
       "    <tr>\n",
       "      <th>16</th>\n",
       "      <td>애플 뉴 맥북 프로 에어 USB 인터넷 이더넷 케이블 어댑터 판매 팝니다 Apple...</td>\n",
       "      <td>/ArticleRead.nhn?clubid=10050146&amp;menuid=334&amp;ar...</td>\n",
       "    </tr>\n",
       "    <tr>\n",
       "      <th>17</th>\n",
       "      <td>맥북프로 15인치 2011 early 128SSD + 500HDD 배터리교체한 A-...</td>\n",
       "      <td>/ArticleRead.nhn?clubid=10050146&amp;menuid=334&amp;ar...</td>\n",
       "    </tr>\n",
       "    <tr>\n",
       "      <th>18</th>\n",
       "      <td>인케이스 ICON Sleeve with TENSAERLITE 파우치 맥북 프로 레티...</td>\n",
       "      <td>/ArticleRead.nhn?clubid=10050146&amp;menuid=393&amp;ar...</td>\n",
       "    </tr>\n",
       "    <tr>\n",
       "      <th>19</th>\n",
       "      <td>2016 early 뉴맥북 (MacBook) 기본형 판매합니다 (스페이스 그레이 색상)</td>\n",
       "      <td>/ArticleRead.nhn?clubid=10050146&amp;menuid=334&amp;ar...</td>\n",
       "    </tr>\n",
       "  </tbody>\n",
       "</table>\n",
       "</div>"
      ],
      "text/plain": [
       "                                                Title  \\\n",
       "0                [미개봉] 신형 맥북프로 레티나 15인치 MJLQ2kh/a 팝니다   \n",
       "1              21인치 아이맥과 13인치 맥북에어 애플 시네마30인치 판매교환합니다   \n",
       "2                        맥북프로레티나 15인치 미개봉 팝니다(전라도 광주)   \n",
       "3                        2011 Mid 맥북에어 13인치 기타 여러가지 +   \n",
       "4   [맥북교환가능] 맥프로 mac pro 12코어 팝니다! (3.33 12코어, 42G...   \n",
       "5          애플 맥북에어 (MJVG2KH/A) i5, 256ssd 제품 미개봉 팝니다.   \n",
       "6      MF840KH 맥북 프로 레티나 13인치 mid 2015 (사이클수2) 판매합니다.   \n",
       "7   노트북 2대 팝니다 (맥북 프로 13 2015 레티나 MF840KH/A, 소니 바이...   \n",
       "8         [공식앱] 13인치 맥북프로레티나 중급형 (애플정품) 매직마우스+ 판매합니다,   \n",
       "9   [판매완료] 맥북프로레티나 13인치(2013 late 중급형/ CPU i5 2.4G...   \n",
       "10                        맥북 알루미늄 유니바디 13인치(2009) 팔아요   \n",
       "11  [판매] 맥북 에어 13인치 2011 Mid, A1369 모델, i7 CPU, 25...   \n",
       "12              맥북 프로 13인치 -박스풀셋+추가아답터+리모콘 35만원 a1278   \n",
       "13  (판매완료) [분당] 맥북 프로 레티나 15인치 early 2013, 최고급형(i7...   \n",
       "14                   애플 맥북프로 2011 i5-2.3GHz 45만원 팝니다.   \n",
       "15                  맥북프로 2015 15인치 고급형 MJLT2KH/A 팝니다.   \n",
       "16  애플 뉴 맥북 프로 에어 USB 인터넷 이더넷 케이블 어댑터 판매 팝니다 Apple...   \n",
       "17  맥북프로 15인치 2011 early 128SSD + 500HDD 배터리교체한 A-...   \n",
       "18  인케이스 ICON Sleeve with TENSAERLITE 파우치 맥북 프로 레티...   \n",
       "19   2016 early 뉴맥북 (MacBook) 기본형 판매합니다 (스페이스 그레이 색상)   \n",
       "\n",
       "                                                  URL  \n",
       "0   /ArticleRead.nhn?clubid=10050146&menuid=334&ar...  \n",
       "1   /ArticleRead.nhn?clubid=10050146&menuid=382&ar...  \n",
       "2   /ArticleRead.nhn?clubid=10050146&menuid=334&ar...  \n",
       "3   /ArticleRead.nhn?clubid=10050146&menuid=334&ar...  \n",
       "4   /ArticleRead.nhn?clubid=10050146&menuid=382&ar...  \n",
       "5   /ArticleRead.nhn?clubid=10050146&menuid=334&ar...  \n",
       "6   /ArticleRead.nhn?clubid=10050146&menuid=334&ar...  \n",
       "7   /ArticleRead.nhn?clubid=10050146&menuid=334&ar...  \n",
       "8   /ArticleRead.nhn?clubid=10050146&menuid=736&ar...  \n",
       "9   /ArticleRead.nhn?clubid=10050146&menuid=334&ar...  \n",
       "10  /ArticleRead.nhn?clubid=10050146&menuid=334&ar...  \n",
       "11  /ArticleRead.nhn?clubid=10050146&menuid=334&ar...  \n",
       "12  /ArticleRead.nhn?clubid=10050146&menuid=334&ar...  \n",
       "13  /ArticleRead.nhn?clubid=10050146&menuid=334&ar...  \n",
       "14  /ArticleRead.nhn?clubid=10050146&menuid=334&ar...  \n",
       "15  /ArticleRead.nhn?clubid=10050146&menuid=334&ar...  \n",
       "16  /ArticleRead.nhn?clubid=10050146&menuid=334&ar...  \n",
       "17  /ArticleRead.nhn?clubid=10050146&menuid=334&ar...  \n",
       "18  /ArticleRead.nhn?clubid=10050146&menuid=393&ar...  \n",
       "19  /ArticleRead.nhn?clubid=10050146&menuid=334&ar...  "
      ]
     },
     "execution_count": 15,
     "metadata": {},
     "output_type": "execute_result"
    }
   ],
   "source": [
    "df"
   ]
  },
  {
   "cell_type": "code",
   "execution_count": 22,
   "metadata": {
    "collapsed": true
   },
   "outputs": [],
   "source": [
    "df[\"Full URL\"] = \"http://m.cafe.naver.com\" + df[\"URL\"]"
   ]
  },
  {
   "cell_type": "code",
   "execution_count": 29,
   "metadata": {
    "collapsed": true
   },
   "outputs": [],
   "source": [
    "url0 = df.loc[0][\"Full URL\"]\n",
    "url1 = df.loc[1][\"Full URL\"]   #2번에 로그인 없이 정보 알 수 있는 url"
   ]
  },
  {
   "cell_type": "code",
   "execution_count": 30,
   "metadata": {
    "collapsed": false
   },
   "outputs": [
    {
     "data": {
      "text/plain": [
       "('http://m.cafe.naver.com/ArticleRead.nhn?clubid=10050146&menuid=334&articleid=333500721&query=맥북',\n",
       " 'http://m.cafe.naver.com/ArticleRead.nhn?clubid=10050146&menuid=382&articleid=333074452&query=맥북')"
      ]
     },
     "execution_count": 30,
     "metadata": {},
     "output_type": "execute_result"
    }
   ],
   "source": [
    "url0, url1"
   ]
  },
  {
   "cell_type": "code",
   "execution_count": 24,
   "metadata": {
    "collapsed": false
   },
   "outputs": [
    {
     "data": {
      "text/plain": [
       "'안녕하세요     '"
      ]
     },
     "execution_count": 24,
     "metadata": {},
     "output_type": "execute_result"
    }
   ],
   "source": [
    "\"    안녕하세요     \".lstrip()"
   ]
  },
  {
   "cell_type": "code",
   "execution_count": 25,
   "metadata": {
    "collapsed": false
   },
   "outputs": [
    {
     "data": {
      "text/plain": [
       "'    안녕하세요'"
      ]
     },
     "execution_count": 25,
     "metadata": {},
     "output_type": "execute_result"
    }
   ],
   "source": [
    "\"    안녕하세요     \".rstrip()"
   ]
  },
  {
   "cell_type": "code",
   "execution_count": 26,
   "metadata": {
    "collapsed": false
   },
   "outputs": [
    {
     "data": {
      "text/plain": [
       "'안녕하세요'"
      ]
     },
     "execution_count": 26,
     "metadata": {},
     "output_type": "execute_result"
    }
   ],
   "source": [
    "\"    안녕하세요     \".strip()"
   ]
  },
  {
   "cell_type": "code",
   "execution_count": 31,
   "metadata": {
    "collapsed": true
   },
   "outputs": [],
   "source": [
    "url = df.loc[0][\"Full URL\"]  #로그인 해야 되는 거면 숫자 바꾸면서 살펴보기"
   ]
  },
  {
   "cell_type": "code",
   "execution_count": 37,
   "metadata": {
    "collapsed": false
   },
   "outputs": [
    {
     "data": {
      "text/plain": [
       "'http://m.cafe.naver.com/ArticleRead.nhn?clubid=10050146&menuid=334&articleid=333500721&query=맥북'"
      ]
     },
     "execution_count": 37,
     "metadata": {},
     "output_type": "execute_result"
    }
   ],
   "source": [
    "url"
   ]
  },
  {
   "cell_type": "code",
   "execution_count": 32,
   "metadata": {
    "collapsed": false
   },
   "outputs": [
    {
     "data": {
      "text/plain": [
       "200"
      ]
     },
     "execution_count": 32,
     "metadata": {},
     "output_type": "execute_result"
    }
   ],
   "source": [
    "response = requests.get(url)\n",
    "response.status_code"
   ]
  },
  {
   "cell_type": "code",
   "execution_count": 34,
   "metadata": {
    "collapsed": true
   },
   "outputs": [
    {
     "data": {
      "text/plain": [
       "'\\n\\n\\n\\n\\n\\n\\n<!DOCTYPE html>\\n<html lang=\"ko\">\\n<head>\\n<title>[미개봉] 신형 맥북프로 레티나 15인치  MJLQ2kh/a 팝니다 : 네이버 카페</title>\\n\\n\\n\\n<meta http-equiv=\"Content-Type\" content=\"text/html; charset=utf-8\" />\\n<meta name=\"robots\" content=\"noindex, nofollow\" />\\n\\n\\n\\n\\n\\n\\n<link rel=\"shortcut icon\" type=\"image/x-icon\" href=\"/favicon.ico?2\" />\\n\\n\\n\\n\\n\\n\\n\\n\\n\\n\\n\\t<meta name=\"viewport\" content=\"width=device-width, initial-scale=1.0, maximum-scale=1.0, minimum-scale=1.0, user-scalable=no, target-densitydpi=medium-dpi\" />\\n\\n\\n<link rel=\"stylesheet\" href=\"/static/css/mobileweb/Style/MyCafeStyle-1471853919000-580317.css\" type=\"text/css\">\\n\\n\\n<script type=\"text/javascript\" src=\"/static/js/mobileweb/core/CommonTopScript-1459947080000-3808.js\" charset=\"utf-8\"></script>\\n\\n\\n<script>\\ndocument.domain=\\'naver.com\\';\\n</script>\\n\\n\\n<meta name=\"decorator\" content=\"MyCafe\" />\\n<meta name=\"headerClass\" content=\"fix\" />\\n<meta name=\"footerAppNClickValue\" content=\"rct.app\" />\\n<meta name=\"footerClass\" content=\"f_fix\" />\\n<meta name=\"showMobileGuestBannerOnTop\" content=\"false\" />\\n<meta name=\"jsfooter\" content=\"/jsp/board/article/include/ScriptArticleRead.jsp\" />\\n\\n</head>\\n\\n\\n<body class=\"\" onload=\"orientationonChange();mCafeCommon.closeScroll();\" onorientationchange=\"orientationonChange();\">\\n\\n\\n<div class=\"u_skip\"> \\n  <a href=\"#ct\" onclick=\"var t=document.getElementById(\\'ct\\');t.tabIndex=-1;t.focus();return false;\" class=\"skip\">본문 바로가기</a> \\n</div>\\n\\n\\n\\n\\n\\n\\n\\n\\n\\n\\n\\n\\n\\n\\n\\n\\n\\n\\n<header class=\\'header fix\\' id=\"hd\">\\n\\t\\n\\t\\n\\n\\n<div class=\\'gnb\\' role=\\'banner\\'>\\n\\t<div class=\\'gnb_l\\'>\\n\\t\\t<a href=\\'/\\' class=\\'gnb_home\\' onclick=\"nclk(this, \\'gnb.home\\', \\'\\', \\'\\');\"><span class=\\'blind\\'>카페 홈</span></a>\\n\\t</div>\\n\\t<h1><a href=\"/joonggonara\" onclick=\"nclk(this, \\'gnb.cafename\\', \\'\\', \\'\\');\" id=\"cafeInfo\"><span class=\"ellip\">중고나라</span></a></h1>\\n\\t<div class=\\'gnb_sc\\'>\\n\\t\\t<a href=\"/ArticleSearchList.nhn?search.clubid=10050146&search.menuid=334\" class=\\'gnb_search\\' onclick=\"nclk(this, \\'gnb.cafesearch\\', \\'\\', \\'\\');\"><span class=\\'blind\\'>검색</span></a>\\n\\t</div>\\n\\t<div class=\\'gnb_r\\'>\\n\\t\\t<a href=\\'#\\' class=\"gnb_ham _click(MyCafeLayout|ShowMenuList) _stopDefault\" onclick=\"nclk(this, \\'gnb.cafeboard\\', \\'\\', \\'\\');\"><span class=\\'blind\\'>확장영역 열기</span></a>\\n\\t</div>\\n</div>\\n\\t\\n\\t\\n\\t\\n\\t\\n\\t\\n</header>\\n\\n\\n\\n\\n\\n\\n\\n\\n\\n\\n<div id=\"dimmedLayer\" class=\"dimmed\"></div>\\n<div id=\"sideMenuLayer\" class=\"slide_right\" style=\"display:none;\">\\n\\t<div id=\"sideMenuContainer\" class=\"side_menu\">\\n\\t</div>\\n</div>\\n<hr>\\n\\n\\n\\n\\n\\n\\n\\n\\n\\n\\n\\n\\n\\n\\n\\n\\n\\n\\n\\n\\n\\n\\n\\n\\n<hr/>\\n\\n\\n\\n\\n\\n<div id=\"ct\">\\n\\t\\n\\t\\r\\n\\r\\n\\r\\n\\r\\n\\r\\n\\r\\n\\r\\n\\r\\n\\r\\n\\r\\n\\r\\n\\r\\n\\r\\n\\r\\n\\r\\n\\r\\n\\r\\n\\r\\n\\r\\n\\r\\n<div class=\"post_title\">\\r\\n\\t<a href=\"/ArticleList.nhn?search.clubid=10050146&search.menuid=334\" class=\"tit_menu\" onclick=\"nclk(this,\\'arc.board\"\\',\\'\\',\\'\\');\">\\r\\n\\t\\t<span class=\"ic_bt b6\">B</span><span class=\"ellip\">노트북/맥북/넷북</span>\\r\\n\\t</a>\\r\\n \\t<h2 class=\"tit\">[미개봉] 신형 맥북프로 레티나 15인치  MJLQ2kh/a 팝니다</h2>\\r\\n\\t<a href=\"/CafeMemberProfile.nhn?cafeId=10050146&memberId=cheerforever\" class=\"thumb\" onclick=\"nclk(this,\\'nui.aname\\',\\'\\',\\'\\');\">\\r\\n\\t\\t<img src=\"http://blogpfthumb.phinf.naver.net/20160516_122/cheerforever_1463351150719mc5Aw_PNG/%25BD%25BA%25C5%25A9%25B8%25B0%25BC%25A6%2B2016-05-16%2B%25BF%25C0%25C0%25FC%2B7.25.21.png?type=c77_77\" alt=\"썸네일\" width=\"35\" height=\"35\" onerror=\"this.src=\\'http://static.naver.net/m/cafe/mobile/cafe_profile_c77.png\\';\"/>\\r\\n\\t</a>\\r\\n\\t<div class=\"info\">\\r\\n\\t\\t<a href=\"/CafeMemberProfile.nhn?cafeId=10050146&memberId=cheerforever\" class=\"nick\" onclick=\"nclk(this,\\'nui.aname\\',\\'\\',\\'\\');\">\\r\\n\\t\\t\\t<span class=\"ellip\">positive79(chee****)</span>\\r\\n\\t\\t</a>\\r\\n\\t\\t\\r\\n\\t\\t<a href=\"#\" class=\"chat_btn _click(SimpleCafeApp|ConfirmChatAppRun|navercafe://chat_room?cafeId=10050146&invitee=cheerforever) _stopDefault\" onclick=\"nclk(this,\\'nui.a1on1\\',\\'\\',\\'\\');\"><span class=\"blind\">채팅</span></a>\\r\\n\\t\\t\\r\\n\\t</div>\\r\\n\\t<div class=\"info\">\\r\\n\\t\\t<span class=\"date font_l\">2016.08.26. 09:22</span>\\r\\n\\t\\t<span class=\"no font_l\">조회 <em>120</em></span>\\r\\n\\t</div>\\r\\n\\t\\r\\n\\r\\n\\r\\n\\r\\n\\r\\n\\r\\n\\r\\n\\t\\r\\n\\t\\t\\r\\n\\t\\t\\r\\n\\t\\t\\r\\n\\t\\t\\r\\n\\t\\t\\r\\n\\t\\t\\r\\n\\t\\t\\r\\n\\t\\r\\n\\t\\r\\n\\t\\r\\n\\r\\n\\r\\n<div class=\"aside_layer\">\\r\\n\\t<a href=\"#\" class=\"btn_aside _click(ArticleFunctionButton|ToggleOptionLayer) _stopDefault\"><span class=\"more\">본문 기타 기능</span></a>\\r\\n\\t<div id=\"optionLayer\" class=\"layer\" style=\"display: none\">\\r\\n\\t\\t<strong class=\"blind\">본문 폰트 크기 조정</strong>\\r\\n\\t\\t<div id=\"fontBox\" class=\"font_box font_box_s\">\\r\\n\\t\\t\\t<a href=\"#\" class=\"small _click(FontSizeManager|Small) _stopDefault\" onclick=\"nclk(this,\\'arc*t.txts\\',\\'\\',\\'\\');\"><span class=\"sim\">본문 폰트 크기 작게 보기</span></a>\\r\\n\\t\\t\\t<a href=\"#\" class=\"big _click(FontSizeManager|Big) _stopDefault\" onclick=\"nclk(this,\\'arc*t.txtl\\',\\'\\',\\'\\');\"><span class=\"sim\">본문 폰트 크기 크게 보기</span></a>\\r\\n\\t\\t\\t<span id=\"fontSizePreview\" class=\"font_box_size\">가</span>\\r\\n\\t\\t</div>\\r\\n\\t\\t<ul>\\r\\n\\t\\t\\t\\r\\n\\t\\t\\t\\r\\n\\t\\t\\t\\r\\n\\t\\t\\t\\r\\n\\t\\t</ul>\\r\\n\\t\\t\\r\\n\\t</div>\\r\\n</div>\\r\\n </div>\\n     \\n\\n\\t<!-- 라이브검색 안내문구 -->\\n\\t\\n\\n\\t\\n\\t\\t\\n\\t\\n\\t\\n\\t\\t\\n\\t\\n\\n\\n\\n\\n<div class=\"post_ext3\">\\n\\t<div class=\\'app_link\\'>\\n\\t\\t<a href=\"#\" class=\"btn_app_view _click(ArticleRead|AppRun|navercafe://article_view?cafeId=10050146&articleId=333500721) _stopDefault\" onclick=\"nclk(this,\\'arc.apptop\\',\\'\\',\\'\\');\"><strong>앱으로보기</strong></a>\\n\\t</div>\\t\\t\\n\\t<div class=\"set2\">\\n\\t\\t\\n\\t\\t<div id=\"fontZoomTooltip\" class=\"font_zoom_hint tooltip\"></div>\\n\\t</div>\\n\\t<!-- 판매완료 -->\\n\\t\\n</div>\\n\\n\\n\\n\\n\\t\\n\\t\\n\\t\\n\\t\\t\\r\\n\\r\\n\\r\\n\\r\\n\\r\\n\\t\\r\\n\\t<div class=\"post_com\">\\r\\n\\t\\t<h3 class=\"blind\">판매 기본 정보</h3>\\r\\n\\t\\t<div class=\\'post_info\\'>\\r\\n\\t \\t\\t<!-- 판매중/판매 완료 -->\\r\\n\\t\\t\\t<span id=\"soldOutBanner\"  class=\"ico_sale\">판매중</span>\\r\\n\\t\\t\\t\\r\\n\\t\\t\\t\\r\\n\\t\\t\\t<!-- 본인 인증/안전거래 -->\\r\\n\\t\\t\\t\\r\\n\\t\\t\\t\\r\\n\\t\\t\\t\\t\\r\\n\\t \\t\\t\\t <span class=\\'txt_alert\\'>안전거래 미사용 게시물입니다</span>\\r\\n\\t \\t\\t\\r\\n\\t\\t</div>\\r\\n\\t\\t\\r\\n\\t\\t\\r\\n\\t </div>\\r\\n\\t\\t<p class=\"img_box\"><img src=\"http://mcafethumb2.phinf.naver.net/20160825_69/cheerforever_14720889263962l1DE_JPEG/20150624_084909.jpg?type=w420_2\"  alt=\"\"/></p>\\r\\n\\t\\t\\r\\n\\t\\t<div class=\\'post\\'>\\r\\n\\t\\t<h3 class=\\'blind\\'>상품등록 정보</h3>\\r\\n\\t\\t<p class=\"category\">벼룩시장</p>\\r\\n\\t\\t<ul class=\"product_info\">\\r\\n\\t\\t\\t\\t<li class=\\'product_name\\'><strong class=\\'blind\\'>상품명 : </strong>[미개봉] 신형 맥북프로 레티나 15</li>\\r\\n\\t\\t\\t\\t<li><strong class=\"tit\">상품가격</strong><p class=\"txt_desc\"><em class=\"price\">192</em>원</p></li> \\r\\n\\t\\t\\t\\t\\r\\n\\t   \\t\\t\\r\\n\\t\\t\\t\\r\\n\\t\\t</ul>\\r\\n\\t\\t    \\r\\n\\t\\t\\t<p class=\\'notice\\'>\\r\\n\\t \\t\\t\\t<span class=\\'noti_red\\'  id= \"fail_msg\" style=\"display:none\">죄송합니다. 선택하신 물품은 다른 구매자를 통해 결제가 진행중이거나 판매가 완료되었습니다.</span>\\r\\n\\t \\t\\t\\t<span class=\"noti\">네이버에 등록된 판매 물품과 내용은 개별 판매자가 등록한 것으로서, 네이버카페는 등록을 위한 시스템만 제공하며 내용에 대하여 일체의 책임을 지지 않습니다.</span>\\r\\n\\t \\t\\t</p>\\r\\n\\t</div>\\r\\n\\n\\t\\n\\t\\n\\t<div id=\"postContent\" class=\"post_cont\" style=\"overflow-x:auto;\">\\n\\n\\t\\t \\n\\t\\t \\n\\t     \\n\\t\\n\\t\\t\\n\\t\\t\\n\\t\\t\\n\\t\\t\\t\\n\\t\\t\\t<p>\\n\\t\\t\\t\\t\\n\\t\\t\\t\\t\\t\\n\\t\\t\\t\\t\\t\\n\\t\\t\\t\\t\\t\\n\\t\\t\\t\\t\\t<div class=\"NHN_Writeform_Main\"><table width=\"100%\" border=\"1\"><tbody><tr><td><a href=\"http://me2.do/x5ROycJN\" target=\"_blank\"></a></td><td><a href=\"http://me2.do/x5ROycJN\" target=\"_blank\"></a></td></tr></tbody></table><div style=\"text-align: center;\"><span style=\"line-height: 1.5; font-size: 9pt;\"><table width=\"100%\" border=\"1\"><tbody><tr bgcolor=\"#f8f8f8\"><td width=\"50%\"><b>\\xa0 \\xa0 \\xa0\\xa0<font color=\"#ff4e00\"><a href=\"http://goo.gl/CICDYx\" target=\"_blank\">중고나라 공식 앱 다운받기</a></font></b></td><td width=\"50%\"><b>\\xa0 \\xa0 \\xa0\\xa0<a href=\"http://cjkoreaexpress.hotblood.co.kr/intro.php\" target=\"_blank\"><font color=\"#ff4e00\">편한 택배 / 퀵 신청하기</font></a></b></td></tr></tbody></table></span></div><table width=\"100%\" border=\"1\"><tbody><tr><td colspan=\"3\"><img class=\"fx _click(Utility|ThumbView|http%3A%2F%2Fdthumb.phinf.naver.net%2F%3Fsrc%3D%2522http%253A%252F%252Fimages.qdillion.com%252Fcafe%252Falert.jpg%2522%26type%3Dw740)\" src=\"http://dthumb.phinf.naver.net/?src=%22http%3A%2F%2Fimages.qdillion.com%2Fcafe%2Falert.jpg%22&type=w1\"></td></tr></tbody></table><p></p><p></p><p></p><p align=\"center\"><br /></p><p align=\"center\"><a href=\"http://goo.gl/vvPNdc\" target=\"_blank\"><img class=\"fx _click(Utility|ThumbView|http%3A%2F%2Fdthumb.phinf.naver.net%2F%3Fsrc%3D%2522http%253A%252F%252Fcafeptthumb4.phinf.naver.net%252F20160303_164%252Fnejona_1456986688601RlgdG_PNG%252Fjn1.png%253Ftype%253Dw740%2522%26type%3Dw740)\" src=\"http://dthumb.phinf.naver.net/?src=%22http%3A%2F%2Fcafeptthumb4.phinf.naver.net%2F20160303_164%2Fnejona_1456986688601RlgdG_PNG%2Fjn1.png%3Ftype%3Dw740%22&type=w1\"></a><!-- 11시11분 중고나라-상단 배너 END --></p><p></p><p id=\"hn\"></p> <table width=\"100%\" border=\"1\"><tbody></tbody><p id=\"jn\">판 매 양 식</p><tbody><tr><th scope=\"row\">아이디</th><td></td></tr><tr><th scope=\"row\">이메일</th><td><font color=\"#7d7d7d\">싸이,블로그,타카페,타사이트 링크시 삭제 및 강퇴</font></td></tr><tr><th scope=\"row\">거주지역</th><td><font color=\"#7d7d7d\">도,시,동까지 정확히 기재</font></td></tr><tr><th scope=\"row\">판매 제품명</th><td></td></tr><tr><th scope=\"row\">구입시기</th><td><font color=\"#7d7d7d\">년,월 기재</font></td></tr><tr><th scope=\"row\">희망가격</th><td><font color=\"#7d7d7d\">정확히 기재: (3만~4만등의\\xa0경매 유도글\\xa0삭제)</font></td></tr><tr><th scope=\"row\"></th><td><p align=\"left\"><a href=\"http://goo.gl/vvPNdc\" target=\"_blank\"><img class=\"fx _click(Utility|ThumbView|http%3A%2F%2Fdthumb.phinf.naver.net%2F%3Fsrc%3D%2522http%253A%252F%252Fcafeptthumb3.phinf.naver.net%252F20160303_71%252Fnejona_1456986688710zadwm_PNG%252Fjn2.png%253Ftype%253Dw740%2522%26type%3Dw740)\" src=\"http://dthumb.phinf.naver.net/?src=%22http%3A%2F%2Fcafeptthumb3.phinf.naver.net%2F20160303_71%2Fnejona_1456986688710zadwm_PNG%2Fjn2.png%3Ftype%3Dw740%22&type=w1\"></a><!-- 11시11분 중고나라-중단 배너 END --></p></td></tr><tr><th scope=\"row\">거래방법</th><td><a href=\"http://service.viberc.com/\" target=\"_blank\">방문택배 신청하기</a>,\\xa0<font color=\"#7d7d7d\">직거래, 택배, \\xa0안전거래</font></td></tr><tr><th colspan=\"2\" scope=\"row\">상세설명</th></tr><tr><td width=\"700\" colspan=\"2\" scope=\"row;\"><p><font color=\"#7d7d7d\"><b>사진\\xa0및 상세내용</b></font></p><p><br /></p><p></p><p></p><p></p><p></p><p></p><p></p><p></p><p></p><p></p><p></p><p></p><p></p><p></p></td></tr></tbody></table><div align=\"center\"><p align=\"center\"></p><p align=\"center\"><span style=\"font-size: 8pt;\"><font color=\"#7820b9\"><strong>위 항목을 (거래금지 항목 포함) 허위작성하거나 임의 삭제 또는 채우지 않을 경우 무통보 삭제될수 있습니다.</strong></font></span></p><p align=\"center\"><span style=\"font-size: 8pt;\"><font color=\"#7820b9\"><strong></strong></font></span>\\xa0</p><div class=\"NHN_Writeform_Main\"><table width=\"100%\" border=\"1\"><tbody><tr><td><a href=\"http://me2.do/x5ROycJN\" target=\"_blank\"></a></td><td><a href=\"http://me2.do/x5ROycJN\" target=\"_blank\"></a></td></tr></tbody></table><div style=\"text-align: center;\"><span style=\"line-height: 1.5; font-size: 9pt;\"><table width=\"100%\" border=\"1\"><tbody><tr bgcolor=\"#f8f8f8\"><td width=\"50%\"><b>\\xa0 \\xa0 \\xa0\\xa0<font color=\"#ff4e00\"><a href=\"http://goo.gl/CICDYx\" target=\"_blank\">중고나라 공식 앱 다운받기</a></font></b></td><td width=\"50%\"><b>\\xa0 \\xa0 \\xa0\\xa0<a href=\"http://cjkoreaexpress.hotblood.co.kr/intro.php\" target=\"_blank\"><font color=\"#ff4e00\">편한 택배 / 퀵 신청하기</font></a></b></td></tr></tbody></table></span></div><table width=\"100%\" border=\"1\"><tbody><tr><td colspan=\"3\"><img class=\"fx _click(Utility|ThumbView|http%3A%2F%2Fdthumb.phinf.naver.net%2F%3Fsrc%3D%2522http%253A%252F%252Fimages.qdillion.com%252Fcafe%252Falert.jpg%2522%26type%3Dw740)\" src=\"http://dthumb.phinf.naver.net/?src=%22http%3A%2F%2Fimages.qdillion.com%2Fcafe%2Falert.jpg%22&type=w1\"></td></tr></tbody></table><p></p><p></p><p></p><p align=\"center\"><br /></p><p align=\"center\"><a href=\"http://goo.gl/vvPNdc\" target=\"_blank\"><img class=\"fx _click(Utility|ThumbView|http%3A%2F%2Fdthumb.phinf.naver.net%2F%3Fsrc%3D%2522http%253A%252F%252Fcafeptthumb4.phinf.naver.net%252F20160303_164%252Fnejona_1456986688601RlgdG_PNG%252Fjn1.png%253Ftype%253Dw740%2522%26type%3Dw740)\" src=\"http://dthumb.phinf.naver.net/?src=%22http%3A%2F%2Fcafeptthumb4.phinf.naver.net%2F20160303_164%2Fnejona_1456986688601RlgdG_PNG%2Fjn1.png%3Ftype%3Dw740%22&type=w1\"></a></p><p></p><p id=\"hn\"></p><table width=\"100%\" border=\"1\"><tbody></tbody><p id=\"jn\">판 매 양 식</p><tbody><tr><th scope=\"row\">아이디</th><td></td></tr><tr><th scope=\"row\">이메일</th><td><font color=\"#7d7d7d\">싸이,블로그,타카페,타사이트 링크시 삭제 및 강퇴</font></td></tr><tr><th scope=\"row\">거주지역</th><td><font color=\"#7d7d7d\">도,시,동까지 정확히 기재</font></td></tr><tr><th scope=\"row\">판매 제품명</th><td>[미개봉] 신형 맥북프로 레티나 15인치\\xa0\\xa0MJLQ2kh/a 팝니다</td></tr><tr><th scope=\"row\">구입시기</th><td><font color=\"#7d7d7d\">년,월 기재</font></td></tr><tr><th scope=\"row\">희망가격</th><td><font color=\"#7d7d7d\">정확히 기재: (3만~4만등의\\xa0경매 유도글\\xa0삭제)</font></td></tr><tr><th scope=\"row\"></th><td><p align=\"left\"><a href=\"http://goo.gl/vvPNdc\" target=\"_blank\"><img class=\"fx _click(Utility|ThumbView|http%3A%2F%2Fdthumb.phinf.naver.net%2F%3Fsrc%3D%2522http%253A%252F%252Fcafeptthumb3.phinf.naver.net%252F20160303_71%252Fnejona_1456986688710zadwm_PNG%252Fjn2.png%253Ftype%253Dw740%2522%26type%3Dw740)\" src=\"http://dthumb.phinf.naver.net/?src=%22http%3A%2F%2Fcafeptthumb3.phinf.naver.net%2F20160303_71%2Fnejona_1456986688710zadwm_PNG%2Fjn2.png%3Ftype%3Dw740%22&type=w1\"></a></p></td></tr><tr><th scope=\"row\">거래방법</th><td><a href=\"http://service.viberc.com/\" target=\"_blank\">방문택배 신청하기</a>,\\xa0<font color=\"#7d7d7d\">직거래, 택배, \\xa0안전거래</font></td></tr><tr><th colspan=\"2\" scope=\"row\">상세설명</th></tr><tr><td width=\"700\" colspan=\"2\" scope=\"row;\"><p><font color=\"#7d7d7d\"><b>사진\\xa0및 상세내용</b></font></p><p><br /></p><p></p><p></p><p></p><p></p><p></p><p></p><p></p><p></p><p></p><p></p><p></p><p></p><p></p></td></tr></tbody></table><div align=\"center\"><p align=\"center\"></p><p align=\"center\"><span style=\"font-size: 8pt;\"><font color=\"#7820b9\"><strong>위 항목을 (거래금지 항목 포함) 허위작성하거나 임의 삭제 또는 채우지 않을 경우 무통보 삭제될수 있습니다.</strong></font></span></p><p align=\"center\"><span style=\"font-size: 8pt;\"><font color=\"#7820b9\"><strong></strong></font></span>\\xa0<img class=\"fx _click(Utility|ThumbView|http%3A%2F%2Fmcafethumb2.phinf.naver.net%2F20160825_203%2Fcheerforever_14720889476982wHVD_JPEG%2F20150624_084909.jpg%3Ftype%3Dw1280)\" src=\"http://mcafethumb2.phinf.naver.net/20160825_203/cheerforever_14720889476982wHVD_JPEG/20150624_084909.jpg?type=w740\"></p><p style=\"line-height: normal; font-family: &apos;Apple SD Gothic Neo&apos;;\">[미개봉] 신형 맥북프로 레티나 15인치\\xa0\\xa0MJLQ2kh/a 팝니다</p><p style=\"line-height: normal; font-family: &apos;Apple SD Gothic Neo&apos;;\"><br /></p><p style=\"text-align: left; line-height: normal; font-family: &apos;Apple SD Gothic Neo&apos;;\"><span style=\"font-family: Arial;\">애플 코리아 저품이구요 현장 직거래 제품 확인 하고 계좌 이체 해주세요.</span></p><p style=\"text-align: left; line-height: normal; font-family: &apos;Apple SD Gothic Neo&apos;;\"><span style=\"font-family: Arial;\">카드 결제/ 별도 문의.</span></p><p style=\"text-align: left; line-height: normal; font-family: &apos;Apple SD Gothic Neo&apos;;\"><span style=\"font-family: Arial;\">☆가격에 대한 경매, 유도적으로 가격 제시 덧글 등등 절대 사양합합니다</span></p><p style=\"text-align: left; line-height: normal; font-family: &apos;Apple SD Gothic Neo&apos;;\"><span style=\"font-family: Arial;\">가격 맞이 않는분들 그냥 뒤로 가기하세요 ☆</span></p><p style=\"text-align: left; line-height: normal; font-family: &apos;Apple SD Gothic Neo&apos;;\"><span style=\"font-family: Arial;\">연락처: 010 - 2933-\\xa07457 로문자 주세요.</span></p><p style=\"text-align: left; line-height: normal; font-family: &apos;Apple SD Gothic Neo&apos;;\"><span style=\"font-family: Arial;\"><span style=\"-webkit-font-kerning: none;\">서울</span><span style=\"line-height: normal; font-family: Times; -webkit-font-kerning: none;\">\\xa0[</span><span style=\"-webkit-font-kerning: none;\">직거래</span><span style=\"line-height: normal; font-family: Times; -webkit-font-kerning: none;\">] [</span><span style=\"-webkit-font-kerning: none;\">택배</span><span style=\"line-height: normal; font-family: Times; -webkit-font-kerning: none;\">] [</span><span style=\"-webkit-font-kerning: none;\">안전거래</span><span style=\"line-height: normal; font-family: Times; -webkit-font-kerning: none;\">]\\xa0</span><span style=\"-webkit-font-kerning: none;\">가능합니다</span><span style=\"line-height: normal; font-family: Times; -webkit-font-kerning: none;\">.</span></span></p><p style=\"text-align: left; line-height: normal; font-family: &apos;Apple SD Gothic Neo&apos;;\"><span style=\"font-family: Arial;\">MJLQ2kh/a 원가 239만원 &gt;\\xa0 판매 192만원.</span></p><p style=\"text-align: left; line-height: normal; font-family: &apos;Apple SD Gothic Neo&apos;;\"><span style=\"font-size: 8pt;\">___________________________________</span></p><p style=\"text-align: left; line-height: normal; font-family: &apos;Apple SD Gothic Neo&apos;;\"><span style=\"font-size: 7pt;\">MJLQ2kh\\xa0</span></p><p style=\"text-align: left; line-height: normal; font-family: &apos;Apple SD Gothic Neo&apos;;\"><span style=\"font-size: 7pt;\">댓글 문의 받지 않고 문자으로 연락 주세요.\\xa0</span></p><p style=\"text-align: left; line-height: normal; font-family: &apos;Apple SD Gothic Neo&apos;;\"><span style=\"font-size: 7pt;\">2.2GHz quad-core Intel Core i7</span></p><p style=\"text-align: left; line-height: normal; font-family: &apos;Apple SD Gothic Neo&apos;;\"><span style=\"font-size: 7pt;\">Turbo Boost up to 3.4GHz</span></p><p style=\"text-align: left; line-height: normal; font-family: &apos;Apple SD Gothic Neo&apos;;\"><span style=\"font-size: 7pt;\">16GB 1600MHz memory</span></p><p style=\"text-align: left; line-height: normal; font-family: &apos;Apple SD Gothic Neo&apos;;\"><span style=\"font-size: 7pt;\">256GB PCIe-based flash storage1</span></p><p style=\"text-align: left; line-height: normal; font-family: &apos;Apple SD Gothic Neo&apos;;\"><span style=\"font-size: 7pt;\">Intel Iris Pro Graphics</span></p><p style=\"text-align: left; line-height: normal; font-family: &apos;Apple SD Gothic Neo&apos;;\"><span style=\"font-size: 7pt;\">Built-in battery (9 hours)2</span></p><p style=\"text-align: left; line-height: normal; font-family: &apos;Apple SD Gothic Neo&apos;;\"><span style=\"font-size: 7pt;\">Force Touch trackpad</span></p><p style=\"text-align: left; line-height: normal; font-family: &apos;Apple SD Gothic Neo&apos;;\"><br /></p><p style=\"text-align: left; line-height: normal; font-family: &apos;Apple SD Gothic Neo&apos;;\">*별도 문의:<span style=\"font-family: Times New Roman; font-size: 7pt;\"> 카드 결제/ 윈도우 또는 Logic 로직프로\\xa0 . 파이널 것 프로 Finalcut. CS6 . </span><br /><span style=\"font-family: Times New Roman; font-size: 7pt;\">Adobe Audion / Adobe Bridge / Adobe Dreamwaver /Adobe Encore </span><br /><span style=\"font-family: Times New Roman; font-size: 7pt;\">/ Adobe Fireworks / Adobe Extention / Adobe flash / Adobe InDesign CS6 </span><br /><span style=\"font-family: Times New Roman; font-size: 7pt;\">/ Adobe Media Encoder CS6 / Adobe Photoshop CS6 / Adobe Prelude CS6 </span><br /><span style=\"font-family: Times New Roman; font-size: 7pt;\">/ Adobe Premiere Pro CS6 / Adobe SpeedGrade CS6 / </span><br /><span style=\"font-family: Times New Roman; font-size: 7pt;\">Parallels + Windows 윈도우 10, 8.1 / 7 / 오피스 Office 2O13 -2O1O /</span><br /><span style=\"font-family: Times New Roman; font-size: 7pt;\">\\xa0원드 Word Excel Powerpoint\\xa0 . 한글......</span></p><p style=\"text-align: left; line-height: normal; font-family: &apos;Apple SD Gothic Neo&apos;;\"><span style=\"font-family: Times New Roman; font-size: 7pt;\"><br /></span></p><p style=\"text-align: left; line-height: normal; font-family: &apos;Apple SD Gothic Neo&apos;;\">감사합니다 ^^\\xa0</p><p align=\"center\"></p><p style=\"text-align: left; line-height: normal; font-family: AppleMyungjo;\"><span style=\"line-height: normal; font-family: Times; -webkit-font-kerning: none;\"><br /></span></p><p align=\"center\"><br /></p><p align=\"center\"><br /></p><p align=\"center\"><span style=\"font-size: 8pt;\"><strong><font color=\"#7820b9\"></font></strong></span>\\xa0</p><p align=\"center\"><span style=\"font-size: 8pt;\"><font color=\"#7820b9\"></font></span>\\xa0</p><p align=\"center\"><a href=\"http://goo.gl/vvPNdc\" target=\"_blank\"><img class=\"fx _click(Utility|ThumbView|http%3A%2F%2Fdthumb.phinf.naver.net%2F%3Fsrc%3D%2522http%253A%252F%252Fcafeptthumb4.phinf.naver.net%252F20160303_164%252Fnejona_1456986688601RlgdG_PNG%252Fjn1.png%253Ftype%253Dw740%2522%26type%3Dw740)\" src=\"http://dthumb.phinf.naver.net/?src=%22http%3A%2F%2Fcafeptthumb4.phinf.naver.net%2F20160303_164%2Fnejona_1456986688601RlgdG_PNG%2Fjn1.png%3Ftype%3Dw740%22&type=w1\"></a><strong></strong></p><p align=\"center\"><span style=\"font-size: 8pt;\"></span>\\xa0</p><div><br /></div><p></p></div><div align=\"center\"><p></p></div><div id=\"__KO_DIC_LAYER__\"></div></div><p align=\"center\"><br /></p><p align=\"center\"><span style=\"font-size: 8pt;\"><strong><font color=\"#7820b9\"></font></strong></span>\\xa0</p><p align=\"center\"><span style=\"font-size: 8pt;\"><font color=\"#7820b9\"></font></span>\\xa0</p><p align=\"center\"><a href=\"http://goo.gl/vvPNdc\" target=\"_blank\"><img class=\"fx _click(Utility|ThumbView|http%3A%2F%2Fdthumb.phinf.naver.net%2F%3Fsrc%3D%2522http%253A%252F%252Fcafeptthumb4.phinf.naver.net%252F20160303_164%252Fnejona_1456986688601RlgdG_PNG%252Fjn1.png%253Ftype%253Dw740%2522%26type%3Dw740)\" src=\"http://dthumb.phinf.naver.net/?src=%22http%3A%2F%2Fcafeptthumb4.phinf.naver.net%2F20160303_164%2Fnejona_1456986688601RlgdG_PNG%2Fjn1.png%3Ftype%3Dw740%22&type=w1\"></a><strong><!-- 11시11분 중고나라-하단 배너 END --></strong></p><p align=\"center\"><span style=\"font-size: 8pt;\"></span>\\xa0</p><p></p></div><div id=\"__KO_DIC_LAYER__\"></div></div>\\n\\t\\t\\t\\t\\t\\n\\t\\t\\t\\t\\t\\n\\t\\t\\t\\t\\n\\t\\t\\t</p>\\n\\t\\t\\t\\t\\n\\t\\t\\n\\t\\t\\n\\t</div>\\n\\t\\n\\t\\n\\t\\r\\n\\r\\n\\r\\n\\r\\n\\r\\n\\r\\n\\r\\n\\n\\t\\n\\n\\t\\n\\t\\r\\n\\r\\n\\r\\n\\r\\n\\r\\n\\r\\n\\r\\n\\r\\n\\t\\r\\n\\t\\r\\n\\t<div class=\"tag_area\">\\r\\n\\t\\r\\n\\t\\t<a href=\"#\" class=\"_click(ArticleRead|Tag|%EB%A7%A5%EB%B6%81%ED%94%84%EB%A1%9C%EB%A0%88%ED%8B%B0%EB%82%98) _stopDefault\" onclick=\"nclk(this,\\'arc.tag\\',\\'\\',\\'\\');\">#맥북프로레티나</a>\\r\\n\\t\\r\\n\\t\\t<a href=\"#\" class=\"_click(ArticleRead|Tag|%EC%9C%88%EB%8F%84%EC%9A%B0) _stopDefault\" onclick=\"nclk(this,\\'arc.tag\\',\\'\\',\\'\\');\">#윈도우</a>\\r\\n\\t\\r\\n\\t\\t<a href=\"#\" class=\"_click(ArticleRead|Tag|%EB%A1%9C%EC%A7%81) _stopDefault\" onclick=\"nclk(this,\\'arc.tag\\',\\'\\',\\'\\');\">#로직</a>\\r\\n\\t\\r\\n\\t\\t<a href=\"#\" class=\"_click(ArticleRead|Tag|%ED%8C%8C%EC%9D%B4%EB%84%90) _stopDefault\" onclick=\"nclk(this,\\'arc.tag\\',\\'\\',\\'\\');\">#파이널</a>\\r\\n\\t\\r\\n\\t\\t<a href=\"#\" class=\"_click(ArticleRead|Tag|mjlt2) _stopDefault\" onclick=\"nclk(this,\\'arc.tag\\',\\'\\',\\'\\');\">#mjlt2</a>\\r\\n\\t\\r\\n\\t\\t<a href=\"#\" class=\"_click(ArticleRead|Tag|mjlq2) _stopDefault\" onclick=\"nclk(this,\\'arc.tag\\',\\'\\',\\'\\');\">#mjlq2</a>\\r\\n\\t\\r\\n\\t\\t<a href=\"#\" class=\"_click(ArticleRead|Tag|mf840) _stopDefault\" onclick=\"nclk(this,\\'arc.tag\\',\\'\\',\\'\\');\">#mf840</a>\\r\\n\\t\\r\\n\\t\\t<a href=\"#\" class=\"_click(ArticleRead|Tag|mf841) _stopDefault\" onclick=\"nclk(this,\\'arc.tag\\',\\'\\',\\'\\');\">#mf841</a>\\r\\n\\t\\r\\n\\t\\t<a href=\"#\" class=\"_click(ArticleRead|Tag|%EB%89%B4%EB%A7%A5%EB%B6%81) _stopDefault\" onclick=\"nclk(this,\\'arc.tag\\',\\'\\',\\'\\');\">#뉴맥북</a>\\r\\n\\t\\r\\n\\t</div>\\r\\n\\n    \\n\\n\\t\\n\\t\\n\\n\\n\\n\\n<div class=\"end_sns_area\">\\t\\t\\t\\n\\t\\n\\t\\n\\t\\n\\t\\n\\t\\n\\t<div class=\"btn_like_w\">\\n\\t\\t<div class=\"u_likeit_list_module\">\\n\\t \\t\\t\\n\\t\\t\\t\\n\\t\\t\\t\\t\\n\\t\\t\\t\\t\\t\\t\\t\\t\\n\\t\\t\\t\\t\\n\\t\\t\\t\\t\\t<a href=\"javascript:;\" id=\"articleRecommendBtn\" class=\"u_likeit_list_btn disabled _stopDefault _recommendBtnClass\" onclick=\"_cafeApplyByLikeBtn();\">\\n\\t\\t\\t\\t\\t\\t<span class=\"u_ico\"></span>\\n\\t\\t\\t\\t\\t\\t<em class=\"u_txt _likeItZero\" style=\"\">좋아요</em>\\n\\t\\t\\t\\t\\t\\t<em class=\"u_cnt _recommendCount\" style=\"display: none\">0</em>\\n\\t\\t\\t\\t\\t</a>\\n\\t\\t\\t\\t\\t<a href=\"javascript:;\" class=\"btn_like_more _likeItMember _click(ArticleRead|LikeItMemberView|false) _stopDefault\" onclick=\"nclk(this, \\'lik.user\\', \\'\\', \\'\\')\" style=\"display: none\"><span class=\"u_ico\"><em class=\"blind\">더보기</em></span></a>\\n\\t\\t\\t\\t\\t\\t\\t\\t\\t\\t\\t\\t\\n\\t\\t\\t\\t\\t\\t\\t\\t\\t\\t\\n\\t\\t\\t\\t\\n\\t\\t\\t\\n\\t\\t</div>\\n\\t</div>\\t\\n\\t<div class=\"btn_like_w comment_lst\" style=\"display: inline-block\">\\n\\t\\t<div class=\"u_likeit_list_module u_comment_list_module\">\\n\\t\\t\\t\\n\\t\\t\\t\\t\\n\\t\\t\\t\\t\\t<a class=\"u_likeit_list_btn _click(ArticleRead|ViewComment|0|/CommentView.nhn?search.clubid=10050146&search.articleid=333500721&page=&sc=) _stopDefault\" onclick=\"nclk(this,\\'arf.cmt\\',\\'\\',\\'\\');\">\\n\\t\\t\\t\\t\\t\\t<span class=\"u_ico\"></span>\\n\\t\\t\\t\\t\\t\\t\\t\\n\\t\\t\\t\\t\\t\\t\\t<em class=\"u_txt\">댓글</em>\\n\\t\\t\\t\\t\\t\\t\\n\\t\\t\\t\\t\\t</a>\\n\\t\\t\\t\\t\\n\\t\\t\\t\\t\\n\\t\\t\\t\\n\\t\\t</div>\\n\\t</div>\\t\\n\\t\\n\\t\\n \\t \\n\\t    \\n\\t    <a href=\"#\" id=\"spiButton\" data-style=\"one-button\" class=\"naver-splugin spi_sns_share btn_share_w\" onclick=\"nclk(this, \\'arf.share\\', \\'\\', \\'\\')\"\\n\\t       data-url=\"http://cafe.naver.com/joonggonara/333500721\"\\n\\t       data-title=\"[미개봉] 신형 맥북프로 레티나 15인치  MJLQ2kh/a 팝니다\"\\n\\t       data-cafe-source-type=\"111\"\\n\\t       data-cafe-source-title=\"[미개봉] 신형 맥북프로 레티나 15인치  MJLQ2kh/a 팝니다\"\\n\\t       data-cafe-proxy-url=\"http://m.cafe.naver.com/CafeScrapContent.nhn?clubid=10050146&articleid=333500721&type=cafe\"\\n\\t       data-cafe-return-url=\"http://m.cafe.naver.com/joonggonara/333500721\"\\n\\t       data-blog-source-type=\"111\"\\n\\t       data-blog-source-title=\"[미개봉] 신형 맥북프로 레티나 15인치  MJLQ2kh/a 팝니다\"\\n\\t       data-blog-proxy-url=\"http://m.cafe.naver.com/CafeScrapContent.nhn?clubid=10050146&articleid=333500721&type=blog\"\\n\\t       data-blog-return-url=\"http://m.cafe.naver.com/joonggonara/333500721\"\\n\\t       data-oninitialize=\"splugin_oninitialize();\">\\n\\t    </a>\\n\\t\\n\\t\\n</div>\\n<script type=\"text/javascript\">\\nfunction  _cafeApplyByLikeBtn(){\\n\\tif(confirm(\\'게시물 좋아요 기능은 카페에 가입한 멤버만 사용 할 수 있습니다. 가입하시겠습니까?\\')){\\n\\t\\tdocument.location.href = \\'/CafeApply.nhn?clubid=\\' + 10050146;\\n\\t}\\n}\\n</script>\\n\\n     \\n\\t\\n\\t\\n    \\n    \\n\\t\\n\\t\\n\\t\\n\\t\\n\\t\\n\\t\\t\\n\\t\\n\\t\\n\\t\\n\\t\\n\\t\\n\\n\\n\\n\\n\\n\\n\\n\\t\\n\\t\\n\\t\\r\\n\\r\\n\\r\\n\\r\\n\\r\\n\\r\\n\\r\\n\\r\\n\\r\\n\\r\\n\\r\\n\\r\\n\\r\\n\\r\\n\\r\\n\\r\\n\\r\\n\\r\\n<div class=\\'section_nav\\'>\\r\\n\\t\\r\\n\\t\\r\\n\\t<a href=\"/ArticleRead.nhn?clubid=10050146&articleid=333500747&boardtype=null&referrerAllArticles=false&menutype=B&wCmt=true&commentCount=1&commentNew=false&rClick=true&menuid=334\" class=\"prev\" onclick=\"nclk(this,\\'arc.prev\\',\\'\\',\\'\\')\">\\r\\n\\t\\t<span class=\\'bu\\'>이전글</span>\\r\\n\\t\\t<span class=\"tx\"><span class=\"ellip\">삼성노트북 (NT-RV511-A35S) 팝니다.</span></span>\\r\\n\\t\\t<span class=\"no font_l\">\\r\\n\\t\\t\\r\\n\\t\\t\\r\\n\\t\\t\\r\\n\\t\\t\\t(1)\\r\\n\\t\\t\\r\\n\\t\\t\\r\\n\\t\\t</span>\\r\\n\\t</a>\\r\\n\\t\\r\\n\\t\\r\\n\\t\\r\\n\\t\\r\\n\\t<a href=\"/ArticleRead.nhn?clubid=10050146&articleid=333500678&boardtype=null&referrerAllArticles=false&menutype=B&wCmt=true&commentCount=0&commentNew=false&rClick=true&menuid=334\" class=\"next\" onclick=\"nclk(this,\\'arc.next\\',\\'\\',\\'\\')\">\\r\\n\\t\\t<span class=\\'bu\\'>다음글</span>\\r\\n\\t\\t<span class=\"tx\"><span class=\"ellip\">삼성 노트북9 Lite 구매합니다</span></span>\\r\\n\\t\\t<span class=\"no font_l\">\\t\\r\\n\\t\\t\\r\\n\\t\\t\\r\\n\\t\\t\\r\\n\\t\\t\\t\\r\\n\\t\\t\\r\\n\\t\\t\\r\\n\\t\\t</span>\\r\\n\\t</a>\\r\\n\\t\\r\\n\\t\\r\\n</div>\\r\\n\\n\\n\\t\\n\\t\\n\\n\\n\\n\\n\\n\\t<div id=\"searchArticleArea\" class=\\'section_forum\\'>\\n\\t\\t<div class=\"top_area\">\\n\\t\\t\\t<h3 class=\"tit\">&#39;<strong>[미개봉] 신형 맥북프로 레티나 15</strong>&#39;에 대한 카페검색글</h3>\\n\\t\\t\\t<a href=\"#\" class=\"more\" onclick=\"moreSearchResult()\">더보기</a>\\n\\t\\t</div>\\n\\t\\t\\n\\t\\t<ul class=\\'list\\'>\\n\\t\\t\\t\\n\\t\\t\\t<li class=\\'current_article\\'>\\n\\t\\t\\t\\t\\n\\t\\t\\t\\t\\n\\t\\t\\t\\t<a href=\\'http://m.cafe.naver.com/joonggonara/333500721?query=맥북\\' class=\"searchArticleLink _click(CafeJoinSuggestionManager|IncreaseSuggestionHistory)\" onclick=\"nclk(this,\\'cnx.list\\',\\'\\',\\'\\');\">\\n\\t\\t\\t\\t\\t<span class=\"thmb\"><img src=\"http://tv02.search.naver.net/rtugc?size=r120&q=http://cafefiles.naver.net/20160825_69/cheerforever_14720889263962l1DE_JPEG/20150624_084909.jpg#4160x2340\" width=\"57\" height=\"57\" alt=\"\"></span>\\n\\t\\t\\t\\t\\t<span class=\"tx\"><span class=\"ellip\"><b>[미개봉] 신형 맥북프로 레티나 15</b>인치 MJLQ2kh/a 팝니다</span></span>\\n\\t\\t\\t\\t\\t<em class=\"no font_l\"></em>\\n\\t\\t\\t\\t\\t<span class=\"ic\">\\n\\t\\t\\t\\t\\t\\t\\n\\t\\t\\t\\t\\t\\t\\n\\t\\t\\t\\t\\t\\t\\n\\t\\t            \\t\\n\\t\\t            \\t\\n\\t\\t\\t\\t\\t\\t\\n\\t\\t\\t\\t\\t\\t\\n\\t\\t\\t\\t\\t\\t\\n\\t\\t\\t\\t\\t\\t\\n\\t\\t\\t\\t\\t</span>\\n\\t\\t\\t\\t</a>\\n\\t\\t\\t</li>\\n\\t\\t\\t\\n\\t\\t\\t<li >\\n\\t\\t\\t\\t\\n\\t\\t\\t\\t\\n\\t\\t\\t\\t<a href=\\'http://m.cafe.naver.com/joonggonara/329723155?query=맥북\\' class=\"searchArticleLink _click(CafeJoinSuggestionManager|IncreaseSuggestionHistory)\" onclick=\"nclk(this,\\'cnx.list\\',\\'\\',\\'\\');\">\\n\\t\\t\\t\\t\\t<span class=\"thmb\"><img src=\"http://tv01.search.naver.net/rtugc?size=r120&q=http://cafefiles.naver.net/20160729_258/lubji_o_1469778396353doKFh_JPEG/20160121_155222.jpg#2988x5312\" width=\"57\" height=\"57\" alt=\"\"></span>\\n\\t\\t\\t\\t\\t<span class=\"tx\"><span class=\"ellip\"><b>신형 맥북 프로 레티나 15</b>인치 고급형 <b>미개봉</b> 상품 판매합니다. (237만)</span></span>\\n\\t\\t\\t\\t\\t<em class=\"no font_l\"></em>\\n\\t\\t\\t\\t\\t<span class=\"ic\">\\n\\t\\t\\t\\t\\t\\t\\n\\t\\t\\t\\t\\t\\t\\n\\t\\t\\t\\t\\t\\t\\n\\t\\t            \\t\\n\\t\\t            \\t\\n\\t\\t\\t\\t\\t\\t\\n\\t\\t\\t\\t\\t\\t\\n\\t\\t\\t\\t\\t\\t\\n\\t\\t\\t\\t\\t\\t\\n\\t\\t\\t\\t\\t</span>\\n\\t\\t\\t\\t</a>\\n\\t\\t\\t</li>\\n\\t\\t\\t\\n\\t\\t\\t<li >\\n\\t\\t\\t\\t\\n\\t\\t\\t\\t\\n\\t\\t\\t\\t<a href=\\'http://m.cafe.naver.com/joonggonara/332177543?query=맥북\\' class=\"searchArticleLink _click(CafeJoinSuggestionManager|IncreaseSuggestionHistory)\" onclick=\"nclk(this,\\'cnx.list\\',\\'\\',\\'\\');\">\\n\\t\\t\\t\\t\\t<span class=\"thmb\"><img src=\"http://tv02.search.naver.net/rtugc?size=r120&q=http://cafefiles.naver.net/20160817_123/nuevaluz_14713674780297lrqe_JPEG/20160817_013859.jpg#740x1315\" width=\"57\" height=\"57\" alt=\"\"></span>\\n\\t\\t\\t\\t\\t<span class=\"tx\"><span class=\"ellip\">판매완료 <b>[미개봉]</b> <b>맥북프로 레티나</b> 2015 mid <b>15</b>인치 기본형 팝니다</span></span>\\n\\t\\t\\t\\t\\t<em class=\"no font_l\"></em>\\n\\t\\t\\t\\t\\t<span class=\"ic\">\\n\\t\\t\\t\\t\\t\\t\\n\\t\\t\\t\\t\\t\\t\\n\\t\\t\\t\\t\\t\\t\\n\\t\\t            \\t\\n\\t\\t            \\t\\n\\t\\t\\t\\t\\t\\t\\n\\t\\t\\t\\t\\t\\t\\n\\t\\t\\t\\t\\t\\t\\n\\t\\t\\t\\t\\t\\t\\n\\t\\t\\t\\t\\t</span>\\n\\t\\t\\t\\t</a>\\n\\t\\t\\t</li>\\n\\t\\t\\t\\n\\t\\t\\t<li >\\n\\t\\t\\t\\t\\n\\t\\t\\t\\t\\n\\t\\t\\t\\t<a href=\\'http://m.cafe.naver.com/joonggonara/333296424?query=맥북\\' class=\"searchArticleLink _click(CafeJoinSuggestionManager|IncreaseSuggestionHistory)\" onclick=\"nclk(this,\\'cnx.list\\',\\'\\',\\'\\');\">\\n\\t\\t\\t\\t\\t<span class=\"thmb\"><img src=\"http://tv02.search.naver.net/rtugc?size=r120&q=http://cafefiles.naver.net/20160824_72/rrnini_1472034713761T4FfH_JPEG/WIN_20160419_111947.JPG#2592x1728\" width=\"57\" height=\"57\" alt=\"\"></span>\\n\\t\\t\\t\\t\\t<span class=\"tx\"><span class=\"ellip\"><b>맥북 프로 레티나 15</b>인치 고급형 MJLT2KH/A</span></span>\\n\\t\\t\\t\\t\\t<em class=\"no font_l\"></em>\\n\\t\\t\\t\\t\\t<span class=\"ic\">\\n\\t\\t\\t\\t\\t\\t\\n\\t\\t\\t\\t\\t\\t\\n\\t\\t\\t\\t\\t\\t\\n\\t\\t            \\t\\n\\t\\t            \\t\\n\\t\\t\\t\\t\\t\\t\\n\\t\\t\\t\\t\\t\\t\\n\\t\\t\\t\\t\\t\\t\\n\\t\\t\\t\\t\\t\\t\\n\\t\\t\\t\\t\\t</span>\\n\\t\\t\\t\\t</a>\\n\\t\\t\\t</li>\\n\\t\\t\\t\\n\\t\\t\\t<li >\\n\\t\\t\\t\\t\\n\\t\\t\\t\\t\\n\\t\\t\\t\\t<a href=\\'http://m.cafe.naver.com/joonggonara/272211526?query=맥북\\' class=\"searchArticleLink _click(CafeJoinSuggestionManager|IncreaseSuggestionHistory)\" onclick=\"nclk(this,\\'cnx.list\\',\\'\\',\\'\\');\">\\n\\t\\t\\t\\t\\t<span class=\"thmb\"><img src=\"http://tv01.search.naver.net/rtugc?size=r120&q=http://cafefiles.naver.net/20150625_168/catsay1130_1435191394012UQccR_JPEG/740_1434876701749.jpeg#740x555\" width=\"57\" height=\"57\" alt=\"\"></span>\\n\\t\\t\\t\\t\\t<span class=\"tx\"><span class=\"ellip\">(<b>미개봉</b>) <b>맥북 프로 레티나</b> 2015 <b>신형</b> <b>15</b>인치 MJLQ2KH/A 팝니다</span></span>\\n\\t\\t\\t\\t\\t<em class=\"no font_l\">(3)</em>\\n\\t\\t\\t\\t\\t<span class=\"ic\">\\n\\t\\t\\t\\t\\t\\t\\n\\t\\t\\t\\t\\t\\t\\n\\t\\t\\t\\t\\t\\t\\n\\t\\t            \\t\\n\\t\\t            \\t\\n\\t\\t\\t\\t\\t\\t\\n\\t\\t\\t\\t\\t\\t\\n\\t\\t\\t\\t\\t\\t\\n\\t\\t\\t\\t\\t\\t\\n\\t\\t\\t\\t\\t</span>\\n\\t\\t\\t\\t</a>\\n\\t\\t\\t</li>\\n\\t\\t\\t\\n\\t\\t</ul>\\n\\t</div>\\n\\t\\n\\t\\n\\t\\n\\t<div class=\\'section_alarm\\'>\\n\\t\\t<a href=\"#\" class=\"_click(ArticleRead|SearchKeyword|10050146|%5B%EB%AF%B8%EA%B0%9C%EB%B4%89%5D+%EC%8B%A0%ED%98%95+%EB%A7%A5%EB%B6%81%ED%94%84%EB%A1%9C+%EB%A0%88%ED%8B%B0%EB%82%98+15) _stopDefault\" onclick=\"nclk(this,\\'cnx.kwalarm\\',\\'\\',\\'\\');\">\\n\\t\\t\\t&#39;<stong class=\\'keywd\\'>[미개봉] 신형 맥북프로 레티나 15</stong>&#39; 포함된 새글이 등록될 때 알림 설정하기\\n\\t\\t</a>\\n\\t</div>\\n\\t\\n\\n\\n\\t\\n\\n\\t\\n\\t\\r\\n\\r\\n\\r\\n\\r\\n\\r\\n\\r\\n\\r\\n\\t<div class=\"area_sa section area_sa_h\">\\r\\n\\t\\t<div class=\"wrap_sa  wrap_sa_section\">\\r\\n\\t\\t    <em class=\"ads\">Ads by NAVER</em>\\r\\n\\t\\t    <a href=\"https://m.help.naver.com/support/contents/contentsView.nhn?contentsNo=4299&lang=ko\" class=\"ic help\">도움말</a>\\r\\n\\t\\t\\t<ul class=\"lst_sa\">\\r\\n\\t\\t\\t\\t\\t\\t\\r\\n\\t\\t\\t\\t<li>\\r\\n\\t\\t\\t\\t\\t<div class=\"lst_in\">\\r\\n\\t\\t\\t\\t\\t\\t<div class=\"lst_h\">\\r\\n\\t\\t\\t\\t\\t\\t\\t<a href=\"http://adcr.naver.com/adcr?x=xD3DEdQ9ps9Kd29Q6GiFVf///w==kLPfFjRulfpRTFEV62BYphCaGWxgt/2ATvLEk1o49NodlQzk8/DCLLDuw67o+zu9d2EBbS8uMD7LcOsy0N08mjpHHA7DXa7bxcDPayph4hDFeM7MGtzcDSSiq4Kwj/Z4Zrk/89F+FdBzs99cseqrclUOpNNQeP/MMYAyOstVlGRRkTnV/WOdMN6Hiz5QB1bA61khPdv0GshGL20SFGK6oeEWnuFSpYPqED7k6/KpJnt35KrEglHqJf8meDhQ6/mkDlKYKBxVxeAW1JrZtAZMXXTD+/nyC7T2s2YEVFpYk8gZ4cV23DTkTNVfCHLQ+2umcY17SbPLHVYxWmFVo0mE47azIO1q8Z34xPGhHYWillYvNm1s3KKWqYmzIj+/2Z5TZz9Qu3tdR6av5kJdBAWQ/XwtgLCEfElSBtz8xIygX9IIvT6VskI2oJOAgyueJjARSPQaHOdtyZS7MMmwvcV/tBhCpyboXAT5Eb4pI//sdOlL6h+tAPizaxNTRtqOHYbj/7CpT66RipSOthiDHevN4mijHJOpJX2v7k2MRdM2qRlRswRVSpel3jXxuuOoUroBp8H0PoCBL4kxByMYZTDGDGQTNx179DMn2U01z51D7o2AyZKPFOTdOnGN1CcXfuoPz\" target=\"_top\" class=\"tit\"><strong><span class=\"tit_ellps\">직장인영어 1위 비네이티브</span></strong></a>\\r\\n\\t\\t\\t\\t\\t\\t\\t<span class=\"ic mb\">모바일</span>\\r\\n\\t\\t\\t\\t\\t\\t</div>\\r\\n\\t\\t\\t\\t\\t\\t<p class=\"txt\">맥북패키지 구매시 최대 132만원 할인, 맥북에어, 프로 전기종 무이자 12개월!</p>\\r\\n\\t\\t\\t\\t\\t\\t<div class=\"lst_f\">\\r\\n\\t\\t\\t\\t\\t\\t    \\r\\n\\t\\t\\t\\t\\t\\t\\t\\r\\n\\t\\t\\t\\t\\t\\t\\t<a href=\"http://adcr.naver.com/adcr?x=xD3DEdQ9ps9Kd29Q6GiFVf///w==kLPfFjRulfpRTFEV62BYphCaGWxgt/2ATvLEk1o49NodlQzk8/DCLLDuw67o+zu9d2EBbS8uMD7LcOsy0N08mjpHHA7DXa7bxcDPayph4hDFeM7MGtzcDSSiq4Kwj/Z4Zrk/89F+FdBzs99cseqrclUOpNNQeP/MMYAyOstVlGRRkTnV/WOdMN6Hiz5QB1bA61khPdv0GshGL20SFGK6oeEWnuFSpYPqED7k6/KpJnt35KrEglHqJf8meDhQ6/mkDlKYKBxVxeAW1JrZtAZMXXTD+/nyC7T2s2YEVFpYk8gZ4cV23DTkTNVfCHLQ+2umcY17SbPLHVYxWmFVo0mE47azIO1q8Z34xPGhHYWillYvNm1s3KKWqYmzIj+/2Z5TZz9Qu3tdR6av5kJdBAWQ/XwtgLCEfElSBtz8xIygX9IIvT6VskI2oJOAgyueJjARSPQaHOdtyZS7MMmwvcV/tBhCpyboXAT5Eb4pI//sdOlL6h+tAPizaxNTRtqOHYbj/7CpT66RipSOthiDHevN4mijHJOpJX2v7k2MRdM2qRlRswRVSpel3jXxuuOoUroBp8H0PoCBL4kxByMYZTDGDGQTNx179DMn2U01z51D7o2AyZKPFOTdOnGN1CcXfuoPz\" target=\"_top\" class=\"btn_link\">http://m.benativepro.kr</a>\\r\\n\\t\\t\\t\\t\\t\\t\\t\\r\\n\\t\\t\\t\\t\\t\\t</div>\\r\\n\\t\\t\\t\\t\\t</div>\\r\\n\\t\\t\\t\\t</li>\\r\\n\\t\\t\\t\\t\\t\\t\\r\\n\\t\\t\\t\\t<li>\\r\\n\\t\\t\\t\\t\\t<div class=\"lst_in\">\\r\\n\\t\\t\\t\\t\\t\\t<div class=\"lst_h\">\\r\\n\\t\\t\\t\\t\\t\\t\\t<a href=\"http://adcr.naver.com/adcr?x=qiKqCvMZAkA2qOFl4TQ8Sf///w==kE52Bl6yqhwtT5c+lzS4vC8xvG3pFa75MOy1gXxYTG49nKAC34amOjW1hljWEAjTNm/BCRGlHuqrUbLICjVQ1E7xHsRpgtNEw+sZS0HJuRATPreavOhs9BP4teylexnsrGijGCSH0hD8w4aDBjL3c2UeioFXAFOHMjAD1g5BC5JR4pKh29tzuNREkdkRJ6RWGpYJ/aEMJELZbPCBOVuvpBciZjjNzOZYt3dWZKtfHnPHICXlRpmmKqsFO+TIY1u4p9n1yl1BjlkXGT8gQIHR48Tb7J8/rgcQidnxXmFH396VdAjqLJGAwX1J/iR3CFtgSXY7WC7UkR6Kj4p+WqAAtg1aBlLvDxPnD8b6F+cemCtTdyCaHU54i5DZZJcrpvwq/bA3j6LAqbQ4jX4nN0MerSY8xvYAhptKr6P+ADQYjKZQcWfaJGRY0El6AdGDhSWNW\" target=\"_top\" class=\"tit\"><strong><span class=\"tit_ellps\">컴퓨터수리매입전문 공룡컴퓨터</span></strong></a>\\r\\n\\t\\t\\t\\t\\t\\t\\t<span class=\"ic mb\">모바일</span>\\r\\n\\t\\t\\t\\t\\t\\t</div>\\r\\n\\t\\t\\t\\t\\t\\t<p class=\"txt\">수원PC출장수리매입, 노트북, 디카, LCDTV, 모니터, PDP 디지털제품 매입</p>\\r\\n\\t\\t\\t\\t\\t\\t<div class=\"lst_f\">\\r\\n\\t\\t\\t\\t\\t\\t    \\r\\n\\t\\t\\t\\t\\t\\t\\t\\r\\n\\t\\t\\t\\t\\t\\t\\t<a href=\"http://adcr.naver.com/adcr?x=qiKqCvMZAkA2qOFl4TQ8Sf///w==kE52Bl6yqhwtT5c+lzS4vC8xvG3pFa75MOy1gXxYTG49nKAC34amOjW1hljWEAjTNm/BCRGlHuqrUbLICjVQ1E7xHsRpgtNEw+sZS0HJuRATPreavOhs9BP4teylexnsrGijGCSH0hD8w4aDBjL3c2UeioFXAFOHMjAD1g5BC5JR4pKh29tzuNREkdkRJ6RWGpYJ/aEMJELZbPCBOVuvpBciZjjNzOZYt3dWZKtfHnPHICXlRpmmKqsFO+TIY1u4p9n1yl1BjlkXGT8gQIHR48Tb7J8/rgcQidnxXmFH396VdAjqLJGAwX1J/iR3CFtgSXY7WC7UkR6Kj4p+WqAAtg1aBlLvDxPnD8b6F+cemCtTdyCaHU54i5DZZJcrpvwq/bA3j6LAqbQ4jX4nN0MerSY8xvYAhptKr6P+ADQYjKZQcWfaJGRY0El6AdGDhSWNW\" target=\"_top\" class=\"btn_link\">http://blog.naver.com/kimsaak</a>\\r\\n\\t\\t\\t\\t\\t\\t\\t\\r\\n\\t\\t\\t\\t\\t\\t</div>\\r\\n\\t\\t\\t\\t\\t</div>\\r\\n\\t\\t\\t\\t</li>\\r\\n\\t\\t\\t\\t\\t\\t\\r\\n\\t\\t\\t</ul>\\r\\n\\t\\t</div>\\r\\n\\t</div>\\r\\n<script type=\"text/javascript\">\\r\\nfunction adCR(adcrUrl, p, hrefUrl) {\\r\\n    var l = adcrUrl + \"&p=\" + p;\\r\\n    if (document.images) {\\r\\n        var img = new Image();\\r\\n        if (typeof hrefUrl != \"undefined\") {\\r\\n            img.onerror = function (event) {\\r\\n                document.location = hrefUrl;\\r\\n            };\\r\\n        }\\r\\n        img.src = l;\\r\\n    } else {\\r\\n        document.location = l;\\r\\n    }\\r\\n};\\r\\n</script>\\r\\n\\r\\n\\n\\t\\n\\n</div>\\n\\n\\n<hr/>\\n\\n\\n\\r\\n\\r\\n\\r\\n\\r\\n \\r\\n\\r\\n\\r\\n\\t\\r\\n\\t\\r\\n\\t\\r\\n \\r\\n\\r\\n\\r\\n\\r\\n\\r\\n\\r\\n\\r\\n\\r\\n\\r\\n<!-- 하단 고정바 -->\\r\\n<div class=\"footer_fix\">\\r\\n    <a href=\"/ArticleList.nhn?search.clubid=10050146&search.menuid=334&search.boardtype=T&search.page=\" class=\"btn_list\" onclick=\"nclk(this,\\'bta.list\\',\\'\\',\\'\\')\">목록으로</a>\\r\\n \\t<div class=\"right_area\">\\r\\n \\t\\t\\r\\n\\t \\t\\t\\r\\n\\t \\t\\t\\r\\n \\t \\t\\t\\r\\n\\t \\t\\t\\t\\r\\n\\t\\t\\t\\t\\r\\n\\t\\t\\t\\t<a id=\"articleRecommendBtn\" href=\"#\"  class=\"f_great  inactive\"  onclick=\"cafeApplyByLikeBtn();\"><span class=\"blind\">좋아요</span><em id=\"recommendCount\" class=\"_recommendCount\">0</em></a>\\r\\n\\t\\t\\t\\t\\r\\n\\t\\t\\t\\t\\r\\n\\t \\t \\t\\r\\n\\t\\t\\t\\r\\n\\t\\t\\t\\r\\n\\t\\t\\t\\t\\r\\n\\t\\t\\t\\t\\t<a href=\"#\" class=\"f_reply _click(ArticleRead|ViewComment|0|/CommentView.nhn?search.clubid=10050146&search.articleid=333500721&page=&sc=) _stopDefault\" onclick=\"nclk(this,\\'bta.cmt\\',\\'\\',\\'\\');\"><span class=\"blind\">댓글</span><em>0</em></a>\\r\\n\\t\\t\\t\\t\\r\\n \\t\\t\\t\\t\\r\\n\\t \\t \\t\\r\\n\\t\\t\\t\\t\\r\\n\\t\\t\\t\\r\\n\\t\\t\\t<!-- 공유하기 허용인 경우에만 노출 -->\\r\\n \\t\\t\\t\\r\\n\\t \\t\\t\\r\\n\\t\\t\\t   \\r\\n\\t\\t\\t   <a href=\"#\" id=\"spiButton\" data-style=\"one-button\" class=\"naver-splugin spi_sns_share f_share \" onclick=\"nclk(this, \\'bta.share\\', \\'\\', \\'\\')\"\\r\\n\\t\\t\\t      data-url=\"http://cafe.naver.com/joonggonara/333500721\"\\r\\n\\t\\t\\t      data-title=\"\"\\r\\n\\t\\t\\t      data-cafe-source-type=\"111\"\\r\\n\\t\\t\\t      data-cafe-source-title=\"\"\\r\\n\\t\\t\\t      data-cafe-proxy-url=\"http://m.cafe.naver.com/CafeScrapContent.nhn?clubid=10050146&articleid=333500721&type=cafe\"\\r\\n\\t\\t\\t      data-cafe-return-url=\"http://m.cafe.naver.com/joonggonara/333500721\"\\r\\n\\t\\t\\t      data-blog-source-type=\"111\"\\r\\n\\t\\t\\t      data-blog-source-title=\"\"\\r\\n\\t\\t\\t      data-blog-proxy-url=\"http://m.cafe.naver.com/CafeScrapContent.nhn?clubid=10050146&articleid=333500721&type=blog\"\\r\\n\\t\\t\\t      data-blog-return-url=\"http://m.cafe.naver.com/joonggonara/333500721\"\\r\\n\\t\\t\\t      data-oninitialize=\"splugin_oninitialize();\">\\r\\n\\t\\t\\t      <span class=\"blind\">공유하기</span>\\r\\n\\t\\t\\t   </a>\\r\\n\\t\\t\\t\\r\\n\\t\\t\\r\\n\\t</div>\\r\\n</div>\\r\\n\\r\\n<script type=\"text/javascript\">\\r\\nfunction  cafeApplyByLikeBtn(){\\r\\n\\tif(confirm(\\'게시물 좋아요 기능은 카페에 가입한 멤버만 사용 할 수 있습니다. 가입하시겠습니까?\\')){\\r\\n\\t\\tdocument.location.href = \\'/CafeApply.nhn?clubid=\\' + 10050146;\\r\\n\\t}\\r\\n}\\r\\n</script>\\n\\n\\n\\n\\n\\n\\n\\n\\r\\n\\r\\n\\r\\n\\r\\n<div id=\"cafeJoinSuggestionLayer\" class=\"pop_lyr\" style=\"display:none\">\\r\\n    <div class=\"dimmed\"></div>\\r\\n    <div id=\"dimmedArea\" class=\"lyr_cont _click(CafeJoinSuggestionManager|HideLayer)\" onclick=\"return false\">\\r\\n        <div class=\"lyr_add_join\">\\r\\n            <div class=\"writer_area\">\\r\\n                <a href=\"#\" id=\"cafeThumbnailLink\" class=\"thumb _click(CafeJoinSuggestionManager|CafeThumbnail)\">\\r\\n                    \\r\\n                        \\r\\n                            <img src=\"http://mcafethumb2.phinf.naver.net/20160224_216/nejona_1456307269895CXTuC_PNG/image.png?type=f100_100\" width=\"43\" height=\"43\" alt=\"섬네일\" onclick=\"nclk(this,\\'jel.icon\\',\\'\\',\\'\\');\" />\\r\\n                        \\r\\n                        \\r\\n                    \\r\\n                </a>\\r\\n                <span class=\"desc\">\\r\\n                    <strong class=\"name\"><span class=\"ell\">중고나라</span></strong><span class=\"txt\">카페가 마음에 드시나요?</span>\\r\\n                </span>\\r\\n                <span class=\"desc\">가입하고 더 많은 정보를 공유해 보세요!</span>\\r\\n            </div>\\r\\n            <a href=\"#\" id=\"btnJoin\" class=\"btn add_buddy _click(CafeJoinSuggestionManager|Join)\" onclick=\"nclk(this,\\'jel.join\\',\\'\\',\\'\\');\">가입하기</a>\\r\\n            <a href=\"#\" id=\"btnCancel\" class=\"btn cancel _click(CafeJoinSuggestionManager|Cancel)\" onclick=\"nclk(this,\\'jel.cancel\\',\\'\\',\\'\\');\">취소</a>\\r\\n        </div>\\r\\n    </div>\\r\\n</div>\\r\\n\\r\\n\\n\\n\\n<form name=\"articleDeleteFrm\" method=\"post\" action=\"/ArticleDelete.nhn\">\\n\\t<input type=\"hidden\" name=\"clubid\" value=\"10050146\">\\n\\t<input type=\"hidden\" name=\"menuid\" value=\"334\">\\n\\t<input type=\"hidden\" name=\"articleid\" value=\"333500721\">\\n</form>\\n\\n<form name=\"simpleArticleDeleteFrm\" method=\"post\" action=\"/SimpleArticleDelete.nhn\">\\n\\t<input type=\"hidden\" name=\"clubid\" value=\"10050146\">\\n\\t<input type=\"hidden\" name=\"articleid\" value=\"333500721\">\\n</form>\\n\\n<form name=\"articleModifyFrm\" method=\"get\" action=\"/ArticleWrite.nhn\">\\n\\t  \\n    <input type=\"hidden\" name=\"articleid\" value=\"333500721\">  \\n\\t  \\n    <input type=\"hidden\" name=\"query\" value=\"맥북\">  \\n\\t  \\n    <input type=\"hidden\" name=\"menuid\" value=\"334\">  \\n\\t  \\n    <input type=\"hidden\" name=\"clubid\" value=\"10050146\">  \\n\\t\\n    <input type=\"hidden\" name=\"m\" value=\"modify\">\\n</form>\\n\\n<form name=\"simpleArticleModifyFrm\" method=\"get\" action=\"/SimpleArticleWrite.nhn\">\\n    <input type=\"hidden\" name=\"m\" value=\"modify\">\\n    <input type=\"hidden\" name=\"articleid\" value=\"333500721\">\\n    <input type=\"hidden\" name=\"clubid\" value=\"10050146\">\\n</form>\\n\\n<form name=\"articleSoldOutFrm\" method=\"post\" action=\"/ItemSoldOut.nhn\">\\n\\t<input type=\"hidden\" name=\"cafeId\" value=\"10050146\">\\n\\t<input type=\"hidden\" name=\"menuId\" value=\"334\">\\n\\t<input type=\"hidden\" name=\"articleId\" value=\"333500721\">\\n\\t<input type=\"hidden\" name=\"page\" value=\"\">\\n\\t<input type=\"hidden\" name=\"boardType\" value=\"\">\\n</form>\\n\\n\\n\\n\\n\\n\\n\\n\\n\\n\\n\\n\\n\\n\\r\\n\\r\\n\\r\\n\\r\\n<hr>\\r\\n\\r\\n<footer class=\\'footer f_fix\\' role=\\'contentinfo\\'>\\r\\n\\t<div class=\"footer_inner\">\\r\\n\\t\\t\\r\\n\\t\\t\\r\\n\\t\\t<div class=\"u_ftsw\">\\r\\n\\t\\t\\t\\r\\n\\t\\t\\t\\r\\n\\t\\t\\t<a href=\"#\" class=\"btn_app_view _click(CafeAppLauncherUtil|RunCafeApp|navercafe://) _stopDefault\" onclick=\"nclk(this, \\'rct.app\\', \\'\\', \\'\\');\"><strong>앱으로보기</strong></a>\\r\\n\\t\\t\\t\\r\\n\\t\\t\\t\\r\\n\\t\\t\\t\\r\\n\\t\\t\\t\\r\\n\\t\\t\\t\\r\\n\\t\\t</div>\\r\\n\\t\\t\\r\\n\\t\\t\\r\\n\\t\\t<div class=\\'page_top\\'>\\r\\n\\t\\t\\t<a href=\\'#hd\\' class=\\'ico ico_top _click(Utility|Top)\\' onclick=\"nclk(this, \\'fot.top\\', \\'\\', \\'\\')\"><span class=\\'blind\\'>맨위로 이동</span></a>\\r\\n\\t\\t</div>\\r\\n\\t\\t\\r\\n\\t\\t<div class=\\'footer_snb\\'>\\r\\n\\t\\t\\t\\r\\n\\t\\t\\t\\r\\n\\t\\t\\t\\r\\n\\t\\t\\t\\t\\r\\n\\t\\t\\t\\t\\r\\n\\t\\t\\t\\t\\t<a href=\\'#\\' class=\"_click(LoginManager|Login|http%3A%2F%2Fm.cafe.naver.com%2FArticleRead.nhn%3Fclubid%3D10050146%26menuid%3D334%26articleid%3D333500721%26query%3D%25EB%25A7%25A5%25EB%25B6%2581) _stopDefault\" onclick=\"nclk(this, \\'fot.login\\', \\'\\', \\'\\');\">로그인</a>\\r\\n\\t\\t\\t\\t\\r\\n\\t\\t\\t\\r\\n\\t\\t\\t\\r\\n\\t\\t\\t\\r\\n\\t\\t\\t<a href=\\'/CafeWhitePaper.nhn\\'>카페앱백서</a>\\r\\n\\t\\t\\t<a href=\\'http://cafe.naver.com/joonggonara/333500721?viewType=pc\\' onclick=\"nclk(this, \\'fot.gopc\\', \\'\\', \\'\\')\">PC버전</a>\\r\\n\\t\\t\\t<a href=\\'http://m.naver.com/services.html?f=svc.cafe\\' onclick=\"nclk(this, \\'fot.sitemap\\', \\'\\', \\'\\');\">전체서비스</a>\\r\\n\\t\\t</div>\\r\\n\\t\\t<div class=\\'footer_lnb\\'>\\r\\n\\t\\t\\t<a href=\\'https://m.help.naver.com/support/service/main.nhn?serviceNo=5622\\' onclick=\"nclk(this, \\'fot.help\\', \\'\\', \\'\\')\">카페 고객센터</a>\\r\\n\\t\\t\\t<a href=\\'http://m.cafe.naver.com/Privacy.nhn\\' onclick=\"nclk(this, \\'fos.privacy\\', \\'\\', \\'\\')\"><strong>개인정보취급방침</strong></a>\\r\\n\\t\\t\\t<a href=\\'https://m.help.naver.com/support/issue/report.nhn?serviceNo=5622\\' onclick=\"nclk(this, \\'fos.error\\', \\'\\', \\'\\')\" class=\\'last\\'>오류신고</a>\\r\\n\\t\\t</div>\\r\\n\\t\\t<address class=\\'copyright\\'>&copy;<a href=\\'http://www.nhncorp.com\\' onclick=\"nclk(this, \\'fot.nhncorp\\', \\'\\', \\'\\')\">NAVER Corp.</a></address>\\r\\n\\t</div>\\r\\n</footer>\\r\\n\\n\\n\\n\\n\\n\\n\\n<script type=\"text/javascript\">\\nvar g_sUserId = \\'\\';\\nvar g_sCafeId = \\'10050146\\';\\nvar g_sCafeUrl = \\'joonggonara\\';\\n\\nvar g_sCafeMainUrl = \\'http://cafe.naver.com\\';\\nvar g_sCafeMobileWebUrl = \\'http://m.cafe.naver.com\\';\\nvar g_sNoteSendUrl = \\'http://m.note.naver.com/mobile/mobileSendNoteForm.nhn?reply=1&targetUserId=\\';\\nvar g_sUploadDomain = \\'http://up.cafe.naver.com\\';\\nvar g_sCafeFilesDomain = \\'http://cafefiles.naver.net\\';\\nvar g_sCafeThumbDomain = \\'http://cafethumb.naver.net\\';\\nvar g_sMCafeThumbDomain = \\'http://mcafethumb1.phinf.naver.net\\';\\nvar g_sGfmarketDomain = \\'http://m.gfmarket.naver.com\\';\\nvar g_sGfmarketThumbnailDomain = \\'http://gfmarket.phinf.naver.net\\';\\nvar g_sPhotoInfraUploadDomain = \\'cafe.upphoto.naver.com\\';\\nvar g_sBlogUrl = \\'http://m.blog.naver.com\\';\\n\\nvar g_sLoginUrl = \\'https://nid.naver.com/nidlogin.login?svctype=262144&url=\\';\\nvar g_sLogoutUrl = \\'https://nid.naver.com/nidlogin.logout?svctype=262144&url=\\';\\nvar g_sAutoComplateDomain = \\'https://mac.search.naver.com/mobile/ac\\';\\n\\nvar g_sEncodedRequestUrl = \\'http%3A%2F%2Fm.cafe.naver.com%2FArticleRead.nhn%3Fclubid%3D10050146%26menuid%3D334%26articleid%3D333500721%26query%3D%25EB%25A7%25A5%25EB%25B6%2581\\';\\n</script>\\n\\n\\n\\n\\n<script type=\"text/javascript\" src=\"/static/js/mobileweb/core/mycafe/MyCafeCommonScript-1471853919000-966198.js\" charset=\"utf-8\"></script>\\n\\n\\n\\n\\n\\n\\n<script type=\"text/javascript\">\\nvar LH = new mCafeCommon.LH_create();\\n$Fn(mCafeCommon.LH_exec, this).attach(window, \"load\");\\nLH.add(\"mCafeCommon.closeScroll()\");\\nBMR.run(\\'http://sp.naver.com/sp\\');\\n$Element(\"<div></div>\").html(); // 진도 버그 대응용\\nvar oUtil = new nhn.Utility();\\nvar oCafeAppLauncher = new nhn.AppLauncher({\\n    \"sAPPName\" : \"네이버 카페\",\\n    \"sInstallURLForIOS\" : \"http://itunes.apple.com/app/id420615104?mt=8\",\\n    \"sInstallURLForANDROID\" : \"market://details?id=com.nhn.android.navercafe\"\\n});\\n\\nvar oCafeAppLauncherUtil = new CafeAppLauncherUtil({\\n    isIPhone : false\\n});\\n\\n\\nvar cafeSecedeManager = new CafeSecedeManager({clubId: \\'10050146\\'});\\n\\n\\n\\nvar oCafeJoinInfoManager = new CafeJoinInfoManager();\\n\\n\\n\\njQuery.noConflict();\\n</script>\\n\\n\\n\\n\\n<script type=\"text/javascript\">\\nvar oMyCafeLayout = new MyCafeLayout({\\n\\tnClubId : \\'10050146\\',\\n\\tnMenuId : \\'334\\',\\n\\tbCafeMember : false,\\n\\tsBoardType : \\'MARKET\\',\\n\\twelDimmedLayer : jQuery(\\'#dimmedLayer\\'),\\n\\twelSideMenuLayer : jQuery(\\'#sideMenuLayer\\')\\n});\\n</script>\\n\\n\\n\\n\\n\\n<script type=\"text/javascript\">\\n/**\\n * MobileGuestBanner와 관련된 UI 로직을 정의한다.\\n * \\n * @author aphros\\n * @requires jQuery, egjs, cafe.EventBinder\\n */\\nvar MobileGuestBanner = eg.Class.extend(cafe.EventBinder, {\\n\\tname : \\'MobileGuestBanner\\',\\n\\t_welBanner : null,\\n\\t_welHeader : null,\\n\\n\\tconstruct : function(htParam) {\\n\\t\\tthis._setParam(htParam);\\n\\n\\t\\tif (!this._welBanner || this._welBanner.length <= 0) {\\n\\t\\t\\treturn;\\n\\t\\t}\\n\\t\\tthis._setEvent(window, \\'scroll\\', this._onScroll);\\n\\t},\\n\\t\\n\\t_setParam : function(htParam) {\\n\\t\\tthis._welBanner = htParam.welBanner;\\n\\t\\tthis._welHeader = htParam.welHeader;\\n\\t},\\n\\t\\n\\t_onScroll : function(we) {\\n\\t\\tvar nScrollTop = jQuery(window).scrollTop();\\n\\n\\t\\tif (nScrollTop >= this._welHeader.height()) {\\n\\t\\t\\tthis._welHeader.addClass(\"fix\");\\n\\t\\t} else {\\n\\t\\t\\tthis._welHeader.removeClass(\"fix\");\\n\\t\\t}\\n\\t} \\n});\\nvar oMobileGuestBanner = new MobileGuestBanner({\\n\\twelBanner : jQuery(\\'#mobileGuestBanner\\'),\\n\\twelHeader : jQuery(\\'#hd\\')\\n});\\n</script>\\n\\n\\n\\r\\n\\r\\n\\r\\n\\r\\n\\r\\n\\r\\n<script type=\"text/javascript\" src=\"/static/js/mobileweb/ArticleRead-1471853919000-170533.js\" charset=\"utf-8\"></script>\\n\\r\\n\\r\\n<script type=\"text/javascript\">\\r\\n\\r\\n\\r\\ntry{\\r\\nlcs_do_gdid(\\'90000004_00995A6213E0D13100000000\\');\\r\\n}catch(e) {}\\r\\n\\r\\n</script>\\r\\n\\r\\n\\r\\n\\r\\n<script type=\"text/javascript\" src=\"http://serviceapi.nmv.naver.com/resources/lang/js/ugcvideoplayer-1.0.js?1459750059000\" charset=\"utf-8\"></script>\\n\\r\\n\\r\\n\\r\\n<script type=\"text/javascript\">\\r\\nvar oArticleRead = new ArticleRead({\\r\\n    \"clubid\" : 10050146,\\r\\n    \"articleid\" : 333500721,\\r\\n    \"menuid\" : 334,\\r\\n    \"useOtn\" : false,\\r\\n    \"contactInfoAvailable\" : true,\\r\\n    \"oCafeAppLauncher\" : oCafeAppLauncher,\\r\\n    \"bUseWYSIWYGModeEditor\" : true,\\r\\n    \"bKitkatNaverAppBrowser\" : false,\\r\\n    \"bDownloadAvailableDevice\" : false,\\r\\n    \"liveSearchUrl\" : \"https://m.search.naver.com,https://d3b430.nhncorp.com,https://d3b430.svr.naver.com,https://m.focus.naver.com,https://focus.search.naver.com/search.naver?where=m_live&sm=mtb_tfs&query=\"\\r\\n});\\r\\n\\r\\n//좋아요 (버튼 초기화)\\r\\nvar ArticleLikeIt = new ArticleLikeIt({\\r\\n\\t\"sLikeItElementClassName\" : \"a._recommendBtnClass\",\\r\\n\\t\"nRecommendCountClassName\":\"em._recommendCount\",\\r\\n\\t\"sLikeItMemberViewClassName\" : \"a._likeItMember\",\\r\\n    \"clubid\" : 10050146,\\r\\n    \"articleid\" : 333500721,\\r\\n    \"menuid\" : 334\\r\\n});\\r\\n\\r\\nvar oArticleFunctionButton = new ArticleFunctionButton({\\r\\n\\t\"welOptionLayer\" : $Element(\"optionLayer\"),\\r\\n\\t\"cafeId\" : 10050146,\\r\\n\\t\"articleId\" : 333500721,\\r\\n    \"menuId\" : 334,\\r\\n    \"hasRefArticle\" : false,\\r\\n    \"refArticleId\" : 333500721,\\r\\n    \"replyIndent\" : 0,\\r\\n    \"isMarketArticle\" : true,\\r\\n    \"isQuestion\" : false,\\r\\n    \"isSimpleArticle\" : false,\\r\\n    \"useWYSIWYGModeEditor\" : true,\\r\\n    \"isKitkatNaverAppBrowser\" : false,\\r\\n\\t\"isScrapedArticle\" : false,\\r\\n    \"isTemplateWrite\" : false,\\r\\n    \"isBlindArticle\" : false,\\r\\n    \"isAccessFromSpecificMenu\" : false\\r\\n});\\r\\n\\r\\nvar oCommentList = new CommentList({\\r\\n\\t\\'nClubId\\' : 10050146,\\r\\n\\t\\'nArticleId\\' : 333500721,\\r\\n\\t\\'nMenuId\\' : 334\\r\\n});\\r\\n\\r\\nvar oMusicPlayerLoader = new MusicPlayerLoader();\\r\\noSuicideSaver = new SuicideSaver();\\r\\n\\r\\nvar oAttachMoviePlayer = new cafe.AttachMoviePlayer({\\r\\n\\tbOnLoadEvent : true,\\r\\n\\tsArticleContentId : \"ct\"\\r\\n});\\r\\n\\r\\nfunction moreSearchResult() {\\r\\n\\tnclk(this,\\'cnx.more\\',\\'\\',\\'\\');\\r\\n\\tdocument.location.href = \"/ArticleSearchList.nhn?search.clubid=10050146&search.searchBy=0&search.sortBy=&search.query=\" + encodeURIComponent(\\'[미개봉] 신형 맥북프로 레티나 15\\');\\r\\n}\\r\\n\\r\\n\\r\\n\\r\\n\\r\\n\\r\\nvar oCafeJoinSuggestionManager = new cafe.CafeJoinSuggestionManager({\\r\\n    cafeId: 10050146\\r\\n});\\r\\n\\r\\n\\r\\nfunction findPurchaseUrl(){\\r\\n\\tvar message = \\'\\';\\r\\n\\r\\n\\t\\r\\n\\t\\tmessage = \\'해당 카페의 회원만 구매가 가능 합니다.\\';\\r\\n\\t\\talert(message);\\r\\n\\t\\treturn \"\";\\r\\n\\t\\r\\n\\t\\r\\n\\t\\r\\n\\t\\r\\n\\t\\r\\n\\t\\r\\n\\t\\r\\n}\\r\\n\\r\\nfunction purchaseItem(){\\r\\n\\tvar purchaseUrl = findPurchaseUrl();\\r\\n\\tif (!purchaseUrl || purchaseUrl == \"\") {\\r\\n\\t\\treturn;\\r\\n\\t}\\r\\n \\r\\n\\twindow.open(purchaseUrl, \\'Purchase\\', 700, 700, \"toolbar=no,location=no,directories=no,status=no,menubar=no,scrollbars=no,resizable=1\");\\r\\n}\\r\\n\\r\\nfunction purchaseNpay(){\\r\\n\\tvar purchaseUrl = findPurchaseUrl();\\r\\n\\tif (!purchaseUrl || purchaseUrl == \"\") {\\r\\n\\t\\treturn;\\r\\n\\t}\\r\\n\\r\\n\\tdocument.location.href = purchaseUrl + \"&p__g=n__w\";\\r\\n}\\r\\n </script>\\r\\n\\r\\n\\r\\n<script type=\"text/javascript\">\\r\\n\\r\\nvar sUserAgent = navigator.userAgent;\\r\\n//네이버 앱에서 사용하는  글로벌 변수입니다. (삭제시 네이버앱에 문의.)\\r\\nvar naverAppFloatingToolBarBottomMargin = 57;\\r\\nwindow.onpageshow = function(evt) {\\r\\n \\tif(!!sUserAgent &&  sUserAgent.indexOf(\"NAVER\") > -1  &&  sUserAgent.indexOf(\"search\") > -1){\\r\\n \\t\\tfunction setFloatingToolbarBottomMargin(bottomMargin) {\\r\\n\\t\\t\\xa0\\xa0\\xa0\\xa0var tempIframe = document.createElement(\\'iframe\\');\\r\\n\\t\\t\\xa0\\xa0\\xa0\\xa0tempIframe.style.display = \\'none\\';\\r\\n\\t\\t\\xa0\\xa0\\xa0\\xa0tempIframe.src = \\'naverapp://floatingtoolbar?bottomMargin=\\' + bottomMargin;\\r\\n\\t\\t\\xa0\\xa0\\xa0\\xa0document.documentElement.appendChild(tempIframe);\\r\\n\\t\\t}\\r\\n \\t\\t//네이버앱보다 로딩이 빠르면 툴바가 겹치는 현상 발생\\r\\n \\t\\tsetTimeout(function(){setFloatingToolbarBottomMargin(naverAppFloatingToolBarBottomMargin);}, 500);\\r\\n\\t}\\r\\n};\\r\\n</script>\\r\\n\\r\\n\\r\\n\\r\\n\\r\\n\\r\\n\\r\\n\\r\\n<script type=\"text/javascript\" src=\"http://spi.naver.net/js/release/ko_KR/splugin.m.js?1472188442000\" charset=\"utf-8\"></script>\\n\\r\\n<script>\\r\\n var htParameter = {\\r\\n    evKey  : \"cafe\",\\r\\n    servicName: \"카페\",\\r\\n\\r\\n    me : { display : \"off\" },\\r\\n    mail : {\\r\\n        \\r\\n        srvid: \\'social\\',\\r\\n        srvurl: \\'http://bookmark.naver.com/getRichMailTmpl.ajax?sourceUrl=\\' + encodeURIComponent(\\'http://cafe.naver.com/MailContent.nhn?clubid=10050146&articleid=333500721\\')\\r\\n    },\\r\\n    memo : {  },\\r\\n    calendar : {  },\\r\\n    bookmark : { display : \"on\" },\\r\\n    copyurl : { display : \"on\" },\\r\\n    mypeople : { display : \"off\" },\\r\\n    score : { display : \"off\" },\\r\\n\\r\\n    blog : {\\r\\n        \\r\\n    },\\r\\n    cafe : {\\r\\n        \\r\\n    },\\r\\n    post : {  },\\r\\n    pholar : {  },\\r\\n    twitter : {  },\\r\\n    facebook : {  },\\r\\n    band : {  },\\r\\n    line : {  },\\r\\n    kakaotalk : {  },\\r\\n    kakaostory : {  }\\r\\n};\\r\\n\\r\\nfunction splugin_oninitialize() {\\r\\n     return htParameter;\\r\\n}\\r\\n \\r\\n\\r\\nfunction loadSocialPlugin() {\\r\\n    window.__splugin = SocialPlugIn_Core({\\r\\n        \"evKey\"       : \"cafe\",\\r\\n        \"serviceName\" : \"카페\",\\r\\n        \"sourceName\"  : \"중고나라\",\\r\\n        \"dimmed\"      : \"default\"\\r\\n    });\\r\\n}\\r\\n\\r\\nif (typeof LH !== \"undefined\" ) {\\r\\n\\tLH.add(loadSocialPlugin());\\r\\n} else {\\r\\n\\twindow.onload = loadSocialPlugin();\\r\\n}\\r\\n\\r\\nwindow.resize = function() {\\r\\n    if (window.__splugin) {\\r\\n        window.__splugin.resize();\\r\\n    }\\r\\n}\\r\\n\\r\\nif (\"onorientationchange\" in window) {\\r\\n    window.onorientationchange = function() {\\r\\n        if (window.__splugin) {\\r\\n            window.__splugin.resize();\\r\\n        }\\r\\n    }\\r\\n}\\r\\n</script>\\n\\n\\n\\n\\n\\n\\n\\n\\n</body>\\n</html>'"
      ]
     },
     "execution_count": 34,
     "metadata": {},
     "output_type": "execute_result"
    }
   ],
   "source": [
    "response.text"
   ]
  },
  {
   "cell_type": "code",
   "execution_count": 35,
   "metadata": {
    "collapsed": true
   },
   "outputs": [],
   "source": [
    "dom = BeautifulSoup(response.text, \"html.parser\")"
   ]
  },
  {
   "cell_type": "code",
   "execution_count": 36,
   "metadata": {
    "collapsed": false
   },
   "outputs": [
    {
     "data": {
      "text/plain": [
       "'\\n\\n\\xa0 \\xa0 \\xa0\\xa0중고나라 공식 앱 다운받기\\xa0 \\xa0 \\xa0\\xa0편한 택배 / 퀵 신청하기 판 매 양 식아이디이메일싸이,블로그,타카페,타사이트 링크시 삭제 및 강퇴거주지역도,시,동까지 정확히 기재판매 제품명구입시기년,월 기재희망가격정확히 기재: (3만~4만등의\\xa0경매 유도글\\xa0삭제)거래방법방문택배 신청하기,\\xa0직거래, 택배, \\xa0안전거래상세설명사진\\xa0및 상세내용위 항목을 (거래금지 항목 포함) 허위작성하거나 임의 삭제 또는 채우지 않을 경우 무통보 삭제될수 있습니다.\\xa0\\xa0 \\xa0 \\xa0\\xa0중고나라 공식 앱 다운받기\\xa0 \\xa0 \\xa0\\xa0편한 택배 / 퀵 신청하기판 매 양 식아이디이메일싸이,블로그,타카페,타사이트 링크시 삭제 및 강퇴거주지역도,시,동까지 정확히 기재판매 제품명[미개봉] 신형 맥북프로 레티나 15인치\\xa0\\xa0MJLQ2kh/a 팝니다구입시기년,월 기재희망가격정확히 기재: (3만~4만등의\\xa0경매 유도글\\xa0삭제)거래방법방문택배 신청하기,\\xa0직거래, 택배, \\xa0안전거래상세설명사진\\xa0및 상세내용위 항목을 (거래금지 항목 포함) 허위작성하거나 임의 삭제 또는 채우지 않을 경우 무통보 삭제될수 있습니다.\\xa0[미개봉] 신형 맥북프로 레티나 15인치\\xa0\\xa0MJLQ2kh/a 팝니다애플 코리아 저품이구요 현장 직거래 제품 확인 하고 계좌 이체 해주세요.카드 결제/ 별도 문의.☆가격에 대한 경매, 유도적으로 가격 제시 덧글 등등 절대 사양합합니다가격 맞이 않는분들 그냥 뒤로 가기하세요 ☆연락처: 010 - 2933-\\xa07457 로문자 주세요.서울\\xa0[직거래] [택배] [안전거래]\\xa0가능합니다.MJLQ2kh/a 원가 239만원 >\\xa0 판매 192만원.___________________________________MJLQ2kh\\xa0댓글 문의 받지 않고 문자으로 연락 주세요.\\xa02.2GHz quad-core Intel Core i7Turbo Boost up to 3.4GHz16GB 1600MHz memory256GB PCIe-based flash storage1Intel Iris Pro GraphicsBuilt-in battery (9 hours)2Force Touch trackpad*별도 문의: 카드 결제/ 윈도우 또는 Logic 로직프로\\xa0 . 파이널 것 프로 Finalcut. CS6 . Adobe Audion / Adobe Bridge / Adobe Dreamwaver /Adobe Encore / Adobe Fireworks / Adobe Extention / Adobe flash / Adobe InDesign CS6 / Adobe Media Encoder CS6 / Adobe Photoshop CS6 / Adobe Prelude CS6 / Adobe Premiere Pro CS6 / Adobe SpeedGrade CS6 / Parallels + Windows 윈도우 10, 8.1 / 7 / 오피스 Office 2O13 -2O1O /\\xa0원드 Word Excel Powerpoint\\xa0 . 한글......감사합니다 ^^\\xa0\\xa0\\xa0\\xa0\\xa0\\xa0\\xa0\\n\\n'"
      ]
     },
     "execution_count": 36,
     "metadata": {},
     "output_type": "execute_result"
    }
   ],
   "source": [
    "dom.select_one(\"#postContent\").text"
   ]
  },
  {
   "cell_type": "code",
   "execution_count": 45,
   "metadata": {
    "collapsed": true
   },
   "outputs": [],
   "source": [
    "def crawl_content(url):\n",
    "    try:\n",
    "        response = requests.get(url)\n",
    "        dom = BeautifulSoup(response.text, \"html.parser\")\n",
    "        text = dom.select_one(\"#postContent\").text\n",
    "        return text\n",
    "    except:\n",
    "        return \"\" "
   ]
  },
  {
   "cell_type": "code",
   "execution_count": 46,
   "metadata": {
    "collapsed": false
   },
   "outputs": [],
   "source": [
    "df[\"Content\"] = df[\"Full URL\"].apply(crawl_content)"
   ]
  },
  {
   "cell_type": "code",
   "execution_count": 48,
   "metadata": {
    "collapsed": true
   },
   "outputs": [],
   "source": [
    "import re"
   ]
  },
  {
   "cell_type": "code",
   "execution_count": 50,
   "metadata": {
    "collapsed": false
   },
   "outputs": [],
   "source": [
    "pattern = re.compile(\"[0-9O공영일이둘삼셋사넷오육칠팔구]{3}[.-]?[0-9O공영일이둘삼셋사오육칠팔구]{4}[.-]?[0-9O공영일이둘삼셋사오육칠팔구]{4}\")"
   ]
  },
  {
   "cell_type": "code",
   "execution_count": 54,
   "metadata": {
    "collapsed": false
   },
   "outputs": [
    {
     "data": {
      "text/plain": [
       "['0106둘셋53317']"
      ]
     },
     "execution_count": 54,
     "metadata": {},
     "output_type": "execute_result"
    }
   ],
   "source": [
    "pattern.findall(\"0106둘셋53317\")"
   ]
  },
  {
   "cell_type": "code",
   "execution_count": 55,
   "metadata": {
    "collapsed": false
   },
   "outputs": [
    {
     "data": {
      "text/plain": [
       "'0106둘셋53317'"
      ]
     },
     "execution_count": 55,
     "metadata": {},
     "output_type": "execute_result"
    }
   ],
   "source": [
    "pattern.findall(\"0106둘셋53317\")[0]"
   ]
  },
  {
   "cell_type": "code",
   "execution_count": 56,
   "metadata": {
    "collapsed": true
   },
   "outputs": [],
   "source": [
    "def find_phonenumber(content):\n",
    "    pattern = re.compile(\"[0-9O공영일이둘삼셋사넷오육칠팔구]{3}[.-]?[0-9O공영일이둘삼셋사오육칠팔구]{4}[.-]?[0-9O공영일이둘삼셋사오육칠팔구]{4}\")\n",
    "    phonenumbers = pattern.findall(content)\n",
    "    if phonenumbers:\n",
    "        return phonenumbers[0]\n",
    "    return \"\""
   ]
  },
  {
   "cell_type": "code",
   "execution_count": 58,
   "metadata": {
    "collapsed": true
   },
   "outputs": [],
   "source": [
    "df[\"Phonenumber\"] = df[\"Content\"].apply(find_phonenumber)"
   ]
  },
  {
   "cell_type": "code",
   "execution_count": 59,
   "metadata": {
    "collapsed": false
   },
   "outputs": [
    {
     "data": {
      "text/plain": [
       "0                  \n",
       "1                  \n",
       "2     010-2090-8569\n",
       "3                  \n",
       "4                  \n",
       "5                  \n",
       "6                  \n",
       "7                  \n",
       "8                  \n",
       "9                  \n",
       "10                 \n",
       "11                 \n",
       "12    010-3274-7004\n",
       "13                 \n",
       "14                 \n",
       "15                 \n",
       "16      0107144198육\n",
       "17                 \n",
       "18    010-팔팔18-칠1육2\n",
       "19                 \n",
       "Name: Phonenumber, dtype: object"
      ]
     },
     "execution_count": 59,
     "metadata": {},
     "output_type": "execute_result"
    }
   ],
   "source": [
    "df[\"Phonenumber\"]"
   ]
  },
  {
   "cell_type": "code",
   "execution_count": 73,
   "metadata": {
    "collapsed": false,
    "scrolled": true
   },
   "outputs": [],
   "source": [
    "df.drop([\"Phonenuimber\"], axis=1, inplace=True)"
   ]
  },
  {
   "cell_type": "code",
   "execution_count": 76,
   "metadata": {
    "collapsed": false
   },
   "outputs": [],
   "source": [
    "def preprocess_phonenumber(phonenumber):\n",
    "    # ...\n",
    "    return phonenumber.replace(\"삼\", \"3\").replace(\"O\", \"0\")"
   ]
  },
  {
   "cell_type": "code",
   "execution_count": 77,
   "metadata": {
    "collapsed": false
   },
   "outputs": [
    {
     "data": {
      "text/plain": [
       "0                  \n",
       "1                  \n",
       "2     010-2090-8569\n",
       "3                  \n",
       "4                  \n",
       "5                  \n",
       "6                  \n",
       "7                  \n",
       "8                  \n",
       "9                  \n",
       "10                 \n",
       "11                 \n",
       "12    010-3274-7004\n",
       "13                 \n",
       "14                 \n",
       "15                 \n",
       "16      0107144198육\n",
       "17                 \n",
       "18    010-팔팔18-칠1육2\n",
       "19                 \n",
       "Name: Phonenumber Preprocessed, dtype: object"
      ]
     },
     "execution_count": 77,
     "metadata": {},
     "output_type": "execute_result"
    }
   ],
   "source": [
    "df[\"Phonenumber Preprocessed\"] = df[\"Phonenumber\"].apply(preprocess_phonenumber)\n",
    "df[\"Phonenumber Preprocessed\"]"
   ]
  },
  {
   "cell_type": "code",
   "execution_count": 78,
   "metadata": {
    "collapsed": true
   },
   "outputs": [],
   "source": [
    "df[\"Phonenumber\"] = df[\"Content\"].apply(find_phonenumber).apply(preprocess_phonenumber)\n",
    "#이렇게 해도 된다. apply 뒤에 apply"
   ]
  }
 ],
 "metadata": {
  "anaconda-cloud": {},
  "kernelspec": {
   "display_name": "Python [Root]",
   "language": "python",
   "name": "Python [Root]"
  },
  "language_info": {
   "codemirror_mode": {
    "name": "ipython",
    "version": 3
   },
   "file_extension": ".py",
   "mimetype": "text/x-python",
   "name": "python",
   "nbconvert_exporter": "python",
   "pygments_lexer": "ipython3",
   "version": "3.5.1"
  }
 },
 "nbformat": 4,
 "nbformat_minor": 0
}
