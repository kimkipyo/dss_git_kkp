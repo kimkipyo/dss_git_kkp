{
 "cells": [
  {
   "cell_type": "markdown",
   "metadata": {},
   "source": [
    "# 1T_크롤링 수업(중고나라 모바일)"
   ]
  },
  {
   "cell_type": "code",
   "execution_count": 1,
   "metadata": {
    "collapsed": true
   },
   "outputs": [],
   "source": [
    "#네이버 중고나라(모바일)\n",
    "import requests\n",
    "from bs4 import BeautifulSoup"
   ]
  },
  {
   "cell_type": "code",
   "execution_count": 2,
   "metadata": {
    "collapsed": true
   },
   "outputs": [],
   "source": [
    "# \"맥북\" 키워드로 검색\n",
    "url = \"http://m.cafe.naver.com/ArticleSearchList.nhn?search.query=맥북&search.menuid=&search.searchBy=0&search.sortBy=sim&search.clubid=10050146\""
   ]
  },
  {
   "cell_type": "code",
   "execution_count": 3,
   "metadata": {
    "collapsed": true
   },
   "outputs": [],
   "source": [
    "response = requests.get(url)"
   ]
  },
  {
   "cell_type": "code",
   "execution_count": 4,
   "metadata": {
    "collapsed": false
   },
   "outputs": [
    {
     "data": {
      "text/plain": [
       "(200, <Response [200]>)"
      ]
     },
     "execution_count": 4,
     "metadata": {},
     "output_type": "execute_result"
    }
   ],
   "source": [
    "response.status_code, response"
   ]
  },
  {
   "cell_type": "code",
   "execution_count": 5,
   "metadata": {
    "collapsed": false
   },
   "outputs": [],
   "source": [
    "dom = BeautifulSoup(response.text, \"html.parser\")"
   ]
  },
  {
   "cell_type": "code",
   "execution_count": 6,
   "metadata": {
    "collapsed": true
   },
   "outputs": [],
   "source": [
    "post_elements = dom.select(\"ul.list_tit li\")"
   ]
  },
  {
   "cell_type": "code",
   "execution_count": 7,
   "metadata": {
    "collapsed": false
   },
   "outputs": [
    {
     "data": {
      "text/plain": [
       "20"
      ]
     },
     "execution_count": 7,
     "metadata": {},
     "output_type": "execute_result"
    }
   ],
   "source": [
    "len(post_elements)"
   ]
  },
  {
   "cell_type": "code",
   "execution_count": 8,
   "metadata": {
    "collapsed": true
   },
   "outputs": [],
   "source": [
    "post_element = post_elements[0]"
   ]
  },
  {
   "cell_type": "code",
   "execution_count": 9,
   "metadata": {
    "collapsed": false
   },
   "outputs": [
    {
     "data": {
      "text/plain": [
       "<li>\n",
       "<a href=\"/ArticleRead.nhn?clubid=10050146&amp;menuid=334&amp;articleid=331983342&amp;query=맥북\" onclick=\"nclk(this, 'cfs*n.list', '331983342', '')\">\n",
       "<div class=\"item\">\n",
       "<h3>2011 Mid <b>맥북</b>에어 13인치 기타 여러가지 +</h3>\n",
       "</div>\n",
       "</a>\n",
       "<div class=\"aside\">\n",
       "<a href=\"#\">\n",
       "<div class=\"info\">\n",
       "<span class=\"name\">junewind</span>\n",
       "<span class=\"time\">16.08.15.</span>\n",
       "<span class=\"no\">조회 <em>133</em></span>\n",
       "</div>\n",
       "</a>\n",
       "</div>\n",
       "</li>"
      ]
     },
     "execution_count": 9,
     "metadata": {},
     "output_type": "execute_result"
    }
   ],
   "source": [
    "post_element"
   ]
  },
  {
   "cell_type": "code",
   "execution_count": 10,
   "metadata": {
    "collapsed": true
   },
   "outputs": [],
   "source": [
    "# Celery - Task Runner\n",
    "# http://www.celeryproject.org/\n",
    "# 파이썬의 일처리를 자동으로 해주는 테스크 언어. 조금 더 모듈화해서"
   ]
  },
  {
   "cell_type": "code",
   "execution_count": 11,
   "metadata": {
    "collapsed": false
   },
   "outputs": [
    {
     "name": "stdout",
     "output_type": "stream",
     "text": [
      "('2011 Mid 맥북에어 13인치 기타 여러가지 +', '/ArticleRead.nhn?clubid=10050146&menuid=334&articleid=331983342&query=맥북', 'junewind', '16.08.15.', '133')\n"
     ]
    }
   ],
   "source": [
    "title = post_element.select_one(\"h3\").text\n",
    "url = post_element.select_one(\"a\").get(\"href\")   #href는 속성\n",
    "nickname = post_element.select_one(\"span.name\").text\n",
    "created_at = post_element.select_one(\"span.time\").text\n",
    "count = post_element.select_one(\"span.no\").text.split(\" \")[-1]\n",
    "\n",
    "print((title, url, nickname, created_at, count))"
   ]
  },
  {
   "cell_type": "code",
   "execution_count": 12,
   "metadata": {
    "collapsed": false
   },
   "outputs": [
    {
     "data": {
      "text/plain": [
       "['\\n',\n",
       " <a href=\"/ArticleRead.nhn?clubid=10050146&amp;menuid=334&amp;articleid=331983342&amp;query=맥북\" onclick=\"nclk(this, 'cfs*n.list', '331983342', '')\">\n",
       " <div class=\"item\">\n",
       " <h3>2011 Mid <b>맥북</b>에어 13인치 기타 여러가지 +</h3>\n",
       " </div>\n",
       " </a>,\n",
       " '\\n',\n",
       " <div class=\"aside\">\n",
       " <a href=\"#\">\n",
       " <div class=\"info\">\n",
       " <span class=\"name\">junewind</span>\n",
       " <span class=\"time\">16.08.15.</span>\n",
       " <span class=\"no\">조회 <em>133</em></span>\n",
       " </div>\n",
       " </a>\n",
       " </div>,\n",
       " '\\n']"
      ]
     },
     "execution_count": 12,
     "metadata": {},
     "output_type": "execute_result"
    }
   ],
   "source": [
    "post_element.contents\n",
    "#어떤 값들이 들어있는지 보여준다."
   ]
  },
  {
   "cell_type": "code",
   "execution_count": 13,
   "metadata": {
    "collapsed": false
   },
   "outputs": [
    {
     "name": "stdout",
     "output_type": "stream",
     "text": [
      "('2011 Mid 맥북에어 13인치 기타 여러가지 +', '/ArticleRead.nhn?clubid=10050146&menuid=334&articleid=331983342&query=맥북', 'junewind', '16.08.15.', '133')\n",
      "('애플 맥북에어 (MJVG2KH/A) i5, 256ssd 제품 미개봉 팝니다.', '/ArticleRead.nhn?clubid=10050146&menuid=334&articleid=330448256&query=맥북', 'ksitori', '16.08.04.', '282')\n",
      "('상태 새것 수준 맥북에어 \"13 사양 CTO(i7[1.7ghz], ram8g, ssd128기가), 맥세이프2, 애플무선마우스, 타거스백팩, 애플무선키보드, 그외에 악세서리', '/ArticleRead.nhn?clubid=10050146&menuid=334&articleid=332341835&query=맥북', 'vipmanber', '16.08.18.', '127')\n",
      "('(판매완료) [분당] 맥북 프로 레티나 15인치 early 2013, 최고급형(i7 2.7GHz/512G/16G/사이클 3) 풀세트(악세사리+가방), 세금계산서 가능', '/ArticleRead.nhn?clubid=10050146&menuid=334&articleid=331650571&query=맥북', 'ㄱㄱㄴㄷ', '16.08.12.', '235')\n",
      "('[판매] 맥북 에어 13인치 2011 Mid, A1369 모델, i7 CPU, 256GB SSD 팝니다.', '/ArticleRead.nhn?clubid=10050146&menuid=334&articleid=327948310&query=맥북', '우왕굿우왓굿', '16.07.17.', '331')\n",
      "('2011 얼리 맥북프로 15인치 무반사 안티글래어 판매합니다.램16g', '/ArticleRead.nhn?clubid=10050146&menuid=334&articleid=332645470&query=맥북', 'hyungwon0323', '10:14', '6')\n",
      "('맥북프로레티나 13인치 2013 late 중급형 (A1502) 박풀+a 판매합니다.', '/ArticleRead.nhn?clubid=10050146&menuid=334&articleid=332477142&query=맥북', '프린세스소피아빠', '16.08.19.', '149')\n",
      "('풀업그레이드 음악작업용 고사양 맥북프로 i7,16G,750G(LogicProX,Komplete10U 정품)', '/ArticleRead.nhn?clubid=10050146&menuid=334&articleid=332432511&query=맥북', 'ssimba1204', '16.08.18.', '259')\n",
      "('맥북 프로 레티나 15인치 2014mid 기본형 (부속품 많아요!) 가격내림!!', '/ArticleRead.nhn?clubid=10050146&menuid=443&articleid=332329432&query=맥북', 'yedarm0214', '16.08.18.', '155')\n",
      "('맥북프로 2015 15인치 고급형 MJLT2KH/A 팝니다.', '/ArticleRead.nhn?clubid=10050146&menuid=334&articleid=327183858&query=맥북', '윤식', '16.07.11.', '802')\n",
      "('맥북프로 15인치 2011 early 128SSD + 500HDD 배터리교체한 A-급 팝니다.', '/ArticleRead.nhn?clubid=10050146&menuid=334&articleid=332318704&query=맥북', '주사위내기', '16.08.17.', '195')\n",
      "('애플 뉴 맥북 프로 에어 USB 인터넷 이더넷 케이블 어댑터 판매 팝니다 Apple Ethernet 12 13 15 17 인치', '/ArticleRead.nhn?clubid=10050146&menuid=334&articleid=326737904&query=맥북', '분당친절거래1', '16.07.08.', '98')\n",
      "('[46만] 2011 맥북에어 11인치(ssd128)+매직마우스2+랩씨 파우치+케이스 3종 일괄 팝니다.', '/ArticleRead.nhn?clubid=10050146&menuid=334&articleid=331947175&query=맥북', 'EARLYBURRY', '16.08.15.', '87')\n",
      "('맥북프로2009 13인치 22만원', '/ArticleRead.nhn?clubid=10050146&menuid=334&articleid=331858119&query=맥북', 'His pencil', '16.08.14.', '239')\n",
      "('인케이스 ICON Sleeve with TENSAERLITE 파우치 맥북 프로 레티나 15인치 판매 합니다.', '/ArticleRead.nhn?clubid=10050146&menuid=393&articleid=326292225&query=맥북', 'DODOBOO', '16.07.05.', '207')\n",
      "('2016 early 뉴맥북 (MacBook) 기본형 판매합니다 (스페이스 그레이 색상)', '/ArticleRead.nhn?clubid=10050146&menuid=334&articleid=326168304&query=맥북', 'lanchert', '16.07.04.', '339')\n",
      "('맥북 알루미늄 유니바디13인치 (2009) 팝니다.', '/ArticleRead.nhn?clubid=10050146&menuid=334&articleid=325985770&query=맥북', '디언', '16.07.03.', '226')\n",
      "('2013mid 맥북에어 하스웰 CPU I7, SSD256GB, RAM8G<판매완료>', '/ArticleRead.nhn?clubid=10050146&menuid=334&articleid=331594224&query=맥북', 'Sigur Ros 830', '16.08.12.', '428')\n",
      "('맥북프로 15인치 2012 MID MD103KH/A (업그레이드가능버전) A급 판매[가격내림]', '/ArticleRead.nhn?clubid=10050146&menuid=334&articleid=331571532&query=맥북', '김기동', '16.08.12.', '152')\n",
      "('맥북 프로 레티나 2015-early 13인치 128g, 8gb거의 신품, 박풀 + 악세사리 그냥드림', '/ArticleRead.nhn?clubid=10050146&menuid=736&articleid=331420081&query=맥북', 'sharpflow', '16.08.11.', '164')\n"
     ]
    }
   ],
   "source": [
    "for post_element in post_elements:\n",
    "    title = post_element.select_one(\"h3\").text\n",
    "    url = post_element.select_one(\"a\").get(\"href\")\n",
    "    nickname = post_element.select_one(\"span.name\").text\n",
    "    created_at = post_element.select_one(\"span.time\").text\n",
    "    count = post_element.select_one(\"span.no\").text.split(\" \")[-1]\n",
    "    \n",
    "    print((title, url, nickname, created_at, count))"
   ]
  },
  {
   "cell_type": "code",
   "execution_count": 14,
   "metadata": {
    "collapsed": false
   },
   "outputs": [
    {
     "data": {
      "text/plain": [
       "'/ArticleRead.nhn?clubid=10050146&menuid=736&articleid=331420081&query=맥북'"
      ]
     },
     "execution_count": 14,
     "metadata": {},
     "output_type": "execute_result"
    }
   ],
   "source": [
    "url"
   ]
  },
  {
   "cell_type": "code",
   "execution_count": 15,
   "metadata": {
    "collapsed": false
   },
   "outputs": [],
   "source": [
    "# \"\".join(url.split(\"?\")).split(\"&\")   => 따로 빼서 사용할 수 있다."
   ]
  },
  {
   "cell_type": "code",
   "execution_count": 32,
   "metadata": {
    "collapsed": true
   },
   "outputs": [],
   "source": [
    "url = \"http://m.cafe.naver.com/ArticleRead.nhn?clubid=10050146&menuid=334&articleid=332341835&query=맥북\""
   ]
  },
  {
   "cell_type": "code",
   "execution_count": 33,
   "metadata": {
    "collapsed": false
   },
   "outputs": [],
   "source": [
    "# 상세 페이지 크롤링\n",
    "response = requests.get(url)\n",
    "dom = BeautifulSoup(response.text, \"html.parser\")"
   ]
  },
  {
   "cell_type": "code",
   "execution_count": 35,
   "metadata": {
    "collapsed": false
   },
   "outputs": [],
   "source": [
    "# 1. 핸드폰 번호 파싱 ( 정규표현식 이용 )\n",
    "# 2. 첫 이미지의 url 가져오기\n",
    "\n",
    "# 일단은 content 의 html 코드를 그대로 뽑아 와야 한다.\n",
    "content_element = dom.select_one(\"#postContent\")\n",
    "\n",
    "# str(content_element) => 이걸로 html을 뽑아낼 수 있다.\n",
    "# content_element.text => 이걸로 tag가 제외된 글자만을 뽑아낼 수 있다. (핸드폰 번호)"
   ]
  },
  {
   "cell_type": "code",
   "execution_count": 36,
   "metadata": {
    "collapsed": false
   },
   "outputs": [
    {
     "data": {
      "text/plain": [
       "'\\n\\n\\xa0 \\xa0 \\xa0\\xa0중고나라 공식 앱 다운받기\\xa0 \\xa0 \\xa0\\xa0편한 택배 / 퀵 신청하기 판 매 양 식아이디이메일싸이,블로그,타카페,타사이트 링크시 삭제 및 강퇴거주지역도,시,동까지 정확히 기재판매 제품명구입시기년,월 기재희망가격정확히 기재: (3만~4만등의\\xa0경매 유도글\\xa0삭제)거래방법방문택배 신청하기,\\xa0직거래, 택배, \\xa0안전거래상세설명\\xa0\\xa0\\xa0\\xa0\\xa0\\xa0\\xa0\\xa0\\xa0\\xa0\\xa0\\xa0\\xa0\\xa0\\xa0\\xa0\\xa0상태 새것 수준 맥북에어 \"13\\xa0 사양 CTO(i7[1.7ghz], ram8g, ssd128기가), 맥세이프2, 애플무선마우스, 타거스백팩, 애플무선키보드, 그외에 악세서리\\xa0맥북에어 13인치 2014 cto맥북에어 13인치\\xa02014년 버전 i7에 램8기가\\xa0ssd128기가\\xa0판매합니다.먼저 구입은 14년 12월말에 롯데 본점에서 구입했습니다.\\xa0미개봉 정발한국\\xa0상품으로 구입했습니다. 박스를 사진으로 찍어 두었으니 참고하시면 되요^^용도는\\xa0구입하면서 자택 사무용 및 외부업무볼때 커피숍에서 사용하려고 구입했습니다.실제로 밖으로는 많이 나가지 않았고 가능한 자택에서 웹셔핑 이나 간단한 사무업무만 보았던것 같아요.중고로 팔기 전에 외관 체크해보니 모두 깨끗하네요. 사진은 특펼히 올리지 않았습니다.그냥 새것같아보여요^^구입하실때 참고하시면 될듯해요.가장중요한 사용량을 확인할 수 있는 밧데리상태를 볼까합니다.싸이클 수는92입니다. 밧데리 최대 용량은 7114입니다. 처음 구입할 때 밧데리 용량이 7300정도 였으니 밧데리 상태는 99%정도입니다.\\xa0밧데리사용 상태는 처음 구입할때 사용량과 차이가 느껴지지 않습니다.리튬이온전지의 특성상 충전기를 꽂아두고 사용하면 더 않좋다는걸 알기에 이렇게 사용했습니다.결론은 처음 구입할때와 밧데리 사용량은 별차이가 없고 충분히 밧데리 상태가 좋습니다.\\xa0일괄판매구성품 설명입니다.박스포함 기본 모든 구성품이 그대로 깨끗하게 있습니다.(사진첨부)본체는 포장비닐도\\xa0 그대로 있네요^^ 사진첨부했어요,최근에 구입한 타거스노트북 백팩 미개봉 및 미사용입니다.맥북에어 13인치 전용 스크린가드AR 미개봉 입니다.오피스 365\\xa0 퍼스널 미사용 같이 드립니다. 현재 판매가 4만원정도 하네요.japal키스킨,썬더볼트hdmi 그 외 악세사리 사진 첨부했습니다.(ac밴드, sd카드마게, 애플무선마우스 파우치)이렇게 모두 드립니다. 이렇게\\xa0일괄판매구성품입니다.\\xa0추가구성품 별도 판매애플 맥세이프2 (충전기) 최근에 선물 받았습니다. 미사용 제품 입니다.애플무선마우스 새것 수준 몇번 안썻네요^^\\xa0가격라벨도붙어있네요\\xa0미개봉 상태처럼 두었어요. 사진에는 첨부참고하시길 바랍니다.애플무선키보드 깨끗하고 사용 거의 안했습니다. 사진에 첨부한 비파인 화이트 키스킨도 같이 드립니다.거래는 서울에서 하고싶네요. 이래저래 사기같은 것도 많고 해서 직거래로만 하려고 합니다.위에 안심번호로 연락주시면 가능한 빨리 답장 드릴게요. 가능한 문자로 먼저 부탁해요.거래는 일괄판매구성품만 거래시 89만원에 합니다. (가격조정 어렵습니다.)그외에 추가구성품 추가로 같이 구매하시면 시세대비 할인해서 거래합니다.문의주시면 답장드릴게요.댓글 그때마다 확인 어려우니 전화나 문자로 문의주세요.연락처는 저위에 안심번호로 연락주시면 됩니다. 위 항목을 (거래금지 항목 포함) 허위작성하거나 임의 삭제 또는 채우지 않을 경우 무통보 삭제될수 있습니다.\\xa0\\xa0\\xa0\\xa0\\n\\n'"
      ]
     },
     "execution_count": 36,
     "metadata": {},
     "output_type": "execute_result"
    }
   ],
   "source": [
    "content_element.text"
   ]
  },
  {
   "cell_type": "code",
   "execution_count": 37,
   "metadata": {
    "collapsed": true
   },
   "outputs": [],
   "source": [
    "import re"
   ]
  },
  {
   "cell_type": "code",
   "execution_count": 38,
   "metadata": {
    "collapsed": false
   },
   "outputs": [
    {
     "data": {
      "text/plain": [
       "[]"
      ]
     },
     "execution_count": 38,
     "metadata": {},
     "output_type": "execute_result"
    }
   ],
   "source": [
    "# pattern = re.compile(\"[0-9영공일이삼사오육칠팔구O]{3}[-. ]+[0-9영공일이삼사오육칠팔구O]\")\n",
    "pattern = re.compile(\"\".join([\n",
    "    \"[0-9공영일이삼사오육칠팔구O]{3}\",   # 앞 숫자 3자리 ( 010 )\n",
    "    \"[-. ]+\",                      # 앞 3자리와 중간 4자리를 연결하는 애\n",
    "    \"[0-9공영일이삼사오육칠팔구O]{4}\",   # 중간 숫자 4자리\n",
    "    \"[-. ]+\",\n",
    "    \"[0-9공영일이삼사오육칠팔구O]{4}\",\n",
    "]))\n",
    "pattern.findall(content_element.text)"
   ]
  },
  {
   "cell_type": "code",
   "execution_count": 41,
   "metadata": {
    "collapsed": true
   },
   "outputs": [],
   "source": [
    "def preprocess(phonenumber):\n",
    "    return phonenumber"
   ]
  },
  {
   "cell_type": "markdown",
   "metadata": {},
   "source": [
    "#### 이미지 가져오기"
   ]
  },
  {
   "cell_type": "code",
   "execution_count": 39,
   "metadata": {
    "collapsed": true
   },
   "outputs": [],
   "source": [
    "from IPython.display import Image"
   ]
  },
  {
   "cell_type": "code",
   "execution_count": 40,
   "metadata": {
    "collapsed": true
   },
   "outputs": [],
   "source": [
    "content_element = dom.select_one(\"#postContent\")"
   ]
  },
  {
   "cell_type": "code",
   "execution_count": 41,
   "metadata": {
    "collapsed": false
   },
   "outputs": [],
   "source": [
    "image_elements = content_element.select(\"img\")"
   ]
  },
  {
   "cell_type": "code",
   "execution_count": 42,
   "metadata": {
    "collapsed": false
   },
   "outputs": [
    {
     "data": {
      "text/plain": [
       "26"
      ]
     },
     "execution_count": 42,
     "metadata": {},
     "output_type": "execute_result"
    }
   ],
   "source": [
    "len(image_elements)"
   ]
  },
  {
   "cell_type": "code",
   "execution_count": 46,
   "metadata": {
    "collapsed": false
   },
   "outputs": [
    {
     "data": {
      "text/plain": [
       "'http://dthumb.phinf.naver.net/?src=%22http%3A%2F%2Fcafeptthumb4.phinf.naver.net%2F20160303_164%2Fnejona_1456986688601RlgdG_PNG%2Fjn1.png%3Ftype%3Dw740%22&type=w1'"
      ]
     },
     "execution_count": 46,
     "metadata": {},
     "output_type": "execute_result"
    }
   ],
   "source": [
    "image_elements[1].get('src')"
   ]
  },
  {
   "cell_type": "code",
   "execution_count": 53,
   "metadata": {
    "collapsed": false,
    "scrolled": true
   },
   "outputs": [
    {
     "data": {
      "text/plain": [
       "'http://dthumb.phinf.naver.net/?src=%22http%3A%2F%2Fcafeptthumb1.phinf.naver.net%2F20160719_52%2Fneed0629_1468891085301F0ko2_JPEG%2FP20160613_224959212_FD79CEB3-4C84-4ECF-A295-EF4AAAF59212.JPG%3Ftype%3Dw740%22&type=w1'"
      ]
     },
     "execution_count": 53,
     "metadata": {},
     "output_type": "execute_result"
    }
   ],
   "source": [
    "image_url = image_elements[3].get('src')   #인덱스 바꾸면서 url 계속 입력하면서 확인\n",
    "image_url"
   ]
  },
  {
   "cell_type": "code",
   "execution_count": 58,
   "metadata": {
    "collapsed": false
   },
   "outputs": [
    {
     "name": "stdout",
     "output_type": "stream",
     "text": [
      "http://dthumb.phinf.naver.net/?src=%22http%3A%2F%2Fcafeptthumb1.phinf.naver.net%2F20160719_52%2Fneed0629_1468891085301F0ko2_JPEG%2FP20160613_224959212_FD79CEB3-4C84-4ECF-A295-EF4AAAF59212.JPG%3Ftype%3Dw740%22&type=w1\n"
     ]
    }
   ],
   "source": [
    "# image_url = \"\".join(image_url.split(\"?\")[:-1])\n",
    "print(image_url)\n",
    "#iPython에서 이렇게 제거하면 할 수 있는 방법은 없다."
   ]
  },
  {
   "cell_type": "code",
   "execution_count": 54,
   "metadata": {
    "collapsed": false
   },
   "outputs": [
    {
     "data": {
      "text/plain": [
       "'http://dthumb.phinf.naver.net/?src=%22http%3A%2F%2Fcafeptthumb1.phinf.naver.net%2F20160719_52%2Fneed0629_1468891085301F0ko2_JPEG%2FP20160613_224959212_FD79CEB3-4C84-4ECF-A295-EF4AAAF59212.JPG%3Ftype%3Dw740%22&type=w1'"
      ]
     },
     "execution_count": 54,
     "metadata": {},
     "output_type": "execute_result"
    }
   ],
   "source": [
    "image_url"
   ]
  },
  {
   "cell_type": "code",
   "execution_count": 55,
   "metadata": {
    "collapsed": true
   },
   "outputs": [],
   "source": [
    "from IPython.display import IFrame"
   ]
  },
  {
   "cell_type": "code",
   "execution_count": 56,
   "metadata": {
    "collapsed": false
   },
   "outputs": [
    {
     "data": {
      "text/html": [
       "\n",
       "        <iframe\n",
       "            width=\"300\"\n",
       "            height=\"200\"\n",
       "            src=\"http://dthumb.phinf.naver.net/?src=%22http%3A%2F%2Fcafeptthumb1.phinf.naver.net%2F20160719_52%2Fneed0629_1468891085301F0ko2_JPEG%2FP20160613_224959212_FD79CEB3-4C84-4ECF-A295-EF4AAAF59212.JPG%3Ftype%3Dw740%22&type=w1\"\n",
       "            frameborder=\"0\"\n",
       "            allowfullscreen\n",
       "        ></iframe>\n",
       "        "
      ],
      "text/plain": [
       "<IPython.lib.display.IFrame at 0xafff048>"
      ]
     },
     "execution_count": 56,
     "metadata": {},
     "output_type": "execute_result"
    }
   ],
   "source": [
    "IFrame(image_url, width=300, height=200)"
   ]
  },
  {
   "cell_type": "markdown",
   "metadata": {},
   "source": [
    "* https://opentutorials.org/course/1375/6843 여기 참조\n",
    "* 이걸로도 확인은 가능하나 우리는 https(안전한 곳). 그래서 보안 클릭해서 바꾸고 보면 됨\n",
    "* API형태의 ajax를 보지만 많은 종류의 ajax가 있다.\n",
    " * ajax는 asynchronous javascript and xml. 비동기적으로 페이지가 변하지 않는 상태에서 우리가 자바스크립트로 리퀘스트를 보낸 다음에 xml이라는 파일 양식을 받아오는 방식\n",
    " * 그런데 이제 최근에는 xml이라는 방식보다 웹에서는 json을 많이 쓰면서 사실상 우리는 json을 받아오는 것임. json은 html도 있고 text도 있다.\n",
    " * 이런 게 ajax. 웹사이트가 바뀌지 않으면서 우리가 클릭을 했을 때 웹사이트 뒤에서 동작이 일어나고 결과가 바뀌는 일련의 과정을 우리가 ajax라고 부른다."
   ]
  },
  {
   "cell_type": "markdown",
   "metadata": {
    "collapsed": true
   },
   "source": [
    "# 2T_데이터 크롤링 유형 (4) - 한국형 웹사이트 ( iFrame, javascript )"
   ]
  },
  {
   "cell_type": "code",
   "execution_count": 1,
   "metadata": {
    "collapsed": true
   },
   "outputs": [],
   "source": [
    "#이번에는 각자 주피터 노트북으로. 왜냐하면 selenium으로 할 것임\n",
    "# coding: utf-8\n",
    "from selenium import webdriver"
   ]
  },
  {
   "cell_type": "code",
   "execution_count": 2,
   "metadata": {
    "collapsed": true
   },
   "outputs": [],
   "source": [
    "driver = webdriver.Firefox()"
   ]
  },
  {
   "cell_type": "code",
   "execution_count": 3,
   "metadata": {
    "collapsed": true
   },
   "outputs": [],
   "source": [
    "driver.get(\"http://cafe.naver.com/joonggonara\")"
   ]
  },
  {
   "cell_type": "code",
   "execution_count": 4,
   "metadata": {
    "collapsed": true
   },
   "outputs": [],
   "source": [
    "# \"맥북\" 이라는 키워드로 검색 ( * ) => find_ele.., send_keys, click \n",
    "# 검색 결과로 나오는 게시글 크롤링"
   ]
  },
  {
   "cell_type": "code",
   "execution_count": 5,
   "metadata": {
    "collapsed": true
   },
   "outputs": [],
   "source": [
    "# 1. 검색창 element\n",
    "# 2. send_keys(\"맥북\")\n",
    "# 3. 검색 버튼 element\n",
    "# 4. click()"
   ]
  },
  {
   "cell_type": "code",
   "execution_count": 6,
   "metadata": {
    "collapsed": true
   },
   "outputs": [],
   "source": [
    "search_form_element = driver.find_element_by_css_selector(\"#topLayerQueryInput\")\n",
    "search_form_element.send_keys(\"맥북\")"
   ]
  },
  {
   "cell_type": "code",
   "execution_count": 7,
   "metadata": {
    "collapsed": true
   },
   "outputs": [],
   "source": [
    "# 할 수 있는 훨씬 쉬운 방법들이 있습니다. 이따 javascript 통해서 할 예정입니다."
   ]
  },
  {
   "cell_type": "code",
   "execution_count": 8,
   "metadata": {
    "collapsed": true
   },
   "outputs": [],
   "source": [
    "search_button_element = driver.find_element_by_css_selector(\".btn-search-green\")\n",
    "search_button_element.click()"
   ]
  },
  {
   "cell_type": "code",
   "execution_count": 10,
   "metadata": {
    "collapsed": false
   },
   "outputs": [],
   "source": [
    "post_elements = driver.find_elements_by_css_selector(\"td.board-list\")"
   ]
  },
  {
   "cell_type": "code",
   "execution_count": 11,
   "metadata": {
    "collapsed": false
   },
   "outputs": [
    {
     "data": {
      "text/plain": [
       "0"
      ]
     },
     "execution_count": 11,
     "metadata": {},
     "output_type": "execute_result"
    }
   ],
   "source": [
    "len(post_elements)"
   ]
  },
  {
   "cell_type": "code",
   "execution_count": 13,
   "metadata": {
    "collapsed": true
   },
   "outputs": [],
   "source": [
    "#실제로는 있는데, 0이라고 나옴. 눈으로는 보이는데\n",
    "#왜 그러냐면 특이하게 동작함. 이중 구조. 이중 Frame 형태이기 때문\n",
    "#네이버는 꽤 많은 IFrame을 쓰고 있음"
   ]
  },
  {
   "cell_type": "code",
   "execution_count": 14,
   "metadata": {
    "collapsed": true
   },
   "outputs": [],
   "source": [
    "iframe_element = driver.find_element_by_css_selector(\"#cafe_main\")"
   ]
  },
  {
   "cell_type": "code",
   "execution_count": 15,
   "metadata": {
    "collapsed": true
   },
   "outputs": [],
   "source": [
    "driver.switch_to_frame(iframe_element)  # 내부적으로는 focus가 옮겨진거."
   ]
  },
  {
   "cell_type": "code",
   "execution_count": 16,
   "metadata": {
    "collapsed": true
   },
   "outputs": [],
   "source": [
    "post_elements = driver.find_elements_by_css_selector(\"td.board-list\")"
   ]
  },
  {
   "cell_type": "code",
   "execution_count": 17,
   "metadata": {
    "collapsed": false
   },
   "outputs": [
    {
     "data": {
      "text/plain": [
       "15"
      ]
     },
     "execution_count": 17,
     "metadata": {},
     "output_type": "execute_result"
    }
   ],
   "source": [
    "len(post_elements)\n",
    "#관공서 사이트가 대부분 이런 형태로 되어 있음"
   ]
  },
  {
   "cell_type": "code",
   "execution_count": 18,
   "metadata": {
    "collapsed": true
   },
   "outputs": [],
   "source": [
    "post_element = post_elements[0]"
   ]
  },
  {
   "cell_type": "code",
   "execution_count": 19,
   "metadata": {
    "collapsed": false
   },
   "outputs": [
    {
     "data": {
      "text/plain": [
       "<selenium.webdriver.remote.webelement.WebElement (session=\"9d1d8533-c6eb-43f2-9a8b-191e5e3f6acb\", element=\"{9dbeb56f-ff01-4a86-a278-a20f665d75fe}\")>"
      ]
     },
     "execution_count": 19,
     "metadata": {},
     "output_type": "execute_result"
    }
   ],
   "source": [
    "post_element"
   ]
  },
  {
   "cell_type": "code",
   "execution_count": 20,
   "metadata": {
    "collapsed": false
   },
   "outputs": [
    {
     "name": "stdout",
     "output_type": "stream",
     "text": [
      "맥북 프로 mc975kh/a 15인치 코어 i7 판매합니다.\n",
      "http://cafe.naver.com/ArticleRead.nhn?clubid=10050146&page=1&inCafeSearch=true&searchBy=1&query=%B8%C6%BA%CF&includeAll=&exclude=&include=&exact=&searchdate=all&media=0&sortBy=date&articleid=333154226&referrerAllArticles=true\n"
     ]
    }
   ],
   "source": [
    "title = post_element.find_element_by_css_selector(\"a\").text\n",
    "url = post_element.find_element_by_css_selector(\"a\").get_attribute(\"href\")\n",
    "\n",
    "print(title)\n",
    "print(url)"
   ]
  },
  {
   "cell_type": "code",
   "execution_count": 21,
   "metadata": {
    "collapsed": false
   },
   "outputs": [
    {
     "name": "stdout",
     "output_type": "stream",
     "text": [
      "맥북 프로 mc975kh/a 15인치 코어 i7 판매합니다.\n",
      "http://cafe.naver.com/ArticleRead.nhn?clubid=10050146&page=1&inCafeSearch=true&searchBy=1&query=%B8%C6%BA%CF&includeAll=&exclude=&include=&exact=&searchdate=all&media=0&sortBy=date&articleid=333154226&referrerAllArticles=true\n",
      "맥북에어 2014 MD761KH/A 부품파라요\n",
      "http://cafe.naver.com/ArticleRead.nhn?clubid=10050146&page=1&inCafeSearch=true&searchBy=1&query=%B8%C6%BA%CF&includeAll=&exclude=&include=&exact=&searchdate=all&media=0&sortBy=date&articleid=333154220&referrerAllArticles=true\n",
      "2015 맥북에어 11인치 (상태S+)\n",
      "http://cafe.naver.com/ArticleRead.nhn?clubid=10050146&page=1&inCafeSearch=true&searchBy=1&query=%B8%C6%BA%CF&includeAll=&exclude=&include=&exact=&searchdate=all&media=0&sortBy=date&articleid=333154015&referrerAllArticles=true\n",
      "맥북 에어 2013 CTO 11인치\n",
      "http://cafe.naver.com/ArticleRead.nhn?clubid=10050146&page=1&inCafeSearch=true&searchBy=1&query=%B8%C6%BA%CF&includeAll=&exclude=&include=&exact=&searchdate=all&media=0&sortBy=date&articleid=333151712&referrerAllArticles=true\n",
      "맥북에어 15년 13인치 256GB 중급 팝니다\n",
      "http://cafe.naver.com/ArticleRead.nhn?clubid=10050146&page=1&inCafeSearch=true&searchBy=1&query=%B8%C6%BA%CF&includeAll=&exclude=&include=&exact=&searchdate=all&media=0&sortBy=date&articleid=333151324&referrerAllArticles=true\n",
      "맥북 프로 레티나 15인치 mid 2014\n",
      "http://cafe.naver.com/ArticleRead.nhn?clubid=10050146&page=1&inCafeSearch=true&searchBy=1&query=%B8%C6%BA%CF&includeAll=&exclude=&include=&exact=&searchdate=all&media=0&sortBy=date&articleid=333151239&referrerAllArticles=true\n",
      "맥북에어 13인치 2010년도 팝니다.\n",
      "http://cafe.naver.com/ArticleRead.nhn?clubid=10050146&page=1&inCafeSearch=true&searchBy=1&query=%B8%C6%BA%CF&includeAll=&exclude=&include=&exact=&searchdate=all&media=0&sortBy=date&articleid=333149886&referrerAllArticles=true\n",
      "맥북 프로 레티나 13인치 2015년 1월 구입 128GB\n",
      "http://cafe.naver.com/ArticleRead.nhn?clubid=10050146&page=1&inCafeSearch=true&searchBy=1&query=%B8%C6%BA%CF&includeAll=&exclude=&include=&exact=&searchdate=all&media=0&sortBy=date&articleid=333149766&referrerAllArticles=true\n",
      "2013/mid/ 13인치 맥북에어 팝니다.\n",
      "http://cafe.naver.com/ArticleRead.nhn?clubid=10050146&page=1&inCafeSearch=true&searchBy=1&query=%B8%C6%BA%CF&includeAll=&exclude=&include=&exact=&searchdate=all&media=0&sortBy=date&articleid=333149226&referrerAllArticles=true\n",
      "맥북에어 13인치 mid 2013 팝니다\n",
      "http://cafe.naver.com/ArticleRead.nhn?clubid=10050146&page=1&inCafeSearch=true&searchBy=1&query=%B8%C6%BA%CF&includeAll=&exclude=&include=&exact=&searchdate=all&media=0&sortBy=date&articleid=333147930&referrerAllArticles=true\n",
      "맥북에어 13인치 2016년형 메모리8g, ssd 128g 팝니다\n",
      "http://cafe.naver.com/ArticleRead.nhn?clubid=10050146&page=1&inCafeSearch=true&searchBy=1&query=%B8%C6%BA%CF&includeAll=&exclude=&include=&exact=&searchdate=all&media=0&sortBy=date&articleid=333146465&referrerAllArticles=true\n",
      "맥북프로 15인치 2015년형 삽니다\n",
      "http://cafe.naver.com/ArticleRead.nhn?clubid=10050146&page=1&inCafeSearch=true&searchBy=1&query=%B8%C6%BA%CF&includeAll=&exclude=&include=&exact=&searchdate=all&media=0&sortBy=date&articleid=333146139&referrerAllArticles=true\n",
      "(미개봉) 맥북에어 13인치 MJVE2KH/A 팝니다.\n",
      "http://cafe.naver.com/ArticleRead.nhn?clubid=10050146&page=1&inCafeSearch=true&searchBy=1&query=%B8%C6%BA%CF&includeAll=&exclude=&include=&exact=&searchdate=all&media=0&sortBy=date&articleid=333145168&referrerAllArticles=true\n",
      "맥북프로 2015 13인치 중급 팝니다. (MF840KH) 256G 중급입니다\n",
      "http://cafe.naver.com/ArticleRead.nhn?clubid=10050146&page=1&inCafeSearch=true&searchBy=1&query=%B8%C6%BA%CF&includeAll=&exclude=&include=&exact=&searchdate=all&media=0&sortBy=date&articleid=333144947&referrerAllArticles=true\n",
      "MSI 게이밍 노트북 판매합니다. 맥북교환도 원함\n",
      "http://cafe.naver.com/ArticleRead.nhn?clubid=10050146&page=1&inCafeSearch=true&searchBy=1&query=%B8%C6%BA%CF&includeAll=&exclude=&include=&exact=&searchdate=all&media=0&sortBy=date&articleid=333144322&referrerAllArticles=true\n"
     ]
    }
   ],
   "source": [
    "for post_element in post_elements:\n",
    "    title = post_element.find_element_by_css_selector(\"a\").text\n",
    "    url = post_element.find_element_by_css_selector(\"a\").get_attribute(\"href\")\n",
    "    \n",
    "    print(title)\n",
    "    print(url)"
   ]
  },
  {
   "cell_type": "code",
   "execution_count": 22,
   "metadata": {
    "collapsed": true
   },
   "outputs": [],
   "source": [
    "# 정적인 ( HTML )\n",
    "# 동적인 ( API; json, xml )\n",
    "# 동적인 ( Selenium )\n",
    "# + 한국형 웹사이트\n",
    "#   - selenium iFrame\n",
    "#   - selenium javascript"
   ]
  },
  {
   "cell_type": "code",
   "execution_count": 23,
   "metadata": {
    "collapsed": true
   },
   "outputs": [],
   "source": [
    "#http://kcia.or.kr/cid/Document/020.Ingredient_shis/INGREDIENT_SHIS_10L.asp\n",
    "#화장품 성분명 사이트 실습. "
   ]
  },
  {
   "cell_type": "code",
   "execution_count": 41,
   "metadata": {
    "collapsed": false
   },
   "outputs": [],
   "source": [
    "driver = webdriver.Firefox()"
   ]
  },
  {
   "cell_type": "code",
   "execution_count": 42,
   "metadata": {
    "collapsed": false
   },
   "outputs": [],
   "source": [
    "driver.get(\"http://kcia.or.kr/cid/Document/020.Ingredient_shis/INGREDIENT_SHIS_10L.asp\")"
   ]
  },
  {
   "cell_type": "code",
   "execution_count": 43,
   "metadata": {
    "collapsed": true
   },
   "outputs": [],
   "source": [
    "driver.execute_script('fGoPage(1)')"
   ]
  },
  {
   "cell_type": "code",
   "execution_count": 44,
   "metadata": {
    "collapsed": false,
    "scrolled": true
   },
   "outputs": [
    {
     "ename": "WebDriverException",
     "evalue": "Message: fGoPage is not defined\nStacktrace:\n    at anonymous (http://kcia.or.kr/cid/Document/020.Ingredient_shis/INGREDIENT_SHIS_10L.asp line 69 > Function:1)\n    at handleEvaluateEvent (http://kcia.or.kr/cid/Document/020.Ingredient_shis/INGREDIENT_SHIS_10L.asp:69)",
     "output_type": "error",
     "traceback": [
      "\u001b[1;31m---------------------------------------------------------------------------\u001b[0m",
      "\u001b[1;31mWebDriverException\u001b[0m                        Traceback (most recent call last)",
      "\u001b[1;32m<ipython-input-44-9b675dc1fbd0>\u001b[0m in \u001b[0;36m<module>\u001b[1;34m()\u001b[0m\n\u001b[0;32m      1\u001b[0m \u001b[1;32mfor\u001b[0m \u001b[0mpage\u001b[0m \u001b[1;32min\u001b[0m \u001b[0mrange\u001b[0m\u001b[1;33m(\u001b[0m\u001b[1;36m1\u001b[0m\u001b[1;33m,\u001b[0m \u001b[1;36m100\u001b[0m\u001b[1;33m+\u001b[0m\u001b[1;36m1\u001b[0m\u001b[1;33m)\u001b[0m\u001b[1;33m:\u001b[0m\u001b[1;33m\u001b[0m\u001b[0m\n\u001b[1;32m----> 2\u001b[1;33m     \u001b[0mdriver\u001b[0m\u001b[1;33m.\u001b[0m\u001b[0mexecute_script\u001b[0m\u001b[1;33m(\u001b[0m\u001b[1;34m\"fGoPage({page})\"\u001b[0m\u001b[1;33m.\u001b[0m\u001b[0mformat\u001b[0m\u001b[1;33m(\u001b[0m\u001b[0mpage\u001b[0m\u001b[1;33m=\u001b[0m\u001b[0mpage\u001b[0m\u001b[1;33m)\u001b[0m\u001b[1;33m)\u001b[0m\u001b[1;33m\u001b[0m\u001b[0m\n\u001b[0m",
      "\u001b[1;32mC:\\Anaconda3\\lib\\site-packages\\selenium\\webdriver\\remote\\webdriver.py\u001b[0m in \u001b[0;36mexecute_script\u001b[1;34m(self, script, *args)\u001b[0m\n\u001b[0;32m    463\u001b[0m         return self.execute(Command.EXECUTE_SCRIPT, {\n\u001b[0;32m    464\u001b[0m             \u001b[1;34m'script'\u001b[0m\u001b[1;33m:\u001b[0m \u001b[0mscript\u001b[0m\u001b[1;33m,\u001b[0m\u001b[1;33m\u001b[0m\u001b[0m\n\u001b[1;32m--> 465\u001b[1;33m             'args': converted_args})['value']\n\u001b[0m\u001b[0;32m    466\u001b[0m \u001b[1;33m\u001b[0m\u001b[0m\n\u001b[0;32m    467\u001b[0m     \u001b[1;32mdef\u001b[0m \u001b[0mexecute_async_script\u001b[0m\u001b[1;33m(\u001b[0m\u001b[0mself\u001b[0m\u001b[1;33m,\u001b[0m \u001b[0mscript\u001b[0m\u001b[1;33m,\u001b[0m \u001b[1;33m*\u001b[0m\u001b[0margs\u001b[0m\u001b[1;33m)\u001b[0m\u001b[1;33m:\u001b[0m\u001b[1;33m\u001b[0m\u001b[0m\n",
      "\u001b[1;32mC:\\Anaconda3\\lib\\site-packages\\selenium\\webdriver\\remote\\webdriver.py\u001b[0m in \u001b[0;36mexecute\u001b[1;34m(self, driver_command, params)\u001b[0m\n\u001b[0;32m    234\u001b[0m         \u001b[0mresponse\u001b[0m \u001b[1;33m=\u001b[0m \u001b[0mself\u001b[0m\u001b[1;33m.\u001b[0m\u001b[0mcommand_executor\u001b[0m\u001b[1;33m.\u001b[0m\u001b[0mexecute\u001b[0m\u001b[1;33m(\u001b[0m\u001b[0mdriver_command\u001b[0m\u001b[1;33m,\u001b[0m \u001b[0mparams\u001b[0m\u001b[1;33m)\u001b[0m\u001b[1;33m\u001b[0m\u001b[0m\n\u001b[0;32m    235\u001b[0m         \u001b[1;32mif\u001b[0m \u001b[0mresponse\u001b[0m\u001b[1;33m:\u001b[0m\u001b[1;33m\u001b[0m\u001b[0m\n\u001b[1;32m--> 236\u001b[1;33m             \u001b[0mself\u001b[0m\u001b[1;33m.\u001b[0m\u001b[0merror_handler\u001b[0m\u001b[1;33m.\u001b[0m\u001b[0mcheck_response\u001b[0m\u001b[1;33m(\u001b[0m\u001b[0mresponse\u001b[0m\u001b[1;33m)\u001b[0m\u001b[1;33m\u001b[0m\u001b[0m\n\u001b[0m\u001b[0;32m    237\u001b[0m             response['value'] = self._unwrap_value(\n\u001b[0;32m    238\u001b[0m                 response.get('value', None))\n",
      "\u001b[1;32mC:\\Anaconda3\\lib\\site-packages\\selenium\\webdriver\\remote\\errorhandler.py\u001b[0m in \u001b[0;36mcheck_response\u001b[1;34m(self, response)\u001b[0m\n\u001b[0;32m    190\u001b[0m         \u001b[1;32melif\u001b[0m \u001b[0mexception_class\u001b[0m \u001b[1;33m==\u001b[0m \u001b[0mUnexpectedAlertPresentException\u001b[0m \u001b[1;32mand\u001b[0m \u001b[1;34m'alert'\u001b[0m \u001b[1;32min\u001b[0m \u001b[0mvalue\u001b[0m\u001b[1;33m:\u001b[0m\u001b[1;33m\u001b[0m\u001b[0m\n\u001b[0;32m    191\u001b[0m             \u001b[1;32mraise\u001b[0m \u001b[0mexception_class\u001b[0m\u001b[1;33m(\u001b[0m\u001b[0mmessage\u001b[0m\u001b[1;33m,\u001b[0m \u001b[0mscreen\u001b[0m\u001b[1;33m,\u001b[0m \u001b[0mstacktrace\u001b[0m\u001b[1;33m,\u001b[0m \u001b[0mvalue\u001b[0m\u001b[1;33m[\u001b[0m\u001b[1;34m'alert'\u001b[0m\u001b[1;33m]\u001b[0m\u001b[1;33m.\u001b[0m\u001b[0mget\u001b[0m\u001b[1;33m(\u001b[0m\u001b[1;34m'text'\u001b[0m\u001b[1;33m)\u001b[0m\u001b[1;33m)\u001b[0m\u001b[1;33m\u001b[0m\u001b[0m\n\u001b[1;32m--> 192\u001b[1;33m         \u001b[1;32mraise\u001b[0m \u001b[0mexception_class\u001b[0m\u001b[1;33m(\u001b[0m\u001b[0mmessage\u001b[0m\u001b[1;33m,\u001b[0m \u001b[0mscreen\u001b[0m\u001b[1;33m,\u001b[0m \u001b[0mstacktrace\u001b[0m\u001b[1;33m)\u001b[0m\u001b[1;33m\u001b[0m\u001b[0m\n\u001b[0m\u001b[0;32m    193\u001b[0m \u001b[1;33m\u001b[0m\u001b[0m\n\u001b[0;32m    194\u001b[0m     \u001b[1;32mdef\u001b[0m \u001b[0m_value_or_default\u001b[0m\u001b[1;33m(\u001b[0m\u001b[0mself\u001b[0m\u001b[1;33m,\u001b[0m \u001b[0mobj\u001b[0m\u001b[1;33m,\u001b[0m \u001b[0mkey\u001b[0m\u001b[1;33m,\u001b[0m \u001b[0mdefault\u001b[0m\u001b[1;33m)\u001b[0m\u001b[1;33m:\u001b[0m\u001b[1;33m\u001b[0m\u001b[0m\n",
      "\u001b[1;31mWebDriverException\u001b[0m: Message: fGoPage is not defined\nStacktrace:\n    at anonymous (http://kcia.or.kr/cid/Document/020.Ingredient_shis/INGREDIENT_SHIS_10L.asp line 69 > Function:1)\n    at handleEvaluateEvent (http://kcia.or.kr/cid/Document/020.Ingredient_shis/INGREDIENT_SHIS_10L.asp:69)"
     ]
    }
   ],
   "source": [
    "for page in range(1, 100+1):\n",
    "    driver.execute_script(\"fGoPage({page})\".format(page=page))"
   ]
  },
  {
   "cell_type": "code",
   "execution_count": 45,
   "metadata": {
    "collapsed": true
   },
   "outputs": [],
   "source": [
    "driver = webdriver.Firefox()"
   ]
  },
  {
   "cell_type": "code",
   "execution_count": 46,
   "metadata": {
    "collapsed": true
   },
   "outputs": [],
   "source": [
    "driver.get(\"http://fastcampus.co.kr\")"
   ]
  },
  {
   "cell_type": "code",
   "execution_count": 47,
   "metadata": {
    "collapsed": false
   },
   "outputs": [
    {
     "data": {
      "text/plain": [
       "'무료 수강권 이벤트에 당첨되었습니다.'"
      ]
     },
     "execution_count": 47,
     "metadata": {},
     "output_type": "execute_result"
    }
   ],
   "source": [
    "driver.execute_script(\"alert('무료 수강권 이벤트에 당첨되었습니다.')\")"
   ]
  }
 ],
 "metadata": {
  "anaconda-cloud": {},
  "kernelspec": {
   "display_name": "Python [Root]",
   "language": "python",
   "name": "Python [Root]"
  },
  "language_info": {
   "codemirror_mode": {
    "name": "ipython",
    "version": 3
   },
   "file_extension": ".py",
   "mimetype": "text/x-python",
   "name": "python",
   "nbconvert_exporter": "python",
   "pygments_lexer": "ipython3",
   "version": "3.5.1"
  }
 },
 "nbformat": 4,
 "nbformat_minor": 0
}
