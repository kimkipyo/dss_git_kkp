{
 "cells": [
  {
   "cell_type": "markdown",
   "metadata": {},
   "source": [
    "# Decorater, Class"
   ]
  },
  {
   "cell_type": "code",
   "execution_count": 4,
   "metadata": {
    "collapsed": true
   },
   "outputs": [],
   "source": [
    "def word_replace2(sentence, old_word, new_word):\n",
    "    word_list = [i for i in sentence]\n",
    "    a = \"\"\n",
    "    for i in range (len(sentence)):\n",
    "        if functools.reduce(\n",
    "            lambda x, y: x+y, word_list[i:i+len(old_word)]) == old_word:\n",
    "                a += new_word\n",
    "                for j in range(len(old_word)):\n",
    "                    word_list[i+j] = \"\"\n",
    "        else:\n",
    "            a += word_list[i]\n",
    "    return a"
   ]
  },
  {
   "cell_type": "code",
   "execution_count": 5,
   "metadata": {
    "collapsed": false
   },
   "outputs": [
    {
     "data": {
      "text/plain": [
       "'슬로slow캠퍼스slow'"
      ]
     },
     "execution_count": 5,
     "metadata": {},
     "output_type": "execute_result"
    }
   ],
   "source": [
    "word_replace2(\"슬로슬로우캠퍼스슬로우\",\"슬로우\",\"slow\")"
   ]
  },
  {
   "cell_type": "markdown",
   "metadata": {},
   "source": [
    "3번 문제였던 Calendar"
   ]
  },
  {
   "cell_type": "code",
   "execution_count": 6,
   "metadata": {
    "collapsed": false
   },
   "outputs": [
    {
     "name": "stdout",
     "output_type": "stream",
     "text": [
      "화요일\n"
     ]
    }
   ],
   "source": [
    "def calendar(month, day):\n",
    "    common_year = [\n",
    "        31,\n",
    "        28,\n",
    "        31,\n",
    "        30,\n",
    "        31,\n",
    "        30,\n",
    "        31,\n",
    "        31,\n",
    "        30,\n",
    "        31,\n",
    "        30,\n",
    "        31\n",
    "    ]\n",
    "    \n",
    "    leap_year = [\n",
    "        31,\n",
    "        29,\n",
    "        31,\n",
    "        30,\n",
    "        31,\n",
    "        30,\n",
    "        31,\n",
    "        31,\n",
    "        30,\n",
    "        31,\n",
    "        30,\n",
    "        31\n",
    "    ]\n",
    "    changed_day = {\n",
    "        0: \"목요일\",\n",
    "        1: \"금요일\",\n",
    "        2: \"토요일\",\n",
    "        3: \"일요일\",\n",
    "        4: \"월요일\",\n",
    "        5: \"화요일\",\n",
    "        6: \"수요일\"\n",
    "    }\n",
    "    \n",
    "    temp_days = 0\n",
    "    \n",
    "    if (2016 % 4 == 0 and 2016 % 100 != 0) or 2016 % 400 == 0:\n",
    "        for i in range(month-1):\n",
    "            temp_days += leap_year[i]\n",
    "        temp_days += day\n",
    "    else:\n",
    "        for i in range(month-1):\n",
    "            temp_days += common_year[i]\n",
    "        temp_days += day\n",
    "        \n",
    "    for key, value in changed_day.items():\n",
    "        if temp_days % 7 == key:\n",
    "            print(\"{value}\".format(value=value))\n",
    "            \n",
    "calendar(7, 12)"
   ]
  },
  {
   "cell_type": "code",
   "execution_count": 7,
   "metadata": {
    "collapsed": false
   },
   "outputs": [
    {
     "data": {
      "text/plain": [
       "'화요일'"
      ]
     },
     "execution_count": 7,
     "metadata": {},
     "output_type": "execute_result"
    }
   ],
   "source": [
    "def is_leap_year(year):\n",
    "    return (year % 4 == 0 and year % 100 != 0) or year % 400 == 0\n",
    "\n",
    "def calendar(month, day):\n",
    "    common_year = [\n",
    "        31,\n",
    "        28 + int(is_leap_year(2016)),\n",
    "        31,\n",
    "        30,\n",
    "        31,\n",
    "        30,\n",
    "        31,\n",
    "        31,\n",
    "        30,\n",
    "        31,\n",
    "        30,\n",
    "        31\n",
    "    ]\n",
    "    \n",
    "    date_list = [\"목\", \"금\", \"토\", \"일\", \"월\", \"화\", \"수\"]\n",
    "    \n",
    "    changed_day = {}\n",
    "    for i in range(7):\n",
    "        changed_day[i] = date_list[i] + \"요일\"\n",
    "        \n",
    "    temp_days = 0\n",
    "    \n",
    "    if is_leap_year(2016):\n",
    "        for i in range(month-1):\n",
    "            temp_days += common_year[i]\n",
    "    else:\n",
    "        for i in range(month-1):\n",
    "            temp_days += common_year[i]\n",
    "            \n",
    "    temp_days += day\n",
    "    return changed_day[temp_days % 7]\n",
    "\n",
    "calendar(7, 12)"
   ]
  },
  {
   "cell_type": "code",
   "execution_count": 8,
   "metadata": {
    "collapsed": false
   },
   "outputs": [
    {
     "name": "stdout",
     "output_type": "stream",
     "text": [
      "track         ==\n",
      "fastcampus    =\n",
      "campus        =\n",
      "asia          ==\n",
      "fast          ===\n",
      "{'track': 2, 'fastcampus': 1, 'campus': 1, 'asia': 2, 'fast': 3}\n"
     ]
    }
   ],
   "source": [
    "import functools\n",
    "\n",
    "def check_same_keyword(keyword, keyword_dict):\n",
    "    for key in keyword_dict:\n",
    "        if key == keyword:\n",
    "            return True\n",
    "    return False\n",
    "\n",
    "def histogram(keyword_list):\n",
    "    \n",
    "    keyword_dict = {}\n",
    "    \n",
    "    # make dict\n",
    "    for keyword in keyword_list:\n",
    "#         if not check_same_keyword(keyword, keyword_dict):\n",
    "#            keyword_dict[keyword] = 0\n",
    "#         keyword_dict[keyword] += 1\n",
    "        if not keyword_dict.get(keyword):\n",
    "            keyword_dict[keyword] = 0\n",
    "        keyword_dict[keyword] += 1\n",
    "    return keyword_dict\n",
    "\n",
    "def disp_histogram(keyword_dict):\n",
    "    \n",
    "    max_length = 0\n",
    "    \n",
    "    # find max_length\n",
    "    for keyword in keyword_dict:\n",
    "        if len(keyword) > max_length:\n",
    "            max_length = len(keyword)\n",
    "            \n",
    "    # using reduce\n",
    "    max_length = len(functools.reduce(    \n",
    "        lambda x,y:x if len(x) > len(y) else y,\n",
    "        keyword_dict\n",
    "    ))\n",
    "    \n",
    "    # display kyword_dict\n",
    "    for keyword, count in keyword_dict.items():\n",
    "        count_str = \"=\" * count\n",
    "        space = max_length - len(keyword) + 4\n",
    "        whitespace = \" \" * space\n",
    "        print(\"{keyword}{whitespace}{count_str}\"\n",
    "            .format(keyword=keyword, whitespace=whitespace, count_str=count_str\n",
    "        ))\n",
    "\n",
    "keyword_dict = histogram([\"fast\",\"fast\", \"campus\", \"fastcampus\", \"fast\", \"track\", \"asia\", \"track\", \"asia\"])\n",
    "disp_histogram(keyword_dict)\n",
    "print(keyword_dict)\n",
    "\n",
    "# keyword_dict.get(\"fast\", 0) 키워드가 없으면 0을 리턴"
   ]
  },
  {
   "cell_type": "code",
   "execution_count": 9,
   "metadata": {
    "collapsed": false
   },
   "outputs": [
    {
     "name": "stdout",
     "output_type": "stream",
     "text": [
      "{'track': 1, 'fastcampus': 1, 'campus': 1, 'asia': 1, 'fast': 3}\n",
      "track         =\n",
      "fastcampus    =\n",
      "campus        =\n",
      "asia          =\n",
      "fast          ===\n"
     ]
    }
   ],
   "source": [
    "import functools\n",
    "\n",
    "\n",
    "def histogram(keyword_list):\n",
    "    keyword_dict = {}\n",
    "    for keyword in keyword_list:        \n",
    "        if not keyword_dict.get(keyword):\n",
    "            keyword_dict[keyword] = 0\n",
    "        keyword_dict[keyword] += 1\n",
    "        \n",
    "    return keyword_dict\n",
    "\n",
    "\n",
    "def disp_keyword_str(keyword_dict):\n",
    "    \n",
    "    max_length = len(functools.reduce(lambda x,y: x if len(x)>len(y) else y, keyword_dict))    \n",
    "        \n",
    "    for key, value in keyword_dict.items():\n",
    "        space = \" \" * (max_length - len(key) + 4) \n",
    "        count = \"=\" * value\n",
    "        print(\"{key}{space}{count}\".format(\n",
    "            key=key, space=space, count=count\n",
    "        ))\n",
    "\n",
    "keyword_dict = histogram([\"fast\", \"fast\", \"campus\", \"fastcampus\", \"fast\", \"track\", \"asia\"])\n",
    "print(keyword_dict)\n",
    "disp_keyword_str(keyword_dict)"
   ]
  },
  {
   "cell_type": "code",
   "execution_count": 10,
   "metadata": {
    "collapsed": true
   },
   "outputs": [],
   "source": [
    "def fibonacci(n):\n",
    "    # 현재값(i), 이전의 피보나치값(i-1) => i+1 \n",
    "    prev_n, cur_n = 0, 1\n",
    "    i=1\n",
    "    \n",
    "    while i<n:\n",
    "        # temp_n 가 필요없이 바로 관계가 있는 2개의 값을 바꿀 수 있습니다.\n",
    "        \"\"\"\n",
    "        temp_n = cur_n\n",
    "        cur_n = cur_n + prev_n\n",
    "        prev_n = temp_n\n",
    "        \"\"\"\n",
    "        cur_n, prev_n = cur_n + prev_n, cur_n  \n",
    "        i += 1\n",
    "    return cur_n"
   ]
  },
  {
   "cell_type": "code",
   "execution_count": 11,
   "metadata": {
    "collapsed": false
   },
   "outputs": [
    {
     "data": {
      "text/plain": [
       "13"
      ]
     },
     "execution_count": 11,
     "metadata": {},
     "output_type": "execute_result"
    }
   ],
   "source": [
    "fibonacci(7)"
   ]
  },
  {
   "cell_type": "code",
   "execution_count": 12,
   "metadata": {
    "collapsed": true
   },
   "outputs": [],
   "source": [
    "# 공민서 님이 푼 방법\n",
    "def fibonacci_re(x):\n",
    "    if x <= 0:\n",
    "        return 0\n",
    "    if x == 1:\n",
    "        return 1\n",
    "    return fibonacci_re(x-1) + fibonacci_re(x-2)"
   ]
  },
  {
   "cell_type": "code",
   "execution_count": 13,
   "metadata": {
    "collapsed": false
   },
   "outputs": [
    {
     "data": {
      "text/plain": [
       "5"
      ]
     },
     "execution_count": 13,
     "metadata": {},
     "output_type": "execute_result"
    }
   ],
   "source": [
    "fibonacci_re(5)"
   ]
  },
  {
   "cell_type": "code",
   "execution_count": 14,
   "metadata": {
    "collapsed": false
   },
   "outputs": [
    {
     "data": {
      "text/plain": [
       "0"
      ]
     },
     "execution_count": 14,
     "metadata": {},
     "output_type": "execute_result"
    }
   ],
   "source": [
    "memo = []\n",
    "len(memo)"
   ]
  },
  {
   "cell_type": "code",
   "execution_count": 15,
   "metadata": {
    "collapsed": true
   },
   "outputs": [],
   "source": [
    "#  1 2 3 4 5 6 7 8   9.... 메모의 길이\n",
    "# [0 1 2 3 4 5 6 7   8 ...] \n",
    "# [0,1,1,2,3,5,8,13,21....] 피보나치 수열의 결과값\n",
    "\n",
    "def fibonacci_dp(x):\n",
    "    if x <= 0:\n",
    "        return 0\n",
    "    if x == 1:\n",
    "        return 1\n",
    "    if len(memo)-1 >= x:\n",
    "        return memo[x]\n",
    "    if len(memo)-1 < x:\n",
    "        new_number = fibonacci_dp(x-1) + fibonacci_dp(x-2)\n",
    "        memo.append(new_number)\n",
    "        return new_number"
   ]
  },
  {
   "cell_type": "code",
   "execution_count": 16,
   "metadata": {
    "collapsed": false,
    "scrolled": false
   },
   "outputs": [
    {
     "data": {
      "text/plain": [
       "6"
      ]
     },
     "execution_count": 16,
     "metadata": {},
     "output_type": "execute_result"
    }
   ],
   "source": [
    "fibonacci_dp(5)"
   ]
  },
  {
   "cell_type": "code",
   "execution_count": 17,
   "metadata": {
    "collapsed": false,
    "scrolled": true
   },
   "outputs": [
    {
     "data": {
      "text/plain": [
       "[1, 2, 1, 3, 6]"
      ]
     },
     "execution_count": 17,
     "metadata": {},
     "output_type": "execute_result"
    }
   ],
   "source": [
    "memo"
   ]
  },
  {
   "cell_type": "code",
   "execution_count": 18,
   "metadata": {
    "collapsed": false
   },
   "outputs": [
    {
     "data": {
      "text/plain": [
       "1470724736.7656944"
      ]
     },
     "execution_count": 18,
     "metadata": {},
     "output_type": "execute_result"
    }
   ],
   "source": [
    "# 각각의 시간을 측정하는 함수를 만들어보겠습니다.\n",
    "import time\n",
    "time.time()"
   ]
  },
  {
   "cell_type": "code",
   "execution_count": 19,
   "metadata": {
    "collapsed": false
   },
   "outputs": [
    {
     "data": {
      "text/plain": [
       "1.176649570465088"
      ]
     },
     "execution_count": 19,
     "metadata": {},
     "output_type": "execute_result"
    }
   ],
   "source": [
    "start_time = time.time()\n",
    "fibonacci_re(30)\n",
    "end_time = time.time()\n",
    "\n",
    "end_time - start_time"
   ]
  },
  {
   "cell_type": "code",
   "execution_count": 20,
   "metadata": {
    "collapsed": false
   },
   "outputs": [
    {
     "data": {
      "text/plain": [
       "0.0"
      ]
     },
     "execution_count": 20,
     "metadata": {},
     "output_type": "execute_result"
    }
   ],
   "source": [
    "start_time = time.time()\n",
    "fibonacci_dp(30)\n",
    "end_time = time.time()\n",
    "\n",
    "end_time - start_time"
   ]
  },
  {
   "cell_type": "code",
   "execution_count": 21,
   "metadata": {
    "collapsed": true
   },
   "outputs": [],
   "source": [
    "def get_timer(function, n):\n",
    "    start_time = time.time()\n",
    "    function(n)\n",
    "    end_time = time.time()\n",
    "    return end_time - start_time"
   ]
  },
  {
   "cell_type": "code",
   "execution_count": 22,
   "metadata": {
    "collapsed": false
   },
   "outputs": [
    {
     "data": {
      "text/plain": [
       "1.1506462097167969"
      ]
     },
     "execution_count": 22,
     "metadata": {},
     "output_type": "execute_result"
    }
   ],
   "source": [
    "get_timer(fibonacci_re, 30)"
   ]
  },
  {
   "cell_type": "code",
   "execution_count": 23,
   "metadata": {
    "collapsed": false
   },
   "outputs": [
    {
     "data": {
      "text/plain": [
       "0.0"
      ]
     },
     "execution_count": 23,
     "metadata": {},
     "output_type": "execute_result"
    }
   ],
   "source": [
    "get_timer(fibonacci_dp, 30)"
   ]
  },
  {
   "cell_type": "markdown",
   "metadata": {
    "collapsed": true
   },
   "source": [
    "## 다시 데코레이터\n",
    "* 데코레이터 어떤 순서로 되는 지 다시 복습"
   ]
  },
  {
   "cell_type": "markdown",
   "metadata": {},
   "source": [
    "* 먼저 fibonacci(20) 실행 시키면서 동시에 timer가 실행되게끔\n",
    "* decorator(\"장식자\" X)"
   ]
  },
  {
   "cell_type": "code",
   "execution_count": 24,
   "metadata": {
    "collapsed": true
   },
   "outputs": [],
   "source": [
    "# 함수를 입력 받아 => 새로운 함수를 리턴하는 함수\n",
    "\n",
    "def get_timer(function):\n",
    "    def wrapper(*args, **kwargs):\n",
    "        start_time = time.time()\n",
    "        result = function(*args, **kwargs)\n",
    "        end_time = time.time()\n",
    "        print(\"{time}s 초 걸렸습니다.\".format(time=end_time-start_time))\n",
    "        return result\n",
    "    return wrapper"
   ]
  },
  {
   "cell_type": "code",
   "execution_count": 25,
   "metadata": {
    "collapsed": true
   },
   "outputs": [],
   "source": [
    "@get_timer\n",
    "def fibonacci_dp(x):\n",
    "    if x <= 0:\n",
    "        return 0\n",
    "    if x == 1:\n",
    "        return 1\n",
    "    if len(memo)-1 >= x:\n",
    "        return memo[x]\n",
    "    if len(memo)-1 < x:\n",
    "        new_number = fibonacci_dp(x-1) + fibonacci_dp(x-2)\n",
    "        memo.append(new_number)\n",
    "        return new_number"
   ]
  },
  {
   "cell_type": "code",
   "execution_count": 26,
   "metadata": {
    "collapsed": false
   },
   "outputs": [
    {
     "name": "stdout",
     "output_type": "stream",
     "text": [
      "0.0s 초 걸렸습니다.\n"
     ]
    },
    {
     "data": {
      "text/plain": [
       "12543"
      ]
     },
     "execution_count": 26,
     "metadata": {},
     "output_type": "execute_result"
    }
   ],
   "source": [
    "fibonacci_dp(20)   #get_timer함수에 들어가서 wrapper라는 함수 실행한 것"
   ]
  },
  {
   "cell_type": "code",
   "execution_count": 27,
   "metadata": {
    "collapsed": true
   },
   "outputs": [],
   "source": [
    "#흔히 사용하는 예제\n",
    "def fridge(function):\n",
    "    def wrapper(*args, **kwargs):\n",
    "        print(\"냉장고를 연다.\")\n",
    "        function(*args, **kwargs)\n",
    "        print(\"냉장고를 닫는다.\")\n",
    "    return wrapper"
   ]
  },
  {
   "cell_type": "code",
   "execution_count": 28,
   "metadata": {
    "collapsed": true
   },
   "outputs": [],
   "source": [
    "@fridge\n",
    "def put_fridge(food):\n",
    "    print(\"{food}을 냉장고에 넣는다.\".format(food=food))"
   ]
  },
  {
   "cell_type": "code",
   "execution_count": 29,
   "metadata": {
    "collapsed": false
   },
   "outputs": [
    {
     "name": "stdout",
     "output_type": "stream",
     "text": [
      "냉장고를 연다.\n",
      "족발을 냉장고에 넣는다.\n",
      "냉장고를 닫는다.\n"
     ]
    }
   ],
   "source": [
    "put_fridge(\"족발\")"
   ]
  },
  {
   "cell_type": "code",
   "execution_count": 30,
   "metadata": {
    "collapsed": false
   },
   "outputs": [
    {
     "data": {
      "text/plain": [
       "<function __main__.fridge.<locals>.wrapper>"
      ]
     },
     "execution_count": 30,
     "metadata": {},
     "output_type": "execute_result"
    }
   ],
   "source": [
    "fridge(\"족발\")"
   ]
  },
  {
   "cell_type": "code",
   "execution_count": null,
   "metadata": {
    "collapsed": true
   },
   "outputs": [],
   "source": []
  },
  {
   "cell_type": "code",
   "execution_count": 31,
   "metadata": {
    "collapsed": true
   },
   "outputs": [],
   "source": [
    "# @before_execute => \"_____ 함수를 실행을 시작합니다.\"\n",
    "def before_execute(function):\n",
    "    def wrapper(*args, **kwargs):\n",
    "        print(\"@before_execute\")\n",
    "        print(\"{function}을 실행합니다.\".format(function=function))\n",
    "        return function(*args, **kwargs)\n",
    "    return wrapper\n",
    "\n",
    "# @after_execute => \"_____ 함수 실행을 종료합니다.\"\n",
    "def after_execute(function):\n",
    "    def wrapper(*args, **kwargs):\n",
    "        print(\"@after_execute\")\n",
    "        result = function(*args, **kwargs)\n",
    "        print(\"{function}을 종료합니다.\".format(function=function))\n",
    "        return result\n",
    "    return wrapper\n",
    "\n",
    "# @timer => \"_____ s 초 걸렸습니다.\"\n",
    "def timer(function):\n",
    "    def wrapper(*args, **kwargs):\n",
    "        print(\"@timer\")\n",
    "        start_time = time.time()\n",
    "        result = function(*args, **kwargs)\n",
    "        end_time = time.time()\n",
    "        print(\"{time}s가 소요되었습니다.\".format(time=end_time-start_time))\n",
    "        return result\n",
    "    return  wrapper"
   ]
  },
  {
   "cell_type": "code",
   "execution_count": 32,
   "metadata": {
    "collapsed": true
   },
   "outputs": [],
   "source": [
    "@timer\n",
    "@after_execute\n",
    "@before_execute   #decorater의 실행 순서는 밑에서부터 시작합니다.\n",
    "def something():\n",
    "    print(\"something\")\n",
    "    return \"This is something\""
   ]
  },
  {
   "cell_type": "code",
   "execution_count": 33,
   "metadata": {
    "collapsed": false
   },
   "outputs": [
    {
     "name": "stdout",
     "output_type": "stream",
     "text": [
      "@timer\n",
      "@after_execute\n",
      "@before_execute\n",
      "<function something at 0x000000000A9FCBF8>을 실행합니다.\n",
      "something\n",
      "<function before_execute.<locals>.wrapper at 0x000000000A9FC7B8>을 종료합니다.\n",
      "0.0s가 소요되었습니다.\n"
     ]
    },
    {
     "data": {
      "text/plain": [
       "'This is something'"
      ]
     },
     "execution_count": 33,
     "metadata": {},
     "output_type": "execute_result"
    }
   ],
   "source": [
    "# something 함수를 실행합니다.\n",
    "# ...\n",
    "# something 함수를 종료합니다.\n",
    "# something 함수를 실행하는데 ____s 걸렸습니다.\n",
    "something()"
   ]
  },
  {
   "cell_type": "code",
   "execution_count": null,
   "metadata": {
    "collapsed": true
   },
   "outputs": [],
   "source": []
  },
  {
   "cell_type": "code",
   "execution_count": 34,
   "metadata": {
    "collapsed": true
   },
   "outputs": [],
   "source": [
    "# 서식 함수\n",
    "def bold(function):\n",
    "    def wrapper(*args, **kwargs):\n",
    "        return \"<b>{text}<\\b>\".format(\n",
    "            text=function(*args, **kwargs)\n",
    "        )\n",
    "    return wrapper\n",
    "\n",
    "def italic(function):\n",
    "    def wrapper(*args, **kwargs):\n",
    "        return \"<i>{text}<\\i>\".format(\n",
    "            text=function(*args, **kwargs)\n",
    "        )\n",
    "    return wrapper"
   ]
  },
  {
   "cell_type": "code",
   "execution_count": 35,
   "metadata": {
    "collapsed": true
   },
   "outputs": [],
   "source": [
    "@italic\n",
    "@bold\n",
    "def introduce(name, course):\n",
    "    return \"안녕하세요, 저는 {name} 입니다. {course} 에서 공부하고 있습니다.\".format(\n",
    "        name=name,\n",
    "        course=course,\n",
    "    )"
   ]
  },
  {
   "cell_type": "code",
   "execution_count": 36,
   "metadata": {
    "collapsed": false
   },
   "outputs": [
    {
     "data": {
      "text/plain": [
       "'<i><b>안녕하세요, 저는 김기표 입니다. 패캠 에서 공부하고 있습니다.<\\x08><\\\\i>'"
      ]
     },
     "execution_count": 36,
     "metadata": {},
     "output_type": "execute_result"
    }
   ],
   "source": [
    "introduce(\"김기표\", \"패캠\")"
   ]
  },
  {
   "cell_type": "code",
   "execution_count": null,
   "metadata": {
    "collapsed": true
   },
   "outputs": [],
   "source": []
  },
  {
   "cell_type": "code",
   "execution_count": 37,
   "metadata": {
    "collapsed": true
   },
   "outputs": [],
   "source": [
    "def prettify(function):\n",
    "    def wrapper(*args, **kwargs):\n",
    "        result = function(*args, **kwargs)\n",
    "        return result.replace(\"오\", \"5\").replace(\"칠\", \"7\").replace(\"삼\",\"3\").replace(\"육\", \"6\")\n",
    "    return wrapper"
   ]
  },
  {
   "cell_type": "code",
   "execution_count": 38,
   "metadata": {
    "collapsed": false
   },
   "outputs": [
    {
     "data": {
      "text/plain": [
       "'010-6235-3357'"
      ]
     },
     "execution_count": 38,
     "metadata": {},
     "output_type": "execute_result"
    }
   ],
   "source": [
    "@prettify\n",
    "def crawl_phonenumber(naver_cafe_name, naver_cafe_post_id):\n",
    "    # 어떤 식으로 크롤링이 되어서...\n",
    "    return \"010-6235-삼삼오칠\"\n",
    "\n",
    "crawl_phonenumber(\"중고나라\", \"34567\")"
   ]
  },
  {
   "cell_type": "markdown",
   "metadata": {},
   "source": [
    "## 5T_Class Inheritance"
   ]
  },
  {
   "cell_type": "code",
   "execution_count": 39,
   "metadata": {
    "collapsed": true
   },
   "outputs": [],
   "source": [
    "class Student():\n",
    "    \n",
    "    def __init__(self, name):\n",
    "        self.name = name\n",
    "    \n",
    "    def coding(self):\n",
    "        print(\"일반 학생은 코딩을 할 수 없습니다.\")"
   ]
  },
  {
   "cell_type": "code",
   "execution_count": 40,
   "metadata": {
    "collapsed": true
   },
   "outputs": [],
   "source": [
    "student = Student(\"김기표\")"
   ]
  },
  {
   "cell_type": "code",
   "execution_count": 41,
   "metadata": {
    "collapsed": false
   },
   "outputs": [
    {
     "name": "stdout",
     "output_type": "stream",
     "text": [
      "일반 학생은 코딩을 할 수 없습니다.\n"
     ]
    }
   ],
   "source": [
    "student.coding()"
   ]
  },
  {
   "cell_type": "code",
   "execution_count": 42,
   "metadata": {
    "collapsed": true
   },
   "outputs": [],
   "source": [
    "class Student():\n",
    "    \n",
    "    def __init__(self, name):\n",
    "        self.name = name\n",
    "        \n",
    "    def study(self):\n",
    "        print(\"공부를 합니다.\")\n",
    "    \n",
    "    def introduce(self):\n",
    "        print(\"안녕하세요, 저는 {name}입니다.\".format(name=self.name))"
   ]
  },
  {
   "cell_type": "code",
   "execution_count": 43,
   "metadata": {
    "collapsed": false
   },
   "outputs": [
    {
     "name": "stdout",
     "output_type": "stream",
     "text": [
      "공부를 합니다.\n",
      "안녕하세요, 저는 김기표입니다.\n"
     ]
    }
   ],
   "source": [
    "student = Student(\"김기표\")\n",
    "student.study()\n",
    "student.introduce()"
   ]
  },
  {
   "cell_type": "code",
   "execution_count": 44,
   "metadata": {
    "collapsed": true
   },
   "outputs": [],
   "source": [
    "class WPSstudent(Student):\n",
    "    \n",
    "    def introduce(self):\n",
    "        print(\"안녕하세요, 저는 웹프스 {name}입니다.\".format(\n",
    "            name=self.name))\n",
    "    \n",
    "    def coding(self):   #Class의 함수=>Method(메쏘드)=>겹쳐 쓰는 행위? 메쏘드 오버라이딩\n",
    "        print(\"vim과 bash를 이용해서 웹개발을 합니다.\")\n",
    "        \n",
    "class DSSstudent(Student):\n",
    "    \n",
    "    def introduce(self):\n",
    "        print(\"안녕하세요, 저는 데사스 {name}입니다.\".format(\n",
    "            name=self.name))\n",
    "    \n",
    "    def coding(self):\n",
    "        print(\"Jupyter Notebook에서 pandas 라이브러를 이용하여 분석을 합니다.\")"
   ]
  },
  {
   "cell_type": "code",
   "execution_count": 45,
   "metadata": {
    "collapsed": false
   },
   "outputs": [
    {
     "name": "stdout",
     "output_type": "stream",
     "text": [
      "안녕하세요, 저는 웹프스 지형민입니다.\n",
      "vim과 bash를 이용해서 웹개발을 합니다.\n",
      "공부를 합니다.\n"
     ]
    }
   ],
   "source": [
    "student = WPSstudent(\"지형민\")\n",
    "student.introduce()\n",
    "student.coding()\n",
    "student.study()"
   ]
  },
  {
   "cell_type": "code",
   "execution_count": 46,
   "metadata": {
    "collapsed": false
   },
   "outputs": [
    {
     "ename": "FileNotFoundError",
     "evalue": "[Errno 2] No such file or directory: '../wps.csv'",
     "output_type": "error",
     "traceback": [
      "\u001b[1;31m---------------------------------------------------------------------------\u001b[0m",
      "\u001b[1;31mFileNotFoundError\u001b[0m                         Traceback (most recent call last)",
      "\u001b[1;32m<ipython-input-46-074351dbed25>\u001b[0m in \u001b[0;36m<module>\u001b[1;34m()\u001b[0m\n\u001b[0;32m      1\u001b[0m \u001b[1;31m#명단이 삭제되어 없지만 이런식으로 하면 됩니다.\u001b[0m\u001b[1;33m\u001b[0m\u001b[1;33m\u001b[0m\u001b[0m\n\u001b[1;32m----> 2\u001b[1;33m \u001b[1;32mwith\u001b[0m \u001b[0mopen\u001b[0m\u001b[1;33m(\u001b[0m\u001b[1;34m\"../wps.csv\"\u001b[0m\u001b[1;33m,\u001b[0m \u001b[1;34m\"r\"\u001b[0m\u001b[1;33m)\u001b[0m \u001b[1;32mas\u001b[0m \u001b[0mf\u001b[0m\u001b[1;33m:\u001b[0m\u001b[1;33m\u001b[0m\u001b[0m\n\u001b[0m\u001b[0;32m      3\u001b[0m     wps_student_list = [\n\u001b[0;32m      4\u001b[0m         \u001b[0mWPSstudent\u001b[0m\u001b[1;33m(\u001b[0m\u001b[0mline\u001b[0m\u001b[1;33m.\u001b[0m\u001b[0msplit\u001b[0m\u001b[1;33m(\u001b[0m\u001b[1;34m\",\"\u001b[0m\u001b[1;33m)\u001b[0m\u001b[1;33m[\u001b[0m\u001b[1;36m0\u001b[0m\u001b[1;33m]\u001b[0m\u001b[1;33m)\u001b[0m\u001b[1;33m\u001b[0m\u001b[0m\n\u001b[0;32m      5\u001b[0m         \u001b[1;32mfor\u001b[0m \u001b[0mline\u001b[0m\u001b[1;33m\u001b[0m\u001b[0m\n",
      "\u001b[1;31mFileNotFoundError\u001b[0m: [Errno 2] No such file or directory: '../wps.csv'"
     ]
    }
   ],
   "source": [
    "#명단이 삭제되어 없지만 이런식으로 하면 됩니다.\n",
    "with open(\"../wps.csv\", \"r\") as f:\n",
    "    wps_student_list = [\n",
    "        WPSstudent(line.split(\",\")[0])\n",
    "        for line\n",
    "        in f.readlines()\n",
    "    ]\n",
    "    \n",
    "with open(\"../dss.csv\", \"r\") as f:\n",
    "    dss_student_list = [\n",
    "        DSSstudent(line.split(\",\")[0])\n",
    "        for line\n",
    "        in f.readlines()\n",
    "    ]"
   ]
  },
  {
   "cell_type": "code",
   "execution_count": 47,
   "metadata": {
    "collapsed": true
   },
   "outputs": [],
   "source": [
    "class Student():\n",
    "    \n",
    "    __skills = []\n",
    "    #외부에서 못 부르게 할 때 => 정보 은닉(information hiding)\n",
    "    \n",
    "    def __init__(self, name):\n",
    "        self.name = name\n",
    "        self.age = 0\n",
    "        \n",
    "    def print_skills(self):\n",
    "        for skill in self.__skills:\n",
    "            print(\"{skill} 일을 할 수 있습니다.\".format(skill=skill))\n",
    "            \n",
    "    def add_skill(self, skill):\n",
    "        self.__skills.append(skill)\n",
    "        \n",
    "    def get_age(self): #getter(즉, 정보를 가져오는 메쏘드)\n",
    "        return self.age\n",
    "    \n",
    "    def set_age(self, age): #setter(즉, 정보를 입력하는 메쏘드)\n",
    "        self.age = age"
   ]
  },
  {
   "cell_type": "code",
   "execution_count": 48,
   "metadata": {
    "collapsed": true
   },
   "outputs": [],
   "source": [
    "kkp = Student(\"김기표\")"
   ]
  },
  {
   "cell_type": "code",
   "execution_count": 49,
   "metadata": {
    "collapsed": false
   },
   "outputs": [
    {
     "name": "stdout",
     "output_type": "stream",
     "text": [
      "WPS 일을 할 수 있습니다.\n",
      "DSS 일을 할 수 있습니다.\n"
     ]
    }
   ],
   "source": [
    "kkp.add_skill(\"WPS\")\n",
    "kkp.add_skill(\"DSS\")\n",
    "kkp.print_skills()"
   ]
  },
  {
   "cell_type": "code",
   "execution_count": 50,
   "metadata": {
    "collapsed": true
   },
   "outputs": [],
   "source": [
    "class Human():\n",
    "    \n",
    "    def __init__(self, name):  #초기화 될 때 => Human(\"...\")\n",
    "        self.name = name\n",
    "        self.age = 0\n",
    "        print(\"{name}이라는 사람이 태어났다.\".format(name=self.name))\n",
    "        \n",
    "    def after_a_year(self):\n",
    "        self.age += 1\n",
    "        print(\"{name}이라는 사람이 나이를 1살 더 먹었다.\".format(\n",
    "            name=self.name))\n",
    "        \n",
    "    def __str__(self):  #출력 형태로 불릴 때 => print\n",
    "        return \"'{name}'이라는 사람\".format(name=self.name)\n",
    "    #__str__(self)\n",
    "    #__unicode__(self)\n",
    "    \n",
    "    def __del__(self):  #삭제될 때 => del human\n",
    "        print(\"{name}이라는 사람이 메모리에서 잊혀졌다.\".format(\n",
    "            name=self.name))\n"
   ]
  },
  {
   "cell_type": "code",
   "execution_count": 51,
   "metadata": {
    "collapsed": false
   },
   "outputs": [
    {
     "name": "stdout",
     "output_type": "stream",
     "text": [
      "김기표이라는 사람이 태어났다.\n"
     ]
    }
   ],
   "source": [
    "human = Human(\"김기표\")"
   ]
  },
  {
   "cell_type": "code",
   "execution_count": 52,
   "metadata": {
    "collapsed": false
   },
   "outputs": [
    {
     "name": "stdout",
     "output_type": "stream",
     "text": [
      "'김기표'이라는 사람\n"
     ]
    }
   ],
   "source": [
    "print(human)"
   ]
  },
  {
   "cell_type": "code",
   "execution_count": 53,
   "metadata": {
    "collapsed": true
   },
   "outputs": [],
   "source": [
    "# 파이썬이 이 사람을 기억 못할 때 => 더이상 필요없다고 생각했을때 \n",
    "# 메모리에서 지워버리는 겁니다."
   ]
  },
  {
   "cell_type": "code",
   "execution_count": 54,
   "metadata": {
    "collapsed": false
   },
   "outputs": [
    {
     "name": "stdout",
     "output_type": "stream",
     "text": [
      "김기표이라는 사람이 메모리에서 잊혀졌다.\n"
     ]
    }
   ],
   "source": [
    "del human"
   ]
  },
  {
   "cell_type": "code",
   "execution_count": 55,
   "metadata": {
    "collapsed": false
   },
   "outputs": [
    {
     "ename": "NameError",
     "evalue": "name 'human' is not defined",
     "output_type": "error",
     "traceback": [
      "\u001b[1;31m---------------------------------------------------------------------------\u001b[0m",
      "\u001b[1;31mNameError\u001b[0m                                 Traceback (most recent call last)",
      "\u001b[1;32m<ipython-input-55-dd8889b15ae2>\u001b[0m in \u001b[0;36m<module>\u001b[1;34m()\u001b[0m\n\u001b[1;32m----> 1\u001b[1;33m \u001b[0mhuman\u001b[0m\u001b[1;33m\u001b[0m\u001b[0m\n\u001b[0m",
      "\u001b[1;31mNameError\u001b[0m: name 'human' is not defined"
     ]
    }
   ],
   "source": [
    "human"
   ]
  },
  {
   "cell_type": "markdown",
   "metadata": {},
   "source": [
    "* 우리가 지금까지 만든 모든 클래스가 객체화 가능한 애들\n",
    "* 학생, 데사스 학생, 웹프스 학생, 동물, 사람 ...\n",
    "---\n",
    "* 동물, 조류, 포유류 클래스\n",
    "* \"먹을 수 있는\", \"날아다니는\", \"생각하는 것이 가능한\" 클래스"
   ]
  },
  {
   "cell_type": "code",
   "execution_count": 56,
   "metadata": {
    "collapsed": true
   },
   "outputs": [],
   "source": [
    "class Animal():\n",
    "    pass"
   ]
  },
  {
   "cell_type": "code",
   "execution_count": 57,
   "metadata": {
    "collapsed": true
   },
   "outputs": [],
   "source": [
    "class Chicken(Animal):\n",
    "    pass"
   ]
  },
  {
   "cell_type": "code",
   "execution_count": 58,
   "metadata": {
    "collapsed": true
   },
   "outputs": [],
   "source": [
    "class Flyable():\n",
    "    \n",
    "    def fly(self):\n",
    "        print(\"날기가 가능하다.\")\n",
    "        \n",
    "class Pigeon(Animal, Flyable):\n",
    "    pass\n",
    "\n",
    "class Sparrow(Animal, Flyable):\n",
    "    pass"
   ]
  },
  {
   "cell_type": "code",
   "execution_count": 59,
   "metadata": {
    "collapsed": true
   },
   "outputs": [],
   "source": [
    "sparrow = Sparrow()"
   ]
  },
  {
   "cell_type": "code",
   "execution_count": 60,
   "metadata": {
    "collapsed": false
   },
   "outputs": [
    {
     "name": "stdout",
     "output_type": "stream",
     "text": [
      "날기가 가능하다.\n"
     ]
    }
   ],
   "source": [
    "sparrow.fly()"
   ]
  },
  {
   "cell_type": "code",
   "execution_count": 61,
   "metadata": {
    "collapsed": true
   },
   "outputs": [],
   "source": [
    "class Student():\n",
    "    pass"
   ]
  },
  {
   "cell_type": "code",
   "execution_count": 62,
   "metadata": {
    "collapsed": true
   },
   "outputs": [],
   "source": [
    "class GoodStudentFeature():\n",
    "    def study(self):\n",
    "        print(\"열심히 공부한다.\")\n",
    "        \n",
    "class ILikeToPlayFeature():\n",
    "    def study(self):\n",
    "        print(\"공부 안하고 놀러 다닌다.\")"
   ]
  },
  {
   "cell_type": "code",
   "execution_count": 63,
   "metadata": {
    "collapsed": true
   },
   "outputs": [],
   "source": [
    "class GoodStudentButILikeToPlayStudent(Student, ILikeToPlayFeature, GoodStudentFeature):\n",
    "    pass"
   ]
  },
  {
   "cell_type": "code",
   "execution_count": 64,
   "metadata": {
    "collapsed": true
   },
   "outputs": [],
   "source": [
    "student = GoodStudentButILikeToPlayStudent()"
   ]
  },
  {
   "cell_type": "code",
   "execution_count": 65,
   "metadata": {
    "collapsed": false
   },
   "outputs": [
    {
     "name": "stdout",
     "output_type": "stream",
     "text": [
      "공부 안하고 놀러 다닌다.\n"
     ]
    }
   ],
   "source": [
    "student.study()"
   ]
  },
  {
   "cell_type": "code",
   "execution_count": 66,
   "metadata": {
    "collapsed": true
   },
   "outputs": [],
   "source": [
    "#mro => Method Resolution Order(Python2, Python3 우선순위)"
   ]
  }
 ],
 "metadata": {
  "anaconda-cloud": {},
  "kernelspec": {
   "display_name": "Python [Root]",
   "language": "python",
   "name": "Python [Root]"
  },
  "language_info": {
   "codemirror_mode": {
    "name": "ipython",
    "version": 3
   },
   "file_extension": ".py",
   "mimetype": "text/x-python",
   "name": "python",
   "nbconvert_exporter": "python",
   "pygments_lexer": "ipython3",
   "version": "3.5.1"
  }
 },
 "nbformat": 4,
 "nbformat_minor": 0
}
