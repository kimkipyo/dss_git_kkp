{
 "cells": [
  {
   "cell_type": "markdown",
   "metadata": {},
   "source": [
    "# 3일차 과제_2016년도 5월 달력 찍기"
   ]
  },
  {
   "cell_type": "markdown",
   "metadata": {},
   "source": [
    "* 우선 출력이 어떻게 나란히 되는 거지?\n",
    "* print(i, end=\" \"). 2.7의 경우에는 print(i,)"
   ]
  },
  {
   "cell_type": "code",
   "execution_count": 107,
   "metadata": {
    "collapsed": false,
    "scrolled": true
   },
   "outputs": [
    {
     "name": "stdout",
     "output_type": "stream",
     "text": [
      "      May 2016      \n",
      "Su Mo Tu We Th Fr Sa\n",
      " 1  2  3  4  5  6  7\n",
      " 8  9 10 11 12 13 14\n",
      "15 16 17 18 19 20 21\n",
      "22 23 24 25 26 27 28\n",
      "29 30 31 "
     ]
    }
   ],
   "source": [
    "print(\"      May 2016      \")\n",
    "print(\"Su Mo Tu We Th Fr Sa\")\n",
    "for i in range(1, 31+1):\n",
    "    if not i % 7 == 0:\n",
    "        if i > 9:\n",
    "            print(i, end=\" \")\n",
    "        else:\n",
    "            print(\"\", end=\" \"), print(i, end=\" \")\n",
    "    else:\n",
    "        if i > 9:\n",
    "            print(i, end=\"\\n\")\n",
    "        else:\n",
    "            print(\"\", end=\" \"), print(i, end=\"\\n\")"
   ]
  }
 ],
 "metadata": {
  "kernelspec": {
   "display_name": "Python [Root]",
   "language": "python",
   "name": "Python [Root]"
  },
  "language_info": {
   "codemirror_mode": {
    "name": "ipython",
    "version": 3
   },
   "file_extension": ".py",
   "mimetype": "text/x-python",
   "name": "python",
   "nbconvert_exporter": "python",
   "pygments_lexer": "ipython3",
   "version": "3.5.1"
  }
 },
 "nbformat": 4,
 "nbformat_minor": 0
}
