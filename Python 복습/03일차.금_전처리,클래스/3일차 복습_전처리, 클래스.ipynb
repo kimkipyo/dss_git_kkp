{
 "cells": [
  {
   "cell_type": "markdown",
   "metadata": {},
   "source": [
    "# 전처리, 클래스"
   ]
  },
  {
   "cell_type": "markdown",
   "metadata": {},
   "source": [
    "## 그 전에 지금까지 복습한 것 관련 퀴즈 문제"
   ]
  },
  {
   "cell_type": "markdown",
   "metadata": {},
   "source": [
    "### 1~100까지의 숫자 중에서 3과 5로 나누어 떨어지는 수를 저장하는 List"
   ]
  },
  {
   "cell_type": "code",
   "execution_count": 1,
   "metadata": {
    "collapsed": false
   },
   "outputs": [
    {
     "name": "stdout",
     "output_type": "stream",
     "text": [
      "[3, 5, 6, 9, 10, 12, 15, 18, 20, 21, 24, 25, 27, 30, 33, 35, 36, 39, 40, 42, 45, 48, 50, 51, 54, 55, 57, 60, 63, 65, 66, 69, 70, 72, 75, 78, 80, 81, 84, 85, 87, 90, 93, 95, 96, 99, 100]\n"
     ]
    }
   ],
   "source": [
    "print([i for i in range(1, 100+1) if i%3==0 or i%5==0])"
   ]
  },
  {
   "cell_type": "markdown",
   "metadata": {},
   "source": [
    "### 3의 배수가 입력되면 beer, 5의 배수가 입력되면 chicken, 15의 배수는 beerchicken"
   ]
  },
  {
   "cell_type": "code",
   "execution_count": 2,
   "metadata": {
    "collapsed": false
   },
   "outputs": [
    {
     "name": "stdout",
     "output_type": "stream",
     "text": [
      "BeerChichen\n"
     ]
    }
   ],
   "source": [
    "num = 15\n",
    "result = \"\"\n",
    "if num % 3 == 0:\n",
    "    result += \"Beer\"\n",
    "if num % 5 == 0:\n",
    "    result += \"Chichen\"\n",
    "print(result)"
   ]
  },
  {
   "cell_type": "code",
   "execution_count": 3,
   "metadata": {
    "collapsed": false
   },
   "outputs": [
    {
     "name": "stdout",
     "output_type": "stream",
     "text": [
      "['', '', 'Beer', '', 'Chicken', 'Beer', '', '', 'Beer', 'Chicken', '', 'Beer', '', '', 'BeerChicken', '', '', 'Beer', '', 'Chicken', 'Beer', '', '', 'Beer', 'Chicken', '', 'Beer', '', '', 'BeerChicken', '', '', 'Beer', '', 'Chicken', 'Beer', '', '', 'Beer', 'Chicken', '', 'Beer', '', '', 'BeerChicken', '', '', 'Beer', '', 'Chicken', 'Beer', '', '', 'Beer', 'Chicken', '', 'Beer', '', '', 'BeerChicken', '', '', 'Beer', '', 'Chicken', 'Beer', '', '', 'Beer', 'Chicken', '', 'Beer', '', '', 'BeerChicken', '', '', 'Beer', '', 'Chicken', 'Beer', '', '', 'Beer', 'Chicken', '', 'Beer', '', '', 'BeerChicken', '', '', 'Beer', '', 'Chicken', 'Beer', '', '', 'Beer', 'Chicken']\n"
     ]
    }
   ],
   "source": [
    "result = []\n",
    "for i in range(1, 100+1):\n",
    "    word = ''\n",
    "    if i % 3 == 0:\n",
    "        word += \"Beer\"\n",
    "    if i % 5 == 0:\n",
    "        word += \"Chicken\"\n",
    "    result.append(word)\n",
    "print(result)"
   ]
  },
  {
   "cell_type": "code",
   "execution_count": 4,
   "metadata": {
    "collapsed": false
   },
   "outputs": [
    {
     "name": "stdout",
     "output_type": "stream",
     "text": [
      "['', '', 'Beer', '', 'Chicken', 'Beer', '', '', 'Beer', 'Chicken', '', 'Beer', '', '', 'BeerChicken', '', '', 'Beer', '', 'Chicken', 'Beer', '', '', 'Beer', 'Chicken', '', 'Beer', '', '', 'BeerChicken', '', '', 'Beer', '', 'Chicken', 'Beer', '', '', 'Beer', 'Chicken', '', 'Beer', '', '', 'BeerChicken', '', '', 'Beer', '', 'Chicken', 'Beer', '', '', 'Beer', 'Chicken', '', 'Beer', '', '', 'BeerChicken', '', '', 'Beer', '', 'Chicken', 'Beer', '', '', 'Beer', 'Chicken', '', 'Beer', '', '', 'BeerChicken', '', '', 'Beer', '', 'Chicken', 'Beer', '', '', 'Beer', 'Chicken', '', 'Beer', '', '', 'BeerChicken', '', '', 'Beer', '', 'Chicken', 'Beer', '', '', 'Beer', 'Chicken']\n"
     ]
    }
   ],
   "source": [
    "beer_list = [\n",
    "    \"Beer\" if x % 3 == 0 else \"\"\n",
    "    for x\n",
    "    in range(1, 100+1)\n",
    "]\n",
    "\n",
    "chicken_list = [\n",
    "    \"Chicken\" if x % 5 == 0 else \"\"\n",
    "    for x\n",
    "    in range(1, 100+1)\n",
    "]\n",
    "\n",
    "print([\n",
    "    beer_list[i] + chicken_list[i]\n",
    "    for i\n",
    "    in range(100)\n",
    "])"
   ]
  },
  {
   "cell_type": "code",
   "execution_count": 7,
   "metadata": {
    "collapsed": true
   },
   "outputs": [],
   "source": [
    "def word_add_num(count, first_num, first_word, second_num, second_word):\n",
    "    first_list = [\n",
    "        first_word if i % first_num == 0 else \"\"\n",
    "        for i\n",
    "        in range(1, count+1)\n",
    "    ]\n",
    "    \n",
    "    second_list = [\n",
    "        second_word if i % second_num == 0 else \"\"\n",
    "        for i\n",
    "        in range(1, count+1)\n",
    "    ]\n",
    "    \n",
    "    return [\n",
    "        first_list[i] + second_list[i]\n",
    "        for i\n",
    "        in range(count)\n",
    "    ]\n",
    "#함수이기 때문에 return을 해주어야 한다."
   ]
  },
  {
   "cell_type": "code",
   "execution_count": 9,
   "metadata": {
    "collapsed": false
   },
   "outputs": [
    {
     "name": "stdout",
     "output_type": "stream",
     "text": [
      "['', '', 'ki', '', '', 'ki', 'poy', '', 'ki', '', '', 'ki', '', 'poy', 'ki', '', '', 'ki', '', '', 'kipoy', '', '', 'ki', '', '', 'ki', 'poy', '', 'ki', '', '', 'ki', '', 'poy', 'ki', '', '', 'ki', '', '', 'kipoy', '', '', 'ki', '', '', 'ki', 'poy', '', 'ki', '', '', 'ki', '', 'poy', 'ki', '', '', 'ki', '', '', 'kipoy', '', '', 'ki', '', '', 'ki', 'poy', '', 'ki', '', '', 'ki', '', 'poy', 'ki', '', '', 'ki', '', '', 'kipoy', '', '', 'ki', '', '', 'ki', 'poy', '', 'ki', '', '', 'ki', '', 'poy', 'ki', '']\n"
     ]
    }
   ],
   "source": [
    "print(word_add_num(100, 3, \"ki\", 7, \"poy\"))"
   ]
  },
  {
   "cell_type": "code",
   "execution_count": null,
   "metadata": {
    "collapsed": true
   },
   "outputs": [],
   "source": []
  },
  {
   "cell_type": "markdown",
   "metadata": {},
   "source": [
    "## Palindrome\n",
    "\n",
    "* 거꾸로 해도 같은 단어\n",
    "* 기러기 => 기러기, 소주만병만주소 => 소주만병만주소\n",
    "* 문자열을 받아서, 뒤집었을 때 같으면 True, 다르면 False"
   ]
  },
  {
   "cell_type": "code",
   "execution_count": 13,
   "metadata": {
    "collapsed": true
   },
   "outputs": [],
   "source": [
    "def reverse(word):\n",
    "    reversed_word = \"\"\n",
    "    for i in range(len(word)):\n",
    "        reversed_word += word[len(word)-1-i]\n",
    "    return reversed_word\n",
    "\n",
    "def is_palindrome(word):\n",
    "    return word == reverse(word)"
   ]
  },
  {
   "cell_type": "code",
   "execution_count": 15,
   "metadata": {
    "collapsed": false,
    "scrolled": true
   },
   "outputs": [
    {
     "data": {
      "text/plain": [
       "True"
      ]
     },
     "execution_count": 15,
     "metadata": {},
     "output_type": "execute_result"
    }
   ],
   "source": [
    "is_palindrome(\"기러기\")"
   ]
  },
  {
   "cell_type": "code",
   "execution_count": 17,
   "metadata": {
    "collapsed": false
   },
   "outputs": [
    {
     "data": {
      "text/plain": [
       "True"
      ]
     },
     "execution_count": 17,
     "metadata": {},
     "output_type": "execute_result"
    }
   ],
   "source": [
    "is_palindrome(\"소주만병만주소\")"
   ]
  },
  {
   "cell_type": "code",
   "execution_count": 18,
   "metadata": {
    "collapsed": false
   },
   "outputs": [
    {
     "data": {
      "text/plain": [
       "False"
      ]
     },
     "execution_count": 18,
     "metadata": {},
     "output_type": "execute_result"
    }
   ],
   "source": [
    "is_palindrome(\"김기표\")"
   ]
  },
  {
   "cell_type": "code",
   "execution_count": 19,
   "metadata": {
    "collapsed": false
   },
   "outputs": [
    {
     "data": {
      "text/plain": [
       "'껌톨리일자'"
      ]
     },
     "execution_count": 19,
     "metadata": {},
     "output_type": "execute_result"
    }
   ],
   "source": [
    "\"자일리톨껌\"[::-1]"
   ]
  },
  {
   "cell_type": "code",
   "execution_count": 20,
   "metadata": {
    "collapsed": true
   },
   "outputs": [],
   "source": [
    "def reverse(word):\n",
    "    return word[::-1]\n",
    "\n",
    "def is_palindrome(word):\n",
    "    return word == reverse(word)"
   ]
  },
  {
   "cell_type": "code",
   "execution_count": 21,
   "metadata": {
    "collapsed": false,
    "scrolled": true
   },
   "outputs": [
    {
     "data": {
      "text/plain": [
       "True"
      ]
     },
     "execution_count": 21,
     "metadata": {},
     "output_type": "execute_result"
    }
   ],
   "source": [
    "is_palindrome(\"기러기\")"
   ]
  },
  {
   "cell_type": "code",
   "execution_count": 22,
   "metadata": {
    "collapsed": false,
    "scrolled": true
   },
   "outputs": [
    {
     "data": {
      "text/plain": [
       "False"
      ]
     },
     "execution_count": 22,
     "metadata": {},
     "output_type": "execute_result"
    }
   ],
   "source": [
    "is_palindrome(\"PCA\")"
   ]
  },
  {
   "cell_type": "code",
   "execution_count": 23,
   "metadata": {
    "collapsed": false
   },
   "outputs": [
    {
     "data": {
      "text/plain": [
       "True"
      ]
     },
     "execution_count": 23,
     "metadata": {},
     "output_type": "execute_result"
    }
   ],
   "source": [
    "is_palindrome(\"ABCBA\")"
   ]
  },
  {
   "cell_type": "code",
   "execution_count": 24,
   "metadata": {
    "collapsed": true
   },
   "outputs": [],
   "source": [
    "def is_palindrome(word):\n",
    "    return word == word[::-1]"
   ]
  },
  {
   "cell_type": "code",
   "execution_count": 25,
   "metadata": {
    "collapsed": false
   },
   "outputs": [
    {
     "data": {
      "text/plain": [
       "True"
      ]
     },
     "execution_count": 25,
     "metadata": {},
     "output_type": "execute_result"
    }
   ],
   "source": [
    "is_palindrome(\"수박이박수\")"
   ]
  },
  {
   "cell_type": "code",
   "execution_count": 26,
   "metadata": {
    "collapsed": false
   },
   "outputs": [
    {
     "data": {
      "text/plain": [
       "False"
      ]
     },
     "execution_count": 26,
     "metadata": {},
     "output_type": "execute_result"
    }
   ],
   "source": [
    "(lambda x: x == x[::-1])(\"손가방\")"
   ]
  },
  {
   "cell_type": "code",
   "execution_count": 27,
   "metadata": {
    "collapsed": false
   },
   "outputs": [
    {
     "data": {
      "text/plain": [
       "True"
      ]
     },
     "execution_count": 27,
     "metadata": {},
     "output_type": "execute_result"
    }
   ],
   "source": [
    "(lambda x: x == x[::-1])(\"고기고\")"
   ]
  },
  {
   "cell_type": "code",
   "execution_count": null,
   "metadata": {
    "collapsed": true
   },
   "outputs": [],
   "source": []
  },
  {
   "cell_type": "code",
   "execution_count": 29,
   "metadata": {
    "collapsed": false
   },
   "outputs": [
    {
     "data": {
      "text/plain": [
       "['오늘은', '날씨가', '참']"
      ]
     },
     "execution_count": 29,
     "metadata": {},
     "output_type": "execute_result"
    }
   ],
   "source": [
    "def word_split(sentence, sperat=\" \"):\n",
    "    word_list = []\n",
    "    word = \"\"\n",
    "    for char in sentence:\n",
    "        if char == \" \":\n",
    "            word_list.append(word)\n",
    "            word = \"\"\n",
    "        else:\n",
    "            word += char\n",
    "    return word_list\n",
    "\n",
    "word_split(\"오늘은 날씨가 참 맑구나.\")"
   ]
  },
  {
   "cell_type": "code",
   "execution_count": 30,
   "metadata": {
    "collapsed": false
   },
   "outputs": [
    {
     "data": {
      "text/plain": [
       "['오늘은', '날씨가', '참', '맑구나.']"
      ]
     },
     "execution_count": 30,
     "metadata": {},
     "output_type": "execute_result"
    }
   ],
   "source": [
    "def word_split(sentence, sperat=\" \"):\n",
    "    word_list = []\n",
    "    word = \"\"\n",
    "    for char in sentence + \" \":   # \" \" 이거를 추가해야 끝까지 출력이 됩니다.\n",
    "        if char == \" \":\n",
    "            word_list.append(word)\n",
    "            word = \"\"\n",
    "        else:\n",
    "            word += char\n",
    "    return word_list\n",
    "\n",
    "word_split(\"오늘은 날씨가 참 맑구나.\")"
   ]
  },
  {
   "cell_type": "code",
   "execution_count": 33,
   "metadata": {
    "collapsed": false
   },
   "outputs": [
    {
     "data": {
      "text/plain": [
       "['오늘은', '날씨가', '참', '맑구나.']"
      ]
     },
     "execution_count": 33,
     "metadata": {},
     "output_type": "execute_result"
    }
   ],
   "source": [
    "def word_split(sentence, seperate=\" \"):\n",
    "    word_list =[]\n",
    "    word = \"\"\n",
    "    \n",
    "    for char in sentence:\n",
    "        if char == \" \":\n",
    "            word_list.append(word)\n",
    "            word=\"\"\n",
    "        else:\n",
    "            word += char\n",
    "    if word != \"\":\n",
    "        word_list.append(word)\n",
    "    return word_list\n",
    "\n",
    "word_split(\"오늘은 날씨가 참 맑구나.\")"
   ]
  },
  {
   "cell_type": "code",
   "execution_count": 35,
   "metadata": {
    "collapsed": false
   },
   "outputs": [
    {
     "data": {
      "text/plain": [
       "['오늘은 왠지 날씨', ' 참 맑은', '.']"
      ]
     },
     "execution_count": 35,
     "metadata": {},
     "output_type": "execute_result"
    }
   ],
   "source": [
    "def word_split(sentence, seperate=\" \"):\n",
    "    word_list = []\n",
    "    word = \"\"\n",
    "    \n",
    "    for char in sentence:\n",
    "        if char == seperate:\n",
    "            word_list.append(word)\n",
    "            word = \"\"\n",
    "        else:\n",
    "            word += char\n",
    "    if word != \"\":\n",
    "        word_list.append(word)\n",
    "    return word_list\n",
    "\n",
    "word_split(\"오늘은 왠지 날씨가 참 맑은가.\", \"가\")"
   ]
  },
  {
   "cell_type": "code",
   "execution_count": null,
   "metadata": {
    "collapsed": true
   },
   "outputs": [],
   "source": []
  },
  {
   "cell_type": "markdown",
   "metadata": {},
   "source": [
    "### word_split => 문장을 받아 단어 리스트\n",
    "\n",
    "### word_join  => 단어 리스트를 받아서 문장으로 만드는 \n",
    "\n",
    "### word_replace => 단어를 받아서, 특정 단어만 다른 단어로 바꾸는 거"
   ]
  },
  {
   "cell_type": "code",
   "execution_count": 36,
   "metadata": {
    "collapsed": false
   },
   "outputs": [
    {
     "data": {
      "text/plain": [
       "'오늘은 정말 공부가 하기 싫다고 말하면 안 되고 그냥 그래요 '"
      ]
     },
     "execution_count": 36,
     "metadata": {},
     "output_type": "execute_result"
    }
   ],
   "source": [
    "def word_join(word_list, seperate=\" \"):\n",
    "    result = \"\"\n",
    "    for word in word_list:\n",
    "        result += word\n",
    "        result += seperate\n",
    "    return result\n",
    "\n",
    "word_join([\"오늘은\", \"정말\", \"공부가\", \"하기\", \"싫다고\", \"말하면\", \"안\", \"되고\", \"그냥\", \"그래요\"])"
   ]
  },
  {
   "cell_type": "code",
   "execution_count": null,
   "metadata": {
    "collapsed": true
   },
   "outputs": [],
   "source": []
  },
  {
   "cell_type": "code",
   "execution_count": 37,
   "metadata": {
    "collapsed": false
   },
   "outputs": [
    {
     "data": {
      "text/plain": [
       "'당신은 존재 자체로 소중합니다.'"
      ]
     },
     "execution_count": 37,
     "metadata": {},
     "output_type": "execute_result"
    }
   ],
   "source": [
    "def word_join_2(word_list, seperate=\" \"):\n",
    "    result = \"\"\n",
    "    for index, word in enumerate(word_list):\n",
    "        result += word\n",
    "        if not index == len(word_list)-1:\n",
    "            result += seperate\n",
    "    return result\n",
    "\n",
    "word_join_2([\"당신은\", \"존재\", \"자체로\", \"소중합니다.\"])"
   ]
  },
  {
   "cell_type": "code",
   "execution_count": null,
   "metadata": {
    "collapsed": true
   },
   "outputs": [],
   "source": []
  },
  {
   "cell_type": "code",
   "execution_count": 49,
   "metadata": {
    "collapsed": false
   },
   "outputs": [
    {
     "data": {
      "text/plain": [
       "['카페나', '도서관이나', '공부하기는', '참', '좋다.']"
      ]
     },
     "execution_count": 49,
     "metadata": {},
     "output_type": "execute_result"
    }
   ],
   "source": [
    "word_list = \"카페나 도서관이나 공부하기는 참 좋다.\".split(\" \")\n",
    "word_list"
   ]
  },
  {
   "cell_type": "code",
   "execution_count": 52,
   "metadata": {
    "collapsed": false
   },
   "outputs": [
    {
     "data": {
      "text/plain": [
       "['카페나', '도서관이나', '공부하기는', '참', '좋다.']"
      ]
     },
     "execution_count": 52,
     "metadata": {},
     "output_type": "execute_result"
    }
   ],
   "source": [
    "[word for word in word_list if not word == \"\"]"
   ]
  },
  {
   "cell_type": "code",
   "execution_count": 54,
   "metadata": {
    "collapsed": false
   },
   "outputs": [
    {
     "data": {
      "text/plain": [
       "'카페나 도서관이나 공부하기는 참 좋다.'"
      ]
     },
     "execution_count": 54,
     "metadata": {},
     "output_type": "execute_result"
    }
   ],
   "source": [
    "\" \".join([\"카페나\", \"도서관이나\", \"공부하기는\", \"참\", \"좋다.\"])"
   ]
  },
  {
   "cell_type": "code",
   "execution_count": null,
   "metadata": {
    "collapsed": true
   },
   "outputs": [],
   "source": []
  },
  {
   "cell_type": "code",
   "execution_count": 55,
   "metadata": {
    "collapsed": false
   },
   "outputs": [
    {
     "data": {
      "text/plain": [
       "'홍수무서워'"
      ]
     },
     "execution_count": 55,
     "metadata": {},
     "output_type": "execute_result"
    }
   ],
   "source": [
    "\"지진무서워\".replace(\"지진\", \"홍수\")"
   ]
  },
  {
   "cell_type": "code",
   "execution_count": null,
   "metadata": {
    "collapsed": true
   },
   "outputs": [],
   "source": []
  },
  {
   "cell_type": "code",
   "execution_count": 56,
   "metadata": {
    "collapsed": true
   },
   "outputs": [],
   "source": [
    "user_list = [\n",
    "    [\"김기표\", \"주소1\"],\n",
    "    [\"김깊효\", \"주소2\"],\n",
    "]"
   ]
  },
  {
   "cell_type": "code",
   "execution_count": 60,
   "metadata": {
    "collapsed": false
   },
   "outputs": [
    {
     "data": {
      "text/plain": [
       "[{'address': '주소1', 'name': '김기표'}, {'address': '주소2', 'name': '김깊효'}]"
      ]
     },
     "execution_count": 60,
     "metadata": {},
     "output_type": "execute_result"
    }
   ],
   "source": [
    "user_dict_list = []\n",
    "\n",
    "for user in user_list:\n",
    "    name = user[0]\n",
    "    address = user[1]\n",
    "    \n",
    "    user_dict = {\n",
    "        \"name\": name,\n",
    "        \"address\": address,\n",
    "    }\n",
    "    user_dict_list.append(user_dict)\n",
    "\n",
    "user_dict_list"
   ]
  },
  {
   "cell_type": "code",
   "execution_count": null,
   "metadata": {
    "collapsed": true
   },
   "outputs": [],
   "source": []
  },
  {
   "cell_type": "code",
   "execution_count": 65,
   "metadata": {
    "collapsed": false
   },
   "outputs": [
    {
     "data": {
      "text/plain": [
       "{'address': ['김깊효', '주소2'], 'name': ['김기표', '주소1']}"
      ]
     },
     "execution_count": 65,
     "metadata": {},
     "output_type": "execute_result"
    }
   ],
   "source": [
    "def get_user_dict(user):\n",
    "    return {\n",
    "        \"name\": user[0],\n",
    "        \"address\": user[1]\n",
    "    }\n",
    "\n",
    "get_user_dict(user_list)"
   ]
  },
  {
   "cell_type": "code",
   "execution_count": 68,
   "metadata": {
    "collapsed": false
   },
   "outputs": [
    {
     "data": {
      "text/plain": [
       "[{'address': '주소1', 'name': '김기표'}, {'address': '주소2', 'name': '김깊효'}]"
      ]
     },
     "execution_count": 68,
     "metadata": {},
     "output_type": "execute_result"
    }
   ],
   "source": [
    "[\n",
    "    {\n",
    "        \"name\": user[0],\n",
    "        \"address\": user[1]\n",
    "    }\n",
    "    for user\n",
    "    in user_list\n",
    "]"
   ]
  },
  {
   "cell_type": "code",
   "execution_count": null,
   "metadata": {
    "collapsed": true
   },
   "outputs": [],
   "source": []
  },
  {
   "cell_type": "code",
   "execution_count": 69,
   "metadata": {
    "collapsed": false
   },
   "outputs": [
    {
     "ename": "FileNotFoundError",
     "evalue": "[Errno 2] No such file or directory: './users.csv'",
     "output_type": "error",
     "traceback": [
      "\u001b[1;31m---------------------------------------------------------------------------\u001b[0m",
      "\u001b[1;31mFileNotFoundError\u001b[0m                         Traceback (most recent call last)",
      "\u001b[1;32m<ipython-input-69-b200ad49df94>\u001b[0m in \u001b[0;36m<module>\u001b[1;34m()\u001b[0m\n\u001b[1;32m----> 1\u001b[1;33m \u001b[1;32mwith\u001b[0m \u001b[0mopen\u001b[0m\u001b[1;33m(\u001b[0m\u001b[1;34m\"./users.csv\"\u001b[0m\u001b[1;33m,\u001b[0m \u001b[1;34m\"r\"\u001b[0m\u001b[1;33m)\u001b[0m \u001b[1;32mas\u001b[0m \u001b[0mf\u001b[0m\u001b[1;33m:\u001b[0m   \u001b[1;31m#기존에 users_csv에 사용자 정보가 있다면\u001b[0m\u001b[1;33m\u001b[0m\u001b[0m\n\u001b[0m\u001b[0;32m      2\u001b[0m     \u001b[0muser_list\u001b[0m \u001b[1;33m=\u001b[0m \u001b[1;33m[\u001b[0m\u001b[1;33m]\u001b[0m\u001b[1;33m\u001b[0m\u001b[0m\n\u001b[0;32m      3\u001b[0m \u001b[1;33m\u001b[0m\u001b[0m\n\u001b[0;32m      4\u001b[0m     \u001b[1;32mfor\u001b[0m \u001b[0mline\u001b[0m \u001b[1;32min\u001b[0m \u001b[0mf\u001b[0m\u001b[1;33m.\u001b[0m\u001b[0mreadlines\u001b[0m\u001b[1;33m(\u001b[0m\u001b[1;33m)\u001b[0m\u001b[1;33m:\u001b[0m\u001b[1;33m\u001b[0m\u001b[0m\n\u001b[0;32m      5\u001b[0m         user_list.append({\n",
      "\u001b[1;31mFileNotFoundError\u001b[0m: [Errno 2] No such file or directory: './users.csv'"
     ]
    }
   ],
   "source": [
    "with open(\"./users.csv\", \"r\") as f:   #기존에 users_csv에 사용자 정보가 있다면\n",
    "    user_list = []\n",
    "    \n",
    "    for line in f.readlines():\n",
    "        user_list.append({\n",
    "                \"name\": line.split(\",\")[0],\n",
    "                \"address\": line.split(\",\")[1].replace(\"\\n\", \"\")\n",
    "            })\n",
    "user_list"
   ]
  },
  {
   "cell_type": "code",
   "execution_count": 70,
   "metadata": {
    "collapsed": false
   },
   "outputs": [
    {
     "ename": "FileNotFoundError",
     "evalue": "[Errno 2] No such file or directory: './users.csv'",
     "output_type": "error",
     "traceback": [
      "\u001b[1;31m---------------------------------------------------------------------------\u001b[0m",
      "\u001b[1;31mFileNotFoundError\u001b[0m                         Traceback (most recent call last)",
      "\u001b[1;32m<ipython-input-70-50ccf67b64b7>\u001b[0m in \u001b[0;36m<module>\u001b[1;34m()\u001b[0m\n\u001b[1;32m----> 1\u001b[1;33m \u001b[1;32mwith\u001b[0m \u001b[0mopen\u001b[0m\u001b[1;33m(\u001b[0m\u001b[1;34m\"./users.csv\"\u001b[0m\u001b[1;33m,\u001b[0m \u001b[1;34m\"r\"\u001b[0m\u001b[1;33m)\u001b[0m \u001b[1;32mas\u001b[0m \u001b[0mf\u001b[0m\u001b[1;33m:\u001b[0m\u001b[1;33m\u001b[0m\u001b[0m\n\u001b[0m\u001b[0;32m      2\u001b[0m     user_list = [\n\u001b[0;32m      3\u001b[0m         {\n\u001b[0;32m      4\u001b[0m             \u001b[1;34m\"name\"\u001b[0m\u001b[1;33m:\u001b[0m \u001b[0mline\u001b[0m\u001b[1;33m.\u001b[0m\u001b[0msplit\u001b[0m\u001b[1;33m(\u001b[0m\u001b[1;34m\",\"\u001b[0m\u001b[1;33m)\u001b[0m\u001b[1;33m[\u001b[0m\u001b[1;36m0\u001b[0m\u001b[1;33m]\u001b[0m\u001b[1;33m,\u001b[0m\u001b[1;33m\u001b[0m\u001b[0m\n\u001b[0;32m      5\u001b[0m             \u001b[1;34m\"address\"\u001b[0m\u001b[1;33m:\u001b[0m \u001b[0mline\u001b[0m\u001b[1;33m.\u001b[0m\u001b[0msplit\u001b[0m\u001b[1;33m(\u001b[0m\u001b[1;34m\",\"\u001b[0m\u001b[1;33m)\u001b[0m\u001b[1;33m[\u001b[0m\u001b[1;36m1\u001b[0m\u001b[1;33m]\u001b[0m\u001b[1;33m.\u001b[0m\u001b[0mreplace\u001b[0m\u001b[1;33m(\u001b[0m\u001b[1;34m\"\\n\"\u001b[0m\u001b[1;33m,\u001b[0m \u001b[1;34m\"\"\u001b[0m\u001b[1;33m)\u001b[0m\u001b[1;33m\u001b[0m\u001b[0m\n",
      "\u001b[1;31mFileNotFoundError\u001b[0m: [Errno 2] No such file or directory: './users.csv'"
     ]
    }
   ],
   "source": [
    "with open(\"./users.csv\", \"r\") as f:\n",
    "    user_list = [\n",
    "        {\n",
    "            \"name\": line.split(\",\")[0],\n",
    "            \"address\": line.split(\",\")[1].replace(\"\\n\", \"\")\n",
    "        }\n",
    "        for line\n",
    "        in f.readlines()\n",
    "    ]\n",
    "user_list"
   ]
  },
  {
   "cell_type": "markdown",
   "metadata": {},
   "source": [
    "## 핸드폰 번호 전처리"
   ]
  },
  {
   "cell_type": "code",
   "execution_count": 71,
   "metadata": {
    "collapsed": false
   },
   "outputs": [
    {
     "data": {
      "text/plain": [
       "'01062353319'"
      ]
     },
     "execution_count": 71,
     "metadata": {},
     "output_type": "execute_result"
    }
   ],
   "source": [
    "def preprocess(phonenumber):\n",
    "    phonenumber_process_dict = {\n",
    "        \"공\": 0,\n",
    "        \"영\": 0,\n",
    "        \"일\": 1,\n",
    "        \"이\": 2,\n",
    "        \"삼\": 3,\n",
    "        \"사\": 4,\n",
    "        \"오\": 5,\n",
    "        \"육\": 6,\n",
    "        \"칠\": 7,\n",
    "        \"팔\": 8,\n",
    "        \"구\": 9,\n",
    "        \"-\": \"\",\n",
    "        \" \": \"\",\n",
    "    }\n",
    "    for key, value in phonenumber_process_dict.items():   #items는 key, value를 한 번에 뽑을 때 사용된다.\n",
    "        phonenumber = phonenumber.replace(key, str(value))\n",
    "    return phonenumber\n",
    "preprocess(\"공일공육이35-삼삼1구\")"
   ]
  },
  {
   "cell_type": "code",
   "execution_count": 72,
   "metadata": {
    "collapsed": false
   },
   "outputs": [
    {
     "ename": "FileNotFoundError",
     "evalue": "[Errno 2] No such file or directory: './phonenumber.txt'",
     "output_type": "error",
     "traceback": [
      "\u001b[1;31m---------------------------------------------------------------------------\u001b[0m",
      "\u001b[1;31mFileNotFoundError\u001b[0m                         Traceback (most recent call last)",
      "\u001b[1;32m<ipython-input-72-e7ff740f5134>\u001b[0m in \u001b[0;36m<module>\u001b[1;34m()\u001b[0m\n\u001b[1;32m----> 1\u001b[1;33m \u001b[1;32mwith\u001b[0m \u001b[0mopen\u001b[0m\u001b[1;33m(\u001b[0m\u001b[1;34m\"./phonenumber.txt\"\u001b[0m\u001b[1;33m,\u001b[0m \u001b[1;34m\"r\"\u001b[0m\u001b[1;33m)\u001b[0m \u001b[1;32mas\u001b[0m \u001b[0minput_file\u001b[0m\u001b[1;33m:\u001b[0m   \u001b[1;31m#전처리 대상 텍스트 파일 있을 때\u001b[0m\u001b[1;33m\u001b[0m\u001b[0m\n\u001b[0m\u001b[0;32m      2\u001b[0m     result = [\n\u001b[0;32m      3\u001b[0m         \u001b[0mpreprocess\u001b[0m\u001b[1;33m(\u001b[0m\u001b[0mline\u001b[0m\u001b[1;33m.\u001b[0m\u001b[0mreplace\u001b[0m\u001b[1;33m(\u001b[0m\u001b[1;34m\"\\n\"\u001b[0m\u001b[1;33m,\u001b[0m \u001b[1;34m\"\"\u001b[0m\u001b[1;33m)\u001b[0m\u001b[1;33m)\u001b[0m\u001b[1;33m\u001b[0m\u001b[0m\n\u001b[0;32m      4\u001b[0m         \u001b[1;32mfor\u001b[0m \u001b[0mline\u001b[0m\u001b[1;33m\u001b[0m\u001b[0m\n\u001b[0;32m      5\u001b[0m         \u001b[1;32min\u001b[0m \u001b[0minput_file\u001b[0m\u001b[1;33m.\u001b[0m\u001b[0mreadlines\u001b[0m\u001b[1;33m(\u001b[0m\u001b[1;33m)\u001b[0m\u001b[1;33m\u001b[0m\u001b[0m\n",
      "\u001b[1;31mFileNotFoundError\u001b[0m: [Errno 2] No such file or directory: './phonenumber.txt'"
     ]
    }
   ],
   "source": [
    "with open(\"./phonenumber.txt\", \"r\") as input_file:   #전처리 대상 텍스트 파일 있을 때\n",
    "    result = [\n",
    "        preprocess(line.replace(\"\\n\", \"\"))\n",
    "        for line\n",
    "        in input_file.readlines()\n",
    "    ]\n",
    "result"
   ]
  },
  {
   "cell_type": "code",
   "execution_count": 73,
   "metadata": {
    "collapsed": false
   },
   "outputs": [
    {
     "ename": "FileNotFoundError",
     "evalue": "[Errno 2] No such file or directory: './phonenumber.txt'",
     "output_type": "error",
     "traceback": [
      "\u001b[1;31m---------------------------------------------------------------------------\u001b[0m",
      "\u001b[1;31mFileNotFoundError\u001b[0m                         Traceback (most recent call last)",
      "\u001b[1;32m<ipython-input-73-7bd25725b209>\u001b[0m in \u001b[0;36m<module>\u001b[1;34m()\u001b[0m\n\u001b[1;32m----> 1\u001b[1;33m \u001b[1;32mwith\u001b[0m \u001b[0mopen\u001b[0m\u001b[1;33m(\u001b[0m\u001b[1;34m\"./phonenumber.txt\"\u001b[0m\u001b[1;33m,\u001b[0m \u001b[1;34m\"r\"\u001b[0m\u001b[1;33m)\u001b[0m \u001b[1;32mas\u001b[0m \u001b[0minput_file\u001b[0m\u001b[1;33m:\u001b[0m\u001b[1;33m\u001b[0m\u001b[0m\n\u001b[0m\u001b[0;32m      2\u001b[0m     \u001b[1;32mwith\u001b[0m \u001b[0mopen\u001b[0m\u001b[1;33m(\u001b[0m\u001b[1;34m\"./phonenumber_preprocessed.txt\"\u001b[0m\u001b[1;33m,\u001b[0m \u001b[1;34m\"w\"\u001b[0m\u001b[1;33m)\u001b[0m \u001b[1;32mas\u001b[0m \u001b[0moutput_file\u001b[0m\u001b[1;33m:\u001b[0m\u001b[1;33m\u001b[0m\u001b[0m\n\u001b[0;32m      3\u001b[0m         [\n\u001b[0;32m      4\u001b[0m             output_file.write(\n\u001b[0;32m      5\u001b[0m                 \u001b[0mpreprocess\u001b[0m\u001b[1;33m(\u001b[0m\u001b[0mline\u001b[0m\u001b[1;33m.\u001b[0m\u001b[0mreplace\u001b[0m\u001b[1;33m(\u001b[0m\u001b[1;34m\"\\n\"\u001b[0m\u001b[1;33m,\u001b[0m \u001b[1;34m\"\"\u001b[0m\u001b[1;33m)\u001b[0m\u001b[1;33m)\u001b[0m \u001b[1;33m+\u001b[0m \u001b[1;34m\"\\n\"\u001b[0m\u001b[1;33m\u001b[0m\u001b[0m\n",
      "\u001b[1;31mFileNotFoundError\u001b[0m: [Errno 2] No such file or directory: './phonenumber.txt'"
     ]
    }
   ],
   "source": [
    "with open(\"./phonenumber.txt\", \"r\") as input_file:  \n",
    "    with open(\"./phonenumber_preprocessed.txt\", \"w\") as output_file:\n",
    "        [\n",
    "            output_file.write(\n",
    "                preprocess(line.replace(\"\\n\", \"\")) + \"\\n\"\n",
    "            )\n",
    "            for line\n",
    "            in input_file.readlines()\n",
    "        ]"
   ]
  },
  {
   "cell_type": "markdown",
   "metadata": {},
   "source": [
    "* 절차 지향 프로그래밍: 데이터, 데이터 처리하는 함수\n",
    "* 객체 지향 프로그래밍 ( Object Oriented Programming )\n",
    " * 절차 <<<< 객체\n",
    " * 둥둥 떠다니는 객체\n",
    " * 객체(데이터, 각각의 데이터를 처리하는 방법) <=> 객체 : 메시지를 전달\n",
    " * 실험 => 완벽하게 적합한 알고리즘\n",
    "\n",
    "* 함수형 프로그래밍 => Lambda, Lambda Operator, List Comprehension"
   ]
  },
  {
   "cell_type": "markdown",
   "metadata": {},
   "source": [
    "- 객체는 자료형(클래스)를 가진다\n",
    "- 모듈은 .py파일 형식. 함수와 변수 선언을 담고 있다. 다른 .py파일에서 추가해서 사용할 수 있다. import로 모듈을 불러올 수 있다."
   ]
  },
  {
   "cell_type": "code",
   "execution_count": 77,
   "metadata": {
    "collapsed": false
   },
   "outputs": [],
   "source": [
    "class Student():     # Student() => __init__ 함수가 실행되는 것\n",
    "    __campus = \"패스트캠퍼스\"   #변수를 밖에서 부를 수는 있지만 안 부르는 것이 약속\n",
    "    \n",
    "    def __init__(self, name, age):  # init => initialize ( 초기화하다 )\n",
    "        self.name = name\n",
    "        self.age = age\n",
    "        print(\"학생 {name}({age}) 가 태어났습니다.\".format(\n",
    "            name=self.name,\n",
    "            age=self.age\n",
    "        ))\n",
    "    \n",
    "    # 자기소개를 할 수 있다.\n",
    "    def introduce(self):\n",
    "        print(\"안녕하세요, 저는 {campus}에 다녔던 {age}살 {name} 입니다.\".format(\n",
    "            campus=self.__campus,\n",
    "            age=self.age,\n",
    "            name=self.name,\n",
    "        ))"
   ]
  },
  {
   "cell_type": "code",
   "execution_count": 78,
   "metadata": {
    "collapsed": false,
    "scrolled": true
   },
   "outputs": [
    {
     "name": "stdout",
     "output_type": "stream",
     "text": [
      "학생 김기표(29) 가 태어났습니다.\n"
     ]
    }
   ],
   "source": [
    "kimkipoy = Student(\"김기표\", 29)"
   ]
  },
  {
   "cell_type": "code",
   "execution_count": 79,
   "metadata": {
    "collapsed": false
   },
   "outputs": [
    {
     "name": "stdout",
     "output_type": "stream",
     "text": [
      "안녕하세요, 저는 패스트캠퍼스에 다녔던 29살 김기표 입니다.\n"
     ]
    }
   ],
   "source": [
    "kimkipoy.introduce()"
   ]
  },
  {
   "cell_type": "code",
   "execution_count": 82,
   "metadata": {
    "collapsed": false
   },
   "outputs": [
    {
     "name": "stdout",
     "output_type": "stream",
     "text": [
      "안녕하세요, 저는 패스트캠퍼스에 다녔던 29살 김기표 입니다.\n"
     ]
    }
   ],
   "source": [
    "kimkipoy.campus = \"경쟁사\"\n",
    "kimkipoy.introduce()"
   ]
  },
  {
   "cell_type": "code",
   "execution_count": 83,
   "metadata": {
    "collapsed": false
   },
   "outputs": [
    {
     "data": {
      "text/plain": [
       "['_Student__campus',\n",
       " '__class__',\n",
       " '__delattr__',\n",
       " '__dict__',\n",
       " '__dir__',\n",
       " '__doc__',\n",
       " '__eq__',\n",
       " '__format__',\n",
       " '__ge__',\n",
       " '__getattribute__',\n",
       " '__gt__',\n",
       " '__hash__',\n",
       " '__init__',\n",
       " '__le__',\n",
       " '__lt__',\n",
       " '__module__',\n",
       " '__ne__',\n",
       " '__new__',\n",
       " '__reduce__',\n",
       " '__reduce_ex__',\n",
       " '__repr__',\n",
       " '__setattr__',\n",
       " '__sizeof__',\n",
       " '__str__',\n",
       " '__subclasshook__',\n",
       " '__weakref__',\n",
       " 'age',\n",
       " 'campus',\n",
       " 'introduce',\n",
       " 'name']"
      ]
     },
     "execution_count": 83,
     "metadata": {},
     "output_type": "execute_result"
    }
   ],
   "source": [
    "kimkipoy   #_Student__campus 이와 같은 형태로 변수가 바뀌었다.\n",
    "dir(kimkipoy)"
   ]
  },
  {
   "cell_type": "code",
   "execution_count": 84,
   "metadata": {
    "collapsed": false
   },
   "outputs": [
    {
     "name": "stdout",
     "output_type": "stream",
     "text": [
      "안녕하세요, 저는 경쟁사2에 다녔던 29살 김기표 입니다.\n"
     ]
    }
   ],
   "source": [
    "kimkipoy._Student__campus = \"경쟁사2\"\n",
    "kimkipoy.introduce()"
   ]
  },
  {
   "cell_type": "code",
   "execution_count": null,
   "metadata": {
    "collapsed": true
   },
   "outputs": [],
   "source": []
  },
  {
   "cell_type": "code",
   "execution_count": 85,
   "metadata": {
    "collapsed": true
   },
   "outputs": [],
   "source": [
    "class Rectangle():\n",
    "    def __init__(self, width, height):\n",
    "        self.width = width\n",
    "        self.height = height\n",
    "        \n",
    "    def area(self):\n",
    "        return self.width * self.height\n",
    "    \n",
    "    def girth(self):\n",
    "        return 2 * (self.width + self.height)\n",
    "    \n",
    "    def is_bigger(self, another):\n",
    "        if self.area() - another.area() >= 0:\n",
    "            print(\"내가 더 큼\")\n",
    "        else:\n",
    "            print(\"내가 더 작음\")"
   ]
  },
  {
   "cell_type": "code",
   "execution_count": 86,
   "metadata": {
    "collapsed": false
   },
   "outputs": [
    {
     "name": "stdout",
     "output_type": "stream",
     "text": [
      "내가 더 작음\n"
     ]
    }
   ],
   "source": [
    "rec1 = Rectangle(10, 20)\n",
    "rec2 = Rectangle(30, 10)\n",
    "\n",
    "rec1.is_bigger(rec2)"
   ]
  },
  {
   "cell_type": "markdown",
   "metadata": {},
   "source": [
    "* Class ( Rectangle ) => 붕어빵틀, 이데아\n",
    " * 객체를 정의해 놓은 것\n",
    " * 객체를 생성하기 위해 사용\n",
    "* Object=객체 ( rec1, rec2 ) => 실제 있는 애, 붕어빵, ..\n",
    " * 실제로 존재하는 것. 사물 또는 개념"
   ]
  },
  {
   "cell_type": "code",
   "execution_count": 87,
   "metadata": {
    "collapsed": true
   },
   "outputs": [],
   "source": [
    "class Rectangle():\n",
    "    \n",
    "    def __init__(self, width, height):\n",
    "        self.width = width\n",
    "        self.height = height\n",
    "        \n",
    "    def area(self):\n",
    "        return \"면적은 {area} 입니다.\".format(\n",
    "            area=self.width * self.height\n",
    "        ) \n",
    "    \n",
    "    def girth(self):\n",
    "        return \"둘레는 {girth} 입니다\".format(\n",
    "            girth = self.width * 2 + self.height * 2,\n",
    "        )\n",
    "    \n",
    "    def is_bigger(self, another):\n",
    "        my_area = self.area()\n",
    "        another_area = another.area()\n",
    "        \n",
    "        return my_area > another_area"
   ]
  },
  {
   "cell_type": "code",
   "execution_count": 88,
   "metadata": {
    "collapsed": false
   },
   "outputs": [
    {
     "data": {
      "text/plain": [
       "True"
      ]
     },
     "execution_count": 88,
     "metadata": {},
     "output_type": "execute_result"
    }
   ],
   "source": [
    "my_rectangle = Rectangle(100, 200)\n",
    "another_rect = Rectangle(10, 20)\n",
    "my_rectangle.is_bigger(another_rect)"
   ]
  },
  {
   "cell_type": "code",
   "execution_count": 89,
   "metadata": {
    "collapsed": true
   },
   "outputs": [],
   "source": [
    "class Person():\n",
    "    \n",
    "    def __init__(self, name, money):\n",
    "        self.name = name\n",
    "        self.money = money\n",
    "        \n",
    "    def send_money(self, to, amount):\n",
    "        print(\"{to_name}한테 {amount}원 만큼 돈을 보냅니다.\".format(\n",
    "            to_name=to.name,\n",
    "            amount=amount,\n",
    "            ))\n",
    "        self.money -= amount\n",
    "        to.money += amount"
   ]
  },
  {
   "cell_type": "code",
   "execution_count": 90,
   "metadata": {
    "collapsed": true
   },
   "outputs": [],
   "source": [
    "person1 = Person(\"돈 빌려준 사람\", 1000)\n",
    "person2 = Person(\"돈 빌린 사람\", 500)"
   ]
  },
  {
   "cell_type": "code",
   "execution_count": 91,
   "metadata": {
    "collapsed": false
   },
   "outputs": [
    {
     "name": "stdout",
     "output_type": "stream",
     "text": [
      "돈 빌려준 사람한테 500원 만큼 돈을 보냅니다.\n"
     ]
    }
   ],
   "source": [
    "person2.send_money(person1, 500)"
   ]
  },
  {
   "cell_type": "code",
   "execution_count": 92,
   "metadata": {
    "collapsed": false
   },
   "outputs": [
    {
     "data": {
      "text/plain": [
       "(1500, 0)"
      ]
     },
     "execution_count": 92,
     "metadata": {},
     "output_type": "execute_result"
    }
   ],
   "source": [
    "person1.money, person2.money"
   ]
  },
  {
   "cell_type": "code",
   "execution_count": 93,
   "metadata": {
    "collapsed": true
   },
   "outputs": [],
   "source": [
    "class Student():\n",
    "    \n",
    "    def __init__(self, name, address):\n",
    "        self.name = name\n",
    "        self.address = address\n",
    "        \n",
    "    def introduce(self):\n",
    "        print(\"저는 {address}에 살고 있는 {name}입니다.\".format(\n",
    "            address=self.address,\n",
    "            name=self.name,\n",
    "            ))"
   ]
  },
  {
   "cell_type": "code",
   "execution_count": 94,
   "metadata": {
    "collapsed": false,
    "scrolled": true
   },
   "outputs": [
    {
     "name": "stdout",
     "output_type": "stream",
     "text": [
      "저는 경기도 안양시에 살고 있는 김기표입니다.\n"
     ]
    }
   ],
   "source": [
    "student = Student(\"김기표\", \"경기도 안양시\")\n",
    "student.introduce()"
   ]
  },
  {
   "cell_type": "code",
   "execution_count": 95,
   "metadata": {
    "collapsed": false
   },
   "outputs": [
    {
     "ename": "FileNotFoundError",
     "evalue": "[Errno 2] No such file or directory: '../users.csv'",
     "output_type": "error",
     "traceback": [
      "\u001b[1;31m---------------------------------------------------------------------------\u001b[0m",
      "\u001b[1;31mFileNotFoundError\u001b[0m                         Traceback (most recent call last)",
      "\u001b[1;32m<ipython-input-95-b2d15266ce1b>\u001b[0m in \u001b[0;36m<module>\u001b[1;34m()\u001b[0m\n\u001b[1;32m----> 1\u001b[1;33m \u001b[1;32mwith\u001b[0m \u001b[0mopen\u001b[0m\u001b[1;33m(\u001b[0m\u001b[1;34m\"../users.csv\"\u001b[0m\u001b[1;33m,\u001b[0m \u001b[1;34m\"r\"\u001b[0m\u001b[1;33m)\u001b[0m \u001b[1;32mas\u001b[0m \u001b[0mf\u001b[0m\u001b[1;33m:\u001b[0m   \u001b[1;31m#users.csv라는 사용자 정보 있을 때\u001b[0m\u001b[1;33m\u001b[0m\u001b[0m\n\u001b[0m\u001b[0;32m      2\u001b[0m     student_list = [\n\u001b[0;32m      3\u001b[0m         Student(\n\u001b[0;32m      4\u001b[0m             \u001b[0mline\u001b[0m\u001b[1;33m.\u001b[0m\u001b[0msplit\u001b[0m\u001b[1;33m(\u001b[0m\u001b[1;34m\",\"\u001b[0m\u001b[1;33m)\u001b[0m\u001b[1;33m[\u001b[0m\u001b[1;36m0\u001b[0m\u001b[1;33m]\u001b[0m\u001b[1;33m,\u001b[0m\u001b[1;33m\u001b[0m\u001b[0m\n\u001b[0;32m      5\u001b[0m             \u001b[0mline\u001b[0m\u001b[1;33m.\u001b[0m\u001b[0msplit\u001b[0m\u001b[1;33m(\u001b[0m\u001b[1;34m\",\"\u001b[0m\u001b[1;33m)\u001b[0m\u001b[1;33m[\u001b[0m\u001b[1;36m1\u001b[0m\u001b[1;33m]\u001b[0m\u001b[1;33m.\u001b[0m\u001b[0mreplace\u001b[0m\u001b[1;33m(\u001b[0m\u001b[1;34m\"\\n\"\u001b[0m\u001b[1;33m,\u001b[0m \u001b[1;34m\"\"\u001b[0m\u001b[1;33m)\u001b[0m\u001b[1;33m\u001b[0m\u001b[0m\n",
      "\u001b[1;31mFileNotFoundError\u001b[0m: [Errno 2] No such file or directory: '../users.csv'"
     ]
    }
   ],
   "source": [
    "with open(\"../users.csv\", \"r\") as f:   #users.csv라는 사용자 정보 있을 때\n",
    "    student_list = [\n",
    "        Student(\n",
    "            line.split(\",\")[0],\n",
    "            line.split(\",\")[1].replace(\"\\n\", \"\")\n",
    "        )\n",
    "        for line\n",
    "        in f.readlines()\n",
    "    ]\n",
    "for student in student_list:\n",
    "    student.introduce()"
   ]
  }
 ],
 "metadata": {
  "kernelspec": {
   "display_name": "Python 3",
   "language": "python",
   "name": "python3"
  },
  "language_info": {
   "codemirror_mode": {
    "name": "ipython",
    "version": 3
   },
   "file_extension": ".py",
   "mimetype": "text/x-python",
   "name": "python",
   "nbconvert_exporter": "python",
   "pygments_lexer": "ipython3",
   "version": "3.5.1"
  }
 },
 "nbformat": 4,
 "nbformat_minor": 0
}
