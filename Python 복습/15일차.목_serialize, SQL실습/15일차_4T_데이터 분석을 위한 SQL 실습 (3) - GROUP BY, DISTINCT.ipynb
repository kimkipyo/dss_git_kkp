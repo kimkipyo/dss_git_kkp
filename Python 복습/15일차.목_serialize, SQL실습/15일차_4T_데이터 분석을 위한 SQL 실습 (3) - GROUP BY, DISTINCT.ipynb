{
 "cells": [
  {
   "cell_type": "markdown",
   "metadata": {},
   "source": [
    "# 4T_데이터 분석을 위한 SQL 실습 (3) - GROUP BY, DISTINCT"
   ]
  },
  {
   "cell_type": "markdown",
   "metadata": {
    "collapsed": true
   },
   "source": [
    "### 월별 렌탈 지표\n",
    "* 월을 기준으로 그룹을 묶어서, 총 렌탈 수, 렌탈한 유저 수(중복 없어야 함), 유저 별 평균 렌탈 수를 출력"
   ]
  },
  {
   "cell_type": "code",
   "execution_count": 1,
   "metadata": {
    "collapsed": true
   },
   "outputs": [],
   "source": [
    "import pymysql"
   ]
  },
  {
   "cell_type": "code",
   "execution_count": 2,
   "metadata": {
    "collapsed": true
   },
   "outputs": [],
   "source": [
    "db = pymysql.connect(\n",
    "    \"db.fastcamp.us\",\n",
    "    \"root\",\n",
    "    \"dkstncks\",\n",
    "    \"sakila\",\n",
    "    charset='utf8',\n",
    ")"
   ]
  },
  {
   "cell_type": "code",
   "execution_count": 3,
   "metadata": {
    "collapsed": true
   },
   "outputs": [],
   "source": [
    "rental_df = pd.read_sql(\"SELECT * FROM rental;\", db)"
   ]
  },
  {
   "cell_type": "code",
   "execution_count": 4,
   "metadata": {
    "collapsed": false
   },
   "outputs": [
    {
     "data": {
      "text/html": [
       "<div>\n",
       "<table border=\"1\" class=\"dataframe\">\n",
       "  <thead>\n",
       "    <tr style=\"text-align: right;\">\n",
       "      <th></th>\n",
       "      <th>rental_id</th>\n",
       "      <th>rental_date</th>\n",
       "      <th>inventory_id</th>\n",
       "      <th>customer_id</th>\n",
       "      <th>return_date</th>\n",
       "      <th>staff_id</th>\n",
       "      <th>last_update</th>\n",
       "    </tr>\n",
       "  </thead>\n",
       "  <tbody>\n",
       "    <tr>\n",
       "      <th>0</th>\n",
       "      <td>1</td>\n",
       "      <td>2005-05-24 22:53:30</td>\n",
       "      <td>367</td>\n",
       "      <td>130</td>\n",
       "      <td>2005-05-26 22:04:30</td>\n",
       "      <td>1</td>\n",
       "      <td>2006-02-15 21:30:53</td>\n",
       "    </tr>\n",
       "    <tr>\n",
       "      <th>1</th>\n",
       "      <td>2</td>\n",
       "      <td>2005-05-24 22:54:33</td>\n",
       "      <td>1525</td>\n",
       "      <td>459</td>\n",
       "      <td>2005-05-28 19:40:33</td>\n",
       "      <td>1</td>\n",
       "      <td>2006-02-15 21:30:53</td>\n",
       "    </tr>\n",
       "  </tbody>\n",
       "</table>\n",
       "</div>"
      ],
      "text/plain": [
       "   rental_id         rental_date  inventory_id  customer_id  \\\n",
       "0          1 2005-05-24 22:53:30           367          130   \n",
       "1          2 2005-05-24 22:54:33          1525          459   \n",
       "\n",
       "          return_date  staff_id         last_update  \n",
       "0 2005-05-26 22:04:30         1 2006-02-15 21:30:53  \n",
       "1 2005-05-28 19:40:33         1 2006-02-15 21:30:53  "
      ]
     },
     "execution_count": 4,
     "metadata": {},
     "output_type": "execute_result"
    }
   ],
   "source": [
    "rental_df.head(2)"
   ]
  },
  {
   "cell_type": "code",
   "execution_count": 5,
   "metadata": {
    "collapsed": false
   },
   "outputs": [
    {
     "data": {
      "text/html": [
       "<div>\n",
       "<table border=\"1\" class=\"dataframe\">\n",
       "  <thead>\n",
       "    <tr style=\"text-align: right;\">\n",
       "      <th></th>\n",
       "      <th>month</th>\n",
       "      <th>total_rentals_per_month</th>\n",
       "      <th>unique_customers</th>\n",
       "      <th>average_rentals_per_customer</th>\n",
       "    </tr>\n",
       "  </thead>\n",
       "  <tbody>\n",
       "    <tr>\n",
       "      <th>0</th>\n",
       "      <td>2005-07</td>\n",
       "      <td>6709</td>\n",
       "      <td>599</td>\n",
       "      <td>11.2003</td>\n",
       "    </tr>\n",
       "    <tr>\n",
       "      <th>1</th>\n",
       "      <td>2005-08</td>\n",
       "      <td>5686</td>\n",
       "      <td>599</td>\n",
       "      <td>9.4925</td>\n",
       "    </tr>\n",
       "    <tr>\n",
       "      <th>2</th>\n",
       "      <td>2005-06</td>\n",
       "      <td>2311</td>\n",
       "      <td>590</td>\n",
       "      <td>3.9169</td>\n",
       "    </tr>\n",
       "    <tr>\n",
       "      <th>3</th>\n",
       "      <td>2005-05</td>\n",
       "      <td>1156</td>\n",
       "      <td>520</td>\n",
       "      <td>2.2231</td>\n",
       "    </tr>\n",
       "    <tr>\n",
       "      <th>4</th>\n",
       "      <td>2006-02</td>\n",
       "      <td>182</td>\n",
       "      <td>158</td>\n",
       "      <td>1.1519</td>\n",
       "    </tr>\n",
       "  </tbody>\n",
       "</table>\n",
       "</div>"
      ],
      "text/plain": [
       "     month  total_rentals_per_month  unique_customers  \\\n",
       "0  2005-07                     6709               599   \n",
       "1  2005-08                     5686               599   \n",
       "2  2005-06                     2311               590   \n",
       "3  2005-05                     1156               520   \n",
       "4  2006-02                      182               158   \n",
       "\n",
       "   average_rentals_per_customer  \n",
       "0                       11.2003  \n",
       "1                        9.4925  \n",
       "2                        3.9169  \n",
       "3                        2.2231  \n",
       "4                        1.1519  "
      ]
     },
     "execution_count": 5,
     "metadata": {},
     "output_type": "execute_result"
    }
   ],
   "source": [
    "SQL_QUERY = \"\"\"\n",
    "    SELECT\n",
    "        LEFT(rental_date, 7) month,\n",
    "        COUNT(*) total_rentals_per_month,\n",
    "        COUNT(DISTINCT customer_id) unique_customers,\n",
    "        COUNT(*) / COUNT(DISTINCT customer_id) average_rentals_per_customer\n",
    "    FROM rental\n",
    "    GROUP BY month\n",
    "    ORDER BY average_rentals_per_customer DESC\n",
    "    ;\n",
    "\"\"\"\n",
    "pd.read_sql(SQL_QUERY, db)"
   ]
  },
  {
   "cell_type": "code",
   "execution_count": null,
   "metadata": {
    "collapsed": true
   },
   "outputs": [],
   "source": []
  },
  {
   "cell_type": "markdown",
   "metadata": {
    "collapsed": true
   },
   "source": [
    "### 월별 영화별 매출\n",
    "* 월별 렌탈 수 (=A)\n",
    "* 월별 렌탈된 영화의 수(unique한 영화의 수)(=B)\n",
    "* 영화별 평균 렌탈수(=A/B)"
   ]
  },
  {
   "cell_type": "code",
   "execution_count": 9,
   "metadata": {
    "collapsed": true
   },
   "outputs": [],
   "source": [
    "inventory_df = pd.read_sql(\"SELECT * FROM inventory;\", db)\n",
    "film_df = pd.read_sql(\"SELECT * FROM film;\", db)"
   ]
  },
  {
   "cell_type": "code",
   "execution_count": 12,
   "metadata": {
    "collapsed": false,
    "scrolled": true
   },
   "outputs": [
    {
     "data": {
      "text/html": [
       "<div>\n",
       "<table border=\"1\" class=\"dataframe\">\n",
       "  <thead>\n",
       "    <tr style=\"text-align: right;\">\n",
       "      <th></th>\n",
       "      <th>rental_id</th>\n",
       "      <th>rental_date</th>\n",
       "      <th>inventory_id</th>\n",
       "      <th>customer_id</th>\n",
       "      <th>return_date</th>\n",
       "      <th>staff_id</th>\n",
       "      <th>last_update</th>\n",
       "    </tr>\n",
       "  </thead>\n",
       "  <tbody>\n",
       "    <tr>\n",
       "      <th>0</th>\n",
       "      <td>1</td>\n",
       "      <td>2005-05-24 22:53:30</td>\n",
       "      <td>367</td>\n",
       "      <td>130</td>\n",
       "      <td>2005-05-26 22:04:30</td>\n",
       "      <td>1</td>\n",
       "      <td>2006-02-15 21:30:53</td>\n",
       "    </tr>\n",
       "    <tr>\n",
       "      <th>1</th>\n",
       "      <td>2</td>\n",
       "      <td>2005-05-24 22:54:33</td>\n",
       "      <td>1525</td>\n",
       "      <td>459</td>\n",
       "      <td>2005-05-28 19:40:33</td>\n",
       "      <td>1</td>\n",
       "      <td>2006-02-15 21:30:53</td>\n",
       "    </tr>\n",
       "  </tbody>\n",
       "</table>\n",
       "</div>"
      ],
      "text/plain": [
       "   rental_id         rental_date  inventory_id  customer_id  \\\n",
       "0          1 2005-05-24 22:53:30           367          130   \n",
       "1          2 2005-05-24 22:54:33          1525          459   \n",
       "\n",
       "          return_date  staff_id         last_update  \n",
       "0 2005-05-26 22:04:30         1 2006-02-15 21:30:53  \n",
       "1 2005-05-28 19:40:33         1 2006-02-15 21:30:53  "
      ]
     },
     "execution_count": 12,
     "metadata": {},
     "output_type": "execute_result"
    }
   ],
   "source": [
    "rental_df.head(2)"
   ]
  },
  {
   "cell_type": "code",
   "execution_count": 10,
   "metadata": {
    "collapsed": false,
    "scrolled": false
   },
   "outputs": [
    {
     "data": {
      "text/html": [
       "<div>\n",
       "<table border=\"1\" class=\"dataframe\">\n",
       "  <thead>\n",
       "    <tr style=\"text-align: right;\">\n",
       "      <th></th>\n",
       "      <th>inventory_id</th>\n",
       "      <th>film_id</th>\n",
       "      <th>store_id</th>\n",
       "      <th>last_update</th>\n",
       "    </tr>\n",
       "  </thead>\n",
       "  <tbody>\n",
       "    <tr>\n",
       "      <th>0</th>\n",
       "      <td>1</td>\n",
       "      <td>1</td>\n",
       "      <td>1</td>\n",
       "      <td>2006-02-15 05:09:17</td>\n",
       "    </tr>\n",
       "    <tr>\n",
       "      <th>1</th>\n",
       "      <td>2</td>\n",
       "      <td>1</td>\n",
       "      <td>1</td>\n",
       "      <td>2006-02-15 05:09:17</td>\n",
       "    </tr>\n",
       "  </tbody>\n",
       "</table>\n",
       "</div>"
      ],
      "text/plain": [
       "   inventory_id  film_id  store_id         last_update\n",
       "0             1        1         1 2006-02-15 05:09:17\n",
       "1             2        1         1 2006-02-15 05:09:17"
      ]
     },
     "execution_count": 10,
     "metadata": {},
     "output_type": "execute_result"
    }
   ],
   "source": [
    "inventory_df.head(2)"
   ]
  },
  {
   "cell_type": "code",
   "execution_count": 11,
   "metadata": {
    "collapsed": false
   },
   "outputs": [
    {
     "data": {
      "text/html": [
       "<div>\n",
       "<table border=\"1\" class=\"dataframe\">\n",
       "  <thead>\n",
       "    <tr style=\"text-align: right;\">\n",
       "      <th></th>\n",
       "      <th>film_id</th>\n",
       "      <th>title</th>\n",
       "      <th>description</th>\n",
       "      <th>release_year</th>\n",
       "      <th>language_id</th>\n",
       "      <th>original_language_id</th>\n",
       "      <th>rental_duration</th>\n",
       "      <th>rental_rate</th>\n",
       "      <th>length</th>\n",
       "      <th>replacement_cost</th>\n",
       "      <th>rating</th>\n",
       "      <th>special_features</th>\n",
       "      <th>last_update</th>\n",
       "    </tr>\n",
       "  </thead>\n",
       "  <tbody>\n",
       "    <tr>\n",
       "      <th>0</th>\n",
       "      <td>1</td>\n",
       "      <td>ACADEMY DINOSAUR</td>\n",
       "      <td>A Epic Drama of a Feminist And a Mad Scientist...</td>\n",
       "      <td>2006</td>\n",
       "      <td>1</td>\n",
       "      <td>None</td>\n",
       "      <td>6</td>\n",
       "      <td>0.99</td>\n",
       "      <td>86</td>\n",
       "      <td>20.99</td>\n",
       "      <td>PG</td>\n",
       "      <td>Deleted Scenes,Behind the Scenes</td>\n",
       "      <td>2006-02-15 05:03:42</td>\n",
       "    </tr>\n",
       "    <tr>\n",
       "      <th>1</th>\n",
       "      <td>2</td>\n",
       "      <td>ACE GOLDFINGER</td>\n",
       "      <td>A Astounding Epistle of a Database Administrat...</td>\n",
       "      <td>2006</td>\n",
       "      <td>1</td>\n",
       "      <td>None</td>\n",
       "      <td>3</td>\n",
       "      <td>4.99</td>\n",
       "      <td>48</td>\n",
       "      <td>12.99</td>\n",
       "      <td>G</td>\n",
       "      <td>Trailers,Deleted Scenes</td>\n",
       "      <td>2006-02-15 05:03:42</td>\n",
       "    </tr>\n",
       "  </tbody>\n",
       "</table>\n",
       "</div>"
      ],
      "text/plain": [
       "   film_id             title  \\\n",
       "0        1  ACADEMY DINOSAUR   \n",
       "1        2    ACE GOLDFINGER   \n",
       "\n",
       "                                         description  release_year  \\\n",
       "0  A Epic Drama of a Feminist And a Mad Scientist...          2006   \n",
       "1  A Astounding Epistle of a Database Administrat...          2006   \n",
       "\n",
       "   language_id original_language_id  rental_duration  rental_rate  length  \\\n",
       "0            1                 None                6         0.99      86   \n",
       "1            1                 None                3         4.99      48   \n",
       "\n",
       "   replacement_cost rating                  special_features  \\\n",
       "0             20.99     PG  Deleted Scenes,Behind the Scenes   \n",
       "1             12.99      G           Trailers,Deleted Scenes   \n",
       "\n",
       "          last_update  \n",
       "0 2006-02-15 05:03:42  \n",
       "1 2006-02-15 05:03:42  "
      ]
     },
     "execution_count": 11,
     "metadata": {},
     "output_type": "execute_result"
    }
   ],
   "source": [
    "film_df.head(2)"
   ]
  },
  {
   "cell_type": "code",
   "execution_count": 21,
   "metadata": {
    "collapsed": false,
    "scrolled": true
   },
   "outputs": [
    {
     "data": {
      "text/html": [
       "<div>\n",
       "<table border=\"1\" class=\"dataframe\">\n",
       "  <thead>\n",
       "    <tr style=\"text-align: right;\">\n",
       "      <th></th>\n",
       "      <th>month</th>\n",
       "      <th>MONTH_PER_RENTALS</th>\n",
       "      <th>unique_films</th>\n",
       "      <th>average_rentals_per_film</th>\n",
       "    </tr>\n",
       "  </thead>\n",
       "  <tbody>\n",
       "    <tr>\n",
       "      <th>0</th>\n",
       "      <td>2005-05</td>\n",
       "      <td>1156</td>\n",
       "      <td>686</td>\n",
       "      <td>1.6851</td>\n",
       "    </tr>\n",
       "    <tr>\n",
       "      <th>1</th>\n",
       "      <td>2005-06</td>\n",
       "      <td>2311</td>\n",
       "      <td>900</td>\n",
       "      <td>2.5678</td>\n",
       "    </tr>\n",
       "    <tr>\n",
       "      <th>2</th>\n",
       "      <td>2005-07</td>\n",
       "      <td>6709</td>\n",
       "      <td>958</td>\n",
       "      <td>7.0031</td>\n",
       "    </tr>\n",
       "    <tr>\n",
       "      <th>3</th>\n",
       "      <td>2005-08</td>\n",
       "      <td>5686</td>\n",
       "      <td>958</td>\n",
       "      <td>5.9353</td>\n",
       "    </tr>\n",
       "    <tr>\n",
       "      <th>4</th>\n",
       "      <td>2006-02</td>\n",
       "      <td>182</td>\n",
       "      <td>168</td>\n",
       "      <td>1.0833</td>\n",
       "    </tr>\n",
       "  </tbody>\n",
       "</table>\n",
       "</div>"
      ],
      "text/plain": [
       "     month  MONTH_PER_RENTALS  unique_films  average_rentals_per_film\n",
       "0  2005-05               1156           686                    1.6851\n",
       "1  2005-06               2311           900                    2.5678\n",
       "2  2005-07               6709           958                    7.0031\n",
       "3  2005-08               5686           958                    5.9353\n",
       "4  2006-02                182           168                    1.0833"
      ]
     },
     "execution_count": 21,
     "metadata": {},
     "output_type": "execute_result"
    }
   ],
   "source": [
    "SQL_QUERY = \"\"\"\n",
    "    SELECT\n",
    "        LEFT(rental_date, 7) month,\n",
    "        COUNT(*) MONTH_PER_RENTALS,\n",
    "        COUNT(DISTINCT f.film_id) unique_films,\n",
    "        COUNT(*) / COUNT(DISTINCT f.film_id) average_rentals_per_film\n",
    "    FROM\n",
    "        rental r\n",
    "            JOIN inventory i ON r.inventory_id = i.inventory_id\n",
    "            JOIN film f ON f.film_id = i.film_id\n",
    "    GROUP BY month\n",
    "    ;\n",
    "\"\"\"\n",
    "pd.read_sql(SQL_QUERY, db)"
   ]
  }
 ],
 "metadata": {
  "anaconda-cloud": {},
  "kernelspec": {
   "display_name": "Python [Root]",
   "language": "python",
   "name": "Python [Root]"
  },
  "language_info": {
   "codemirror_mode": {
    "name": "ipython",
    "version": 3
   },
   "file_extension": ".py",
   "mimetype": "text/x-python",
   "name": "python",
   "nbconvert_exporter": "python",
   "pygments_lexer": "ipython3",
   "version": "3.5.1"
  }
 },
 "nbformat": 4,
 "nbformat_minor": 0
}
