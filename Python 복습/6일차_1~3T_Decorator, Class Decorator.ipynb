{
 "cells": [
  {
   "cell_type": "markdown",
   "metadata": {},
   "source": [
    "# 1T_Decorator"
   ]
  },
  {
   "cell_type": "markdown",
   "metadata": {},
   "source": [
    "* Decorator - function 기반으로 구현했었고 리펙토링 하면서 class 기반의 데코레이터로 변경할 것이다.\n",
    "* 클래스 기반으로 변경하면 장점: decorator 자체도 \"모듈화\" 할 수 있다. 의미 있는 데이터와, 메쏘드들로 묶을 수 있다."
   ]
  },
  {
   "cell_type": "code",
   "execution_count": 1,
   "metadata": {
    "collapsed": true
   },
   "outputs": [],
   "source": [
    "import time\n",
    "\n",
    "def timer(function):\n",
    "    def wrapper(*args, **kwargs):  \n",
    "        start_time = time.time()\n",
    "        result = function(*args, **kwargs)  \n",
    "        end_time = time.time()             \n",
    "        print(\"{time}s\".format(time=end_time-start_time))\n",
    "    return wrapper\n",
    "# 새로운 함수를 만들고, 그 함수를 return 하는 함수 => decorator 함수\n",
    "# 새롭게 만들어진 wrapper라는 함수가 사실은 실행이 된다."
   ]
  },
  {
   "cell_type": "code",
   "execution_count": 2,
   "metadata": {
    "collapsed": true
   },
   "outputs": [],
   "source": [
    "@timer\n",
    "def print_hello():\n",
    "    print(\"hello world\")"
   ]
  },
  {
   "cell_type": "code",
   "execution_count": 3,
   "metadata": {
    "collapsed": false
   },
   "outputs": [
    {
     "name": "stdout",
     "output_type": "stream",
     "text": [
      "hello world\n",
      "0.0009999275207519531s\n"
     ]
    }
   ],
   "source": [
    "print_hello()\n",
    "#print_hello 라는 이름을 가지고 있기는 하지만, 사실상의 timer->wrapper function이 실행"
   ]
  },
  {
   "cell_type": "code",
   "execution_count": 4,
   "metadata": {
    "collapsed": true
   },
   "outputs": [],
   "source": [
    "def print_goodbye():\n",
    "    print(\"hello world_2\")\n",
    "\n",
    "wrapper = timer(print_goodbye)"
   ]
  },
  {
   "cell_type": "code",
   "execution_count": 5,
   "metadata": {
    "collapsed": false,
    "scrolled": true
   },
   "outputs": [
    {
     "name": "stdout",
     "output_type": "stream",
     "text": [
      "hello world_2\n",
      "0.0s\n"
     ]
    }
   ],
   "source": [
    "wrapper()\n",
    "#위에거랑 완전히 동일한 형태이다."
   ]
  },
  {
   "cell_type": "code",
   "execution_count": 6,
   "metadata": {
    "collapsed": true
   },
   "outputs": [],
   "source": [
    "def print_goodbye():\n",
    "    print(\"good bye\")\n",
    "\n",
    "print_goodbye = timer(print_goodbye)"
   ]
  },
  {
   "cell_type": "code",
   "execution_count": 7,
   "metadata": {
    "collapsed": false
   },
   "outputs": [
    {
     "name": "stdout",
     "output_type": "stream",
     "text": [
      "good bye\n",
      "0.0s\n"
     ]
    }
   ],
   "source": [
    "print_goodbye()\n",
    "# 사실상 decorator 는 기존의 정의된 함수를 한번 묶는 것과 100% 동일하다."
   ]
  },
  {
   "cell_type": "code",
   "execution_count": 8,
   "metadata": {
    "collapsed": true
   },
   "outputs": [],
   "source": [
    "# args, kwargs\n",
    "def hello_items(**kwargs):\n",
    "# 함수를 정의하는 시점에 사용하는 kwargs ( **kwargs ) => packing\n",
    "# 즉, 여러 개로 들어온 값을 kwargs라는 dict로 하나로 묶은 것이다. 그래서 packing\n",
    "    for key, value in kwargs.items():\n",
    "        print(\"{key} => {value}\".format(key=key, value=value))"
   ]
  },
  {
   "cell_type": "code",
   "execution_count": 9,
   "metadata": {
    "collapsed": false
   },
   "outputs": [
    {
     "name": "stdout",
     "output_type": "stream",
     "text": [
      "name => KKP\n",
      "age => 29\n"
     ]
    }
   ],
   "source": [
    "hello_items(name=\"KKP\", age=29)"
   ]
  },
  {
   "cell_type": "code",
   "execution_count": 10,
   "metadata": {
    "collapsed": false
   },
   "outputs": [
    {
     "ename": "TypeError",
     "evalue": "hello_items() takes 0 positional arguments but 1 was given",
     "output_type": "error",
     "traceback": [
      "\u001b[1;31m---------------------------------------------------------------------------\u001b[0m",
      "\u001b[1;31mTypeError\u001b[0m                                 Traceback (most recent call last)",
      "\u001b[1;32m<ipython-input-10-035457999298>\u001b[0m in \u001b[0;36m<module>\u001b[1;34m()\u001b[0m\n\u001b[0;32m      1\u001b[0m \u001b[0minformation\u001b[0m \u001b[1;33m=\u001b[0m \u001b[1;33m{\u001b[0m\u001b[1;34m\"name\"\u001b[0m\u001b[1;33m:\u001b[0m \u001b[1;34m\"poy\"\u001b[0m\u001b[1;33m,\u001b[0m \u001b[1;34m\"age\"\u001b[0m\u001b[1;33m:\u001b[0m \u001b[1;36m28\u001b[0m\u001b[1;33m}\u001b[0m\u001b[1;33m\u001b[0m\u001b[0m\n\u001b[1;32m----> 2\u001b[1;33m \u001b[0mhello_items\u001b[0m\u001b[1;33m(\u001b[0m\u001b[0minformation\u001b[0m\u001b[1;33m)\u001b[0m\u001b[1;33m\u001b[0m\u001b[0m\n\u001b[0m",
      "\u001b[1;31mTypeError\u001b[0m: hello_items() takes 0 positional arguments but 1 was given"
     ]
    }
   ],
   "source": [
    "information = {\"name\": \"poy\", \"age\": 28}\n",
    "hello_items(information)"
   ]
  },
  {
   "cell_type": "code",
   "execution_count": 11,
   "metadata": {
    "collapsed": false
   },
   "outputs": [
    {
     "name": "stdout",
     "output_type": "stream",
     "text": [
      "name => poy\n",
      "age => 28\n"
     ]
    }
   ],
   "source": [
    "information = {\"name\": \"poy\", \"age\": 28}\n",
    "hello_items(**information)  # dict => key, value => unpacking\n",
    "# 함수를 호출하는 시점에서 사용하는 kwargs ( **kwargs )"
   ]
  },
  {
   "cell_type": "code",
   "execution_count": 12,
   "metadata": {
    "collapsed": true
   },
   "outputs": [],
   "source": [
    "@timer\n",
    "def print_student_info(name, course, age):\n",
    "    pass"
   ]
  },
  {
   "cell_type": "code",
   "execution_count": 13,
   "metadata": {
    "collapsed": false
   },
   "outputs": [
    {
     "name": "stdout",
     "output_type": "stream",
     "text": [
      "0.0s\n"
     ]
    }
   ],
   "source": [
    "print_student_info(\"kimkipyo\", \"dss\", 29) # => *args => packing\n",
    "# *args => (\"kimkipyo\", \"dss\", 29 ) (type은 tuple)"
   ]
  },
  {
   "cell_type": "code",
   "execution_count": 14,
   "metadata": {
    "collapsed": true
   },
   "outputs": [],
   "source": [
    "import time\n",
    "# print_student_info(name, course, age)\n",
    "# args = (\"dobestan\", \"wps\", 24)  # packing\n",
    "# print_student_info(*args)       # unpacking \n",
    "# 똑같이 생겼는데,\n",
    "# 1. 함수 정의할 때랑 ( packing ),\n",
    "# 2. 함수 호출할 때 ( unpacking )랑 반대의 기능이 기능\n",
    "\n",
    "def timer(function):\n",
    "    def wrapper(*args, **kwargs):  # packing => 함수 정의부\n",
    "        print(\"args => {my_args}\".format(my_args=args))\n",
    "        print(\"kwargs => {my_kwargs}\".format(my_kwargs=kwargs))\n",
    "        \n",
    "        start_time = time.time()\n",
    "        result = function(*args, **kwargs)  # unpacking => tuple => 하나하나 / dict => key,value...\n",
    "                                            # 함수 호출부\n",
    "        end_time = time.time()\n",
    "        print(\"{time}s\".format(time=end_time-start_time))\n",
    "        return result\n",
    "    return wrapper"
   ]
  },
  {
   "cell_type": "code",
   "execution_count": 15,
   "metadata": {
    "collapsed": true
   },
   "outputs": [],
   "source": [
    "def hello():\n",
    "    print(\"hello world\")"
   ]
  },
  {
   "cell_type": "code",
   "execution_count": 16,
   "metadata": {
    "collapsed": false
   },
   "outputs": [
    {
     "name": "stdout",
     "output_type": "stream",
     "text": [
      "hello world\n"
     ]
    }
   ],
   "source": [
    "hello()"
   ]
  },
  {
   "cell_type": "code",
   "execution_count": 17,
   "metadata": {
    "collapsed": true
   },
   "outputs": [],
   "source": [
    "def execute_three_times(function):\n",
    "    for i in range(3):\n",
    "        function()"
   ]
  },
  {
   "cell_type": "code",
   "execution_count": 18,
   "metadata": {
    "collapsed": false
   },
   "outputs": [
    {
     "name": "stdout",
     "output_type": "stream",
     "text": [
      "hello world\n"
     ]
    },
    {
     "ename": "TypeError",
     "evalue": "'NoneType' object is not callable",
     "output_type": "error",
     "traceback": [
      "\u001b[1;31m---------------------------------------------------------------------------\u001b[0m",
      "\u001b[1;31mTypeError\u001b[0m                                 Traceback (most recent call last)",
      "\u001b[1;32m<ipython-input-18-7fd8f2c9d2a5>\u001b[0m in \u001b[0;36m<module>\u001b[1;34m()\u001b[0m\n\u001b[1;32m----> 1\u001b[1;33m \u001b[0mexecute_three_times\u001b[0m\u001b[1;33m(\u001b[0m\u001b[0mhello\u001b[0m\u001b[1;33m(\u001b[0m\u001b[1;33m)\u001b[0m\u001b[1;33m)\u001b[0m\u001b[1;33m\u001b[0m\u001b[0m\n\u001b[0m",
      "\u001b[1;32m<ipython-input-17-0892c1d321b3>\u001b[0m in \u001b[0;36mexecute_three_times\u001b[1;34m(function)\u001b[0m\n\u001b[0;32m      1\u001b[0m \u001b[1;32mdef\u001b[0m \u001b[0mexecute_three_times\u001b[0m\u001b[1;33m(\u001b[0m\u001b[0mfunction\u001b[0m\u001b[1;33m)\u001b[0m\u001b[1;33m:\u001b[0m\u001b[1;33m\u001b[0m\u001b[0m\n\u001b[0;32m      2\u001b[0m     \u001b[1;32mfor\u001b[0m \u001b[0mi\u001b[0m \u001b[1;32min\u001b[0m \u001b[0mrange\u001b[0m\u001b[1;33m(\u001b[0m\u001b[1;36m3\u001b[0m\u001b[1;33m)\u001b[0m\u001b[1;33m:\u001b[0m\u001b[1;33m\u001b[0m\u001b[0m\n\u001b[1;32m----> 3\u001b[1;33m         \u001b[0mfunction\u001b[0m\u001b[1;33m(\u001b[0m\u001b[1;33m)\u001b[0m\u001b[1;33m\u001b[0m\u001b[0m\n\u001b[0m",
      "\u001b[1;31mTypeError\u001b[0m: 'NoneType' object is not callable"
     ]
    }
   ],
   "source": [
    "execute_three_times(hello())"
   ]
  },
  {
   "cell_type": "code",
   "execution_count": 19,
   "metadata": {
    "collapsed": false,
    "scrolled": true
   },
   "outputs": [
    {
     "name": "stdout",
     "output_type": "stream",
     "text": [
      "hello world\n",
      "hello world\n",
      "hello world\n"
     ]
    }
   ],
   "source": [
    "execute_three_times(hello)\n",
    "# 함수를 인자로 받는 것과 함수 결과값을 인자로 받는 것은 다르다."
   ]
  },
  {
   "cell_type": "code",
   "execution_count": 20,
   "metadata": {
    "collapsed": true
   },
   "outputs": [],
   "source": [
    "def double(x):\n",
    "    return x * 2\n",
    "\n",
    "def triple(x):\n",
    "    return x * 3"
   ]
  },
  {
   "cell_type": "code",
   "execution_count": 21,
   "metadata": {
    "collapsed": false
   },
   "outputs": [
    {
     "data": {
      "text/plain": [
       "24"
      ]
     },
     "execution_count": 21,
     "metadata": {},
     "output_type": "execute_result"
    }
   ],
   "source": [
    "temp = double(4)\n",
    "triple(temp) #마찬가지로 결과값이 들어가야 한다."
   ]
  },
  {
   "cell_type": "code",
   "execution_count": 22,
   "metadata": {
    "collapsed": false
   },
   "outputs": [],
   "source": [
    "# bold => <b>...</b>\n",
    "# italic => <i>...</i>\n",
    "# decorator 구현하기 2개\n",
    "# 함수 아무거나 2개 구현하셔서"
   ]
  },
  {
   "cell_type": "code",
   "execution_count": 23,
   "metadata": {
    "collapsed": true
   },
   "outputs": [],
   "source": [
    "def bold(function):\n",
    "    def wrapper(*args, **kwargs):\n",
    "        return \"<b>\" + function(*args, **kwargs) + \"</b>\"\n",
    "    return wrapper\n",
    "\n",
    "def italic(function):\n",
    "    def wrapper(*args, **kwargs):\n",
    "        return \"<i>\" + function(*args, **kwargs) + \"</i>\"\n",
    "    return wrapper\n",
    "\n",
    "@bold\n",
    "@italic\n",
    "def return_hello():\n",
    "    return \"hello world\"\n",
    "\n",
    "def return_goodbye():\n",
    "    return \"good bye\"\n",
    "\n",
    "return_goodbye = bold(italic(return_goodbye))   # decorator 의 실제 기능 ( @... )"
   ]
  },
  {
   "cell_type": "code",
   "execution_count": 24,
   "metadata": {
    "collapsed": false
   },
   "outputs": [
    {
     "data": {
      "text/plain": [
       "'<b><i>hello world</i></b>'"
      ]
     },
     "execution_count": 24,
     "metadata": {},
     "output_type": "execute_result"
    }
   ],
   "source": [
    "return_hello()"
   ]
  },
  {
   "cell_type": "code",
   "execution_count": 25,
   "metadata": {
    "collapsed": false,
    "scrolled": true
   },
   "outputs": [
    {
     "data": {
      "text/plain": [
       "'<b><i>good bye</i></b>'"
      ]
     },
     "execution_count": 25,
     "metadata": {},
     "output_type": "execute_result"
    }
   ],
   "source": [
    "return_goodbye()"
   ]
  },
  {
   "cell_type": "code",
   "execution_count": 26,
   "metadata": {
    "collapsed": false
   },
   "outputs": [
    {
     "data": {
      "text/plain": [
       "'<i><b>good bye</b></i>'"
      ]
     },
     "execution_count": 26,
     "metadata": {},
     "output_type": "execute_result"
    }
   ],
   "source": [
    "@italic\n",
    "@bold\n",
    "def return_goodbye():\n",
    "    return \"good bye\"\n",
    "\n",
    "return_goodbye()"
   ]
  },
  {
   "cell_type": "code",
   "execution_count": 27,
   "metadata": {
    "collapsed": true
   },
   "outputs": [],
   "source": [
    "#함수 안에 함수를 만드는 사례\n",
    "def return_double_function():\n",
    "    def double(x):\n",
    "        return x * 2\n",
    "    return double"
   ]
  },
  {
   "cell_type": "code",
   "execution_count": 28,
   "metadata": {
    "collapsed": false
   },
   "outputs": [
    {
     "data": {
      "text/plain": [
       "<function __main__.return_double_function.<locals>.double>"
      ]
     },
     "execution_count": 28,
     "metadata": {},
     "output_type": "execute_result"
    }
   ],
   "source": [
    "return_double_function()"
   ]
  },
  {
   "cell_type": "code",
   "execution_count": 29,
   "metadata": {
    "collapsed": false
   },
   "outputs": [
    {
     "data": {
      "text/plain": [
       "20"
      ]
     },
     "execution_count": 29,
     "metadata": {},
     "output_type": "execute_result"
    }
   ],
   "source": [
    "return_double_function()(10)"
   ]
  },
  {
   "cell_type": "code",
   "execution_count": 30,
   "metadata": {
    "collapsed": true
   },
   "outputs": [],
   "source": [
    "def return_multiply_function(n):\n",
    "    def multiply(x):\n",
    "        return x * n\n",
    "    return multiply"
   ]
  },
  {
   "cell_type": "code",
   "execution_count": 31,
   "metadata": {
    "collapsed": false
   },
   "outputs": [
    {
     "data": {
      "text/plain": [
       "200"
      ]
     },
     "execution_count": 31,
     "metadata": {},
     "output_type": "execute_result"
    }
   ],
   "source": [
    "return_multiply_function(10)(20)"
   ]
  },
  {
   "cell_type": "code",
   "execution_count": 32,
   "metadata": {
    "collapsed": false
   },
   "outputs": [],
   "source": [
    "double = return_multiply_function(2)\n",
    "triple = return_multiply_function(3)\n",
    "quadruple = return_multiply_function(4)"
   ]
  },
  {
   "cell_type": "code",
   "execution_count": 33,
   "metadata": {
    "collapsed": false
   },
   "outputs": [
    {
     "data": {
      "text/plain": [
       "4"
      ]
     },
     "execution_count": 33,
     "metadata": {},
     "output_type": "execute_result"
    }
   ],
   "source": [
    "double(2)"
   ]
  },
  {
   "cell_type": "code",
   "execution_count": 34,
   "metadata": {
    "collapsed": false
   },
   "outputs": [
    {
     "data": {
      "text/plain": [
       "12"
      ]
     },
     "execution_count": 34,
     "metadata": {},
     "output_type": "execute_result"
    }
   ],
   "source": [
    "triple(4)"
   ]
  },
  {
   "cell_type": "code",
   "execution_count": 35,
   "metadata": {
    "collapsed": false
   },
   "outputs": [
    {
     "data": {
      "text/plain": [
       "40"
      ]
     },
     "execution_count": 35,
     "metadata": {},
     "output_type": "execute_result"
    }
   ],
   "source": [
    "quadruple(10)"
   ]
  },
  {
   "cell_type": "code",
   "execution_count": 36,
   "metadata": {
    "collapsed": false
   },
   "outputs": [
    {
     "data": {
      "text/plain": [
       "2000"
      ]
     },
     "execution_count": 36,
     "metadata": {},
     "output_type": "execute_result"
    }
   ],
   "source": [
    "ten_times = return_multiply_function(10)  # 10을 곱해주는 함수\n",
    "\n",
    "ten_times(200)"
   ]
  },
  {
   "cell_type": "markdown",
   "metadata": {},
   "source": [
    "# 2T_Decorator를 클래스로 변경-Class Decorator"
   ]
  },
  {
   "cell_type": "code",
   "execution_count": 37,
   "metadata": {
    "collapsed": true
   },
   "outputs": [],
   "source": [
    "class Timer():\n",
    "    \n",
    "    def __init__(self, function):\n",
    "        self.function = function"
   ]
  },
  {
   "cell_type": "code",
   "execution_count": 38,
   "metadata": {
    "collapsed": false
   },
   "outputs": [],
   "source": [
    "@Timer\n",
    "def print_hello():\n",
    "    print(\"hello world\")\n",
    "\n",
    "# 함수와 클래스 구현이 100% 동일한 예제이다.\n",
    "#print_hello = Timer(print_hello)   # 이것과 위의 과정과 동일한 표현이다.\n",
    "# print_hello의 type은 Timer class로부터 만들어진 => Timer object 이다."
   ]
  },
  {
   "cell_type": "code",
   "execution_count": 39,
   "metadata": {
    "collapsed": false
   },
   "outputs": [
    {
     "ename": "TypeError",
     "evalue": "'Timer' object is not callable",
     "output_type": "error",
     "traceback": [
      "\u001b[1;31m---------------------------------------------------------------------------\u001b[0m",
      "\u001b[1;31mTypeError\u001b[0m                                 Traceback (most recent call last)",
      "\u001b[1;32m<ipython-input-39-bdb96ee6feed>\u001b[0m in \u001b[0;36m<module>\u001b[1;34m()\u001b[0m\n\u001b[1;32m----> 1\u001b[1;33m \u001b[0mprint_hello\u001b[0m\u001b[1;33m(\u001b[0m\u001b[1;33m)\u001b[0m  \u001b[1;31m#오류의 이유는 timer 객체에다가 함수를 부르듯이 불렀기 때문에\u001b[0m\u001b[1;33m\u001b[0m\u001b[0m\n\u001b[0m",
      "\u001b[1;31mTypeError\u001b[0m: 'Timer' object is not callable"
     ]
    }
   ],
   "source": [
    "print_hello()  #오류의 이유는 timer 객체에다가 함수를 부르듯이 불렀기 때문에"
   ]
  },
  {
   "cell_type": "code",
   "execution_count": 40,
   "metadata": {
    "collapsed": true
   },
   "outputs": [],
   "source": [
    "class Student():\n",
    "    \n",
    "    def __init__(self, name):\n",
    "        self.name = name"
   ]
  },
  {
   "cell_type": "code",
   "execution_count": 41,
   "metadata": {
    "collapsed": true
   },
   "outputs": [],
   "source": [
    "student = Student(\"kkp\")"
   ]
  },
  {
   "cell_type": "code",
   "execution_count": 42,
   "metadata": {
    "collapsed": false
   },
   "outputs": [
    {
     "ename": "TypeError",
     "evalue": "'Student' object is not callable",
     "output_type": "error",
     "traceback": [
      "\u001b[1;31m---------------------------------------------------------------------------\u001b[0m",
      "\u001b[1;31mTypeError\u001b[0m                                 Traceback (most recent call last)",
      "\u001b[1;32m<ipython-input-42-0522124fd769>\u001b[0m in \u001b[0;36m<module>\u001b[1;34m()\u001b[0m\n\u001b[1;32m----> 1\u001b[1;33m \u001b[0mstudent\u001b[0m\u001b[1;33m(\u001b[0m\u001b[1;33m)\u001b[0m  \u001b[1;31m#마찬가지 이류로 오류가 난다.\u001b[0m\u001b[1;33m\u001b[0m\u001b[0m\n\u001b[0m",
      "\u001b[1;31mTypeError\u001b[0m: 'Student' object is not callable"
     ]
    }
   ],
   "source": [
    "student()  #마찬가지 이류로 오류가 난다."
   ]
  },
  {
   "cell_type": "code",
   "execution_count": 43,
   "metadata": {
    "collapsed": true
   },
   "outputs": [],
   "source": [
    "class HelloWorld():\n",
    "    \n",
    "    def __init__(self):\n",
    "        print(\"init\")\n",
    "        \n",
    "    def __call__(self):   # 객체가 함수처럼 호출되면, `self()` 될 때, 실행된다.\n",
    "        print(\"hello world\")\n"
   ]
  },
  {
   "cell_type": "code",
   "execution_count": 44,
   "metadata": {
    "collapsed": false
   },
   "outputs": [
    {
     "name": "stdout",
     "output_type": "stream",
     "text": [
      "init\n"
     ]
    }
   ],
   "source": [
    "helloworld = HelloWorld()"
   ]
  },
  {
   "cell_type": "code",
   "execution_count": 45,
   "metadata": {
    "collapsed": false
   },
   "outputs": [
    {
     "name": "stdout",
     "output_type": "stream",
     "text": [
      "hello world\n"
     ]
    }
   ],
   "source": [
    "helloworld() #__call__ 함수 없었으면 오류가 난다."
   ]
  },
  {
   "cell_type": "code",
   "execution_count": 46,
   "metadata": {
    "collapsed": false,
    "scrolled": false
   },
   "outputs": [
    {
     "data": {
      "text/plain": [
       "['__call__',\n",
       " '__class__',\n",
       " '__delattr__',\n",
       " '__dict__',\n",
       " '__dir__',\n",
       " '__doc__',\n",
       " '__eq__',\n",
       " '__format__',\n",
       " '__ge__',\n",
       " '__getattribute__',\n",
       " '__gt__',\n",
       " '__hash__',\n",
       " '__init__',\n",
       " '__le__',\n",
       " '__lt__',\n",
       " '__module__',\n",
       " '__ne__',\n",
       " '__new__',\n",
       " '__reduce__',\n",
       " '__reduce_ex__',\n",
       " '__repr__',\n",
       " '__setattr__',\n",
       " '__sizeof__',\n",
       " '__str__',\n",
       " '__subclasshook__',\n",
       " '__weakref__']"
      ]
     },
     "execution_count": 46,
     "metadata": {},
     "output_type": "execute_result"
    }
   ],
   "source": [
    "dir(helloworld)   #메쏘드와 속성들을 볼 수 있다."
   ]
  },
  {
   "cell_type": "markdown",
   "metadata": {
    "collapsed": true
   },
   "source": [
    "* 상속 => 상위 클래스의 기능과(메쏘드) 값(속성)을 그대로 가져오기 위해서 => 기능의 확장\n",
    "* Decorator => 함수의 wrapper (함수가 실행되는 시점에 결과를 다르게 하고 싶거나 함수로 새로운 함수를 만들 때 데코레이터를 쓴다.)"
   ]
  },
  {
   "cell_type": "code",
   "execution_count": 47,
   "metadata": {
    "collapsed": true
   },
   "outputs": [],
   "source": [
    "# Memoization, 기존의 결과값을 어딘가에 저장을 해서\n",
    "# Factorial ( n! = n * n-1 * ... * 2 * 1 ) 을 함수로 구현\n",
    "\n",
    "cache = {}\n",
    "\n",
    "def factorial(n):\n",
    "    \n",
    "    if n <= 1:\n",
    "        result = cache[n] = 1\n",
    "        return result\n",
    "    \n",
    "    if n in cache:\n",
    "        return cache[n]\n",
    "    \n",
    "    result = n * factorial(n-1)\n",
    "    cache[n] = result\n",
    "    return result"
   ]
  },
  {
   "cell_type": "code",
   "execution_count": 48,
   "metadata": {
    "collapsed": false
   },
   "outputs": [
    {
     "data": {
      "text/plain": [
       "3628800"
      ]
     },
     "execution_count": 48,
     "metadata": {},
     "output_type": "execute_result"
    }
   ],
   "source": [
    "factorial(10)"
   ]
  },
  {
   "cell_type": "code",
   "execution_count": 49,
   "metadata": {
    "collapsed": false
   },
   "outputs": [
    {
     "data": {
      "text/plain": [
       "{1: 1,\n",
       " 2: 2,\n",
       " 3: 6,\n",
       " 4: 24,\n",
       " 5: 120,\n",
       " 6: 720,\n",
       " 7: 5040,\n",
       " 8: 40320,\n",
       " 9: 362880,\n",
       " 10: 3628800}"
      ]
     },
     "execution_count": 49,
     "metadata": {},
     "output_type": "execute_result"
    }
   ],
   "source": [
    "cache"
   ]
  },
  {
   "cell_type": "code",
   "execution_count": 50,
   "metadata": {
    "collapsed": true
   },
   "outputs": [],
   "source": [
    "class Factorial():\n",
    "    \n",
    "    def __init__(self):  # 클래스 객체가 초기화될 때 실행되는 메쏘드\n",
    "        self.cache = {}  # factorial 에 대한 연산 결과를 저장하고 있는 dict \n",
    "    \n",
    "    def __call__(self, n):  # 클래스 객체가 함수처럼 불릴 때 실행되는 메쏘드 ( `self(n)`, callable )\n",
    "        if n <= 1:\n",
    "            result = self.cache[n] = 1\n",
    "            return result\n",
    "\n",
    "        if n in self.cache:\n",
    "            return self.cache[n]\n",
    "\n",
    "        result = n * self.__call__(n-1)  # 결과를 계산하고, 그 결과를 result\n",
    "        self.cache[n] = result   # self.cache => {1..., n: result}\n",
    "        return result\n",
    "    \n",
    "    def __str__(self):   # 클래스 객체를 print 할 때 실행되는 메쏘드 ( `print(self)` )\n",
    "        return \"\\n\".join([\n",
    "            \"{key}! == {value}\".format(key=key, value=value)\n",
    "            for key, value\n",
    "            in self.cache.items()\n",
    "        ])\n",
    "\n",
    "# Class Decorator => 구현할 수 있겠구나"
   ]
  },
  {
   "cell_type": "code",
   "execution_count": 51,
   "metadata": {
    "collapsed": true
   },
   "outputs": [],
   "source": [
    "factorial = Factorial()  #factorial이라는 클래스에 Factorial()이라는 객체를 만듦"
   ]
  },
  {
   "cell_type": "code",
   "execution_count": 52,
   "metadata": {
    "collapsed": false
   },
   "outputs": [
    {
     "data": {
      "text/plain": [
       "120"
      ]
     },
     "execution_count": 52,
     "metadata": {},
     "output_type": "execute_result"
    }
   ],
   "source": [
    "factorial(5)"
   ]
  },
  {
   "cell_type": "code",
   "execution_count": 53,
   "metadata": {
    "collapsed": false
   },
   "outputs": [
    {
     "data": {
      "text/plain": [
       "{1: 1, 2: 2, 3: 6, 4: 24, 5: 120}"
      ]
     },
     "execution_count": 53,
     "metadata": {},
     "output_type": "execute_result"
    }
   ],
   "source": [
    "factorial.cache"
   ]
  },
  {
   "cell_type": "code",
   "execution_count": 54,
   "metadata": {
    "collapsed": false
   },
   "outputs": [
    {
     "name": "stdout",
     "output_type": "stream",
     "text": [
      "1! == 1\n",
      "2! == 2\n",
      "3! == 6\n",
      "4! == 24\n",
      "5! == 120\n"
     ]
    }
   ],
   "source": [
    "print(factorial)"
   ]
  },
  {
   "cell_type": "code",
   "execution_count": 55,
   "metadata": {
    "collapsed": false
   },
   "outputs": [
    {
     "data": {
      "text/plain": [
       "True"
      ]
     },
     "execution_count": 55,
     "metadata": {},
     "output_type": "execute_result"
    }
   ],
   "source": [
    "\"강아지\" in [\"강아지\", \"고양이\", \"이구아나\"]"
   ]
  },
  {
   "cell_type": "code",
   "execution_count": 56,
   "metadata": {
    "collapsed": false
   },
   "outputs": [
    {
     "data": {
      "text/plain": [
       "True"
      ]
     },
     "execution_count": 56,
     "metadata": {},
     "output_type": "execute_result"
    }
   ],
   "source": [
    "\"강아지\" in {\"강아지\": \"dog\", \"고양이\": \"cat\"}"
   ]
  },
  {
   "cell_type": "code",
   "execution_count": 57,
   "metadata": {
    "collapsed": false
   },
   "outputs": [
    {
     "data": {
      "text/plain": [
       "True"
      ]
     },
     "execution_count": 57,
     "metadata": {},
     "output_type": "execute_result"
    }
   ],
   "source": [
    "\"dog\" in {\"강아지\": \"dog\", \"고양이\": \"cat\"}.values()"
   ]
  },
  {
   "cell_type": "code",
   "execution_count": 58,
   "metadata": {
    "collapsed": false
   },
   "outputs": [
    {
     "data": {
      "text/plain": [
       "dict_keys(['고양이', '강아지'])"
      ]
     },
     "execution_count": 58,
     "metadata": {},
     "output_type": "execute_result"
    }
   ],
   "source": [
    "{\"강아지\": \"dog\", \"고양이\": \"cat\"}.keys()"
   ]
  },
  {
   "cell_type": "code",
   "execution_count": 59,
   "metadata": {
    "collapsed": false
   },
   "outputs": [
    {
     "data": {
      "text/plain": [
       "dict_values(['cat', 'dog'])"
      ]
     },
     "execution_count": 59,
     "metadata": {},
     "output_type": "execute_result"
    }
   ],
   "source": [
    "{\"강아지\": \"dog\", \"고양이\": \"cat\"}.values()"
   ]
  },
  {
   "cell_type": "code",
   "execution_count": 60,
   "metadata": {
    "collapsed": false
   },
   "outputs": [
    {
     "data": {
      "text/plain": [
       "dict_items([('고양이', 'cat'), ('강아지', 'dog')])"
      ]
     },
     "execution_count": 60,
     "metadata": {},
     "output_type": "execute_result"
    }
   ],
   "source": [
    "{\"강아지\": \"dog\", \"고양이\": \"cat\"}.items()"
   ]
  },
  {
   "cell_type": "code",
   "execution_count": 61,
   "metadata": {
    "collapsed": true
   },
   "outputs": [],
   "source": [
    "cache = {}"
   ]
  },
  {
   "cell_type": "code",
   "execution_count": 62,
   "metadata": {
    "collapsed": true
   },
   "outputs": [],
   "source": [
    "cache[1] = 1"
   ]
  },
  {
   "cell_type": "code",
   "execution_count": 63,
   "metadata": {
    "collapsed": false
   },
   "outputs": [
    {
     "data": {
      "text/plain": [
       "{1: 1}"
      ]
     },
     "execution_count": 63,
     "metadata": {},
     "output_type": "execute_result"
    }
   ],
   "source": [
    "cache"
   ]
  },
  {
   "cell_type": "code",
   "execution_count": 64,
   "metadata": {
    "collapsed": true
   },
   "outputs": [],
   "source": [
    "cache[2] = 2"
   ]
  },
  {
   "cell_type": "code",
   "execution_count": 65,
   "metadata": {
    "collapsed": false
   },
   "outputs": [
    {
     "data": {
      "text/plain": [
       "{1: 1, 2: 2}"
      ]
     },
     "execution_count": 65,
     "metadata": {},
     "output_type": "execute_result"
    }
   ],
   "source": [
    "cache"
   ]
  },
  {
   "cell_type": "markdown",
   "metadata": {},
   "source": [
    "# 3,4T_decorator(class)_fastcampus 예제"
   ]
  },
  {
   "cell_type": "code",
   "execution_count": 66,
   "metadata": {
    "collapsed": true
   },
   "outputs": [],
   "source": [
    "class Timer():\n",
    "    def __init__(self, function):\n",
    "        self.function = function"
   ]
  },
  {
   "cell_type": "code",
   "execution_count": 67,
   "metadata": {
    "collapsed": true
   },
   "outputs": [],
   "source": [
    "@Timer\n",
    "def print_hello():\n",
    "    print(\"hello world\")\n",
    "\n",
    "# print_hello == Timer(print_hello)\n",
    "# print_hello() == Timer(print_hello)()  # Class => callable => __call__(self...)"
   ]
  },
  {
   "cell_type": "code",
   "execution_count": 68,
   "metadata": {
    "collapsed": false,
    "scrolled": true
   },
   "outputs": [
    {
     "ename": "TypeError",
     "evalue": "'Timer' object is not callable",
     "output_type": "error",
     "traceback": [
      "\u001b[1;31m---------------------------------------------------------------------------\u001b[0m",
      "\u001b[1;31mTypeError\u001b[0m                                 Traceback (most recent call last)",
      "\u001b[1;32m<ipython-input-68-706cf67589fb>\u001b[0m in \u001b[0;36m<module>\u001b[1;34m()\u001b[0m\n\u001b[1;32m----> 1\u001b[1;33m \u001b[0mprint_hello\u001b[0m\u001b[1;33m(\u001b[0m\u001b[1;33m)\u001b[0m  \u001b[1;31m#오류가 나기 때문에 __call__ 불러야지\u001b[0m\u001b[1;33m\u001b[0m\u001b[0m\n\u001b[0m",
      "\u001b[1;31mTypeError\u001b[0m: 'Timer' object is not callable"
     ]
    }
   ],
   "source": [
    "print_hello()  #오류가 나기 때문에 __call__ 불러야지"
   ]
  },
  {
   "cell_type": "code",
   "execution_count": 69,
   "metadata": {
    "collapsed": true
   },
   "outputs": [],
   "source": [
    "class Timer():\n",
    "    def __init__(self, function):\n",
    "        self.function = function\n",
    "        \n",
    "    def __call__(self):\n",
    "        result = self.function()\n",
    "        return result"
   ]
  },
  {
   "cell_type": "code",
   "execution_count": 70,
   "metadata": {
    "collapsed": true
   },
   "outputs": [],
   "source": [
    "@Timer\n",
    "def print_hello():\n",
    "    print(\"hello world\")"
   ]
  },
  {
   "cell_type": "code",
   "execution_count": 71,
   "metadata": {
    "collapsed": false
   },
   "outputs": [
    {
     "name": "stdout",
     "output_type": "stream",
     "text": [
      "hello world\n"
     ]
    }
   ],
   "source": [
    "print_hello()"
   ]
  },
  {
   "cell_type": "code",
   "execution_count": 72,
   "metadata": {
    "collapsed": true
   },
   "outputs": [],
   "source": [
    "import time\n",
    "\n",
    "\n",
    "class Timer():\n",
    "    \n",
    "    def __init__(self, function):\n",
    "        self.function = function\n",
    "        \n",
    "    def __call__(self):\n",
    "        # __call__ => function decorator 에서의 wrapper 와 동일한 역할\n",
    "        start_time = time.time()\n",
    "        result = self.function()\n",
    "        end_time = time.time()\n",
    "        print(\"{time}s\".format(time=end_time-start_time))\n",
    "        return result"
   ]
  },
  {
   "cell_type": "code",
   "execution_count": 73,
   "metadata": {
    "collapsed": true
   },
   "outputs": [],
   "source": [
    "@Timer\n",
    "def print_hello():\n",
    "    print(\"hello world\")"
   ]
  },
  {
   "cell_type": "code",
   "execution_count": 74,
   "metadata": {
    "collapsed": false,
    "scrolled": false
   },
   "outputs": [
    {
     "name": "stdout",
     "output_type": "stream",
     "text": [
      "hello world\n",
      "0.0s\n"
     ]
    }
   ],
   "source": [
    "print_hello()"
   ]
  },
  {
   "cell_type": "code",
   "execution_count": 75,
   "metadata": {
    "collapsed": true
   },
   "outputs": [],
   "source": [
    "@Timer\n",
    "def print_hello(name):\n",
    "    print(\"hello, \" + name)"
   ]
  },
  {
   "cell_type": "code",
   "execution_count": 76,
   "metadata": {
    "collapsed": false
   },
   "outputs": [
    {
     "ename": "TypeError",
     "evalue": "__call__() takes 1 positional argument but 2 were given",
     "output_type": "error",
     "traceback": [
      "\u001b[1;31m---------------------------------------------------------------------------\u001b[0m",
      "\u001b[1;31mTypeError\u001b[0m                                 Traceback (most recent call last)",
      "\u001b[1;32m<ipython-input-76-740bc77d71f3>\u001b[0m in \u001b[0;36m<module>\u001b[1;34m()\u001b[0m\n\u001b[1;32m----> 1\u001b[1;33m \u001b[0mprint_hello\u001b[0m\u001b[1;33m(\u001b[0m\u001b[1;34m\"kkp\"\u001b[0m\u001b[1;33m)\u001b[0m   \u001b[1;31m#오류가 난다. 그래서 args, kwarg를 넣어줘야 한다.\u001b[0m\u001b[1;33m\u001b[0m\u001b[0m\n\u001b[0m",
      "\u001b[1;31mTypeError\u001b[0m: __call__() takes 1 positional argument but 2 were given"
     ]
    }
   ],
   "source": [
    "print_hello(\"kkp\")   #오류가 난다. 그래서 args, kwarg를 넣어줘야 한다."
   ]
  },
  {
   "cell_type": "code",
   "execution_count": 77,
   "metadata": {
    "collapsed": true
   },
   "outputs": [],
   "source": [
    "import time\n",
    "\n",
    "\n",
    "class Timer():\n",
    "    \n",
    "    def __init__(self, function):\n",
    "        self.function = function\n",
    "        \n",
    "    def __call__(self, *args, **kwargs):\n",
    "        start_time = time.time()\n",
    "        result = self.function(*args, **kwargs)\n",
    "        end_time = time.time()\n",
    "        print(\"{time}s\".format(time=end_time-start_time))\n",
    "        return result"
   ]
  },
  {
   "cell_type": "code",
   "execution_count": 78,
   "metadata": {
    "collapsed": true
   },
   "outputs": [],
   "source": [
    "@Timer\n",
    "def print_hello(name):\n",
    "    print(\"hello, \" + name)"
   ]
  },
  {
   "cell_type": "code",
   "execution_count": 79,
   "metadata": {
    "collapsed": false
   },
   "outputs": [
    {
     "name": "stdout",
     "output_type": "stream",
     "text": [
      "hello, kkp\n",
      "0.0s\n"
     ]
    }
   ],
   "source": [
    "print_hello(\"kkp\")"
   ]
  },
  {
   "cell_type": "code",
   "execution_count": 80,
   "metadata": {
    "collapsed": true
   },
   "outputs": [],
   "source": [
    "import time\n",
    "\n",
    "\n",
    "class Timer():\n",
    "    \n",
    "    def __init__(self, function):\n",
    "        self.function = function\n",
    "        \n",
    "    def __call__(self, *args, **kwargs):\n",
    "        print(args)\n",
    "        print(kwargs)\n",
    "        start_time = time.time()\n",
    "        result = self.function(*args, **kwargs)\n",
    "        end_time = time.time()\n",
    "        print(\"{time}s\".format(time=end_time-start_time))\n",
    "        return result"
   ]
  },
  {
   "cell_type": "code",
   "execution_count": 81,
   "metadata": {
    "collapsed": true
   },
   "outputs": [],
   "source": [
    "def print_name_and_age(**kwargs):\n",
    "    for key, value in kwargs.items():\n",
    "        print(\"{key} => {value}\".format(key=key, value=value))\n",
    "#일반적인 방법"
   ]
  },
  {
   "cell_type": "code",
   "execution_count": 82,
   "metadata": {
    "collapsed": false
   },
   "outputs": [
    {
     "name": "stdout",
     "output_type": "stream",
     "text": [
      "name => kkp\n",
      "age => 29\n"
     ]
    }
   ],
   "source": [
    "print_name_and_age(name=\"kkp\", age=29)"
   ]
  },
  {
   "cell_type": "code",
   "execution_count": 83,
   "metadata": {
    "collapsed": true
   },
   "outputs": [],
   "source": [
    "def print_name_and_age(**kwargs):\n",
    "    if kwargs.get(\"name\"):   #kwargs에 name이 있었으면\n",
    "        print(\"name => {name}\".format(name=kwargs.get(\"name\")))\n",
    "        \n",
    "    if kwargs.get(\"age\"):   #kwargs에 age가 있었으면\n",
    "        print(\"나이도 입력받았습니다.\")"
   ]
  },
  {
   "cell_type": "code",
   "execution_count": 84,
   "metadata": {
    "collapsed": false
   },
   "outputs": [
    {
     "name": "stdout",
     "output_type": "stream",
     "text": [
      "name => kkp\n"
     ]
    }
   ],
   "source": [
    "print_name_and_age(name=\"kkp\")"
   ]
  },
  {
   "cell_type": "code",
   "execution_count": 85,
   "metadata": {
    "collapsed": false
   },
   "outputs": [
    {
     "name": "stdout",
     "output_type": "stream",
     "text": [
      "나이도 입력받았습니다.\n"
     ]
    }
   ],
   "source": [
    "print_name_and_age(age=29)"
   ]
  },
  {
   "cell_type": "code",
   "execution_count": 86,
   "metadata": {
    "collapsed": false,
    "scrolled": false
   },
   "outputs": [
    {
     "name": "stdout",
     "output_type": "stream",
     "text": [
      "name => kkp\n",
      "나이도 입력받았습니다.\n"
     ]
    }
   ],
   "source": [
    "print_name_and_age(name=\"kkp\", age=29)"
   ]
  },
  {
   "cell_type": "code",
   "execution_count": null,
   "metadata": {
    "collapsed": true
   },
   "outputs": [],
   "source": []
  },
  {
   "cell_type": "code",
   "execution_count": 87,
   "metadata": {
    "collapsed": true
   },
   "outputs": [],
   "source": [
    "class Tagify():\n",
    "    #<b><i>...</i></b>\n",
    "    def __init__(self, function):\n",
    "        self.function = function\n",
    "        \n",
    "    def __call__(self, *args, **kwargs):\n",
    "        boldify = \"<b>\" + self.function(*args, **kwargs) + \"</b>\"\n",
    "        italicfy = \"<i>\" + boldify + \"</i>\"\n",
    "        return italicfy"
   ]
  },
  {
   "cell_type": "code",
   "execution_count": 88,
   "metadata": {
    "collapsed": false
   },
   "outputs": [
    {
     "data": {
      "text/plain": [
       "'<i><b>hello world</b></i>'"
      ]
     },
     "execution_count": 88,
     "metadata": {},
     "output_type": "execute_result"
    }
   ],
   "source": [
    "@Tagify\n",
    "def print_hello():\n",
    "    return \"hello world\"\n",
    "\n",
    "print_hello()"
   ]
  },
  {
   "cell_type": "code",
   "execution_count": 89,
   "metadata": {
    "collapsed": true
   },
   "outputs": [],
   "source": [
    "class Tagify():\n",
    "    # <p><b><i>...</i></b></p>\n",
    "    \n",
    "    def __init__(self, function):\n",
    "        self.function = function\n",
    "        \n",
    "    def __call__(self, *args, **kwargs):\n",
    "        paragraphify = self.tagify(\"p\", self.function(*args, **kwargs))\n",
    "        boldify = self.tagify(\"b\", paragraphify)\n",
    "        italicfy = self.tagify(\"i\", boldify)\n",
    "        return italicfy\n",
    "    \n",
    "    def tagify(self, tag, text):\n",
    "        return \"<{tag}>{text}</{tag}>\".format(\n",
    "            tag=tag,\n",
    "            text=text,\n",
    "        )"
   ]
  },
  {
   "cell_type": "code",
   "execution_count": 90,
   "metadata": {
    "collapsed": false
   },
   "outputs": [
    {
     "data": {
      "text/plain": [
       "'<i><b><p>hello world</p></b></i>'"
      ]
     },
     "execution_count": 90,
     "metadata": {},
     "output_type": "execute_result"
    }
   ],
   "source": [
    "@Tagify\n",
    "def print_hello():\n",
    "    return \"hello world\"\n",
    "\n",
    "print_hello()"
   ]
  }
 ],
 "metadata": {
  "kernelspec": {
   "display_name": "Python [Root]",
   "language": "python",
   "name": "Python [Root]"
  },
  "language_info": {
   "codemirror_mode": {
    "name": "ipython",
    "version": 3
   },
   "file_extension": ".py",
   "mimetype": "text/x-python",
   "name": "python",
   "nbconvert_exporter": "python",
   "pygments_lexer": "ipython3",
   "version": "3.5.1"
  }
 },
 "nbformat": 4,
 "nbformat_minor": 0
}
