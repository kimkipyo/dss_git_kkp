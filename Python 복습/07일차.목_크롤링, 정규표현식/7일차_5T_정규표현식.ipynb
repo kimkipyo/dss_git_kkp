{
 "cells": [
  {
   "cell_type": "code",
   "execution_count": 1,
   "metadata": {
    "collapsed": true
   },
   "outputs": [],
   "source": [
    "# 정규표현식( 텍스트 => 텍스트에서 의미 있는 데이터만 뽑아내는)\n",
    "# 하나의 언어라고 보면 된다. 사실 엄청나게 복잡한 분야이다.\n",
    "# 정규표현식으로 들어가기 위한 개요\n",
    "# 테스팅 개요"
   ]
  },
  {
   "cell_type": "code",
   "execution_count": 2,
   "metadata": {
    "collapsed": true
   },
   "outputs": [],
   "source": [
    "def double(x):\n",
    "    \"\"\"x를 받아서 2배 불려주는 좋은 함수입니다.\"\"\"\n",
    "    return x * 2"
   ]
  },
  {
   "cell_type": "code",
   "execution_count": 3,
   "metadata": {
    "collapsed": true
   },
   "outputs": [],
   "source": [
    "double?"
   ]
  },
  {
   "cell_type": "code",
   "execution_count": 4,
   "metadata": {
    "collapsed": true
   },
   "outputs": [],
   "source": [
    "# 테스트 코드(넓은 의미의)\n",
    "if not double(2) == 4:\n",
    "    raise Exception()\n",
    "if not double(10) == 20:\n",
    "    raise Exception()"
   ]
  },
  {
   "cell_type": "code",
   "execution_count": 5,
   "metadata": {
    "collapsed": false
   },
   "outputs": [
    {
     "ename": "Exception",
     "evalue": "",
     "output_type": "error",
     "traceback": [
      "\u001b[1;31m---------------------------------------------------------------------------\u001b[0m",
      "\u001b[1;31mException\u001b[0m                                 Traceback (most recent call last)",
      "\u001b[1;32m<ipython-input-5-51e8d76e517c>\u001b[0m in \u001b[0;36m<module>\u001b[1;34m()\u001b[0m\n\u001b[0;32m      2\u001b[0m     \u001b[1;32mreturn\u001b[0m \u001b[0mx\u001b[0m \u001b[1;33m*\u001b[0m \u001b[1;36m2\u001b[0m \u001b[1;33m+\u001b[0m \u001b[1;36m1\u001b[0m\u001b[1;33m\u001b[0m\u001b[0m\n\u001b[0;32m      3\u001b[0m \u001b[1;32mif\u001b[0m \u001b[1;32mnot\u001b[0m \u001b[0mdouble\u001b[0m\u001b[1;33m(\u001b[0m\u001b[1;36m2\u001b[0m\u001b[1;33m)\u001b[0m \u001b[1;33m==\u001b[0m \u001b[1;36m4\u001b[0m\u001b[1;33m:\u001b[0m\u001b[1;33m\u001b[0m\u001b[0m\n\u001b[1;32m----> 4\u001b[1;33m     \u001b[1;32mraise\u001b[0m \u001b[0mException\u001b[0m\u001b[1;33m(\u001b[0m\u001b[1;33m)\u001b[0m\u001b[1;33m\u001b[0m\u001b[0m\n\u001b[0m\u001b[0;32m      5\u001b[0m \u001b[1;31m# 이렇게 하면 오류\u001b[0m\u001b[1;33m\u001b[0m\u001b[1;33m\u001b[0m\u001b[0m\n",
      "\u001b[1;31mException\u001b[0m: "
     ]
    }
   ],
   "source": [
    "def double(x):\n",
    "    return x * 2 + 1\n",
    "if not double(2) == 4:\n",
    "    raise Exception()\n",
    "# 이렇게 하면 오류"
   ]
  },
  {
   "cell_type": "code",
   "execution_count": null,
   "metadata": {
    "collapsed": false,
    "scrolled": true
   },
   "outputs": [],
   "source": [
    "#테스크 코드 조금 더 쉽게 하기 위해서 assert라는 것이 있다.\n",
    "assert double(5) is 10"
   ]
  },
  {
   "cell_type": "code",
   "execution_count": 6,
   "metadata": {
    "collapsed": false
   },
   "outputs": [
    {
     "ename": "AssertionError",
     "evalue": "",
     "output_type": "error",
     "traceback": [
      "\u001b[1;31m---------------------------------------------------------------------------\u001b[0m",
      "\u001b[1;31mAssertionError\u001b[0m                            Traceback (most recent call last)",
      "\u001b[1;32m<ipython-input-6-f40e74cb31ec>\u001b[0m in \u001b[0;36m<module>\u001b[1;34m()\u001b[0m\n\u001b[1;32m----> 1\u001b[1;33m \u001b[1;32massert\u001b[0m \u001b[0mdouble\u001b[0m\u001b[1;33m(\u001b[0m\u001b[1;36m10\u001b[0m\u001b[1;33m)\u001b[0m \u001b[1;33m==\u001b[0m \u001b[1;36m20\u001b[0m\u001b[1;33m\u001b[0m\u001b[0m\n\u001b[0m",
      "\u001b[1;31mAssertionError\u001b[0m: "
     ]
    }
   ],
   "source": [
    "assert double(10) == 20"
   ]
  },
  {
   "cell_type": "markdown",
   "metadata": {},
   "source": [
    "* 이 자체로 훌륭한 테스트 코드라고 말하는 것은 어렵다.\n",
    "* 주피터 노트북용 테스트 코드였다.\n",
    "* python에서는 테스트 코드를 작성할 수 있는 unittest 모듈을 제공한다."
   ]
  },
  {
   "cell_type": "code",
   "execution_count": 7,
   "metadata": {
    "collapsed": false
   },
   "outputs": [],
   "source": [
    "# 우선 형태만 보면\n",
    "# class TestDoubleFunction(unittest.TestCase):  \n",
    "#     def test_5_should_return_10(self):\n",
    "#         self.assertEqual(double(5), 10)   # 이거랑 동일 assert double(5) == 10\n",
    "# 주피터노트북에서는 이러한 형태로 테스트 못한다. 그래서 일단 pass"
   ]
  },
  {
   "cell_type": "code",
   "execution_count": 8,
   "metadata": {
    "collapsed": true
   },
   "outputs": [],
   "source": [
    "# 우선 hello.py라는 txt파일을 만든다. 안에 내용은\n",
    "# def hello(name):\n",
    "#     print(\"hello, {name}\".format(name=name))\n",
    "    \n",
    "# hello(\"kimkipoy\")\n",
    "# hello(\"김기표\")"
   ]
  },
  {
   "cell_type": "code",
   "execution_count": 9,
   "metadata": {
    "collapsed": false,
    "scrolled": false
   },
   "outputs": [
    {
     "name": "stdout",
     "output_type": "stream",
     "text": [
      "hello, kimkipoy\n",
      "hello, 김기표\n"
     ]
    }
   ],
   "source": [
    "%run hello.py"
   ]
  },
  {
   "cell_type": "markdown",
   "metadata": {},
   "source": [
    "##### 개발 프로세스를 살펴보면\n",
    "* TDD => 테스트 주도 개발 ( Test Driven Development )\n",
    "* 왜 중요할까요?\n",
    "* 테스트 > 코드 => \"테스트 코드가 원래 코드보다 더 많으니까 개발 시간이 일단 오래 걸려요\"\n",
    "* 프로젝트가 커지면 커질수록, 의존성++\n",
    "* 테스트 코드 (X) => 유지보수 하기가 굉장히 어렵다.\n",
    "* 조그마한 기능 단위로 테스팅을 무조건 시작해야합니다. ( unit test ) => 통합 테스트 ( integration test )"
   ]
  },
  {
   "cell_type": "markdown",
   "metadata": {
    "collapsed": true
   },
   "source": [
    "##### 테스트 주도 개발을 시작하는 방법\n",
    "* 유닛 테스트를 합니다.\n",
    " * 테스트 시나리오 => 일련의 기능들을 어떤 순서와 방법으로 여러 형태를 테스트를 해보는 프로세스를 정한다.\n",
    "* TDD Cycle을 아래 3개처럼 부른다.\n",
    " * RED => 경고. 테스트가 실패 합니다.\n",
    " * GREEN => 테스트가 성공하도록 코드를 변경함\n",
    " * Refactor => 계속 성공하면서, 코드를 더 예쁘게 리팩토링 합니다."
   ]
  },
  {
   "cell_type": "code",
   "execution_count": 10,
   "metadata": {
    "collapsed": true
   },
   "outputs": [],
   "source": [
    "# 직접 해 볼 양식\n",
    "# \"김기표, 010-6235-3317, 주소\\\"\n",
    "# def preprocess_user_information(information):\n",
    "#     pass\n",
    "# \"김기표, 010-6235-****\"\n",
    "\n",
    "#함수를 짜기 전에 먼저 테스트 코드를 짠다."
   ]
  },
  {
   "cell_type": "code",
   "execution_count": 11,
   "metadata": {
    "collapsed": false
   },
   "outputs": [],
   "source": [
    "def preprocess_user_information(information):\n",
    "    return information[:-4] + \"****\"\n",
    "\n",
    "assert preprocess_user_information(\"김기표, 010-6235-3317\") == \"김기표, 010-6235-****\"\n",
    "assert preprocess_user_information(\"김기정, 010-6666-3317\") == \"김기정, 010-6666-****\"\n",
    "assert preprocess_user_information(\"김기, 010-1111-5736\") == \"김기, 010-1111-****\""
   ]
  },
  {
   "cell_type": "code",
   "execution_count": null,
   "metadata": {
    "collapsed": true
   },
   "outputs": [],
   "source": []
  },
  {
   "cell_type": "code",
   "execution_count": 12,
   "metadata": {
    "collapsed": true
   },
   "outputs": [],
   "source": [
    "#root폴더에다가 txt파일을 만들어라. 아래와 같은 양식으로\n",
    "# 김기표, 880518-1111111\n",
    "# 김기표일, 880518-222222\n",
    "# 김기표이, 880518-333333\n",
    "# 김기표삼, 880518-444444\n",
    "# 김사, 880518-555555"
   ]
  },
  {
   "cell_type": "code",
   "execution_count": 13,
   "metadata": {
    "collapsed": false
   },
   "outputs": [],
   "source": [
    "def get_information(file_name):\n",
    "    with open(file_name, \"r\", encoding='utf8') as f:\n",
    "        return f.read()"
   ]
  },
  {
   "cell_type": "code",
   "execution_count": 14,
   "metadata": {
    "collapsed": false
   },
   "outputs": [
    {
     "data": {
      "text/plain": [
       "'김기표, 880518-1111111\\n김기표일, 880518-222222\\n김기표이, 880518-333333\\n김기표삼, 880518-444444\\n김사, 880518-555555'"
      ]
     },
     "execution_count": 14,
     "metadata": {},
     "output_type": "execute_result"
    }
   ],
   "source": [
    "get_information(\"info.txt\")"
   ]
  },
  {
   "cell_type": "code",
   "execution_count": 15,
   "metadata": {
    "collapsed": false,
    "scrolled": true
   },
   "outputs": [
    {
     "data": {
      "text/plain": [
       "['김기표, 880518-1111111',\n",
       " '김기표일, 880518-222222',\n",
       " '김기표이, 880518-333333',\n",
       " '김기표삼, 880518-444444',\n",
       " '김사, 880518-555555']"
      ]
     },
     "execution_count": 15,
     "metadata": {},
     "output_type": "execute_result"
    }
   ],
   "source": [
    "info_file = get_information(\"info.txt\")\n",
    "informations = info_file.split(\"\\n\")\n",
    "informations\n",
    "# information = f.readlines()"
   ]
  },
  {
   "cell_type": "code",
   "execution_count": 16,
   "metadata": {
    "collapsed": false
   },
   "outputs": [],
   "source": [
    "# 프린트를 테스팅하는 것은 불가능\n",
    "# 프린트 하기 전에 이것을 별로 만들어주는 함수를 만들고 그것을 테스트\n",
    "def preprocess(information):\n",
    "    return information[:-7] + \"*\" * 7\n",
    "\n",
    "assert preprocess(\"김기표, 880518-1111111\") == \"김기표, 880518-*******\"\n",
    "assert preprocess(\"김기표일, 880518-2222222\") == \"김기표일, 880518-*******\""
   ]
  },
  {
   "cell_type": "code",
   "execution_count": 17,
   "metadata": {
    "collapsed": false
   },
   "outputs": [
    {
     "data": {
      "text/plain": [
       "['김기표, 880518-*******',\n",
       " '김기표일, 880518*******',\n",
       " '김기표이, 880518*******',\n",
       " '김기표삼, 880518*******',\n",
       " '김사, 880518*******']"
      ]
     },
     "execution_count": 17,
     "metadata": {},
     "output_type": "execute_result"
    }
   ],
   "source": [
    "[\n",
    "    preprocess(information)\n",
    "    for information\n",
    "    in informations\n",
    "]"
   ]
  },
  {
   "cell_type": "code",
   "execution_count": 18,
   "metadata": {
    "collapsed": false
   },
   "outputs": [
    {
     "data": {
      "text/plain": [
       "'김기표, 880518-1111111\\n김기표일, 880518-222222\\n김기표이, 880518-333333\\n김기표삼, 880518-444444\\n김사, 880518-555555'"
      ]
     },
     "execution_count": 18,
     "metadata": {},
     "output_type": "execute_result"
    }
   ],
   "source": [
    "# 정규표현식 ( = Regular Expression; Regex )\n",
    "# 기본 원리만 알면 => 다 적용할 수 있습니다. ( 기본 원리가 아주 많은 문법 )\n",
    "\n",
    "info_file"
   ]
  },
  {
   "cell_type": "code",
   "execution_count": 19,
   "metadata": {
    "collapsed": true
   },
   "outputs": [],
   "source": [
    "import re   #re라는 패키지에서 정규표현식 제공"
   ]
  },
  {
   "cell_type": "code",
   "execution_count": 20,
   "metadata": {
    "collapsed": true
   },
   "outputs": [],
   "source": [
    "pattern = re.compile(\"(?P<birth>\\d{6})[-]\\d{7}\")\n",
    "# 940223-1701234  => birth == \"940223\"   (birth는 변수명)"
   ]
  },
  {
   "cell_type": "code",
   "execution_count": 21,
   "metadata": {
    "collapsed": false
   },
   "outputs": [
    {
     "data": {
      "text/plain": [
       "'김기표, 880518-*******\\n김기표일, 880518-222222\\n김기표이, 880518-333333\\n김기표삼, 880518-444444\\n김사, 880518-555555'"
      ]
     },
     "execution_count": 21,
     "metadata": {},
     "output_type": "execute_result"
    }
   ],
   "source": [
    "pattern.sub(\"\\g<birth>-*******\", info_file)"
   ]
  }
 ],
 "metadata": {
  "kernelspec": {
   "display_name": "Python [Root]",
   "language": "python",
   "name": "Python [Root]"
  },
  "language_info": {
   "codemirror_mode": {
    "name": "ipython",
    "version": 3
   },
   "file_extension": ".py",
   "mimetype": "text/x-python",
   "name": "python",
   "nbconvert_exporter": "python",
   "pygments_lexer": "ipython3",
   "version": "3.5.1"
  }
 },
 "nbformat": 4,
 "nbformat_minor": 0
}
