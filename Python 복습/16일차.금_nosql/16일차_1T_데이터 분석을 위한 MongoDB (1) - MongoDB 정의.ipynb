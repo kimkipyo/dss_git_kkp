{
 "cells": [
  {
   "cell_type": "markdown",
   "metadata": {},
   "source": [
    "# 1T_데이터 분석을 위한 MongoDB (1) - MongoDB란"
   ]
  },
  {
   "cell_type": "markdown",
   "metadata": {},
   "source": [
    "* Mongo DB 설치 안합니다. 이미 설치가 되어 있다. 온라인에 무료로 공개 된 것이 많다.\n",
    "* 사용하는 목적은? RDB로 다루는 곳이 훨씬 많을 것이다. 스타트업은 더더욱 RDB를 쓰는 곳이 더 많다. 하지만 초당 데이터가 수십만개씩 쌓이는 곳이 있고 nosql 데이터도 많기 때문에 알고 있어야 한다."
   ]
  },
  {
   "cell_type": "markdown",
   "metadata": {},
   "source": [
    "* SQL을 사용하는 RDB와 noSQL의 차이?\n",
    " * noSQL은 종류가 매우 많아. Redis, Hadoop, Spark, MongoDB 등의 종류는 많다.\n",
    " * 다 다르기 때문에 복잡하다. noSQL은 MongoDB로 실습. 다른 부분에 적용 되는 것이 많기 때문"
   ]
  },
  {
   "cell_type": "markdown",
   "metadata": {},
   "source": [
    "* Mongo DB는 document db라고 불리기도 한다. JSON형태로(key-value). 어느 정도 데이터들의 관계까지도 나타낼 수 있다.\n",
    "* 어떤 경우에는 관계형보다 더 편하다고 생각할 수도 있다."
   ]
  },
  {
   "cell_type": "markdown",
   "metadata": {},
   "source": [
    "* table 말고 collection 안에 한 번에 넣는다. JSON형태로. JSON 하나가 row 하나\n",
    "* structure\n",
    " * Database - Collection(table대신) - Document(low 대신에. column이라는 개념이 없다.)\n",
    " * DataFrame으로 뽑으려면 전처리가 필요하다."
   ]
  },
  {
   "cell_type": "markdown",
   "metadata": {},
   "source": [
    "* robomongo 설치\n",
    "\n",
    "* mlab에 접속"
   ]
  },
  {
   "cell_type": "markdown",
   "metadata": {},
   "source": [
    "특정 값들에 대한 인덱싱이 가능하다.\n",
    "쿼리가 된다. 즉 필터링이 된다.\n",
    "\n",
    "* 데이터베이스는 그냥 프로그램이다.\n",
    "* MySQL 설치"
   ]
  }
 ],
 "metadata": {
  "kernelspec": {
   "display_name": "Python [Root]",
   "language": "python",
   "name": "Python [Root]"
  },
  "language_info": {
   "codemirror_mode": {
    "name": "ipython",
    "version": 3
   },
   "file_extension": ".py",
   "mimetype": "text/x-python",
   "name": "python",
   "nbconvert_exporter": "python",
   "pygments_lexer": "ipython3",
   "version": "3.5.1"
  }
 },
 "nbformat": 4,
 "nbformat_minor": 0
}
